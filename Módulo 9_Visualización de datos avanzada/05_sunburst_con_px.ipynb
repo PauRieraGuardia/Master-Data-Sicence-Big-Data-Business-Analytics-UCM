{
 "cells": [
  {
   "cell_type": "code",
   "execution_count": 1,
   "id": "9ee8d365",
   "metadata": {},
   "outputs": [],
   "source": [
    "import pandas as pd\n",
    "import plotly.express as px\n",
    "import numpy as np"
   ]
  },
  {
   "cell_type": "code",
   "execution_count": 3,
   "id": "8b8a3a15",
   "metadata": {},
   "outputs": [],
   "source": [
    "datosCoches = pd.read_pickle('datos_vehiculos_2016_UK.pkl')"
   ]
  },
  {
   "cell_type": "code",
   "execution_count": 4,
   "id": "4906a767",
   "metadata": {},
   "outputs": [
    {
     "data": {
      "text/plain": [
       "(4490, 20)"
      ]
     },
     "execution_count": 4,
     "metadata": {},
     "output_type": "execute_result"
    }
   ],
   "source": [
    "datosCoches.shape"
   ]
  },
  {
   "cell_type": "code",
   "execution_count": 6,
   "id": "3d4aa8bc",
   "metadata": {},
   "outputs": [
    {
     "data": {
      "text/html": [
       "<div>\n",
       "<style scoped>\n",
       "    .dataframe tbody tr th:only-of-type {\n",
       "        vertical-align: middle;\n",
       "    }\n",
       "\n",
       "    .dataframe tbody tr th {\n",
       "        vertical-align: top;\n",
       "    }\n",
       "\n",
       "    .dataframe thead th {\n",
       "        text-align: right;\n",
       "    }\n",
       "</style>\n",
       "<table border=\"1\" class=\"dataframe\">\n",
       "  <thead>\n",
       "    <tr style=\"text-align: right;\">\n",
       "      <th></th>\n",
       "      <th>Manufacturer</th>\n",
       "      <th>Model</th>\n",
       "      <th>EngineCapacity</th>\n",
       "      <th>FuelType</th>\n",
       "      <th>MetricUrbanCold</th>\n",
       "      <th>MetricExtraUrban</th>\n",
       "      <th>MetricCombined</th>\n",
       "      <th>ImperialUrbanCold</th>\n",
       "      <th>ImperialExtraUrban</th>\n",
       "      <th>ImperialCombined</th>\n",
       "      <th>CO2gkm</th>\n",
       "      <th>FuelCost12000Miles</th>\n",
       "      <th>EuroStandard</th>\n",
       "      <th>NoiseLeveldBA</th>\n",
       "      <th>EmissionsCOmgkm</th>\n",
       "      <th>THCEmissionsmgkm</th>\n",
       "      <th>EmissionsNOxmgkm</th>\n",
       "      <th>THC+NOxEmissionsmgkm</th>\n",
       "      <th>ParticulatesNo_mgkm</th>\n",
       "      <th>Tipo</th>\n",
       "    </tr>\n",
       "  </thead>\n",
       "  <tbody>\n",
       "    <tr>\n",
       "      <th>count</th>\n",
       "      <td>4490</td>\n",
       "      <td>4490</td>\n",
       "      <td>4490.000000</td>\n",
       "      <td>4490</td>\n",
       "      <td>4459.000000</td>\n",
       "      <td>4459.000000</td>\n",
       "      <td>4490.000000</td>\n",
       "      <td>4459.000000</td>\n",
       "      <td>4459.000000</td>\n",
       "      <td>4490.000000</td>\n",
       "      <td>4490.000000</td>\n",
       "      <td>4490.000000</td>\n",
       "      <td>4490.0</td>\n",
       "      <td>4490.000000</td>\n",
       "      <td>4490.000000</td>\n",
       "      <td>2230.000000</td>\n",
       "      <td>4490.000000</td>\n",
       "      <td>2289.000000</td>\n",
       "      <td>2293.000000</td>\n",
       "      <td>4490</td>\n",
       "    </tr>\n",
       "    <tr>\n",
       "      <th>unique</th>\n",
       "      <td>44</td>\n",
       "      <td>450</td>\n",
       "      <td>NaN</td>\n",
       "      <td>7</td>\n",
       "      <td>NaN</td>\n",
       "      <td>NaN</td>\n",
       "      <td>NaN</td>\n",
       "      <td>NaN</td>\n",
       "      <td>NaN</td>\n",
       "      <td>NaN</td>\n",
       "      <td>NaN</td>\n",
       "      <td>NaN</td>\n",
       "      <td>NaN</td>\n",
       "      <td>NaN</td>\n",
       "      <td>NaN</td>\n",
       "      <td>NaN</td>\n",
       "      <td>NaN</td>\n",
       "      <td>NaN</td>\n",
       "      <td>NaN</td>\n",
       "      <td>3</td>\n",
       "    </tr>\n",
       "    <tr>\n",
       "      <th>top</th>\n",
       "      <td>BMW</td>\n",
       "      <td>Coupe</td>\n",
       "      <td>NaN</td>\n",
       "      <td>Diesel</td>\n",
       "      <td>NaN</td>\n",
       "      <td>NaN</td>\n",
       "      <td>NaN</td>\n",
       "      <td>NaN</td>\n",
       "      <td>NaN</td>\n",
       "      <td>NaN</td>\n",
       "      <td>NaN</td>\n",
       "      <td>NaN</td>\n",
       "      <td>NaN</td>\n",
       "      <td>NaN</td>\n",
       "      <td>NaN</td>\n",
       "      <td>NaN</td>\n",
       "      <td>NaN</td>\n",
       "      <td>NaN</td>\n",
       "      <td>NaN</td>\n",
       "      <td>Diesel</td>\n",
       "    </tr>\n",
       "    <tr>\n",
       "      <th>freq</th>\n",
       "      <td>607</td>\n",
       "      <td>260</td>\n",
       "      <td>NaN</td>\n",
       "      <td>2274</td>\n",
       "      <td>NaN</td>\n",
       "      <td>NaN</td>\n",
       "      <td>NaN</td>\n",
       "      <td>NaN</td>\n",
       "      <td>NaN</td>\n",
       "      <td>NaN</td>\n",
       "      <td>NaN</td>\n",
       "      <td>NaN</td>\n",
       "      <td>NaN</td>\n",
       "      <td>NaN</td>\n",
       "      <td>NaN</td>\n",
       "      <td>NaN</td>\n",
       "      <td>NaN</td>\n",
       "      <td>NaN</td>\n",
       "      <td>NaN</td>\n",
       "      <td>2274</td>\n",
       "    </tr>\n",
       "    <tr>\n",
       "      <th>mean</th>\n",
       "      <td>NaN</td>\n",
       "      <td>NaN</td>\n",
       "      <td>1991.111804</td>\n",
       "      <td>NaN</td>\n",
       "      <td>6.925252</td>\n",
       "      <td>4.790491</td>\n",
       "      <td>5.549042</td>\n",
       "      <td>45.364230</td>\n",
       "      <td>62.014891</td>\n",
       "      <td>55.120445</td>\n",
       "      <td>135.823163</td>\n",
       "      <td>1086.980401</td>\n",
       "      <td>6.0</td>\n",
       "      <td>71.302249</td>\n",
       "      <td>260.113007</td>\n",
       "      <td>41.636726</td>\n",
       "      <td>37.138886</td>\n",
       "      <td>80.458934</td>\n",
       "      <td>0.300039</td>\n",
       "      <td>NaN</td>\n",
       "    </tr>\n",
       "    <tr>\n",
       "      <th>std</th>\n",
       "      <td>NaN</td>\n",
       "      <td>NaN</td>\n",
       "      <td>828.057573</td>\n",
       "      <td>NaN</td>\n",
       "      <td>2.800404</td>\n",
       "      <td>1.224893</td>\n",
       "      <td>1.794549</td>\n",
       "      <td>12.962089</td>\n",
       "      <td>12.771535</td>\n",
       "      <td>15.869631</td>\n",
       "      <td>39.732306</td>\n",
       "      <td>348.519954</td>\n",
       "      <td>0.0</td>\n",
       "      <td>1.969812</td>\n",
       "      <td>143.096498</td>\n",
       "      <td>14.819350</td>\n",
       "      <td>18.805169</td>\n",
       "      <td>22.962894</td>\n",
       "      <td>0.331194</td>\n",
       "      <td>NaN</td>\n",
       "    </tr>\n",
       "    <tr>\n",
       "      <th>min</th>\n",
       "      <td>NaN</td>\n",
       "      <td>NaN</td>\n",
       "      <td>647.000000</td>\n",
       "      <td>NaN</td>\n",
       "      <td>0.000000</td>\n",
       "      <td>0.000000</td>\n",
       "      <td>0.600000</td>\n",
       "      <td>0.000000</td>\n",
       "      <td>0.000000</td>\n",
       "      <td>17.300000</td>\n",
       "      <td>13.000000</td>\n",
       "      <td>117.000000</td>\n",
       "      <td>6.0</td>\n",
       "      <td>66.000000</td>\n",
       "      <td>10.000000</td>\n",
       "      <td>4.000000</td>\n",
       "      <td>1.000000</td>\n",
       "      <td>19.000000</td>\n",
       "      <td>0.000000</td>\n",
       "      <td>NaN</td>\n",
       "    </tr>\n",
       "    <tr>\n",
       "      <th>25%</th>\n",
       "      <td>NaN</td>\n",
       "      <td>NaN</td>\n",
       "      <td>1499.000000</td>\n",
       "      <td>NaN</td>\n",
       "      <td>5.200000</td>\n",
       "      <td>4.000000</td>\n",
       "      <td>4.400000</td>\n",
       "      <td>36.700000</td>\n",
       "      <td>53.300000</td>\n",
       "      <td>46.300000</td>\n",
       "      <td>112.000000</td>\n",
       "      <td>867.000000</td>\n",
       "      <td>6.0</td>\n",
       "      <td>70.000000</td>\n",
       "      <td>156.000000</td>\n",
       "      <td>33.000000</td>\n",
       "      <td>23.000000</td>\n",
       "      <td>66.000000</td>\n",
       "      <td>0.060000</td>\n",
       "      <td>NaN</td>\n",
       "    </tr>\n",
       "    <tr>\n",
       "      <th>50%</th>\n",
       "      <td>NaN</td>\n",
       "      <td>NaN</td>\n",
       "      <td>1968.000000</td>\n",
       "      <td>NaN</td>\n",
       "      <td>6.100000</td>\n",
       "      <td>4.500000</td>\n",
       "      <td>5.100000</td>\n",
       "      <td>46.300000</td>\n",
       "      <td>62.800000</td>\n",
       "      <td>55.400000</td>\n",
       "      <td>127.000000</td>\n",
       "      <td>999.500000</td>\n",
       "      <td>6.0</td>\n",
       "      <td>71.000000</td>\n",
       "      <td>230.000000</td>\n",
       "      <td>41.000000</td>\n",
       "      <td>36.000000</td>\n",
       "      <td>81.000000</td>\n",
       "      <td>0.180000</td>\n",
       "      <td>NaN</td>\n",
       "    </tr>\n",
       "    <tr>\n",
       "      <th>75%</th>\n",
       "      <td>NaN</td>\n",
       "      <td>NaN</td>\n",
       "      <td>1997.000000</td>\n",
       "      <td>NaN</td>\n",
       "      <td>7.700000</td>\n",
       "      <td>5.300000</td>\n",
       "      <td>6.100000</td>\n",
       "      <td>54.300000</td>\n",
       "      <td>70.600000</td>\n",
       "      <td>64.200000</td>\n",
       "      <td>149.000000</td>\n",
       "      <td>1202.000000</td>\n",
       "      <td>6.0</td>\n",
       "      <td>73.000000</td>\n",
       "      <td>329.000000</td>\n",
       "      <td>49.000000</td>\n",
       "      <td>52.000000</td>\n",
       "      <td>97.000000</td>\n",
       "      <td>0.480000</td>\n",
       "      <td>NaN</td>\n",
       "    </tr>\n",
       "    <tr>\n",
       "      <th>max</th>\n",
       "      <td>NaN</td>\n",
       "      <td>NaN</td>\n",
       "      <td>6752.000000</td>\n",
       "      <td>NaN</td>\n",
       "      <td>25.600000</td>\n",
       "      <td>11.800000</td>\n",
       "      <td>16.300000</td>\n",
       "      <td>97.400000</td>\n",
       "      <td>104.600000</td>\n",
       "      <td>470.800000</td>\n",
       "      <td>380.000000</td>\n",
       "      <td>3185.000000</td>\n",
       "      <td>6.0</td>\n",
       "      <td>76.000000</td>\n",
       "      <td>913.000000</td>\n",
       "      <td>412.000000</td>\n",
       "      <td>169.000000</td>\n",
       "      <td>163.000000</td>\n",
       "      <td>3.050000</td>\n",
       "      <td>NaN</td>\n",
       "    </tr>\n",
       "  </tbody>\n",
       "</table>\n",
       "</div>"
      ],
      "text/plain": [
       "       Manufacturer  Model  EngineCapacity FuelType  MetricUrbanCold  \\\n",
       "count          4490   4490     4490.000000     4490      4459.000000   \n",
       "unique           44    450             NaN        7              NaN   \n",
       "top             BMW  Coupe             NaN   Diesel              NaN   \n",
       "freq            607    260             NaN     2274              NaN   \n",
       "mean            NaN    NaN     1991.111804      NaN         6.925252   \n",
       "std             NaN    NaN      828.057573      NaN         2.800404   \n",
       "min             NaN    NaN      647.000000      NaN         0.000000   \n",
       "25%             NaN    NaN     1499.000000      NaN         5.200000   \n",
       "50%             NaN    NaN     1968.000000      NaN         6.100000   \n",
       "75%             NaN    NaN     1997.000000      NaN         7.700000   \n",
       "max             NaN    NaN     6752.000000      NaN        25.600000   \n",
       "\n",
       "        MetricExtraUrban  MetricCombined  ImperialUrbanCold  \\\n",
       "count        4459.000000     4490.000000        4459.000000   \n",
       "unique               NaN             NaN                NaN   \n",
       "top                  NaN             NaN                NaN   \n",
       "freq                 NaN             NaN                NaN   \n",
       "mean            4.790491        5.549042          45.364230   \n",
       "std             1.224893        1.794549          12.962089   \n",
       "min             0.000000        0.600000           0.000000   \n",
       "25%             4.000000        4.400000          36.700000   \n",
       "50%             4.500000        5.100000          46.300000   \n",
       "75%             5.300000        6.100000          54.300000   \n",
       "max            11.800000       16.300000          97.400000   \n",
       "\n",
       "        ImperialExtraUrban  ImperialCombined       CO2gkm  FuelCost12000Miles  \\\n",
       "count          4459.000000       4490.000000  4490.000000         4490.000000   \n",
       "unique                 NaN               NaN          NaN                 NaN   \n",
       "top                    NaN               NaN          NaN                 NaN   \n",
       "freq                   NaN               NaN          NaN                 NaN   \n",
       "mean             62.014891         55.120445   135.823163         1086.980401   \n",
       "std              12.771535         15.869631    39.732306          348.519954   \n",
       "min               0.000000         17.300000    13.000000          117.000000   \n",
       "25%              53.300000         46.300000   112.000000          867.000000   \n",
       "50%              62.800000         55.400000   127.000000          999.500000   \n",
       "75%              70.600000         64.200000   149.000000         1202.000000   \n",
       "max             104.600000        470.800000   380.000000         3185.000000   \n",
       "\n",
       "        EuroStandard  NoiseLeveldBA  EmissionsCOmgkm  THCEmissionsmgkm  \\\n",
       "count         4490.0    4490.000000      4490.000000       2230.000000   \n",
       "unique           NaN            NaN              NaN               NaN   \n",
       "top              NaN            NaN              NaN               NaN   \n",
       "freq             NaN            NaN              NaN               NaN   \n",
       "mean             6.0      71.302249       260.113007         41.636726   \n",
       "std              0.0       1.969812       143.096498         14.819350   \n",
       "min              6.0      66.000000        10.000000          4.000000   \n",
       "25%              6.0      70.000000       156.000000         33.000000   \n",
       "50%              6.0      71.000000       230.000000         41.000000   \n",
       "75%              6.0      73.000000       329.000000         49.000000   \n",
       "max              6.0      76.000000       913.000000        412.000000   \n",
       "\n",
       "        EmissionsNOxmgkm  THC+NOxEmissionsmgkm  ParticulatesNo_mgkm    Tipo  \n",
       "count        4490.000000           2289.000000          2293.000000    4490  \n",
       "unique               NaN                   NaN                  NaN       3  \n",
       "top                  NaN                   NaN                  NaN  Diesel  \n",
       "freq                 NaN                   NaN                  NaN    2274  \n",
       "mean           37.138886             80.458934             0.300039     NaN  \n",
       "std            18.805169             22.962894             0.331194     NaN  \n",
       "min             1.000000             19.000000             0.000000     NaN  \n",
       "25%            23.000000             66.000000             0.060000     NaN  \n",
       "50%            36.000000             81.000000             0.180000     NaN  \n",
       "75%            52.000000             97.000000             0.480000     NaN  \n",
       "max           169.000000            163.000000             3.050000     NaN  "
      ]
     },
     "execution_count": 6,
     "metadata": {},
     "output_type": "execute_result"
    }
   ],
   "source": [
    "datosCoches.describe(include='all')"
   ]
  },
  {
   "cell_type": "markdown",
   "id": "a5707b44",
   "metadata": {},
   "source": [
    "El gráfico anterior indica, mediante un diagrama de barras verticales, el número de vehículos de cada marca/fabricante en el Reino Unido durante el año 2016, ordenados de mayor a menor incidencia en el parque automovilístico del país."
   ]
  },
  {
   "cell_type": "code",
   "execution_count": 8,
   "id": "9f9d206f",
   "metadata": {},
   "outputs": [
    {
     "name": "stderr",
     "output_type": "stream",
     "text": [
      "C:\\Users\\pauri\\AppData\\Local\\Temp\\ipykernel_14964\\3456850245.py:1: FutureWarning:\n",
      "\n",
      "pandas.value_counts is deprecated and will be removed in a future version. Use pd.Series(obj).value_counts() instead.\n",
      "\n"
     ]
    }
   ],
   "source": [
    "vehiculosXcombustible = pd.value_counts(datosCoches['FuelType'],sort=True)"
   ]
  },
  {
   "cell_type": "code",
   "execution_count": 10,
   "id": "423849e3",
   "metadata": {},
   "outputs": [
    {
     "data": {
      "application/vnd.plotly.v1+json": {
       "config": {
        "plotlyServerURL": "https://plot.ly"
       },
       "data": [
        {
         "branchvalues": "total",
         "customdata": {
          "bdata": "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",
          "dtype": "f8",
          "shape": "499, 1"
         },
         "domain": {
          "x": [
           0,
           1
          ],
          "y": [
           0,
           1
          ]
         },
         "hovertemplate": "labels=%{label}<br>CO2gkm_sum=%{value}<br>parent=%{parent}<br>id=%{id}<br>CO2 - G/KM=%{color}<extra></extra>",
         "ids": [
          "Marcas/fabricantes/ABARTH/500, 2012 onwards",
          "Marcas/fabricantes/ABARTH/New Abarth 595, 2016 Onwards",
          "Marcas/fabricantes/ALFA ROMEO/Alfa 4C Spider, September 2015 on",
          "Marcas/fabricantes/ALFA ROMEO/Alfa 4C, April 2014 on",
          "Marcas/fabricantes/ALFA ROMEO/Giulietta",
          "Marcas/fabricantes/ALFA ROMEO/MiTo, 2012 onwards",
          "Marcas/fabricantes/ASTON MARTIN LAGONDA/DB9 GT, MY2016",
          "Marcas/fabricantes/ASTON MARTIN LAGONDA/DB9 MY2015, from May 2014",
          "Marcas/fabricantes/ASTON MARTIN LAGONDA/Rapide S MY2015, from Sept 2014",
          "Marcas/fabricantes/ASTON MARTIN LAGONDA/Rapide S, MY2016",
          "Marcas/fabricantes/ASTON MARTIN LAGONDA/V12 Vantage S MY2015, from March 2014",
          "Marcas/fabricantes/ASTON MARTIN LAGONDA/V12 Vantage S, MY2016",
          "Marcas/fabricantes/ASTON MARTIN LAGONDA/V8 Vantage/V8 Vantage S/N430, MY2016",
          "Marcas/fabricantes/ASTON MARTIN LAGONDA/V8 Vantage/Vantage S/N430 MY2015, from May 2014",
          "Marcas/fabricantes/ASTON MARTIN LAGONDA/Vanquish MY2015, from Sept 2014",
          "Marcas/fabricantes/ASTON MARTIN LAGONDA/Vanquish, MY2016",
          "Marcas/fabricantes/ASTON MARTIN LAGONDA/Vantage GT12, MY2016",
          "Marcas/fabricantes/AUDI/A1",
          "Marcas/fabricantes/AUDI/A1 Sportback",
          "Marcas/fabricantes/AUDI/A3 Cabriolet",
          "Marcas/fabricantes/AUDI/A3 Hatchback",
          "Marcas/fabricantes/AUDI/A3 Saloon",
          "Marcas/fabricantes/AUDI/A3 Sportback",
          "Marcas/fabricantes/AUDI/A4 Allroad",
          "Marcas/fabricantes/AUDI/A5 Cabriolet",
          "Marcas/fabricantes/AUDI/Coupe",
          "Marcas/fabricantes/AUDI/A5 Sportback",
          "Marcas/fabricantes/AUDI/A6 Allroad",
          "Marcas/fabricantes/AUDI/A6 Avant",
          "Marcas/fabricantes/AUDI/A6 Saloon",
          "Marcas/fabricantes/AUDI/A7 Sportback",
          "Marcas/fabricantes/AUDI/A8",
          "Marcas/fabricantes/AUDI/New A4 Avant",
          "Marcas/fabricantes/AUDI/New A4 Saloon",
          "Marcas/fabricantes/AUDI/Q3",
          "Marcas/fabricantes/AUDI/Q5",
          "Marcas/fabricantes/AUDI/Q7",
          "Marcas/fabricantes/AUDI/R8 Spyder",
          "Marcas/fabricantes/AUDI/RS Series",
          "Marcas/fabricantes/AUDI/TT Roadster",
          "Marcas/fabricantes/BENTLEY MOTORS/Bentayga, MY2017",
          "Marcas/fabricantes/BENTLEY MOTORS/Continental",
          "Marcas/fabricantes/BENTLEY MOTORS/Continental, MY2016",
          "Marcas/fabricantes/BENTLEY MOTORS/Flying Spur, MY2015",
          "Marcas/fabricantes/BENTLEY MOTORS/Flying Spur, MY2017",
          "Marcas/fabricantes/BENTLEY MOTORS/Mulsanne, MY2017",
          "Marcas/fabricantes/BMW/1 Series 3-door F21, From September 2012",
          "Marcas/fabricantes/BMW/1 Series 5-door F20, From September 2011",
          "Marcas/fabricantes/BMW/2 Series Active Tourer F45, From March 2016",
          "Marcas/fabricantes/BMW/2 Series Active Tourer F45, From September 2014",
          "Marcas/fabricantes/BMW/2 Series Convertible F23, From February 2015",
          "Marcas/fabricantes/BMW/2 Series Convertible F23, From July 2015",
          "Marcas/fabricantes/BMW/Coupe",
          "Marcas/fabricantes/BMW/2 Series Gran Tourer F46, From June 2015",
          "Marcas/fabricantes/BMW/2 Series Gran Tourer F46, From March 2016",
          "Marcas/fabricantes/BMW/3 Series Gran Turismo F34, From June 2013",
          "Marcas/fabricantes/BMW/3 Series Saloon F30, From February 2012",
          "Marcas/fabricantes/BMW/3 Series Touring F31, from September 2012",
          "Marcas/fabricantes/BMW/4 Series Convertible F33, From March 2014",
          "Marcas/fabricantes/BMW/4 Series Convertible F33, From March 2016",
          "Marcas/fabricantes/BMW/5 Series F10/F11, From March 2010",
          "Marcas/fabricantes/BMW/5 Series Gran Turismo F07, From October 2009",
          "Marcas/fabricantes/BMW/6 Series F12/F13, March 2011",
          "Marcas/fabricantes/BMW/7 Series G11/G12, From October 2015",
          "Marcas/fabricantes/BMW/i Series, From November 2013",
          "Marcas/fabricantes/BMW/M3 Series Saloon F80, From June 2014",
          "Marcas/fabricantes/BMW/M4 Series Convertible F83, From September 2014",
          "Marcas/fabricantes/BMW/X1 Series F48, From March 2016",
          "Marcas/fabricantes/BMW/X1 Series F48, From October 2015",
          "Marcas/fabricantes/BMW/X3 Series F25, From November 2010",
          "Marcas/fabricantes/BMW/X4 Series F26, From July 2014",
          "Marcas/fabricantes/BMW/X5 M Series F85, From April 2015",
          "Marcas/fabricantes/BMW/X5 Series F15, From November 2013",
          "Marcas/fabricantes/BMW/X6 M Series F86, From April 2015",
          "Marcas/fabricantes/BMW/X6 Series F16, From December 2014",
          "Marcas/fabricantes/BMW/Z4 Series E89 Roadster",
          "Marcas/fabricantes/CHRYSLER JEEP/Jeep Cherokee, MY 2015",
          "Marcas/fabricantes/CHRYSLER JEEP/Jeep Cherokee, MY2016",
          "Marcas/fabricantes/CHRYSLER JEEP/Jeep Compass, MY 2015",
          "Marcas/fabricantes/CHRYSLER JEEP/Jeep Grand Cherokee, MY 2014",
          "Marcas/fabricantes/CHRYSLER JEEP/Jeep Grand Cherokee, MY 2015",
          "Marcas/fabricantes/CHRYSLER JEEP/Jeep Grand Cherokee, MY2016",
          "Marcas/fabricantes/CHRYSLER JEEP/Jeep Renegade, MY2015",
          "Marcas/fabricantes/CHRYSLER JEEP/Jeep Renegade, MY2016",
          "Marcas/fabricantes/CHRYSLER JEEP/Jeep Wrangler, MY 2015",
          "Marcas/fabricantes/CHRYSLER JEEP/Jeep Wrangler, MY 2016",
          "Marcas/fabricantes/CITROEN/Berlingo Multispace",
          "Marcas/fabricantes/CITROEN/C1",
          "Marcas/fabricantes/CITROEN/C3",
          "Marcas/fabricantes/CITROEN/C3 Picasso",
          "Marcas/fabricantes/CITROEN/C4",
          "Marcas/fabricantes/CITROEN/C4 Cactus",
          "Marcas/fabricantes/CITROEN/C4 Picasso",
          "Marcas/fabricantes/CITROEN/C5 Tourer",
          "Marcas/fabricantes/CITROEN/Grand C4 Picasso",
          "Marcas/fabricantes/DACIA/Duster Euro6, 2015",
          "Marcas/fabricantes/DACIA/Logan MCV Euro6, 2015",
          "Marcas/fabricantes/DACIA/Sandero  Stepway Euro6, 2015",
          "Marcas/fabricantes/DACIA/Sandero Euro6 2015",
          "Marcas/fabricantes/DS/DS3",
          "Marcas/fabricantes/DS/DS3 Cabriolet",
          "Marcas/fabricantes/DS/New DS3",
          "Marcas/fabricantes/DS/New DS3 Cabriolet",
          "Marcas/fabricantes/DS/New DS4",
          "Marcas/fabricantes/DS/New DS4 Crossback",
          "Marcas/fabricantes/DS/New DS5",
          "Marcas/fabricantes/FERRARI/All Models",
          "Marcas/fabricantes/FIAT/500 & 500C, September 2015 onwards",
          "Marcas/fabricantes/FIAT/500 X, 2015 onwards",
          "Marcas/fabricantes/FIAT/500L MPW, August 2013 onwards",
          "Marcas/fabricantes/FIAT/500L, from 2013 onwards",
          "Marcas/fabricantes/FIAT/Doblo, 2015 onwards",
          "Marcas/fabricantes/FIAT/Panda, From February 2012 onwards",
          "Marcas/fabricantes/FIAT/Punto, 2012 onwards",
          "Marcas/fabricantes/FIAT/Qubo, 2012 onwards",
          "Marcas/fabricantes/FORD/All New C-Max, Model Year Post 2016¼",
          "Marcas/fabricantes/FORD/All New C-Max, Model Year Pre 2016¼",
          "Marcas/fabricantes/FORD/All New Focus, Model Year Post 2016½",
          "Marcas/fabricantes/FORD/All New Focus, Model Year Pre 2016½",
          "Marcas/fabricantes/FORD/All New Galaxy, Model Year Post 2016¾",
          "Marcas/fabricantes/FORD/All New Galaxy, Model Year Pre 2016¾",
          "Marcas/fabricantes/FORD/All New Grand C-Max, Model Year Post 2016¼",
          "Marcas/fabricantes/FORD/All New Grand C-Max, Model Year Pre 2016¼",
          "Marcas/fabricantes/FORD/All New Mondeo, Model Year Post 2016¾",
          "Marcas/fabricantes/FORD/All New Mondeo, Model Year Pre 2016¾",
          "Marcas/fabricantes/FORD/All New S-MAX, Model Year Post 2016¾",
          "Marcas/fabricantes/FORD/All New S-MAX, Model Year Pre 2016¾",
          "Marcas/fabricantes/FORD/B-MAX, Model Year Post 2015¾",
          "Marcas/fabricantes/FORD/EcoSport, Model Year Post 2016¾",
          "Marcas/fabricantes/FORD/EcoSport, Model Year Pre 2016¾",
          "Marcas/fabricantes/FORD/Edge, Model Year Post 2016",
          "Marcas/fabricantes/FORD/Fiesta, Model Year Post 2017",
          "Marcas/fabricantes/FORD/Fiesta, Model Year Pre 2017",
          "Marcas/fabricantes/FORD/Grand Tourneo Connect, Model Year Post 2016¼",
          "Marcas/fabricantes/FORD/Grand Tourneo Connect, Model Year Pre 2016¼",
          "Marcas/fabricantes/FORD/Ka, Model Year Post 2015½",
          "Marcas/fabricantes/FORD/KA+, Model Year Post 2016¾",
          "Marcas/fabricantes/FORD/Kuga, Model Year Post 2016½",
          "Marcas/fabricantes/FORD/Kuga, Model Year Pre 2016½",
          "Marcas/fabricantes/FORD/Mondeo Vignale, Model Year Post 2016¾",
          "Marcas/fabricantes/FORD/Mondeo Vignale, Model Year Pre 2016¾",
          "Marcas/fabricantes/FORD/Mustang, Model Year Post 2015¾",
          "Marcas/fabricantes/FORD/S-MAX Vignale, Model Year Post 2017",
          "Marcas/fabricantes/FORD/Tourneo Connect, Model Year Post 2016½",
          "Marcas/fabricantes/FORD/Tourneo Connect, Model Year Pre 2016½",
          "Marcas/fabricantes/FORD/Tourneo Courier Kombi - , Model Year Post 2015¾",
          "Marcas/fabricantes/FORD/Tourneo Custom - 310 Long Wheelbase, Model Year Post 2016½",
          "Marcas/fabricantes/FORD/Tourneo Custom - 310 Short Wheelbase, Model Year Post 2016½",
          "Marcas/fabricantes/HONDA/Civic Hatchback, Model Year 2015",
          "Marcas/fabricantes/HONDA/Civic Tourer, Model Year 2015",
          "Marcas/fabricantes/HONDA/CR-V, Model Year 2015",
          "Marcas/fabricantes/HONDA/HR-V, Model Year 2016",
          "Marcas/fabricantes/HONDA/Jazz, Model Year 2016",
          "Marcas/fabricantes/HYUNDAI/Genesis",
          "Marcas/fabricantes/HYUNDAI/i10",
          "Marcas/fabricantes/HYUNDAI/i20",
          "Marcas/fabricantes/HYUNDAI/i20 Active",
          "Marcas/fabricantes/HYUNDAI/i30",
          "Marcas/fabricantes/HYUNDAI/i30 Tourer",
          "Marcas/fabricantes/HYUNDAI/i40",
          "Marcas/fabricantes/HYUNDAI/i800",
          "Marcas/fabricantes/HYUNDAI/ix20",
          "Marcas/fabricantes/HYUNDAI/Santa Fe",
          "Marcas/fabricantes/HYUNDAI/Tucson",
          "Marcas/fabricantes/INFINITI/Q30 Euro6, 2016",
          "Marcas/fabricantes/INFINITI/Q50 Euro6, 2016",
          "Marcas/fabricantes/INFINITI/Q70 Euro6, 2016",
          "Marcas/fabricantes/JAGUAR/F-PACE, 17MY",
          "Marcas/fabricantes/JAGUAR/F-TYPE Automatic RWD, 16MY",
          "Marcas/fabricantes/JAGUAR/F-TYPE Manual RWD, 16MY",
          "Marcas/fabricantes/JAGUAR/F-TYPE R Automatic AWD, 16MY",
          "Marcas/fabricantes/JAGUAR/F-TYPE R Automatic RWD, 16MY",
          "Marcas/fabricantes/JAGUAR/F-TYPE S Automatic AWD, 16MY",
          "Marcas/fabricantes/JAGUAR/F-TYPE S Automatic RWD, 16MY",
          "Marcas/fabricantes/JAGUAR/F-TYPE S Manual RWD, 16MY",
          "Marcas/fabricantes/JAGUAR/F-TYPE SVR Automatic AWD, 17MY",
          "Marcas/fabricantes/JAGUAR/XE Saloon, 16MY",
          "Marcas/fabricantes/JAGUAR/XE Saloon, 17MY",
          "Marcas/fabricantes/JAGUAR/XF Saloon, 16MY",
          "Marcas/fabricantes/JAGUAR/XF Saloon, 17MY",
          "Marcas/fabricantes/JAGUAR/XJ Saloon, 16MY",
          "Marcas/fabricantes/KIA/Carens",
          "Marcas/fabricantes/KIA/cee'd",
          "Marcas/fabricantes/KIA/cee'd SW",
          "Marcas/fabricantes/KIA/Picanto 3-door",
          "Marcas/fabricantes/KIA/Picanto 5-door",
          "Marcas/fabricantes/KIA/pro_cee'd",
          "Marcas/fabricantes/KIA/Rio 3-door",
          "Marcas/fabricantes/KIA/Rio 5-door",
          "Marcas/fabricantes/KIA/Sorento",
          "Marcas/fabricantes/KIA/Soul",
          "Marcas/fabricantes/KIA/Sportage",
          "Marcas/fabricantes/KIA/Venga",
          "Marcas/fabricantes/LAMBORGHINI/Aventador",
          "Marcas/fabricantes/LAMBORGHINI/Huracan",
          "Marcas/fabricantes/LAND ROVER/Discovery 16MY",
          "Marcas/fabricantes/LAND ROVER/Discovery Sport 16MY",
          "Marcas/fabricantes/LAND ROVER/Range Rover 16MY",
          "Marcas/fabricantes/LAND ROVER/Range Rover Evoque 16MY",
          "Marcas/fabricantes/LAND ROVER/Range Rover Sport 16MY",
          "Marcas/fabricantes/LEXUS/CT, MY2015",
          "Marcas/fabricantes/LEXUS/CT200h, MY2016",
          "Marcas/fabricantes/LEXUS/GS F, MY2016",
          "Marcas/fabricantes/LEXUS/GS, MY2014",
          "Marcas/fabricantes/LEXUS/GS300h, MY2016",
          "Marcas/fabricantes/LEXUS/GS450h, MY2016",
          "Marcas/fabricantes/LEXUS/IS, MY2015",
          "Marcas/fabricantes/LEXUS/IS300h, MY2016",
          "Marcas/fabricantes/LEXUS/LS",
          "Marcas/fabricantes/LEXUS/NX, MY2015",
          "Marcas/fabricantes/LEXUS/RC 200t, MY2015",
          "Marcas/fabricantes/LEXUS/RC F, MY2015",
          "Marcas/fabricantes/LEXUS/RC300h, MY2015",
          "Marcas/fabricantes/LEXUS/RX, MY2015",
          "Marcas/fabricantes/LONDON TAXI COMPANY/Taxi - TX4",
          "Marcas/fabricantes/MASERATI/Ghibli",
          "Marcas/fabricantes/MASERATI/Quattroporte",
          "Marcas/fabricantes/MAZDA/CX-3",
          "Marcas/fabricantes/MAZDA/CX-5",
          "Marcas/fabricantes/MAZDA/Mazda2",
          "Marcas/fabricantes/MAZDA/Mazda3 4 door",
          "Marcas/fabricantes/MAZDA/Mazda3 5 door",
          "Marcas/fabricantes/MAZDA/Mazda6 Saloon",
          "Marcas/fabricantes/MAZDA/Mazda6 Tourer",
          "Marcas/fabricantes/MAZDA/MX-5",
          "Marcas/fabricantes/McLaren/540C",
          "Marcas/fabricantes/McLaren/570GT",
          "Marcas/fabricantes/McLaren/570S",
          "Marcas/fabricantes/McLaren/625C, MY2015",
          "Marcas/fabricantes/McLaren/650S Can-Am",
          "Marcas/fabricantes/McLaren/650S Le Mans, MY2015",
          "Marcas/fabricantes/McLaren/650S, MY2015",
          "Marcas/fabricantes/McLaren/675LT, MY2016",
          "Marcas/fabricantes/MERCEDES-BENZ/A-Class, Model Year 2016",
          "Marcas/fabricantes/MERCEDES-BENZ/A-Class, Model Year 2017",
          "Marcas/fabricantes/MERCEDES-BENZ/AMG GT, Model Year 2016",
          "Marcas/fabricantes/MERCEDES-BENZ/B-Class, Model Year 2016",
          "Marcas/fabricantes/MERCEDES-BENZ/Coupe",
          "Marcas/fabricantes/MERCEDES-BENZ/C-Class Estate, Model Year 2016",
          "Marcas/fabricantes/MERCEDES-BENZ/C-Class Saloon, Model Year 2016",
          "Marcas/fabricantes/MERCEDES-BENZ/CLA Shooting Brake, Model Year 2016",
          "Marcas/fabricantes/MERCEDES-BENZ/CLA Shooting Brake, Model Year 2017",
          "Marcas/fabricantes/MERCEDES-BENZ/CLS Shooting Brake, Model Year 2016",
          "Marcas/fabricantes/MERCEDES-BENZ/CLS Shooting Brake, Model Year 2017",
          "Marcas/fabricantes/MERCEDES-BENZ/E-Class Cabriolet, Model Year 2016",
          "Marcas/fabricantes/MERCEDES-BENZ/E-Class Estate, Model Year 2016",
          "Marcas/fabricantes/MERCEDES-BENZ/E-Class Saloon, Model Year 2016",
          "Marcas/fabricantes/MERCEDES-BENZ/E-Class Saloon, Model Year 2017",
          "Marcas/fabricantes/MERCEDES-BENZ/G-Class, Model Year 2017",
          "Marcas/fabricantes/MERCEDES-BENZ/GLA Class, Model Year 2016",
          "Marcas/fabricantes/MERCEDES-BENZ/GLC, Model Year 2016",
          "Marcas/fabricantes/MERCEDES-BENZ/GL-Class, Model Year 2016",
          "Marcas/fabricantes/MERCEDES-BENZ/GLE Estate, Model Year 2016",
          "Marcas/fabricantes/MERCEDES-BENZ/GLE Estate, Model Year 2016½",
          "Marcas/fabricantes/MERCEDES-BENZ/GLS, Model Year 2017",
          "Marcas/fabricantes/MERCEDES-BENZ/S-Class Cabriolet, Model Year 2016",
          "Marcas/fabricantes/MERCEDES-BENZ/S-Class Limousine, Model Year 2016",
          "Marcas/fabricantes/MERCEDES-BENZ/S-Class Limousine, Model Year 2016½",
          "Marcas/fabricantes/MERCEDES-BENZ/S-Class Saloon, Model Year 2016",
          "Marcas/fabricantes/MERCEDES-BENZ/S-Class Saloon, Model Year 2016½",
          "Marcas/fabricantes/MERCEDES-BENZ/SL, Model Year 2016",
          "Marcas/fabricantes/MERCEDES-BENZ/SL, Model Year 2017",
          "Marcas/fabricantes/MERCEDES-BENZ/SLC, Model Year 2017",
          "Marcas/fabricantes/MERCEDES-BENZ/SLK-Class, Model Year 2016",
          "Marcas/fabricantes/MERCEDES-BENZ/V-Class, Model Year 2016",
          "Marcas/fabricantes/MINI/MINI 3-door Hatchback F56, From March 2014",
          "Marcas/fabricantes/MINI/MINI 3-door Hatchback F56, From March 2016",
          "Marcas/fabricantes/MINI/MINI 5-door Hatchback F55, From October 2014",
          "Marcas/fabricantes/MINI/MINI Clubman F54, From October 2015",
          "Marcas/fabricantes/MINI/MINI Convertible F57, From March 2016",
          "Marcas/fabricantes/MINI/MINI Countryman R60, From September 2010",
          "Marcas/fabricantes/MINI/Coupe",
          "Marcas/fabricantes/MINI/MINI Paceman R61, From November 2012",
          "Marcas/fabricantes/MINI/MINI Roadster R59, From April 2012",
          "Marcas/fabricantes/MITSUBISHI/ASX",
          "Marcas/fabricantes/MITSUBISHI/Mirage",
          "Marcas/fabricantes/MITSUBISHI/Outlander",
          "Marcas/fabricantes/MITSUBISHI/Outlander PHEV, 2014",
          "Marcas/fabricantes/MITSUBISHI/Shogun",
          "Marcas/fabricantes/NISSAN/370Z Euro6, 2016",
          "Marcas/fabricantes/NISSAN/GTR Euro6, 2016",
          "Marcas/fabricantes/NISSAN/Juke Euro6, 2015",
          "Marcas/fabricantes/NISSAN/Juke, 2014/15",
          "Marcas/fabricantes/NISSAN/Micra Euro6, 2015",
          "Marcas/fabricantes/NISSAN/Note Euro6, 2015",
          "Marcas/fabricantes/NISSAN/NV200 EURO6, 2015",
          "Marcas/fabricantes/NISSAN/Pulsar Euro6, 2015",
          "Marcas/fabricantes/NISSAN/Qashqai Euro6, 2015",
          "Marcas/fabricantes/NISSAN/XTrail Euro6, 2015",
          "Marcas/fabricantes/PEUGEOT/108",
          "Marcas/fabricantes/PEUGEOT/208",
          "Marcas/fabricantes/PEUGEOT/308",
          "Marcas/fabricantes/PEUGEOT/508",
          "Marcas/fabricantes/PEUGEOT/2008",
          "Marcas/fabricantes/PEUGEOT/3008",
          "Marcas/fabricantes/PEUGEOT/5008",
          "Marcas/fabricantes/PEUGEOT/308 SW",
          "Marcas/fabricantes/PEUGEOT/508 RXH",
          "Marcas/fabricantes/PEUGEOT/508 SW",
          "Marcas/fabricantes/PEUGEOT/Partner Tepee",
          "Marcas/fabricantes/PORSCHE/718",
          "Marcas/fabricantes/PORSCHE/911 (991 II)",
          "Marcas/fabricantes/PORSCHE/911 (991)",
          "Marcas/fabricantes/PORSCHE/Boxster",
          "Marcas/fabricantes/PORSCHE/Cayenne",
          "Marcas/fabricantes/PORSCHE/Cayman",
          "Marcas/fabricantes/PORSCHE/Macan",
          "Marcas/fabricantes/PORSCHE/Panamera",
          "Marcas/fabricantes/RENAULT/Captur Euro6, 2015",
          "Marcas/fabricantes/RENAULT/Clio Euro6, 2015",
          "Marcas/fabricantes/RENAULT/Clio Sport Tourer Euro6, 2015",
          "Marcas/fabricantes/RENAULT/Grand Scenic Euro6, 2015",
          "Marcas/fabricantes/RENAULT/Kadjar Euro6, 2015",
          "Marcas/fabricantes/RENAULT/Megane 2016",
          "Marcas/fabricantes/RENAULT/Coupe",
          "Marcas/fabricantes/RENAULT/Mégane Hatchback Euro6, 2015",
          "Marcas/fabricantes/RENAULT/Megane Renault Sport Euro6, 2015",
          "Marcas/fabricantes/RENAULT/Mégane Sport Tourer Euro6, 2015",
          "Marcas/fabricantes/RENAULT/Scenic Euro6, 2015",
          "Marcas/fabricantes/RENAULT/Trafic Euro6, 2016",
          "Marcas/fabricantes/RENAULT/Twingo Euro6, 2015",
          "Marcas/fabricantes/RENAULT/X Mod Euro6, 2015",
          "Marcas/fabricantes/Rolls Royce/Dawn",
          "Marcas/fabricantes/Rolls Royce/Ghost",
          "Marcas/fabricantes/Rolls Royce/Phantom",
          "Marcas/fabricantes/Rolls Royce/Wraith",
          "Marcas/fabricantes/SEAT/Alhambra",
          "Marcas/fabricantes/SEAT/Ateca",
          "Marcas/fabricantes/SEAT/Ibiza 5 door",
          "Marcas/fabricantes/SEAT/Ibiza SC",
          "Marcas/fabricantes/SEAT/Ibiza ST",
          "Marcas/fabricantes/SEAT/Leon 5 Door",
          "Marcas/fabricantes/SEAT/Leon SC",
          "Marcas/fabricantes/SEAT/Leon ST",
          "Marcas/fabricantes/SEAT/Leon X-Perience",
          "Marcas/fabricantes/SEAT/Mii",
          "Marcas/fabricantes/SEAT/Toledo",
          "Marcas/fabricantes/SKODA/Citigo",
          "Marcas/fabricantes/SKODA/Fabia Estate",
          "Marcas/fabricantes/SKODA/Fabia Hatchback",
          "Marcas/fabricantes/SKODA/New Superb Estate",
          "Marcas/fabricantes/SKODA/New Superb Saloon",
          "Marcas/fabricantes/SKODA/Octavia Estate",
          "Marcas/fabricantes/SKODA/Octavia Hatchback",
          "Marcas/fabricantes/SKODA/Rapid",
          "Marcas/fabricantes/SKODA/Rapid Spaceback",
          "Marcas/fabricantes/SKODA/Superb Estate",
          "Marcas/fabricantes/SKODA/Superb Saloon",
          "Marcas/fabricantes/SKODA/Yeti",
          "Marcas/fabricantes/SMART/forfour, Model Year 2016",
          "Marcas/fabricantes/SMART/fortwo cabrio, Model Year 2016",
          "Marcas/fabricantes/SMART/fortwo coupé, Model Year 2016",
          "Marcas/fabricantes/SSANGYONG/Korando",
          "Marcas/fabricantes/SSANGYONG/Rexton W",
          "Marcas/fabricantes/SSANGYONG/Tivoli",
          "Marcas/fabricantes/SSANGYONG/Turismo",
          "Marcas/fabricantes/SUBARU/Forester AWD, From 2015 MY",
          "Marcas/fabricantes/SUBARU/Levorg AWD, From 2016 MY",
          "Marcas/fabricantes/SUBARU/Outback AWD, From 2015 MY",
          "Marcas/fabricantes/SUBARU/WRX STI AWD, From 2015 MY",
          "Marcas/fabricantes/SUBARU/XV AWD, From 2015MY",
          "Marcas/fabricantes/SUZUKI/Celerio",
          "Marcas/fabricantes/SUZUKI/Jimny",
          "Marcas/fabricantes/SUZUKI/Swift",
          "Marcas/fabricantes/SUZUKI/SX4 S-Cross",
          "Marcas/fabricantes/SUZUKI/Vitara",
          "Marcas/fabricantes/TOYOTA/Auris, MY2015",
          "Marcas/fabricantes/TOYOTA/Avensis, MY2015",
          "Marcas/fabricantes/TOYOTA/Aygo, MY2015",
          "Marcas/fabricantes/TOYOTA/GT86, MY2016",
          "Marcas/fabricantes/TOYOTA/Land Cruiser, MY2016",
          "Marcas/fabricantes/TOYOTA/Prius Plug-In, MY2012",
          "Marcas/fabricantes/TOYOTA/Prius Plus, MY2015",
          "Marcas/fabricantes/TOYOTA/Prius, 2016",
          "Marcas/fabricantes/TOYOTA/Prius, MY2012",
          "Marcas/fabricantes/TOYOTA/RAV4, MY2015",
          "Marcas/fabricantes/TOYOTA/RAV4, MY2016",
          "Marcas/fabricantes/TOYOTA/Verso MY2016",
          "Marcas/fabricantes/TOYOTA/Verso, 2016",
          "Marcas/fabricantes/TOYOTA/Verso, MY2015",
          "Marcas/fabricantes/TOYOTA/Yaris, 2016",
          "Marcas/fabricantes/VAUXHALL/Adam 3 Door Hatchback, Model Year 2015",
          "Marcas/fabricantes/VAUXHALL/Adam 3 Door Hatchback, Model Year 2016",
          "Marcas/fabricantes/VAUXHALL/Astra 5 Door Hatchback, Model Year 2015",
          "Marcas/fabricantes/VAUXHALL/Astra 5 Door Hatchback, Model Year 2016",
          "Marcas/fabricantes/VAUXHALL/Astra 5 Door Sports Tourer, Model Year 2015",
          "Marcas/fabricantes/VAUXHALL/Astra 5 Door Sports Tourer, Model Year 2016",
          "Marcas/fabricantes/VAUXHALL/Astra GTC, Model Year 2015",
          "Marcas/fabricantes/VAUXHALL/Astra GTC, Model Year 2016",
          "Marcas/fabricantes/VAUXHALL/Cascada, Model Year 2015",
          "Marcas/fabricantes/VAUXHALL/Cascada, Model Year 2016",
          "Marcas/fabricantes/VAUXHALL/Corsa 3 Door Hatchback, Model Year 2015",
          "Marcas/fabricantes/VAUXHALL/Corsa 3 Door Hatchback, Model Year 2016",
          "Marcas/fabricantes/VAUXHALL/Corsa 5 Door Hatchback, Model Year 2015",
          "Marcas/fabricantes/VAUXHALL/Corsa 5 Door Hatchback, Model Year 2016",
          "Marcas/fabricantes/VAUXHALL/Insignia 5 Door Hatchback, Model Year 2015",
          "Marcas/fabricantes/VAUXHALL/Insignia 5 Door Hatchback, Model Year 2016",
          "Marcas/fabricantes/VAUXHALL/Insignia 5 Door Sports Tourer, Model Year 2016",
          "Marcas/fabricantes/VAUXHALL/Meriva, Model Year 2015",
          "Marcas/fabricantes/VAUXHALL/Meriva, Model Year 2016",
          "Marcas/fabricantes/VAUXHALL/Mokka, Model Year 2015",
          "Marcas/fabricantes/VAUXHALL/Mokka, Model Year 2016",
          "Marcas/fabricantes/VAUXHALL/Viva 5 Door Hatchback, Model Year 2016",
          "Marcas/fabricantes/VAUXHALL/Zafira, Model Year 2015",
          "Marcas/fabricantes/VAUXHALL/Zafira, Model Year 2016",
          "Marcas/fabricantes/VOLKSWAGEN/Beetle",
          "Marcas/fabricantes/VOLKSWAGEN/Beetle Cabriolet",
          "Marcas/fabricantes/VOLKSWAGEN/Golf",
          "Marcas/fabricantes/VOLKSWAGEN/Golf Cabriolet",
          "Marcas/fabricantes/VOLKSWAGEN/Golf Estate",
          "Marcas/fabricantes/VOLKSWAGEN/Golf SV",
          "Marcas/fabricantes/VOLKSWAGEN/Jetta",
          "Marcas/fabricantes/VOLKSWAGEN/New CC",
          "Marcas/fabricantes/VOLKSWAGEN/New Sharan",
          "Marcas/fabricantes/VOLKSWAGEN/New Tiguan",
          "Marcas/fabricantes/VOLKSWAGEN/New Touareg",
          "Marcas/fabricantes/VOLKSWAGEN/Passat Alltrack",
          "Marcas/fabricantes/VOLKSWAGEN/Passat Estate",
          "Marcas/fabricantes/VOLKSWAGEN/Passat Saloon",
          "Marcas/fabricantes/VOLKSWAGEN/Polo",
          "Marcas/fabricantes/VOLKSWAGEN/Scirocco",
          "Marcas/fabricantes/VOLKSWAGEN/Touran",
          "Marcas/fabricantes/VOLKSWAGEN/UP",
          "Marcas/fabricantes/VOLKSWAGEN C.V./Caddy Life",
          "Marcas/fabricantes/VOLKSWAGEN C.V./Caddy Life BlueMotion",
          "Marcas/fabricantes/VOLKSWAGEN C.V./Caddy Maxi Life",
          "Marcas/fabricantes/VOLKSWAGEN C.V./Caddy Maxi Window Van",
          "Marcas/fabricantes/VOLKSWAGEN C.V./California Beach",
          "Marcas/fabricantes/VOLKSWAGEN C.V./California Ocean",
          "Marcas/fabricantes/VOLKSWAGEN C.V./Caravelle Executive Short Wheelbase",
          "Marcas/fabricantes/VOLKSWAGEN C.V./Caravelle Generation Six",
          "Marcas/fabricantes/VOLKSWAGEN C.V./Caravelle SE Long Wheelbase",
          "Marcas/fabricantes/VOLKSWAGEN C.V./Caravelle SE Short Wheelbase",
          "Marcas/fabricantes/VOLKSWAGEN C.V./Transporter Shuttle S Long Wheelbase",
          "Marcas/fabricantes/VOLKSWAGEN C.V./Transporter Shuttle S Short Wheelbase",
          "Marcas/fabricantes/VOLKSWAGEN C.V./Transporter Shuttle SE Long Wheelbase",
          "Marcas/fabricantes/VOLKSWAGEN C.V./Transporter Shuttle SE Short Wheelbase",
          "Marcas/fabricantes/VOLKSWAGEN C.V./Transporter Window Van T30 and T32 Long Wheelbase Low Roof",
          "Marcas/fabricantes/VOLKSWAGEN C.V./Transporter Window Van T30 and T32 Short Wheelbase Low Roof",
          "Marcas/fabricantes/VOLVO/S60 MY17",
          "Marcas/fabricantes/VOLVO/S60, MY16",
          "Marcas/fabricantes/VOLVO/S80, MY16",
          "Marcas/fabricantes/VOLVO/S90 MY17",
          "Marcas/fabricantes/VOLVO/V40 MY17",
          "Marcas/fabricantes/VOLVO/V40, MY16",
          "Marcas/fabricantes/VOLVO/V60 MY17",
          "Marcas/fabricantes/VOLVO/V60, MY16",
          "Marcas/fabricantes/VOLVO/V70, MY16",
          "Marcas/fabricantes/VOLVO/V90 MY17",
          "Marcas/fabricantes/VOLVO/XC60 MY17",
          "Marcas/fabricantes/VOLVO/XC60, MY16",
          "Marcas/fabricantes/VOLVO/XC70, MY16",
          "Marcas/fabricantes/VOLVO/XC90 MY17",
          "Marcas/fabricantes/VOLVO/XC90, MY16",
          "Marcas/fabricantes/ABARTH",
          "Marcas/fabricantes/ALFA ROMEO",
          "Marcas/fabricantes/ASTON MARTIN LAGONDA",
          "Marcas/fabricantes/AUDI",
          "Marcas/fabricantes/BENTLEY MOTORS",
          "Marcas/fabricantes/BMW",
          "Marcas/fabricantes/CHRYSLER JEEP",
          "Marcas/fabricantes/CITROEN",
          "Marcas/fabricantes/DACIA",
          "Marcas/fabricantes/DS",
          "Marcas/fabricantes/FERRARI",
          "Marcas/fabricantes/FIAT",
          "Marcas/fabricantes/FORD",
          "Marcas/fabricantes/HONDA",
          "Marcas/fabricantes/HYUNDAI",
          "Marcas/fabricantes/INFINITI",
          "Marcas/fabricantes/JAGUAR",
          "Marcas/fabricantes/KIA",
          "Marcas/fabricantes/LAMBORGHINI",
          "Marcas/fabricantes/LAND ROVER",
          "Marcas/fabricantes/LEXUS",
          "Marcas/fabricantes/LONDON TAXI COMPANY",
          "Marcas/fabricantes/MASERATI",
          "Marcas/fabricantes/MAZDA",
          "Marcas/fabricantes/McLaren",
          "Marcas/fabricantes/MERCEDES-BENZ",
          "Marcas/fabricantes/MINI",
          "Marcas/fabricantes/MITSUBISHI",
          "Marcas/fabricantes/NISSAN",
          "Marcas/fabricantes/PEUGEOT",
          "Marcas/fabricantes/PORSCHE",
          "Marcas/fabricantes/RENAULT",
          "Marcas/fabricantes/Rolls Royce",
          "Marcas/fabricantes/SEAT",
          "Marcas/fabricantes/SKODA",
          "Marcas/fabricantes/SMART",
          "Marcas/fabricantes/SSANGYONG",
          "Marcas/fabricantes/SUBARU",
          "Marcas/fabricantes/SUZUKI",
          "Marcas/fabricantes/TOYOTA",
          "Marcas/fabricantes/VAUXHALL",
          "Marcas/fabricantes/VOLKSWAGEN",
          "Marcas/fabricantes/VOLKSWAGEN C.V.",
          "Marcas/fabricantes/VOLVO",
          "Marcas/fabricantes"
         ],
         "labels": [
          "500, 2012 onwards",
          "New Abarth 595, 2016 Onwards",
          "Alfa 4C Spider, September 2015 on",
          "Alfa 4C, April 2014 on",
          "Giulietta",
          "MiTo, 2012 onwards",
          "DB9 GT, MY2016",
          "DB9 MY2015, from May 2014",
          "Rapide S MY2015, from Sept 2014",
          "Rapide S, MY2016",
          "V12 Vantage S MY2015, from March 2014",
          "V12 Vantage S, MY2016",
          "V8 Vantage/V8 Vantage S/N430, MY2016",
          "V8 Vantage/Vantage S/N430 MY2015, from May 2014",
          "Vanquish MY2015, from Sept 2014",
          "Vanquish, MY2016",
          "Vantage GT12, MY2016",
          "A1",
          "A1 Sportback",
          "A3 Cabriolet",
          "A3 Hatchback",
          "A3 Saloon",
          "A3 Sportback",
          "A4 Allroad",
          "A5 Cabriolet",
          "Coupe",
          "A5 Sportback",
          "A6 Allroad",
          "A6 Avant",
          "A6 Saloon",
          "A7 Sportback",
          "A8",
          "New A4 Avant",
          "New A4 Saloon",
          "Q3",
          "Q5",
          "Q7",
          "R8 Spyder",
          "RS Series",
          "TT Roadster",
          "Bentayga, MY2017",
          "Continental",
          "Continental, MY2016",
          "Flying Spur, MY2015",
          "Flying Spur, MY2017",
          "Mulsanne, MY2017",
          "1 Series 3-door F21, From September 2012",
          "1 Series 5-door F20, From September 2011",
          "2 Series Active Tourer F45, From March 2016",
          "2 Series Active Tourer F45, From September 2014",
          "2 Series Convertible F23, From February 2015",
          "2 Series Convertible F23, From July 2015",
          "Coupe",
          "2 Series Gran Tourer F46, From June 2015",
          "2 Series Gran Tourer F46, From March 2016",
          "3 Series Gran Turismo F34, From June 2013",
          "3 Series Saloon F30, From February 2012",
          "3 Series Touring F31, from September 2012",
          "4 Series Convertible F33, From March 2014",
          "4 Series Convertible F33, From March 2016",
          "5 Series F10/F11, From March 2010",
          "5 Series Gran Turismo F07, From October 2009",
          "6 Series F12/F13, March 2011",
          "7 Series G11/G12, From October 2015",
          "i Series, From November 2013",
          "M3 Series Saloon F80, From June 2014",
          "M4 Series Convertible F83, From September 2014",
          "X1 Series F48, From March 2016",
          "X1 Series F48, From October 2015",
          "X3 Series F25, From November 2010",
          "X4 Series F26, From July 2014",
          "X5 M Series F85, From April 2015",
          "X5 Series F15, From November 2013",
          "X6 M Series F86, From April 2015",
          "X6 Series F16, From December 2014",
          "Z4 Series E89 Roadster",
          "Jeep Cherokee, MY 2015",
          "Jeep Cherokee, MY2016",
          "Jeep Compass, MY 2015",
          "Jeep Grand Cherokee, MY 2014",
          "Jeep Grand Cherokee, MY 2015",
          "Jeep Grand Cherokee, MY2016",
          "Jeep Renegade, MY2015",
          "Jeep Renegade, MY2016",
          "Jeep Wrangler, MY 2015",
          "Jeep Wrangler, MY 2016",
          "Berlingo Multispace",
          "C1",
          "C3",
          "C3 Picasso",
          "C4",
          "C4 Cactus",
          "C4 Picasso",
          "C5 Tourer",
          "Grand C4 Picasso",
          "Duster Euro6, 2015",
          "Logan MCV Euro6, 2015",
          "Sandero  Stepway Euro6, 2015",
          "Sandero Euro6 2015",
          "DS3",
          "DS3 Cabriolet",
          "New DS3",
          "New DS3 Cabriolet",
          "New DS4",
          "New DS4 Crossback",
          "New DS5",
          "All Models",
          "500 & 500C, September 2015 onwards",
          "500 X, 2015 onwards",
          "500L MPW, August 2013 onwards",
          "500L, from 2013 onwards",
          "Doblo, 2015 onwards",
          "Panda, From February 2012 onwards",
          "Punto, 2012 onwards",
          "Qubo, 2012 onwards",
          "All New C-Max, Model Year Post 2016¼",
          "All New C-Max, Model Year Pre 2016¼",
          "All New Focus, Model Year Post 2016½",
          "All New Focus, Model Year Pre 2016½",
          "All New Galaxy, Model Year Post 2016¾",
          "All New Galaxy, Model Year Pre 2016¾",
          "All New Grand C-Max, Model Year Post 2016¼",
          "All New Grand C-Max, Model Year Pre 2016¼",
          "All New Mondeo, Model Year Post 2016¾",
          "All New Mondeo, Model Year Pre 2016¾",
          "All New S-MAX, Model Year Post 2016¾",
          "All New S-MAX, Model Year Pre 2016¾",
          "B-MAX, Model Year Post 2015¾",
          "EcoSport, Model Year Post 2016¾",
          "EcoSport, Model Year Pre 2016¾",
          "Edge, Model Year Post 2016",
          "Fiesta, Model Year Post 2017",
          "Fiesta, Model Year Pre 2017",
          "Grand Tourneo Connect, Model Year Post 2016¼",
          "Grand Tourneo Connect, Model Year Pre 2016¼",
          "Ka, Model Year Post 2015½",
          "KA+, Model Year Post 2016¾",
          "Kuga, Model Year Post 2016½",
          "Kuga, Model Year Pre 2016½",
          "Mondeo Vignale, Model Year Post 2016¾",
          "Mondeo Vignale, Model Year Pre 2016¾",
          "Mustang, Model Year Post 2015¾",
          "S-MAX Vignale, Model Year Post 2017",
          "Tourneo Connect, Model Year Post 2016½",
          "Tourneo Connect, Model Year Pre 2016½",
          "Tourneo Courier Kombi - , Model Year Post 2015¾",
          "Tourneo Custom - 310 Long Wheelbase, Model Year Post 2016½",
          "Tourneo Custom - 310 Short Wheelbase, Model Year Post 2016½",
          "Civic Hatchback, Model Year 2015",
          "Civic Tourer, Model Year 2015",
          "CR-V, Model Year 2015",
          "HR-V, Model Year 2016",
          "Jazz, Model Year 2016",
          "Genesis",
          "i10",
          "i20",
          "i20 Active",
          "i30",
          "i30 Tourer",
          "i40",
          "i800",
          "ix20",
          "Santa Fe",
          "Tucson",
          "Q30 Euro6, 2016",
          "Q50 Euro6, 2016",
          "Q70 Euro6, 2016",
          "F-PACE, 17MY",
          "F-TYPE Automatic RWD, 16MY",
          "F-TYPE Manual RWD, 16MY",
          "F-TYPE R Automatic AWD, 16MY",
          "F-TYPE R Automatic RWD, 16MY",
          "F-TYPE S Automatic AWD, 16MY",
          "F-TYPE S Automatic RWD, 16MY",
          "F-TYPE S Manual RWD, 16MY",
          "F-TYPE SVR Automatic AWD, 17MY",
          "XE Saloon, 16MY",
          "XE Saloon, 17MY",
          "XF Saloon, 16MY",
          "XF Saloon, 17MY",
          "XJ Saloon, 16MY",
          "Carens",
          "cee'd",
          "cee'd SW",
          "Picanto 3-door",
          "Picanto 5-door",
          "pro_cee'd",
          "Rio 3-door",
          "Rio 5-door",
          "Sorento",
          "Soul",
          "Sportage",
          "Venga",
          "Aventador",
          "Huracan",
          "Discovery 16MY",
          "Discovery Sport 16MY",
          "Range Rover 16MY",
          "Range Rover Evoque 16MY",
          "Range Rover Sport 16MY",
          "CT, MY2015",
          "CT200h, MY2016",
          "GS F, MY2016",
          "GS, MY2014",
          "GS300h, MY2016",
          "GS450h, MY2016",
          "IS, MY2015",
          "IS300h, MY2016",
          "LS",
          "NX, MY2015",
          "RC 200t, MY2015",
          "RC F, MY2015",
          "RC300h, MY2015",
          "RX, MY2015",
          "Taxi - TX4",
          "Ghibli",
          "Quattroporte",
          "CX-3",
          "CX-5",
          "Mazda2",
          "Mazda3 4 door",
          "Mazda3 5 door",
          "Mazda6 Saloon",
          "Mazda6 Tourer",
          "MX-5",
          "540C",
          "570GT",
          "570S",
          "625C, MY2015",
          "650S Can-Am",
          "650S Le Mans, MY2015",
          "650S, MY2015",
          "675LT, MY2016",
          "A-Class, Model Year 2016",
          "A-Class, Model Year 2017",
          "AMG GT, Model Year 2016",
          "B-Class, Model Year 2016",
          "Coupe",
          "C-Class Estate, Model Year 2016",
          "C-Class Saloon, Model Year 2016",
          "CLA Shooting Brake, Model Year 2016",
          "CLA Shooting Brake, Model Year 2017",
          "CLS Shooting Brake, Model Year 2016",
          "CLS Shooting Brake, Model Year 2017",
          "E-Class Cabriolet, Model Year 2016",
          "E-Class Estate, Model Year 2016",
          "E-Class Saloon, Model Year 2016",
          "E-Class Saloon, Model Year 2017",
          "G-Class, Model Year 2017",
          "GLA Class, Model Year 2016",
          "GLC, Model Year 2016",
          "GL-Class, Model Year 2016",
          "GLE Estate, Model Year 2016",
          "GLE Estate, Model Year 2016½",
          "GLS, Model Year 2017",
          "S-Class Cabriolet, Model Year 2016",
          "S-Class Limousine, Model Year 2016",
          "S-Class Limousine, Model Year 2016½",
          "S-Class Saloon, Model Year 2016",
          "S-Class Saloon, Model Year 2016½",
          "SL, Model Year 2016",
          "SL, Model Year 2017",
          "SLC, Model Year 2017",
          "SLK-Class, Model Year 2016",
          "V-Class, Model Year 2016",
          "MINI 3-door Hatchback F56, From March 2014",
          "MINI 3-door Hatchback F56, From March 2016",
          "MINI 5-door Hatchback F55, From October 2014",
          "MINI Clubman F54, From October 2015",
          "MINI Convertible F57, From March 2016",
          "MINI Countryman R60, From September 2010",
          "Coupe",
          "MINI Paceman R61, From November 2012",
          "MINI Roadster R59, From April 2012",
          "ASX",
          "Mirage",
          "Outlander",
          "Outlander PHEV, 2014",
          "Shogun",
          "370Z Euro6, 2016",
          "GTR Euro6, 2016",
          "Juke Euro6, 2015",
          "Juke, 2014/15",
          "Micra Euro6, 2015",
          "Note Euro6, 2015",
          "NV200 EURO6, 2015",
          "Pulsar Euro6, 2015",
          "Qashqai Euro6, 2015",
          "XTrail Euro6, 2015",
          "108",
          "208",
          "308",
          "508",
          "2008",
          "3008",
          "5008",
          "308 SW",
          "508 RXH",
          "508 SW",
          "Partner Tepee",
          "718",
          "911 (991 II)",
          "911 (991)",
          "Boxster",
          "Cayenne",
          "Cayman",
          "Macan",
          "Panamera",
          "Captur Euro6, 2015",
          "Clio Euro6, 2015",
          "Clio Sport Tourer Euro6, 2015",
          "Grand Scenic Euro6, 2015",
          "Kadjar Euro6, 2015",
          "Megane 2016",
          "Coupe",
          "Mégane Hatchback Euro6, 2015",
          "Megane Renault Sport Euro6, 2015",
          "Mégane Sport Tourer Euro6, 2015",
          "Scenic Euro6, 2015",
          "Trafic Euro6, 2016",
          "Twingo Euro6, 2015",
          "X Mod Euro6, 2015",
          "Dawn",
          "Ghost",
          "Phantom",
          "Wraith",
          "Alhambra",
          "Ateca",
          "Ibiza 5 door",
          "Ibiza SC",
          "Ibiza ST",
          "Leon 5 Door",
          "Leon SC",
          "Leon ST",
          "Leon X-Perience",
          "Mii",
          "Toledo",
          "Citigo",
          "Fabia Estate",
          "Fabia Hatchback",
          "New Superb Estate",
          "New Superb Saloon",
          "Octavia Estate",
          "Octavia Hatchback",
          "Rapid",
          "Rapid Spaceback",
          "Superb Estate",
          "Superb Saloon",
          "Yeti",
          "forfour, Model Year 2016",
          "fortwo cabrio, Model Year 2016",
          "fortwo coupé, Model Year 2016",
          "Korando",
          "Rexton W",
          "Tivoli",
          "Turismo",
          "Forester AWD, From 2015 MY",
          "Levorg AWD, From 2016 MY",
          "Outback AWD, From 2015 MY",
          "WRX STI AWD, From 2015 MY",
          "XV AWD, From 2015MY",
          "Celerio",
          "Jimny",
          "Swift",
          "SX4 S-Cross",
          "Vitara",
          "Auris, MY2015",
          "Avensis, MY2015",
          "Aygo, MY2015",
          "GT86, MY2016",
          "Land Cruiser, MY2016",
          "Prius Plug-In, MY2012",
          "Prius Plus, MY2015",
          "Prius, 2016",
          "Prius, MY2012",
          "RAV4, MY2015",
          "RAV4, MY2016",
          "Verso MY2016",
          "Verso, 2016",
          "Verso, MY2015",
          "Yaris, 2016",
          "Adam 3 Door Hatchback, Model Year 2015",
          "Adam 3 Door Hatchback, Model Year 2016",
          "Astra 5 Door Hatchback, Model Year 2015",
          "Astra 5 Door Hatchback, Model Year 2016",
          "Astra 5 Door Sports Tourer, Model Year 2015",
          "Astra 5 Door Sports Tourer, Model Year 2016",
          "Astra GTC, Model Year 2015",
          "Astra GTC, Model Year 2016",
          "Cascada, Model Year 2015",
          "Cascada, Model Year 2016",
          "Corsa 3 Door Hatchback, Model Year 2015",
          "Corsa 3 Door Hatchback, Model Year 2016",
          "Corsa 5 Door Hatchback, Model Year 2015",
          "Corsa 5 Door Hatchback, Model Year 2016",
          "Insignia 5 Door Hatchback, Model Year 2015",
          "Insignia 5 Door Hatchback, Model Year 2016",
          "Insignia 5 Door Sports Tourer, Model Year 2016",
          "Meriva, Model Year 2015",
          "Meriva, Model Year 2016",
          "Mokka, Model Year 2015",
          "Mokka, Model Year 2016",
          "Viva 5 Door Hatchback, Model Year 2016",
          "Zafira, Model Year 2015",
          "Zafira, Model Year 2016",
          "Beetle",
          "Beetle Cabriolet",
          "Golf",
          "Golf Cabriolet",
          "Golf Estate",
          "Golf SV",
          "Jetta",
          "New CC",
          "New Sharan",
          "New Tiguan",
          "New Touareg",
          "Passat Alltrack",
          "Passat Estate",
          "Passat Saloon",
          "Polo",
          "Scirocco",
          "Touran",
          "UP",
          "Caddy Life",
          "Caddy Life BlueMotion",
          "Caddy Maxi Life",
          "Caddy Maxi Window Van",
          "California Beach",
          "California Ocean",
          "Caravelle Executive Short Wheelbase",
          "Caravelle Generation Six",
          "Caravelle SE Long Wheelbase",
          "Caravelle SE Short Wheelbase",
          "Transporter Shuttle S Long Wheelbase",
          "Transporter Shuttle S Short Wheelbase",
          "Transporter Shuttle SE Long Wheelbase",
          "Transporter Shuttle SE Short Wheelbase",
          "Transporter Window Van T30 and T32 Long Wheelbase Low Roof",
          "Transporter Window Van T30 and T32 Short Wheelbase Low Roof",
          "S60 MY17",
          "S60, MY16",
          "S80, MY16",
          "S90 MY17",
          "V40 MY17",
          "V40, MY16",
          "V60 MY17",
          "V60, MY16",
          "V70, MY16",
          "V90 MY17",
          "XC60 MY17",
          "XC60, MY16",
          "XC70, MY16",
          "XC90 MY17",
          "XC90, MY16",
          "ABARTH",
          "ALFA ROMEO",
          "ASTON MARTIN LAGONDA",
          "AUDI",
          "BENTLEY MOTORS",
          "BMW",
          "CHRYSLER JEEP",
          "CITROEN",
          "DACIA",
          "DS",
          "FERRARI",
          "FIAT",
          "FORD",
          "HONDA",
          "HYUNDAI",
          "INFINITI",
          "JAGUAR",
          "KIA",
          "LAMBORGHINI",
          "LAND ROVER",
          "LEXUS",
          "LONDON TAXI COMPANY",
          "MASERATI",
          "MAZDA",
          "McLaren",
          "MERCEDES-BENZ",
          "MINI",
          "MITSUBISHI",
          "NISSAN",
          "PEUGEOT",
          "PORSCHE",
          "RENAULT",
          "Rolls Royce",
          "SEAT",
          "SKODA",
          "SMART",
          "SSANGYONG",
          "SUBARU",
          "SUZUKI",
          "TOYOTA",
          "VAUXHALL",
          "VOLKSWAGEN",
          "VOLKSWAGEN C.V.",
          "VOLVO",
          "Marcas/fabricantes"
         ],
         "marker": {
          "coloraxis": "coloraxis",
          "colors": {
           "bdata": "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",
           "dtype": "f8"
          }
         },
         "name": "",
         "parents": [
          "Marcas/fabricantes/ABARTH",
          "Marcas/fabricantes/ABARTH",
          "Marcas/fabricantes/ALFA ROMEO",
          "Marcas/fabricantes/ALFA ROMEO",
          "Marcas/fabricantes/ALFA ROMEO",
          "Marcas/fabricantes/ALFA ROMEO",
          "Marcas/fabricantes/ASTON MARTIN LAGONDA",
          "Marcas/fabricantes/ASTON MARTIN LAGONDA",
          "Marcas/fabricantes/ASTON MARTIN LAGONDA",
          "Marcas/fabricantes/ASTON MARTIN LAGONDA",
          "Marcas/fabricantes/ASTON MARTIN LAGONDA",
          "Marcas/fabricantes/ASTON MARTIN LAGONDA",
          "Marcas/fabricantes/ASTON MARTIN LAGONDA",
          "Marcas/fabricantes/ASTON MARTIN LAGONDA",
          "Marcas/fabricantes/ASTON MARTIN LAGONDA",
          "Marcas/fabricantes/ASTON MARTIN LAGONDA",
          "Marcas/fabricantes/ASTON MARTIN LAGONDA",
          "Marcas/fabricantes/AUDI",
          "Marcas/fabricantes/AUDI",
          "Marcas/fabricantes/AUDI",
          "Marcas/fabricantes/AUDI",
          "Marcas/fabricantes/AUDI",
          "Marcas/fabricantes/AUDI",
          "Marcas/fabricantes/AUDI",
          "Marcas/fabricantes/AUDI",
          "Marcas/fabricantes/AUDI",
          "Marcas/fabricantes/AUDI",
          "Marcas/fabricantes/AUDI",
          "Marcas/fabricantes/AUDI",
          "Marcas/fabricantes/AUDI",
          "Marcas/fabricantes/AUDI",
          "Marcas/fabricantes/AUDI",
          "Marcas/fabricantes/AUDI",
          "Marcas/fabricantes/AUDI",
          "Marcas/fabricantes/AUDI",
          "Marcas/fabricantes/AUDI",
          "Marcas/fabricantes/AUDI",
          "Marcas/fabricantes/AUDI",
          "Marcas/fabricantes/AUDI",
          "Marcas/fabricantes/AUDI",
          "Marcas/fabricantes/BENTLEY MOTORS",
          "Marcas/fabricantes/BENTLEY MOTORS",
          "Marcas/fabricantes/BENTLEY MOTORS",
          "Marcas/fabricantes/BENTLEY MOTORS",
          "Marcas/fabricantes/BENTLEY MOTORS",
          "Marcas/fabricantes/BENTLEY MOTORS",
          "Marcas/fabricantes/BMW",
          "Marcas/fabricantes/BMW",
          "Marcas/fabricantes/BMW",
          "Marcas/fabricantes/BMW",
          "Marcas/fabricantes/BMW",
          "Marcas/fabricantes/BMW",
          "Marcas/fabricantes/BMW",
          "Marcas/fabricantes/BMW",
          "Marcas/fabricantes/BMW",
          "Marcas/fabricantes/BMW",
          "Marcas/fabricantes/BMW",
          "Marcas/fabricantes/BMW",
          "Marcas/fabricantes/BMW",
          "Marcas/fabricantes/BMW",
          "Marcas/fabricantes/BMW",
          "Marcas/fabricantes/BMW",
          "Marcas/fabricantes/BMW",
          "Marcas/fabricantes/BMW",
          "Marcas/fabricantes/BMW",
          "Marcas/fabricantes/BMW",
          "Marcas/fabricantes/BMW",
          "Marcas/fabricantes/BMW",
          "Marcas/fabricantes/BMW",
          "Marcas/fabricantes/BMW",
          "Marcas/fabricantes/BMW",
          "Marcas/fabricantes/BMW",
          "Marcas/fabricantes/BMW",
          "Marcas/fabricantes/BMW",
          "Marcas/fabricantes/BMW",
          "Marcas/fabricantes/BMW",
          "Marcas/fabricantes/CHRYSLER JEEP",
          "Marcas/fabricantes/CHRYSLER JEEP",
          "Marcas/fabricantes/CHRYSLER JEEP",
          "Marcas/fabricantes/CHRYSLER JEEP",
          "Marcas/fabricantes/CHRYSLER JEEP",
          "Marcas/fabricantes/CHRYSLER JEEP",
          "Marcas/fabricantes/CHRYSLER JEEP",
          "Marcas/fabricantes/CHRYSLER JEEP",
          "Marcas/fabricantes/CHRYSLER JEEP",
          "Marcas/fabricantes/CHRYSLER JEEP",
          "Marcas/fabricantes/CITROEN",
          "Marcas/fabricantes/CITROEN",
          "Marcas/fabricantes/CITROEN",
          "Marcas/fabricantes/CITROEN",
          "Marcas/fabricantes/CITROEN",
          "Marcas/fabricantes/CITROEN",
          "Marcas/fabricantes/CITROEN",
          "Marcas/fabricantes/CITROEN",
          "Marcas/fabricantes/CITROEN",
          "Marcas/fabricantes/DACIA",
          "Marcas/fabricantes/DACIA",
          "Marcas/fabricantes/DACIA",
          "Marcas/fabricantes/DACIA",
          "Marcas/fabricantes/DS",
          "Marcas/fabricantes/DS",
          "Marcas/fabricantes/DS",
          "Marcas/fabricantes/DS",
          "Marcas/fabricantes/DS",
          "Marcas/fabricantes/DS",
          "Marcas/fabricantes/DS",
          "Marcas/fabricantes/FERRARI",
          "Marcas/fabricantes/FIAT",
          "Marcas/fabricantes/FIAT",
          "Marcas/fabricantes/FIAT",
          "Marcas/fabricantes/FIAT",
          "Marcas/fabricantes/FIAT",
          "Marcas/fabricantes/FIAT",
          "Marcas/fabricantes/FIAT",
          "Marcas/fabricantes/FIAT",
          "Marcas/fabricantes/FORD",
          "Marcas/fabricantes/FORD",
          "Marcas/fabricantes/FORD",
          "Marcas/fabricantes/FORD",
          "Marcas/fabricantes/FORD",
          "Marcas/fabricantes/FORD",
          "Marcas/fabricantes/FORD",
          "Marcas/fabricantes/FORD",
          "Marcas/fabricantes/FORD",
          "Marcas/fabricantes/FORD",
          "Marcas/fabricantes/FORD",
          "Marcas/fabricantes/FORD",
          "Marcas/fabricantes/FORD",
          "Marcas/fabricantes/FORD",
          "Marcas/fabricantes/FORD",
          "Marcas/fabricantes/FORD",
          "Marcas/fabricantes/FORD",
          "Marcas/fabricantes/FORD",
          "Marcas/fabricantes/FORD",
          "Marcas/fabricantes/FORD",
          "Marcas/fabricantes/FORD",
          "Marcas/fabricantes/FORD",
          "Marcas/fabricantes/FORD",
          "Marcas/fabricantes/FORD",
          "Marcas/fabricantes/FORD",
          "Marcas/fabricantes/FORD",
          "Marcas/fabricantes/FORD",
          "Marcas/fabricantes/FORD",
          "Marcas/fabricantes/FORD",
          "Marcas/fabricantes/FORD",
          "Marcas/fabricantes/FORD",
          "Marcas/fabricantes/FORD",
          "Marcas/fabricantes/FORD",
          "Marcas/fabricantes/HONDA",
          "Marcas/fabricantes/HONDA",
          "Marcas/fabricantes/HONDA",
          "Marcas/fabricantes/HONDA",
          "Marcas/fabricantes/HONDA",
          "Marcas/fabricantes/HYUNDAI",
          "Marcas/fabricantes/HYUNDAI",
          "Marcas/fabricantes/HYUNDAI",
          "Marcas/fabricantes/HYUNDAI",
          "Marcas/fabricantes/HYUNDAI",
          "Marcas/fabricantes/HYUNDAI",
          "Marcas/fabricantes/HYUNDAI",
          "Marcas/fabricantes/HYUNDAI",
          "Marcas/fabricantes/HYUNDAI",
          "Marcas/fabricantes/HYUNDAI",
          "Marcas/fabricantes/HYUNDAI",
          "Marcas/fabricantes/INFINITI",
          "Marcas/fabricantes/INFINITI",
          "Marcas/fabricantes/INFINITI",
          "Marcas/fabricantes/JAGUAR",
          "Marcas/fabricantes/JAGUAR",
          "Marcas/fabricantes/JAGUAR",
          "Marcas/fabricantes/JAGUAR",
          "Marcas/fabricantes/JAGUAR",
          "Marcas/fabricantes/JAGUAR",
          "Marcas/fabricantes/JAGUAR",
          "Marcas/fabricantes/JAGUAR",
          "Marcas/fabricantes/JAGUAR",
          "Marcas/fabricantes/JAGUAR",
          "Marcas/fabricantes/JAGUAR",
          "Marcas/fabricantes/JAGUAR",
          "Marcas/fabricantes/JAGUAR",
          "Marcas/fabricantes/JAGUAR",
          "Marcas/fabricantes/KIA",
          "Marcas/fabricantes/KIA",
          "Marcas/fabricantes/KIA",
          "Marcas/fabricantes/KIA",
          "Marcas/fabricantes/KIA",
          "Marcas/fabricantes/KIA",
          "Marcas/fabricantes/KIA",
          "Marcas/fabricantes/KIA",
          "Marcas/fabricantes/KIA",
          "Marcas/fabricantes/KIA",
          "Marcas/fabricantes/KIA",
          "Marcas/fabricantes/KIA",
          "Marcas/fabricantes/LAMBORGHINI",
          "Marcas/fabricantes/LAMBORGHINI",
          "Marcas/fabricantes/LAND ROVER",
          "Marcas/fabricantes/LAND ROVER",
          "Marcas/fabricantes/LAND ROVER",
          "Marcas/fabricantes/LAND ROVER",
          "Marcas/fabricantes/LAND ROVER",
          "Marcas/fabricantes/LEXUS",
          "Marcas/fabricantes/LEXUS",
          "Marcas/fabricantes/LEXUS",
          "Marcas/fabricantes/LEXUS",
          "Marcas/fabricantes/LEXUS",
          "Marcas/fabricantes/LEXUS",
          "Marcas/fabricantes/LEXUS",
          "Marcas/fabricantes/LEXUS",
          "Marcas/fabricantes/LEXUS",
          "Marcas/fabricantes/LEXUS",
          "Marcas/fabricantes/LEXUS",
          "Marcas/fabricantes/LEXUS",
          "Marcas/fabricantes/LEXUS",
          "Marcas/fabricantes/LEXUS",
          "Marcas/fabricantes/LONDON TAXI COMPANY",
          "Marcas/fabricantes/MASERATI",
          "Marcas/fabricantes/MASERATI",
          "Marcas/fabricantes/MAZDA",
          "Marcas/fabricantes/MAZDA",
          "Marcas/fabricantes/MAZDA",
          "Marcas/fabricantes/MAZDA",
          "Marcas/fabricantes/MAZDA",
          "Marcas/fabricantes/MAZDA",
          "Marcas/fabricantes/MAZDA",
          "Marcas/fabricantes/MAZDA",
          "Marcas/fabricantes/McLaren",
          "Marcas/fabricantes/McLaren",
          "Marcas/fabricantes/McLaren",
          "Marcas/fabricantes/McLaren",
          "Marcas/fabricantes/McLaren",
          "Marcas/fabricantes/McLaren",
          "Marcas/fabricantes/McLaren",
          "Marcas/fabricantes/McLaren",
          "Marcas/fabricantes/MERCEDES-BENZ",
          "Marcas/fabricantes/MERCEDES-BENZ",
          "Marcas/fabricantes/MERCEDES-BENZ",
          "Marcas/fabricantes/MERCEDES-BENZ",
          "Marcas/fabricantes/MERCEDES-BENZ",
          "Marcas/fabricantes/MERCEDES-BENZ",
          "Marcas/fabricantes/MERCEDES-BENZ",
          "Marcas/fabricantes/MERCEDES-BENZ",
          "Marcas/fabricantes/MERCEDES-BENZ",
          "Marcas/fabricantes/MERCEDES-BENZ",
          "Marcas/fabricantes/MERCEDES-BENZ",
          "Marcas/fabricantes/MERCEDES-BENZ",
          "Marcas/fabricantes/MERCEDES-BENZ",
          "Marcas/fabricantes/MERCEDES-BENZ",
          "Marcas/fabricantes/MERCEDES-BENZ",
          "Marcas/fabricantes/MERCEDES-BENZ",
          "Marcas/fabricantes/MERCEDES-BENZ",
          "Marcas/fabricantes/MERCEDES-BENZ",
          "Marcas/fabricantes/MERCEDES-BENZ",
          "Marcas/fabricantes/MERCEDES-BENZ",
          "Marcas/fabricantes/MERCEDES-BENZ",
          "Marcas/fabricantes/MERCEDES-BENZ",
          "Marcas/fabricantes/MERCEDES-BENZ",
          "Marcas/fabricantes/MERCEDES-BENZ",
          "Marcas/fabricantes/MERCEDES-BENZ",
          "Marcas/fabricantes/MERCEDES-BENZ",
          "Marcas/fabricantes/MERCEDES-BENZ",
          "Marcas/fabricantes/MERCEDES-BENZ",
          "Marcas/fabricantes/MERCEDES-BENZ",
          "Marcas/fabricantes/MERCEDES-BENZ",
          "Marcas/fabricantes/MERCEDES-BENZ",
          "Marcas/fabricantes/MERCEDES-BENZ",
          "Marcas/fabricantes/MINI",
          "Marcas/fabricantes/MINI",
          "Marcas/fabricantes/MINI",
          "Marcas/fabricantes/MINI",
          "Marcas/fabricantes/MINI",
          "Marcas/fabricantes/MINI",
          "Marcas/fabricantes/MINI",
          "Marcas/fabricantes/MINI",
          "Marcas/fabricantes/MINI",
          "Marcas/fabricantes/MITSUBISHI",
          "Marcas/fabricantes/MITSUBISHI",
          "Marcas/fabricantes/MITSUBISHI",
          "Marcas/fabricantes/MITSUBISHI",
          "Marcas/fabricantes/MITSUBISHI",
          "Marcas/fabricantes/NISSAN",
          "Marcas/fabricantes/NISSAN",
          "Marcas/fabricantes/NISSAN",
          "Marcas/fabricantes/NISSAN",
          "Marcas/fabricantes/NISSAN",
          "Marcas/fabricantes/NISSAN",
          "Marcas/fabricantes/NISSAN",
          "Marcas/fabricantes/NISSAN",
          "Marcas/fabricantes/NISSAN",
          "Marcas/fabricantes/NISSAN",
          "Marcas/fabricantes/PEUGEOT",
          "Marcas/fabricantes/PEUGEOT",
          "Marcas/fabricantes/PEUGEOT",
          "Marcas/fabricantes/PEUGEOT",
          "Marcas/fabricantes/PEUGEOT",
          "Marcas/fabricantes/PEUGEOT",
          "Marcas/fabricantes/PEUGEOT",
          "Marcas/fabricantes/PEUGEOT",
          "Marcas/fabricantes/PEUGEOT",
          "Marcas/fabricantes/PEUGEOT",
          "Marcas/fabricantes/PEUGEOT",
          "Marcas/fabricantes/PORSCHE",
          "Marcas/fabricantes/PORSCHE",
          "Marcas/fabricantes/PORSCHE",
          "Marcas/fabricantes/PORSCHE",
          "Marcas/fabricantes/PORSCHE",
          "Marcas/fabricantes/PORSCHE",
          "Marcas/fabricantes/PORSCHE",
          "Marcas/fabricantes/PORSCHE",
          "Marcas/fabricantes/RENAULT",
          "Marcas/fabricantes/RENAULT",
          "Marcas/fabricantes/RENAULT",
          "Marcas/fabricantes/RENAULT",
          "Marcas/fabricantes/RENAULT",
          "Marcas/fabricantes/RENAULT",
          "Marcas/fabricantes/RENAULT",
          "Marcas/fabricantes/RENAULT",
          "Marcas/fabricantes/RENAULT",
          "Marcas/fabricantes/RENAULT",
          "Marcas/fabricantes/RENAULT",
          "Marcas/fabricantes/RENAULT",
          "Marcas/fabricantes/RENAULT",
          "Marcas/fabricantes/RENAULT",
          "Marcas/fabricantes/Rolls Royce",
          "Marcas/fabricantes/Rolls Royce",
          "Marcas/fabricantes/Rolls Royce",
          "Marcas/fabricantes/Rolls Royce",
          "Marcas/fabricantes/SEAT",
          "Marcas/fabricantes/SEAT",
          "Marcas/fabricantes/SEAT",
          "Marcas/fabricantes/SEAT",
          "Marcas/fabricantes/SEAT",
          "Marcas/fabricantes/SEAT",
          "Marcas/fabricantes/SEAT",
          "Marcas/fabricantes/SEAT",
          "Marcas/fabricantes/SEAT",
          "Marcas/fabricantes/SEAT",
          "Marcas/fabricantes/SEAT",
          "Marcas/fabricantes/SKODA",
          "Marcas/fabricantes/SKODA",
          "Marcas/fabricantes/SKODA",
          "Marcas/fabricantes/SKODA",
          "Marcas/fabricantes/SKODA",
          "Marcas/fabricantes/SKODA",
          "Marcas/fabricantes/SKODA",
          "Marcas/fabricantes/SKODA",
          "Marcas/fabricantes/SKODA",
          "Marcas/fabricantes/SKODA",
          "Marcas/fabricantes/SKODA",
          "Marcas/fabricantes/SKODA",
          "Marcas/fabricantes/SMART",
          "Marcas/fabricantes/SMART",
          "Marcas/fabricantes/SMART",
          "Marcas/fabricantes/SSANGYONG",
          "Marcas/fabricantes/SSANGYONG",
          "Marcas/fabricantes/SSANGYONG",
          "Marcas/fabricantes/SSANGYONG",
          "Marcas/fabricantes/SUBARU",
          "Marcas/fabricantes/SUBARU",
          "Marcas/fabricantes/SUBARU",
          "Marcas/fabricantes/SUBARU",
          "Marcas/fabricantes/SUBARU",
          "Marcas/fabricantes/SUZUKI",
          "Marcas/fabricantes/SUZUKI",
          "Marcas/fabricantes/SUZUKI",
          "Marcas/fabricantes/SUZUKI",
          "Marcas/fabricantes/SUZUKI",
          "Marcas/fabricantes/TOYOTA",
          "Marcas/fabricantes/TOYOTA",
          "Marcas/fabricantes/TOYOTA",
          "Marcas/fabricantes/TOYOTA",
          "Marcas/fabricantes/TOYOTA",
          "Marcas/fabricantes/TOYOTA",
          "Marcas/fabricantes/TOYOTA",
          "Marcas/fabricantes/TOYOTA",
          "Marcas/fabricantes/TOYOTA",
          "Marcas/fabricantes/TOYOTA",
          "Marcas/fabricantes/TOYOTA",
          "Marcas/fabricantes/TOYOTA",
          "Marcas/fabricantes/TOYOTA",
          "Marcas/fabricantes/TOYOTA",
          "Marcas/fabricantes/TOYOTA",
          "Marcas/fabricantes/VAUXHALL",
          "Marcas/fabricantes/VAUXHALL",
          "Marcas/fabricantes/VAUXHALL",
          "Marcas/fabricantes/VAUXHALL",
          "Marcas/fabricantes/VAUXHALL",
          "Marcas/fabricantes/VAUXHALL",
          "Marcas/fabricantes/VAUXHALL",
          "Marcas/fabricantes/VAUXHALL",
          "Marcas/fabricantes/VAUXHALL",
          "Marcas/fabricantes/VAUXHALL",
          "Marcas/fabricantes/VAUXHALL",
          "Marcas/fabricantes/VAUXHALL",
          "Marcas/fabricantes/VAUXHALL",
          "Marcas/fabricantes/VAUXHALL",
          "Marcas/fabricantes/VAUXHALL",
          "Marcas/fabricantes/VAUXHALL",
          "Marcas/fabricantes/VAUXHALL",
          "Marcas/fabricantes/VAUXHALL",
          "Marcas/fabricantes/VAUXHALL",
          "Marcas/fabricantes/VAUXHALL",
          "Marcas/fabricantes/VAUXHALL",
          "Marcas/fabricantes/VAUXHALL",
          "Marcas/fabricantes/VAUXHALL",
          "Marcas/fabricantes/VAUXHALL",
          "Marcas/fabricantes/VOLKSWAGEN",
          "Marcas/fabricantes/VOLKSWAGEN",
          "Marcas/fabricantes/VOLKSWAGEN",
          "Marcas/fabricantes/VOLKSWAGEN",
          "Marcas/fabricantes/VOLKSWAGEN",
          "Marcas/fabricantes/VOLKSWAGEN",
          "Marcas/fabricantes/VOLKSWAGEN",
          "Marcas/fabricantes/VOLKSWAGEN",
          "Marcas/fabricantes/VOLKSWAGEN",
          "Marcas/fabricantes/VOLKSWAGEN",
          "Marcas/fabricantes/VOLKSWAGEN",
          "Marcas/fabricantes/VOLKSWAGEN",
          "Marcas/fabricantes/VOLKSWAGEN",
          "Marcas/fabricantes/VOLKSWAGEN",
          "Marcas/fabricantes/VOLKSWAGEN",
          "Marcas/fabricantes/VOLKSWAGEN",
          "Marcas/fabricantes/VOLKSWAGEN",
          "Marcas/fabricantes/VOLKSWAGEN",
          "Marcas/fabricantes/VOLKSWAGEN C.V.",
          "Marcas/fabricantes/VOLKSWAGEN C.V.",
          "Marcas/fabricantes/VOLKSWAGEN C.V.",
          "Marcas/fabricantes/VOLKSWAGEN C.V.",
          "Marcas/fabricantes/VOLKSWAGEN C.V.",
          "Marcas/fabricantes/VOLKSWAGEN C.V.",
          "Marcas/fabricantes/VOLKSWAGEN C.V.",
          "Marcas/fabricantes/VOLKSWAGEN C.V.",
          "Marcas/fabricantes/VOLKSWAGEN C.V.",
          "Marcas/fabricantes/VOLKSWAGEN C.V.",
          "Marcas/fabricantes/VOLKSWAGEN C.V.",
          "Marcas/fabricantes/VOLKSWAGEN C.V.",
          "Marcas/fabricantes/VOLKSWAGEN C.V.",
          "Marcas/fabricantes/VOLKSWAGEN C.V.",
          "Marcas/fabricantes/VOLKSWAGEN C.V.",
          "Marcas/fabricantes/VOLKSWAGEN C.V.",
          "Marcas/fabricantes/VOLVO",
          "Marcas/fabricantes/VOLVO",
          "Marcas/fabricantes/VOLVO",
          "Marcas/fabricantes/VOLVO",
          "Marcas/fabricantes/VOLVO",
          "Marcas/fabricantes/VOLVO",
          "Marcas/fabricantes/VOLVO",
          "Marcas/fabricantes/VOLVO",
          "Marcas/fabricantes/VOLVO",
          "Marcas/fabricantes/VOLVO",
          "Marcas/fabricantes/VOLVO",
          "Marcas/fabricantes/VOLVO",
          "Marcas/fabricantes/VOLVO",
          "Marcas/fabricantes/VOLVO",
          "Marcas/fabricantes/VOLVO",
          "Marcas/fabricantes",
          "Marcas/fabricantes",
          "Marcas/fabricantes",
          "Marcas/fabricantes",
          "Marcas/fabricantes",
          "Marcas/fabricantes",
          "Marcas/fabricantes",
          "Marcas/fabricantes",
          "Marcas/fabricantes",
          "Marcas/fabricantes",
          "Marcas/fabricantes",
          "Marcas/fabricantes",
          "Marcas/fabricantes",
          "Marcas/fabricantes",
          "Marcas/fabricantes",
          "Marcas/fabricantes",
          "Marcas/fabricantes",
          "Marcas/fabricantes",
          "Marcas/fabricantes",
          "Marcas/fabricantes",
          "Marcas/fabricantes",
          "Marcas/fabricantes",
          "Marcas/fabricantes",
          "Marcas/fabricantes",
          "Marcas/fabricantes",
          "Marcas/fabricantes",
          "Marcas/fabricantes",
          "Marcas/fabricantes",
          "Marcas/fabricantes",
          "Marcas/fabricantes",
          "Marcas/fabricantes",
          "Marcas/fabricantes",
          "Marcas/fabricantes",
          "Marcas/fabricantes",
          "Marcas/fabricantes",
          "Marcas/fabricantes",
          "Marcas/fabricantes",
          "Marcas/fabricantes",
          "Marcas/fabricantes",
          "Marcas/fabricantes",
          "Marcas/fabricantes",
          "Marcas/fabricantes",
          "Marcas/fabricantes",
          "Marcas/fabricantes",
          ""
         ],
         "type": "treemap",
         "values": {
          "bdata": "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",
          "dtype": "f8"
         }
        }
       ],
       "layout": {
        "coloraxis": {
         "colorbar": {
          "title": {
           "text": "CO2 - G/KM"
          }
         },
         "colorscale": [
          [
           0,
           "#0d0887"
          ],
          [
           0.1111111111111111,
           "#46039f"
          ],
          [
           0.2222222222222222,
           "#7201a8"
          ],
          [
           0.3333333333333333,
           "#9c179e"
          ],
          [
           0.4444444444444444,
           "#bd3786"
          ],
          [
           0.5555555555555556,
           "#d8576b"
          ],
          [
           0.6666666666666666,
           "#ed7953"
          ],
          [
           0.7777777777777778,
           "#fb9f3a"
          ],
          [
           0.8888888888888888,
           "#fdca26"
          ],
          [
           1,
           "#f0f921"
          ]
         ]
        },
        "height": 550,
        "legend": {
         "tracegroupgap": 0
        },
        "template": {
         "data": {
          "bar": [
           {
            "error_x": {
             "color": "#2a3f5f"
            },
            "error_y": {
             "color": "#2a3f5f"
            },
            "marker": {
             "line": {
              "color": "#E5ECF6",
              "width": 0.5
             },
             "pattern": {
              "fillmode": "overlay",
              "size": 10,
              "solidity": 0.2
             }
            },
            "type": "bar"
           }
          ],
          "barpolar": [
           {
            "marker": {
             "line": {
              "color": "#E5ECF6",
              "width": 0.5
             },
             "pattern": {
              "fillmode": "overlay",
              "size": 10,
              "solidity": 0.2
             }
            },
            "type": "barpolar"
           }
          ],
          "carpet": [
           {
            "aaxis": {
             "endlinecolor": "#2a3f5f",
             "gridcolor": "white",
             "linecolor": "white",
             "minorgridcolor": "white",
             "startlinecolor": "#2a3f5f"
            },
            "baxis": {
             "endlinecolor": "#2a3f5f",
             "gridcolor": "white",
             "linecolor": "white",
             "minorgridcolor": "white",
             "startlinecolor": "#2a3f5f"
            },
            "type": "carpet"
           }
          ],
          "choropleth": [
           {
            "colorbar": {
             "outlinewidth": 0,
             "ticks": ""
            },
            "type": "choropleth"
           }
          ],
          "contour": [
           {
            "colorbar": {
             "outlinewidth": 0,
             "ticks": ""
            },
            "colorscale": [
             [
              0,
              "#0d0887"
             ],
             [
              0.1111111111111111,
              "#46039f"
             ],
             [
              0.2222222222222222,
              "#7201a8"
             ],
             [
              0.3333333333333333,
              "#9c179e"
             ],
             [
              0.4444444444444444,
              "#bd3786"
             ],
             [
              0.5555555555555556,
              "#d8576b"
             ],
             [
              0.6666666666666666,
              "#ed7953"
             ],
             [
              0.7777777777777778,
              "#fb9f3a"
             ],
             [
              0.8888888888888888,
              "#fdca26"
             ],
             [
              1,
              "#f0f921"
             ]
            ],
            "type": "contour"
           }
          ],
          "contourcarpet": [
           {
            "colorbar": {
             "outlinewidth": 0,
             "ticks": ""
            },
            "type": "contourcarpet"
           }
          ],
          "heatmap": [
           {
            "colorbar": {
             "outlinewidth": 0,
             "ticks": ""
            },
            "colorscale": [
             [
              0,
              "#0d0887"
             ],
             [
              0.1111111111111111,
              "#46039f"
             ],
             [
              0.2222222222222222,
              "#7201a8"
             ],
             [
              0.3333333333333333,
              "#9c179e"
             ],
             [
              0.4444444444444444,
              "#bd3786"
             ],
             [
              0.5555555555555556,
              "#d8576b"
             ],
             [
              0.6666666666666666,
              "#ed7953"
             ],
             [
              0.7777777777777778,
              "#fb9f3a"
             ],
             [
              0.8888888888888888,
              "#fdca26"
             ],
             [
              1,
              "#f0f921"
             ]
            ],
            "type": "heatmap"
           }
          ],
          "histogram": [
           {
            "marker": {
             "pattern": {
              "fillmode": "overlay",
              "size": 10,
              "solidity": 0.2
             }
            },
            "type": "histogram"
           }
          ],
          "histogram2d": [
           {
            "colorbar": {
             "outlinewidth": 0,
             "ticks": ""
            },
            "colorscale": [
             [
              0,
              "#0d0887"
             ],
             [
              0.1111111111111111,
              "#46039f"
             ],
             [
              0.2222222222222222,
              "#7201a8"
             ],
             [
              0.3333333333333333,
              "#9c179e"
             ],
             [
              0.4444444444444444,
              "#bd3786"
             ],
             [
              0.5555555555555556,
              "#d8576b"
             ],
             [
              0.6666666666666666,
              "#ed7953"
             ],
             [
              0.7777777777777778,
              "#fb9f3a"
             ],
             [
              0.8888888888888888,
              "#fdca26"
             ],
             [
              1,
              "#f0f921"
             ]
            ],
            "type": "histogram2d"
           }
          ],
          "histogram2dcontour": [
           {
            "colorbar": {
             "outlinewidth": 0,
             "ticks": ""
            },
            "colorscale": [
             [
              0,
              "#0d0887"
             ],
             [
              0.1111111111111111,
              "#46039f"
             ],
             [
              0.2222222222222222,
              "#7201a8"
             ],
             [
              0.3333333333333333,
              "#9c179e"
             ],
             [
              0.4444444444444444,
              "#bd3786"
             ],
             [
              0.5555555555555556,
              "#d8576b"
             ],
             [
              0.6666666666666666,
              "#ed7953"
             ],
             [
              0.7777777777777778,
              "#fb9f3a"
             ],
             [
              0.8888888888888888,
              "#fdca26"
             ],
             [
              1,
              "#f0f921"
             ]
            ],
            "type": "histogram2dcontour"
           }
          ],
          "mesh3d": [
           {
            "colorbar": {
             "outlinewidth": 0,
             "ticks": ""
            },
            "type": "mesh3d"
           }
          ],
          "parcoords": [
           {
            "line": {
             "colorbar": {
              "outlinewidth": 0,
              "ticks": ""
             }
            },
            "type": "parcoords"
           }
          ],
          "pie": [
           {
            "automargin": true,
            "type": "pie"
           }
          ],
          "scatter": [
           {
            "fillpattern": {
             "fillmode": "overlay",
             "size": 10,
             "solidity": 0.2
            },
            "type": "scatter"
           }
          ],
          "scatter3d": [
           {
            "line": {
             "colorbar": {
              "outlinewidth": 0,
              "ticks": ""
             }
            },
            "marker": {
             "colorbar": {
              "outlinewidth": 0,
              "ticks": ""
             }
            },
            "type": "scatter3d"
           }
          ],
          "scattercarpet": [
           {
            "marker": {
             "colorbar": {
              "outlinewidth": 0,
              "ticks": ""
             }
            },
            "type": "scattercarpet"
           }
          ],
          "scattergeo": [
           {
            "marker": {
             "colorbar": {
              "outlinewidth": 0,
              "ticks": ""
             }
            },
            "type": "scattergeo"
           }
          ],
          "scattergl": [
           {
            "marker": {
             "colorbar": {
              "outlinewidth": 0,
              "ticks": ""
             }
            },
            "type": "scattergl"
           }
          ],
          "scattermap": [
           {
            "marker": {
             "colorbar": {
              "outlinewidth": 0,
              "ticks": ""
             }
            },
            "type": "scattermap"
           }
          ],
          "scattermapbox": [
           {
            "marker": {
             "colorbar": {
              "outlinewidth": 0,
              "ticks": ""
             }
            },
            "type": "scattermapbox"
           }
          ],
          "scatterpolar": [
           {
            "marker": {
             "colorbar": {
              "outlinewidth": 0,
              "ticks": ""
             }
            },
            "type": "scatterpolar"
           }
          ],
          "scatterpolargl": [
           {
            "marker": {
             "colorbar": {
              "outlinewidth": 0,
              "ticks": ""
             }
            },
            "type": "scatterpolargl"
           }
          ],
          "scatterternary": [
           {
            "marker": {
             "colorbar": {
              "outlinewidth": 0,
              "ticks": ""
             }
            },
            "type": "scatterternary"
           }
          ],
          "surface": [
           {
            "colorbar": {
             "outlinewidth": 0,
             "ticks": ""
            },
            "colorscale": [
             [
              0,
              "#0d0887"
             ],
             [
              0.1111111111111111,
              "#46039f"
             ],
             [
              0.2222222222222222,
              "#7201a8"
             ],
             [
              0.3333333333333333,
              "#9c179e"
             ],
             [
              0.4444444444444444,
              "#bd3786"
             ],
             [
              0.5555555555555556,
              "#d8576b"
             ],
             [
              0.6666666666666666,
              "#ed7953"
             ],
             [
              0.7777777777777778,
              "#fb9f3a"
             ],
             [
              0.8888888888888888,
              "#fdca26"
             ],
             [
              1,
              "#f0f921"
             ]
            ],
            "type": "surface"
           }
          ],
          "table": [
           {
            "cells": {
             "fill": {
              "color": "#EBF0F8"
             },
             "line": {
              "color": "white"
             }
            },
            "header": {
             "fill": {
              "color": "#C8D4E3"
             },
             "line": {
              "color": "white"
             }
            },
            "type": "table"
           }
          ]
         },
         "layout": {
          "annotationdefaults": {
           "arrowcolor": "#2a3f5f",
           "arrowhead": 0,
           "arrowwidth": 1
          },
          "autotypenumbers": "strict",
          "coloraxis": {
           "colorbar": {
            "outlinewidth": 0,
            "ticks": ""
           }
          },
          "colorscale": {
           "diverging": [
            [
             0,
             "#8e0152"
            ],
            [
             0.1,
             "#c51b7d"
            ],
            [
             0.2,
             "#de77ae"
            ],
            [
             0.3,
             "#f1b6da"
            ],
            [
             0.4,
             "#fde0ef"
            ],
            [
             0.5,
             "#f7f7f7"
            ],
            [
             0.6,
             "#e6f5d0"
            ],
            [
             0.7,
             "#b8e186"
            ],
            [
             0.8,
             "#7fbc41"
            ],
            [
             0.9,
             "#4d9221"
            ],
            [
             1,
             "#276419"
            ]
           ],
           "sequential": [
            [
             0,
             "#0d0887"
            ],
            [
             0.1111111111111111,
             "#46039f"
            ],
            [
             0.2222222222222222,
             "#7201a8"
            ],
            [
             0.3333333333333333,
             "#9c179e"
            ],
            [
             0.4444444444444444,
             "#bd3786"
            ],
            [
             0.5555555555555556,
             "#d8576b"
            ],
            [
             0.6666666666666666,
             "#ed7953"
            ],
            [
             0.7777777777777778,
             "#fb9f3a"
            ],
            [
             0.8888888888888888,
             "#fdca26"
            ],
            [
             1,
             "#f0f921"
            ]
           ],
           "sequentialminus": [
            [
             0,
             "#0d0887"
            ],
            [
             0.1111111111111111,
             "#46039f"
            ],
            [
             0.2222222222222222,
             "#7201a8"
            ],
            [
             0.3333333333333333,
             "#9c179e"
            ],
            [
             0.4444444444444444,
             "#bd3786"
            ],
            [
             0.5555555555555556,
             "#d8576b"
            ],
            [
             0.6666666666666666,
             "#ed7953"
            ],
            [
             0.7777777777777778,
             "#fb9f3a"
            ],
            [
             0.8888888888888888,
             "#fdca26"
            ],
            [
             1,
             "#f0f921"
            ]
           ]
          },
          "colorway": [
           "#636efa",
           "#EF553B",
           "#00cc96",
           "#ab63fa",
           "#FFA15A",
           "#19d3f3",
           "#FF6692",
           "#B6E880",
           "#FF97FF",
           "#FECB52"
          ],
          "font": {
           "color": "#2a3f5f"
          },
          "geo": {
           "bgcolor": "white",
           "lakecolor": "white",
           "landcolor": "#E5ECF6",
           "showlakes": true,
           "showland": true,
           "subunitcolor": "white"
          },
          "hoverlabel": {
           "align": "left"
          },
          "hovermode": "closest",
          "mapbox": {
           "style": "light"
          },
          "paper_bgcolor": "white",
          "plot_bgcolor": "#E5ECF6",
          "polar": {
           "angularaxis": {
            "gridcolor": "white",
            "linecolor": "white",
            "ticks": ""
           },
           "bgcolor": "#E5ECF6",
           "radialaxis": {
            "gridcolor": "white",
            "linecolor": "white",
            "ticks": ""
           }
          },
          "scene": {
           "xaxis": {
            "backgroundcolor": "#E5ECF6",
            "gridcolor": "white",
            "gridwidth": 2,
            "linecolor": "white",
            "showbackground": true,
            "ticks": "",
            "zerolinecolor": "white"
           },
           "yaxis": {
            "backgroundcolor": "#E5ECF6",
            "gridcolor": "white",
            "gridwidth": 2,
            "linecolor": "white",
            "showbackground": true,
            "ticks": "",
            "zerolinecolor": "white"
           },
           "zaxis": {
            "backgroundcolor": "#E5ECF6",
            "gridcolor": "white",
            "gridwidth": 2,
            "linecolor": "white",
            "showbackground": true,
            "ticks": "",
            "zerolinecolor": "white"
           }
          },
          "shapedefaults": {
           "line": {
            "color": "#2a3f5f"
           }
          },
          "ternary": {
           "aaxis": {
            "gridcolor": "white",
            "linecolor": "white",
            "ticks": ""
           },
           "baxis": {
            "gridcolor": "white",
            "linecolor": "white",
            "ticks": ""
           },
           "bgcolor": "#E5ECF6",
           "caxis": {
            "gridcolor": "white",
            "linecolor": "white",
            "ticks": ""
           }
          },
          "title": {
           "x": 0.05
          },
          "xaxis": {
           "automargin": true,
           "gridcolor": "white",
           "linecolor": "white",
           "ticks": "",
           "title": {
            "standoff": 15
           },
           "zerolinecolor": "white",
           "zerolinewidth": 2
          },
          "yaxis": {
           "automargin": true,
           "gridcolor": "white",
           "linecolor": "white",
           "ticks": "",
           "title": {
            "standoff": 15
           },
           "zerolinecolor": "white",
           "zerolinewidth": 2
          }
         }
        },
        "title": {
         "text": "CONTAMINACIÓN MEDIOAMBIENTAL - EMISIONES DE CO2 PARA MARCA Y MODELO (G/KM)"
        },
        "width": 950
       }
      }
     },
     "metadata": {},
     "output_type": "display_data"
    }
   ],
   "source": [
    "data = datosCoches\n",
    "\n",
    "fig = px.treemap(data,\n",
    "                 title = ('CONTAMINACIÓN MEDIOAMBIENTAL - EMISIONES DE CO2 PARA MARCA Y MODELO (G/KM)'),\n",
    "                 height = 550,\n",
    "                 width = 950,\n",
    "                 path =[px.Constant('Marcas/fabricantes'),'Manufacturer','Model'],\n",
    "                 values = 'CO2gkm',\n",
    "                 color = 'CO2gkm',\n",
    "                 labels = {'CO2gkm':'CO2 - G/KM'})\n",
    "\n",
    "fig.show() "
   ]
  },
  {
   "cell_type": "code",
   "execution_count": null,
   "id": "36eaca3d",
   "metadata": {},
   "outputs": [
    {
     "data": {
      "application/vnd.plotly.v1+json": {
       "config": {
        "plotlyServerURL": "https://plot.ly"
       },
       "data": [
        {
         "branchvalues": "total",
         "customdata": {
          "bdata": "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",
          "dtype": "f8",
          "shape": "499, 1"
         },
         "domain": {
          "x": [
           0,
           1
          ],
          "y": [
           0,
           1
          ]
         },
         "hovertemplate": "labels=%{label}<br>CO2gkm=%{value}<br>parent=%{parent}<br>id=%{id}<br>EmissionsNOxmgkm=%{color}<extra></extra>",
         "ids": [
          "Marcas/fabricantes/ABARTH/500, 2012 onwards",
          "Marcas/fabricantes/ABARTH/New Abarth 595, 2016 Onwards",
          "Marcas/fabricantes/ALFA ROMEO/Alfa 4C Spider, September 2015 on",
          "Marcas/fabricantes/ALFA ROMEO/Alfa 4C, April 2014 on",
          "Marcas/fabricantes/ALFA ROMEO/Giulietta",
          "Marcas/fabricantes/ALFA ROMEO/MiTo, 2012 onwards",
          "Marcas/fabricantes/ASTON MARTIN LAGONDA/DB9 GT, MY2016",
          "Marcas/fabricantes/ASTON MARTIN LAGONDA/DB9 MY2015, from May 2014",
          "Marcas/fabricantes/ASTON MARTIN LAGONDA/Rapide S MY2015, from Sept 2014",
          "Marcas/fabricantes/ASTON MARTIN LAGONDA/Rapide S, MY2016",
          "Marcas/fabricantes/ASTON MARTIN LAGONDA/V12 Vantage S MY2015, from March 2014",
          "Marcas/fabricantes/ASTON MARTIN LAGONDA/V12 Vantage S, MY2016",
          "Marcas/fabricantes/ASTON MARTIN LAGONDA/V8 Vantage/V8 Vantage S/N430, MY2016",
          "Marcas/fabricantes/ASTON MARTIN LAGONDA/V8 Vantage/Vantage S/N430 MY2015, from May 2014",
          "Marcas/fabricantes/ASTON MARTIN LAGONDA/Vanquish MY2015, from Sept 2014",
          "Marcas/fabricantes/ASTON MARTIN LAGONDA/Vanquish, MY2016",
          "Marcas/fabricantes/ASTON MARTIN LAGONDA/Vantage GT12, MY2016",
          "Marcas/fabricantes/AUDI/A1",
          "Marcas/fabricantes/AUDI/A1 Sportback",
          "Marcas/fabricantes/AUDI/A3 Cabriolet",
          "Marcas/fabricantes/AUDI/A3 Hatchback",
          "Marcas/fabricantes/AUDI/A3 Saloon",
          "Marcas/fabricantes/AUDI/A3 Sportback",
          "Marcas/fabricantes/AUDI/A4 Allroad",
          "Marcas/fabricantes/AUDI/A5 Cabriolet",
          "Marcas/fabricantes/AUDI/Coupe",
          "Marcas/fabricantes/AUDI/A5 Sportback",
          "Marcas/fabricantes/AUDI/A6 Allroad",
          "Marcas/fabricantes/AUDI/A6 Avant",
          "Marcas/fabricantes/AUDI/A6 Saloon",
          "Marcas/fabricantes/AUDI/A7 Sportback",
          "Marcas/fabricantes/AUDI/A8",
          "Marcas/fabricantes/AUDI/New A4 Avant",
          "Marcas/fabricantes/AUDI/New A4 Saloon",
          "Marcas/fabricantes/AUDI/Q3",
          "Marcas/fabricantes/AUDI/Q5",
          "Marcas/fabricantes/AUDI/Q7",
          "Marcas/fabricantes/AUDI/R8 Spyder",
          "Marcas/fabricantes/AUDI/RS Series",
          "Marcas/fabricantes/AUDI/TT Roadster",
          "Marcas/fabricantes/BENTLEY MOTORS/Bentayga, MY2017",
          "Marcas/fabricantes/BENTLEY MOTORS/Continental",
          "Marcas/fabricantes/BENTLEY MOTORS/Continental, MY2016",
          "Marcas/fabricantes/BENTLEY MOTORS/Flying Spur, MY2015",
          "Marcas/fabricantes/BENTLEY MOTORS/Flying Spur, MY2017",
          "Marcas/fabricantes/BENTLEY MOTORS/Mulsanne, MY2017",
          "Marcas/fabricantes/BMW/1 Series 3-door F21, From September 2012",
          "Marcas/fabricantes/BMW/1 Series 5-door F20, From September 2011",
          "Marcas/fabricantes/BMW/2 Series Active Tourer F45, From March 2016",
          "Marcas/fabricantes/BMW/2 Series Active Tourer F45, From September 2014",
          "Marcas/fabricantes/BMW/2 Series Convertible F23, From February 2015",
          "Marcas/fabricantes/BMW/2 Series Convertible F23, From July 2015",
          "Marcas/fabricantes/BMW/Coupe",
          "Marcas/fabricantes/BMW/2 Series Gran Tourer F46, From June 2015",
          "Marcas/fabricantes/BMW/2 Series Gran Tourer F46, From March 2016",
          "Marcas/fabricantes/BMW/3 Series Gran Turismo F34, From June 2013",
          "Marcas/fabricantes/BMW/3 Series Saloon F30, From February 2012",
          "Marcas/fabricantes/BMW/3 Series Touring F31, from September 2012",
          "Marcas/fabricantes/BMW/4 Series Convertible F33, From March 2014",
          "Marcas/fabricantes/BMW/4 Series Convertible F33, From March 2016",
          "Marcas/fabricantes/BMW/5 Series F10/F11, From March 2010",
          "Marcas/fabricantes/BMW/5 Series Gran Turismo F07, From October 2009",
          "Marcas/fabricantes/BMW/6 Series F12/F13, March 2011",
          "Marcas/fabricantes/BMW/7 Series G11/G12, From October 2015",
          "Marcas/fabricantes/BMW/i Series, From November 2013",
          "Marcas/fabricantes/BMW/M3 Series Saloon F80, From June 2014",
          "Marcas/fabricantes/BMW/M4 Series Convertible F83, From September 2014",
          "Marcas/fabricantes/BMW/X1 Series F48, From March 2016",
          "Marcas/fabricantes/BMW/X1 Series F48, From October 2015",
          "Marcas/fabricantes/BMW/X3 Series F25, From November 2010",
          "Marcas/fabricantes/BMW/X4 Series F26, From July 2014",
          "Marcas/fabricantes/BMW/X5 M Series F85, From April 2015",
          "Marcas/fabricantes/BMW/X5 Series F15, From November 2013",
          "Marcas/fabricantes/BMW/X6 M Series F86, From April 2015",
          "Marcas/fabricantes/BMW/X6 Series F16, From December 2014",
          "Marcas/fabricantes/BMW/Z4 Series E89 Roadster",
          "Marcas/fabricantes/CHRYSLER JEEP/Jeep Cherokee, MY 2015",
          "Marcas/fabricantes/CHRYSLER JEEP/Jeep Cherokee, MY2016",
          "Marcas/fabricantes/CHRYSLER JEEP/Jeep Compass, MY 2015",
          "Marcas/fabricantes/CHRYSLER JEEP/Jeep Grand Cherokee, MY 2014",
          "Marcas/fabricantes/CHRYSLER JEEP/Jeep Grand Cherokee, MY 2015",
          "Marcas/fabricantes/CHRYSLER JEEP/Jeep Grand Cherokee, MY2016",
          "Marcas/fabricantes/CHRYSLER JEEP/Jeep Renegade, MY2015",
          "Marcas/fabricantes/CHRYSLER JEEP/Jeep Renegade, MY2016",
          "Marcas/fabricantes/CHRYSLER JEEP/Jeep Wrangler, MY 2015",
          "Marcas/fabricantes/CHRYSLER JEEP/Jeep Wrangler, MY 2016",
          "Marcas/fabricantes/CITROEN/Berlingo Multispace",
          "Marcas/fabricantes/CITROEN/C1",
          "Marcas/fabricantes/CITROEN/C3",
          "Marcas/fabricantes/CITROEN/C3 Picasso",
          "Marcas/fabricantes/CITROEN/C4",
          "Marcas/fabricantes/CITROEN/C4 Cactus",
          "Marcas/fabricantes/CITROEN/C4 Picasso",
          "Marcas/fabricantes/CITROEN/C5 Tourer",
          "Marcas/fabricantes/CITROEN/Grand C4 Picasso",
          "Marcas/fabricantes/DACIA/Duster Euro6, 2015",
          "Marcas/fabricantes/DACIA/Logan MCV Euro6, 2015",
          "Marcas/fabricantes/DACIA/Sandero  Stepway Euro6, 2015",
          "Marcas/fabricantes/DACIA/Sandero Euro6 2015",
          "Marcas/fabricantes/DS/DS3",
          "Marcas/fabricantes/DS/DS3 Cabriolet",
          "Marcas/fabricantes/DS/New DS3",
          "Marcas/fabricantes/DS/New DS3 Cabriolet",
          "Marcas/fabricantes/DS/New DS4",
          "Marcas/fabricantes/DS/New DS4 Crossback",
          "Marcas/fabricantes/DS/New DS5",
          "Marcas/fabricantes/FERRARI/All Models",
          "Marcas/fabricantes/FIAT/500 & 500C, September 2015 onwards",
          "Marcas/fabricantes/FIAT/500 X, 2015 onwards",
          "Marcas/fabricantes/FIAT/500L MPW, August 2013 onwards",
          "Marcas/fabricantes/FIAT/500L, from 2013 onwards",
          "Marcas/fabricantes/FIAT/Doblo, 2015 onwards",
          "Marcas/fabricantes/FIAT/Panda, From February 2012 onwards",
          "Marcas/fabricantes/FIAT/Punto, 2012 onwards",
          "Marcas/fabricantes/FIAT/Qubo, 2012 onwards",
          "Marcas/fabricantes/FORD/All New C-Max, Model Year Post 2016¼",
          "Marcas/fabricantes/FORD/All New C-Max, Model Year Pre 2016¼",
          "Marcas/fabricantes/FORD/All New Focus, Model Year Post 2016½",
          "Marcas/fabricantes/FORD/All New Focus, Model Year Pre 2016½",
          "Marcas/fabricantes/FORD/All New Galaxy, Model Year Post 2016¾",
          "Marcas/fabricantes/FORD/All New Galaxy, Model Year Pre 2016¾",
          "Marcas/fabricantes/FORD/All New Grand C-Max, Model Year Post 2016¼",
          "Marcas/fabricantes/FORD/All New Grand C-Max, Model Year Pre 2016¼",
          "Marcas/fabricantes/FORD/All New Mondeo, Model Year Post 2016¾",
          "Marcas/fabricantes/FORD/All New Mondeo, Model Year Pre 2016¾",
          "Marcas/fabricantes/FORD/All New S-MAX, Model Year Post 2016¾",
          "Marcas/fabricantes/FORD/All New S-MAX, Model Year Pre 2016¾",
          "Marcas/fabricantes/FORD/B-MAX, Model Year Post 2015¾",
          "Marcas/fabricantes/FORD/EcoSport, Model Year Post 2016¾",
          "Marcas/fabricantes/FORD/EcoSport, Model Year Pre 2016¾",
          "Marcas/fabricantes/FORD/Edge, Model Year Post 2016",
          "Marcas/fabricantes/FORD/Fiesta, Model Year Post 2017",
          "Marcas/fabricantes/FORD/Fiesta, Model Year Pre 2017",
          "Marcas/fabricantes/FORD/Grand Tourneo Connect, Model Year Post 2016¼",
          "Marcas/fabricantes/FORD/Grand Tourneo Connect, Model Year Pre 2016¼",
          "Marcas/fabricantes/FORD/Ka, Model Year Post 2015½",
          "Marcas/fabricantes/FORD/KA+, Model Year Post 2016¾",
          "Marcas/fabricantes/FORD/Kuga, Model Year Post 2016½",
          "Marcas/fabricantes/FORD/Kuga, Model Year Pre 2016½",
          "Marcas/fabricantes/FORD/Mondeo Vignale, Model Year Post 2016¾",
          "Marcas/fabricantes/FORD/Mondeo Vignale, Model Year Pre 2016¾",
          "Marcas/fabricantes/FORD/Mustang, Model Year Post 2015¾",
          "Marcas/fabricantes/FORD/S-MAX Vignale, Model Year Post 2017",
          "Marcas/fabricantes/FORD/Tourneo Connect, Model Year Post 2016½",
          "Marcas/fabricantes/FORD/Tourneo Connect, Model Year Pre 2016½",
          "Marcas/fabricantes/FORD/Tourneo Courier Kombi - , Model Year Post 2015¾",
          "Marcas/fabricantes/FORD/Tourneo Custom - 310 Long Wheelbase, Model Year Post 2016½",
          "Marcas/fabricantes/FORD/Tourneo Custom - 310 Short Wheelbase, Model Year Post 2016½",
          "Marcas/fabricantes/HONDA/Civic Hatchback, Model Year 2015",
          "Marcas/fabricantes/HONDA/Civic Tourer, Model Year 2015",
          "Marcas/fabricantes/HONDA/CR-V, Model Year 2015",
          "Marcas/fabricantes/HONDA/HR-V, Model Year 2016",
          "Marcas/fabricantes/HONDA/Jazz, Model Year 2016",
          "Marcas/fabricantes/HYUNDAI/Genesis",
          "Marcas/fabricantes/HYUNDAI/i10",
          "Marcas/fabricantes/HYUNDAI/i20",
          "Marcas/fabricantes/HYUNDAI/i20 Active",
          "Marcas/fabricantes/HYUNDAI/i30",
          "Marcas/fabricantes/HYUNDAI/i30 Tourer",
          "Marcas/fabricantes/HYUNDAI/i40",
          "Marcas/fabricantes/HYUNDAI/i800",
          "Marcas/fabricantes/HYUNDAI/ix20",
          "Marcas/fabricantes/HYUNDAI/Santa Fe",
          "Marcas/fabricantes/HYUNDAI/Tucson",
          "Marcas/fabricantes/INFINITI/Q30 Euro6, 2016",
          "Marcas/fabricantes/INFINITI/Q50 Euro6, 2016",
          "Marcas/fabricantes/INFINITI/Q70 Euro6, 2016",
          "Marcas/fabricantes/JAGUAR/F-PACE, 17MY",
          "Marcas/fabricantes/JAGUAR/F-TYPE Automatic RWD, 16MY",
          "Marcas/fabricantes/JAGUAR/F-TYPE Manual RWD, 16MY",
          "Marcas/fabricantes/JAGUAR/F-TYPE R Automatic AWD, 16MY",
          "Marcas/fabricantes/JAGUAR/F-TYPE R Automatic RWD, 16MY",
          "Marcas/fabricantes/JAGUAR/F-TYPE S Automatic AWD, 16MY",
          "Marcas/fabricantes/JAGUAR/F-TYPE S Automatic RWD, 16MY",
          "Marcas/fabricantes/JAGUAR/F-TYPE S Manual RWD, 16MY",
          "Marcas/fabricantes/JAGUAR/F-TYPE SVR Automatic AWD, 17MY",
          "Marcas/fabricantes/JAGUAR/XE Saloon, 16MY",
          "Marcas/fabricantes/JAGUAR/XE Saloon, 17MY",
          "Marcas/fabricantes/JAGUAR/XF Saloon, 16MY",
          "Marcas/fabricantes/JAGUAR/XF Saloon, 17MY",
          "Marcas/fabricantes/JAGUAR/XJ Saloon, 16MY",
          "Marcas/fabricantes/KIA/Carens",
          "Marcas/fabricantes/KIA/cee'd",
          "Marcas/fabricantes/KIA/cee'd SW",
          "Marcas/fabricantes/KIA/Picanto 3-door",
          "Marcas/fabricantes/KIA/Picanto 5-door",
          "Marcas/fabricantes/KIA/pro_cee'd",
          "Marcas/fabricantes/KIA/Rio 3-door",
          "Marcas/fabricantes/KIA/Rio 5-door",
          "Marcas/fabricantes/KIA/Sorento",
          "Marcas/fabricantes/KIA/Soul",
          "Marcas/fabricantes/KIA/Sportage",
          "Marcas/fabricantes/KIA/Venga",
          "Marcas/fabricantes/LAMBORGHINI/Aventador",
          "Marcas/fabricantes/LAMBORGHINI/Huracan",
          "Marcas/fabricantes/LAND ROVER/Discovery 16MY",
          "Marcas/fabricantes/LAND ROVER/Discovery Sport 16MY",
          "Marcas/fabricantes/LAND ROVER/Range Rover 16MY",
          "Marcas/fabricantes/LAND ROVER/Range Rover Evoque 16MY",
          "Marcas/fabricantes/LAND ROVER/Range Rover Sport 16MY",
          "Marcas/fabricantes/LEXUS/CT, MY2015",
          "Marcas/fabricantes/LEXUS/CT200h, MY2016",
          "Marcas/fabricantes/LEXUS/GS F, MY2016",
          "Marcas/fabricantes/LEXUS/GS, MY2014",
          "Marcas/fabricantes/LEXUS/GS300h, MY2016",
          "Marcas/fabricantes/LEXUS/GS450h, MY2016",
          "Marcas/fabricantes/LEXUS/IS, MY2015",
          "Marcas/fabricantes/LEXUS/IS300h, MY2016",
          "Marcas/fabricantes/LEXUS/LS",
          "Marcas/fabricantes/LEXUS/NX, MY2015",
          "Marcas/fabricantes/LEXUS/RC 200t, MY2015",
          "Marcas/fabricantes/LEXUS/RC F, MY2015",
          "Marcas/fabricantes/LEXUS/RC300h, MY2015",
          "Marcas/fabricantes/LEXUS/RX, MY2015",
          "Marcas/fabricantes/LONDON TAXI COMPANY/Taxi - TX4",
          "Marcas/fabricantes/MASERATI/Ghibli",
          "Marcas/fabricantes/MASERATI/Quattroporte",
          "Marcas/fabricantes/MAZDA/CX-3",
          "Marcas/fabricantes/MAZDA/CX-5",
          "Marcas/fabricantes/MAZDA/Mazda2",
          "Marcas/fabricantes/MAZDA/Mazda3 4 door",
          "Marcas/fabricantes/MAZDA/Mazda3 5 door",
          "Marcas/fabricantes/MAZDA/Mazda6 Saloon",
          "Marcas/fabricantes/MAZDA/Mazda6 Tourer",
          "Marcas/fabricantes/MAZDA/MX-5",
          "Marcas/fabricantes/McLaren/540C",
          "Marcas/fabricantes/McLaren/570GT",
          "Marcas/fabricantes/McLaren/570S",
          "Marcas/fabricantes/McLaren/625C, MY2015",
          "Marcas/fabricantes/McLaren/650S Can-Am",
          "Marcas/fabricantes/McLaren/650S Le Mans, MY2015",
          "Marcas/fabricantes/McLaren/650S, MY2015",
          "Marcas/fabricantes/McLaren/675LT, MY2016",
          "Marcas/fabricantes/MERCEDES-BENZ/A-Class, Model Year 2016",
          "Marcas/fabricantes/MERCEDES-BENZ/A-Class, Model Year 2017",
          "Marcas/fabricantes/MERCEDES-BENZ/AMG GT, Model Year 2016",
          "Marcas/fabricantes/MERCEDES-BENZ/B-Class, Model Year 2016",
          "Marcas/fabricantes/MERCEDES-BENZ/Coupe",
          "Marcas/fabricantes/MERCEDES-BENZ/C-Class Estate, Model Year 2016",
          "Marcas/fabricantes/MERCEDES-BENZ/C-Class Saloon, Model Year 2016",
          "Marcas/fabricantes/MERCEDES-BENZ/CLA Shooting Brake, Model Year 2016",
          "Marcas/fabricantes/MERCEDES-BENZ/CLA Shooting Brake, Model Year 2017",
          "Marcas/fabricantes/MERCEDES-BENZ/CLS Shooting Brake, Model Year 2016",
          "Marcas/fabricantes/MERCEDES-BENZ/CLS Shooting Brake, Model Year 2017",
          "Marcas/fabricantes/MERCEDES-BENZ/E-Class Cabriolet, Model Year 2016",
          "Marcas/fabricantes/MERCEDES-BENZ/E-Class Estate, Model Year 2016",
          "Marcas/fabricantes/MERCEDES-BENZ/E-Class Saloon, Model Year 2016",
          "Marcas/fabricantes/MERCEDES-BENZ/E-Class Saloon, Model Year 2017",
          "Marcas/fabricantes/MERCEDES-BENZ/G-Class, Model Year 2017",
          "Marcas/fabricantes/MERCEDES-BENZ/GLA Class, Model Year 2016",
          "Marcas/fabricantes/MERCEDES-BENZ/GLC, Model Year 2016",
          "Marcas/fabricantes/MERCEDES-BENZ/GL-Class, Model Year 2016",
          "Marcas/fabricantes/MERCEDES-BENZ/GLE Estate, Model Year 2016",
          "Marcas/fabricantes/MERCEDES-BENZ/GLE Estate, Model Year 2016½",
          "Marcas/fabricantes/MERCEDES-BENZ/GLS, Model Year 2017",
          "Marcas/fabricantes/MERCEDES-BENZ/S-Class Cabriolet, Model Year 2016",
          "Marcas/fabricantes/MERCEDES-BENZ/S-Class Limousine, Model Year 2016",
          "Marcas/fabricantes/MERCEDES-BENZ/S-Class Limousine, Model Year 2016½",
          "Marcas/fabricantes/MERCEDES-BENZ/S-Class Saloon, Model Year 2016",
          "Marcas/fabricantes/MERCEDES-BENZ/S-Class Saloon, Model Year 2016½",
          "Marcas/fabricantes/MERCEDES-BENZ/SL, Model Year 2016",
          "Marcas/fabricantes/MERCEDES-BENZ/SL, Model Year 2017",
          "Marcas/fabricantes/MERCEDES-BENZ/SLC, Model Year 2017",
          "Marcas/fabricantes/MERCEDES-BENZ/SLK-Class, Model Year 2016",
          "Marcas/fabricantes/MERCEDES-BENZ/V-Class, Model Year 2016",
          "Marcas/fabricantes/MINI/MINI 3-door Hatchback F56, From March 2014",
          "Marcas/fabricantes/MINI/MINI 3-door Hatchback F56, From March 2016",
          "Marcas/fabricantes/MINI/MINI 5-door Hatchback F55, From October 2014",
          "Marcas/fabricantes/MINI/MINI Clubman F54, From October 2015",
          "Marcas/fabricantes/MINI/MINI Convertible F57, From March 2016",
          "Marcas/fabricantes/MINI/MINI Countryman R60, From September 2010",
          "Marcas/fabricantes/MINI/Coupe",
          "Marcas/fabricantes/MINI/MINI Paceman R61, From November 2012",
          "Marcas/fabricantes/MINI/MINI Roadster R59, From April 2012",
          "Marcas/fabricantes/MITSUBISHI/ASX",
          "Marcas/fabricantes/MITSUBISHI/Mirage",
          "Marcas/fabricantes/MITSUBISHI/Outlander",
          "Marcas/fabricantes/MITSUBISHI/Outlander PHEV, 2014",
          "Marcas/fabricantes/MITSUBISHI/Shogun",
          "Marcas/fabricantes/NISSAN/370Z Euro6, 2016",
          "Marcas/fabricantes/NISSAN/GTR Euro6, 2016",
          "Marcas/fabricantes/NISSAN/Juke Euro6, 2015",
          "Marcas/fabricantes/NISSAN/Juke, 2014/15",
          "Marcas/fabricantes/NISSAN/Micra Euro6, 2015",
          "Marcas/fabricantes/NISSAN/Note Euro6, 2015",
          "Marcas/fabricantes/NISSAN/NV200 EURO6, 2015",
          "Marcas/fabricantes/NISSAN/Pulsar Euro6, 2015",
          "Marcas/fabricantes/NISSAN/Qashqai Euro6, 2015",
          "Marcas/fabricantes/NISSAN/XTrail Euro6, 2015",
          "Marcas/fabricantes/PEUGEOT/108",
          "Marcas/fabricantes/PEUGEOT/208",
          "Marcas/fabricantes/PEUGEOT/308",
          "Marcas/fabricantes/PEUGEOT/508",
          "Marcas/fabricantes/PEUGEOT/2008",
          "Marcas/fabricantes/PEUGEOT/3008",
          "Marcas/fabricantes/PEUGEOT/5008",
          "Marcas/fabricantes/PEUGEOT/308 SW",
          "Marcas/fabricantes/PEUGEOT/508 RXH",
          "Marcas/fabricantes/PEUGEOT/508 SW",
          "Marcas/fabricantes/PEUGEOT/Partner Tepee",
          "Marcas/fabricantes/PORSCHE/718",
          "Marcas/fabricantes/PORSCHE/911 (991 II)",
          "Marcas/fabricantes/PORSCHE/911 (991)",
          "Marcas/fabricantes/PORSCHE/Boxster",
          "Marcas/fabricantes/PORSCHE/Cayenne",
          "Marcas/fabricantes/PORSCHE/Cayman",
          "Marcas/fabricantes/PORSCHE/Macan",
          "Marcas/fabricantes/PORSCHE/Panamera",
          "Marcas/fabricantes/RENAULT/Captur Euro6, 2015",
          "Marcas/fabricantes/RENAULT/Clio Euro6, 2015",
          "Marcas/fabricantes/RENAULT/Clio Sport Tourer Euro6, 2015",
          "Marcas/fabricantes/RENAULT/Grand Scenic Euro6, 2015",
          "Marcas/fabricantes/RENAULT/Kadjar Euro6, 2015",
          "Marcas/fabricantes/RENAULT/Megane 2016",
          "Marcas/fabricantes/RENAULT/Coupe",
          "Marcas/fabricantes/RENAULT/Mégane Hatchback Euro6, 2015",
          "Marcas/fabricantes/RENAULT/Megane Renault Sport Euro6, 2015",
          "Marcas/fabricantes/RENAULT/Mégane Sport Tourer Euro6, 2015",
          "Marcas/fabricantes/RENAULT/Scenic Euro6, 2015",
          "Marcas/fabricantes/RENAULT/Trafic Euro6, 2016",
          "Marcas/fabricantes/RENAULT/Twingo Euro6, 2015",
          "Marcas/fabricantes/RENAULT/X Mod Euro6, 2015",
          "Marcas/fabricantes/Rolls Royce/Dawn",
          "Marcas/fabricantes/Rolls Royce/Ghost",
          "Marcas/fabricantes/Rolls Royce/Phantom",
          "Marcas/fabricantes/Rolls Royce/Wraith",
          "Marcas/fabricantes/SEAT/Alhambra",
          "Marcas/fabricantes/SEAT/Ateca",
          "Marcas/fabricantes/SEAT/Ibiza 5 door",
          "Marcas/fabricantes/SEAT/Ibiza SC",
          "Marcas/fabricantes/SEAT/Ibiza ST",
          "Marcas/fabricantes/SEAT/Leon 5 Door",
          "Marcas/fabricantes/SEAT/Leon SC",
          "Marcas/fabricantes/SEAT/Leon ST",
          "Marcas/fabricantes/SEAT/Leon X-Perience",
          "Marcas/fabricantes/SEAT/Mii",
          "Marcas/fabricantes/SEAT/Toledo",
          "Marcas/fabricantes/SKODA/Citigo",
          "Marcas/fabricantes/SKODA/Fabia Estate",
          "Marcas/fabricantes/SKODA/Fabia Hatchback",
          "Marcas/fabricantes/SKODA/New Superb Estate",
          "Marcas/fabricantes/SKODA/New Superb Saloon",
          "Marcas/fabricantes/SKODA/Octavia Estate",
          "Marcas/fabricantes/SKODA/Octavia Hatchback",
          "Marcas/fabricantes/SKODA/Rapid",
          "Marcas/fabricantes/SKODA/Rapid Spaceback",
          "Marcas/fabricantes/SKODA/Superb Estate",
          "Marcas/fabricantes/SKODA/Superb Saloon",
          "Marcas/fabricantes/SKODA/Yeti",
          "Marcas/fabricantes/SMART/forfour, Model Year 2016",
          "Marcas/fabricantes/SMART/fortwo cabrio, Model Year 2016",
          "Marcas/fabricantes/SMART/fortwo coupé, Model Year 2016",
          "Marcas/fabricantes/SSANGYONG/Korando",
          "Marcas/fabricantes/SSANGYONG/Rexton W",
          "Marcas/fabricantes/SSANGYONG/Tivoli",
          "Marcas/fabricantes/SSANGYONG/Turismo",
          "Marcas/fabricantes/SUBARU/Forester AWD, From 2015 MY",
          "Marcas/fabricantes/SUBARU/Levorg AWD, From 2016 MY",
          "Marcas/fabricantes/SUBARU/Outback AWD, From 2015 MY",
          "Marcas/fabricantes/SUBARU/WRX STI AWD, From 2015 MY",
          "Marcas/fabricantes/SUBARU/XV AWD, From 2015MY",
          "Marcas/fabricantes/SUZUKI/Celerio",
          "Marcas/fabricantes/SUZUKI/Jimny",
          "Marcas/fabricantes/SUZUKI/Swift",
          "Marcas/fabricantes/SUZUKI/SX4 S-Cross",
          "Marcas/fabricantes/SUZUKI/Vitara",
          "Marcas/fabricantes/TOYOTA/Auris, MY2015",
          "Marcas/fabricantes/TOYOTA/Avensis, MY2015",
          "Marcas/fabricantes/TOYOTA/Aygo, MY2015",
          "Marcas/fabricantes/TOYOTA/GT86, MY2016",
          "Marcas/fabricantes/TOYOTA/Land Cruiser, MY2016",
          "Marcas/fabricantes/TOYOTA/Prius Plug-In, MY2012",
          "Marcas/fabricantes/TOYOTA/Prius Plus, MY2015",
          "Marcas/fabricantes/TOYOTA/Prius, 2016",
          "Marcas/fabricantes/TOYOTA/Prius, MY2012",
          "Marcas/fabricantes/TOYOTA/RAV4, MY2015",
          "Marcas/fabricantes/TOYOTA/RAV4, MY2016",
          "Marcas/fabricantes/TOYOTA/Verso MY2016",
          "Marcas/fabricantes/TOYOTA/Verso, 2016",
          "Marcas/fabricantes/TOYOTA/Verso, MY2015",
          "Marcas/fabricantes/TOYOTA/Yaris, 2016",
          "Marcas/fabricantes/VAUXHALL/Adam 3 Door Hatchback, Model Year 2015",
          "Marcas/fabricantes/VAUXHALL/Adam 3 Door Hatchback, Model Year 2016",
          "Marcas/fabricantes/VAUXHALL/Astra 5 Door Hatchback, Model Year 2015",
          "Marcas/fabricantes/VAUXHALL/Astra 5 Door Hatchback, Model Year 2016",
          "Marcas/fabricantes/VAUXHALL/Astra 5 Door Sports Tourer, Model Year 2015",
          "Marcas/fabricantes/VAUXHALL/Astra 5 Door Sports Tourer, Model Year 2016",
          "Marcas/fabricantes/VAUXHALL/Astra GTC, Model Year 2015",
          "Marcas/fabricantes/VAUXHALL/Astra GTC, Model Year 2016",
          "Marcas/fabricantes/VAUXHALL/Cascada, Model Year 2015",
          "Marcas/fabricantes/VAUXHALL/Cascada, Model Year 2016",
          "Marcas/fabricantes/VAUXHALL/Corsa 3 Door Hatchback, Model Year 2015",
          "Marcas/fabricantes/VAUXHALL/Corsa 3 Door Hatchback, Model Year 2016",
          "Marcas/fabricantes/VAUXHALL/Corsa 5 Door Hatchback, Model Year 2015",
          "Marcas/fabricantes/VAUXHALL/Corsa 5 Door Hatchback, Model Year 2016",
          "Marcas/fabricantes/VAUXHALL/Insignia 5 Door Hatchback, Model Year 2015",
          "Marcas/fabricantes/VAUXHALL/Insignia 5 Door Hatchback, Model Year 2016",
          "Marcas/fabricantes/VAUXHALL/Insignia 5 Door Sports Tourer, Model Year 2016",
          "Marcas/fabricantes/VAUXHALL/Meriva, Model Year 2015",
          "Marcas/fabricantes/VAUXHALL/Meriva, Model Year 2016",
          "Marcas/fabricantes/VAUXHALL/Mokka, Model Year 2015",
          "Marcas/fabricantes/VAUXHALL/Mokka, Model Year 2016",
          "Marcas/fabricantes/VAUXHALL/Viva 5 Door Hatchback, Model Year 2016",
          "Marcas/fabricantes/VAUXHALL/Zafira, Model Year 2015",
          "Marcas/fabricantes/VAUXHALL/Zafira, Model Year 2016",
          "Marcas/fabricantes/VOLKSWAGEN/Beetle",
          "Marcas/fabricantes/VOLKSWAGEN/Beetle Cabriolet",
          "Marcas/fabricantes/VOLKSWAGEN/Golf",
          "Marcas/fabricantes/VOLKSWAGEN/Golf Cabriolet",
          "Marcas/fabricantes/VOLKSWAGEN/Golf Estate",
          "Marcas/fabricantes/VOLKSWAGEN/Golf SV",
          "Marcas/fabricantes/VOLKSWAGEN/Jetta",
          "Marcas/fabricantes/VOLKSWAGEN/New CC",
          "Marcas/fabricantes/VOLKSWAGEN/New Sharan",
          "Marcas/fabricantes/VOLKSWAGEN/New Tiguan",
          "Marcas/fabricantes/VOLKSWAGEN/New Touareg",
          "Marcas/fabricantes/VOLKSWAGEN/Passat Alltrack",
          "Marcas/fabricantes/VOLKSWAGEN/Passat Estate",
          "Marcas/fabricantes/VOLKSWAGEN/Passat Saloon",
          "Marcas/fabricantes/VOLKSWAGEN/Polo",
          "Marcas/fabricantes/VOLKSWAGEN/Scirocco",
          "Marcas/fabricantes/VOLKSWAGEN/Touran",
          "Marcas/fabricantes/VOLKSWAGEN/UP",
          "Marcas/fabricantes/VOLKSWAGEN C.V./Caddy Life",
          "Marcas/fabricantes/VOLKSWAGEN C.V./Caddy Life BlueMotion",
          "Marcas/fabricantes/VOLKSWAGEN C.V./Caddy Maxi Life",
          "Marcas/fabricantes/VOLKSWAGEN C.V./Caddy Maxi Window Van",
          "Marcas/fabricantes/VOLKSWAGEN C.V./California Beach",
          "Marcas/fabricantes/VOLKSWAGEN C.V./California Ocean",
          "Marcas/fabricantes/VOLKSWAGEN C.V./Caravelle Executive Short Wheelbase",
          "Marcas/fabricantes/VOLKSWAGEN C.V./Caravelle Generation Six",
          "Marcas/fabricantes/VOLKSWAGEN C.V./Caravelle SE Long Wheelbase",
          "Marcas/fabricantes/VOLKSWAGEN C.V./Caravelle SE Short Wheelbase",
          "Marcas/fabricantes/VOLKSWAGEN C.V./Transporter Shuttle S Long Wheelbase",
          "Marcas/fabricantes/VOLKSWAGEN C.V./Transporter Shuttle S Short Wheelbase",
          "Marcas/fabricantes/VOLKSWAGEN C.V./Transporter Shuttle SE Long Wheelbase",
          "Marcas/fabricantes/VOLKSWAGEN C.V./Transporter Shuttle SE Short Wheelbase",
          "Marcas/fabricantes/VOLKSWAGEN C.V./Transporter Window Van T30 and T32 Long Wheelbase Low Roof",
          "Marcas/fabricantes/VOLKSWAGEN C.V./Transporter Window Van T30 and T32 Short Wheelbase Low Roof",
          "Marcas/fabricantes/VOLVO/S60 MY17",
          "Marcas/fabricantes/VOLVO/S60, MY16",
          "Marcas/fabricantes/VOLVO/S80, MY16",
          "Marcas/fabricantes/VOLVO/S90 MY17",
          "Marcas/fabricantes/VOLVO/V40 MY17",
          "Marcas/fabricantes/VOLVO/V40, MY16",
          "Marcas/fabricantes/VOLVO/V60 MY17",
          "Marcas/fabricantes/VOLVO/V60, MY16",
          "Marcas/fabricantes/VOLVO/V70, MY16",
          "Marcas/fabricantes/VOLVO/V90 MY17",
          "Marcas/fabricantes/VOLVO/XC60 MY17",
          "Marcas/fabricantes/VOLVO/XC60, MY16",
          "Marcas/fabricantes/VOLVO/XC70, MY16",
          "Marcas/fabricantes/VOLVO/XC90 MY17",
          "Marcas/fabricantes/VOLVO/XC90, MY16",
          "Marcas/fabricantes/ABARTH",
          "Marcas/fabricantes/ALFA ROMEO",
          "Marcas/fabricantes/ASTON MARTIN LAGONDA",
          "Marcas/fabricantes/AUDI",
          "Marcas/fabricantes/BENTLEY MOTORS",
          "Marcas/fabricantes/BMW",
          "Marcas/fabricantes/CHRYSLER JEEP",
          "Marcas/fabricantes/CITROEN",
          "Marcas/fabricantes/DACIA",
          "Marcas/fabricantes/DS",
          "Marcas/fabricantes/FERRARI",
          "Marcas/fabricantes/FIAT",
          "Marcas/fabricantes/FORD",
          "Marcas/fabricantes/HONDA",
          "Marcas/fabricantes/HYUNDAI",
          "Marcas/fabricantes/INFINITI",
          "Marcas/fabricantes/JAGUAR",
          "Marcas/fabricantes/KIA",
          "Marcas/fabricantes/LAMBORGHINI",
          "Marcas/fabricantes/LAND ROVER",
          "Marcas/fabricantes/LEXUS",
          "Marcas/fabricantes/LONDON TAXI COMPANY",
          "Marcas/fabricantes/MASERATI",
          "Marcas/fabricantes/MAZDA",
          "Marcas/fabricantes/McLaren",
          "Marcas/fabricantes/MERCEDES-BENZ",
          "Marcas/fabricantes/MINI",
          "Marcas/fabricantes/MITSUBISHI",
          "Marcas/fabricantes/NISSAN",
          "Marcas/fabricantes/PEUGEOT",
          "Marcas/fabricantes/PORSCHE",
          "Marcas/fabricantes/RENAULT",
          "Marcas/fabricantes/Rolls Royce",
          "Marcas/fabricantes/SEAT",
          "Marcas/fabricantes/SKODA",
          "Marcas/fabricantes/SMART",
          "Marcas/fabricantes/SSANGYONG",
          "Marcas/fabricantes/SUBARU",
          "Marcas/fabricantes/SUZUKI",
          "Marcas/fabricantes/TOYOTA",
          "Marcas/fabricantes/VAUXHALL",
          "Marcas/fabricantes/VOLKSWAGEN",
          "Marcas/fabricantes/VOLKSWAGEN C.V.",
          "Marcas/fabricantes/VOLVO",
          "Marcas/fabricantes"
         ],
         "labels": [
          "500, 2012 onwards",
          "New Abarth 595, 2016 Onwards",
          "Alfa 4C Spider, September 2015 on",
          "Alfa 4C, April 2014 on",
          "Giulietta",
          "MiTo, 2012 onwards",
          "DB9 GT, MY2016",
          "DB9 MY2015, from May 2014",
          "Rapide S MY2015, from Sept 2014",
          "Rapide S, MY2016",
          "V12 Vantage S MY2015, from March 2014",
          "V12 Vantage S, MY2016",
          "V8 Vantage/V8 Vantage S/N430, MY2016",
          "V8 Vantage/Vantage S/N430 MY2015, from May 2014",
          "Vanquish MY2015, from Sept 2014",
          "Vanquish, MY2016",
          "Vantage GT12, MY2016",
          "A1",
          "A1 Sportback",
          "A3 Cabriolet",
          "A3 Hatchback",
          "A3 Saloon",
          "A3 Sportback",
          "A4 Allroad",
          "A5 Cabriolet",
          "Coupe",
          "A5 Sportback",
          "A6 Allroad",
          "A6 Avant",
          "A6 Saloon",
          "A7 Sportback",
          "A8",
          "New A4 Avant",
          "New A4 Saloon",
          "Q3",
          "Q5",
          "Q7",
          "R8 Spyder",
          "RS Series",
          "TT Roadster",
          "Bentayga, MY2017",
          "Continental",
          "Continental, MY2016",
          "Flying Spur, MY2015",
          "Flying Spur, MY2017",
          "Mulsanne, MY2017",
          "1 Series 3-door F21, From September 2012",
          "1 Series 5-door F20, From September 2011",
          "2 Series Active Tourer F45, From March 2016",
          "2 Series Active Tourer F45, From September 2014",
          "2 Series Convertible F23, From February 2015",
          "2 Series Convertible F23, From July 2015",
          "Coupe",
          "2 Series Gran Tourer F46, From June 2015",
          "2 Series Gran Tourer F46, From March 2016",
          "3 Series Gran Turismo F34, From June 2013",
          "3 Series Saloon F30, From February 2012",
          "3 Series Touring F31, from September 2012",
          "4 Series Convertible F33, From March 2014",
          "4 Series Convertible F33, From March 2016",
          "5 Series F10/F11, From March 2010",
          "5 Series Gran Turismo F07, From October 2009",
          "6 Series F12/F13, March 2011",
          "7 Series G11/G12, From October 2015",
          "i Series, From November 2013",
          "M3 Series Saloon F80, From June 2014",
          "M4 Series Convertible F83, From September 2014",
          "X1 Series F48, From March 2016",
          "X1 Series F48, From October 2015",
          "X3 Series F25, From November 2010",
          "X4 Series F26, From July 2014",
          "X5 M Series F85, From April 2015",
          "X5 Series F15, From November 2013",
          "X6 M Series F86, From April 2015",
          "X6 Series F16, From December 2014",
          "Z4 Series E89 Roadster",
          "Jeep Cherokee, MY 2015",
          "Jeep Cherokee, MY2016",
          "Jeep Compass, MY 2015",
          "Jeep Grand Cherokee, MY 2014",
          "Jeep Grand Cherokee, MY 2015",
          "Jeep Grand Cherokee, MY2016",
          "Jeep Renegade, MY2015",
          "Jeep Renegade, MY2016",
          "Jeep Wrangler, MY 2015",
          "Jeep Wrangler, MY 2016",
          "Berlingo Multispace",
          "C1",
          "C3",
          "C3 Picasso",
          "C4",
          "C4 Cactus",
          "C4 Picasso",
          "C5 Tourer",
          "Grand C4 Picasso",
          "Duster Euro6, 2015",
          "Logan MCV Euro6, 2015",
          "Sandero  Stepway Euro6, 2015",
          "Sandero Euro6 2015",
          "DS3",
          "DS3 Cabriolet",
          "New DS3",
          "New DS3 Cabriolet",
          "New DS4",
          "New DS4 Crossback",
          "New DS5",
          "All Models",
          "500 & 500C, September 2015 onwards",
          "500 X, 2015 onwards",
          "500L MPW, August 2013 onwards",
          "500L, from 2013 onwards",
          "Doblo, 2015 onwards",
          "Panda, From February 2012 onwards",
          "Punto, 2012 onwards",
          "Qubo, 2012 onwards",
          "All New C-Max, Model Year Post 2016¼",
          "All New C-Max, Model Year Pre 2016¼",
          "All New Focus, Model Year Post 2016½",
          "All New Focus, Model Year Pre 2016½",
          "All New Galaxy, Model Year Post 2016¾",
          "All New Galaxy, Model Year Pre 2016¾",
          "All New Grand C-Max, Model Year Post 2016¼",
          "All New Grand C-Max, Model Year Pre 2016¼",
          "All New Mondeo, Model Year Post 2016¾",
          "All New Mondeo, Model Year Pre 2016¾",
          "All New S-MAX, Model Year Post 2016¾",
          "All New S-MAX, Model Year Pre 2016¾",
          "B-MAX, Model Year Post 2015¾",
          "EcoSport, Model Year Post 2016¾",
          "EcoSport, Model Year Pre 2016¾",
          "Edge, Model Year Post 2016",
          "Fiesta, Model Year Post 2017",
          "Fiesta, Model Year Pre 2017",
          "Grand Tourneo Connect, Model Year Post 2016¼",
          "Grand Tourneo Connect, Model Year Pre 2016¼",
          "Ka, Model Year Post 2015½",
          "KA+, Model Year Post 2016¾",
          "Kuga, Model Year Post 2016½",
          "Kuga, Model Year Pre 2016½",
          "Mondeo Vignale, Model Year Post 2016¾",
          "Mondeo Vignale, Model Year Pre 2016¾",
          "Mustang, Model Year Post 2015¾",
          "S-MAX Vignale, Model Year Post 2017",
          "Tourneo Connect, Model Year Post 2016½",
          "Tourneo Connect, Model Year Pre 2016½",
          "Tourneo Courier Kombi - , Model Year Post 2015¾",
          "Tourneo Custom - 310 Long Wheelbase, Model Year Post 2016½",
          "Tourneo Custom - 310 Short Wheelbase, Model Year Post 2016½",
          "Civic Hatchback, Model Year 2015",
          "Civic Tourer, Model Year 2015",
          "CR-V, Model Year 2015",
          "HR-V, Model Year 2016",
          "Jazz, Model Year 2016",
          "Genesis",
          "i10",
          "i20",
          "i20 Active",
          "i30",
          "i30 Tourer",
          "i40",
          "i800",
          "ix20",
          "Santa Fe",
          "Tucson",
          "Q30 Euro6, 2016",
          "Q50 Euro6, 2016",
          "Q70 Euro6, 2016",
          "F-PACE, 17MY",
          "F-TYPE Automatic RWD, 16MY",
          "F-TYPE Manual RWD, 16MY",
          "F-TYPE R Automatic AWD, 16MY",
          "F-TYPE R Automatic RWD, 16MY",
          "F-TYPE S Automatic AWD, 16MY",
          "F-TYPE S Automatic RWD, 16MY",
          "F-TYPE S Manual RWD, 16MY",
          "F-TYPE SVR Automatic AWD, 17MY",
          "XE Saloon, 16MY",
          "XE Saloon, 17MY",
          "XF Saloon, 16MY",
          "XF Saloon, 17MY",
          "XJ Saloon, 16MY",
          "Carens",
          "cee'd",
          "cee'd SW",
          "Picanto 3-door",
          "Picanto 5-door",
          "pro_cee'd",
          "Rio 3-door",
          "Rio 5-door",
          "Sorento",
          "Soul",
          "Sportage",
          "Venga",
          "Aventador",
          "Huracan",
          "Discovery 16MY",
          "Discovery Sport 16MY",
          "Range Rover 16MY",
          "Range Rover Evoque 16MY",
          "Range Rover Sport 16MY",
          "CT, MY2015",
          "CT200h, MY2016",
          "GS F, MY2016",
          "GS, MY2014",
          "GS300h, MY2016",
          "GS450h, MY2016",
          "IS, MY2015",
          "IS300h, MY2016",
          "LS",
          "NX, MY2015",
          "RC 200t, MY2015",
          "RC F, MY2015",
          "RC300h, MY2015",
          "RX, MY2015",
          "Taxi - TX4",
          "Ghibli",
          "Quattroporte",
          "CX-3",
          "CX-5",
          "Mazda2",
          "Mazda3 4 door",
          "Mazda3 5 door",
          "Mazda6 Saloon",
          "Mazda6 Tourer",
          "MX-5",
          "540C",
          "570GT",
          "570S",
          "625C, MY2015",
          "650S Can-Am",
          "650S Le Mans, MY2015",
          "650S, MY2015",
          "675LT, MY2016",
          "A-Class, Model Year 2016",
          "A-Class, Model Year 2017",
          "AMG GT, Model Year 2016",
          "B-Class, Model Year 2016",
          "Coupe",
          "C-Class Estate, Model Year 2016",
          "C-Class Saloon, Model Year 2016",
          "CLA Shooting Brake, Model Year 2016",
          "CLA Shooting Brake, Model Year 2017",
          "CLS Shooting Brake, Model Year 2016",
          "CLS Shooting Brake, Model Year 2017",
          "E-Class Cabriolet, Model Year 2016",
          "E-Class Estate, Model Year 2016",
          "E-Class Saloon, Model Year 2016",
          "E-Class Saloon, Model Year 2017",
          "G-Class, Model Year 2017",
          "GLA Class, Model Year 2016",
          "GLC, Model Year 2016",
          "GL-Class, Model Year 2016",
          "GLE Estate, Model Year 2016",
          "GLE Estate, Model Year 2016½",
          "GLS, Model Year 2017",
          "S-Class Cabriolet, Model Year 2016",
          "S-Class Limousine, Model Year 2016",
          "S-Class Limousine, Model Year 2016½",
          "S-Class Saloon, Model Year 2016",
          "S-Class Saloon, Model Year 2016½",
          "SL, Model Year 2016",
          "SL, Model Year 2017",
          "SLC, Model Year 2017",
          "SLK-Class, Model Year 2016",
          "V-Class, Model Year 2016",
          "MINI 3-door Hatchback F56, From March 2014",
          "MINI 3-door Hatchback F56, From March 2016",
          "MINI 5-door Hatchback F55, From October 2014",
          "MINI Clubman F54, From October 2015",
          "MINI Convertible F57, From March 2016",
          "MINI Countryman R60, From September 2010",
          "Coupe",
          "MINI Paceman R61, From November 2012",
          "MINI Roadster R59, From April 2012",
          "ASX",
          "Mirage",
          "Outlander",
          "Outlander PHEV, 2014",
          "Shogun",
          "370Z Euro6, 2016",
          "GTR Euro6, 2016",
          "Juke Euro6, 2015",
          "Juke, 2014/15",
          "Micra Euro6, 2015",
          "Note Euro6, 2015",
          "NV200 EURO6, 2015",
          "Pulsar Euro6, 2015",
          "Qashqai Euro6, 2015",
          "XTrail Euro6, 2015",
          "108",
          "208",
          "308",
          "508",
          "2008",
          "3008",
          "5008",
          "308 SW",
          "508 RXH",
          "508 SW",
          "Partner Tepee",
          "718",
          "911 (991 II)",
          "911 (991)",
          "Boxster",
          "Cayenne",
          "Cayman",
          "Macan",
          "Panamera",
          "Captur Euro6, 2015",
          "Clio Euro6, 2015",
          "Clio Sport Tourer Euro6, 2015",
          "Grand Scenic Euro6, 2015",
          "Kadjar Euro6, 2015",
          "Megane 2016",
          "Coupe",
          "Mégane Hatchback Euro6, 2015",
          "Megane Renault Sport Euro6, 2015",
          "Mégane Sport Tourer Euro6, 2015",
          "Scenic Euro6, 2015",
          "Trafic Euro6, 2016",
          "Twingo Euro6, 2015",
          "X Mod Euro6, 2015",
          "Dawn",
          "Ghost",
          "Phantom",
          "Wraith",
          "Alhambra",
          "Ateca",
          "Ibiza 5 door",
          "Ibiza SC",
          "Ibiza ST",
          "Leon 5 Door",
          "Leon SC",
          "Leon ST",
          "Leon X-Perience",
          "Mii",
          "Toledo",
          "Citigo",
          "Fabia Estate",
          "Fabia Hatchback",
          "New Superb Estate",
          "New Superb Saloon",
          "Octavia Estate",
          "Octavia Hatchback",
          "Rapid",
          "Rapid Spaceback",
          "Superb Estate",
          "Superb Saloon",
          "Yeti",
          "forfour, Model Year 2016",
          "fortwo cabrio, Model Year 2016",
          "fortwo coupé, Model Year 2016",
          "Korando",
          "Rexton W",
          "Tivoli",
          "Turismo",
          "Forester AWD, From 2015 MY",
          "Levorg AWD, From 2016 MY",
          "Outback AWD, From 2015 MY",
          "WRX STI AWD, From 2015 MY",
          "XV AWD, From 2015MY",
          "Celerio",
          "Jimny",
          "Swift",
          "SX4 S-Cross",
          "Vitara",
          "Auris, MY2015",
          "Avensis, MY2015",
          "Aygo, MY2015",
          "GT86, MY2016",
          "Land Cruiser, MY2016",
          "Prius Plug-In, MY2012",
          "Prius Plus, MY2015",
          "Prius, 2016",
          "Prius, MY2012",
          "RAV4, MY2015",
          "RAV4, MY2016",
          "Verso MY2016",
          "Verso, 2016",
          "Verso, MY2015",
          "Yaris, 2016",
          "Adam 3 Door Hatchback, Model Year 2015",
          "Adam 3 Door Hatchback, Model Year 2016",
          "Astra 5 Door Hatchback, Model Year 2015",
          "Astra 5 Door Hatchback, Model Year 2016",
          "Astra 5 Door Sports Tourer, Model Year 2015",
          "Astra 5 Door Sports Tourer, Model Year 2016",
          "Astra GTC, Model Year 2015",
          "Astra GTC, Model Year 2016",
          "Cascada, Model Year 2015",
          "Cascada, Model Year 2016",
          "Corsa 3 Door Hatchback, Model Year 2015",
          "Corsa 3 Door Hatchback, Model Year 2016",
          "Corsa 5 Door Hatchback, Model Year 2015",
          "Corsa 5 Door Hatchback, Model Year 2016",
          "Insignia 5 Door Hatchback, Model Year 2015",
          "Insignia 5 Door Hatchback, Model Year 2016",
          "Insignia 5 Door Sports Tourer, Model Year 2016",
          "Meriva, Model Year 2015",
          "Meriva, Model Year 2016",
          "Mokka, Model Year 2015",
          "Mokka, Model Year 2016",
          "Viva 5 Door Hatchback, Model Year 2016",
          "Zafira, Model Year 2015",
          "Zafira, Model Year 2016",
          "Beetle",
          "Beetle Cabriolet",
          "Golf",
          "Golf Cabriolet",
          "Golf Estate",
          "Golf SV",
          "Jetta",
          "New CC",
          "New Sharan",
          "New Tiguan",
          "New Touareg",
          "Passat Alltrack",
          "Passat Estate",
          "Passat Saloon",
          "Polo",
          "Scirocco",
          "Touran",
          "UP",
          "Caddy Life",
          "Caddy Life BlueMotion",
          "Caddy Maxi Life",
          "Caddy Maxi Window Van",
          "California Beach",
          "California Ocean",
          "Caravelle Executive Short Wheelbase",
          "Caravelle Generation Six",
          "Caravelle SE Long Wheelbase",
          "Caravelle SE Short Wheelbase",
          "Transporter Shuttle S Long Wheelbase",
          "Transporter Shuttle S Short Wheelbase",
          "Transporter Shuttle SE Long Wheelbase",
          "Transporter Shuttle SE Short Wheelbase",
          "Transporter Window Van T30 and T32 Long Wheelbase Low Roof",
          "Transporter Window Van T30 and T32 Short Wheelbase Low Roof",
          "S60 MY17",
          "S60, MY16",
          "S80, MY16",
          "S90 MY17",
          "V40 MY17",
          "V40, MY16",
          "V60 MY17",
          "V60, MY16",
          "V70, MY16",
          "V90 MY17",
          "XC60 MY17",
          "XC60, MY16",
          "XC70, MY16",
          "XC90 MY17",
          "XC90, MY16",
          "ABARTH",
          "ALFA ROMEO",
          "ASTON MARTIN LAGONDA",
          "AUDI",
          "BENTLEY MOTORS",
          "BMW",
          "CHRYSLER JEEP",
          "CITROEN",
          "DACIA",
          "DS",
          "FERRARI",
          "FIAT",
          "FORD",
          "HONDA",
          "HYUNDAI",
          "INFINITI",
          "JAGUAR",
          "KIA",
          "LAMBORGHINI",
          "LAND ROVER",
          "LEXUS",
          "LONDON TAXI COMPANY",
          "MASERATI",
          "MAZDA",
          "McLaren",
          "MERCEDES-BENZ",
          "MINI",
          "MITSUBISHI",
          "NISSAN",
          "PEUGEOT",
          "PORSCHE",
          "RENAULT",
          "Rolls Royce",
          "SEAT",
          "SKODA",
          "SMART",
          "SSANGYONG",
          "SUBARU",
          "SUZUKI",
          "TOYOTA",
          "VAUXHALL",
          "VOLKSWAGEN",
          "VOLKSWAGEN C.V.",
          "VOLVO",
          "Marcas/fabricantes"
         ],
         "marker": {
          "coloraxis": "coloraxis",
          "colors": {
           "bdata": "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",
           "dtype": "f8"
          }
         },
         "name": "",
         "parents": [
          "Marcas/fabricantes/ABARTH",
          "Marcas/fabricantes/ABARTH",
          "Marcas/fabricantes/ALFA ROMEO",
          "Marcas/fabricantes/ALFA ROMEO",
          "Marcas/fabricantes/ALFA ROMEO",
          "Marcas/fabricantes/ALFA ROMEO",
          "Marcas/fabricantes/ASTON MARTIN LAGONDA",
          "Marcas/fabricantes/ASTON MARTIN LAGONDA",
          "Marcas/fabricantes/ASTON MARTIN LAGONDA",
          "Marcas/fabricantes/ASTON MARTIN LAGONDA",
          "Marcas/fabricantes/ASTON MARTIN LAGONDA",
          "Marcas/fabricantes/ASTON MARTIN LAGONDA",
          "Marcas/fabricantes/ASTON MARTIN LAGONDA",
          "Marcas/fabricantes/ASTON MARTIN LAGONDA",
          "Marcas/fabricantes/ASTON MARTIN LAGONDA",
          "Marcas/fabricantes/ASTON MARTIN LAGONDA",
          "Marcas/fabricantes/ASTON MARTIN LAGONDA",
          "Marcas/fabricantes/AUDI",
          "Marcas/fabricantes/AUDI",
          "Marcas/fabricantes/AUDI",
          "Marcas/fabricantes/AUDI",
          "Marcas/fabricantes/AUDI",
          "Marcas/fabricantes/AUDI",
          "Marcas/fabricantes/AUDI",
          "Marcas/fabricantes/AUDI",
          "Marcas/fabricantes/AUDI",
          "Marcas/fabricantes/AUDI",
          "Marcas/fabricantes/AUDI",
          "Marcas/fabricantes/AUDI",
          "Marcas/fabricantes/AUDI",
          "Marcas/fabricantes/AUDI",
          "Marcas/fabricantes/AUDI",
          "Marcas/fabricantes/AUDI",
          "Marcas/fabricantes/AUDI",
          "Marcas/fabricantes/AUDI",
          "Marcas/fabricantes/AUDI",
          "Marcas/fabricantes/AUDI",
          "Marcas/fabricantes/AUDI",
          "Marcas/fabricantes/AUDI",
          "Marcas/fabricantes/AUDI",
          "Marcas/fabricantes/BENTLEY MOTORS",
          "Marcas/fabricantes/BENTLEY MOTORS",
          "Marcas/fabricantes/BENTLEY MOTORS",
          "Marcas/fabricantes/BENTLEY MOTORS",
          "Marcas/fabricantes/BENTLEY MOTORS",
          "Marcas/fabricantes/BENTLEY MOTORS",
          "Marcas/fabricantes/BMW",
          "Marcas/fabricantes/BMW",
          "Marcas/fabricantes/BMW",
          "Marcas/fabricantes/BMW",
          "Marcas/fabricantes/BMW",
          "Marcas/fabricantes/BMW",
          "Marcas/fabricantes/BMW",
          "Marcas/fabricantes/BMW",
          "Marcas/fabricantes/BMW",
          "Marcas/fabricantes/BMW",
          "Marcas/fabricantes/BMW",
          "Marcas/fabricantes/BMW",
          "Marcas/fabricantes/BMW",
          "Marcas/fabricantes/BMW",
          "Marcas/fabricantes/BMW",
          "Marcas/fabricantes/BMW",
          "Marcas/fabricantes/BMW",
          "Marcas/fabricantes/BMW",
          "Marcas/fabricantes/BMW",
          "Marcas/fabricantes/BMW",
          "Marcas/fabricantes/BMW",
          "Marcas/fabricantes/BMW",
          "Marcas/fabricantes/BMW",
          "Marcas/fabricantes/BMW",
          "Marcas/fabricantes/BMW",
          "Marcas/fabricantes/BMW",
          "Marcas/fabricantes/BMW",
          "Marcas/fabricantes/BMW",
          "Marcas/fabricantes/BMW",
          "Marcas/fabricantes/BMW",
          "Marcas/fabricantes/CHRYSLER JEEP",
          "Marcas/fabricantes/CHRYSLER JEEP",
          "Marcas/fabricantes/CHRYSLER JEEP",
          "Marcas/fabricantes/CHRYSLER JEEP",
          "Marcas/fabricantes/CHRYSLER JEEP",
          "Marcas/fabricantes/CHRYSLER JEEP",
          "Marcas/fabricantes/CHRYSLER JEEP",
          "Marcas/fabricantes/CHRYSLER JEEP",
          "Marcas/fabricantes/CHRYSLER JEEP",
          "Marcas/fabricantes/CHRYSLER JEEP",
          "Marcas/fabricantes/CITROEN",
          "Marcas/fabricantes/CITROEN",
          "Marcas/fabricantes/CITROEN",
          "Marcas/fabricantes/CITROEN",
          "Marcas/fabricantes/CITROEN",
          "Marcas/fabricantes/CITROEN",
          "Marcas/fabricantes/CITROEN",
          "Marcas/fabricantes/CITROEN",
          "Marcas/fabricantes/CITROEN",
          "Marcas/fabricantes/DACIA",
          "Marcas/fabricantes/DACIA",
          "Marcas/fabricantes/DACIA",
          "Marcas/fabricantes/DACIA",
          "Marcas/fabricantes/DS",
          "Marcas/fabricantes/DS",
          "Marcas/fabricantes/DS",
          "Marcas/fabricantes/DS",
          "Marcas/fabricantes/DS",
          "Marcas/fabricantes/DS",
          "Marcas/fabricantes/DS",
          "Marcas/fabricantes/FERRARI",
          "Marcas/fabricantes/FIAT",
          "Marcas/fabricantes/FIAT",
          "Marcas/fabricantes/FIAT",
          "Marcas/fabricantes/FIAT",
          "Marcas/fabricantes/FIAT",
          "Marcas/fabricantes/FIAT",
          "Marcas/fabricantes/FIAT",
          "Marcas/fabricantes/FIAT",
          "Marcas/fabricantes/FORD",
          "Marcas/fabricantes/FORD",
          "Marcas/fabricantes/FORD",
          "Marcas/fabricantes/FORD",
          "Marcas/fabricantes/FORD",
          "Marcas/fabricantes/FORD",
          "Marcas/fabricantes/FORD",
          "Marcas/fabricantes/FORD",
          "Marcas/fabricantes/FORD",
          "Marcas/fabricantes/FORD",
          "Marcas/fabricantes/FORD",
          "Marcas/fabricantes/FORD",
          "Marcas/fabricantes/FORD",
          "Marcas/fabricantes/FORD",
          "Marcas/fabricantes/FORD",
          "Marcas/fabricantes/FORD",
          "Marcas/fabricantes/FORD",
          "Marcas/fabricantes/FORD",
          "Marcas/fabricantes/FORD",
          "Marcas/fabricantes/FORD",
          "Marcas/fabricantes/FORD",
          "Marcas/fabricantes/FORD",
          "Marcas/fabricantes/FORD",
          "Marcas/fabricantes/FORD",
          "Marcas/fabricantes/FORD",
          "Marcas/fabricantes/FORD",
          "Marcas/fabricantes/FORD",
          "Marcas/fabricantes/FORD",
          "Marcas/fabricantes/FORD",
          "Marcas/fabricantes/FORD",
          "Marcas/fabricantes/FORD",
          "Marcas/fabricantes/FORD",
          "Marcas/fabricantes/FORD",
          "Marcas/fabricantes/HONDA",
          "Marcas/fabricantes/HONDA",
          "Marcas/fabricantes/HONDA",
          "Marcas/fabricantes/HONDA",
          "Marcas/fabricantes/HONDA",
          "Marcas/fabricantes/HYUNDAI",
          "Marcas/fabricantes/HYUNDAI",
          "Marcas/fabricantes/HYUNDAI",
          "Marcas/fabricantes/HYUNDAI",
          "Marcas/fabricantes/HYUNDAI",
          "Marcas/fabricantes/HYUNDAI",
          "Marcas/fabricantes/HYUNDAI",
          "Marcas/fabricantes/HYUNDAI",
          "Marcas/fabricantes/HYUNDAI",
          "Marcas/fabricantes/HYUNDAI",
          "Marcas/fabricantes/HYUNDAI",
          "Marcas/fabricantes/INFINITI",
          "Marcas/fabricantes/INFINITI",
          "Marcas/fabricantes/INFINITI",
          "Marcas/fabricantes/JAGUAR",
          "Marcas/fabricantes/JAGUAR",
          "Marcas/fabricantes/JAGUAR",
          "Marcas/fabricantes/JAGUAR",
          "Marcas/fabricantes/JAGUAR",
          "Marcas/fabricantes/JAGUAR",
          "Marcas/fabricantes/JAGUAR",
          "Marcas/fabricantes/JAGUAR",
          "Marcas/fabricantes/JAGUAR",
          "Marcas/fabricantes/JAGUAR",
          "Marcas/fabricantes/JAGUAR",
          "Marcas/fabricantes/JAGUAR",
          "Marcas/fabricantes/JAGUAR",
          "Marcas/fabricantes/JAGUAR",
          "Marcas/fabricantes/KIA",
          "Marcas/fabricantes/KIA",
          "Marcas/fabricantes/KIA",
          "Marcas/fabricantes/KIA",
          "Marcas/fabricantes/KIA",
          "Marcas/fabricantes/KIA",
          "Marcas/fabricantes/KIA",
          "Marcas/fabricantes/KIA",
          "Marcas/fabricantes/KIA",
          "Marcas/fabricantes/KIA",
          "Marcas/fabricantes/KIA",
          "Marcas/fabricantes/KIA",
          "Marcas/fabricantes/LAMBORGHINI",
          "Marcas/fabricantes/LAMBORGHINI",
          "Marcas/fabricantes/LAND ROVER",
          "Marcas/fabricantes/LAND ROVER",
          "Marcas/fabricantes/LAND ROVER",
          "Marcas/fabricantes/LAND ROVER",
          "Marcas/fabricantes/LAND ROVER",
          "Marcas/fabricantes/LEXUS",
          "Marcas/fabricantes/LEXUS",
          "Marcas/fabricantes/LEXUS",
          "Marcas/fabricantes/LEXUS",
          "Marcas/fabricantes/LEXUS",
          "Marcas/fabricantes/LEXUS",
          "Marcas/fabricantes/LEXUS",
          "Marcas/fabricantes/LEXUS",
          "Marcas/fabricantes/LEXUS",
          "Marcas/fabricantes/LEXUS",
          "Marcas/fabricantes/LEXUS",
          "Marcas/fabricantes/LEXUS",
          "Marcas/fabricantes/LEXUS",
          "Marcas/fabricantes/LEXUS",
          "Marcas/fabricantes/LONDON TAXI COMPANY",
          "Marcas/fabricantes/MASERATI",
          "Marcas/fabricantes/MASERATI",
          "Marcas/fabricantes/MAZDA",
          "Marcas/fabricantes/MAZDA",
          "Marcas/fabricantes/MAZDA",
          "Marcas/fabricantes/MAZDA",
          "Marcas/fabricantes/MAZDA",
          "Marcas/fabricantes/MAZDA",
          "Marcas/fabricantes/MAZDA",
          "Marcas/fabricantes/MAZDA",
          "Marcas/fabricantes/McLaren",
          "Marcas/fabricantes/McLaren",
          "Marcas/fabricantes/McLaren",
          "Marcas/fabricantes/McLaren",
          "Marcas/fabricantes/McLaren",
          "Marcas/fabricantes/McLaren",
          "Marcas/fabricantes/McLaren",
          "Marcas/fabricantes/McLaren",
          "Marcas/fabricantes/MERCEDES-BENZ",
          "Marcas/fabricantes/MERCEDES-BENZ",
          "Marcas/fabricantes/MERCEDES-BENZ",
          "Marcas/fabricantes/MERCEDES-BENZ",
          "Marcas/fabricantes/MERCEDES-BENZ",
          "Marcas/fabricantes/MERCEDES-BENZ",
          "Marcas/fabricantes/MERCEDES-BENZ",
          "Marcas/fabricantes/MERCEDES-BENZ",
          "Marcas/fabricantes/MERCEDES-BENZ",
          "Marcas/fabricantes/MERCEDES-BENZ",
          "Marcas/fabricantes/MERCEDES-BENZ",
          "Marcas/fabricantes/MERCEDES-BENZ",
          "Marcas/fabricantes/MERCEDES-BENZ",
          "Marcas/fabricantes/MERCEDES-BENZ",
          "Marcas/fabricantes/MERCEDES-BENZ",
          "Marcas/fabricantes/MERCEDES-BENZ",
          "Marcas/fabricantes/MERCEDES-BENZ",
          "Marcas/fabricantes/MERCEDES-BENZ",
          "Marcas/fabricantes/MERCEDES-BENZ",
          "Marcas/fabricantes/MERCEDES-BENZ",
          "Marcas/fabricantes/MERCEDES-BENZ",
          "Marcas/fabricantes/MERCEDES-BENZ",
          "Marcas/fabricantes/MERCEDES-BENZ",
          "Marcas/fabricantes/MERCEDES-BENZ",
          "Marcas/fabricantes/MERCEDES-BENZ",
          "Marcas/fabricantes/MERCEDES-BENZ",
          "Marcas/fabricantes/MERCEDES-BENZ",
          "Marcas/fabricantes/MERCEDES-BENZ",
          "Marcas/fabricantes/MERCEDES-BENZ",
          "Marcas/fabricantes/MERCEDES-BENZ",
          "Marcas/fabricantes/MERCEDES-BENZ",
          "Marcas/fabricantes/MERCEDES-BENZ",
          "Marcas/fabricantes/MINI",
          "Marcas/fabricantes/MINI",
          "Marcas/fabricantes/MINI",
          "Marcas/fabricantes/MINI",
          "Marcas/fabricantes/MINI",
          "Marcas/fabricantes/MINI",
          "Marcas/fabricantes/MINI",
          "Marcas/fabricantes/MINI",
          "Marcas/fabricantes/MINI",
          "Marcas/fabricantes/MITSUBISHI",
          "Marcas/fabricantes/MITSUBISHI",
          "Marcas/fabricantes/MITSUBISHI",
          "Marcas/fabricantes/MITSUBISHI",
          "Marcas/fabricantes/MITSUBISHI",
          "Marcas/fabricantes/NISSAN",
          "Marcas/fabricantes/NISSAN",
          "Marcas/fabricantes/NISSAN",
          "Marcas/fabricantes/NISSAN",
          "Marcas/fabricantes/NISSAN",
          "Marcas/fabricantes/NISSAN",
          "Marcas/fabricantes/NISSAN",
          "Marcas/fabricantes/NISSAN",
          "Marcas/fabricantes/NISSAN",
          "Marcas/fabricantes/NISSAN",
          "Marcas/fabricantes/PEUGEOT",
          "Marcas/fabricantes/PEUGEOT",
          "Marcas/fabricantes/PEUGEOT",
          "Marcas/fabricantes/PEUGEOT",
          "Marcas/fabricantes/PEUGEOT",
          "Marcas/fabricantes/PEUGEOT",
          "Marcas/fabricantes/PEUGEOT",
          "Marcas/fabricantes/PEUGEOT",
          "Marcas/fabricantes/PEUGEOT",
          "Marcas/fabricantes/PEUGEOT",
          "Marcas/fabricantes/PEUGEOT",
          "Marcas/fabricantes/PORSCHE",
          "Marcas/fabricantes/PORSCHE",
          "Marcas/fabricantes/PORSCHE",
          "Marcas/fabricantes/PORSCHE",
          "Marcas/fabricantes/PORSCHE",
          "Marcas/fabricantes/PORSCHE",
          "Marcas/fabricantes/PORSCHE",
          "Marcas/fabricantes/PORSCHE",
          "Marcas/fabricantes/RENAULT",
          "Marcas/fabricantes/RENAULT",
          "Marcas/fabricantes/RENAULT",
          "Marcas/fabricantes/RENAULT",
          "Marcas/fabricantes/RENAULT",
          "Marcas/fabricantes/RENAULT",
          "Marcas/fabricantes/RENAULT",
          "Marcas/fabricantes/RENAULT",
          "Marcas/fabricantes/RENAULT",
          "Marcas/fabricantes/RENAULT",
          "Marcas/fabricantes/RENAULT",
          "Marcas/fabricantes/RENAULT",
          "Marcas/fabricantes/RENAULT",
          "Marcas/fabricantes/RENAULT",
          "Marcas/fabricantes/Rolls Royce",
          "Marcas/fabricantes/Rolls Royce",
          "Marcas/fabricantes/Rolls Royce",
          "Marcas/fabricantes/Rolls Royce",
          "Marcas/fabricantes/SEAT",
          "Marcas/fabricantes/SEAT",
          "Marcas/fabricantes/SEAT",
          "Marcas/fabricantes/SEAT",
          "Marcas/fabricantes/SEAT",
          "Marcas/fabricantes/SEAT",
          "Marcas/fabricantes/SEAT",
          "Marcas/fabricantes/SEAT",
          "Marcas/fabricantes/SEAT",
          "Marcas/fabricantes/SEAT",
          "Marcas/fabricantes/SEAT",
          "Marcas/fabricantes/SKODA",
          "Marcas/fabricantes/SKODA",
          "Marcas/fabricantes/SKODA",
          "Marcas/fabricantes/SKODA",
          "Marcas/fabricantes/SKODA",
          "Marcas/fabricantes/SKODA",
          "Marcas/fabricantes/SKODA",
          "Marcas/fabricantes/SKODA",
          "Marcas/fabricantes/SKODA",
          "Marcas/fabricantes/SKODA",
          "Marcas/fabricantes/SKODA",
          "Marcas/fabricantes/SKODA",
          "Marcas/fabricantes/SMART",
          "Marcas/fabricantes/SMART",
          "Marcas/fabricantes/SMART",
          "Marcas/fabricantes/SSANGYONG",
          "Marcas/fabricantes/SSANGYONG",
          "Marcas/fabricantes/SSANGYONG",
          "Marcas/fabricantes/SSANGYONG",
          "Marcas/fabricantes/SUBARU",
          "Marcas/fabricantes/SUBARU",
          "Marcas/fabricantes/SUBARU",
          "Marcas/fabricantes/SUBARU",
          "Marcas/fabricantes/SUBARU",
          "Marcas/fabricantes/SUZUKI",
          "Marcas/fabricantes/SUZUKI",
          "Marcas/fabricantes/SUZUKI",
          "Marcas/fabricantes/SUZUKI",
          "Marcas/fabricantes/SUZUKI",
          "Marcas/fabricantes/TOYOTA",
          "Marcas/fabricantes/TOYOTA",
          "Marcas/fabricantes/TOYOTA",
          "Marcas/fabricantes/TOYOTA",
          "Marcas/fabricantes/TOYOTA",
          "Marcas/fabricantes/TOYOTA",
          "Marcas/fabricantes/TOYOTA",
          "Marcas/fabricantes/TOYOTA",
          "Marcas/fabricantes/TOYOTA",
          "Marcas/fabricantes/TOYOTA",
          "Marcas/fabricantes/TOYOTA",
          "Marcas/fabricantes/TOYOTA",
          "Marcas/fabricantes/TOYOTA",
          "Marcas/fabricantes/TOYOTA",
          "Marcas/fabricantes/TOYOTA",
          "Marcas/fabricantes/VAUXHALL",
          "Marcas/fabricantes/VAUXHALL",
          "Marcas/fabricantes/VAUXHALL",
          "Marcas/fabricantes/VAUXHALL",
          "Marcas/fabricantes/VAUXHALL",
          "Marcas/fabricantes/VAUXHALL",
          "Marcas/fabricantes/VAUXHALL",
          "Marcas/fabricantes/VAUXHALL",
          "Marcas/fabricantes/VAUXHALL",
          "Marcas/fabricantes/VAUXHALL",
          "Marcas/fabricantes/VAUXHALL",
          "Marcas/fabricantes/VAUXHALL",
          "Marcas/fabricantes/VAUXHALL",
          "Marcas/fabricantes/VAUXHALL",
          "Marcas/fabricantes/VAUXHALL",
          "Marcas/fabricantes/VAUXHALL",
          "Marcas/fabricantes/VAUXHALL",
          "Marcas/fabricantes/VAUXHALL",
          "Marcas/fabricantes/VAUXHALL",
          "Marcas/fabricantes/VAUXHALL",
          "Marcas/fabricantes/VAUXHALL",
          "Marcas/fabricantes/VAUXHALL",
          "Marcas/fabricantes/VAUXHALL",
          "Marcas/fabricantes/VAUXHALL",
          "Marcas/fabricantes/VOLKSWAGEN",
          "Marcas/fabricantes/VOLKSWAGEN",
          "Marcas/fabricantes/VOLKSWAGEN",
          "Marcas/fabricantes/VOLKSWAGEN",
          "Marcas/fabricantes/VOLKSWAGEN",
          "Marcas/fabricantes/VOLKSWAGEN",
          "Marcas/fabricantes/VOLKSWAGEN",
          "Marcas/fabricantes/VOLKSWAGEN",
          "Marcas/fabricantes/VOLKSWAGEN",
          "Marcas/fabricantes/VOLKSWAGEN",
          "Marcas/fabricantes/VOLKSWAGEN",
          "Marcas/fabricantes/VOLKSWAGEN",
          "Marcas/fabricantes/VOLKSWAGEN",
          "Marcas/fabricantes/VOLKSWAGEN",
          "Marcas/fabricantes/VOLKSWAGEN",
          "Marcas/fabricantes/VOLKSWAGEN",
          "Marcas/fabricantes/VOLKSWAGEN",
          "Marcas/fabricantes/VOLKSWAGEN",
          "Marcas/fabricantes/VOLKSWAGEN C.V.",
          "Marcas/fabricantes/VOLKSWAGEN C.V.",
          "Marcas/fabricantes/VOLKSWAGEN C.V.",
          "Marcas/fabricantes/VOLKSWAGEN C.V.",
          "Marcas/fabricantes/VOLKSWAGEN C.V.",
          "Marcas/fabricantes/VOLKSWAGEN C.V.",
          "Marcas/fabricantes/VOLKSWAGEN C.V.",
          "Marcas/fabricantes/VOLKSWAGEN C.V.",
          "Marcas/fabricantes/VOLKSWAGEN C.V.",
          "Marcas/fabricantes/VOLKSWAGEN C.V.",
          "Marcas/fabricantes/VOLKSWAGEN C.V.",
          "Marcas/fabricantes/VOLKSWAGEN C.V.",
          "Marcas/fabricantes/VOLKSWAGEN C.V.",
          "Marcas/fabricantes/VOLKSWAGEN C.V.",
          "Marcas/fabricantes/VOLKSWAGEN C.V.",
          "Marcas/fabricantes/VOLKSWAGEN C.V.",
          "Marcas/fabricantes/VOLVO",
          "Marcas/fabricantes/VOLVO",
          "Marcas/fabricantes/VOLVO",
          "Marcas/fabricantes/VOLVO",
          "Marcas/fabricantes/VOLVO",
          "Marcas/fabricantes/VOLVO",
          "Marcas/fabricantes/VOLVO",
          "Marcas/fabricantes/VOLVO",
          "Marcas/fabricantes/VOLVO",
          "Marcas/fabricantes/VOLVO",
          "Marcas/fabricantes/VOLVO",
          "Marcas/fabricantes/VOLVO",
          "Marcas/fabricantes/VOLVO",
          "Marcas/fabricantes/VOLVO",
          "Marcas/fabricantes/VOLVO",
          "Marcas/fabricantes",
          "Marcas/fabricantes",
          "Marcas/fabricantes",
          "Marcas/fabricantes",
          "Marcas/fabricantes",
          "Marcas/fabricantes",
          "Marcas/fabricantes",
          "Marcas/fabricantes",
          "Marcas/fabricantes",
          "Marcas/fabricantes",
          "Marcas/fabricantes",
          "Marcas/fabricantes",
          "Marcas/fabricantes",
          "Marcas/fabricantes",
          "Marcas/fabricantes",
          "Marcas/fabricantes",
          "Marcas/fabricantes",
          "Marcas/fabricantes",
          "Marcas/fabricantes",
          "Marcas/fabricantes",
          "Marcas/fabricantes",
          "Marcas/fabricantes",
          "Marcas/fabricantes",
          "Marcas/fabricantes",
          "Marcas/fabricantes",
          "Marcas/fabricantes",
          "Marcas/fabricantes",
          "Marcas/fabricantes",
          "Marcas/fabricantes",
          "Marcas/fabricantes",
          "Marcas/fabricantes",
          "Marcas/fabricantes",
          "Marcas/fabricantes",
          "Marcas/fabricantes",
          "Marcas/fabricantes",
          "Marcas/fabricantes",
          "Marcas/fabricantes",
          "Marcas/fabricantes",
          "Marcas/fabricantes",
          "Marcas/fabricantes",
          "Marcas/fabricantes",
          "Marcas/fabricantes",
          "Marcas/fabricantes",
          "Marcas/fabricantes",
          ""
         ],
         "type": "treemap",
         "values": {
          "bdata": "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",
          "dtype": "f8"
         }
        }
       ],
       "layout": {
        "coloraxis": {
         "colorbar": {
          "title": {
           "text": "EmissionsNOxmgkm"
          }
         },
         "colorscale": [
          [
           0,
           "#0d0887"
          ],
          [
           0.1111111111111111,
           "#46039f"
          ],
          [
           0.2222222222222222,
           "#7201a8"
          ],
          [
           0.3333333333333333,
           "#9c179e"
          ],
          [
           0.4444444444444444,
           "#bd3786"
          ],
          [
           0.5555555555555556,
           "#d8576b"
          ],
          [
           0.6666666666666666,
           "#ed7953"
          ],
          [
           0.7777777777777778,
           "#fb9f3a"
          ],
          [
           0.8888888888888888,
           "#fdca26"
          ],
          [
           1,
           "#f0f921"
          ]
         ]
        },
        "height": 550,
        "legend": {
         "tracegroupgap": 0
        },
        "template": {
         "data": {
          "bar": [
           {
            "error_x": {
             "color": "#2a3f5f"
            },
            "error_y": {
             "color": "#2a3f5f"
            },
            "marker": {
             "line": {
              "color": "#E5ECF6",
              "width": 0.5
             },
             "pattern": {
              "fillmode": "overlay",
              "size": 10,
              "solidity": 0.2
             }
            },
            "type": "bar"
           }
          ],
          "barpolar": [
           {
            "marker": {
             "line": {
              "color": "#E5ECF6",
              "width": 0.5
             },
             "pattern": {
              "fillmode": "overlay",
              "size": 10,
              "solidity": 0.2
             }
            },
            "type": "barpolar"
           }
          ],
          "carpet": [
           {
            "aaxis": {
             "endlinecolor": "#2a3f5f",
             "gridcolor": "white",
             "linecolor": "white",
             "minorgridcolor": "white",
             "startlinecolor": "#2a3f5f"
            },
            "baxis": {
             "endlinecolor": "#2a3f5f",
             "gridcolor": "white",
             "linecolor": "white",
             "minorgridcolor": "white",
             "startlinecolor": "#2a3f5f"
            },
            "type": "carpet"
           }
          ],
          "choropleth": [
           {
            "colorbar": {
             "outlinewidth": 0,
             "ticks": ""
            },
            "type": "choropleth"
           }
          ],
          "contour": [
           {
            "colorbar": {
             "outlinewidth": 0,
             "ticks": ""
            },
            "colorscale": [
             [
              0,
              "#0d0887"
             ],
             [
              0.1111111111111111,
              "#46039f"
             ],
             [
              0.2222222222222222,
              "#7201a8"
             ],
             [
              0.3333333333333333,
              "#9c179e"
             ],
             [
              0.4444444444444444,
              "#bd3786"
             ],
             [
              0.5555555555555556,
              "#d8576b"
             ],
             [
              0.6666666666666666,
              "#ed7953"
             ],
             [
              0.7777777777777778,
              "#fb9f3a"
             ],
             [
              0.8888888888888888,
              "#fdca26"
             ],
             [
              1,
              "#f0f921"
             ]
            ],
            "type": "contour"
           }
          ],
          "contourcarpet": [
           {
            "colorbar": {
             "outlinewidth": 0,
             "ticks": ""
            },
            "type": "contourcarpet"
           }
          ],
          "heatmap": [
           {
            "colorbar": {
             "outlinewidth": 0,
             "ticks": ""
            },
            "colorscale": [
             [
              0,
              "#0d0887"
             ],
             [
              0.1111111111111111,
              "#46039f"
             ],
             [
              0.2222222222222222,
              "#7201a8"
             ],
             [
              0.3333333333333333,
              "#9c179e"
             ],
             [
              0.4444444444444444,
              "#bd3786"
             ],
             [
              0.5555555555555556,
              "#d8576b"
             ],
             [
              0.6666666666666666,
              "#ed7953"
             ],
             [
              0.7777777777777778,
              "#fb9f3a"
             ],
             [
              0.8888888888888888,
              "#fdca26"
             ],
             [
              1,
              "#f0f921"
             ]
            ],
            "type": "heatmap"
           }
          ],
          "histogram": [
           {
            "marker": {
             "pattern": {
              "fillmode": "overlay",
              "size": 10,
              "solidity": 0.2
             }
            },
            "type": "histogram"
           }
          ],
          "histogram2d": [
           {
            "colorbar": {
             "outlinewidth": 0,
             "ticks": ""
            },
            "colorscale": [
             [
              0,
              "#0d0887"
             ],
             [
              0.1111111111111111,
              "#46039f"
             ],
             [
              0.2222222222222222,
              "#7201a8"
             ],
             [
              0.3333333333333333,
              "#9c179e"
             ],
             [
              0.4444444444444444,
              "#bd3786"
             ],
             [
              0.5555555555555556,
              "#d8576b"
             ],
             [
              0.6666666666666666,
              "#ed7953"
             ],
             [
              0.7777777777777778,
              "#fb9f3a"
             ],
             [
              0.8888888888888888,
              "#fdca26"
             ],
             [
              1,
              "#f0f921"
             ]
            ],
            "type": "histogram2d"
           }
          ],
          "histogram2dcontour": [
           {
            "colorbar": {
             "outlinewidth": 0,
             "ticks": ""
            },
            "colorscale": [
             [
              0,
              "#0d0887"
             ],
             [
              0.1111111111111111,
              "#46039f"
             ],
             [
              0.2222222222222222,
              "#7201a8"
             ],
             [
              0.3333333333333333,
              "#9c179e"
             ],
             [
              0.4444444444444444,
              "#bd3786"
             ],
             [
              0.5555555555555556,
              "#d8576b"
             ],
             [
              0.6666666666666666,
              "#ed7953"
             ],
             [
              0.7777777777777778,
              "#fb9f3a"
             ],
             [
              0.8888888888888888,
              "#fdca26"
             ],
             [
              1,
              "#f0f921"
             ]
            ],
            "type": "histogram2dcontour"
           }
          ],
          "mesh3d": [
           {
            "colorbar": {
             "outlinewidth": 0,
             "ticks": ""
            },
            "type": "mesh3d"
           }
          ],
          "parcoords": [
           {
            "line": {
             "colorbar": {
              "outlinewidth": 0,
              "ticks": ""
             }
            },
            "type": "parcoords"
           }
          ],
          "pie": [
           {
            "automargin": true,
            "type": "pie"
           }
          ],
          "scatter": [
           {
            "fillpattern": {
             "fillmode": "overlay",
             "size": 10,
             "solidity": 0.2
            },
            "type": "scatter"
           }
          ],
          "scatter3d": [
           {
            "line": {
             "colorbar": {
              "outlinewidth": 0,
              "ticks": ""
             }
            },
            "marker": {
             "colorbar": {
              "outlinewidth": 0,
              "ticks": ""
             }
            },
            "type": "scatter3d"
           }
          ],
          "scattercarpet": [
           {
            "marker": {
             "colorbar": {
              "outlinewidth": 0,
              "ticks": ""
             }
            },
            "type": "scattercarpet"
           }
          ],
          "scattergeo": [
           {
            "marker": {
             "colorbar": {
              "outlinewidth": 0,
              "ticks": ""
             }
            },
            "type": "scattergeo"
           }
          ],
          "scattergl": [
           {
            "marker": {
             "colorbar": {
              "outlinewidth": 0,
              "ticks": ""
             }
            },
            "type": "scattergl"
           }
          ],
          "scattermap": [
           {
            "marker": {
             "colorbar": {
              "outlinewidth": 0,
              "ticks": ""
             }
            },
            "type": "scattermap"
           }
          ],
          "scattermapbox": [
           {
            "marker": {
             "colorbar": {
              "outlinewidth": 0,
              "ticks": ""
             }
            },
            "type": "scattermapbox"
           }
          ],
          "scatterpolar": [
           {
            "marker": {
             "colorbar": {
              "outlinewidth": 0,
              "ticks": ""
             }
            },
            "type": "scatterpolar"
           }
          ],
          "scatterpolargl": [
           {
            "marker": {
             "colorbar": {
              "outlinewidth": 0,
              "ticks": ""
             }
            },
            "type": "scatterpolargl"
           }
          ],
          "scatterternary": [
           {
            "marker": {
             "colorbar": {
              "outlinewidth": 0,
              "ticks": ""
             }
            },
            "type": "scatterternary"
           }
          ],
          "surface": [
           {
            "colorbar": {
             "outlinewidth": 0,
             "ticks": ""
            },
            "colorscale": [
             [
              0,
              "#0d0887"
             ],
             [
              0.1111111111111111,
              "#46039f"
             ],
             [
              0.2222222222222222,
              "#7201a8"
             ],
             [
              0.3333333333333333,
              "#9c179e"
             ],
             [
              0.4444444444444444,
              "#bd3786"
             ],
             [
              0.5555555555555556,
              "#d8576b"
             ],
             [
              0.6666666666666666,
              "#ed7953"
             ],
             [
              0.7777777777777778,
              "#fb9f3a"
             ],
             [
              0.8888888888888888,
              "#fdca26"
             ],
             [
              1,
              "#f0f921"
             ]
            ],
            "type": "surface"
           }
          ],
          "table": [
           {
            "cells": {
             "fill": {
              "color": "#EBF0F8"
             },
             "line": {
              "color": "white"
             }
            },
            "header": {
             "fill": {
              "color": "#C8D4E3"
             },
             "line": {
              "color": "white"
             }
            },
            "type": "table"
           }
          ]
         },
         "layout": {
          "annotationdefaults": {
           "arrowcolor": "#2a3f5f",
           "arrowhead": 0,
           "arrowwidth": 1
          },
          "autotypenumbers": "strict",
          "coloraxis": {
           "colorbar": {
            "outlinewidth": 0,
            "ticks": ""
           }
          },
          "colorscale": {
           "diverging": [
            [
             0,
             "#8e0152"
            ],
            [
             0.1,
             "#c51b7d"
            ],
            [
             0.2,
             "#de77ae"
            ],
            [
             0.3,
             "#f1b6da"
            ],
            [
             0.4,
             "#fde0ef"
            ],
            [
             0.5,
             "#f7f7f7"
            ],
            [
             0.6,
             "#e6f5d0"
            ],
            [
             0.7,
             "#b8e186"
            ],
            [
             0.8,
             "#7fbc41"
            ],
            [
             0.9,
             "#4d9221"
            ],
            [
             1,
             "#276419"
            ]
           ],
           "sequential": [
            [
             0,
             "#0d0887"
            ],
            [
             0.1111111111111111,
             "#46039f"
            ],
            [
             0.2222222222222222,
             "#7201a8"
            ],
            [
             0.3333333333333333,
             "#9c179e"
            ],
            [
             0.4444444444444444,
             "#bd3786"
            ],
            [
             0.5555555555555556,
             "#d8576b"
            ],
            [
             0.6666666666666666,
             "#ed7953"
            ],
            [
             0.7777777777777778,
             "#fb9f3a"
            ],
            [
             0.8888888888888888,
             "#fdca26"
            ],
            [
             1,
             "#f0f921"
            ]
           ],
           "sequentialminus": [
            [
             0,
             "#0d0887"
            ],
            [
             0.1111111111111111,
             "#46039f"
            ],
            [
             0.2222222222222222,
             "#7201a8"
            ],
            [
             0.3333333333333333,
             "#9c179e"
            ],
            [
             0.4444444444444444,
             "#bd3786"
            ],
            [
             0.5555555555555556,
             "#d8576b"
            ],
            [
             0.6666666666666666,
             "#ed7953"
            ],
            [
             0.7777777777777778,
             "#fb9f3a"
            ],
            [
             0.8888888888888888,
             "#fdca26"
            ],
            [
             1,
             "#f0f921"
            ]
           ]
          },
          "colorway": [
           "#636efa",
           "#EF553B",
           "#00cc96",
           "#ab63fa",
           "#FFA15A",
           "#19d3f3",
           "#FF6692",
           "#B6E880",
           "#FF97FF",
           "#FECB52"
          ],
          "font": {
           "color": "#2a3f5f"
          },
          "geo": {
           "bgcolor": "white",
           "lakecolor": "white",
           "landcolor": "#E5ECF6",
           "showlakes": true,
           "showland": true,
           "subunitcolor": "white"
          },
          "hoverlabel": {
           "align": "left"
          },
          "hovermode": "closest",
          "mapbox": {
           "style": "light"
          },
          "paper_bgcolor": "white",
          "plot_bgcolor": "#E5ECF6",
          "polar": {
           "angularaxis": {
            "gridcolor": "white",
            "linecolor": "white",
            "ticks": ""
           },
           "bgcolor": "#E5ECF6",
           "radialaxis": {
            "gridcolor": "white",
            "linecolor": "white",
            "ticks": ""
           }
          },
          "scene": {
           "xaxis": {
            "backgroundcolor": "#E5ECF6",
            "gridcolor": "white",
            "gridwidth": 2,
            "linecolor": "white",
            "showbackground": true,
            "ticks": "",
            "zerolinecolor": "white"
           },
           "yaxis": {
            "backgroundcolor": "#E5ECF6",
            "gridcolor": "white",
            "gridwidth": 2,
            "linecolor": "white",
            "showbackground": true,
            "ticks": "",
            "zerolinecolor": "white"
           },
           "zaxis": {
            "backgroundcolor": "#E5ECF6",
            "gridcolor": "white",
            "gridwidth": 2,
            "linecolor": "white",
            "showbackground": true,
            "ticks": "",
            "zerolinecolor": "white"
           }
          },
          "shapedefaults": {
           "line": {
            "color": "#2a3f5f"
           }
          },
          "ternary": {
           "aaxis": {
            "gridcolor": "white",
            "linecolor": "white",
            "ticks": ""
           },
           "baxis": {
            "gridcolor": "white",
            "linecolor": "white",
            "ticks": ""
           },
           "bgcolor": "#E5ECF6",
           "caxis": {
            "gridcolor": "white",
            "linecolor": "white",
            "ticks": ""
           }
          },
          "title": {
           "x": 0.05
          },
          "xaxis": {
           "automargin": true,
           "gridcolor": "white",
           "linecolor": "white",
           "ticks": "",
           "title": {
            "standoff": 15
           },
           "zerolinecolor": "white",
           "zerolinewidth": 2
          },
          "yaxis": {
           "automargin": true,
           "gridcolor": "white",
           "linecolor": "white",
           "ticks": "",
           "title": {
            "standoff": 15
           },
           "zerolinecolor": "white",
           "zerolinewidth": 2
          }
         }
        },
        "title": {
         "text": "CONTAMINACIÓN MEDIOAMBIENTAL - EMISIONES DE CO2 PARA MARCA Y MODELO (G/KM)"
        },
        "width": 950
       }
      }
     },
     "metadata": {},
     "output_type": "display_data"
    }
   ],
   "source": [
    "data = datosCoches\n",
    "\n",
    "fig = px.treemap(data,\n",
    "                 title = ('CONTAMINACIÓN MEDIOAMBIENTAL - EMISIONES DE CO2 PARA MARCA Y MODELO (G/KM)'),\n",
    "                 height = 550,\n",
    "                 width = 950,\n",
    "                 path =[px.Constant('Marcas/fabricantes'),'Manufacturer','Model'],\n",
    "                 values = 'CO2gkm',\n",
    "                 color = 'EmissionsNOxmgkm',\n",
    "                 labels = {'EmissionsNOxmgkm':'EmissionsNOxmgkm'})\n",
    "\n",
    "fig.show() "
   ]
  },
  {
   "cell_type": "code",
   "execution_count": 14,
   "id": "74b3870e",
   "metadata": {},
   "outputs": [],
   "source": [
    "import plotly.graph_objects as go \n",
    "import plotly.io as pio\n",
    "pio.write_html(fig,'treemap_CO2.html')"
   ]
  },
  {
   "cell_type": "code",
   "execution_count": 16,
   "id": "b2f213d6",
   "metadata": {},
   "outputs": [
    {
     "data": {
      "application/vnd.plotly.v1+json": {
       "config": {
        "plotlyServerURL": "https://plot.ly"
       },
       "data": [
        {
         "branchvalues": "total",
         "customdata": {
          "bdata": "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",
          "dtype": "f8",
          "shape": "498, 1"
         },
         "domain": {
          "x": [
           0,
           1
          ],
          "y": [
           0,
           1
          ]
         },
         "hovertemplate": "labels=%{label}<br>NoiseLeveldBA_sum=%{value}<br>parent=%{parent}<br>id=%{id}<br>DECIBELIOS=%{color}<extra></extra>",
         "ids": [
          "ABARTH/500, 2012 onwards",
          "ABARTH/New Abarth 595, 2016 Onwards",
          "ALFA ROMEO/Alfa 4C Spider, September 2015 on",
          "ALFA ROMEO/Alfa 4C, April 2014 on",
          "ALFA ROMEO/Giulietta",
          "ALFA ROMEO/MiTo, 2012 onwards",
          "ASTON MARTIN LAGONDA/DB9 GT, MY2016",
          "ASTON MARTIN LAGONDA/DB9 MY2015, from May 2014",
          "ASTON MARTIN LAGONDA/Rapide S MY2015, from Sept 2014",
          "ASTON MARTIN LAGONDA/Rapide S, MY2016",
          "ASTON MARTIN LAGONDA/V12 Vantage S MY2015, from March 2014",
          "ASTON MARTIN LAGONDA/V12 Vantage S, MY2016",
          "ASTON MARTIN LAGONDA/V8 Vantage/V8 Vantage S/N430, MY2016",
          "ASTON MARTIN LAGONDA/V8 Vantage/Vantage S/N430 MY2015, from May 2014",
          "ASTON MARTIN LAGONDA/Vanquish MY2015, from Sept 2014",
          "ASTON MARTIN LAGONDA/Vanquish, MY2016",
          "ASTON MARTIN LAGONDA/Vantage GT12, MY2016",
          "AUDI/A1",
          "AUDI/A1 Sportback",
          "AUDI/A3 Cabriolet",
          "AUDI/A3 Hatchback",
          "AUDI/A3 Saloon",
          "AUDI/A3 Sportback",
          "AUDI/A4 Allroad",
          "AUDI/A5 Cabriolet",
          "AUDI/Coupe",
          "AUDI/A5 Sportback",
          "AUDI/A6 Allroad",
          "AUDI/A6 Avant",
          "AUDI/A6 Saloon",
          "AUDI/A7 Sportback",
          "AUDI/A8",
          "AUDI/New A4 Avant",
          "AUDI/New A4 Saloon",
          "AUDI/Q3",
          "AUDI/Q5",
          "AUDI/Q7",
          "AUDI/R8 Spyder",
          "AUDI/RS Series",
          "AUDI/TT Roadster",
          "BENTLEY MOTORS/Bentayga, MY2017",
          "BENTLEY MOTORS/Continental",
          "BENTLEY MOTORS/Continental, MY2016",
          "BENTLEY MOTORS/Flying Spur, MY2015",
          "BENTLEY MOTORS/Flying Spur, MY2017",
          "BENTLEY MOTORS/Mulsanne, MY2017",
          "BMW/1 Series 3-door F21, From September 2012",
          "BMW/1 Series 5-door F20, From September 2011",
          "BMW/2 Series Active Tourer F45, From March 2016",
          "BMW/2 Series Active Tourer F45, From September 2014",
          "BMW/2 Series Convertible F23, From February 2015",
          "BMW/2 Series Convertible F23, From July 2015",
          "BMW/Coupe",
          "BMW/2 Series Gran Tourer F46, From June 2015",
          "BMW/2 Series Gran Tourer F46, From March 2016",
          "BMW/3 Series Gran Turismo F34, From June 2013",
          "BMW/3 Series Saloon F30, From February 2012",
          "BMW/3 Series Touring F31, from September 2012",
          "BMW/4 Series Convertible F33, From March 2014",
          "BMW/4 Series Convertible F33, From March 2016",
          "BMW/5 Series F10/F11, From March 2010",
          "BMW/5 Series Gran Turismo F07, From October 2009",
          "BMW/6 Series F12/F13, March 2011",
          "BMW/7 Series G11/G12, From October 2015",
          "BMW/i Series, From November 2013",
          "BMW/M3 Series Saloon F80, From June 2014",
          "BMW/M4 Series Convertible F83, From September 2014",
          "BMW/X1 Series F48, From March 2016",
          "BMW/X1 Series F48, From October 2015",
          "BMW/X3 Series F25, From November 2010",
          "BMW/X4 Series F26, From July 2014",
          "BMW/X5 M Series F85, From April 2015",
          "BMW/X5 Series F15, From November 2013",
          "BMW/X6 M Series F86, From April 2015",
          "BMW/X6 Series F16, From December 2014",
          "BMW/Z4 Series E89 Roadster",
          "CHRYSLER JEEP/Jeep Cherokee, MY 2015",
          "CHRYSLER JEEP/Jeep Cherokee, MY2016",
          "CHRYSLER JEEP/Jeep Compass, MY 2015",
          "CHRYSLER JEEP/Jeep Grand Cherokee, MY 2014",
          "CHRYSLER JEEP/Jeep Grand Cherokee, MY 2015",
          "CHRYSLER JEEP/Jeep Grand Cherokee, MY2016",
          "CHRYSLER JEEP/Jeep Renegade, MY2015",
          "CHRYSLER JEEP/Jeep Renegade, MY2016",
          "CHRYSLER JEEP/Jeep Wrangler, MY 2015",
          "CHRYSLER JEEP/Jeep Wrangler, MY 2016",
          "CITROEN/Berlingo Multispace",
          "CITROEN/C1",
          "CITROEN/C3",
          "CITROEN/C3 Picasso",
          "CITROEN/C4",
          "CITROEN/C4 Cactus",
          "CITROEN/C4 Picasso",
          "CITROEN/C5 Tourer",
          "CITROEN/Grand C4 Picasso",
          "DACIA/Duster Euro6, 2015",
          "DACIA/Logan MCV Euro6, 2015",
          "DACIA/Sandero  Stepway Euro6, 2015",
          "DACIA/Sandero Euro6 2015",
          "DS/DS3",
          "DS/DS3 Cabriolet",
          "DS/New DS3",
          "DS/New DS3 Cabriolet",
          "DS/New DS4",
          "DS/New DS4 Crossback",
          "DS/New DS5",
          "FERRARI/All Models",
          "FIAT/500 & 500C, September 2015 onwards",
          "FIAT/500 X, 2015 onwards",
          "FIAT/500L MPW, August 2013 onwards",
          "FIAT/500L, from 2013 onwards",
          "FIAT/Doblo, 2015 onwards",
          "FIAT/Panda, From February 2012 onwards",
          "FIAT/Punto, 2012 onwards",
          "FIAT/Qubo, 2012 onwards",
          "FORD/All New C-Max, Model Year Post 2016¼",
          "FORD/All New C-Max, Model Year Pre 2016¼",
          "FORD/All New Focus, Model Year Post 2016½",
          "FORD/All New Focus, Model Year Pre 2016½",
          "FORD/All New Galaxy, Model Year Post 2016¾",
          "FORD/All New Galaxy, Model Year Pre 2016¾",
          "FORD/All New Grand C-Max, Model Year Post 2016¼",
          "FORD/All New Grand C-Max, Model Year Pre 2016¼",
          "FORD/All New Mondeo, Model Year Post 2016¾",
          "FORD/All New Mondeo, Model Year Pre 2016¾",
          "FORD/All New S-MAX, Model Year Post 2016¾",
          "FORD/All New S-MAX, Model Year Pre 2016¾",
          "FORD/B-MAX, Model Year Post 2015¾",
          "FORD/EcoSport, Model Year Post 2016¾",
          "FORD/EcoSport, Model Year Pre 2016¾",
          "FORD/Edge, Model Year Post 2016",
          "FORD/Fiesta, Model Year Post 2017",
          "FORD/Fiesta, Model Year Pre 2017",
          "FORD/Grand Tourneo Connect, Model Year Post 2016¼",
          "FORD/Grand Tourneo Connect, Model Year Pre 2016¼",
          "FORD/Ka, Model Year Post 2015½",
          "FORD/KA+, Model Year Post 2016¾",
          "FORD/Kuga, Model Year Post 2016½",
          "FORD/Kuga, Model Year Pre 2016½",
          "FORD/Mondeo Vignale, Model Year Post 2016¾",
          "FORD/Mondeo Vignale, Model Year Pre 2016¾",
          "FORD/Mustang, Model Year Post 2015¾",
          "FORD/S-MAX Vignale, Model Year Post 2017",
          "FORD/Tourneo Connect, Model Year Post 2016½",
          "FORD/Tourneo Connect, Model Year Pre 2016½",
          "FORD/Tourneo Courier Kombi - , Model Year Post 2015¾",
          "FORD/Tourneo Custom - 310 Long Wheelbase, Model Year Post 2016½",
          "FORD/Tourneo Custom - 310 Short Wheelbase, Model Year Post 2016½",
          "HONDA/Civic Hatchback, Model Year 2015",
          "HONDA/Civic Tourer, Model Year 2015",
          "HONDA/CR-V, Model Year 2015",
          "HONDA/HR-V, Model Year 2016",
          "HONDA/Jazz, Model Year 2016",
          "HYUNDAI/Genesis",
          "HYUNDAI/i10",
          "HYUNDAI/i20",
          "HYUNDAI/i20 Active",
          "HYUNDAI/i30",
          "HYUNDAI/i30 Tourer",
          "HYUNDAI/i40",
          "HYUNDAI/i800",
          "HYUNDAI/ix20",
          "HYUNDAI/Santa Fe",
          "HYUNDAI/Tucson",
          "INFINITI/Q30 Euro6, 2016",
          "INFINITI/Q50 Euro6, 2016",
          "INFINITI/Q70 Euro6, 2016",
          "JAGUAR/F-PACE, 17MY",
          "JAGUAR/F-TYPE Automatic RWD, 16MY",
          "JAGUAR/F-TYPE Manual RWD, 16MY",
          "JAGUAR/F-TYPE R Automatic AWD, 16MY",
          "JAGUAR/F-TYPE R Automatic RWD, 16MY",
          "JAGUAR/F-TYPE S Automatic AWD, 16MY",
          "JAGUAR/F-TYPE S Automatic RWD, 16MY",
          "JAGUAR/F-TYPE S Manual RWD, 16MY",
          "JAGUAR/F-TYPE SVR Automatic AWD, 17MY",
          "JAGUAR/XE Saloon, 16MY",
          "JAGUAR/XE Saloon, 17MY",
          "JAGUAR/XF Saloon, 16MY",
          "JAGUAR/XF Saloon, 17MY",
          "JAGUAR/XJ Saloon, 16MY",
          "KIA/Carens",
          "KIA/cee'd",
          "KIA/cee'd SW",
          "KIA/Picanto 3-door",
          "KIA/Picanto 5-door",
          "KIA/pro_cee'd",
          "KIA/Rio 3-door",
          "KIA/Rio 5-door",
          "KIA/Sorento",
          "KIA/Soul",
          "KIA/Sportage",
          "KIA/Venga",
          "LAMBORGHINI/Aventador",
          "LAMBORGHINI/Huracan",
          "LAND ROVER/Discovery 16MY",
          "LAND ROVER/Discovery Sport 16MY",
          "LAND ROVER/Range Rover 16MY",
          "LAND ROVER/Range Rover Evoque 16MY",
          "LAND ROVER/Range Rover Sport 16MY",
          "LEXUS/CT, MY2015",
          "LEXUS/CT200h, MY2016",
          "LEXUS/GS F, MY2016",
          "LEXUS/GS, MY2014",
          "LEXUS/GS300h, MY2016",
          "LEXUS/GS450h, MY2016",
          "LEXUS/IS, MY2015",
          "LEXUS/IS300h, MY2016",
          "LEXUS/LS",
          "LEXUS/NX, MY2015",
          "LEXUS/RC 200t, MY2015",
          "LEXUS/RC F, MY2015",
          "LEXUS/RC300h, MY2015",
          "LEXUS/RX, MY2015",
          "LONDON TAXI COMPANY/Taxi - TX4",
          "MASERATI/Ghibli",
          "MASERATI/Quattroporte",
          "MAZDA/CX-3",
          "MAZDA/CX-5",
          "MAZDA/Mazda2",
          "MAZDA/Mazda3 4 door",
          "MAZDA/Mazda3 5 door",
          "MAZDA/Mazda6 Saloon",
          "MAZDA/Mazda6 Tourer",
          "MAZDA/MX-5",
          "McLaren/540C",
          "McLaren/570GT",
          "McLaren/570S",
          "McLaren/625C, MY2015",
          "McLaren/650S Can-Am",
          "McLaren/650S Le Mans, MY2015",
          "McLaren/650S, MY2015",
          "McLaren/675LT, MY2016",
          "MERCEDES-BENZ/A-Class, Model Year 2016",
          "MERCEDES-BENZ/A-Class, Model Year 2017",
          "MERCEDES-BENZ/AMG GT, Model Year 2016",
          "MERCEDES-BENZ/B-Class, Model Year 2016",
          "MERCEDES-BENZ/Coupe",
          "MERCEDES-BENZ/C-Class Estate, Model Year 2016",
          "MERCEDES-BENZ/C-Class Saloon, Model Year 2016",
          "MERCEDES-BENZ/CLA Shooting Brake, Model Year 2016",
          "MERCEDES-BENZ/CLA Shooting Brake, Model Year 2017",
          "MERCEDES-BENZ/CLS Shooting Brake, Model Year 2016",
          "MERCEDES-BENZ/CLS Shooting Brake, Model Year 2017",
          "MERCEDES-BENZ/E-Class Cabriolet, Model Year 2016",
          "MERCEDES-BENZ/E-Class Estate, Model Year 2016",
          "MERCEDES-BENZ/E-Class Saloon, Model Year 2016",
          "MERCEDES-BENZ/E-Class Saloon, Model Year 2017",
          "MERCEDES-BENZ/G-Class, Model Year 2017",
          "MERCEDES-BENZ/GLA Class, Model Year 2016",
          "MERCEDES-BENZ/GLC, Model Year 2016",
          "MERCEDES-BENZ/GL-Class, Model Year 2016",
          "MERCEDES-BENZ/GLE Estate, Model Year 2016",
          "MERCEDES-BENZ/GLE Estate, Model Year 2016½",
          "MERCEDES-BENZ/GLS, Model Year 2017",
          "MERCEDES-BENZ/S-Class Cabriolet, Model Year 2016",
          "MERCEDES-BENZ/S-Class Limousine, Model Year 2016",
          "MERCEDES-BENZ/S-Class Limousine, Model Year 2016½",
          "MERCEDES-BENZ/S-Class Saloon, Model Year 2016",
          "MERCEDES-BENZ/S-Class Saloon, Model Year 2016½",
          "MERCEDES-BENZ/SL, Model Year 2016",
          "MERCEDES-BENZ/SL, Model Year 2017",
          "MERCEDES-BENZ/SLC, Model Year 2017",
          "MERCEDES-BENZ/SLK-Class, Model Year 2016",
          "MERCEDES-BENZ/V-Class, Model Year 2016",
          "MINI/MINI 3-door Hatchback F56, From March 2014",
          "MINI/MINI 3-door Hatchback F56, From March 2016",
          "MINI/MINI 5-door Hatchback F55, From October 2014",
          "MINI/MINI Clubman F54, From October 2015",
          "MINI/MINI Convertible F57, From March 2016",
          "MINI/MINI Countryman R60, From September 2010",
          "MINI/Coupe",
          "MINI/MINI Paceman R61, From November 2012",
          "MINI/MINI Roadster R59, From April 2012",
          "MITSUBISHI/ASX",
          "MITSUBISHI/Mirage",
          "MITSUBISHI/Outlander",
          "MITSUBISHI/Outlander PHEV, 2014",
          "MITSUBISHI/Shogun",
          "NISSAN/370Z Euro6, 2016",
          "NISSAN/GTR Euro6, 2016",
          "NISSAN/Juke Euro6, 2015",
          "NISSAN/Juke, 2014/15",
          "NISSAN/Micra Euro6, 2015",
          "NISSAN/Note Euro6, 2015",
          "NISSAN/NV200 EURO6, 2015",
          "NISSAN/Pulsar Euro6, 2015",
          "NISSAN/Qashqai Euro6, 2015",
          "NISSAN/XTrail Euro6, 2015",
          "PEUGEOT/108",
          "PEUGEOT/208",
          "PEUGEOT/308",
          "PEUGEOT/508",
          "PEUGEOT/2008",
          "PEUGEOT/3008",
          "PEUGEOT/5008",
          "PEUGEOT/308 SW",
          "PEUGEOT/508 RXH",
          "PEUGEOT/508 SW",
          "PEUGEOT/Partner Tepee",
          "PORSCHE/718",
          "PORSCHE/911 (991 II)",
          "PORSCHE/911 (991)",
          "PORSCHE/Boxster",
          "PORSCHE/Cayenne",
          "PORSCHE/Cayman",
          "PORSCHE/Macan",
          "PORSCHE/Panamera",
          "RENAULT/Captur Euro6, 2015",
          "RENAULT/Clio Euro6, 2015",
          "RENAULT/Clio Sport Tourer Euro6, 2015",
          "RENAULT/Grand Scenic Euro6, 2015",
          "RENAULT/Kadjar Euro6, 2015",
          "RENAULT/Megane 2016",
          "RENAULT/Coupe",
          "RENAULT/Mégane Hatchback Euro6, 2015",
          "RENAULT/Megane Renault Sport Euro6, 2015",
          "RENAULT/Mégane Sport Tourer Euro6, 2015",
          "RENAULT/Scenic Euro6, 2015",
          "RENAULT/Trafic Euro6, 2016",
          "RENAULT/Twingo Euro6, 2015",
          "RENAULT/X Mod Euro6, 2015",
          "Rolls Royce/Dawn",
          "Rolls Royce/Ghost",
          "Rolls Royce/Phantom",
          "Rolls Royce/Wraith",
          "SEAT/Alhambra",
          "SEAT/Ateca",
          "SEAT/Ibiza 5 door",
          "SEAT/Ibiza SC",
          "SEAT/Ibiza ST",
          "SEAT/Leon 5 Door",
          "SEAT/Leon SC",
          "SEAT/Leon ST",
          "SEAT/Leon X-Perience",
          "SEAT/Mii",
          "SEAT/Toledo",
          "SKODA/Citigo",
          "SKODA/Fabia Estate",
          "SKODA/Fabia Hatchback",
          "SKODA/New Superb Estate",
          "SKODA/New Superb Saloon",
          "SKODA/Octavia Estate",
          "SKODA/Octavia Hatchback",
          "SKODA/Rapid",
          "SKODA/Rapid Spaceback",
          "SKODA/Superb Estate",
          "SKODA/Superb Saloon",
          "SKODA/Yeti",
          "SMART/forfour, Model Year 2016",
          "SMART/fortwo cabrio, Model Year 2016",
          "SMART/fortwo coupé, Model Year 2016",
          "SSANGYONG/Korando",
          "SSANGYONG/Rexton W",
          "SSANGYONG/Tivoli",
          "SSANGYONG/Turismo",
          "SUBARU/Forester AWD, From 2015 MY",
          "SUBARU/Levorg AWD, From 2016 MY",
          "SUBARU/Outback AWD, From 2015 MY",
          "SUBARU/WRX STI AWD, From 2015 MY",
          "SUBARU/XV AWD, From 2015MY",
          "SUZUKI/Celerio",
          "SUZUKI/Jimny",
          "SUZUKI/Swift",
          "SUZUKI/SX4 S-Cross",
          "SUZUKI/Vitara",
          "TOYOTA/Auris, MY2015",
          "TOYOTA/Avensis, MY2015",
          "TOYOTA/Aygo, MY2015",
          "TOYOTA/GT86, MY2016",
          "TOYOTA/Land Cruiser, MY2016",
          "TOYOTA/Prius Plug-In, MY2012",
          "TOYOTA/Prius Plus, MY2015",
          "TOYOTA/Prius, 2016",
          "TOYOTA/Prius, MY2012",
          "TOYOTA/RAV4, MY2015",
          "TOYOTA/RAV4, MY2016",
          "TOYOTA/Verso MY2016",
          "TOYOTA/Verso, 2016",
          "TOYOTA/Verso, MY2015",
          "TOYOTA/Yaris, 2016",
          "VAUXHALL/Adam 3 Door Hatchback, Model Year 2015",
          "VAUXHALL/Adam 3 Door Hatchback, Model Year 2016",
          "VAUXHALL/Astra 5 Door Hatchback, Model Year 2015",
          "VAUXHALL/Astra 5 Door Hatchback, Model Year 2016",
          "VAUXHALL/Astra 5 Door Sports Tourer, Model Year 2015",
          "VAUXHALL/Astra 5 Door Sports Tourer, Model Year 2016",
          "VAUXHALL/Astra GTC, Model Year 2015",
          "VAUXHALL/Astra GTC, Model Year 2016",
          "VAUXHALL/Cascada, Model Year 2015",
          "VAUXHALL/Cascada, Model Year 2016",
          "VAUXHALL/Corsa 3 Door Hatchback, Model Year 2015",
          "VAUXHALL/Corsa 3 Door Hatchback, Model Year 2016",
          "VAUXHALL/Corsa 5 Door Hatchback, Model Year 2015",
          "VAUXHALL/Corsa 5 Door Hatchback, Model Year 2016",
          "VAUXHALL/Insignia 5 Door Hatchback, Model Year 2015",
          "VAUXHALL/Insignia 5 Door Hatchback, Model Year 2016",
          "VAUXHALL/Insignia 5 Door Sports Tourer, Model Year 2016",
          "VAUXHALL/Meriva, Model Year 2015",
          "VAUXHALL/Meriva, Model Year 2016",
          "VAUXHALL/Mokka, Model Year 2015",
          "VAUXHALL/Mokka, Model Year 2016",
          "VAUXHALL/Viva 5 Door Hatchback, Model Year 2016",
          "VAUXHALL/Zafira, Model Year 2015",
          "VAUXHALL/Zafira, Model Year 2016",
          "VOLKSWAGEN/Beetle",
          "VOLKSWAGEN/Beetle Cabriolet",
          "VOLKSWAGEN/Golf",
          "VOLKSWAGEN/Golf Cabriolet",
          "VOLKSWAGEN/Golf Estate",
          "VOLKSWAGEN/Golf SV",
          "VOLKSWAGEN/Jetta",
          "VOLKSWAGEN/New CC",
          "VOLKSWAGEN/New Sharan",
          "VOLKSWAGEN/New Tiguan",
          "VOLKSWAGEN/New Touareg",
          "VOLKSWAGEN/Passat Alltrack",
          "VOLKSWAGEN/Passat Estate",
          "VOLKSWAGEN/Passat Saloon",
          "VOLKSWAGEN/Polo",
          "VOLKSWAGEN/Scirocco",
          "VOLKSWAGEN/Touran",
          "VOLKSWAGEN/UP",
          "VOLKSWAGEN C.V./Caddy Life",
          "VOLKSWAGEN C.V./Caddy Life BlueMotion",
          "VOLKSWAGEN C.V./Caddy Maxi Life",
          "VOLKSWAGEN C.V./Caddy Maxi Window Van",
          "VOLKSWAGEN C.V./California Beach",
          "VOLKSWAGEN C.V./California Ocean",
          "VOLKSWAGEN C.V./Caravelle Executive Short Wheelbase",
          "VOLKSWAGEN C.V./Caravelle Generation Six",
          "VOLKSWAGEN C.V./Caravelle SE Long Wheelbase",
          "VOLKSWAGEN C.V./Caravelle SE Short Wheelbase",
          "VOLKSWAGEN C.V./Transporter Shuttle S Long Wheelbase",
          "VOLKSWAGEN C.V./Transporter Shuttle S Short Wheelbase",
          "VOLKSWAGEN C.V./Transporter Shuttle SE Long Wheelbase",
          "VOLKSWAGEN C.V./Transporter Shuttle SE Short Wheelbase",
          "VOLKSWAGEN C.V./Transporter Window Van T30 and T32 Long Wheelbase Low Roof",
          "VOLKSWAGEN C.V./Transporter Window Van T30 and T32 Short Wheelbase Low Roof",
          "VOLVO/S60 MY17",
          "VOLVO/S60, MY16",
          "VOLVO/S80, MY16",
          "VOLVO/S90 MY17",
          "VOLVO/V40 MY17",
          "VOLVO/V40, MY16",
          "VOLVO/V60 MY17",
          "VOLVO/V60, MY16",
          "VOLVO/V70, MY16",
          "VOLVO/V90 MY17",
          "VOLVO/XC60 MY17",
          "VOLVO/XC60, MY16",
          "VOLVO/XC70, MY16",
          "VOLVO/XC90 MY17",
          "VOLVO/XC90, MY16",
          "ABARTH",
          "ALFA ROMEO",
          "ASTON MARTIN LAGONDA",
          "AUDI",
          "BENTLEY MOTORS",
          "BMW",
          "CHRYSLER JEEP",
          "CITROEN",
          "DACIA",
          "DS",
          "FERRARI",
          "FIAT",
          "FORD",
          "HONDA",
          "HYUNDAI",
          "INFINITI",
          "JAGUAR",
          "KIA",
          "LAMBORGHINI",
          "LAND ROVER",
          "LEXUS",
          "LONDON TAXI COMPANY",
          "MASERATI",
          "MAZDA",
          "McLaren",
          "MERCEDES-BENZ",
          "MINI",
          "MITSUBISHI",
          "NISSAN",
          "PEUGEOT",
          "PORSCHE",
          "RENAULT",
          "Rolls Royce",
          "SEAT",
          "SKODA",
          "SMART",
          "SSANGYONG",
          "SUBARU",
          "SUZUKI",
          "TOYOTA",
          "VAUXHALL",
          "VOLKSWAGEN",
          "VOLKSWAGEN C.V.",
          "VOLVO"
         ],
         "labels": [
          "500, 2012 onwards",
          "New Abarth 595, 2016 Onwards",
          "Alfa 4C Spider, September 2015 on",
          "Alfa 4C, April 2014 on",
          "Giulietta",
          "MiTo, 2012 onwards",
          "DB9 GT, MY2016",
          "DB9 MY2015, from May 2014",
          "Rapide S MY2015, from Sept 2014",
          "Rapide S, MY2016",
          "V12 Vantage S MY2015, from March 2014",
          "V12 Vantage S, MY2016",
          "V8 Vantage/V8 Vantage S/N430, MY2016",
          "V8 Vantage/Vantage S/N430 MY2015, from May 2014",
          "Vanquish MY2015, from Sept 2014",
          "Vanquish, MY2016",
          "Vantage GT12, MY2016",
          "A1",
          "A1 Sportback",
          "A3 Cabriolet",
          "A3 Hatchback",
          "A3 Saloon",
          "A3 Sportback",
          "A4 Allroad",
          "A5 Cabriolet",
          "Coupe",
          "A5 Sportback",
          "A6 Allroad",
          "A6 Avant",
          "A6 Saloon",
          "A7 Sportback",
          "A8",
          "New A4 Avant",
          "New A4 Saloon",
          "Q3",
          "Q5",
          "Q7",
          "R8 Spyder",
          "RS Series",
          "TT Roadster",
          "Bentayga, MY2017",
          "Continental",
          "Continental, MY2016",
          "Flying Spur, MY2015",
          "Flying Spur, MY2017",
          "Mulsanne, MY2017",
          "1 Series 3-door F21, From September 2012",
          "1 Series 5-door F20, From September 2011",
          "2 Series Active Tourer F45, From March 2016",
          "2 Series Active Tourer F45, From September 2014",
          "2 Series Convertible F23, From February 2015",
          "2 Series Convertible F23, From July 2015",
          "Coupe",
          "2 Series Gran Tourer F46, From June 2015",
          "2 Series Gran Tourer F46, From March 2016",
          "3 Series Gran Turismo F34, From June 2013",
          "3 Series Saloon F30, From February 2012",
          "3 Series Touring F31, from September 2012",
          "4 Series Convertible F33, From March 2014",
          "4 Series Convertible F33, From March 2016",
          "5 Series F10/F11, From March 2010",
          "5 Series Gran Turismo F07, From October 2009",
          "6 Series F12/F13, March 2011",
          "7 Series G11/G12, From October 2015",
          "i Series, From November 2013",
          "M3 Series Saloon F80, From June 2014",
          "M4 Series Convertible F83, From September 2014",
          "X1 Series F48, From March 2016",
          "X1 Series F48, From October 2015",
          "X3 Series F25, From November 2010",
          "X4 Series F26, From July 2014",
          "X5 M Series F85, From April 2015",
          "X5 Series F15, From November 2013",
          "X6 M Series F86, From April 2015",
          "X6 Series F16, From December 2014",
          "Z4 Series E89 Roadster",
          "Jeep Cherokee, MY 2015",
          "Jeep Cherokee, MY2016",
          "Jeep Compass, MY 2015",
          "Jeep Grand Cherokee, MY 2014",
          "Jeep Grand Cherokee, MY 2015",
          "Jeep Grand Cherokee, MY2016",
          "Jeep Renegade, MY2015",
          "Jeep Renegade, MY2016",
          "Jeep Wrangler, MY 2015",
          "Jeep Wrangler, MY 2016",
          "Berlingo Multispace",
          "C1",
          "C3",
          "C3 Picasso",
          "C4",
          "C4 Cactus",
          "C4 Picasso",
          "C5 Tourer",
          "Grand C4 Picasso",
          "Duster Euro6, 2015",
          "Logan MCV Euro6, 2015",
          "Sandero  Stepway Euro6, 2015",
          "Sandero Euro6 2015",
          "DS3",
          "DS3 Cabriolet",
          "New DS3",
          "New DS3 Cabriolet",
          "New DS4",
          "New DS4 Crossback",
          "New DS5",
          "All Models",
          "500 & 500C, September 2015 onwards",
          "500 X, 2015 onwards",
          "500L MPW, August 2013 onwards",
          "500L, from 2013 onwards",
          "Doblo, 2015 onwards",
          "Panda, From February 2012 onwards",
          "Punto, 2012 onwards",
          "Qubo, 2012 onwards",
          "All New C-Max, Model Year Post 2016¼",
          "All New C-Max, Model Year Pre 2016¼",
          "All New Focus, Model Year Post 2016½",
          "All New Focus, Model Year Pre 2016½",
          "All New Galaxy, Model Year Post 2016¾",
          "All New Galaxy, Model Year Pre 2016¾",
          "All New Grand C-Max, Model Year Post 2016¼",
          "All New Grand C-Max, Model Year Pre 2016¼",
          "All New Mondeo, Model Year Post 2016¾",
          "All New Mondeo, Model Year Pre 2016¾",
          "All New S-MAX, Model Year Post 2016¾",
          "All New S-MAX, Model Year Pre 2016¾",
          "B-MAX, Model Year Post 2015¾",
          "EcoSport, Model Year Post 2016¾",
          "EcoSport, Model Year Pre 2016¾",
          "Edge, Model Year Post 2016",
          "Fiesta, Model Year Post 2017",
          "Fiesta, Model Year Pre 2017",
          "Grand Tourneo Connect, Model Year Post 2016¼",
          "Grand Tourneo Connect, Model Year Pre 2016¼",
          "Ka, Model Year Post 2015½",
          "KA+, Model Year Post 2016¾",
          "Kuga, Model Year Post 2016½",
          "Kuga, Model Year Pre 2016½",
          "Mondeo Vignale, Model Year Post 2016¾",
          "Mondeo Vignale, Model Year Pre 2016¾",
          "Mustang, Model Year Post 2015¾",
          "S-MAX Vignale, Model Year Post 2017",
          "Tourneo Connect, Model Year Post 2016½",
          "Tourneo Connect, Model Year Pre 2016½",
          "Tourneo Courier Kombi - , Model Year Post 2015¾",
          "Tourneo Custom - 310 Long Wheelbase, Model Year Post 2016½",
          "Tourneo Custom - 310 Short Wheelbase, Model Year Post 2016½",
          "Civic Hatchback, Model Year 2015",
          "Civic Tourer, Model Year 2015",
          "CR-V, Model Year 2015",
          "HR-V, Model Year 2016",
          "Jazz, Model Year 2016",
          "Genesis",
          "i10",
          "i20",
          "i20 Active",
          "i30",
          "i30 Tourer",
          "i40",
          "i800",
          "ix20",
          "Santa Fe",
          "Tucson",
          "Q30 Euro6, 2016",
          "Q50 Euro6, 2016",
          "Q70 Euro6, 2016",
          "F-PACE, 17MY",
          "F-TYPE Automatic RWD, 16MY",
          "F-TYPE Manual RWD, 16MY",
          "F-TYPE R Automatic AWD, 16MY",
          "F-TYPE R Automatic RWD, 16MY",
          "F-TYPE S Automatic AWD, 16MY",
          "F-TYPE S Automatic RWD, 16MY",
          "F-TYPE S Manual RWD, 16MY",
          "F-TYPE SVR Automatic AWD, 17MY",
          "XE Saloon, 16MY",
          "XE Saloon, 17MY",
          "XF Saloon, 16MY",
          "XF Saloon, 17MY",
          "XJ Saloon, 16MY",
          "Carens",
          "cee'd",
          "cee'd SW",
          "Picanto 3-door",
          "Picanto 5-door",
          "pro_cee'd",
          "Rio 3-door",
          "Rio 5-door",
          "Sorento",
          "Soul",
          "Sportage",
          "Venga",
          "Aventador",
          "Huracan",
          "Discovery 16MY",
          "Discovery Sport 16MY",
          "Range Rover 16MY",
          "Range Rover Evoque 16MY",
          "Range Rover Sport 16MY",
          "CT, MY2015",
          "CT200h, MY2016",
          "GS F, MY2016",
          "GS, MY2014",
          "GS300h, MY2016",
          "GS450h, MY2016",
          "IS, MY2015",
          "IS300h, MY2016",
          "LS",
          "NX, MY2015",
          "RC 200t, MY2015",
          "RC F, MY2015",
          "RC300h, MY2015",
          "RX, MY2015",
          "Taxi - TX4",
          "Ghibli",
          "Quattroporte",
          "CX-3",
          "CX-5",
          "Mazda2",
          "Mazda3 4 door",
          "Mazda3 5 door",
          "Mazda6 Saloon",
          "Mazda6 Tourer",
          "MX-5",
          "540C",
          "570GT",
          "570S",
          "625C, MY2015",
          "650S Can-Am",
          "650S Le Mans, MY2015",
          "650S, MY2015",
          "675LT, MY2016",
          "A-Class, Model Year 2016",
          "A-Class, Model Year 2017",
          "AMG GT, Model Year 2016",
          "B-Class, Model Year 2016",
          "Coupe",
          "C-Class Estate, Model Year 2016",
          "C-Class Saloon, Model Year 2016",
          "CLA Shooting Brake, Model Year 2016",
          "CLA Shooting Brake, Model Year 2017",
          "CLS Shooting Brake, Model Year 2016",
          "CLS Shooting Brake, Model Year 2017",
          "E-Class Cabriolet, Model Year 2016",
          "E-Class Estate, Model Year 2016",
          "E-Class Saloon, Model Year 2016",
          "E-Class Saloon, Model Year 2017",
          "G-Class, Model Year 2017",
          "GLA Class, Model Year 2016",
          "GLC, Model Year 2016",
          "GL-Class, Model Year 2016",
          "GLE Estate, Model Year 2016",
          "GLE Estate, Model Year 2016½",
          "GLS, Model Year 2017",
          "S-Class Cabriolet, Model Year 2016",
          "S-Class Limousine, Model Year 2016",
          "S-Class Limousine, Model Year 2016½",
          "S-Class Saloon, Model Year 2016",
          "S-Class Saloon, Model Year 2016½",
          "SL, Model Year 2016",
          "SL, Model Year 2017",
          "SLC, Model Year 2017",
          "SLK-Class, Model Year 2016",
          "V-Class, Model Year 2016",
          "MINI 3-door Hatchback F56, From March 2014",
          "MINI 3-door Hatchback F56, From March 2016",
          "MINI 5-door Hatchback F55, From October 2014",
          "MINI Clubman F54, From October 2015",
          "MINI Convertible F57, From March 2016",
          "MINI Countryman R60, From September 2010",
          "Coupe",
          "MINI Paceman R61, From November 2012",
          "MINI Roadster R59, From April 2012",
          "ASX",
          "Mirage",
          "Outlander",
          "Outlander PHEV, 2014",
          "Shogun",
          "370Z Euro6, 2016",
          "GTR Euro6, 2016",
          "Juke Euro6, 2015",
          "Juke, 2014/15",
          "Micra Euro6, 2015",
          "Note Euro6, 2015",
          "NV200 EURO6, 2015",
          "Pulsar Euro6, 2015",
          "Qashqai Euro6, 2015",
          "XTrail Euro6, 2015",
          "108",
          "208",
          "308",
          "508",
          "2008",
          "3008",
          "5008",
          "308 SW",
          "508 RXH",
          "508 SW",
          "Partner Tepee",
          "718",
          "911 (991 II)",
          "911 (991)",
          "Boxster",
          "Cayenne",
          "Cayman",
          "Macan",
          "Panamera",
          "Captur Euro6, 2015",
          "Clio Euro6, 2015",
          "Clio Sport Tourer Euro6, 2015",
          "Grand Scenic Euro6, 2015",
          "Kadjar Euro6, 2015",
          "Megane 2016",
          "Coupe",
          "Mégane Hatchback Euro6, 2015",
          "Megane Renault Sport Euro6, 2015",
          "Mégane Sport Tourer Euro6, 2015",
          "Scenic Euro6, 2015",
          "Trafic Euro6, 2016",
          "Twingo Euro6, 2015",
          "X Mod Euro6, 2015",
          "Dawn",
          "Ghost",
          "Phantom",
          "Wraith",
          "Alhambra",
          "Ateca",
          "Ibiza 5 door",
          "Ibiza SC",
          "Ibiza ST",
          "Leon 5 Door",
          "Leon SC",
          "Leon ST",
          "Leon X-Perience",
          "Mii",
          "Toledo",
          "Citigo",
          "Fabia Estate",
          "Fabia Hatchback",
          "New Superb Estate",
          "New Superb Saloon",
          "Octavia Estate",
          "Octavia Hatchback",
          "Rapid",
          "Rapid Spaceback",
          "Superb Estate",
          "Superb Saloon",
          "Yeti",
          "forfour, Model Year 2016",
          "fortwo cabrio, Model Year 2016",
          "fortwo coupé, Model Year 2016",
          "Korando",
          "Rexton W",
          "Tivoli",
          "Turismo",
          "Forester AWD, From 2015 MY",
          "Levorg AWD, From 2016 MY",
          "Outback AWD, From 2015 MY",
          "WRX STI AWD, From 2015 MY",
          "XV AWD, From 2015MY",
          "Celerio",
          "Jimny",
          "Swift",
          "SX4 S-Cross",
          "Vitara",
          "Auris, MY2015",
          "Avensis, MY2015",
          "Aygo, MY2015",
          "GT86, MY2016",
          "Land Cruiser, MY2016",
          "Prius Plug-In, MY2012",
          "Prius Plus, MY2015",
          "Prius, 2016",
          "Prius, MY2012",
          "RAV4, MY2015",
          "RAV4, MY2016",
          "Verso MY2016",
          "Verso, 2016",
          "Verso, MY2015",
          "Yaris, 2016",
          "Adam 3 Door Hatchback, Model Year 2015",
          "Adam 3 Door Hatchback, Model Year 2016",
          "Astra 5 Door Hatchback, Model Year 2015",
          "Astra 5 Door Hatchback, Model Year 2016",
          "Astra 5 Door Sports Tourer, Model Year 2015",
          "Astra 5 Door Sports Tourer, Model Year 2016",
          "Astra GTC, Model Year 2015",
          "Astra GTC, Model Year 2016",
          "Cascada, Model Year 2015",
          "Cascada, Model Year 2016",
          "Corsa 3 Door Hatchback, Model Year 2015",
          "Corsa 3 Door Hatchback, Model Year 2016",
          "Corsa 5 Door Hatchback, Model Year 2015",
          "Corsa 5 Door Hatchback, Model Year 2016",
          "Insignia 5 Door Hatchback, Model Year 2015",
          "Insignia 5 Door Hatchback, Model Year 2016",
          "Insignia 5 Door Sports Tourer, Model Year 2016",
          "Meriva, Model Year 2015",
          "Meriva, Model Year 2016",
          "Mokka, Model Year 2015",
          "Mokka, Model Year 2016",
          "Viva 5 Door Hatchback, Model Year 2016",
          "Zafira, Model Year 2015",
          "Zafira, Model Year 2016",
          "Beetle",
          "Beetle Cabriolet",
          "Golf",
          "Golf Cabriolet",
          "Golf Estate",
          "Golf SV",
          "Jetta",
          "New CC",
          "New Sharan",
          "New Tiguan",
          "New Touareg",
          "Passat Alltrack",
          "Passat Estate",
          "Passat Saloon",
          "Polo",
          "Scirocco",
          "Touran",
          "UP",
          "Caddy Life",
          "Caddy Life BlueMotion",
          "Caddy Maxi Life",
          "Caddy Maxi Window Van",
          "California Beach",
          "California Ocean",
          "Caravelle Executive Short Wheelbase",
          "Caravelle Generation Six",
          "Caravelle SE Long Wheelbase",
          "Caravelle SE Short Wheelbase",
          "Transporter Shuttle S Long Wheelbase",
          "Transporter Shuttle S Short Wheelbase",
          "Transporter Shuttle SE Long Wheelbase",
          "Transporter Shuttle SE Short Wheelbase",
          "Transporter Window Van T30 and T32 Long Wheelbase Low Roof",
          "Transporter Window Van T30 and T32 Short Wheelbase Low Roof",
          "S60 MY17",
          "S60, MY16",
          "S80, MY16",
          "S90 MY17",
          "V40 MY17",
          "V40, MY16",
          "V60 MY17",
          "V60, MY16",
          "V70, MY16",
          "V90 MY17",
          "XC60 MY17",
          "XC60, MY16",
          "XC70, MY16",
          "XC90 MY17",
          "XC90, MY16",
          "ABARTH",
          "ALFA ROMEO",
          "ASTON MARTIN LAGONDA",
          "AUDI",
          "BENTLEY MOTORS",
          "BMW",
          "CHRYSLER JEEP",
          "CITROEN",
          "DACIA",
          "DS",
          "FERRARI",
          "FIAT",
          "FORD",
          "HONDA",
          "HYUNDAI",
          "INFINITI",
          "JAGUAR",
          "KIA",
          "LAMBORGHINI",
          "LAND ROVER",
          "LEXUS",
          "LONDON TAXI COMPANY",
          "MASERATI",
          "MAZDA",
          "McLaren",
          "MERCEDES-BENZ",
          "MINI",
          "MITSUBISHI",
          "NISSAN",
          "PEUGEOT",
          "PORSCHE",
          "RENAULT",
          "Rolls Royce",
          "SEAT",
          "SKODA",
          "SMART",
          "SSANGYONG",
          "SUBARU",
          "SUZUKI",
          "TOYOTA",
          "VAUXHALL",
          "VOLKSWAGEN",
          "VOLKSWAGEN C.V.",
          "VOLVO"
         ],
         "marker": {
          "coloraxis": "coloraxis",
          "colors": {
           "bdata": "cbNSiZI8UkBt7mVKHTZSQJqZmZmZ2VFAmpmZmZnZUUDHP7gwqRFSQJSJK90bYFJAAAAAAAAAUkAAAAAAAABSQAAAAAAAwFFAAAAAAADAUUAAAAAAAIBSQAAAAAAAgFJAtHvY+jagUkC0e9j6NqBSQAAAAAAAQFJAAAAAAABAUkAAAAAAACBSQCYjNUD4y1FAJiM1QPjLUUCTgcnAZKBRQMn6Y3kMo1FAq3to2Z+yUUBwpHcXZ6xRQDXJoPFP01FAVllllVX2UUA+l2uYAhlSQGmDHHq3+FFALQc3+4XYUUAsW4yl6spRQKmQCqmQylFALZNFDhDyUUC/RU5P07JRQFQdjRa7Z1FAaHZV72ViUUDM4j+0hYtRQDDeyj6HFFJAprK964BuUUAAAAAAAIBSQMOcDZcYOFJAM5nNZDZTUkAAAAAAAIBRQAAAAAAAQFJAcyDRCpvDUUAAAAAAAIBRQAAAAAAAgFFAAAAAAAAAUkA+bDTtDbFRQMMFdhKNqlFAAAAAAABAUUBcuVgHV25RQP1pOOQmo1FADqbIZ92AUkAjM6YaftVRQAAAAACAdlFAD+qgDuqAUUCt4hMSnLZRQPRiVuH22lFAh662G5zUUUBx9xN83vhRQMzbGRLztlFAOfg9hV2UUUCuNGtcLFBRQMJAwOr4ElJAZmZmZmYmUUA7qIM6qINRQAAAAAAAgFJAAAAAAACAUkAAAAAAAABRQDuogzqog1FAHlsRNJy0UUAeWxE0nLRRQAAAAAAAAFJAqCUMiMCSUUAAAAAAAABSQOkmMQis3FFAX6kEvPROUkBP6xLgFQtSQE/rEuAVC1JAiAMefzggUkAAAAAAAEBSQAAAAAAAAFJAAAAAAAAAUkCq33NLnFpSQOaqlNQcbVJAWPuGtW9YUkASnT0fxHJSQEfObJ24XlFAz6XakImRUUCXyaeUn9RRQBTe6ok4Q1FAcYSabAOfUUCKAjuiDstRQJp9BOKLwlFA41Hikr65UUC8jo8IhMpRQKYDaJQFP1JAeQXXn9VTUkAjAf1kgZZSQA8Xsr8N4FFA1hdEL1e1UUAAAAAAAGBRQEeCfPx5xFFAuTk+gT3FUUDhHSS5KbdRQGfw0wargVFAgxl16MQEUkBkIQtZyGZSQDKOPmW3MlJAXDBbEnMJUkAAAAAAAABSQHacozzU5lFAabaxe46GUUDoZpzClOBRQH4tk0UO8FFAueEz5hDXUUAhDdIgDRJRQNNKDDeHHVFAzczMzMyMUUAScq1B94BRQKK1+3AL6FFAorX7cAvoUUAWpmdhehZRQBamZ2F6FlFAV0ETyQmjUUBXQRPJCaNRQCRm4phu5FFAorX7cAvoUUAPNrDqoZlRQL5104oxnVFAK2wOJFrBUUDz9NFqEmJRQPjMORf/jFFAX2OYrU+dUUDshXVXoJBRQOyFdVegkFFAAAAAAAAAUkAAAAAAAMBQQJax/Y5eWVFAlrH9jl5ZUUBf97rXvc5RQF/3ute9zlFAr9pc43ZxUkAxhznMYc5RQLrooosumlFAuuiiiy6aUUAAAAAAAIBRQAAAAAAAwFFAAAAAAADAUUBiXXrM36tRQL7aIteZwFFArEZK0ynCUUBuAYVRneZRQAAAAAAAAFJAAAAAAACAUkAOJFphc8BRQOEs62mR01FAAAAAAADAUUCe0rp4FilSQKlZ1CxqFlJA9YOOCnwxUkAAAAAAAIBSQCQT6J261lFAKBNXujdgUkCzzyE1wThSQPxq6WyymFFAVaz8W50aUUBII/Bn4URRQBERERERAVJAAAAAAACAUUAAAAAAAMBSQAAAAAAAwFFAAAAAAADAUUAAAAAAAABSQAAAAAAAAFJAAAAAAADAUkAAAAAAAIBSQLYYF0H9IFJAAAAAAADAUkBm2Cv9ORtSQAAAAAAAwFJAQEbDBGT0UUDP9Dfodk1SQM7d0Cb+OVJAZi+aE3c7UkDkn1XGmVBSQL86qTKGRVJAwvkYnI85UkAAAAAAAABSQGKIFH0Y4lFADhw4cOBAUkCZlGRqDxdSQNDllyiuGlJAFY93kO7KUUDNzMzMzMxRQJqZmZmZ+VFAjuM4juMAUkAvw17pzxlSQAnkmgjk2lFA9yqYJeXgUUCIuNFyzDdSQM3MzMzM7FBAm83bL0DnUEAAAAAAAEBRQGZmZmZmhlFAAAAAAADAUUB/8zinIoJRQAAAAAAAwFFAAAAAAACAUkBQIHZ/NdNRQI7J5vxLE1FAAAAAAACAUUAAAAAAAIBRQAAAAAAAwFBAXqbFJGAzUUAAAAAAAEBSQDSdO/BITFFATznllFMOUUAPk0o+y4xRQIGtGDs+slFA5HaJYhQ+UUCYawfm2kFRQAtZyEIWQlFAv5knqDxTUUBwwyKiy1VRQPIL/ktHClFAAAAAAACAUkAAAAAAAIBSQAAAAAAAgFJAKBNXujdgUkAAAAAAAIBSQCgTV7o3YFJAKBNXujdgUkAAAAAAAIBSQOwuV6CTIVJAICo0PkgSUkAAAAAAAIBSQOUuxkNRH1JAjiXIdhoZUkBWuDvO/uBRQEwmctoJq1FAwvkYnI85UkALsPmMs0BSQAloJaCVQFJACWgloJVAUkCZprB0Y9NRQAgQIECAQFJAxdzqjFQsUkAwN8SAdOxRQGisD431YVJAycPgMkYSUkAAAAAAAIBSQNa+Ye0bVlJAAAAAAACAUkDWvmHtG1ZSQAAAAAAAgFJAAAAAAACAUUCe2Imd2MlRQIgM9yqY5VFAAAAAAAAAUUAAAAAAAEBRQEELtEALNFJATm9605tmUkAG+ImTh9ZRQAyNqHMUKVJAKBNXujdgUkCG5F5I7sVRQFCKehmJlVFA0Qu90Au9UUBisk/HrsVRQLwPqsFAo1FA7C11ejgxUkAOHDhw4EBSQCcoycdMKFJADhw4cOBAUkBMtSETo5VRQHCpbO86YFFAAAAAAABAUkAAAAAAAEBSQB1ItMLmwFFAAAAAAACgUUDNzMzMzGxRQJJsj2YAwVFAHUi0wubAUUAHdVAHdYBRQAd1UAd1gFFAAAAAAADAUUCF/iRjUU1RQA7YgA3YgFFAYdSnasYcUUAr+xxSE6xRQJRNNtkknFFA7gsn9MGKUUC9hXJE2VVRQEH6vDFGaVFAYFyy1wyQUUCEBoWIQs1RQL4LWXUWelFAm2LryqcJUkC9hXJE2VVRQKCKkeTIfFFAA2GkHSvQUUDoCFPtcpBSQN8kOL7+oFJAOuecc86ZUkBKJD3XxWZSQLR72Po2oFJAGHKgiWn0UUAAAAAAgElSQP7h5NDFt1FA/eoygXQmUkAOuzGIwx5SQPwOp3qvyVFAwJK9HCnwUUBqq/elxixSQDLZ+bCSClJAz+iR9C0mUkAAAAAAAMBSQD8/Pz//I1JAV+GC8uLjUUDNwpoMvANSQHk3wdeO0lFAK94y8B78UUAAAAAAAIBRQAAAAAAAgFFAAAAAAAAAUkAAAAAAAIBRQHUeltE/qFFACwfQljxzUUCQixFqu9VRQBDDq6kI21FAvgpmSTngUUCZ9iLYIOhRQFG5QPyp5lFAw9RrVbT8UUA6kGiFzcFRQM+l2pCJkVFANVdzNVczUkCjiy666JpRQDrGTDFAzlFA/+UNk6jYUUC4HLIkx6dRQIJTTnDKyVFAuEjNulIwUkAqhe2tQB9SQK7OSMXcKlJAiAMefzggUkCYLg/r5x1SQL6RcIyVHFJAeyEwdShaUkDIHw54/CFSQDI4H4Pz8VFA09LS0tISUkBRug1De8NRQLVoxQme4VFAPY5wIRfMUUBg7EsHvBFSQNM4FADSrVFAAAAAAACAUEDWsoKAXY1RQDMzMzMzM1JACMwcTazAUUAww7Zp8mFRQFKBL65+MFJAs06LkvqxUUBaYnzKtLNRQAAAAAAAwFFAC/RqibvFUUCF3PPFKOJRQMoVxOQKolFATvHBRX0+UkAAAAAAAIBRQAAAAAAAQFFAAAAAAAAAUUAAAAAAAMBQQAAAAAAAQFFAAAAAAABAUUBnD+eJFHRRQAAAAAAAgFJApUCtXymQUkAAAAAAAIBSQPHw8PDwIlJA8sx5RyKPUUAR6MC2hKlRQFpifMq0s1FA8pQgTwmaUUDkbMObuMBRQFCKehmJlVFAPQhG04MgUkBGZVRGZTRSQIgDHn84IFJACe0ltJcAUkA6kGiFzcFRQN5uXlsIrlFAMnaIJDinUUCEEEIIIbhRQDkgMtyr4FFAe1g9rB4WUkAAAAAAAABSQHuuYtn45lFAjuM4juMAUkAvw17pzxlSQJvX718mHFJAAAAAAADAUUBNekYky6RRQBERERER0VFAvatWbEe5UUBrrbXWWrdRQCqYh8uB1lFAcaHmJBDXUUD7Az1SQo5RQFCYqeK8slFAA2GkHSvQUUAT2U1kN9FRQMEzN5BVrFFA8NQoJ+OqUUAAAAAAAMBRQHMg0Qqbw1FAq/5XpQqAUUCr/lelCoBRQBAUWS/7uVFAz/0ipewmUkCkBypnt7BRQM+l2pCJkVFAOkq3r6weUkAAAAAAAMBSQK7k9vz+FFJAp+MfXJgUUkDYrUJ43epRQG6F4lYorlFAvtoi15nAUUDeHmsZOqBRQA4kWmFzwFFAc0BkuFfhUUDYrUJ43epRQL4KZkk54FFAdiyadSzaUUCnNrWpTc1RQAq5Whee0FFArqZvdO7VUUDDCjhZG9lRQP0SxVXbx1FAKBNXujdgUkAAAAAAAIBRQKU3bCFPulFA63m9dOGtUUBaKR1aKd1RQPq1h1xWzFFAp0m8LT33UUAAAAAAAIBRQLAI0/fP5VFAd0haGFn2UUANwTravE9SQC+66KKLblFAEejAtoSpUUBPtaQe0DpSQAIVa95/IFJAGCvAAd9IUkA1CyT7k75RQAAAAAAA4FFACljsGsy2UUCx0uLPdkFSQIDkjzZ8r1FAbC1fHUs8UkA3RI7V/MJRQGQhC1nIZlJAAoYvp0nqUUCrEVdlBZ1RQNTjnEliylFAlN26UhoRUkB0lnwrpnFRQJ0ABRBkHVJA8YRV7QYeUkAmPzlAT+NRQBiBERiBAVJAtnAhoOd7UUAAAAAAAEBSQHSEtxGGLVFAes/wXnZfUUCsKVh5ZW5SQPi6peg4DVJAXYgQ2u/zUUBKFqz/xMNRQOTELPyBflFAKvHhWM+IUUDbO/c/YYJSQO5QepfTAFJAHUi0wubAUUC3R8NhAOJRQJG+5qkUAlJAkL3qF0USUkAKwBdVT9hRQBbw3NYCoVFAsz/6+cayUUDYROYRBNlRQADF6chlyFFA/5emgYm9UUAdUhOMt+JRQAxc4AIX0FFA",
           "dtype": "f8"
          }
         },
         "name": "",
         "parents": [
          "ABARTH",
          "ABARTH",
          "ALFA ROMEO",
          "ALFA ROMEO",
          "ALFA ROMEO",
          "ALFA ROMEO",
          "ASTON MARTIN LAGONDA",
          "ASTON MARTIN LAGONDA",
          "ASTON MARTIN LAGONDA",
          "ASTON MARTIN LAGONDA",
          "ASTON MARTIN LAGONDA",
          "ASTON MARTIN LAGONDA",
          "ASTON MARTIN LAGONDA",
          "ASTON MARTIN LAGONDA",
          "ASTON MARTIN LAGONDA",
          "ASTON MARTIN LAGONDA",
          "ASTON MARTIN LAGONDA",
          "AUDI",
          "AUDI",
          "AUDI",
          "AUDI",
          "AUDI",
          "AUDI",
          "AUDI",
          "AUDI",
          "AUDI",
          "AUDI",
          "AUDI",
          "AUDI",
          "AUDI",
          "AUDI",
          "AUDI",
          "AUDI",
          "AUDI",
          "AUDI",
          "AUDI",
          "AUDI",
          "AUDI",
          "AUDI",
          "AUDI",
          "BENTLEY MOTORS",
          "BENTLEY MOTORS",
          "BENTLEY MOTORS",
          "BENTLEY MOTORS",
          "BENTLEY MOTORS",
          "BENTLEY MOTORS",
          "BMW",
          "BMW",
          "BMW",
          "BMW",
          "BMW",
          "BMW",
          "BMW",
          "BMW",
          "BMW",
          "BMW",
          "BMW",
          "BMW",
          "BMW",
          "BMW",
          "BMW",
          "BMW",
          "BMW",
          "BMW",
          "BMW",
          "BMW",
          "BMW",
          "BMW",
          "BMW",
          "BMW",
          "BMW",
          "BMW",
          "BMW",
          "BMW",
          "BMW",
          "BMW",
          "CHRYSLER JEEP",
          "CHRYSLER JEEP",
          "CHRYSLER JEEP",
          "CHRYSLER JEEP",
          "CHRYSLER JEEP",
          "CHRYSLER JEEP",
          "CHRYSLER JEEP",
          "CHRYSLER JEEP",
          "CHRYSLER JEEP",
          "CHRYSLER JEEP",
          "CITROEN",
          "CITROEN",
          "CITROEN",
          "CITROEN",
          "CITROEN",
          "CITROEN",
          "CITROEN",
          "CITROEN",
          "CITROEN",
          "DACIA",
          "DACIA",
          "DACIA",
          "DACIA",
          "DS",
          "DS",
          "DS",
          "DS",
          "DS",
          "DS",
          "DS",
          "FERRARI",
          "FIAT",
          "FIAT",
          "FIAT",
          "FIAT",
          "FIAT",
          "FIAT",
          "FIAT",
          "FIAT",
          "FORD",
          "FORD",
          "FORD",
          "FORD",
          "FORD",
          "FORD",
          "FORD",
          "FORD",
          "FORD",
          "FORD",
          "FORD",
          "FORD",
          "FORD",
          "FORD",
          "FORD",
          "FORD",
          "FORD",
          "FORD",
          "FORD",
          "FORD",
          "FORD",
          "FORD",
          "FORD",
          "FORD",
          "FORD",
          "FORD",
          "FORD",
          "FORD",
          "FORD",
          "FORD",
          "FORD",
          "FORD",
          "FORD",
          "HONDA",
          "HONDA",
          "HONDA",
          "HONDA",
          "HONDA",
          "HYUNDAI",
          "HYUNDAI",
          "HYUNDAI",
          "HYUNDAI",
          "HYUNDAI",
          "HYUNDAI",
          "HYUNDAI",
          "HYUNDAI",
          "HYUNDAI",
          "HYUNDAI",
          "HYUNDAI",
          "INFINITI",
          "INFINITI",
          "INFINITI",
          "JAGUAR",
          "JAGUAR",
          "JAGUAR",
          "JAGUAR",
          "JAGUAR",
          "JAGUAR",
          "JAGUAR",
          "JAGUAR",
          "JAGUAR",
          "JAGUAR",
          "JAGUAR",
          "JAGUAR",
          "JAGUAR",
          "JAGUAR",
          "KIA",
          "KIA",
          "KIA",
          "KIA",
          "KIA",
          "KIA",
          "KIA",
          "KIA",
          "KIA",
          "KIA",
          "KIA",
          "KIA",
          "LAMBORGHINI",
          "LAMBORGHINI",
          "LAND ROVER",
          "LAND ROVER",
          "LAND ROVER",
          "LAND ROVER",
          "LAND ROVER",
          "LEXUS",
          "LEXUS",
          "LEXUS",
          "LEXUS",
          "LEXUS",
          "LEXUS",
          "LEXUS",
          "LEXUS",
          "LEXUS",
          "LEXUS",
          "LEXUS",
          "LEXUS",
          "LEXUS",
          "LEXUS",
          "LONDON TAXI COMPANY",
          "MASERATI",
          "MASERATI",
          "MAZDA",
          "MAZDA",
          "MAZDA",
          "MAZDA",
          "MAZDA",
          "MAZDA",
          "MAZDA",
          "MAZDA",
          "McLaren",
          "McLaren",
          "McLaren",
          "McLaren",
          "McLaren",
          "McLaren",
          "McLaren",
          "McLaren",
          "MERCEDES-BENZ",
          "MERCEDES-BENZ",
          "MERCEDES-BENZ",
          "MERCEDES-BENZ",
          "MERCEDES-BENZ",
          "MERCEDES-BENZ",
          "MERCEDES-BENZ",
          "MERCEDES-BENZ",
          "MERCEDES-BENZ",
          "MERCEDES-BENZ",
          "MERCEDES-BENZ",
          "MERCEDES-BENZ",
          "MERCEDES-BENZ",
          "MERCEDES-BENZ",
          "MERCEDES-BENZ",
          "MERCEDES-BENZ",
          "MERCEDES-BENZ",
          "MERCEDES-BENZ",
          "MERCEDES-BENZ",
          "MERCEDES-BENZ",
          "MERCEDES-BENZ",
          "MERCEDES-BENZ",
          "MERCEDES-BENZ",
          "MERCEDES-BENZ",
          "MERCEDES-BENZ",
          "MERCEDES-BENZ",
          "MERCEDES-BENZ",
          "MERCEDES-BENZ",
          "MERCEDES-BENZ",
          "MERCEDES-BENZ",
          "MERCEDES-BENZ",
          "MERCEDES-BENZ",
          "MINI",
          "MINI",
          "MINI",
          "MINI",
          "MINI",
          "MINI",
          "MINI",
          "MINI",
          "MINI",
          "MITSUBISHI",
          "MITSUBISHI",
          "MITSUBISHI",
          "MITSUBISHI",
          "MITSUBISHI",
          "NISSAN",
          "NISSAN",
          "NISSAN",
          "NISSAN",
          "NISSAN",
          "NISSAN",
          "NISSAN",
          "NISSAN",
          "NISSAN",
          "NISSAN",
          "PEUGEOT",
          "PEUGEOT",
          "PEUGEOT",
          "PEUGEOT",
          "PEUGEOT",
          "PEUGEOT",
          "PEUGEOT",
          "PEUGEOT",
          "PEUGEOT",
          "PEUGEOT",
          "PEUGEOT",
          "PORSCHE",
          "PORSCHE",
          "PORSCHE",
          "PORSCHE",
          "PORSCHE",
          "PORSCHE",
          "PORSCHE",
          "PORSCHE",
          "RENAULT",
          "RENAULT",
          "RENAULT",
          "RENAULT",
          "RENAULT",
          "RENAULT",
          "RENAULT",
          "RENAULT",
          "RENAULT",
          "RENAULT",
          "RENAULT",
          "RENAULT",
          "RENAULT",
          "RENAULT",
          "Rolls Royce",
          "Rolls Royce",
          "Rolls Royce",
          "Rolls Royce",
          "SEAT",
          "SEAT",
          "SEAT",
          "SEAT",
          "SEAT",
          "SEAT",
          "SEAT",
          "SEAT",
          "SEAT",
          "SEAT",
          "SEAT",
          "SKODA",
          "SKODA",
          "SKODA",
          "SKODA",
          "SKODA",
          "SKODA",
          "SKODA",
          "SKODA",
          "SKODA",
          "SKODA",
          "SKODA",
          "SKODA",
          "SMART",
          "SMART",
          "SMART",
          "SSANGYONG",
          "SSANGYONG",
          "SSANGYONG",
          "SSANGYONG",
          "SUBARU",
          "SUBARU",
          "SUBARU",
          "SUBARU",
          "SUBARU",
          "SUZUKI",
          "SUZUKI",
          "SUZUKI",
          "SUZUKI",
          "SUZUKI",
          "TOYOTA",
          "TOYOTA",
          "TOYOTA",
          "TOYOTA",
          "TOYOTA",
          "TOYOTA",
          "TOYOTA",
          "TOYOTA",
          "TOYOTA",
          "TOYOTA",
          "TOYOTA",
          "TOYOTA",
          "TOYOTA",
          "TOYOTA",
          "TOYOTA",
          "VAUXHALL",
          "VAUXHALL",
          "VAUXHALL",
          "VAUXHALL",
          "VAUXHALL",
          "VAUXHALL",
          "VAUXHALL",
          "VAUXHALL",
          "VAUXHALL",
          "VAUXHALL",
          "VAUXHALL",
          "VAUXHALL",
          "VAUXHALL",
          "VAUXHALL",
          "VAUXHALL",
          "VAUXHALL",
          "VAUXHALL",
          "VAUXHALL",
          "VAUXHALL",
          "VAUXHALL",
          "VAUXHALL",
          "VAUXHALL",
          "VAUXHALL",
          "VAUXHALL",
          "VOLKSWAGEN",
          "VOLKSWAGEN",
          "VOLKSWAGEN",
          "VOLKSWAGEN",
          "VOLKSWAGEN",
          "VOLKSWAGEN",
          "VOLKSWAGEN",
          "VOLKSWAGEN",
          "VOLKSWAGEN",
          "VOLKSWAGEN",
          "VOLKSWAGEN",
          "VOLKSWAGEN",
          "VOLKSWAGEN",
          "VOLKSWAGEN",
          "VOLKSWAGEN",
          "VOLKSWAGEN",
          "VOLKSWAGEN",
          "VOLKSWAGEN",
          "VOLKSWAGEN C.V.",
          "VOLKSWAGEN C.V.",
          "VOLKSWAGEN C.V.",
          "VOLKSWAGEN C.V.",
          "VOLKSWAGEN C.V.",
          "VOLKSWAGEN C.V.",
          "VOLKSWAGEN C.V.",
          "VOLKSWAGEN C.V.",
          "VOLKSWAGEN C.V.",
          "VOLKSWAGEN C.V.",
          "VOLKSWAGEN C.V.",
          "VOLKSWAGEN C.V.",
          "VOLKSWAGEN C.V.",
          "VOLKSWAGEN C.V.",
          "VOLKSWAGEN C.V.",
          "VOLKSWAGEN C.V.",
          "VOLVO",
          "VOLVO",
          "VOLVO",
          "VOLVO",
          "VOLVO",
          "VOLVO",
          "VOLVO",
          "VOLVO",
          "VOLVO",
          "VOLVO",
          "VOLVO",
          "VOLVO",
          "VOLVO",
          "VOLVO",
          "VOLVO",
          "",
          "",
          "",
          "",
          "",
          "",
          "",
          "",
          "",
          "",
          "",
          "",
          "",
          "",
          "",
          "",
          "",
          "",
          "",
          "",
          "",
          "",
          "",
          "",
          "",
          "",
          "",
          "",
          "",
          "",
          "",
          "",
          "",
          "",
          "",
          "",
          "",
          "",
          "",
          "",
          "",
          "",
          "",
          ""
         ],
         "type": "sunburst",
         "values": {
          "bdata": "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",
          "dtype": "f8"
         }
        }
       ],
       "layout": {
        "coloraxis": {
         "colorbar": {
          "title": {
           "text": "DECIBELIOS"
          }
         },
         "colorscale": [
          [
           0,
           "#0d0887"
          ],
          [
           0.1111111111111111,
           "#46039f"
          ],
          [
           0.2222222222222222,
           "#7201a8"
          ],
          [
           0.3333333333333333,
           "#9c179e"
          ],
          [
           0.4444444444444444,
           "#bd3786"
          ],
          [
           0.5555555555555556,
           "#d8576b"
          ],
          [
           0.6666666666666666,
           "#ed7953"
          ],
          [
           0.7777777777777778,
           "#fb9f3a"
          ],
          [
           0.8888888888888888,
           "#fdca26"
          ],
          [
           1,
           "#f0f921"
          ]
         ]
        },
        "height": 800,
        "legend": {
         "tracegroupgap": 0
        },
        "template": {
         "data": {
          "bar": [
           {
            "error_x": {
             "color": "#2a3f5f"
            },
            "error_y": {
             "color": "#2a3f5f"
            },
            "marker": {
             "line": {
              "color": "#E5ECF6",
              "width": 0.5
             },
             "pattern": {
              "fillmode": "overlay",
              "size": 10,
              "solidity": 0.2
             }
            },
            "type": "bar"
           }
          ],
          "barpolar": [
           {
            "marker": {
             "line": {
              "color": "#E5ECF6",
              "width": 0.5
             },
             "pattern": {
              "fillmode": "overlay",
              "size": 10,
              "solidity": 0.2
             }
            },
            "type": "barpolar"
           }
          ],
          "carpet": [
           {
            "aaxis": {
             "endlinecolor": "#2a3f5f",
             "gridcolor": "white",
             "linecolor": "white",
             "minorgridcolor": "white",
             "startlinecolor": "#2a3f5f"
            },
            "baxis": {
             "endlinecolor": "#2a3f5f",
             "gridcolor": "white",
             "linecolor": "white",
             "minorgridcolor": "white",
             "startlinecolor": "#2a3f5f"
            },
            "type": "carpet"
           }
          ],
          "choropleth": [
           {
            "colorbar": {
             "outlinewidth": 0,
             "ticks": ""
            },
            "type": "choropleth"
           }
          ],
          "contour": [
           {
            "colorbar": {
             "outlinewidth": 0,
             "ticks": ""
            },
            "colorscale": [
             [
              0,
              "#0d0887"
             ],
             [
              0.1111111111111111,
              "#46039f"
             ],
             [
              0.2222222222222222,
              "#7201a8"
             ],
             [
              0.3333333333333333,
              "#9c179e"
             ],
             [
              0.4444444444444444,
              "#bd3786"
             ],
             [
              0.5555555555555556,
              "#d8576b"
             ],
             [
              0.6666666666666666,
              "#ed7953"
             ],
             [
              0.7777777777777778,
              "#fb9f3a"
             ],
             [
              0.8888888888888888,
              "#fdca26"
             ],
             [
              1,
              "#f0f921"
             ]
            ],
            "type": "contour"
           }
          ],
          "contourcarpet": [
           {
            "colorbar": {
             "outlinewidth": 0,
             "ticks": ""
            },
            "type": "contourcarpet"
           }
          ],
          "heatmap": [
           {
            "colorbar": {
             "outlinewidth": 0,
             "ticks": ""
            },
            "colorscale": [
             [
              0,
              "#0d0887"
             ],
             [
              0.1111111111111111,
              "#46039f"
             ],
             [
              0.2222222222222222,
              "#7201a8"
             ],
             [
              0.3333333333333333,
              "#9c179e"
             ],
             [
              0.4444444444444444,
              "#bd3786"
             ],
             [
              0.5555555555555556,
              "#d8576b"
             ],
             [
              0.6666666666666666,
              "#ed7953"
             ],
             [
              0.7777777777777778,
              "#fb9f3a"
             ],
             [
              0.8888888888888888,
              "#fdca26"
             ],
             [
              1,
              "#f0f921"
             ]
            ],
            "type": "heatmap"
           }
          ],
          "histogram": [
           {
            "marker": {
             "pattern": {
              "fillmode": "overlay",
              "size": 10,
              "solidity": 0.2
             }
            },
            "type": "histogram"
           }
          ],
          "histogram2d": [
           {
            "colorbar": {
             "outlinewidth": 0,
             "ticks": ""
            },
            "colorscale": [
             [
              0,
              "#0d0887"
             ],
             [
              0.1111111111111111,
              "#46039f"
             ],
             [
              0.2222222222222222,
              "#7201a8"
             ],
             [
              0.3333333333333333,
              "#9c179e"
             ],
             [
              0.4444444444444444,
              "#bd3786"
             ],
             [
              0.5555555555555556,
              "#d8576b"
             ],
             [
              0.6666666666666666,
              "#ed7953"
             ],
             [
              0.7777777777777778,
              "#fb9f3a"
             ],
             [
              0.8888888888888888,
              "#fdca26"
             ],
             [
              1,
              "#f0f921"
             ]
            ],
            "type": "histogram2d"
           }
          ],
          "histogram2dcontour": [
           {
            "colorbar": {
             "outlinewidth": 0,
             "ticks": ""
            },
            "colorscale": [
             [
              0,
              "#0d0887"
             ],
             [
              0.1111111111111111,
              "#46039f"
             ],
             [
              0.2222222222222222,
              "#7201a8"
             ],
             [
              0.3333333333333333,
              "#9c179e"
             ],
             [
              0.4444444444444444,
              "#bd3786"
             ],
             [
              0.5555555555555556,
              "#d8576b"
             ],
             [
              0.6666666666666666,
              "#ed7953"
             ],
             [
              0.7777777777777778,
              "#fb9f3a"
             ],
             [
              0.8888888888888888,
              "#fdca26"
             ],
             [
              1,
              "#f0f921"
             ]
            ],
            "type": "histogram2dcontour"
           }
          ],
          "mesh3d": [
           {
            "colorbar": {
             "outlinewidth": 0,
             "ticks": ""
            },
            "type": "mesh3d"
           }
          ],
          "parcoords": [
           {
            "line": {
             "colorbar": {
              "outlinewidth": 0,
              "ticks": ""
             }
            },
            "type": "parcoords"
           }
          ],
          "pie": [
           {
            "automargin": true,
            "type": "pie"
           }
          ],
          "scatter": [
           {
            "fillpattern": {
             "fillmode": "overlay",
             "size": 10,
             "solidity": 0.2
            },
            "type": "scatter"
           }
          ],
          "scatter3d": [
           {
            "line": {
             "colorbar": {
              "outlinewidth": 0,
              "ticks": ""
             }
            },
            "marker": {
             "colorbar": {
              "outlinewidth": 0,
              "ticks": ""
             }
            },
            "type": "scatter3d"
           }
          ],
          "scattercarpet": [
           {
            "marker": {
             "colorbar": {
              "outlinewidth": 0,
              "ticks": ""
             }
            },
            "type": "scattercarpet"
           }
          ],
          "scattergeo": [
           {
            "marker": {
             "colorbar": {
              "outlinewidth": 0,
              "ticks": ""
             }
            },
            "type": "scattergeo"
           }
          ],
          "scattergl": [
           {
            "marker": {
             "colorbar": {
              "outlinewidth": 0,
              "ticks": ""
             }
            },
            "type": "scattergl"
           }
          ],
          "scattermap": [
           {
            "marker": {
             "colorbar": {
              "outlinewidth": 0,
              "ticks": ""
             }
            },
            "type": "scattermap"
           }
          ],
          "scattermapbox": [
           {
            "marker": {
             "colorbar": {
              "outlinewidth": 0,
              "ticks": ""
             }
            },
            "type": "scattermapbox"
           }
          ],
          "scatterpolar": [
           {
            "marker": {
             "colorbar": {
              "outlinewidth": 0,
              "ticks": ""
             }
            },
            "type": "scatterpolar"
           }
          ],
          "scatterpolargl": [
           {
            "marker": {
             "colorbar": {
              "outlinewidth": 0,
              "ticks": ""
             }
            },
            "type": "scatterpolargl"
           }
          ],
          "scatterternary": [
           {
            "marker": {
             "colorbar": {
              "outlinewidth": 0,
              "ticks": ""
             }
            },
            "type": "scatterternary"
           }
          ],
          "surface": [
           {
            "colorbar": {
             "outlinewidth": 0,
             "ticks": ""
            },
            "colorscale": [
             [
              0,
              "#0d0887"
             ],
             [
              0.1111111111111111,
              "#46039f"
             ],
             [
              0.2222222222222222,
              "#7201a8"
             ],
             [
              0.3333333333333333,
              "#9c179e"
             ],
             [
              0.4444444444444444,
              "#bd3786"
             ],
             [
              0.5555555555555556,
              "#d8576b"
             ],
             [
              0.6666666666666666,
              "#ed7953"
             ],
             [
              0.7777777777777778,
              "#fb9f3a"
             ],
             [
              0.8888888888888888,
              "#fdca26"
             ],
             [
              1,
              "#f0f921"
             ]
            ],
            "type": "surface"
           }
          ],
          "table": [
           {
            "cells": {
             "fill": {
              "color": "#EBF0F8"
             },
             "line": {
              "color": "white"
             }
            },
            "header": {
             "fill": {
              "color": "#C8D4E3"
             },
             "line": {
              "color": "white"
             }
            },
            "type": "table"
           }
          ]
         },
         "layout": {
          "annotationdefaults": {
           "arrowcolor": "#2a3f5f",
           "arrowhead": 0,
           "arrowwidth": 1
          },
          "autotypenumbers": "strict",
          "coloraxis": {
           "colorbar": {
            "outlinewidth": 0,
            "ticks": ""
           }
          },
          "colorscale": {
           "diverging": [
            [
             0,
             "#8e0152"
            ],
            [
             0.1,
             "#c51b7d"
            ],
            [
             0.2,
             "#de77ae"
            ],
            [
             0.3,
             "#f1b6da"
            ],
            [
             0.4,
             "#fde0ef"
            ],
            [
             0.5,
             "#f7f7f7"
            ],
            [
             0.6,
             "#e6f5d0"
            ],
            [
             0.7,
             "#b8e186"
            ],
            [
             0.8,
             "#7fbc41"
            ],
            [
             0.9,
             "#4d9221"
            ],
            [
             1,
             "#276419"
            ]
           ],
           "sequential": [
            [
             0,
             "#0d0887"
            ],
            [
             0.1111111111111111,
             "#46039f"
            ],
            [
             0.2222222222222222,
             "#7201a8"
            ],
            [
             0.3333333333333333,
             "#9c179e"
            ],
            [
             0.4444444444444444,
             "#bd3786"
            ],
            [
             0.5555555555555556,
             "#d8576b"
            ],
            [
             0.6666666666666666,
             "#ed7953"
            ],
            [
             0.7777777777777778,
             "#fb9f3a"
            ],
            [
             0.8888888888888888,
             "#fdca26"
            ],
            [
             1,
             "#f0f921"
            ]
           ],
           "sequentialminus": [
            [
             0,
             "#0d0887"
            ],
            [
             0.1111111111111111,
             "#46039f"
            ],
            [
             0.2222222222222222,
             "#7201a8"
            ],
            [
             0.3333333333333333,
             "#9c179e"
            ],
            [
             0.4444444444444444,
             "#bd3786"
            ],
            [
             0.5555555555555556,
             "#d8576b"
            ],
            [
             0.6666666666666666,
             "#ed7953"
            ],
            [
             0.7777777777777778,
             "#fb9f3a"
            ],
            [
             0.8888888888888888,
             "#fdca26"
            ],
            [
             1,
             "#f0f921"
            ]
           ]
          },
          "colorway": [
           "#636efa",
           "#EF553B",
           "#00cc96",
           "#ab63fa",
           "#FFA15A",
           "#19d3f3",
           "#FF6692",
           "#B6E880",
           "#FF97FF",
           "#FECB52"
          ],
          "font": {
           "color": "#2a3f5f"
          },
          "geo": {
           "bgcolor": "white",
           "lakecolor": "white",
           "landcolor": "#E5ECF6",
           "showlakes": true,
           "showland": true,
           "subunitcolor": "white"
          },
          "hoverlabel": {
           "align": "left"
          },
          "hovermode": "closest",
          "mapbox": {
           "style": "light"
          },
          "paper_bgcolor": "white",
          "plot_bgcolor": "#E5ECF6",
          "polar": {
           "angularaxis": {
            "gridcolor": "white",
            "linecolor": "white",
            "ticks": ""
           },
           "bgcolor": "#E5ECF6",
           "radialaxis": {
            "gridcolor": "white",
            "linecolor": "white",
            "ticks": ""
           }
          },
          "scene": {
           "xaxis": {
            "backgroundcolor": "#E5ECF6",
            "gridcolor": "white",
            "gridwidth": 2,
            "linecolor": "white",
            "showbackground": true,
            "ticks": "",
            "zerolinecolor": "white"
           },
           "yaxis": {
            "backgroundcolor": "#E5ECF6",
            "gridcolor": "white",
            "gridwidth": 2,
            "linecolor": "white",
            "showbackground": true,
            "ticks": "",
            "zerolinecolor": "white"
           },
           "zaxis": {
            "backgroundcolor": "#E5ECF6",
            "gridcolor": "white",
            "gridwidth": 2,
            "linecolor": "white",
            "showbackground": true,
            "ticks": "",
            "zerolinecolor": "white"
           }
          },
          "shapedefaults": {
           "line": {
            "color": "#2a3f5f"
           }
          },
          "ternary": {
           "aaxis": {
            "gridcolor": "white",
            "linecolor": "white",
            "ticks": ""
           },
           "baxis": {
            "gridcolor": "white",
            "linecolor": "white",
            "ticks": ""
           },
           "bgcolor": "#E5ECF6",
           "caxis": {
            "gridcolor": "white",
            "linecolor": "white",
            "ticks": ""
           }
          },
          "title": {
           "x": 0.05
          },
          "xaxis": {
           "automargin": true,
           "gridcolor": "white",
           "linecolor": "white",
           "ticks": "",
           "title": {
            "standoff": 15
           },
           "zerolinecolor": "white",
           "zerolinewidth": 2
          },
          "yaxis": {
           "automargin": true,
           "gridcolor": "white",
           "linecolor": "white",
           "ticks": "",
           "title": {
            "standoff": 15
           },
           "zerolinecolor": "white",
           "zerolinewidth": 2
          }
         }
        },
        "title": {
         "text": "CONTAMINACIÓN MEDIOAMBIENTAL - EMISIONES DE CO2 PARA MARCA Y MODELO (G/KM)"
        },
        "width": 800
       }
      }
     },
     "metadata": {},
     "output_type": "display_data"
    }
   ],
   "source": [
    "data = datosCoches\n",
    "\n",
    "fig = px.sunburst(data, #cambiamos el gráfico a sunburst\n",
    "                 title = ('CONTAMINACIÓN MEDIOAMBIENTAL - EMISIONES DE CO2 PARA MARCA Y MODELO (G/KM)'),\n",
    "                 height = 800,\n",
    "                 width = 800,\n",
    "                 path =['Manufacturer','Model'],\n",
    "                 values = 'NoiseLeveldBA',\n",
    "                 color = 'NoiseLeveldBA',\n",
    "                 labels = {'NoiseLeveldBA':'DECIBELIOS'})\n",
    "\n",
    "fig.show() "
   ]
  }
 ],
 "metadata": {
  "kernelspec": {
   "display_name": "Python 3",
   "language": "python",
   "name": "python3"
  },
  "language_info": {
   "codemirror_mode": {
    "name": "ipython",
    "version": 3
   },
   "file_extension": ".py",
   "mimetype": "text/x-python",
   "name": "python",
   "nbconvert_exporter": "python",
   "pygments_lexer": "ipython3",
   "version": "3.12.0"
  }
 },
 "nbformat": 4,
 "nbformat_minor": 5
}
