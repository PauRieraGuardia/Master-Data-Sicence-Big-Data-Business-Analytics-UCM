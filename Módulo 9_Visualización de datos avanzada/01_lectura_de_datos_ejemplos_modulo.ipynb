{
 "cells": [
  {
   "cell_type": "markdown",
   "id": "9a4c93a3",
   "metadata": {},
   "source": [
    "## Lectura de datos"
   ]
  },
  {
   "cell_type": "code",
   "execution_count": 1,
   "id": "9a077815",
   "metadata": {},
   "outputs": [],
   "source": [
    "import pandas as pd\n",
    "import matplotlib.pyplot as plt\n",
    "import seaborn as sns"
   ]
  },
  {
   "cell_type": "markdown",
   "id": "ae07e069",
   "metadata": {},
   "source": [
    "#### 1. Datos vehículos a la venta 2016 en UK\n",
    "\n",
    "Propóstio:\n",
    "\n",
    "* Facilitar la lectura del .csv que contiene los datos de este ejemplo"
   ]
  },
  {
   "cell_type": "markdown",
   "id": "964540e4",
   "metadata": {},
   "source": [
    "##### Carga de datos \n",
    "\n",
    "Este dataset tiene ya 7 años pero sigue válido para nuestro propósito.\n",
    "\n",
    "La principal ventaja es que tiene una variable de grupo (o factor) creada en español (la variable 'Tipo') para facilitar los gtráficos por tipo de vehículo."
   ]
  },
  {
   "cell_type": "code",
   "execution_count": 6,
   "id": "a0b4e6b3",
   "metadata": {},
   "outputs": [],
   "source": [
    "df = pd.read_csv('Datos/vehiculos_UK_2016.csv',sep='|')"
   ]
  },
  {
   "cell_type": "code",
   "execution_count": 9,
   "id": "a2c09f58",
   "metadata": {},
   "outputs": [
    {
     "data": {
      "text/plain": [
       "(4490, 20)"
      ]
     },
     "execution_count": 9,
     "metadata": {},
     "output_type": "execute_result"
    }
   ],
   "source": [
    "df.shape"
   ]
  },
  {
   "cell_type": "code",
   "execution_count": 11,
   "id": "a0107655",
   "metadata": {},
   "outputs": [
    {
     "data": {
      "text/plain": [
       "Manufacturer             object\n",
       "Model                    object\n",
       "EngineCapacity            int64\n",
       "FuelType                 object\n",
       "MetricUrbanCold         float64\n",
       "MetricExtraUrban        float64\n",
       "MetricCombined          float64\n",
       "ImperialUrbanCold       float64\n",
       "ImperialExtraUrban      float64\n",
       "ImperialCombined        float64\n",
       "CO2gkm                    int64\n",
       "FuelCost12000Miles        int64\n",
       "EuroStandard              int64\n",
       "NoiseLeveldBA           float64\n",
       "EmissionsCOmgkm         float64\n",
       "THCEmissionsmgkm        float64\n",
       "EmissionsNOxmgkm        float64\n",
       "THC+NOxEmissionsmgkm    float64\n",
       "ParticulatesNo_mgkm     float64\n",
       "Tipo                     object\n",
       "dtype: object"
      ]
     },
     "execution_count": 11,
     "metadata": {},
     "output_type": "execute_result"
    }
   ],
   "source": [
    "df.dtypes"
   ]
  },
  {
   "cell_type": "code",
   "execution_count": 17,
   "id": "a821d852",
   "metadata": {},
   "outputs": [
    {
     "data": {
      "text/html": [
       "<div>\n",
       "<style scoped>\n",
       "    .dataframe tbody tr th:only-of-type {\n",
       "        vertical-align: middle;\n",
       "    }\n",
       "\n",
       "    .dataframe tbody tr th {\n",
       "        vertical-align: top;\n",
       "    }\n",
       "\n",
       "    .dataframe thead th {\n",
       "        text-align: right;\n",
       "    }\n",
       "</style>\n",
       "<table border=\"1\" class=\"dataframe\">\n",
       "  <thead>\n",
       "    <tr style=\"text-align: right;\">\n",
       "      <th></th>\n",
       "      <th>Manufacturer</th>\n",
       "      <th>Model</th>\n",
       "      <th>EngineCapacity</th>\n",
       "      <th>FuelType</th>\n",
       "      <th>MetricUrbanCold</th>\n",
       "      <th>MetricExtraUrban</th>\n",
       "      <th>MetricCombined</th>\n",
       "      <th>ImperialUrbanCold</th>\n",
       "      <th>ImperialExtraUrban</th>\n",
       "      <th>ImperialCombined</th>\n",
       "      <th>CO2gkm</th>\n",
       "      <th>FuelCost12000Miles</th>\n",
       "      <th>EuroStandard</th>\n",
       "      <th>NoiseLeveldBA</th>\n",
       "      <th>EmissionsCOmgkm</th>\n",
       "      <th>THCEmissionsmgkm</th>\n",
       "      <th>EmissionsNOxmgkm</th>\n",
       "      <th>THC+NOxEmissionsmgkm</th>\n",
       "      <th>ParticulatesNo_mgkm</th>\n",
       "      <th>Tipo</th>\n",
       "    </tr>\n",
       "  </thead>\n",
       "  <tbody>\n",
       "    <tr>\n",
       "      <th>count</th>\n",
       "      <td>4490</td>\n",
       "      <td>4490</td>\n",
       "      <td>4490.000000</td>\n",
       "      <td>4490</td>\n",
       "      <td>4459.000000</td>\n",
       "      <td>4459.000000</td>\n",
       "      <td>4490.000000</td>\n",
       "      <td>4459.000000</td>\n",
       "      <td>4459.000000</td>\n",
       "      <td>4490.000000</td>\n",
       "      <td>4490.000000</td>\n",
       "      <td>4490.000000</td>\n",
       "      <td>4490.0</td>\n",
       "      <td>4490.000000</td>\n",
       "      <td>4490.000000</td>\n",
       "      <td>2230.000000</td>\n",
       "      <td>4490.000000</td>\n",
       "      <td>2289.000000</td>\n",
       "      <td>2293.000000</td>\n",
       "      <td>4490</td>\n",
       "    </tr>\n",
       "    <tr>\n",
       "      <th>unique</th>\n",
       "      <td>44</td>\n",
       "      <td>450</td>\n",
       "      <td>NaN</td>\n",
       "      <td>7</td>\n",
       "      <td>NaN</td>\n",
       "      <td>NaN</td>\n",
       "      <td>NaN</td>\n",
       "      <td>NaN</td>\n",
       "      <td>NaN</td>\n",
       "      <td>NaN</td>\n",
       "      <td>NaN</td>\n",
       "      <td>NaN</td>\n",
       "      <td>NaN</td>\n",
       "      <td>NaN</td>\n",
       "      <td>NaN</td>\n",
       "      <td>NaN</td>\n",
       "      <td>NaN</td>\n",
       "      <td>NaN</td>\n",
       "      <td>NaN</td>\n",
       "      <td>3</td>\n",
       "    </tr>\n",
       "    <tr>\n",
       "      <th>top</th>\n",
       "      <td>BMW</td>\n",
       "      <td>Coupe</td>\n",
       "      <td>NaN</td>\n",
       "      <td>Diesel</td>\n",
       "      <td>NaN</td>\n",
       "      <td>NaN</td>\n",
       "      <td>NaN</td>\n",
       "      <td>NaN</td>\n",
       "      <td>NaN</td>\n",
       "      <td>NaN</td>\n",
       "      <td>NaN</td>\n",
       "      <td>NaN</td>\n",
       "      <td>NaN</td>\n",
       "      <td>NaN</td>\n",
       "      <td>NaN</td>\n",
       "      <td>NaN</td>\n",
       "      <td>NaN</td>\n",
       "      <td>NaN</td>\n",
       "      <td>NaN</td>\n",
       "      <td>Diesel</td>\n",
       "    </tr>\n",
       "    <tr>\n",
       "      <th>freq</th>\n",
       "      <td>607</td>\n",
       "      <td>260</td>\n",
       "      <td>NaN</td>\n",
       "      <td>2274</td>\n",
       "      <td>NaN</td>\n",
       "      <td>NaN</td>\n",
       "      <td>NaN</td>\n",
       "      <td>NaN</td>\n",
       "      <td>NaN</td>\n",
       "      <td>NaN</td>\n",
       "      <td>NaN</td>\n",
       "      <td>NaN</td>\n",
       "      <td>NaN</td>\n",
       "      <td>NaN</td>\n",
       "      <td>NaN</td>\n",
       "      <td>NaN</td>\n",
       "      <td>NaN</td>\n",
       "      <td>NaN</td>\n",
       "      <td>NaN</td>\n",
       "      <td>2274</td>\n",
       "    </tr>\n",
       "    <tr>\n",
       "      <th>mean</th>\n",
       "      <td>NaN</td>\n",
       "      <td>NaN</td>\n",
       "      <td>1991.111804</td>\n",
       "      <td>NaN</td>\n",
       "      <td>6.925252</td>\n",
       "      <td>4.790491</td>\n",
       "      <td>5.549042</td>\n",
       "      <td>45.364230</td>\n",
       "      <td>62.014891</td>\n",
       "      <td>55.120445</td>\n",
       "      <td>135.823163</td>\n",
       "      <td>1086.980401</td>\n",
       "      <td>6.0</td>\n",
       "      <td>71.302249</td>\n",
       "      <td>260.113007</td>\n",
       "      <td>41.636726</td>\n",
       "      <td>37.138886</td>\n",
       "      <td>80.458934</td>\n",
       "      <td>0.300039</td>\n",
       "      <td>NaN</td>\n",
       "    </tr>\n",
       "    <tr>\n",
       "      <th>std</th>\n",
       "      <td>NaN</td>\n",
       "      <td>NaN</td>\n",
       "      <td>828.057573</td>\n",
       "      <td>NaN</td>\n",
       "      <td>2.800404</td>\n",
       "      <td>1.224893</td>\n",
       "      <td>1.794549</td>\n",
       "      <td>12.962089</td>\n",
       "      <td>12.771535</td>\n",
       "      <td>15.869631</td>\n",
       "      <td>39.732306</td>\n",
       "      <td>348.519954</td>\n",
       "      <td>0.0</td>\n",
       "      <td>1.969812</td>\n",
       "      <td>143.096498</td>\n",
       "      <td>14.819350</td>\n",
       "      <td>18.805169</td>\n",
       "      <td>22.962894</td>\n",
       "      <td>0.331194</td>\n",
       "      <td>NaN</td>\n",
       "    </tr>\n",
       "    <tr>\n",
       "      <th>min</th>\n",
       "      <td>NaN</td>\n",
       "      <td>NaN</td>\n",
       "      <td>647.000000</td>\n",
       "      <td>NaN</td>\n",
       "      <td>0.000000</td>\n",
       "      <td>0.000000</td>\n",
       "      <td>0.600000</td>\n",
       "      <td>0.000000</td>\n",
       "      <td>0.000000</td>\n",
       "      <td>17.300000</td>\n",
       "      <td>13.000000</td>\n",
       "      <td>117.000000</td>\n",
       "      <td>6.0</td>\n",
       "      <td>66.000000</td>\n",
       "      <td>10.000000</td>\n",
       "      <td>4.000000</td>\n",
       "      <td>1.000000</td>\n",
       "      <td>19.000000</td>\n",
       "      <td>0.000000</td>\n",
       "      <td>NaN</td>\n",
       "    </tr>\n",
       "    <tr>\n",
       "      <th>25%</th>\n",
       "      <td>NaN</td>\n",
       "      <td>NaN</td>\n",
       "      <td>1499.000000</td>\n",
       "      <td>NaN</td>\n",
       "      <td>5.200000</td>\n",
       "      <td>4.000000</td>\n",
       "      <td>4.400000</td>\n",
       "      <td>36.700000</td>\n",
       "      <td>53.300000</td>\n",
       "      <td>46.300000</td>\n",
       "      <td>112.000000</td>\n",
       "      <td>867.000000</td>\n",
       "      <td>6.0</td>\n",
       "      <td>70.000000</td>\n",
       "      <td>156.000000</td>\n",
       "      <td>33.000000</td>\n",
       "      <td>23.000000</td>\n",
       "      <td>66.000000</td>\n",
       "      <td>0.060000</td>\n",
       "      <td>NaN</td>\n",
       "    </tr>\n",
       "    <tr>\n",
       "      <th>50%</th>\n",
       "      <td>NaN</td>\n",
       "      <td>NaN</td>\n",
       "      <td>1968.000000</td>\n",
       "      <td>NaN</td>\n",
       "      <td>6.100000</td>\n",
       "      <td>4.500000</td>\n",
       "      <td>5.100000</td>\n",
       "      <td>46.300000</td>\n",
       "      <td>62.800000</td>\n",
       "      <td>55.400000</td>\n",
       "      <td>127.000000</td>\n",
       "      <td>999.500000</td>\n",
       "      <td>6.0</td>\n",
       "      <td>71.000000</td>\n",
       "      <td>230.000000</td>\n",
       "      <td>41.000000</td>\n",
       "      <td>36.000000</td>\n",
       "      <td>81.000000</td>\n",
       "      <td>0.180000</td>\n",
       "      <td>NaN</td>\n",
       "    </tr>\n",
       "    <tr>\n",
       "      <th>75%</th>\n",
       "      <td>NaN</td>\n",
       "      <td>NaN</td>\n",
       "      <td>1997.000000</td>\n",
       "      <td>NaN</td>\n",
       "      <td>7.700000</td>\n",
       "      <td>5.300000</td>\n",
       "      <td>6.100000</td>\n",
       "      <td>54.300000</td>\n",
       "      <td>70.600000</td>\n",
       "      <td>64.200000</td>\n",
       "      <td>149.000000</td>\n",
       "      <td>1202.000000</td>\n",
       "      <td>6.0</td>\n",
       "      <td>73.000000</td>\n",
       "      <td>329.000000</td>\n",
       "      <td>49.000000</td>\n",
       "      <td>52.000000</td>\n",
       "      <td>97.000000</td>\n",
       "      <td>0.480000</td>\n",
       "      <td>NaN</td>\n",
       "    </tr>\n",
       "    <tr>\n",
       "      <th>max</th>\n",
       "      <td>NaN</td>\n",
       "      <td>NaN</td>\n",
       "      <td>6752.000000</td>\n",
       "      <td>NaN</td>\n",
       "      <td>25.600000</td>\n",
       "      <td>11.800000</td>\n",
       "      <td>16.300000</td>\n",
       "      <td>97.400000</td>\n",
       "      <td>104.600000</td>\n",
       "      <td>470.800000</td>\n",
       "      <td>380.000000</td>\n",
       "      <td>3185.000000</td>\n",
       "      <td>6.0</td>\n",
       "      <td>76.000000</td>\n",
       "      <td>913.000000</td>\n",
       "      <td>412.000000</td>\n",
       "      <td>169.000000</td>\n",
       "      <td>163.000000</td>\n",
       "      <td>3.050000</td>\n",
       "      <td>NaN</td>\n",
       "    </tr>\n",
       "  </tbody>\n",
       "</table>\n",
       "</div>"
      ],
      "text/plain": [
       "       Manufacturer  Model  EngineCapacity FuelType  MetricUrbanCold  \\\n",
       "count          4490   4490     4490.000000     4490      4459.000000   \n",
       "unique           44    450             NaN        7              NaN   \n",
       "top             BMW  Coupe             NaN   Diesel              NaN   \n",
       "freq            607    260             NaN     2274              NaN   \n",
       "mean            NaN    NaN     1991.111804      NaN         6.925252   \n",
       "std             NaN    NaN      828.057573      NaN         2.800404   \n",
       "min             NaN    NaN      647.000000      NaN         0.000000   \n",
       "25%             NaN    NaN     1499.000000      NaN         5.200000   \n",
       "50%             NaN    NaN     1968.000000      NaN         6.100000   \n",
       "75%             NaN    NaN     1997.000000      NaN         7.700000   \n",
       "max             NaN    NaN     6752.000000      NaN        25.600000   \n",
       "\n",
       "        MetricExtraUrban  MetricCombined  ImperialUrbanCold  \\\n",
       "count        4459.000000     4490.000000        4459.000000   \n",
       "unique               NaN             NaN                NaN   \n",
       "top                  NaN             NaN                NaN   \n",
       "freq                 NaN             NaN                NaN   \n",
       "mean            4.790491        5.549042          45.364230   \n",
       "std             1.224893        1.794549          12.962089   \n",
       "min             0.000000        0.600000           0.000000   \n",
       "25%             4.000000        4.400000          36.700000   \n",
       "50%             4.500000        5.100000          46.300000   \n",
       "75%             5.300000        6.100000          54.300000   \n",
       "max            11.800000       16.300000          97.400000   \n",
       "\n",
       "        ImperialExtraUrban  ImperialCombined       CO2gkm  FuelCost12000Miles  \\\n",
       "count          4459.000000       4490.000000  4490.000000         4490.000000   \n",
       "unique                 NaN               NaN          NaN                 NaN   \n",
       "top                    NaN               NaN          NaN                 NaN   \n",
       "freq                   NaN               NaN          NaN                 NaN   \n",
       "mean             62.014891         55.120445   135.823163         1086.980401   \n",
       "std              12.771535         15.869631    39.732306          348.519954   \n",
       "min               0.000000         17.300000    13.000000          117.000000   \n",
       "25%              53.300000         46.300000   112.000000          867.000000   \n",
       "50%              62.800000         55.400000   127.000000          999.500000   \n",
       "75%              70.600000         64.200000   149.000000         1202.000000   \n",
       "max             104.600000        470.800000   380.000000         3185.000000   \n",
       "\n",
       "        EuroStandard  NoiseLeveldBA  EmissionsCOmgkm  THCEmissionsmgkm  \\\n",
       "count         4490.0    4490.000000      4490.000000       2230.000000   \n",
       "unique           NaN            NaN              NaN               NaN   \n",
       "top              NaN            NaN              NaN               NaN   \n",
       "freq             NaN            NaN              NaN               NaN   \n",
       "mean             6.0      71.302249       260.113007         41.636726   \n",
       "std              0.0       1.969812       143.096498         14.819350   \n",
       "min              6.0      66.000000        10.000000          4.000000   \n",
       "25%              6.0      70.000000       156.000000         33.000000   \n",
       "50%              6.0      71.000000       230.000000         41.000000   \n",
       "75%              6.0      73.000000       329.000000         49.000000   \n",
       "max              6.0      76.000000       913.000000        412.000000   \n",
       "\n",
       "        EmissionsNOxmgkm  THC+NOxEmissionsmgkm  ParticulatesNo_mgkm    Tipo  \n",
       "count        4490.000000           2289.000000          2293.000000    4490  \n",
       "unique               NaN                   NaN                  NaN       3  \n",
       "top                  NaN                   NaN                  NaN  Diesel  \n",
       "freq                 NaN                   NaN                  NaN    2274  \n",
       "mean           37.138886             80.458934             0.300039     NaN  \n",
       "std            18.805169             22.962894             0.331194     NaN  \n",
       "min             1.000000             19.000000             0.000000     NaN  \n",
       "25%            23.000000             66.000000             0.060000     NaN  \n",
       "50%            36.000000             81.000000             0.180000     NaN  \n",
       "75%            52.000000             97.000000             0.480000     NaN  \n",
       "max           169.000000            163.000000             3.050000     NaN  "
      ]
     },
     "execution_count": 17,
     "metadata": {},
     "output_type": "execute_result"
    }
   ],
   "source": [
    "df.describe(include='all') # Si aplicamos include='all' nos mostrará también las variables categoricas"
   ]
  },
  {
   "cell_type": "code",
   "execution_count": 16,
   "id": "ab2c39f6",
   "metadata": {},
   "outputs": [],
   "source": [
    "pd.set_option('display.max_columns',None) # Sirve para mostrar todas las columnas"
   ]
  },
  {
   "cell_type": "code",
   "execution_count": 19,
   "id": "29468bd9",
   "metadata": {},
   "outputs": [
    {
     "name": "stderr",
     "output_type": "stream",
     "text": [
      "C:\\Users\\pauri\\AppData\\Local\\Temp\\ipykernel_16364\\2872968464.py:1: FutureWarning: pandas.value_counts is deprecated and will be removed in a future version. Use pd.Series(obj).value_counts() instead.\n",
      "  count_clases = pd.value_counts(df['FuelType'],sort=True)\n"
     ]
    },
    {
     "data": {
      "text/plain": [
       "Text(0, 0.5, 'Frecuencia')"
      ]
     },
     "execution_count": 19,
     "metadata": {},
     "output_type": "execute_result"
    },
    {
     "data": {
      "image/png": "[encoded data removed]",
      "text/plain": [
       "<Figure size 640x480 with 1 Axes>"
      ]
     },
     "metadata": {},
     "output_type": "display_data"
    }
   ],
   "source": [
    "count_clases = pd.value_counts(df['FuelType'],sort=True)\n",
    "count_clases.plot(kind='bar',rot=0)\n",
    "plt.title('Tipos de vehículos UK 2016')\n",
    "plt.xlabel('Tipo')\n",
    "plt.ylabel('Frecuencia')"
   ]
  },
  {
   "cell_type": "code",
   "execution_count": 22,
   "id": "b41a6956",
   "metadata": {},
   "outputs": [
    {
     "name": "stderr",
     "output_type": "stream",
     "text": [
      "C:\\Users\\pauri\\AppData\\Local\\Temp\\ipykernel_16364\\1825665831.py:1: FutureWarning: pandas.value_counts is deprecated and will be removed in a future version. Use pd.Series(obj).value_counts() instead.\n",
      "  count_clases = pd.value_counts(df['Manufacturer'],sort=True)\n"
     ]
    },
    {
     "data": {
      "text/plain": [
       "Text(0, 0.5, 'Frecuencia')"
      ]
     },
     "execution_count": 22,
     "metadata": {},
     "output_type": "execute_result"
    },
    {
     "data": {
      "image/png": "[encoded data removed]",
      "text/plain": [
       "<Figure size 640x480 with 1 Axes>"
      ]
     },
     "metadata": {},
     "output_type": "display_data"
    }
   ],
   "source": [
    "count_clases = pd.value_counts(df['Manufacturer'],sort=True)\n",
    "count_clases.plot(kind='barh')\n",
    "plt.title('Tipos de vehículos UK 2016')\n",
    "plt.xlabel('Manufacturer')\n",
    "plt.ylabel('Frecuencia')"
   ]
  },
  {
   "cell_type": "code",
   "execution_count": 23,
   "id": "d94f5962",
   "metadata": {},
   "outputs": [
    {
     "data": {
      "image/png": "[encoded data removed]",
      "text/plain": [
       "<Figure size 640x480 with 1 Axes>"
      ]
     },
     "metadata": {},
     "output_type": "display_data"
    }
   ],
   "source": [
    "plt.scatter(df['EngineCapacity'],\n",
    "            df['MetricCombined'])\n",
    "\n",
    "plt.xlabel('Tamaño motor (cm3)')\n",
    "plt.ylabel('Consumo combinado')\n",
    "plt.show()"
   ]
  },
  {
   "cell_type": "code",
   "execution_count": 25,
   "id": "9216ce4c",
   "metadata": {},
   "outputs": [
    {
     "data": {
      "image/png": "[encoded data removed]",
      "text/plain": [
       "<Figure size 640x480 with 1 Axes>"
      ]
     },
     "metadata": {},
     "output_type": "display_data"
    }
   ],
   "source": [
    "plt.scatter(df['EngineCapacity'],\n",
    "            df['CO2gkm'])\n",
    "\n",
    "plt.xlabel('Tamaño motor (cm3)')\n",
    "plt.ylabel('Consumo combinado')\n",
    "plt.show()"
   ]
  },
  {
   "cell_type": "markdown",
   "id": "336a798f",
   "metadata": {},
   "source": [
    "#### Dataset COVID\n",
    "\n",
    "Propóstio:\n",
    "* Leer este dataser desde un repositorio remotor (URL del ISCIII)"
   ]
  },
  {
   "cell_type": "code",
   "execution_count": 28,
   "id": "ce56ed5a",
   "metadata": {},
   "outputs": [],
   "source": [
    "covid = pd.read_csv('Datos/casos_hosp_uci_def_sexo_edad_provres.csv')"
   ]
  },
  {
   "cell_type": "code",
   "execution_count": 29,
   "id": "4443b1c9",
   "metadata": {},
   "outputs": [
    {
     "data": {
      "text/plain": [
       "provincia_iso    object\n",
       "sexo             object\n",
       "grupo_edad       object\n",
       "fecha            object\n",
       "num_casos         int64\n",
       "num_hosp          int64\n",
       "num_uci           int64\n",
       "num_def           int64\n",
       "dtype: object"
      ]
     },
     "execution_count": 29,
     "metadata": {},
     "output_type": "execute_result"
    }
   ],
   "source": [
    "covid.dtypes"
   ]
  },
  {
   "cell_type": "code",
   "execution_count": 30,
   "id": "2b70a4f8",
   "metadata": {},
   "outputs": [
    {
     "data": {
      "text/html": [
       "<div>\n",
       "<style scoped>\n",
       "    .dataframe tbody tr th:only-of-type {\n",
       "        vertical-align: middle;\n",
       "    }\n",
       "\n",
       "    .dataframe tbody tr th {\n",
       "        vertical-align: top;\n",
       "    }\n",
       "\n",
       "    .dataframe thead th {\n",
       "        text-align: right;\n",
       "    }\n",
       "</style>\n",
       "<table border=\"1\" class=\"dataframe\">\n",
       "  <thead>\n",
       "    <tr style=\"text-align: right;\">\n",
       "      <th></th>\n",
       "      <th>provincia_iso</th>\n",
       "      <th>sexo</th>\n",
       "      <th>grupo_edad</th>\n",
       "      <th>fecha</th>\n",
       "      <th>num_casos</th>\n",
       "      <th>num_hosp</th>\n",
       "      <th>num_uci</th>\n",
       "      <th>num_def</th>\n",
       "    </tr>\n",
       "  </thead>\n",
       "  <tbody>\n",
       "    <tr>\n",
       "      <th>0</th>\n",
       "      <td>A</td>\n",
       "      <td>H</td>\n",
       "      <td>0-9</td>\n",
       "      <td>2020-01-01</td>\n",
       "      <td>0</td>\n",
       "      <td>0</td>\n",
       "      <td>0</td>\n",
       "      <td>0</td>\n",
       "    </tr>\n",
       "    <tr>\n",
       "      <th>1</th>\n",
       "      <td>A</td>\n",
       "      <td>H</td>\n",
       "      <td>10-19</td>\n",
       "      <td>2020-01-01</td>\n",
       "      <td>0</td>\n",
       "      <td>0</td>\n",
       "      <td>0</td>\n",
       "      <td>0</td>\n",
       "    </tr>\n",
       "    <tr>\n",
       "      <th>2</th>\n",
       "      <td>A</td>\n",
       "      <td>H</td>\n",
       "      <td>20-29</td>\n",
       "      <td>2020-01-01</td>\n",
       "      <td>0</td>\n",
       "      <td>0</td>\n",
       "      <td>0</td>\n",
       "      <td>0</td>\n",
       "    </tr>\n",
       "    <tr>\n",
       "      <th>3</th>\n",
       "      <td>A</td>\n",
       "      <td>H</td>\n",
       "      <td>30-39</td>\n",
       "      <td>2020-01-01</td>\n",
       "      <td>0</td>\n",
       "      <td>0</td>\n",
       "      <td>0</td>\n",
       "      <td>0</td>\n",
       "    </tr>\n",
       "    <tr>\n",
       "      <th>4</th>\n",
       "      <td>A</td>\n",
       "      <td>H</td>\n",
       "      <td>40-49</td>\n",
       "      <td>2020-01-01</td>\n",
       "      <td>0</td>\n",
       "      <td>0</td>\n",
       "      <td>0</td>\n",
       "      <td>0</td>\n",
       "    </tr>\n",
       "  </tbody>\n",
       "</table>\n",
       "</div>"
      ],
      "text/plain": [
       "  provincia_iso sexo grupo_edad       fecha  num_casos  num_hosp  num_uci  \\\n",
       "0             A    H        0-9  2020-01-01          0         0        0   \n",
       "1             A    H      10-19  2020-01-01          0         0        0   \n",
       "2             A    H      20-29  2020-01-01          0         0        0   \n",
       "3             A    H      30-39  2020-01-01          0         0        0   \n",
       "4             A    H      40-49  2020-01-01          0         0        0   \n",
       "\n",
       "   num_def  \n",
       "0        0  \n",
       "1        0  \n",
       "2        0  \n",
       "3        0  \n",
       "4        0  "
      ]
     },
     "execution_count": 30,
     "metadata": {},
     "output_type": "execute_result"
    }
   ],
   "source": [
    "covid.head()"
   ]
  },
  {
   "cell_type": "code",
   "execution_count": 31,
   "id": "bc16f47f",
   "metadata": {},
   "outputs": [],
   "source": [
    "covid['fecha'] = pd.to_datetime(covid['fecha'],\n",
    "                                format= '%Y-%m-%d')"
   ]
  },
  {
   "cell_type": "code",
   "execution_count": 32,
   "id": "e61d47c7",
   "metadata": {},
   "outputs": [
    {
     "data": {
      "text/plain": [
       "provincia_iso            object\n",
       "sexo                     object\n",
       "grupo_edad               object\n",
       "fecha            datetime64[ns]\n",
       "num_casos                 int64\n",
       "num_hosp                  int64\n",
       "num_uci                   int64\n",
       "num_def                   int64\n",
       "dtype: object"
      ]
     },
     "execution_count": 32,
     "metadata": {},
     "output_type": "execute_result"
    }
   ],
   "source": [
    "covid.dtypes"
   ]
  },
  {
   "cell_type": "code",
   "execution_count": 34,
   "id": "9a45a177",
   "metadata": {},
   "outputs": [
    {
     "data": {
      "text/html": [
       "<div>\n",
       "<style scoped>\n",
       "    .dataframe tbody tr th:only-of-type {\n",
       "        vertical-align: middle;\n",
       "    }\n",
       "\n",
       "    .dataframe tbody tr th {\n",
       "        vertical-align: top;\n",
       "    }\n",
       "\n",
       "    .dataframe thead th {\n",
       "        text-align: right;\n",
       "    }\n",
       "</style>\n",
       "<table border=\"1\" class=\"dataframe\">\n",
       "  <thead>\n",
       "    <tr style=\"text-align: right;\">\n",
       "      <th></th>\n",
       "      <th>provincia_iso</th>\n",
       "      <th>sexo</th>\n",
       "      <th>grupo_edad</th>\n",
       "      <th>fecha</th>\n",
       "      <th>num_casos</th>\n",
       "      <th>num_hosp</th>\n",
       "      <th>num_uci</th>\n",
       "      <th>num_def</th>\n",
       "    </tr>\n",
       "  </thead>\n",
       "  <tbody>\n",
       "    <tr>\n",
       "      <th>count</th>\n",
       "      <td>1274520</td>\n",
       "      <td>1299030</td>\n",
       "      <td>1299030</td>\n",
       "      <td>1299030</td>\n",
       "      <td>1.299030e+06</td>\n",
       "      <td>1.299030e+06</td>\n",
       "      <td>1.299030e+06</td>\n",
       "      <td>1.299030e+06</td>\n",
       "    </tr>\n",
       "    <tr>\n",
       "      <th>unique</th>\n",
       "      <td>52</td>\n",
       "      <td>3</td>\n",
       "      <td>10</td>\n",
       "      <td>NaN</td>\n",
       "      <td>NaN</td>\n",
       "      <td>NaN</td>\n",
       "      <td>NaN</td>\n",
       "      <td>NaN</td>\n",
       "    </tr>\n",
       "    <tr>\n",
       "      <th>top</th>\n",
       "      <td>A</td>\n",
       "      <td>H</td>\n",
       "      <td>0-9</td>\n",
       "      <td>NaN</td>\n",
       "      <td>NaN</td>\n",
       "      <td>NaN</td>\n",
       "      <td>NaN</td>\n",
       "      <td>NaN</td>\n",
       "    </tr>\n",
       "    <tr>\n",
       "      <th>freq</th>\n",
       "      <td>24510</td>\n",
       "      <td>433010</td>\n",
       "      <td>129903</td>\n",
       "      <td>NaN</td>\n",
       "      <td>NaN</td>\n",
       "      <td>NaN</td>\n",
       "      <td>NaN</td>\n",
       "      <td>NaN</td>\n",
       "    </tr>\n",
       "    <tr>\n",
       "      <th>mean</th>\n",
       "      <td>NaN</td>\n",
       "      <td>NaN</td>\n",
       "      <td>NaN</td>\n",
       "      <td>2021-02-12 00:00:00.000000256</td>\n",
       "      <td>8.916302e+00</td>\n",
       "      <td>4.002325e-01</td>\n",
       "      <td>3.814539e-02</td>\n",
       "      <td>7.993349e-02</td>\n",
       "    </tr>\n",
       "    <tr>\n",
       "      <th>min</th>\n",
       "      <td>NaN</td>\n",
       "      <td>NaN</td>\n",
       "      <td>NaN</td>\n",
       "      <td>2020-01-01 00:00:00</td>\n",
       "      <td>0.000000e+00</td>\n",
       "      <td>0.000000e+00</td>\n",
       "      <td>0.000000e+00</td>\n",
       "      <td>0.000000e+00</td>\n",
       "    </tr>\n",
       "    <tr>\n",
       "      <th>25%</th>\n",
       "      <td>NaN</td>\n",
       "      <td>NaN</td>\n",
       "      <td>NaN</td>\n",
       "      <td>2020-07-23 00:00:00</td>\n",
       "      <td>0.000000e+00</td>\n",
       "      <td>0.000000e+00</td>\n",
       "      <td>0.000000e+00</td>\n",
       "      <td>0.000000e+00</td>\n",
       "    </tr>\n",
       "    <tr>\n",
       "      <th>50%</th>\n",
       "      <td>NaN</td>\n",
       "      <td>NaN</td>\n",
       "      <td>NaN</td>\n",
       "      <td>2021-02-12 00:00:00</td>\n",
       "      <td>0.000000e+00</td>\n",
       "      <td>0.000000e+00</td>\n",
       "      <td>0.000000e+00</td>\n",
       "      <td>0.000000e+00</td>\n",
       "    </tr>\n",
       "    <tr>\n",
       "      <th>75%</th>\n",
       "      <td>NaN</td>\n",
       "      <td>NaN</td>\n",
       "      <td>NaN</td>\n",
       "      <td>2021-09-04 00:00:00</td>\n",
       "      <td>4.000000e+00</td>\n",
       "      <td>0.000000e+00</td>\n",
       "      <td>0.000000e+00</td>\n",
       "      <td>0.000000e+00</td>\n",
       "    </tr>\n",
       "    <tr>\n",
       "      <th>max</th>\n",
       "      <td>NaN</td>\n",
       "      <td>NaN</td>\n",
       "      <td>NaN</td>\n",
       "      <td>2022-03-27 00:00:00</td>\n",
       "      <td>3.749000e+03</td>\n",
       "      <td>2.710000e+02</td>\n",
       "      <td>3.500000e+01</td>\n",
       "      <td>1.000000e+02</td>\n",
       "    </tr>\n",
       "    <tr>\n",
       "      <th>std</th>\n",
       "      <td>NaN</td>\n",
       "      <td>NaN</td>\n",
       "      <td>NaN</td>\n",
       "      <td>NaN</td>\n",
       "      <td>5.078917e+01</td>\n",
       "      <td>2.523791e+00</td>\n",
       "      <td>3.111515e-01</td>\n",
       "      <td>8.045517e-01</td>\n",
       "    </tr>\n",
       "  </tbody>\n",
       "</table>\n",
       "</div>"
      ],
      "text/plain": [
       "       provincia_iso     sexo grupo_edad                          fecha  \\\n",
       "count        1274520  1299030    1299030                        1299030   \n",
       "unique            52        3         10                            NaN   \n",
       "top                A        H        0-9                            NaN   \n",
       "freq           24510   433010     129903                            NaN   \n",
       "mean             NaN      NaN        NaN  2021-02-12 00:00:00.000000256   \n",
       "min              NaN      NaN        NaN            2020-01-01 00:00:00   \n",
       "25%              NaN      NaN        NaN            2020-07-23 00:00:00   \n",
       "50%              NaN      NaN        NaN            2021-02-12 00:00:00   \n",
       "75%              NaN      NaN        NaN            2021-09-04 00:00:00   \n",
       "max              NaN      NaN        NaN            2022-03-27 00:00:00   \n",
       "std              NaN      NaN        NaN                            NaN   \n",
       "\n",
       "           num_casos      num_hosp       num_uci       num_def  \n",
       "count   1.299030e+06  1.299030e+06  1.299030e+06  1.299030e+06  \n",
       "unique           NaN           NaN           NaN           NaN  \n",
       "top              NaN           NaN           NaN           NaN  \n",
       "freq             NaN           NaN           NaN           NaN  \n",
       "mean    8.916302e+00  4.002325e-01  3.814539e-02  7.993349e-02  \n",
       "min     0.000000e+00  0.000000e+00  0.000000e+00  0.000000e+00  \n",
       "25%     0.000000e+00  0.000000e+00  0.000000e+00  0.000000e+00  \n",
       "50%     0.000000e+00  0.000000e+00  0.000000e+00  0.000000e+00  \n",
       "75%     4.000000e+00  0.000000e+00  0.000000e+00  0.000000e+00  \n",
       "max     3.749000e+03  2.710000e+02  3.500000e+01  1.000000e+02  \n",
       "std     5.078917e+01  2.523791e+00  3.111515e-01  8.045517e-01  "
      ]
     },
     "execution_count": 34,
     "metadata": {},
     "output_type": "execute_result"
    }
   ],
   "source": [
    "covid.describe(include='all')"
   ]
  },
  {
   "cell_type": "code",
   "execution_count": 35,
   "id": "b38fc435",
   "metadata": {},
   "outputs": [
    {
     "name": "stderr",
     "output_type": "stream",
     "text": [
      "C:\\Users\\pauri\\AppData\\Local\\Temp\\ipykernel_16364\\257569.py:1: FutureWarning: pandas.value_counts is deprecated and will be removed in a future version. Use pd.Series(obj).value_counts() instead.\n",
      "  count_classes = pd.value_counts(covid['grupo_edad'],sort=True)\n"
     ]
    },
    {
     "data": {
      "text/plain": [
       "Text(0, 0.5, 'Frecuencia')"
      ]
     },
     "execution_count": 35,
     "metadata": {},
     "output_type": "execute_result"
    },
    {
     "data": {
      "image/png": "[encoded data removed]",
      "text/plain": [
       "<Figure size 640x480 with 1 Axes>"
      ]
     },
     "metadata": {},
     "output_type": "display_data"
    }
   ],
   "source": [
    "count_classes = pd.value_counts(covid['grupo_edad'],sort=True)\n",
    "count_classes.plot(kind='bar',rot=0)\n",
    "plt.title('Grupos edad en dataset covid')\n",
    "plt.xlabel('Grupo Edad')\n",
    "plt.ylabel('Frecuencia')"
   ]
  },
  {
   "cell_type": "markdown",
   "id": "9cf2dd1f",
   "metadata": {},
   "source": [
    "#### 3. Guardamos los dataframes\n",
    "\n",
    "Propósito:\n",
    "\n",
    "* Guardar (serilalziar) los objetos con sus transformaciones para uso directo en siguientes notebooks."
   ]
  },
  {
   "cell_type": "code",
   "execution_count": 36,
   "id": "549744b3",
   "metadata": {},
   "outputs": [],
   "source": [
    "df.to_pickle('datos_vehiculos_2016_UK.pkl')"
   ]
  },
  {
   "cell_type": "code",
   "execution_count": 37,
   "id": "7d9da7ab",
   "metadata": {},
   "outputs": [],
   "source": [
    "covid.to_pickle('datos_covid.pkl')"
   ]
  }
 ],
 "metadata": {
  "kernelspec": {
   "display_name": "Python 3",
   "language": "python",
   "name": "python3"
  },
  "language_info": {
   "codemirror_mode": {
    "name": "ipython",
    "version": 3
   },
   "file_extension": ".py",
   "mimetype": "text/x-python",
   "name": "python",
   "nbconvert_exporter": "python",
   "pygments_lexer": "ipython3",
   "version": "3.12.0"
  }
 },
 "nbformat": 4,
 "nbformat_minor": 5
}
