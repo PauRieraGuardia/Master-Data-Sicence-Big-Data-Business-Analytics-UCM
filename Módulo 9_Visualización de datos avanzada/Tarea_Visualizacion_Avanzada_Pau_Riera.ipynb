{
 "cells": [
  {
   "cell_type": "markdown",
   "id": "c2659707",
   "metadata": {},
   "source": [
    "## Representación de las tasas de paro en España \n",
    "\n",
    "Vamos a representar las distintas tasas de paro en España desagregadas por Comunidad Autónoma, edad y sexo correspondientes al segundo trimestre de 2025 (el más reciente). Para ello, hemos extraído lainformación de un conjunto de datos del INE (https://www.ine.es/). En segundo lugar, hemos utilizado la base de datos trabajada en clase *(SP_provincias.geojson)* para obtener las geometrías de cada una de las comunidades autónomas."
   ]
  },
  {
   "cell_type": "code",
   "execution_count": null,
   "id": "011d8d26",
   "metadata": {},
   "outputs": [],
   "source": [
    "# Importación de las librerias\n",
    "import pandas as pd\n",
    "import numpy as np\n",
    "import matplotlib.pyplot as plt\n",
    "import seaborn as sns\n",
    "import geopandas as gpd\n",
    "import warnings \n",
    "import plotly.express as px\n",
    "import plotly.graph_objects as go \n",
    "import plotly.io as pio\n",
    "from datetime import date\n",
    "from datetime import datetime\n",
    "import plotnine\n",
    "from plotnine import *\n",
    "from dash import dash, dcc, html\n",
    "import folium\n",
    "import mapclassify"
   ]
  },
  {
   "cell_type": "markdown",
   "id": "cc77a22d",
   "metadata": {},
   "source": [
    "### 1. Tratamiento de los datos\n",
    "\n",
    "Vamos a realizar la importación de los datos y la posible manipulación de estos para poder, posteriormente, dibujar los gráficos, hacer nuestro análisis visual de los datos y extraer conclusiones."
   ]
  },
  {
   "cell_type": "code",
   "execution_count": null,
   "id": "590abdf3",
   "metadata": {},
   "outputs": [],
   "source": [
    "# Importación del csv  tasa_paro\n",
    "dataset = pd.read_csv('tasa_paro.csv', sep=';',encoding='latin-1')"
   ]
  },
  {
   "cell_type": "code",
   "execution_count": null,
   "id": "9a5b53e9",
   "metadata": {},
   "outputs": [],
   "source": [
    "# Primer visatzo al dataset\n",
    "dataset.head()"
   ]
  },
  {
   "cell_type": "code",
   "execution_count": null,
   "id": "6147b105",
   "metadata": {},
   "outputs": [],
   "source": [
    "# Renombramos titulo, pues es demasiado largo\n",
    "dataset.rename(columns={'Comunidades y Ciudades Autónomas':'comunidad_autonoma'}, inplace=True)"
   ]
  },
  {
   "cell_type": "code",
   "execution_count": null,
   "id": "e9976148",
   "metadata": {},
   "outputs": [],
   "source": [
    "# Vemos el tipo de dato de cada uno de \n",
    "dataset.info()"
   ]
  },
  {
   "cell_type": "code",
   "execution_count": null,
   "id": "37388849",
   "metadata": {},
   "outputs": [],
   "source": [
    "# Transformamos el total en número, para poder hacer groupby si lo consideramos necesario, para ello debemos substituir las , por . y los .. por NA (pues se consideran valores nulos)\n",
    "dataset['tasa_paro'] = pd.to_numeric(dataset['Total'].astype(str).str.strip().str.replace(',','.',regex=False).replace('..', pd.NA))"
   ]
  },
  {
   "cell_type": "code",
   "execution_count": null,
   "id": "c66a338f",
   "metadata": {},
   "outputs": [],
   "source": [
    "# Cambiamos a formato fecha la variable periodo ¡¡¡¡¡ SE PUEDE LIMPIAR !!!!!!\n",
    "tmp = dataset['Periodo'].str.extract(r'(?P<year>\\d{4})T(?P<q>[1-4])').astype(int) # capturamos los 4 priemros digisot que coresponden al año y la letra T y un valor del 1-4 que corresponden a los trimestres\n",
    "month = (tmp['q'] - 1) * 3 + 1  # Q1->1, Q2->4, Q3->7, Q4->10 /convertimos el trimestre a mes de inicio del trimestre\n",
    "dataset['Periodo_dt'] = pd.to_datetime(dict(year=tmp['year'], month=month, day=1)) # Crea una fecha real con el primer dia de cada trimestre\n",
    "dataset['Periodo_dt'] = dataset['Periodo_dt'].dt.to_period('Q').astype(str) # lo pasamos a trimestre pero formato date"
   ]
  },
  {
   "cell_type": "code",
   "execution_count": null,
   "id": "15482524",
   "metadata": {},
   "outputs": [],
   "source": [
    "dataset.info()"
   ]
  },
  {
   "cell_type": "code",
   "execution_count": null,
   "id": "5053575f",
   "metadata": {},
   "outputs": [],
   "source": [
    "dataset.head()"
   ]
  },
  {
   "cell_type": "code",
   "execution_count": null,
   "id": "6e87c52b",
   "metadata": {},
   "outputs": [],
   "source": [
    "# Ahora debemos eliminar las variables total y periodo, pues no las necesitamos para nada\n",
    "dataset.drop(['Periodo','Total'],axis=1,inplace=True)"
   ]
  },
  {
   "cell_type": "markdown",
   "id": "37d9a452",
   "metadata": {},
   "source": [
    "Ahora, puesto que necesitamos la *geometry* (coordenadas) de cada comunidad autónoma para poder dibujar un mapa de la peninsula ibérica, importamos los datos usados en clase *SP_provincias.geojson* para tratar de hacer un merge con el conjunto de datos principal. \n"
   ]
  },
  {
   "cell_type": "code",
   "execution_count": null,
   "id": "fabd4be7",
   "metadata": {},
   "outputs": [],
   "source": [
    "# Importación del archivo geojson\n",
    "geo_prv= r'SP_provincias.geojson'\n",
    "gdf = gpd.read_file(geo_prv)"
   ]
  },
  {
   "cell_type": "code",
   "execution_count": null,
   "id": "dc0255e0",
   "metadata": {},
   "outputs": [],
   "source": [
    "gdf.head()"
   ]
  },
  {
   "cell_type": "code",
   "execution_count": null,
   "id": "32321e68",
   "metadata": {},
   "outputs": [],
   "source": [
    "# Dropeamos las variabels CCC_2 y NAT2018, pues no las necesitamos. \n",
    "gdf.drop(['CC_2','NAT2018'],axis=1,inplace=True)\n"
   ]
  },
  {
   "cell_type": "code",
   "execution_count": null,
   "id": "94cea677",
   "metadata": {},
   "outputs": [],
   "source": [
    "# con la función dissolve(), para cada comunidad, tomamos todos los polígonos provinciales y los fusionamos en una única geometría  \n",
    "gdf_ccaa = gdf.dissolve(by='NAME_1',  as_index=False)\n",
    "\n",
    "# seguidamente podemos dropear la columna name_2\n",
    "gdf_ccaa.drop(['NAME_2'],axis=1,inplace=True)"
   ]
  },
  {
   "cell_type": "code",
   "execution_count": null,
   "id": "af279e98",
   "metadata": {},
   "outputs": [],
   "source": [
    "gdf_ccaa"
   ]
  },
  {
   "cell_type": "markdown",
   "id": "d2ddf481",
   "metadata": {},
   "source": [
    "Ahora, lo que debemos hacer es unir ambos dataframes por la columna “comunidad autónoma”. Para ello, debemos asegurarnos de que ambas columnas tienen el mismo nombre y formato (acentos, mayúsculas/minúsculas, guiones, etc.)."
   ]
  },
  {
   "cell_type": "code",
   "execution_count": null,
   "id": "44807a9b",
   "metadata": {},
   "outputs": [],
   "source": [
    " # Debemos modificar los titulso de las comunidades autonomas\n",
    "dataset['comunidad_autonoma'].value_counts()"
   ]
  },
  {
   "cell_type": "code",
   "execution_count": null,
   "id": "aa75b59f",
   "metadata": {},
   "outputs": [],
   "source": [
    "# Eliminamos los códigos de cada comunidad autonoma \n",
    "dataset['ccaa'] = (dataset['comunidad_autonoma']\n",
    "                   .astype(str)\n",
    "                   .str.replace(r'^\\d{1,2}\\s+', '', regex=True)\n",
    "                   .str.strip())"
   ]
  },
  {
   "cell_type": "code",
   "execution_count": null,
   "id": "5ec34f81",
   "metadata": {},
   "outputs": [],
   "source": [
    "# Creamos un diccionario con los reemplazos para adaptarlo correctamente a la tabla gdf_ccaa\n",
    "reemplazos = {\n",
    "    'Rioja, La': 'La Rioja',\n",
    "    'Navarra, Comunidad Foral de': 'Comunidad Foral de Navarra',\n",
    "    'Madrid, Comunidad de': 'Comunidad de Madrid',\n",
    "    'Murcia, Región de': 'Región de Murcia',\n",
    "    'Balears, Illes': 'Islas Baleares',\n",
    "    'Illes Balears': 'Islas Baleares',\n",
    "    'Valenciana, Comunidad': 'Comunidad Valenciana',\n",
    "    'Comunitat Valenciana': 'Comunidad Valenciana',\n",
    "    'Catalunya': 'Cataluña',\n",
    "    'Asturias, Principado de': 'Principado de Asturias',\n",
    "    'Canarias' : 'Islas Canarias',\n",
    "    'Castilla - La Mancha' : 'Castilla-La Mancha'\n",
    "    \n",
    "}\n",
    "dataset['ccaa'] = dataset['ccaa'].replace(reemplazos) # reemplazamos en la tabal dataset\n",
    "dataset = dataset[dataset['ccaa'] != 'Total Nacional']  # Eliminamos total Nacional, pues no lo usaremos"
   ]
  },
  {
   "cell_type": "code",
   "execution_count": null,
   "id": "3eee5d69",
   "metadata": {},
   "outputs": [],
   "source": [
    "dataset.drop(['comunidad_autonoma'],axis=1,inplace=True)"
   ]
  },
  {
   "cell_type": "code",
   "execution_count": null,
   "id": "64dc2db5",
   "metadata": {},
   "outputs": [],
   "source": [
    "gdf_ccaa.rename(columns = {'NAME_1' : 'ccaa'},inplace=True)"
   ]
  },
  {
   "cell_type": "code",
   "execution_count": null,
   "id": "b557949a",
   "metadata": {},
   "outputs": [],
   "source": [
    "# Hacemos el merge entre los dos datasets\n",
    "data = dataset.merge(gdf_ccaa,\n",
    "                     how='left',\n",
    "                     left_on = 'ccaa',\n",
    "                     right_on  = 'ccaa',\n",
    "                     suffixes= ['_x','_y'])"
   ]
  },
  {
   "cell_type": "code",
   "execution_count": null,
   "id": "4e4737b3",
   "metadata": {},
   "outputs": [],
   "source": [
    "# Puesto que no disponemos ni de ceuta ni de melilla, vamos a eliminarlos\n",
    "data = data[data['ccaa'] != 'Melilla']\n",
    "data = data[data['ccaa'] != 'Ceuta']\n",
    "data"
   ]
  },
  {
   "cell_type": "markdown",
   "id": "7b2266e2",
   "metadata": {},
   "source": [
    "### Gráfico 1: Paro por sexo en un mapa de España segundo trimestre 2025 \n",
    "\n",
    "Vamos a dibujar un mapa interactivo de España que muestre, mediante una escala de color (coropleta), las tasas de paro por comunidad autónoma, con un desplegable para filtrar por sexo. A partir de ahí, podremos analizar el paro por sexo y por comunidad autónoma y comprobar si existen brechas entre comunidades y entre sexos."
   ]
  },
  {
   "cell_type": "code",
   "execution_count": null,
   "id": "b4eff29f",
   "metadata": {},
   "outputs": [],
   "source": [
    "# Primero debemos filtrar para el segundo trimestre de 2025\n",
    "\n",
    "data_2025_Q2_sexo = data[(data['Periodo_dt'] == '2025Q2') & (data['Edad'] == 'Total')]\n"
   ]
  },
  {
   "cell_type": "code",
   "execution_count": null,
   "id": "fe9ecf8e",
   "metadata": {},
   "outputs": [],
   "source": [
    "data_2025_Q2_sexo.head()"
   ]
  },
  {
   "cell_type": "code",
   "execution_count": null,
   "id": "cf0c0e05",
   "metadata": {},
   "outputs": [],
   "source": [
    "# Para ello es necesario pasarlo a geoDataFarme\n",
    "data_geo_sexo = gpd.GeoDataFrame(data_2025_Q2_sexo,geometry=data_2025_Q2_sexo['geometry'])"
   ]
  },
  {
   "cell_type": "code",
   "execution_count": null,
   "id": "f9cf9b5c",
   "metadata": {},
   "outputs": [],
   "source": [
    "# Escala común de colores para que no cambie al cambiar de sexo\n",
    "vmin, vmax = data_geo_sexo['tasa_paro'].min(), data_geo_sexo['tasa_paro'].max()\n",
    "\n",
    "# 1) Capa base: “Ambos sexos” (crea el mapa)\n",
    "m = data_geo_sexo[data_geo_sexo['Sexo'] == 'Ambos sexos'].explore(\n",
    "    column='tasa_paro',\n",
    "    scheme='EqualInterval',\n",
    "    k=7,\n",
    "    legend=True,\n",
    "    legend_kwds=dict(colorbar=True, caption='Tasa de paro (%)'),\n",
    "    name='Ambos sexos',\n",
    "    tooltip=['ccaa','tasa_paro'],\n",
    "    cmap='Oranges',\n",
    "    vmin=vmin, vmax=vmax,\n",
    "    tiles='CartoDB positron',\n",
    "    zoom_start=5,          # tamaño de vista (no es el tamaño del lienzo)\n",
    "    highlight=False,\n",
    "    style_kwds=dict(weight=0.3, fillOpacity=0.7)\n",
    ")\n",
    "\n",
    "# 2) Añade capa “Hombres”\n",
    "data_geo_sexo[data_geo_sexo['Sexo'] == 'Hombres'].explore(\n",
    "    m=m,\n",
    "    column='tasa_paro',\n",
    "    scheme='EqualInterval', k=7,\n",
    "    legend=False,\n",
    "    name='Hombres',\n",
    "    tooltip=['ccaa','tasa_paro'],\n",
    "    cmap='Oranges',\n",
    "    vmin=vmin, vmax=vmax,\n",
    "    highlight=False,\n",
    "    style_kwds=dict(weight=0.3, fillOpacity=0.7)\n",
    ")\n",
    "\n",
    "# 3) Añade capa “Mujeres”\n",
    "data_geo_sexo[data_geo_sexo['Sexo'] == 'Mujeres'].explore(\n",
    "    m=m,\n",
    "    column='tasa_paro',\n",
    "    scheme='EqualInterval', k=7,\n",
    "    legend=False,\n",
    "    name='Mujeres',\n",
    "    tooltip=['ccaa','tasa_paro'],\n",
    "    cmap='Oranges',\n",
    "    vmin=vmin, vmax=vmax,\n",
    "    highlight=False,\n",
    "    style_kwds=dict(weight=0.3, fillOpacity=0.7)\n",
    ")\n",
    "\n",
    "# Control de capas (el \"filtro\")\n",
    "folium.LayerControl(collapsed=False).add_to(m)\n",
    "\n",
    "m"
   ]
  },
  {
   "cell_type": "markdown",
   "id": "309447c4",
   "metadata": {},
   "source": [
    "#### Conclusiones\n",
    "\n",
    "Para analizar el mapa de España según la tasa de paro por comunidad autónoma, comenzaremos examinando el conjunto de ambos sexos (total) y, posteriormente, realizaremos el análisis desagregado por sexo.\n",
    "\n",
    "Al observar el total, se aprecia que las mayores tasas de desempleo se concentran en el sur, en las comunidades autónomas de Extremadura (15,48%) y Andalucía (14,85%), así como en Canarias (13,33%). Por el contrario, las comunidades con menores tasas se sitúan principalmente en el norte peninsular —Cantabria (7,13%), País Vasco (7,13%) y Aragón (7,64%), entre otras—, además de la Comunidad de Madrid (7,74%). Este patrón puede relacionarse con diferencias históricas en el tejido productivo y la estructura del mercado laboral: el norte ha estado tradicionalmente más conectado e industrializado, mientras que el sur ha presentado mayores dificultades en la creación de empleo.\n",
    "\n",
    "Resulta especialmente relevante el comportamiento de la Comunidad de Madrid (7,74%): pese a su peso demográfico y económico y a su papel como capital, se sitúa entre las regiones con menor tasa de desempleo. Esto sugiere un mercado laboral más dinámico y diversificado (fuerte sector terciario y mayor capacidad de absorción de empleo cualificado).\n",
    "\n",
    "Asimismo, conviene subrayar la presencia de Cantabria (7,13%) entre los valores más bajos del país. Su posición refuerza el patrón norteño de menores tasas y la distingue, a pesar de su menor tamaño, por una evolución del mercado laboral relativamente favorable frente a la media nacional\n",
    "\n",
    "*Hombres*\n",
    "\n",
    "Al analizar las tasas de desempleo masculinas aparece un patrón algo distinto al del total. Destaca el aumento relativo en las comunidades del norte —Galicia (8,65%), Asturias (8,30%) y País Vasco (8,26%)— frente al resto. Aun así, Extremadura (12,34%) y Andalucía (12,85%) continúan entre las tasas más elevadas.\n",
    "\n",
    "*Mujeres*\n",
    "\n",
    "Resalta la baja tasa femenina en el País Vasco (5,94%) y el ligero aumento en la Comunidad de Madrid (8,19%). En el extremo alto vuelven a aparecer Andalucía (17,17%) y Extremadura (19,01%)\n",
    "\n",
    "\n",
    "*Conclusiones finales*\n",
    "\n",
    "En prácticamente todas las comunidades autónomas, la tasa de paro femenina supera a la masculina, con diferencias más acusadas en el sur. Este patrón puede explicarse por la segmentación ocupacional (mayor peso femenino en actividades con más temporalidad y rotación) y por barreras de conciliación que dificultan la continuidad laboral. En contraste, el País Vasco presenta una brecha inversa (paro femenino inferior al masculino), coherente con una mayor inserción femenina en sectores estables (sanidad, educación, servicios avanzados) y una mayor exposición masculina a ramas cíclicas como la industria y la construcción."
   ]
  },
  {
   "cell_type": "markdown",
   "id": "9bb9546a",
   "metadata": {},
   "source": [
    "### Gráfico 2: Paro por edad en un mapa de España segundo trimestre 2025 \n",
    "\n",
    "Vamos a dibujar un mapa interactivo de España que muestre, mediante una escala de color (coropleta), las tasas de paro por comunidad autónoma, con un desplegable para filtrar por franja etaria. A partir de ahí, podremos analizar el paro por franja etaria y comunidad autónoma y observar las brechas existentes entre estas variables."
   ]
  },
  {
   "cell_type": "code",
   "execution_count": null,
   "id": "8fe04b55",
   "metadata": {},
   "outputs": [],
   "source": [
    "# Creamos la base de datos para mostrar el mapa del segundo trimestre de 2025 por edad, cogiendo un solo sexo y eliminando el total en edad\n",
    "data_2025_Q2_edad = data[(data['Periodo_dt'] == '2025Q2') & (data['Sexo'] == 'Ambos sexos')]\n"
   ]
  },
  {
   "cell_type": "code",
   "execution_count": null,
   "id": "4bfe3d63",
   "metadata": {},
   "outputs": [],
   "source": [
    "data_2025_Q2_edad.head()"
   ]
  },
  {
   "cell_type": "code",
   "execution_count": null,
   "id": "f9c2bca0",
   "metadata": {},
   "outputs": [],
   "source": [
    "# Para ello es necesario pasarlo a geoDataFarme\n",
    "data_geo_edad = gpd.GeoDataFrame(data_2025_Q2_edad,geometry=data_2025_Q2_edad['geometry'])"
   ]
  },
  {
   "cell_type": "code",
   "execution_count": null,
   "id": "17c0fde4",
   "metadata": {},
   "outputs": [],
   "source": [
    "data_geo_edad['Edad'].value_counts()"
   ]
  },
  {
   "cell_type": "code",
   "execution_count": null,
   "id": "f9deb7e6",
   "metadata": {},
   "outputs": [],
   "source": [
    "# Escala común de colores para que no cambie al cambiar de sexo\n",
    "vmin, vmax = data_geo_edad['tasa_paro'].min(), data_geo_edad['tasa_paro'].max()\n",
    "\n",
    "# 1) Capa base: “Total” (crea el mapa)\n",
    "m = data_geo_edad[data_geo_edad['Edad'] == 'Total'].explore(\n",
    "    column='tasa_paro',\n",
    "    scheme='EqualInterval',\n",
    "    k=7,\n",
    "    legend=True,\n",
    "    legend_kwds=dict(colorbar=True, caption='Tasa de paro (%)'),\n",
    "    name='Total',\n",
    "    tooltip=['ccaa','tasa_paro'],\n",
    "    cmap='Blues',\n",
    "    vmin=vmin, vmax=vmax,\n",
    "    tiles='CartoDB positron',\n",
    "    zoom_start=5,          # tamaño de vista (no es el tamaño del lienzo)\n",
    "    highlight=False,\n",
    "    style_kwds=dict(weight=0.3, fillOpacity=0.7)\n",
    ")\n",
    "\n",
    "# 2) Añade capa 'De 16 a 19 años'\n",
    "data_geo_edad[data_geo_edad['Edad'] == 'De 16 a 19 años'].explore(\n",
    "    m=m,\n",
    "    column='tasa_paro',\n",
    "    scheme='EqualInterval', k=7,\n",
    "    legend=False,\n",
    "    name='De 16 a 19 años',\n",
    "    tooltip=['ccaa','tasa_paro'],\n",
    "    cmap='Blues',\n",
    "    vmin=vmin, vmax=vmax,\n",
    "    highlight=False,\n",
    "    style_kwds=dict(weight=0.3, fillOpacity=0.7)\n",
    ")\n",
    "\n",
    "# 3) Añade capa 'De 20 a 24 años'\n",
    "data_geo_edad[data_geo_edad['Edad'] == 'De 20 a 24 años'].explore(\n",
    "    m=m,\n",
    "    column='tasa_paro',\n",
    "    scheme='EqualInterval', k=7,\n",
    "    legend=False,\n",
    "    name='De 20 a 24 años',\n",
    "    tooltip=['ccaa','tasa_paro'],\n",
    "    cmap='Blues',\n",
    "    vmin=vmin, vmax=vmax,\n",
    "    highlight=False,\n",
    "    style_kwds=dict(weight=0.3, fillOpacity=0.7)\n",
    ")\n",
    "\n",
    "# 4) Añade capa 'De 25 a 54 años'\n",
    "data_geo_edad[data_geo_edad['Edad'] == 'De 25 a 54 años'].explore(\n",
    "    m=m,\n",
    "    column='tasa_paro',\n",
    "    scheme='EqualInterval', k=7,\n",
    "    legend=False,\n",
    "    name='De 25 a 54 años',\n",
    "    tooltip=['ccaa','tasa_paro'],\n",
    "    cmap='Blues',\n",
    "    vmin=vmin, vmax=vmax,\n",
    "    highlight=False,\n",
    "    style_kwds=dict(weight=0.3, fillOpacity=0.7)\n",
    ")\n",
    "\n",
    "# 5) Añade capa 'De 55 y más años'\n",
    "data_geo_edad[data_geo_edad['Edad'] == 'De 55 y más años'].explore(\n",
    "    m=m,\n",
    "    column='tasa_paro',\n",
    "    scheme='EqualInterval', k=7,\n",
    "    legend=False,\n",
    "    name='De 55 y más años',\n",
    "    tooltip=['ccaa','tasa_paro'],\n",
    "    cmap='Blues',\n",
    "    vmin=vmin, vmax=vmax,\n",
    "    highlight=False,\n",
    "    style_kwds=dict(weight=0.3, fillOpacity=0.7)\n",
    ")\n",
    "\n",
    "\n",
    "# Control de capas (el \"filtro\")\n",
    "folium.LayerControl(collapsed=False).add_to(m)\n",
    "\n",
    "m"
   ]
  },
  {
   "cell_type": "markdown",
   "id": "88512d4d",
   "metadata": {},
   "source": [
    "#### Conclusiones\n",
    "\n",
    "Puesto que en el anterior gráfico ya hemos analizado las tasas de paro por comunidad autonoma en su conjunto (ambos sexos), en estas conclusiones pasaremos a analizar las tasas de paro directemente por franja etaria.\n",
    "\n",
    "*De 16 a 19 años*\n",
    "\n",
    "Si hablamos de las personas de entre 16 y 19 años —es decir, los más jóvenes en edad de trabajar—, sorprende la concentración de tasas de paro elevadas en las comunidades autónomas del norte; destacan el Principado de Asturias (66,64 %), la Comunidad Foral de Navarra (59,84 %) y Galicia (47,95 %). En lo que respecta a las tasas más bajas, se sitúan la Comunidad de Madrid (25,95 %), Castilla-La Mancha (34,54 %) y Castilla y León (35,96 %). En general, esta franja etaria registra tasas de paro bastante elevadas, en torno al 45 %. Al contrario que en las demás franjas de edad, podría interpretarse de forma positiva una tasa elevada, pues implicaría que los jóvenes de estas edades están mayoritariamente en formación y, por tanto, se contará con una juventud más cualificada.\n",
    "\n",
    "*De 20 a 24 años*\n",
    "\n",
    "En lo que respecta a las personas de entre 20 y 24 años, el patrón se asemeja más al del conjunto del desempleo total. Las tasas elevadas del norte se reducen notablemente y se concentran en comunidades del sur, en particular Andalucía (30,31%), Extremadura (36,87%) y Canarias (31,14%). Las menores tasas se registran en Cataluña (13,97 %), la Comunidad Foral de Navarra (14,08%) y la Comunidad de Madrid (15,51%). En el norte, se mantiene una tasa de paro alta en el Principado de Asturias (22,43%), si bien también se observa un descenso muy significativo respecto al grupo más joven. En estas edades predominan las primeras inserciones laborales; de ahí que las tasas converjan hacia los niveles globales y sean más bajas en aquellas comunidades autónomas con mayor actividad económica. Aún así, este grupo se mantiene en tasas elevadas en comparación con el total.\n",
    "\n",
    "*De 25 a 54 años*\n",
    "\n",
    "En cuanto a la franja etaria del grueso de la población activa, la distribución de las tasas de desempleo por comunidades autónomas se aproxima a la del conjunto de España. Las tasas más altas se concentran en el sur, destacando, una vez más, Andalucía (13,27 %), Extremadura (13,67 %) y Canarias (11,58 %). Destaca también el aumento del peso de Castilla-La Mancha (11,48 %) en el total, un factor poco relevante hasta ahora. En lo que respecta a las tasas más bajas, se sitúan en el norte y centro peninsular, con la Comunidad de Madrid (6,37 %) y el País Vasco (6,04 %) como referencias. En conjunto, las tasas de esta franja etaria son mucho más bajas que en las dos primeras, pues la mayoría ya ha finalizado sus estudios y acumula experiencia laboral, lo que facilita encontrar trabajo.\n",
    "\n",
    "*De 55 y más años*\n",
    "\n",
    "En relación con la franja etaria de las personas de mayor edad, destaca Castilla-La Mancha (14,76 %) con la mayor tasa de desempleo. Le siguen Extremadura (14,24 %), Andalucía (14,02 %) y Canarias (12,59 %). Otro aspecto reseñable es la situación de la Comunidad Valenciana (11,91 %) entre las más elevadas; probablemente se deba a una mayor proporción de población de edad avanzada respecto a otras comunidades. Entre las tasas más bajas destacan Aragón (4,74 %), la Comunidad Foral de Navarra (5,66 %) y Cataluña (5,68 %).\n",
    "\n",
    "*Conclusiones finales*\n",
    "\n",
    "En conjunto, los resultados muestran un claro gradiente por edad: las tasas son muy elevadas en 16–19 años, descienden de forma apreciable en 20–24 con las primeras inserciones laborales, alcanzan mínimos en 25–54 y vuelven a repuntar en 55 y más. Geográficamente, el patrón también se desplaza con la edad: en la juventud temprana los máximos se concentran en el norte (Asturias, Navarra, Galicia), mientras que a partir de 20–24 la mayor incidencia se desplaza al sur (Andalucía, Extremadura, Canarias) y se consolida en la edad central. De manera consistente, la Comunidad de Madrid y el País Vasco se mantienen entre las tasas más bajas, en tanto que Castilla-La Mancha gana peso en 25–54 y lidera en 55 y más; asimismo, la Comunidad Valenciana registra valores elevados en el tramo de mayor edad. Este comportamiento es coherente con la transición educativa-laboral en los más jóvenes, con factores estructurales del tejido productivo en la población central y con necesidades de recualificación en los mayores.\n"
   ]
  },
  {
   "cell_type": "markdown",
   "id": "4c731d4f",
   "metadata": {},
   "source": [
    "### 3. Grafico 3: Treemap tasa paro por edad, para analizar paro juvenil segundo trimestre 2025 "
   ]
  },
  {
   "cell_type": "code",
   "execution_count": null,
   "id": "3b5de3e2",
   "metadata": {},
   "outputs": [],
   "source": [
    "data_treemap = data[(data['Periodo_dt'] == '2025Q2') & (data['Sexo'] != 'Ambos sexos') ]\n"
   ]
  },
  {
   "cell_type": "code",
   "execution_count": null,
   "id": "1b15a513",
   "metadata": {},
   "outputs": [],
   "source": [
    "data_treemap"
   ]
  },
  {
   "cell_type": "code",
   "execution_count": null,
   "id": "2d818966",
   "metadata": {},
   "outputs": [],
   "source": [
    "fig = px.treemap(data_treemap,\n",
    "                 title = ('TASA DE PARO POR COMUNIDAD AUTONOMA'),\n",
    "                 height = 550,\n",
    "                 width = 950,\n",
    "                 path =['ccaa','Edad','Sexo'],\n",
    "                 values = 'tasa_paro',\n",
    "                 color = 'tasa_paro',\n",
    "                 labels = {'tasa_paro':'tasa_paro'})\n",
    "\n",
    "fig.show() "
   ]
  },
  {
   "cell_type": "markdown",
   "id": "1bee1dda",
   "metadata": {},
   "source": [
    "#### Conclusiones Finales\n",
    "\n",
    "El treemap por CCAA, Edad y Sexo confirma que la edad es el factor que más condiciona el desempleo y, sobre ese patrón, se mantiene una brecha de género persistente. El tramo 16–19 años registra las tasas más altas en ambos sexos (en torno al 40%) y es el único en el que los hombres superan levemente a las mujeres. A partir de 20–24 años la tasa desciende pero continúa elevada y se abre con claridad la desigualdad por sexo, con mujeres por encima de hombres. En la franja 25–54 los valores convergen hacia el promedio nacional, aunque la brecha entre sexos se mantiene pero de forma más reducida. En 55 y más años se observa un ligero repunte de la tasa y vuelve a ampliarse la diferencia, de nuevo con mujeres por encima. \n",
    "\n",
    "En conjunto, el gráfico refuerza dos ideas: la crítica vulnerabilidad juvenil (16–24) y una brecha de género sostenida a partir de los 20 años, con picos al inicio y al final de la vida laboral."
   ]
  }
 ],
 "metadata": {
  "kernelspec": {
   "display_name": "Python 3",
   "language": "python",
   "name": "python3"
  },
  "language_info": {
   "codemirror_mode": {
    "name": "ipython",
    "version": 3
   },
   "file_extension": ".py",
   "mimetype": "text/x-python",
   "name": "python",
   "nbconvert_exporter": "python",
   "pygments_lexer": "ipython3",
   "version": "3.12.0"
  }
 },
 "nbformat": 4,
 "nbformat_minor": 5
}
