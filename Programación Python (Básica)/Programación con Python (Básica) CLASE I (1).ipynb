{
 "cells": [
  {
   "cell_type": "markdown",
   "id": "06fe9d11-6a02-4dd0-ba4f-84e13420bc3e",
   "metadata": {},
   "source": [
    "### Programación con Python (básica) CLASE I"
   ]
  },
  {
   "cell_type": "markdown",
   "id": "0857f54f-830e-4c02-b598-54639542055a",
   "metadata": {},
   "source": [
    "#### Ejercicio 1"
   ]
  },
  {
   "cell_type": "code",
   "execution_count": 17,
   "id": "c0cdf4d6-8820-4199-b735-f86de080e12a",
   "metadata": {
    "tags": []
   },
   "outputs": [],
   "source": [
    "Variable1 = 5\n",
    "Variable2 = \"Hola\""
   ]
  },
  {
   "cell_type": "markdown",
   "id": "691040e8-0c29-49b2-8ed2-5a33f5c29d1c",
   "metadata": {},
   "source": [
    "#### Ejercicio 2"
   ]
  },
  {
   "cell_type": "code",
   "execution_count": 35,
   "id": "16d9c005-bd45-4c48-ab53-cec755ebc1fd",
   "metadata": {
    "tags": []
   },
   "outputs": [
    {
     "name": "stdin",
     "output_type": "stream",
     "text": [
      " 3\n",
      " 2\n"
     ]
    },
    {
     "data": {
      "text/plain": [
       "6"
      ]
     },
     "execution_count": 35,
     "metadata": {},
     "output_type": "execute_result"
    }
   ],
   "source": [
    "Variable1 = int(input())\n",
    "Variable2 = int(input())\n",
    "Resultado = Variable1 * Variable2\n",
    "Resultado"
   ]
  },
  {
   "cell_type": "markdown",
   "id": "cab3fb0f-9dd0-40e4-a317-8593e7371bb8",
   "metadata": {},
   "source": [
    "#### Ejercicio 3"
   ]
  },
  {
   "cell_type": "code",
   "execution_count": 44,
   "id": "f2159241-57a7-4c3e-85ad-9302e58a2b12",
   "metadata": {
    "tags": []
   },
   "outputs": [
    {
     "name": "stdin",
     "output_type": "stream",
     "text": [
      " Pau\n"
     ]
    },
    {
     "name": "stdout",
     "output_type": "stream",
     "text": [
      "Buenos días,  Pau\n"
     ]
    }
   ],
   "source": [
    "Nombre = input()\n",
    "print(\"Buenos días, \" , Nombre)"
   ]
  },
  {
   "cell_type": "markdown",
   "id": "5569649f-bb58-4714-9be0-2b52f9f7a9f1",
   "metadata": {},
   "source": [
    "#### Ejercicio 4"
   ]
  },
  {
   "cell_type": "code",
   "execution_count": 55,
   "id": "8bd89d86-f84c-488b-95a6-d873950ed9c2",
   "metadata": {
    "tags": []
   },
   "outputs": [
    {
     "name": "stdin",
     "output_type": "stream",
     "text": [
      " 3\n",
      " 3\n",
      " 3\n"
     ]
    },
    {
     "data": {
      "text/plain": [
       "True"
      ]
     },
     "execution_count": 55,
     "metadata": {},
     "output_type": "execute_result"
    }
   ],
   "source": [
    "Variable1 = int(input())\n",
    "Variable2 = int(input())\n",
    "Variable3 = int(input())\n",
    "(Variable1 == Variable2 == Variable3) "
   ]
  },
  {
   "cell_type": "markdown",
   "id": "82412fc9-da2f-4e63-bbff-eddb7fcde936",
   "metadata": {},
   "source": [
    "#### Ejercicio 5"
   ]
  },
  {
   "cell_type": "code",
   "execution_count": 72,
   "id": "1ea1792b-090a-4ddd-8f1d-1efd610a1179",
   "metadata": {
    "tags": []
   },
   "outputs": [
    {
     "name": "stdin",
     "output_type": "stream",
     "text": [
      " 1\n",
      " 150\n",
      " 34\n"
     ]
    },
    {
     "data": {
      "text/plain": [
       "True"
      ]
     },
     "execution_count": 72,
     "metadata": {},
     "output_type": "execute_result"
    }
   ],
   "source": [
    "Variable1 = int(input())\n",
    "Variable2 = int(input())\n",
    "Variable3 = int(input())\n",
    "(Variable1 > 100 or Variable2 > 100 or Variable3 > 100)"
   ]
  },
  {
   "cell_type": "code",
   "execution_count": 1,
   "id": "4074908a-98fd-4412-aa65-ff61e75ff87d",
   "metadata": {
    "tags": []
   },
   "outputs": [
    {
     "data": {
      "text/plain": [
       "'C:\\\\Users\\\\pauri\\\\MÁSTER DATA SCIENCE, BIG DATA & BUSINESS ANALYTICS UCM\\\\Programación Python básica'"
      ]
     },
     "execution_count": 1,
     "metadata": {},
     "output_type": "execute_result"
    }
   ],
   "source": [
    "pwd"
   ]
  }
 ],
 "metadata": {
  "kernelspec": {
   "display_name": "Python 3 (ipykernel)",
   "language": "python",
   "name": "python3"
  },
  "language_info": {
   "codemirror_mode": {
    "name": "ipython",
    "version": 3
   },
   "file_extension": ".py",
   "mimetype": "text/x-python",
   "name": "python",
   "nbconvert_exporter": "python",
   "pygments_lexer": "ipython3",
   "version": "3.11.7"
  }
 },
 "nbformat": 4,
 "nbformat_minor": 5
}
