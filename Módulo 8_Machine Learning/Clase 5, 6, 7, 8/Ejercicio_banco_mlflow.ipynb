{
 "cells": [
  {
   "cell_type": "markdown",
   "id": "05ec11ee",
   "metadata": {},
   "source": [
    "## Ejercicio banco Mlflow"
   ]
  },
  {
   "cell_type": "code",
   "execution_count": 1,
   "id": "64ad2e14",
   "metadata": {},
   "outputs": [],
   "source": [
    "import pandas as pd\n",
    "import numpy as np\n",
    "from sklearn.preprocessing import LabelEncoder\n",
    "from sklearn.ensemble import RandomForestClassifier\n",
    "from sklearn.model_selection import train_test_split\n",
    "from pandas.plotting import scatter_matrix\n",
    "from sklearn.metrics import accuracy_score, auc, confusion_matrix, f1_score, precision_score, recall_score, roc_curve\n",
    "from sklearn.metrics import classification_report\n",
    "# import lime\n",
    "# import shap\n",
    "# form lime import lime_tabular\n",
    "\n",
    "import plotly.express as px\n",
    "import plotly.graph_objects as go\n",
    "import matplotlib.pyplot as plt\n",
    "import mlflow\n",
    "import mlflow.sklearn\n",
    "from mlflow.models.signature import infer_signature \n",
    "import seaborn as sns"
   ]
  },
  {
   "cell_type": "code",
   "execution_count": 2,
   "id": "ed274411",
   "metadata": {},
   "outputs": [],
   "source": [
    "def saca_metricas(y1, y2):\n",
    "    print('Matriz de Confusión')\n",
    "    print(confusion_matrix(y1, y2))\n",
    "    print('Accuracy:', accuracy_score(y1, y2))\n",
    "    print('Precision:', precision_score(y1, y2))\n",
    "    print('Recall:', recall_score(y1, y2))\n",
    "    print('F1 Score:', f1_score(y1, y2))\n",
    "    \n",
    "    # Cálculo de la curva ROC y AUC\n",
    "    false_positive_rate, recall, _ = roc_curve(y1, y2)\n",
    "    roc_auc = auc(false_positive_rate, recall)\n",
    "    print('AUC:', roc_auc)\n",
    "    \n",
    "    # Crear gráfico interactivo con Plotly\n",
    "    fig = go.Figure()\n",
    "    fig.add_trace(go.Scatter(x=false_positive_rate, y=recall, mode='lines', name='Curva ROC', line=dict(color='blue')))\n",
    "    fig.add_trace(go.Scatter(x=[0, 1], y=[0, 1], mode='lines', name='Línea base', line=dict(color='red', dash='dash')))\n",
    "    \n",
    "    fig.update_layout(\n",
    "        title=f'Curva ROC (AUC = {roc_auc:.2f})',\n",
    "        xaxis_title='False Positive Rate',\n",
    "        yaxis_title='Recall',\n",
    "        template='plotly_white'\n",
    "    )\n",
    "    \n",
    "    fig.show()"
   ]
  },
  {
   "cell_type": "code",
   "execution_count": 3,
   "id": "dd7aea7b",
   "metadata": {},
   "outputs": [],
   "source": [
    "df_bank = pd.read_csv('bank-full.csv',sep=';')"
   ]
  },
  {
   "cell_type": "code",
   "execution_count": 4,
   "id": "3d91959b",
   "metadata": {},
   "outputs": [],
   "source": [
    "categorical_feature = df_bank.select_dtypes(include='object').columns\n",
    "numerical_feature = df_bank.select_dtypes(exclude='object').columns"
   ]
  },
  {
   "cell_type": "code",
   "execution_count": 5,
   "id": "f8f48a6b",
   "metadata": {},
   "outputs": [],
   "source": [
    "for i in categorical_feature:\n",
    "    le = LabelEncoder()\n",
    "    df_bank[i] = le.fit_transform(df_bank[i])"
   ]
  },
  {
   "cell_type": "code",
   "execution_count": 6,
   "id": "c6fd01bd",
   "metadata": {},
   "outputs": [],
   "source": [
    "X_train, X_test, y_train, y_test = train_test_split(df_bank.drop('y',axis=1),\n",
    "                                                    df_bank['y'],\n",
    "                                                    test_size=0.2,\n",
    "                                                    random_state=42,\n",
    "                                                    stratify=df_bank['y'])"
   ]
  },
  {
   "cell_type": "code",
   "execution_count": 7,
   "id": "a12ef85a",
   "metadata": {},
   "outputs": [
    {
     "data": {
      "text/html": [
       "<div>\n",
       "<style scoped>\n",
       "    .dataframe tbody tr th:only-of-type {\n",
       "        vertical-align: middle;\n",
       "    }\n",
       "\n",
       "    .dataframe tbody tr th {\n",
       "        vertical-align: top;\n",
       "    }\n",
       "\n",
       "    .dataframe thead th {\n",
       "        text-align: right;\n",
       "    }\n",
       "</style>\n",
       "<table border=\"1\" class=\"dataframe\">\n",
       "  <thead>\n",
       "    <tr style=\"text-align: right;\">\n",
       "      <th></th>\n",
       "      <th>age</th>\n",
       "      <th>job</th>\n",
       "      <th>marital</th>\n",
       "      <th>education</th>\n",
       "      <th>default</th>\n",
       "      <th>balance</th>\n",
       "      <th>housing</th>\n",
       "      <th>loan</th>\n",
       "      <th>contact</th>\n",
       "      <th>day</th>\n",
       "      <th>month</th>\n",
       "      <th>duration</th>\n",
       "      <th>campaign</th>\n",
       "      <th>pdays</th>\n",
       "      <th>previous</th>\n",
       "      <th>poutcome</th>\n",
       "      <th>y</th>\n",
       "    </tr>\n",
       "  </thead>\n",
       "  <tbody>\n",
       "    <tr>\n",
       "      <th>0</th>\n",
       "      <td>58</td>\n",
       "      <td>4</td>\n",
       "      <td>1</td>\n",
       "      <td>2</td>\n",
       "      <td>0</td>\n",
       "      <td>2143</td>\n",
       "      <td>1</td>\n",
       "      <td>0</td>\n",
       "      <td>2</td>\n",
       "      <td>5</td>\n",
       "      <td>8</td>\n",
       "      <td>261</td>\n",
       "      <td>1</td>\n",
       "      <td>-1</td>\n",
       "      <td>0</td>\n",
       "      <td>3</td>\n",
       "      <td>0</td>\n",
       "    </tr>\n",
       "    <tr>\n",
       "      <th>1</th>\n",
       "      <td>44</td>\n",
       "      <td>9</td>\n",
       "      <td>2</td>\n",
       "      <td>1</td>\n",
       "      <td>0</td>\n",
       "      <td>29</td>\n",
       "      <td>1</td>\n",
       "      <td>0</td>\n",
       "      <td>2</td>\n",
       "      <td>5</td>\n",
       "      <td>8</td>\n",
       "      <td>151</td>\n",
       "      <td>1</td>\n",
       "      <td>-1</td>\n",
       "      <td>0</td>\n",
       "      <td>3</td>\n",
       "      <td>0</td>\n",
       "    </tr>\n",
       "    <tr>\n",
       "      <th>2</th>\n",
       "      <td>33</td>\n",
       "      <td>2</td>\n",
       "      <td>1</td>\n",
       "      <td>1</td>\n",
       "      <td>0</td>\n",
       "      <td>2</td>\n",
       "      <td>1</td>\n",
       "      <td>1</td>\n",
       "      <td>2</td>\n",
       "      <td>5</td>\n",
       "      <td>8</td>\n",
       "      <td>76</td>\n",
       "      <td>1</td>\n",
       "      <td>-1</td>\n",
       "      <td>0</td>\n",
       "      <td>3</td>\n",
       "      <td>0</td>\n",
       "    </tr>\n",
       "    <tr>\n",
       "      <th>3</th>\n",
       "      <td>47</td>\n",
       "      <td>1</td>\n",
       "      <td>1</td>\n",
       "      <td>3</td>\n",
       "      <td>0</td>\n",
       "      <td>1506</td>\n",
       "      <td>1</td>\n",
       "      <td>0</td>\n",
       "      <td>2</td>\n",
       "      <td>5</td>\n",
       "      <td>8</td>\n",
       "      <td>92</td>\n",
       "      <td>1</td>\n",
       "      <td>-1</td>\n",
       "      <td>0</td>\n",
       "      <td>3</td>\n",
       "      <td>0</td>\n",
       "    </tr>\n",
       "    <tr>\n",
       "      <th>4</th>\n",
       "      <td>33</td>\n",
       "      <td>11</td>\n",
       "      <td>2</td>\n",
       "      <td>3</td>\n",
       "      <td>0</td>\n",
       "      <td>1</td>\n",
       "      <td>0</td>\n",
       "      <td>0</td>\n",
       "      <td>2</td>\n",
       "      <td>5</td>\n",
       "      <td>8</td>\n",
       "      <td>198</td>\n",
       "      <td>1</td>\n",
       "      <td>-1</td>\n",
       "      <td>0</td>\n",
       "      <td>3</td>\n",
       "      <td>0</td>\n",
       "    </tr>\n",
       "  </tbody>\n",
       "</table>\n",
       "</div>"
      ],
      "text/plain": [
       "   age  job  marital  education  default  balance  housing  loan  contact  \\\n",
       "0   58    4        1          2        0     2143        1     0        2   \n",
       "1   44    9        2          1        0       29        1     0        2   \n",
       "2   33    2        1          1        0        2        1     1        2   \n",
       "3   47    1        1          3        0     1506        1     0        2   \n",
       "4   33   11        2          3        0        1        0     0        2   \n",
       "\n",
       "   day  month  duration  campaign  pdays  previous  poutcome  y  \n",
       "0    5      8       261         1     -1         0         3  0  \n",
       "1    5      8       151         1     -1         0         3  0  \n",
       "2    5      8        76         1     -1         0         3  0  \n",
       "3    5      8        92         1     -1         0         3  0  \n",
       "4    5      8       198         1     -1         0         3  0  "
      ]
     },
     "execution_count": 7,
     "metadata": {},
     "output_type": "execute_result"
    }
   ],
   "source": [
    "df_bank.head()"
   ]
  },
  {
   "cell_type": "code",
   "execution_count": 8,
   "id": "f83c60a3",
   "metadata": {},
   "outputs": [],
   "source": [
    "n_estimators = 20\n",
    "semilla = 42\n",
    "model1 = RandomForestClassifier(n_estimators=n_estimators)"
   ]
  },
  {
   "cell_type": "markdown",
   "id": "a6bd4aa6",
   "metadata": {},
   "source": [
    "### Mlflow\n",
    "\n",
    "MLflow es una librería de código abierto que permite gestionar el ciclo de vida de modelos de machine learning. Sirve para guardar parámetros, métricas y modelos, comparar distintas ejecuciones y organizar experimentos dentro de un mismo proyecto, facilitando la reproducibilidad y el seguimiento de resultados.\n",
    "\n",
    "Nos permite trabajar varios usuarios en un mismo proyecto."
   ]
  },
  {
   "cell_type": "code",
   "execution_count": 9,
   "id": "30b76f2b",
   "metadata": {},
   "outputs": [
    {
     "data": {
      "text/plain": [
       "<Experiment: artifact_location='file:///c:/Users/pauri/OneDrive/Escritorio/4%29%20M%C3%81STER%20EN%20DATA%20SCIENCE%2C%20BIG%20DATA%20%26%20BUSINESS%20ANALYTICS%20%28UCM%29/M%C3%93DULO%208_MACHINE%20LEARNING/Clase%205%2C%206%2C%207%20y%208/1.%20Ejercicio_banco/mlruns/267908827470087963', creation_time=1757180975298, experiment_id='267908827470087963', last_update_time=1757180975298, lifecycle_stage='active', name='ejercicio_banco_mflow', tags={}>"
      ]
     },
     "execution_count": 9,
     "metadata": {},
     "output_type": "execute_result"
    }
   ],
   "source": [
    "mlflow.set_experiment('ejercicio_banco_mflow') # Guarda el codigo que vamos a realizar a partir de ahora en ejercicio_banco_mflow, crea una carpeta llamada mlruns"
   ]
  },
  {
   "cell_type": "code",
   "execution_count": 10,
   "id": "9bd55d0a",
   "metadata": {},
   "outputs": [
    {
     "data": {
      "text/plain": [
       "<Experiment: artifact_location='file:///C:/MLflow/mlruns/400025015897031036', creation_time=1757185182849, experiment_id='400025015897031036', last_update_time=1757185182849, lifecycle_stage='active', name='banco_mflow', tags={}>"
      ]
     },
     "execution_count": 10,
     "metadata": {},
     "output_type": "execute_result"
    }
   ],
   "source": [
    "mlflow.set_tracking_uri(\"file:///C:/MLflow/mlruns\")  # carpeta corta y simple\n",
    "mlflow.set_experiment(\"banco_mflow\")"
   ]
  },
  {
   "cell_type": "code",
   "execution_count": 11,
   "id": "a866f63d",
   "metadata": {},
   "outputs": [
    {
     "name": "stderr",
     "output_type": "stream",
     "text": [
      "2025/09/06 21:34:55 WARNING mlflow.utils.git_utils: Failed to import Git (the Git executable is probably not on your PATH), so Git SHA is not available. Error: Failed to initialize: Bad git executable.\n",
      "The git executable must be specified in one of the following ways:\n",
      "    - be included in your $PATH\n",
      "    - be set via $GIT_PYTHON_GIT_EXECUTABLE\n",
      "    - explicitly set via git.refresh(<full-path-to-git-executable>)\n",
      "\n",
      "All git commands will error until this is rectified.\n",
      "\n",
      "This initial message can be silenced or aggravated in the future by setting the\n",
      "$GIT_PYTHON_REFRESH environment variable. Use one of the following values:\n",
      "    - quiet|q|silence|s|silent|none|n|0: for no message or exception\n",
      "    - warn|w|warning|log|l|1: for a warning message (logging level CRITICAL, displayed by default)\n",
      "    - error|e|exception|raise|r|2: for a raised exception\n",
      "\n",
      "Example:\n",
      "    export GIT_PYTHON_REFRESH=quiet\n",
      "\n",
      "2025/09/06 21:34:56 WARNING mlflow.models.model: `artifact_path` is deprecated. Please use `name` instead.\n",
      "2025/09/06 21:35:01 WARNING mlflow.models.model: Model logged without a signature and input example. Please set `input_example` parameter when logging the model to auto infer the model signature.\n"
     ]
    },
    {
     "name": "stdout",
     "output_type": "stream",
     "text": [
      "Accuracy: 0.9032400751962845\n"
     ]
    },
    {
     "data": {
      "image/png": "[encoded data removed]",
      "text/plain": [
       "<Figure size 1000x700 with 2 Axes>"
      ]
     },
     "metadata": {},
     "output_type": "display_data"
    }
   ],
   "source": [
    "with mlflow.start_run(run_name='rf_model'):\n",
    "    model1.fit(X_train,y_train)\n",
    "    y_pred = model1.predict(X_test)\n",
    "\n",
    "    # Calcular precisión\n",
    "    accuracy = accuracy_score(y_test,y_pred)\n",
    "\n",
    "    # Registrar parámetros, métricas y modelo\n",
    "    mlflow.log_param('random_state',semilla)\n",
    "    mlflow.log_param('n_estimators',model1.n_estimators)\n",
    "    mlflow.log_param('max_depth',model1.max_depth)\n",
    "\n",
    "    mlflow.log_metric('accuracy',accuracy)\n",
    "\n",
    "    mlflow.sklearn.log_model(model1,'untuned_random_forest')\n",
    "\n",
    "    # Registrar importancia de las caracteristicas\n",
    "    feature_importances = model1.feature_importances_\n",
    "    for i, col in enumerate(X_train.columns):\n",
    "        mlflow.log_metric(f'importance_{col}',feature_importances[i])\n",
    "    \n",
    "\n",
    "    # Guardar conjunto de datos de prueva\n",
    "    X_test.to_csv('X_test.csv',index=False)\n",
    "    mlflow.log_artifact('X_test.csv')\n",
    "\n",
    "    # Crear y guardar matriz de confusión \n",
    "    cm = confusion_matrix(y_test,y_pred)\n",
    "    plt.figure(figsize=(10,7))\n",
    "    sns.heatmap(cm,annot=True, fmt='d',cmap='Blues')\n",
    "    plt.xlabel('Predicted')\n",
    "    plt.ylabel('Actual')\n",
    "    plt.title('Confusion Matrix')\n",
    "    plt.savefig('confusion_matrix.png')\n",
    "\n",
    "\n",
    "    mlflow.log_artifact('confusion_matrix.png')\n",
    "\n",
    "    print(f'Accuracy: {accuracy}')\n",
    "\n",
    "\n"
   ]
  },
  {
   "cell_type": "code",
   "execution_count": null,
   "id": "3f10d1a8",
   "metadata": {},
   "outputs": [],
   "source": [
    "!mlflow ui # para acceder a mlflow, sino en google localhost:5000"
   ]
  },
  {
   "cell_type": "markdown",
   "id": "b9f0103c",
   "metadata": {},
   "source": [
    "Si hacemos un pequeño cambio/finetuning..."
   ]
  },
  {
   "cell_type": "code",
   "execution_count": 13,
   "id": "e31786f3",
   "metadata": {},
   "outputs": [],
   "source": [
    "n_estimators = 200\n",
    "model1 = RandomForestClassifier(n_estimators = n_estimators) "
   ]
  },
  {
   "cell_type": "code",
   "execution_count": 14,
   "id": "db671bd0",
   "metadata": {},
   "outputs": [
    {
     "name": "stderr",
     "output_type": "stream",
     "text": [
      "2025/09/06 21:43:33 WARNING mlflow.models.model: `artifact_path` is deprecated. Please use `name` instead.\n",
      "2025/09/06 21:43:36 WARNING mlflow.models.model: Model logged without a signature and input example. Please set `input_example` parameter when logging the model to auto infer the model signature.\n"
     ]
    },
    {
     "name": "stdout",
     "output_type": "stream",
     "text": [
      "Accuracy: 0.905783478933982\n"
     ]
    },
    {
     "data": {
      "image/png": "[encoded data removed]",
      "text/plain": [
       "<Figure size 1000x700 with 2 Axes>"
      ]
     },
     "metadata": {},
     "output_type": "display_data"
    }
   ],
   "source": [
    "with mlflow.start_run(run_name='tuned_random_forest'):\n",
    "    model1.fit(X_train, y_train)\n",
    "    y_pred = model1.predict(X_test)\n",
    "    \n",
    "    # Calcular precisión\n",
    "    accuracy = accuracy_score(y_test, y_pred)\n",
    "    \n",
    "    # Registrar parámetros, métricas y modelo\n",
    "    mlflow.log_param(\"random_state\", semilla)\n",
    "    mlflow.log_param(\"n_estimators\", model1.n_estimators)\n",
    "    mlflow.log_param(\"max_depth\", model1.max_depth)\n",
    "    mlflow.log_metric(\"accuracy\", accuracy)\n",
    "    mlflow.sklearn.log_model(model1, \"tuned_random_forest\")\n",
    "    \n",
    "    # Registrar importancia de las características\n",
    "    feature_importances = model1.feature_importances_\n",
    "    for i, col in enumerate(X_train.columns):\n",
    "        mlflow.log_metric(f\"importance_{col}\", feature_importances[i])\n",
    "    \n",
    "    # Guardar conjunto de datos de prueba\n",
    "    X_test.to_csv(\"X_test.csv\", index=False)\n",
    "    mlflow.log_artifact(\"X_test.csv\")\n",
    "    \n",
    "    # Crear y guardar matriz de confusión\n",
    "    cm = confusion_matrix(y_test, y_pred)\n",
    "    plt.figure(figsize=(10, 7))\n",
    "    sns.heatmap(cm, annot=True, fmt='d', cmap='Blues')\n",
    "    plt.xlabel('Predicted')\n",
    "    plt.ylabel('Actual')\n",
    "    plt.title('Confusion Matrix')\n",
    "    plt.savefig(\"confusion_matrix.png\")\n",
    "    mlflow.log_artifact(\"confusion_matrix.png\")\n",
    "\n",
    "    print(f\"Accuracy: {accuracy}\")"
   ]
  },
  {
   "cell_type": "code",
   "execution_count": null,
   "id": "eb662588",
   "metadata": {},
   "outputs": [],
   "source": [
    "!mlflow ui # para acceder a mlflow, sino en google localhost:5000"
   ]
  }
 ],
 "metadata": {
  "kernelspec": {
   "display_name": "Python 3",
   "language": "python",
   "name": "python3"
  },
  "language_info": {
   "codemirror_mode": {
    "name": "ipython",
    "version": 3
   },
   "file_extension": ".py",
   "mimetype": "text/x-python",
   "name": "python",
   "nbconvert_exporter": "python",
   "pygments_lexer": "ipython3",
   "version": "3.13.2"
  }
 },
 "nbformat": 4,
 "nbformat_minor": 5
}
