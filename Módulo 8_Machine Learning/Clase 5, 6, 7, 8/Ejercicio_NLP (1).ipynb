{
 "cells": [
  {
   "cell_type": "markdown",
   "id": "68a8032b",
   "metadata": {},
   "source": [
    "## NLP: Construcción de sistemas que hablen lo más parecido posble a los humanos\n",
    "\n",
    "<b>Aplicaciones:</b>\n",
    "\n",
    "chatbots, reconocimeinto entidadies, análisis de sentimientos, clasificación textos...\n",
    "\n",
    "Nuestro dataset de partida a va a ser esta vez un corpus."
   ]
  },
  {
   "cell_type": "markdown",
   "id": "ca926348",
   "metadata": {},
   "source": [
    "https://en.wikipedia.org/wiki/ELIZA"
   ]
  },
  {
   "cell_type": "markdown",
   "id": "dafcf382",
   "metadata": {},
   "source": [
    "<b>Técnicas</b>\n",
    "\n",
    "1. Normalizar\n",
    "2. Tokenizar\n",
    "3. Lematizar/stemming\n",
    "4. Eliminar stopwords\n",
    "5. Conversión a números: Bag of words, word2vscm Tfidf..."
   ]
  },
  {
   "cell_type": "markdown",
   "id": "ff573fc2",
   "metadata": {},
   "source": [
    "<b>Librerías Python</b>\n",
    "\n",
    "NLTK SPACY..."
   ]
  },
  {
   "cell_type": "markdown",
   "id": "1e4da411",
   "metadata": {},
   "source": [
    "<b>PRE PROCESAD</b> "
   ]
  },
  {
   "cell_type": "markdown",
   "id": "659267e5",
   "metadata": {},
   "source": [
    "#### 1. NORMALIZACIÓN - PRE PROCESADO\n",
    "\n",
    "Su objetivo es transformar el texto a una forma estándar y uniforme, para que los algoritmos lo entiendan mejor y no se confundan con variaciones superficiales."
   ]
  },
  {
   "cell_type": "code",
   "execution_count": 62,
   "id": "2148787f",
   "metadata": {},
   "outputs": [],
   "source": [
    "import pandas as pd"
   ]
  },
  {
   "cell_type": "code",
   "execution_count": 63,
   "id": "8aa323f9",
   "metadata": {},
   "outputs": [],
   "source": [
    "corpus =['I did not like these products.',\n",
    "        'THE PRODUCT does not work...',\n",
    "        'it is very EXPENSIVE $']"
   ]
  },
  {
   "cell_type": "code",
   "execution_count": 64,
   "id": "1441dbb3",
   "metadata": {},
   "outputs": [],
   "source": [
    "dataset = pd.DataFrame(corpus,columns=['corpus'])"
   ]
  },
  {
   "cell_type": "code",
   "execution_count": 65,
   "id": "d9e8eab2",
   "metadata": {},
   "outputs": [
    {
     "data": {
      "text/html": [
       "<div>\n",
       "<style scoped>\n",
       "    .dataframe tbody tr th:only-of-type {\n",
       "        vertical-align: middle;\n",
       "    }\n",
       "\n",
       "    .dataframe tbody tr th {\n",
       "        vertical-align: top;\n",
       "    }\n",
       "\n",
       "    .dataframe thead th {\n",
       "        text-align: right;\n",
       "    }\n",
       "</style>\n",
       "<table border=\"1\" class=\"dataframe\">\n",
       "  <thead>\n",
       "    <tr style=\"text-align: right;\">\n",
       "      <th></th>\n",
       "      <th>corpus</th>\n",
       "    </tr>\n",
       "  </thead>\n",
       "  <tbody>\n",
       "    <tr>\n",
       "      <th>0</th>\n",
       "      <td>I did not like these products.</td>\n",
       "    </tr>\n",
       "    <tr>\n",
       "      <th>1</th>\n",
       "      <td>THE PRODUCT does not work...</td>\n",
       "    </tr>\n",
       "    <tr>\n",
       "      <th>2</th>\n",
       "      <td>it is very EXPENSIVE $</td>\n",
       "    </tr>\n",
       "  </tbody>\n",
       "</table>\n",
       "</div>"
      ],
      "text/plain": [
       "                           corpus\n",
       "0  I did not like these products.\n",
       "1    THE PRODUCT does not work...\n",
       "2          it is very EXPENSIVE $"
      ]
     },
     "execution_count": 65,
     "metadata": {},
     "output_type": "execute_result"
    }
   ],
   "source": [
    "dataset.head()"
   ]
  },
  {
   "cell_type": "code",
   "execution_count": 66,
   "id": "4adef7e2",
   "metadata": {},
   "outputs": [],
   "source": [
    "import re # sirve para buscar, validar y transformar texto con patrones\n",
    "import nltk # Natural Language Toolkit, librería para Procesamiento de Lenguaje Natural (PLN)"
   ]
  },
  {
   "cell_type": "code",
   "execution_count": 67,
   "id": "a424af8c",
   "metadata": {},
   "outputs": [],
   "source": [
    "# Convertimos a minúsculas, codificación, preparación del dataset..."
   ]
  },
  {
   "cell_type": "code",
   "execution_count": 68,
   "id": "8a2c16dc",
   "metadata": {},
   "outputs": [
    {
     "data": {
      "text/plain": [
       "0    i did not like these products.\n",
       "1      the product does not work...\n",
       "2            it is very expensive $\n",
       "Name: corpus, dtype: object"
      ]
     },
     "execution_count": 68,
     "metadata": {},
     "output_type": "execute_result"
    }
   ],
   "source": [
    "dataset_clean = dataset['corpus'].str.lower() # Convertir el texto en minúsculas\n",
    "dataset_clean.head()"
   ]
  },
  {
   "cell_type": "code",
   "execution_count": 69,
   "id": "f6a48fdf",
   "metadata": {},
   "outputs": [
    {
     "data": {
      "text/plain": [
       "0    i did not like these products.\n",
       "1      the product does not work...\n",
       "2            it is very expensive $\n",
       "Name: corpus, dtype: object"
      ]
     },
     "execution_count": 69,
     "metadata": {},
     "output_type": "execute_result"
    }
   ],
   "source": [
    "dataset_clean"
   ]
  },
  {
   "cell_type": "markdown",
   "id": "97a9b51a",
   "metadata": {},
   "source": [
    "#### 2. TOKENIZACIÓN\n",
    "\n",
    "Consiste en dividir un texto en unidades más pequeñas llamadas tokens."
   ]
  },
  {
   "cell_type": "code",
   "execution_count": 70,
   "id": "07ae71ea",
   "metadata": {},
   "outputs": [
    {
     "data": {
      "text/plain": [
       "0    [i, did, not, like, these, products.]\n",
       "1       [the, product, does, not, work...]\n",
       "2             [it, is, very, expensive, $]\n",
       "Name: corpus, dtype: object"
      ]
     },
     "execution_count": 70,
     "metadata": {},
     "output_type": "execute_result"
    }
   ],
   "source": [
    "dataset_clean1 = dataset_clean.str.split()\n",
    "dataset_clean1.head()"
   ]
  },
  {
   "cell_type": "code",
   "execution_count": 71,
   "id": "40d64fbc",
   "metadata": {},
   "outputs": [
    {
     "name": "stderr",
     "output_type": "stream",
     "text": [
      "[nltk_data] Downloading package punkt_tab to\n",
      "[nltk_data]     C:\\Users\\pauri\\AppData\\Roaming\\nltk_data...\n",
      "[nltk_data]   Package punkt_tab is already up-to-date!\n"
     ]
    },
    {
     "data": {
      "text/plain": [
       "True"
      ]
     },
     "execution_count": 71,
     "metadata": {},
     "output_type": "execute_result"
    }
   ],
   "source": [
    "from nltk.tokenize import word_tokenize # librería para tokenizar\n",
    "nltk.download('punkt_tab') # Tablas auxiliares (idiomas, abreviaturas, etc.) usadas por punkt en versiones nuevas de NLTK"
   ]
  },
  {
   "cell_type": "code",
   "execution_count": 72,
   "id": "f3e133a5",
   "metadata": {},
   "outputs": [],
   "source": [
    "for i in range(len(dataset_clean)):\n",
    "    dataset_clean[i] = word_tokenize(dataset_clean[i]) # aplicamos función word_tokenize\n",
    "    dataset_clean[i] = [word for word in dataset_clean[i] if word.isalpha()] #isalpha para eliminar signos\n"
   ]
  },
  {
   "cell_type": "code",
   "execution_count": 73,
   "id": "578732f4",
   "metadata": {},
   "outputs": [
    {
     "data": {
      "text/plain": [
       "0    [i, did, not, like, these, products]\n",
       "1         [the, product, does, not, work]\n",
       "2               [it, is, very, expensive]\n",
       "Name: corpus, dtype: object"
      ]
     },
     "execution_count": 73,
     "metadata": {},
     "output_type": "execute_result"
    }
   ],
   "source": [
    "dataset_clean.head()"
   ]
  },
  {
   "cell_type": "markdown",
   "id": "ecc2bf29",
   "metadata": {},
   "source": [
    "#### 4. REMOVE STOP WORDS\n",
    "\n",
    "Eliminar las palabras sin significado"
   ]
  },
  {
   "cell_type": "code",
   "execution_count": 74,
   "id": "8b457683",
   "metadata": {},
   "outputs": [
    {
     "name": "stderr",
     "output_type": "stream",
     "text": [
      "[nltk_data] Downloading package stopwords to\n",
      "[nltk_data]     C:\\Users\\pauri\\AppData\\Roaming\\nltk_data...\n",
      "[nltk_data]   Package stopwords is already up-to-date!\n"
     ]
    }
   ],
   "source": [
    "nltk.download('stopwords') # descarga el conjunto de stopw words \n",
    "from nltk.corpus import stopwords # importa el modulo stopwords "
   ]
  },
  {
   "cell_type": "code",
   "execution_count": 75,
   "id": "b63187ce",
   "metadata": {},
   "outputs": [],
   "source": [
    "stop_words = set(stopwords.words('english')) # podemos decirle que sean en español"
   ]
  },
  {
   "cell_type": "code",
   "execution_count": 76,
   "id": "0c1a1191",
   "metadata": {},
   "outputs": [],
   "source": [
    "filtered_sentence = [] # creamos una nueva lista\n",
    "for i in range(len(dataset_clean)): # para el largo del dataset_clean aplicamos un bucle for\n",
    "    filtered_sentence.append(' '.join([w for w in dataset_clean[i] if not w in stop_words])) # para la lista anteriormente cread, le añadimos un espacio y las palabras que no se encuentran en stopwords"
   ]
  },
  {
   "cell_type": "code",
   "execution_count": 77,
   "id": "03caf9f4",
   "metadata": {},
   "outputs": [
    {
     "data": {
      "text/plain": [
       "['like products', 'product work', 'expensive']"
      ]
     },
     "execution_count": 77,
     "metadata": {},
     "output_type": "execute_result"
    }
   ],
   "source": [
    "filtered_sentence"
   ]
  },
  {
   "cell_type": "code",
   "execution_count": 78,
   "id": "c8b7c2f7",
   "metadata": {},
   "outputs": [],
   "source": [
    "dataset_end = pd.DataFrame(filtered_sentence, columns=['corpus'])"
   ]
  },
  {
   "cell_type": "code",
   "execution_count": 79,
   "id": "39fa7860",
   "metadata": {},
   "outputs": [
    {
     "data": {
      "text/html": [
       "<div>\n",
       "<style scoped>\n",
       "    .dataframe tbody tr th:only-of-type {\n",
       "        vertical-align: middle;\n",
       "    }\n",
       "\n",
       "    .dataframe tbody tr th {\n",
       "        vertical-align: top;\n",
       "    }\n",
       "\n",
       "    .dataframe thead th {\n",
       "        text-align: right;\n",
       "    }\n",
       "</style>\n",
       "<table border=\"1\" class=\"dataframe\">\n",
       "  <thead>\n",
       "    <tr style=\"text-align: right;\">\n",
       "      <th></th>\n",
       "      <th>corpus</th>\n",
       "    </tr>\n",
       "  </thead>\n",
       "  <tbody>\n",
       "    <tr>\n",
       "      <th>0</th>\n",
       "      <td>like products</td>\n",
       "    </tr>\n",
       "    <tr>\n",
       "      <th>1</th>\n",
       "      <td>product work</td>\n",
       "    </tr>\n",
       "    <tr>\n",
       "      <th>2</th>\n",
       "      <td>expensive</td>\n",
       "    </tr>\n",
       "  </tbody>\n",
       "</table>\n",
       "</div>"
      ],
      "text/plain": [
       "          corpus\n",
       "0  like products\n",
       "1   product work\n",
       "2      expensive"
      ]
     },
     "execution_count": 79,
     "metadata": {},
     "output_type": "execute_result"
    }
   ],
   "source": [
    "dataset_end.head()"
   ]
  },
  {
   "cell_type": "markdown",
   "id": "a223195e",
   "metadata": {},
   "source": [
    "#### 3. LEMATIZACIÓN\n",
    "Consiste en reducir una palabra a su forma base o “lema”, teniendo en cuenta su significado y función gramatical."
   ]
  },
  {
   "cell_type": "code",
   "execution_count": 80,
   "id": "1674d88c",
   "metadata": {},
   "outputs": [
    {
     "data": {
      "text/plain": [
       "corpus    like products\n",
       "Name: 0, dtype: object"
      ]
     },
     "execution_count": 80,
     "metadata": {},
     "output_type": "execute_result"
    }
   ],
   "source": [
    "dataset_end.iloc[0]"
   ]
  },
  {
   "cell_type": "code",
   "execution_count": 81,
   "id": "fa9553e0",
   "metadata": {},
   "outputs": [],
   "source": [
    "from nltk.stem.porter import PorterStemmer # El stemming recorta sufijos para llevar palabras a su raíz (no siempre una palabra real)."
   ]
  },
  {
   "cell_type": "code",
   "execution_count": null,
   "id": "08bf52fb",
   "metadata": {},
   "outputs": [],
   "source": [
    "lista_lema = [] # creación de lista para realizar un append de las palabras en su raiz\n",
    "for i in range(len(dataset_end)):\n",
    "    ps = PorterStemmer() \n",
    "    lista_lema.append([ps.stem(word) for word in dataset_end.iloc[i]][0]) # bucle for para la variable y aplciamos el PorterStemmer()"
   ]
  },
  {
   "cell_type": "code",
   "execution_count": 83,
   "id": "2e32fa01",
   "metadata": {},
   "outputs": [
    {
     "data": {
      "text/plain": [
       "0    [i, did, not, like, these, products]\n",
       "1         [the, product, does, not, work]\n",
       "2               [it, is, very, expensive]\n",
       "Name: corpus, dtype: object"
      ]
     },
     "execution_count": 83,
     "metadata": {},
     "output_type": "execute_result"
    }
   ],
   "source": [
    "dataset_clean"
   ]
  },
  {
   "cell_type": "code",
   "execution_count": 84,
   "id": "8b132d80",
   "metadata": {},
   "outputs": [
    {
     "data": {
      "text/plain": [
       "['like product', 'product work', 'expens']"
      ]
     },
     "execution_count": 84,
     "metadata": {},
     "output_type": "execute_result"
    }
   ],
   "source": [
    "lista_lema"
   ]
  },
  {
   "cell_type": "markdown",
   "id": "e72438b1",
   "metadata": {},
   "source": [
    "#### 5. Conversión a números(vectores): Bag of words, word2vscm Tfidf..."
   ]
  },
  {
   "cell_type": "code",
   "execution_count": 85,
   "id": "1cff34be",
   "metadata": {},
   "outputs": [],
   "source": [
    "from sklearn.feature_extraction.text import CountVectorizer # Mide con qué frecuencia aparece un término o frase dentro de un documento determinado, y lo compara con el número de documentos que mencionan ese término dentro de una colección entera de documentos"
   ]
  },
  {
   "cell_type": "code",
   "execution_count": 86,
   "id": "ad6f1351",
   "metadata": {},
   "outputs": [],
   "source": [
    "cv = CountVectorizer(max_features =1500)\n",
    "X = cv.fit_transform(lista_lema).toarray()"
   ]
  },
  {
   "cell_type": "code",
   "execution_count": 87,
   "id": "50751732",
   "metadata": {},
   "outputs": [
    {
     "data": {
      "text/plain": [
       "['like product', 'product work', 'expens']"
      ]
     },
     "execution_count": 87,
     "metadata": {},
     "output_type": "execute_result"
    }
   ],
   "source": [
    "lista_lema"
   ]
  },
  {
   "cell_type": "code",
   "execution_count": null,
   "id": "70aece9c",
   "metadata": {},
   "outputs": [
    {
     "data": {
      "text/plain": [
       "array([[0, 1, 1, 0],\n",
       "       [0, 0, 1, 1],\n",
       "       [1, 0, 0, 0]], dtype=int64)"
      ]
     },
     "execution_count": 88,
     "metadata": {},
     "output_type": "execute_result"
    }
   ],
   "source": [
    "X # se puede usar para entrenar"
   ]
  },
  {
   "cell_type": "code",
   "execution_count": null,
   "id": "3c613899",
   "metadata": {},
   "outputs": [
    {
     "data": {
      "text/plain": [
       "array(['expens', 'like', 'product', 'work'], dtype=object)"
      ]
     },
     "execution_count": 89,
     "metadata": {},
     "output_type": "execute_result"
    }
   ],
   "source": [
    "cv.get_feature_names_out() # para ver a que corresponde cada una de las palabras (columnas) según cada una de las frases (filas) en la matriz "
   ]
  },
  {
   "cell_type": "code",
   "execution_count": null,
   "id": "1e2487e0",
   "metadata": {},
   "outputs": [],
   "source": []
  }
 ],
 "metadata": {
  "kernelspec": {
   "display_name": "Python 3",
   "language": "python",
   "name": "python3"
  },
  "language_info": {
   "codemirror_mode": {
    "name": "ipython",
    "version": 3
   },
   "file_extension": ".py",
   "mimetype": "text/x-python",
   "name": "python",
   "nbconvert_exporter": "python",
   "pygments_lexer": "ipython3",
   "version": "3.12.0"
  }
 },
 "nbformat": 4,
 "nbformat_minor": 5
}
