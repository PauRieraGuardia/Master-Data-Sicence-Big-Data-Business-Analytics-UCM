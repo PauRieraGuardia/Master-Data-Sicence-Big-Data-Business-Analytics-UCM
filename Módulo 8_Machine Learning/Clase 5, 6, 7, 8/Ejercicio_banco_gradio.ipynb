{
 "cells": [
  {
   "cell_type": "markdown",
   "id": "d764bd92",
   "metadata": {},
   "source": [
    "## Ejercicio Banco Gradio\n",
    "\n",
    "La librería Gradio es una herramienta de Python que sirve para crear interfaces gráficas interactivas de manera muy sencilla, pensada sobre todo para modelos de machine learning, data science o IA.\n",
    "\n",
    "Con pocas líneas de código puedes:\n",
    "* Montar un demo web de tu modelo (ejemplo: subir una imagen y ver la predicción).\n",
    "* Probar funciones de Python con una interfaz visual (inputs de texto, sliders, checkboxes, etc.).\n",
    "* Compartir tu aplicación con un link público sin necesidad de programar una web desde cero"
   ]
  },
  {
   "cell_type": "code",
   "execution_count": 3,
   "id": "2de80e8d",
   "metadata": {},
   "outputs": [],
   "source": [
    "import pandas as pd\n",
    "import numpy as np\n",
    "import matplotlib.pyplot as plt\n",
    "import seaborn as sns\n",
    "from sklearn.preprocessing import LabelEncoder\n",
    "from sklearn.ensemble import RandomForestClassifier\n",
    "from sklearn.tree import DecisionTreeClassifier\n",
    "from sklearn.model_selection import train_test_split\n",
    "from pandas.plotting import scatter_matrix\n",
    "from sklearn.feature_selection import VarianceThreshold\n",
    "from sklearn.metrics import accuracy_score, auc, confusion_matrix, f1_score, precision_score, recall_score, roc_curve\n",
    "from sklearn.feature_selection import SelectKBest\n",
    "from sklearn.model_selection import GridSearchCV\n",
    "from sklearn.metrics import classification_report\n",
    "from sklearn.model_selection import cross_val_score\n",
    "import lime \n",
    "from lime import lime_tabular\n",
    "import gradio as gr\n",
    "import plotly.express as px\n",
    "import plotly.graph_objects as go"
   ]
  },
  {
   "cell_type": "code",
   "execution_count": 4,
   "id": "a827e7f2",
   "metadata": {},
   "outputs": [],
   "source": [
    "df_bank = pd.read_csv('bank-full.csv',sep=';')"
   ]
  },
  {
   "cell_type": "code",
   "execution_count": 5,
   "id": "56fef0d1",
   "metadata": {},
   "outputs": [
    {
     "data": {
      "text/html": [
       "<div>\n",
       "<style scoped>\n",
       "    .dataframe tbody tr th:only-of-type {\n",
       "        vertical-align: middle;\n",
       "    }\n",
       "\n",
       "    .dataframe tbody tr th {\n",
       "        vertical-align: top;\n",
       "    }\n",
       "\n",
       "    .dataframe thead th {\n",
       "        text-align: right;\n",
       "    }\n",
       "</style>\n",
       "<table border=\"1\" class=\"dataframe\">\n",
       "  <thead>\n",
       "    <tr style=\"text-align: right;\">\n",
       "      <th></th>\n",
       "      <th>age</th>\n",
       "      <th>job</th>\n",
       "      <th>marital</th>\n",
       "      <th>education</th>\n",
       "      <th>default</th>\n",
       "      <th>balance</th>\n",
       "      <th>housing</th>\n",
       "      <th>loan</th>\n",
       "      <th>contact</th>\n",
       "      <th>day</th>\n",
       "      <th>month</th>\n",
       "      <th>duration</th>\n",
       "      <th>campaign</th>\n",
       "      <th>pdays</th>\n",
       "      <th>previous</th>\n",
       "      <th>poutcome</th>\n",
       "      <th>y</th>\n",
       "    </tr>\n",
       "  </thead>\n",
       "  <tbody>\n",
       "    <tr>\n",
       "      <th>0</th>\n",
       "      <td>58</td>\n",
       "      <td>management</td>\n",
       "      <td>married</td>\n",
       "      <td>tertiary</td>\n",
       "      <td>no</td>\n",
       "      <td>2143</td>\n",
       "      <td>yes</td>\n",
       "      <td>no</td>\n",
       "      <td>unknown</td>\n",
       "      <td>5</td>\n",
       "      <td>may</td>\n",
       "      <td>261</td>\n",
       "      <td>1</td>\n",
       "      <td>-1</td>\n",
       "      <td>0</td>\n",
       "      <td>unknown</td>\n",
       "      <td>no</td>\n",
       "    </tr>\n",
       "    <tr>\n",
       "      <th>1</th>\n",
       "      <td>44</td>\n",
       "      <td>technician</td>\n",
       "      <td>single</td>\n",
       "      <td>secondary</td>\n",
       "      <td>no</td>\n",
       "      <td>29</td>\n",
       "      <td>yes</td>\n",
       "      <td>no</td>\n",
       "      <td>unknown</td>\n",
       "      <td>5</td>\n",
       "      <td>may</td>\n",
       "      <td>151</td>\n",
       "      <td>1</td>\n",
       "      <td>-1</td>\n",
       "      <td>0</td>\n",
       "      <td>unknown</td>\n",
       "      <td>no</td>\n",
       "    </tr>\n",
       "    <tr>\n",
       "      <th>2</th>\n",
       "      <td>33</td>\n",
       "      <td>entrepreneur</td>\n",
       "      <td>married</td>\n",
       "      <td>secondary</td>\n",
       "      <td>no</td>\n",
       "      <td>2</td>\n",
       "      <td>yes</td>\n",
       "      <td>yes</td>\n",
       "      <td>unknown</td>\n",
       "      <td>5</td>\n",
       "      <td>may</td>\n",
       "      <td>76</td>\n",
       "      <td>1</td>\n",
       "      <td>-1</td>\n",
       "      <td>0</td>\n",
       "      <td>unknown</td>\n",
       "      <td>no</td>\n",
       "    </tr>\n",
       "    <tr>\n",
       "      <th>3</th>\n",
       "      <td>47</td>\n",
       "      <td>blue-collar</td>\n",
       "      <td>married</td>\n",
       "      <td>unknown</td>\n",
       "      <td>no</td>\n",
       "      <td>1506</td>\n",
       "      <td>yes</td>\n",
       "      <td>no</td>\n",
       "      <td>unknown</td>\n",
       "      <td>5</td>\n",
       "      <td>may</td>\n",
       "      <td>92</td>\n",
       "      <td>1</td>\n",
       "      <td>-1</td>\n",
       "      <td>0</td>\n",
       "      <td>unknown</td>\n",
       "      <td>no</td>\n",
       "    </tr>\n",
       "    <tr>\n",
       "      <th>4</th>\n",
       "      <td>33</td>\n",
       "      <td>unknown</td>\n",
       "      <td>single</td>\n",
       "      <td>unknown</td>\n",
       "      <td>no</td>\n",
       "      <td>1</td>\n",
       "      <td>no</td>\n",
       "      <td>no</td>\n",
       "      <td>unknown</td>\n",
       "      <td>5</td>\n",
       "      <td>may</td>\n",
       "      <td>198</td>\n",
       "      <td>1</td>\n",
       "      <td>-1</td>\n",
       "      <td>0</td>\n",
       "      <td>unknown</td>\n",
       "      <td>no</td>\n",
       "    </tr>\n",
       "  </tbody>\n",
       "</table>\n",
       "</div>"
      ],
      "text/plain": [
       "   age           job  marital  education default  balance housing loan  \\\n",
       "0   58    management  married   tertiary      no     2143     yes   no   \n",
       "1   44    technician   single  secondary      no       29     yes   no   \n",
       "2   33  entrepreneur  married  secondary      no        2     yes  yes   \n",
       "3   47   blue-collar  married    unknown      no     1506     yes   no   \n",
       "4   33       unknown   single    unknown      no        1      no   no   \n",
       "\n",
       "   contact  day month  duration  campaign  pdays  previous poutcome   y  \n",
       "0  unknown    5   may       261         1     -1         0  unknown  no  \n",
       "1  unknown    5   may       151         1     -1         0  unknown  no  \n",
       "2  unknown    5   may        76         1     -1         0  unknown  no  \n",
       "3  unknown    5   may        92         1     -1         0  unknown  no  \n",
       "4  unknown    5   may       198         1     -1         0  unknown  no  "
      ]
     },
     "execution_count": 5,
     "metadata": {},
     "output_type": "execute_result"
    }
   ],
   "source": [
    "df_bank.head()"
   ]
  },
  {
   "cell_type": "code",
   "execution_count": 6,
   "id": "ae29195a",
   "metadata": {},
   "outputs": [
    {
     "data": {
      "text/plain": [
       "y\n",
       "no     39922\n",
       "yes     5289\n",
       "Name: count, dtype: int64"
      ]
     },
     "execution_count": 6,
     "metadata": {},
     "output_type": "execute_result"
    }
   ],
   "source": [
    "df_bank['y'].value_counts()"
   ]
  },
  {
   "cell_type": "code",
   "execution_count": 7,
   "id": "38510d99",
   "metadata": {},
   "outputs": [
    {
     "data": {
      "text/html": [
       "<div>\n",
       "<style scoped>\n",
       "    .dataframe tbody tr th:only-of-type {\n",
       "        vertical-align: middle;\n",
       "    }\n",
       "\n",
       "    .dataframe tbody tr th {\n",
       "        vertical-align: top;\n",
       "    }\n",
       "\n",
       "    .dataframe thead th {\n",
       "        text-align: right;\n",
       "    }\n",
       "</style>\n",
       "<table border=\"1\" class=\"dataframe\">\n",
       "  <thead>\n",
       "    <tr style=\"text-align: right;\">\n",
       "      <th></th>\n",
       "      <th>age</th>\n",
       "      <th>balance</th>\n",
       "      <th>day</th>\n",
       "      <th>duration</th>\n",
       "      <th>campaign</th>\n",
       "      <th>pdays</th>\n",
       "      <th>previous</th>\n",
       "    </tr>\n",
       "  </thead>\n",
       "  <tbody>\n",
       "    <tr>\n",
       "      <th>count</th>\n",
       "      <td>45211.000000</td>\n",
       "      <td>45211.000000</td>\n",
       "      <td>45211.000000</td>\n",
       "      <td>45211.000000</td>\n",
       "      <td>45211.000000</td>\n",
       "      <td>45211.000000</td>\n",
       "      <td>45211.000000</td>\n",
       "    </tr>\n",
       "    <tr>\n",
       "      <th>mean</th>\n",
       "      <td>40.936210</td>\n",
       "      <td>1362.272058</td>\n",
       "      <td>15.806419</td>\n",
       "      <td>258.163080</td>\n",
       "      <td>2.763841</td>\n",
       "      <td>40.197828</td>\n",
       "      <td>0.580323</td>\n",
       "    </tr>\n",
       "    <tr>\n",
       "      <th>std</th>\n",
       "      <td>10.618762</td>\n",
       "      <td>3044.765829</td>\n",
       "      <td>8.322476</td>\n",
       "      <td>257.527812</td>\n",
       "      <td>3.098021</td>\n",
       "      <td>100.128746</td>\n",
       "      <td>2.303441</td>\n",
       "    </tr>\n",
       "    <tr>\n",
       "      <th>min</th>\n",
       "      <td>18.000000</td>\n",
       "      <td>-8019.000000</td>\n",
       "      <td>1.000000</td>\n",
       "      <td>0.000000</td>\n",
       "      <td>1.000000</td>\n",
       "      <td>-1.000000</td>\n",
       "      <td>0.000000</td>\n",
       "    </tr>\n",
       "    <tr>\n",
       "      <th>25%</th>\n",
       "      <td>33.000000</td>\n",
       "      <td>72.000000</td>\n",
       "      <td>8.000000</td>\n",
       "      <td>103.000000</td>\n",
       "      <td>1.000000</td>\n",
       "      <td>-1.000000</td>\n",
       "      <td>0.000000</td>\n",
       "    </tr>\n",
       "    <tr>\n",
       "      <th>50%</th>\n",
       "      <td>39.000000</td>\n",
       "      <td>448.000000</td>\n",
       "      <td>16.000000</td>\n",
       "      <td>180.000000</td>\n",
       "      <td>2.000000</td>\n",
       "      <td>-1.000000</td>\n",
       "      <td>0.000000</td>\n",
       "    </tr>\n",
       "    <tr>\n",
       "      <th>75%</th>\n",
       "      <td>48.000000</td>\n",
       "      <td>1428.000000</td>\n",
       "      <td>21.000000</td>\n",
       "      <td>319.000000</td>\n",
       "      <td>3.000000</td>\n",
       "      <td>-1.000000</td>\n",
       "      <td>0.000000</td>\n",
       "    </tr>\n",
       "    <tr>\n",
       "      <th>max</th>\n",
       "      <td>95.000000</td>\n",
       "      <td>102127.000000</td>\n",
       "      <td>31.000000</td>\n",
       "      <td>4918.000000</td>\n",
       "      <td>63.000000</td>\n",
       "      <td>871.000000</td>\n",
       "      <td>275.000000</td>\n",
       "    </tr>\n",
       "  </tbody>\n",
       "</table>\n",
       "</div>"
      ],
      "text/plain": [
       "                age        balance           day      duration      campaign  \\\n",
       "count  45211.000000   45211.000000  45211.000000  45211.000000  45211.000000   \n",
       "mean      40.936210    1362.272058     15.806419    258.163080      2.763841   \n",
       "std       10.618762    3044.765829      8.322476    257.527812      3.098021   \n",
       "min       18.000000   -8019.000000      1.000000      0.000000      1.000000   \n",
       "25%       33.000000      72.000000      8.000000    103.000000      1.000000   \n",
       "50%       39.000000     448.000000     16.000000    180.000000      2.000000   \n",
       "75%       48.000000    1428.000000     21.000000    319.000000      3.000000   \n",
       "max       95.000000  102127.000000     31.000000   4918.000000     63.000000   \n",
       "\n",
       "              pdays      previous  \n",
       "count  45211.000000  45211.000000  \n",
       "mean      40.197828      0.580323  \n",
       "std      100.128746      2.303441  \n",
       "min       -1.000000      0.000000  \n",
       "25%       -1.000000      0.000000  \n",
       "50%       -1.000000      0.000000  \n",
       "75%       -1.000000      0.000000  \n",
       "max      871.000000    275.000000  "
      ]
     },
     "execution_count": 7,
     "metadata": {},
     "output_type": "execute_result"
    }
   ],
   "source": [
    "df_bank.describe()"
   ]
  },
  {
   "cell_type": "code",
   "execution_count": 8,
   "id": "994e2102",
   "metadata": {},
   "outputs": [],
   "source": [
    "lista_numericas = ['age','balance','duration','day','pdays','previous','campaign']"
   ]
  },
  {
   "cell_type": "code",
   "execution_count": 9,
   "id": "5c0a39a8",
   "metadata": {},
   "outputs": [],
   "source": [
    "lista_categoricas = ['job','marital','education','contact','month','poutcome']"
   ]
  },
  {
   "cell_type": "code",
   "execution_count": 10,
   "id": "9c1e7516",
   "metadata": {},
   "outputs": [],
   "source": [
    "categoricas_binarias = ['default','housing','loan','y']"
   ]
  },
  {
   "cell_type": "code",
   "execution_count": 11,
   "id": "28aebd20",
   "metadata": {},
   "outputs": [],
   "source": [
    "# Cambiamos las variabes binarias a si/no\n",
    "\n",
    "for i in categoricas_binarias:\n",
    "    df_bank[i] = [0 if x == 'no' else 1 for x in df_bank[i]]"
   ]
  },
  {
   "cell_type": "code",
   "execution_count": 12,
   "id": "eada35d9",
   "metadata": {},
   "outputs": [
    {
     "data": {
      "image/png": "[encoded data removed]",
      "text/plain": [
       "<Figure size 640x480 with 1 Axes>"
      ]
     },
     "metadata": {},
     "output_type": "display_data"
    },
    {
     "data": {
      "image/png": "[encoded data removed]",
      "text/plain": [
       "<Figure size 640x480 with 1 Axes>"
      ]
     },
     "metadata": {},
     "output_type": "display_data"
    },
    {
     "data": {
      "image/png": "[encoded data removed]",
      "text/plain": [
       "<Figure size 640x480 with 1 Axes>"
      ]
     },
     "metadata": {},
     "output_type": "display_data"
    },
    {
     "data": {
      "image/png": "[encoded data removed]",
      "text/plain": [
       "<Figure size 640x480 with 1 Axes>"
      ]
     },
     "metadata": {},
     "output_type": "display_data"
    },
    {
     "data": {
      "image/png": "[encoded data removed]",
      "text/plain": [
       "<Figure size 640x480 with 1 Axes>"
      ]
     },
     "metadata": {},
     "output_type": "display_data"
    },
    {
     "data": {
      "image/png": "[encoded data removed]",
      "text/plain": [
       "<Figure size 640x480 with 1 Axes>"
      ]
     },
     "metadata": {},
     "output_type": "display_data"
    },
    {
     "data": {
      "image/png": "[encoded data removed]",
      "text/plain": [
       "<Figure size 640x480 with 1 Axes>"
      ]
     },
     "metadata": {},
     "output_type": "display_data"
    }
   ],
   "source": [
    "for i in lista_numericas:\n",
    "    plt.hist(df_bank[i])\n",
    "    plt.title(f'Histograma {i}')\n",
    "    plt.show()\n"
   ]
  },
  {
   "cell_type": "code",
   "execution_count": 13,
   "id": "3fc877da",
   "metadata": {},
   "outputs": [
    {
     "data": {
      "text/plain": [
       "age          0\n",
       "job          0\n",
       "marital      0\n",
       "education    0\n",
       "default      0\n",
       "balance      0\n",
       "housing      0\n",
       "loan         0\n",
       "contact      0\n",
       "day          0\n",
       "month        0\n",
       "duration     0\n",
       "campaign     0\n",
       "pdays        0\n",
       "previous     0\n",
       "poutcome     0\n",
       "y            0\n",
       "dtype: int64"
      ]
     },
     "execution_count": 13,
     "metadata": {},
     "output_type": "execute_result"
    }
   ],
   "source": [
    "df_bank.isnull().sum()"
   ]
  },
  {
   "cell_type": "markdown",
   "id": "a9d79036",
   "metadata": {},
   "source": [
    "### Preprocesado rápido"
   ]
  },
  {
   "cell_type": "code",
   "execution_count": 14,
   "id": "b4fd5c24",
   "metadata": {},
   "outputs": [],
   "source": [
    "# transformamos las variables a dummies\n",
    "\n",
    "for i in lista_categoricas:\n",
    "    dummies = pd.get_dummies(df_bank[i],prefix = i, dtype=int)\n",
    "    df_bank = pd.concat([df_bank,dummies], axis =1)"
   ]
  },
  {
   "cell_type": "code",
   "execution_count": 15,
   "id": "b7b810bb",
   "metadata": {},
   "outputs": [
    {
     "data": {
      "text/html": [
       "<div>\n",
       "<style scoped>\n",
       "    .dataframe tbody tr th:only-of-type {\n",
       "        vertical-align: middle;\n",
       "    }\n",
       "\n",
       "    .dataframe tbody tr th {\n",
       "        vertical-align: top;\n",
       "    }\n",
       "\n",
       "    .dataframe thead th {\n",
       "        text-align: right;\n",
       "    }\n",
       "</style>\n",
       "<table border=\"1\" class=\"dataframe\">\n",
       "  <thead>\n",
       "    <tr style=\"text-align: right;\">\n",
       "      <th></th>\n",
       "      <th>age</th>\n",
       "      <th>job</th>\n",
       "      <th>marital</th>\n",
       "      <th>education</th>\n",
       "      <th>default</th>\n",
       "      <th>balance</th>\n",
       "      <th>housing</th>\n",
       "      <th>loan</th>\n",
       "      <th>contact</th>\n",
       "      <th>day</th>\n",
       "      <th>...</th>\n",
       "      <th>month_jun</th>\n",
       "      <th>month_mar</th>\n",
       "      <th>month_may</th>\n",
       "      <th>month_nov</th>\n",
       "      <th>month_oct</th>\n",
       "      <th>month_sep</th>\n",
       "      <th>poutcome_failure</th>\n",
       "      <th>poutcome_other</th>\n",
       "      <th>poutcome_success</th>\n",
       "      <th>poutcome_unknown</th>\n",
       "    </tr>\n",
       "  </thead>\n",
       "  <tbody>\n",
       "    <tr>\n",
       "      <th>0</th>\n",
       "      <td>58</td>\n",
       "      <td>management</td>\n",
       "      <td>married</td>\n",
       "      <td>tertiary</td>\n",
       "      <td>0</td>\n",
       "      <td>2143</td>\n",
       "      <td>1</td>\n",
       "      <td>0</td>\n",
       "      <td>unknown</td>\n",
       "      <td>5</td>\n",
       "      <td>...</td>\n",
       "      <td>0</td>\n",
       "      <td>0</td>\n",
       "      <td>1</td>\n",
       "      <td>0</td>\n",
       "      <td>0</td>\n",
       "      <td>0</td>\n",
       "      <td>0</td>\n",
       "      <td>0</td>\n",
       "      <td>0</td>\n",
       "      <td>1</td>\n",
       "    </tr>\n",
       "    <tr>\n",
       "      <th>1</th>\n",
       "      <td>44</td>\n",
       "      <td>technician</td>\n",
       "      <td>single</td>\n",
       "      <td>secondary</td>\n",
       "      <td>0</td>\n",
       "      <td>29</td>\n",
       "      <td>1</td>\n",
       "      <td>0</td>\n",
       "      <td>unknown</td>\n",
       "      <td>5</td>\n",
       "      <td>...</td>\n",
       "      <td>0</td>\n",
       "      <td>0</td>\n",
       "      <td>1</td>\n",
       "      <td>0</td>\n",
       "      <td>0</td>\n",
       "      <td>0</td>\n",
       "      <td>0</td>\n",
       "      <td>0</td>\n",
       "      <td>0</td>\n",
       "      <td>1</td>\n",
       "    </tr>\n",
       "    <tr>\n",
       "      <th>2</th>\n",
       "      <td>33</td>\n",
       "      <td>entrepreneur</td>\n",
       "      <td>married</td>\n",
       "      <td>secondary</td>\n",
       "      <td>0</td>\n",
       "      <td>2</td>\n",
       "      <td>1</td>\n",
       "      <td>1</td>\n",
       "      <td>unknown</td>\n",
       "      <td>5</td>\n",
       "      <td>...</td>\n",
       "      <td>0</td>\n",
       "      <td>0</td>\n",
       "      <td>1</td>\n",
       "      <td>0</td>\n",
       "      <td>0</td>\n",
       "      <td>0</td>\n",
       "      <td>0</td>\n",
       "      <td>0</td>\n",
       "      <td>0</td>\n",
       "      <td>1</td>\n",
       "    </tr>\n",
       "    <tr>\n",
       "      <th>3</th>\n",
       "      <td>47</td>\n",
       "      <td>blue-collar</td>\n",
       "      <td>married</td>\n",
       "      <td>unknown</td>\n",
       "      <td>0</td>\n",
       "      <td>1506</td>\n",
       "      <td>1</td>\n",
       "      <td>0</td>\n",
       "      <td>unknown</td>\n",
       "      <td>5</td>\n",
       "      <td>...</td>\n",
       "      <td>0</td>\n",
       "      <td>0</td>\n",
       "      <td>1</td>\n",
       "      <td>0</td>\n",
       "      <td>0</td>\n",
       "      <td>0</td>\n",
       "      <td>0</td>\n",
       "      <td>0</td>\n",
       "      <td>0</td>\n",
       "      <td>1</td>\n",
       "    </tr>\n",
       "    <tr>\n",
       "      <th>4</th>\n",
       "      <td>33</td>\n",
       "      <td>unknown</td>\n",
       "      <td>single</td>\n",
       "      <td>unknown</td>\n",
       "      <td>0</td>\n",
       "      <td>1</td>\n",
       "      <td>0</td>\n",
       "      <td>0</td>\n",
       "      <td>unknown</td>\n",
       "      <td>5</td>\n",
       "      <td>...</td>\n",
       "      <td>0</td>\n",
       "      <td>0</td>\n",
       "      <td>1</td>\n",
       "      <td>0</td>\n",
       "      <td>0</td>\n",
       "      <td>0</td>\n",
       "      <td>0</td>\n",
       "      <td>0</td>\n",
       "      <td>0</td>\n",
       "      <td>1</td>\n",
       "    </tr>\n",
       "  </tbody>\n",
       "</table>\n",
       "<p>5 rows × 55 columns</p>\n",
       "</div>"
      ],
      "text/plain": [
       "   age           job  marital  education  default  balance  housing  loan  \\\n",
       "0   58    management  married   tertiary        0     2143        1     0   \n",
       "1   44    technician   single  secondary        0       29        1     0   \n",
       "2   33  entrepreneur  married  secondary        0        2        1     1   \n",
       "3   47   blue-collar  married    unknown        0     1506        1     0   \n",
       "4   33       unknown   single    unknown        0        1        0     0   \n",
       "\n",
       "   contact  day  ... month_jun  month_mar  month_may  month_nov  month_oct  \\\n",
       "0  unknown    5  ...         0          0          1          0          0   \n",
       "1  unknown    5  ...         0          0          1          0          0   \n",
       "2  unknown    5  ...         0          0          1          0          0   \n",
       "3  unknown    5  ...         0          0          1          0          0   \n",
       "4  unknown    5  ...         0          0          1          0          0   \n",
       "\n",
       "  month_sep  poutcome_failure  poutcome_other  poutcome_success  \\\n",
       "0         0                 0               0                 0   \n",
       "1         0                 0               0                 0   \n",
       "2         0                 0               0                 0   \n",
       "3         0                 0               0                 0   \n",
       "4         0                 0               0                 0   \n",
       "\n",
       "   poutcome_unknown  \n",
       "0                 1  \n",
       "1                 1  \n",
       "2                 1  \n",
       "3                 1  \n",
       "4                 1  \n",
       "\n",
       "[5 rows x 55 columns]"
      ]
     },
     "execution_count": 15,
     "metadata": {},
     "output_type": "execute_result"
    }
   ],
   "source": [
    "df_bank.head()"
   ]
  },
  {
   "cell_type": "code",
   "execution_count": 16,
   "id": "bf6773b0",
   "metadata": {},
   "outputs": [],
   "source": [
    "le = LabelEncoder()"
   ]
  },
  {
   "cell_type": "code",
   "execution_count": 17,
   "id": "fca456be",
   "metadata": {},
   "outputs": [
    {
     "name": "stderr",
     "output_type": "stream",
     "text": [
      "C:\\Users\\pauri\\AppData\\Local\\Temp\\ipykernel_5280\\816278784.py:2: FutureWarning: A value is trying to be set on a copy of a DataFrame or Series through chained assignment using an inplace method.\n",
      "The behavior will change in pandas 3.0. This inplace method will never work because the intermediate object on which we are setting values always behaves as a copy.\n",
      "\n",
      "For example, when doing 'df[col].method(value, inplace=True)', try using 'df.method({col: value}, inplace=True)' or df[col] = df[col].method(value) instead, to perform the operation inplace on the original object.\n",
      "\n",
      "\n",
      "  df_bank.month.replace(('jan','feb','mar','apr','may','jun','jul','aug','sep','oct','nov','dec'),\n",
      "C:\\Users\\pauri\\AppData\\Local\\Temp\\ipykernel_5280\\816278784.py:2: FutureWarning: Downcasting behavior in `replace` is deprecated and will be removed in a future version. To retain the old behavior, explicitly call `result.infer_objects(copy=False)`. To opt-in to the future behavior, set `pd.set_option('future.no_silent_downcasting', True)`\n",
      "  df_bank.month.replace(('jan','feb','mar','apr','may','jun','jul','aug','sep','oct','nov','dec'),\n",
      "C:\\Users\\pauri\\AppData\\Local\\Temp\\ipykernel_5280\\816278784.py:5: FutureWarning: A value is trying to be set on a copy of a DataFrame or Series through chained assignment using an inplace method.\n",
      "The behavior will change in pandas 3.0. This inplace method will never work because the intermediate object on which we are setting values always behaves as a copy.\n",
      "\n",
      "For example, when doing 'df[col].method(value, inplace=True)', try using 'df.method({col: value}, inplace=True)' or df[col] = df[col].method(value) instead, to perform the operation inplace on the original object.\n",
      "\n",
      "\n",
      "  df_bank.education.replace(('primary','secondary','tertiary','unknown'),\n",
      "C:\\Users\\pauri\\AppData\\Local\\Temp\\ipykernel_5280\\816278784.py:5: FutureWarning: Downcasting behavior in `replace` is deprecated and will be removed in a future version. To retain the old behavior, explicitly call `result.infer_objects(copy=False)`. To opt-in to the future behavior, set `pd.set_option('future.no_silent_downcasting', True)`\n",
      "  df_bank.education.replace(('primary','secondary','tertiary','unknown'),\n",
      "C:\\Users\\pauri\\AppData\\Local\\Temp\\ipykernel_5280\\816278784.py:8: FutureWarning: A value is trying to be set on a copy of a DataFrame or Series through chained assignment using an inplace method.\n",
      "The behavior will change in pandas 3.0. This inplace method will never work because the intermediate object on which we are setting values always behaves as a copy.\n",
      "\n",
      "For example, when doing 'df[col].method(value, inplace=True)', try using 'df.method({col: value}, inplace=True)' or df[col] = df[col].method(value) instead, to perform the operation inplace on the original object.\n",
      "\n",
      "\n",
      "  df_bank.marital.replace(('married','single','divorced'),\n",
      "C:\\Users\\pauri\\AppData\\Local\\Temp\\ipykernel_5280\\816278784.py:8: FutureWarning: Downcasting behavior in `replace` is deprecated and will be removed in a future version. To retain the old behavior, explicitly call `result.infer_objects(copy=False)`. To opt-in to the future behavior, set `pd.set_option('future.no_silent_downcasting', True)`\n",
      "  df_bank.marital.replace(('married','single','divorced'),\n",
      "C:\\Users\\pauri\\AppData\\Local\\Temp\\ipykernel_5280\\816278784.py:11: FutureWarning: A value is trying to be set on a copy of a DataFrame or Series through chained assignment using an inplace method.\n",
      "The behavior will change in pandas 3.0. This inplace method will never work because the intermediate object on which we are setting values always behaves as a copy.\n",
      "\n",
      "For example, when doing 'df[col].method(value, inplace=True)', try using 'df.method({col: value}, inplace=True)' or df[col] = df[col].method(value) instead, to perform the operation inplace on the original object.\n",
      "\n",
      "\n",
      "  df_bank.contact.replace(('cellular','unknown','telephone'),\n",
      "C:\\Users\\pauri\\AppData\\Local\\Temp\\ipykernel_5280\\816278784.py:11: FutureWarning: Downcasting behavior in `replace` is deprecated and will be removed in a future version. To retain the old behavior, explicitly call `result.infer_objects(copy=False)`. To opt-in to the future behavior, set `pd.set_option('future.no_silent_downcasting', True)`\n",
      "  df_bank.contact.replace(('cellular','unknown','telephone'),\n",
      "C:\\Users\\pauri\\AppData\\Local\\Temp\\ipykernel_5280\\816278784.py:14: FutureWarning: A value is trying to be set on a copy of a DataFrame or Series through chained assignment using an inplace method.\n",
      "The behavior will change in pandas 3.0. This inplace method will never work because the intermediate object on which we are setting values always behaves as a copy.\n",
      "\n",
      "For example, when doing 'df[col].method(value, inplace=True)', try using 'df.method({col: value}, inplace=True)' or df[col] = df[col].method(value) instead, to perform the operation inplace on the original object.\n",
      "\n",
      "\n",
      "  df_bank.poutcome.replace(('failure','unknown','other','success'),\n",
      "C:\\Users\\pauri\\AppData\\Local\\Temp\\ipykernel_5280\\816278784.py:14: FutureWarning: Downcasting behavior in `replace` is deprecated and will be removed in a future version. To retain the old behavior, explicitly call `result.infer_objects(copy=False)`. To opt-in to the future behavior, set `pd.set_option('future.no_silent_downcasting', True)`\n",
      "  df_bank.poutcome.replace(('failure','unknown','other','success'),\n"
     ]
    }
   ],
   "source": [
    "## También a numéricas\n",
    "df_bank.month.replace(('jan','feb','mar','apr','may','jun','jul','aug','sep','oct','nov','dec'),\n",
    "                      (1,2,3,4,5,6,7,8,9,10,11,12),inplace=True)\n",
    "\n",
    "df_bank.education.replace(('primary','secondary','tertiary','unknown'),\n",
    "                      (1,2,3,4),inplace=True)\n",
    "\n",
    "df_bank.marital.replace(('married','single','divorced'),\n",
    "                      (1,2,3),inplace=True)\n",
    "\n",
    "df_bank.contact.replace(('cellular','unknown','telephone'),\n",
    "                      (1,2,3),inplace=True)\n",
    "\n",
    "df_bank.poutcome.replace(('failure','unknown','other','success'),\n",
    "                      (1,2,3,4),inplace=True) "
   ]
  },
  {
   "cell_type": "code",
   "execution_count": 18,
   "id": "c2a572a7",
   "metadata": {},
   "outputs": [
    {
     "data": {
      "text/plain": [
       "array(['admin.', 'blue-collar', 'entrepreneur', 'housemaid', 'management',\n",
       "       'retired', 'self-employed', 'services', 'student', 'technician',\n",
       "       'unemployed', 'unknown'], dtype=object)"
      ]
     },
     "execution_count": 18,
     "metadata": {},
     "output_type": "execute_result"
    }
   ],
   "source": [
    "le.fit(df_bank.job.unique())\n",
    "le.classes_"
   ]
  },
  {
   "cell_type": "code",
   "execution_count": 19,
   "id": "3633facf",
   "metadata": {},
   "outputs": [
    {
     "data": {
      "text/plain": [
       "0      management\n",
       "1      technician\n",
       "2    entrepreneur\n",
       "3     blue-collar\n",
       "4         unknown\n",
       "Name: job, dtype: object"
      ]
     },
     "execution_count": 19,
     "metadata": {},
     "output_type": "execute_result"
    }
   ],
   "source": [
    "df_bank['job'].head()"
   ]
  },
  {
   "cell_type": "code",
   "execution_count": 20,
   "id": "492bf023",
   "metadata": {},
   "outputs": [
    {
     "data": {
      "text/plain": [
       "array([4, 9, 2, ..., 5, 1, 2], shape=(45211,))"
      ]
     },
     "execution_count": 20,
     "metadata": {},
     "output_type": "execute_result"
    }
   ],
   "source": [
    "le.transform(df_bank.job)"
   ]
  },
  {
   "cell_type": "code",
   "execution_count": 21,
   "id": "a105a75d",
   "metadata": {},
   "outputs": [],
   "source": [
    "df_bank['job'] = le.transform(df_bank.job)"
   ]
  },
  {
   "cell_type": "code",
   "execution_count": 22,
   "id": "887eb5b4",
   "metadata": {},
   "outputs": [
    {
     "data": {
      "text/plain": [
       "0     4\n",
       "1     9\n",
       "2     2\n",
       "3     1\n",
       "4    11\n",
       "Name: job, dtype: int64"
      ]
     },
     "execution_count": 22,
     "metadata": {},
     "output_type": "execute_result"
    }
   ],
   "source": [
    "df_bank['job'].head()"
   ]
  },
  {
   "cell_type": "code",
   "execution_count": 23,
   "id": "6255bd0e",
   "metadata": {},
   "outputs": [
    {
     "data": {
      "text/html": [
       "<style type=\"text/css\">\n",
       "#T_cfe55_row0_col0 {\n",
       "  background-color: #023858;\n",
       "  color: #f1f1f1;\n",
       "}\n",
       "#T_cfe55_row1_col0 {\n",
       "  background-color: #9fbad9;\n",
       "  color: #000000;\n",
       "}\n",
       "#T_cfe55_row2_col0 {\n",
       "  background-color: #bdc8e1;\n",
       "  color: #000000;\n",
       "}\n",
       "#T_cfe55_row3_col0 {\n",
       "  background-color: #d9d8ea;\n",
       "  color: #000000;\n",
       "}\n",
       "#T_cfe55_row4_col0 {\n",
       "  background-color: #e3e0ee;\n",
       "  color: #000000;\n",
       "}\n",
       "#T_cfe55_row5_col0 {\n",
       "  background-color: #e7e3f0;\n",
       "  color: #000000;\n",
       "}\n",
       "#T_cfe55_row6_col0 {\n",
       "  background-color: #e9e5f1;\n",
       "  color: #000000;\n",
       "}\n",
       "#T_cfe55_row7_col0 {\n",
       "  background-color: #eae6f1;\n",
       "  color: #000000;\n",
       "}\n",
       "#T_cfe55_row8_col0 {\n",
       "  background-color: #ebe6f2;\n",
       "  color: #000000;\n",
       "}\n",
       "#T_cfe55_row9_col0 {\n",
       "  background-color: #ece7f2;\n",
       "  color: #000000;\n",
       "}\n",
       "#T_cfe55_row10_col0 {\n",
       "  background-color: #ede7f2;\n",
       "  color: #000000;\n",
       "}\n",
       "#T_cfe55_row11_col0, #T_cfe55_row12_col0, #T_cfe55_row13_col0 {\n",
       "  background-color: #f0eaf4;\n",
       "  color: #000000;\n",
       "}\n",
       "#T_cfe55_row14_col0 {\n",
       "  background-color: #f1ebf5;\n",
       "  color: #000000;\n",
       "}\n",
       "#T_cfe55_row15_col0 {\n",
       "  background-color: #f3edf5;\n",
       "  color: #000000;\n",
       "}\n",
       "#T_cfe55_row16_col0, #T_cfe55_row17_col0 {\n",
       "  background-color: #f4edf6;\n",
       "  color: #000000;\n",
       "}\n",
       "#T_cfe55_row18_col0, #T_cfe55_row19_col0 {\n",
       "  background-color: #f4eef6;\n",
       "  color: #000000;\n",
       "}\n",
       "#T_cfe55_row20_col0 {\n",
       "  background-color: #f5eef6;\n",
       "  color: #000000;\n",
       "}\n",
       "#T_cfe55_row21_col0, #T_cfe55_row22_col0, #T_cfe55_row23_col0, #T_cfe55_row24_col0 {\n",
       "  background-color: #f5eff6;\n",
       "  color: #000000;\n",
       "}\n",
       "#T_cfe55_row25_col0 {\n",
       "  background-color: #f6eff7;\n",
       "  color: #000000;\n",
       "}\n",
       "#T_cfe55_row26_col0 {\n",
       "  background-color: #f7f0f7;\n",
       "  color: #000000;\n",
       "}\n",
       "#T_cfe55_row27_col0 {\n",
       "  background-color: #f8f1f8;\n",
       "  color: #000000;\n",
       "}\n",
       "#T_cfe55_row28_col0, #T_cfe55_row29_col0 {\n",
       "  background-color: #f9f2f8;\n",
       "  color: #000000;\n",
       "}\n",
       "#T_cfe55_row30_col0, #T_cfe55_row31_col0 {\n",
       "  background-color: #faf2f8;\n",
       "  color: #000000;\n",
       "}\n",
       "#T_cfe55_row32_col0, #T_cfe55_row33_col0, #T_cfe55_row34_col0 {\n",
       "  background-color: #faf3f9;\n",
       "  color: #000000;\n",
       "}\n",
       "#T_cfe55_row35_col0, #T_cfe55_row36_col0 {\n",
       "  background-color: #fbf3f9;\n",
       "  color: #000000;\n",
       "}\n",
       "#T_cfe55_row37_col0 {\n",
       "  background-color: #fbf4f9;\n",
       "  color: #000000;\n",
       "}\n",
       "#T_cfe55_row38_col0, #T_cfe55_row39_col0 {\n",
       "  background-color: #fcf4fa;\n",
       "  color: #000000;\n",
       "}\n",
       "#T_cfe55_row40_col0, #T_cfe55_row41_col0, #T_cfe55_row42_col0, #T_cfe55_row43_col0, #T_cfe55_row44_col0, #T_cfe55_row45_col0, #T_cfe55_row46_col0 {\n",
       "  background-color: #fdf5fa;\n",
       "  color: #000000;\n",
       "}\n",
       "#T_cfe55_row47_col0, #T_cfe55_row48_col0, #T_cfe55_row49_col0, #T_cfe55_row50_col0 {\n",
       "  background-color: #fef6fa;\n",
       "  color: #000000;\n",
       "}\n",
       "#T_cfe55_row51_col0 {\n",
       "  background-color: #fef6fb;\n",
       "  color: #000000;\n",
       "}\n",
       "#T_cfe55_row52_col0, #T_cfe55_row53_col0, #T_cfe55_row54_col0 {\n",
       "  background-color: #fff7fb;\n",
       "  color: #000000;\n",
       "}\n",
       "</style>\n",
       "<table id=\"T_cfe55\">\n",
       "  <thead>\n",
       "    <tr>\n",
       "      <th class=\"blank level0\" >&nbsp;</th>\n",
       "      <th id=\"T_cfe55_level0_col0\" class=\"col_heading level0 col0\" >y</th>\n",
       "    </tr>\n",
       "  </thead>\n",
       "  <tbody>\n",
       "    <tr>\n",
       "      <th id=\"T_cfe55_level0_row0\" class=\"row_heading level0 row0\" >y</th>\n",
       "      <td id=\"T_cfe55_row0_col0\" class=\"data row0 col0\" >1.000000</td>\n",
       "    </tr>\n",
       "    <tr>\n",
       "      <th id=\"T_cfe55_level0_row1\" class=\"row_heading level0 row1\" >duration</th>\n",
       "      <td id=\"T_cfe55_row1_col0\" class=\"data row1 col0\" >0.394521</td>\n",
       "    </tr>\n",
       "    <tr>\n",
       "      <th id=\"T_cfe55_level0_row2\" class=\"row_heading level0 row2\" >poutcome_success</th>\n",
       "      <td id=\"T_cfe55_row2_col0\" class=\"data row2 col0\" >0.306788</td>\n",
       "    </tr>\n",
       "    <tr>\n",
       "      <th id=\"T_cfe55_level0_row3\" class=\"row_heading level0 row3\" >poutcome</th>\n",
       "      <td id=\"T_cfe55_row3_col0\" class=\"data row3 col0\" >0.213476</td>\n",
       "    </tr>\n",
       "    <tr>\n",
       "      <th id=\"T_cfe55_level0_row4\" class=\"row_heading level0 row4\" >poutcome_unknown</th>\n",
       "      <td id=\"T_cfe55_row4_col0\" class=\"data row4 col0\" >0.167051</td>\n",
       "    </tr>\n",
       "    <tr>\n",
       "      <th id=\"T_cfe55_level0_row5\" class=\"row_heading level0 row5\" >contact_unknown</th>\n",
       "      <td id=\"T_cfe55_row5_col0\" class=\"data row5 col0\" >0.150935</td>\n",
       "    </tr>\n",
       "    <tr>\n",
       "      <th id=\"T_cfe55_level0_row6\" class=\"row_heading level0 row6\" >housing</th>\n",
       "      <td id=\"T_cfe55_row6_col0\" class=\"data row6 col0\" >0.139173</td>\n",
       "    </tr>\n",
       "    <tr>\n",
       "      <th id=\"T_cfe55_level0_row7\" class=\"row_heading level0 row7\" >contact_cellular</th>\n",
       "      <td id=\"T_cfe55_row7_col0\" class=\"data row7 col0\" >0.135873</td>\n",
       "    </tr>\n",
       "    <tr>\n",
       "      <th id=\"T_cfe55_level0_row8\" class=\"row_heading level0 row8\" >month_mar</th>\n",
       "      <td id=\"T_cfe55_row8_col0\" class=\"data row8 col0\" >0.129456</td>\n",
       "    </tr>\n",
       "    <tr>\n",
       "      <th id=\"T_cfe55_level0_row9\" class=\"row_heading level0 row9\" >month_oct</th>\n",
       "      <td id=\"T_cfe55_row9_col0\" class=\"data row9 col0\" >0.128531</td>\n",
       "    </tr>\n",
       "    <tr>\n",
       "      <th id=\"T_cfe55_level0_row10\" class=\"row_heading level0 row10\" >month_sep</th>\n",
       "      <td id=\"T_cfe55_row10_col0\" class=\"data row10 col0\" >0.123185</td>\n",
       "    </tr>\n",
       "    <tr>\n",
       "      <th id=\"T_cfe55_level0_row11\" class=\"row_heading level0 row11\" >pdays</th>\n",
       "      <td id=\"T_cfe55_row11_col0\" class=\"data row11 col0\" >0.103621</td>\n",
       "    </tr>\n",
       "    <tr>\n",
       "      <th id=\"T_cfe55_level0_row12\" class=\"row_heading level0 row12\" >month_may</th>\n",
       "      <td id=\"T_cfe55_row12_col0\" class=\"data row12 col0\" >0.102500</td>\n",
       "    </tr>\n",
       "    <tr>\n",
       "      <th id=\"T_cfe55_level0_row13\" class=\"row_heading level0 row13\" >contact</th>\n",
       "      <td id=\"T_cfe55_row13_col0\" class=\"data row13 col0\" >0.100822</td>\n",
       "    </tr>\n",
       "    <tr>\n",
       "      <th id=\"T_cfe55_level0_row14\" class=\"row_heading level0 row14\" >previous</th>\n",
       "      <td id=\"T_cfe55_row14_col0\" class=\"data row14 col0\" >0.093236</td>\n",
       "    </tr>\n",
       "    <tr>\n",
       "      <th id=\"T_cfe55_level0_row15\" class=\"row_heading level0 row15\" >job_retired</th>\n",
       "      <td id=\"T_cfe55_row15_col0\" class=\"data row15 col0\" >0.079245</td>\n",
       "    </tr>\n",
       "    <tr>\n",
       "      <th id=\"T_cfe55_level0_row16\" class=\"row_heading level0 row16\" >job_student</th>\n",
       "      <td id=\"T_cfe55_row16_col0\" class=\"data row16 col0\" >0.076897</td>\n",
       "    </tr>\n",
       "    <tr>\n",
       "      <th id=\"T_cfe55_level0_row17\" class=\"row_heading level0 row17\" >month_dec</th>\n",
       "      <td id=\"T_cfe55_row17_col0\" class=\"data row17 col0\" >0.075164</td>\n",
       "    </tr>\n",
       "    <tr>\n",
       "      <th id=\"T_cfe55_level0_row18\" class=\"row_heading level0 row18\" >campaign</th>\n",
       "      <td id=\"T_cfe55_row18_col0\" class=\"data row18 col0\" >0.073172</td>\n",
       "    </tr>\n",
       "    <tr>\n",
       "      <th id=\"T_cfe55_level0_row19\" class=\"row_heading level0 row19\" >job_blue-collar</th>\n",
       "      <td id=\"T_cfe55_row19_col0\" class=\"data row19 col0\" >0.072083</td>\n",
       "    </tr>\n",
       "    <tr>\n",
       "      <th id=\"T_cfe55_level0_row20\" class=\"row_heading level0 row20\" >loan</th>\n",
       "      <td id=\"T_cfe55_row20_col0\" class=\"data row20 col0\" >0.068185</td>\n",
       "    </tr>\n",
       "    <tr>\n",
       "      <th id=\"T_cfe55_level0_row21\" class=\"row_heading level0 row21\" >education_tertiary</th>\n",
       "      <td id=\"T_cfe55_row21_col0\" class=\"data row21 col0\" >0.066448</td>\n",
       "    </tr>\n",
       "    <tr>\n",
       "      <th id=\"T_cfe55_level0_row22\" class=\"row_heading level0 row22\" >education</th>\n",
       "      <td id=\"T_cfe55_row22_col0\" class=\"data row22 col0\" >0.066241</td>\n",
       "    </tr>\n",
       "    <tr>\n",
       "      <th id=\"T_cfe55_level0_row23\" class=\"row_heading level0 row23\" >month_apr</th>\n",
       "      <td id=\"T_cfe55_row23_col0\" class=\"data row23 col0\" >0.065392</td>\n",
       "    </tr>\n",
       "    <tr>\n",
       "      <th id=\"T_cfe55_level0_row24\" class=\"row_heading level0 row24\" >marital_single</th>\n",
       "      <td id=\"T_cfe55_row24_col0\" class=\"data row24 col0\" >0.063526</td>\n",
       "    </tr>\n",
       "    <tr>\n",
       "      <th id=\"T_cfe55_level0_row25\" class=\"row_heading level0 row25\" >marital_married</th>\n",
       "      <td id=\"T_cfe55_row25_col0\" class=\"data row25 col0\" >0.060260</td>\n",
       "    </tr>\n",
       "    <tr>\n",
       "      <th id=\"T_cfe55_level0_row26\" class=\"row_heading level0 row26\" >balance</th>\n",
       "      <td id=\"T_cfe55_row26_col0\" class=\"data row26 col0\" >0.052838</td>\n",
       "    </tr>\n",
       "    <tr>\n",
       "      <th id=\"T_cfe55_level0_row27\" class=\"row_heading level0 row27\" >marital</th>\n",
       "      <td id=\"T_cfe55_row27_col0\" class=\"data row27 col0\" >0.043846</td>\n",
       "    </tr>\n",
       "    <tr>\n",
       "      <th id=\"T_cfe55_level0_row28\" class=\"row_heading level0 row28\" >job</th>\n",
       "      <td id=\"T_cfe55_row28_col0\" class=\"data row28 col0\" >0.040438</td>\n",
       "    </tr>\n",
       "    <tr>\n",
       "      <th id=\"T_cfe55_level0_row29\" class=\"row_heading level0 row29\" >education_primary</th>\n",
       "      <td id=\"T_cfe55_row29_col0\" class=\"data row29 col0\" >0.040393</td>\n",
       "    </tr>\n",
       "    <tr>\n",
       "      <th id=\"T_cfe55_level0_row30\" class=\"row_heading level0 row30\" >month_feb</th>\n",
       "      <td id=\"T_cfe55_row30_col0\" class=\"data row30 col0\" >0.038417</td>\n",
       "    </tr>\n",
       "    <tr>\n",
       "      <th id=\"T_cfe55_level0_row31\" class=\"row_heading level0 row31\" >education_secondary</th>\n",
       "      <td id=\"T_cfe55_row31_col0\" class=\"data row31 col0\" >0.036388</td>\n",
       "    </tr>\n",
       "    <tr>\n",
       "      <th id=\"T_cfe55_level0_row32\" class=\"row_heading level0 row32\" >month_jul</th>\n",
       "      <td id=\"T_cfe55_row32_col0\" class=\"data row32 col0\" >0.034382</td>\n",
       "    </tr>\n",
       "    <tr>\n",
       "      <th id=\"T_cfe55_level0_row33\" class=\"row_heading level0 row33\" >job_management</th>\n",
       "      <td id=\"T_cfe55_row33_col0\" class=\"data row33 col0\" >0.032919</td>\n",
       "    </tr>\n",
       "    <tr>\n",
       "      <th id=\"T_cfe55_level0_row34\" class=\"row_heading level0 row34\" >poutcome_other</th>\n",
       "      <td id=\"T_cfe55_row34_col0\" class=\"data row34 col0\" >0.031955</td>\n",
       "    </tr>\n",
       "    <tr>\n",
       "      <th id=\"T_cfe55_level0_row35\" class=\"row_heading level0 row35\" >day</th>\n",
       "      <td id=\"T_cfe55_row35_col0\" class=\"data row35 col0\" >0.028348</td>\n",
       "    </tr>\n",
       "    <tr>\n",
       "      <th id=\"T_cfe55_level0_row36\" class=\"row_heading level0 row36\" >job_services</th>\n",
       "      <td id=\"T_cfe55_row36_col0\" class=\"data row36 col0\" >0.027864</td>\n",
       "    </tr>\n",
       "    <tr>\n",
       "      <th id=\"T_cfe55_level0_row37\" class=\"row_heading level0 row37\" >age</th>\n",
       "      <td id=\"T_cfe55_row37_col0\" class=\"data row37 col0\" >0.025155</td>\n",
       "    </tr>\n",
       "    <tr>\n",
       "      <th id=\"T_cfe55_level0_row38\" class=\"row_heading level0 row38\" >default</th>\n",
       "      <td id=\"T_cfe55_row38_col0\" class=\"data row38 col0\" >0.022419</td>\n",
       "    </tr>\n",
       "    <tr>\n",
       "      <th id=\"T_cfe55_level0_row39\" class=\"row_heading level0 row39\" >job_unemployed</th>\n",
       "      <td id=\"T_cfe55_row39_col0\" class=\"data row39 col0\" >0.020390</td>\n",
       "    </tr>\n",
       "    <tr>\n",
       "      <th id=\"T_cfe55_level0_row40\" class=\"row_heading level0 row40\" >job_entrepreneur</th>\n",
       "      <td id=\"T_cfe55_row40_col0\" class=\"data row40 col0\" >0.019662</td>\n",
       "    </tr>\n",
       "    <tr>\n",
       "      <th id=\"T_cfe55_level0_row41\" class=\"row_heading level0 row41\" >month</th>\n",
       "      <td id=\"T_cfe55_row41_col0\" class=\"data row41 col0\" >0.018717</td>\n",
       "    </tr>\n",
       "    <tr>\n",
       "      <th id=\"T_cfe55_level0_row42\" class=\"row_heading level0 row42\" >month_jun</th>\n",
       "      <td id=\"T_cfe55_row42_col0\" class=\"data row42 col0\" >0.016805</td>\n",
       "    </tr>\n",
       "    <tr>\n",
       "      <th id=\"T_cfe55_level0_row43\" class=\"row_heading level0 row43\" >job_housemaid</th>\n",
       "      <td id=\"T_cfe55_row43_col0\" class=\"data row43 col0\" >0.015195</td>\n",
       "    </tr>\n",
       "    <tr>\n",
       "      <th id=\"T_cfe55_level0_row44\" class=\"row_heading level0 row44\" >month_nov</th>\n",
       "      <td id=\"T_cfe55_row44_col0\" class=\"data row44 col0\" >0.014937</td>\n",
       "    </tr>\n",
       "    <tr>\n",
       "      <th id=\"T_cfe55_level0_row45\" class=\"row_heading level0 row45\" >contact_telephone</th>\n",
       "      <td id=\"T_cfe55_row45_col0\" class=\"data row45 col0\" >0.014042</td>\n",
       "    </tr>\n",
       "    <tr>\n",
       "      <th id=\"T_cfe55_level0_row46\" class=\"row_heading level0 row46\" >education_unknown</th>\n",
       "      <td id=\"T_cfe55_row46_col0\" class=\"data row46 col0\" >0.012053</td>\n",
       "    </tr>\n",
       "    <tr>\n",
       "      <th id=\"T_cfe55_level0_row47\" class=\"row_heading level0 row47\" >poutcome_failure</th>\n",
       "      <td id=\"T_cfe55_row47_col0\" class=\"data row47 col0\" >0.009885</td>\n",
       "    </tr>\n",
       "    <tr>\n",
       "      <th id=\"T_cfe55_level0_row48\" class=\"row_heading level0 row48\" >job_technician</th>\n",
       "      <td id=\"T_cfe55_row48_col0\" class=\"data row48 col0\" >0.008970</td>\n",
       "    </tr>\n",
       "    <tr>\n",
       "      <th id=\"T_cfe55_level0_row49\" class=\"row_heading level0 row49\" >month_jan</th>\n",
       "      <td id=\"T_cfe55_row49_col0\" class=\"data row49 col0\" >0.008783</td>\n",
       "    </tr>\n",
       "    <tr>\n",
       "      <th id=\"T_cfe55_level0_row50\" class=\"row_heading level0 row50\" >month_aug</th>\n",
       "      <td id=\"T_cfe55_row50_col0\" class=\"data row50 col0\" >0.008536</td>\n",
       "    </tr>\n",
       "    <tr>\n",
       "      <th id=\"T_cfe55_level0_row51\" class=\"row_heading level0 row51\" >job_admin.</th>\n",
       "      <td id=\"T_cfe55_row51_col0\" class=\"data row51 col0\" >0.005637</td>\n",
       "    </tr>\n",
       "    <tr>\n",
       "      <th id=\"T_cfe55_level0_row52\" class=\"row_heading level0 row52\" >marital_divorced</th>\n",
       "      <td id=\"T_cfe55_row52_col0\" class=\"data row52 col0\" >0.002772</td>\n",
       "    </tr>\n",
       "    <tr>\n",
       "      <th id=\"T_cfe55_level0_row53\" class=\"row_heading level0 row53\" >job_self-employed</th>\n",
       "      <td id=\"T_cfe55_row53_col0\" class=\"data row53 col0\" >0.000855</td>\n",
       "    </tr>\n",
       "    <tr>\n",
       "      <th id=\"T_cfe55_level0_row54\" class=\"row_heading level0 row54\" >job_unknown</th>\n",
       "      <td id=\"T_cfe55_row54_col0\" class=\"data row54 col0\" >0.000267</td>\n",
       "    </tr>\n",
       "  </tbody>\n",
       "</table>\n"
      ],
      "text/plain": [
       "<pandas.io.formats.style.Styler at 0x15b1ac8a7b0>"
      ]
     },
     "execution_count": 23,
     "metadata": {},
     "output_type": "execute_result"
    }
   ],
   "source": [
    "corr = abs(df_bank.corr())\n",
    "corr[['y']].sort_values(by = 'y', ascending=False).style.background_gradient()"
   ]
  },
  {
   "cell_type": "code",
   "execution_count": 24,
   "id": "6dbe9190",
   "metadata": {},
   "outputs": [],
   "source": [
    "df_bank.rename(columns={'job_admin.':'job_admin','job_blue-collar':'job_blue_collar','job_sef-employed':'job_self_employed'},inplace=True)"
   ]
  },
  {
   "cell_type": "markdown",
   "id": "64f6bc2a",
   "metadata": {},
   "source": [
    "### Muestreo estratificado"
   ]
  },
  {
   "cell_type": "code",
   "execution_count": 25,
   "id": "2da71491",
   "metadata": {},
   "outputs": [],
   "source": [
    "X_train, X_test, y_train, y_test = train_test_split(df_bank.drop('y',axis=1),\n",
    "                                                    df_bank.y,\n",
    "                                                    test_size=0.2,\n",
    "                                                    random_state=42,\n",
    "                                                    stratify = df_bank.y)"
   ]
  },
  {
   "cell_type": "markdown",
   "id": "f50ec120",
   "metadata": {},
   "source": [
    "### Modelos"
   ]
  },
  {
   "cell_type": "code",
   "execution_count": 26,
   "id": "e41dbf62",
   "metadata": {},
   "outputs": [],
   "source": [
    "model1 = RandomForestClassifier().fit(X_train,y_train)\n",
    "y_pred = model1.predict(X_test)"
   ]
  },
  {
   "cell_type": "code",
   "execution_count": 27,
   "id": "d660da60",
   "metadata": {},
   "outputs": [
    {
     "data": {
      "text/plain": [
       "<Axes: >"
      ]
     },
     "execution_count": 27,
     "metadata": {},
     "output_type": "execute_result"
    },
    {
     "data": {
      "image/png": "[encoded data removed]",
      "text/plain": [
       "<Figure size 800x600 with 1 Axes>"
      ]
     },
     "metadata": {},
     "output_type": "display_data"
    }
   ],
   "source": [
    "feat_importances = pd.DataFrame(model1.feature_importances_, index=X_train.columns, columns=[\"Importance\"])\n",
    "feat_importances.sort_values(by='Importance', ascending=False, inplace=True)\n",
    "feat_importances.plot(kind='bar', figsize=(8,6))"
   ]
  },
  {
   "cell_type": "code",
   "execution_count": 28,
   "id": "c68303ce",
   "metadata": {},
   "outputs": [],
   "source": [
    "def saca_metricas(y1, y2):\n",
    "    print('Matriz de Confusión')\n",
    "    print(confusion_matrix(y1, y2))\n",
    "    print('Accuracy:', accuracy_score(y1, y2))\n",
    "    print('Precision:', precision_score(y1, y2))\n",
    "    print('Recall:', recall_score(y1, y2))\n",
    "    print('F1 Score:', f1_score(y1, y2))\n",
    "    \n",
    "    # Cálculo de la curva ROC y AUC\n",
    "    false_positive_rate, recall, _ = roc_curve(y1, y2)\n",
    "    roc_auc = auc(false_positive_rate, recall)\n",
    "    print('AUC:', roc_auc)\n",
    "    \n",
    "    # Crear gráfico interactivo con Plotly\n",
    "    fig = go.Figure()\n",
    "    fig.add_trace(go.Scatter(x=false_positive_rate, y=recall, mode='lines', name='Curva ROC', line=dict(color='blue')))\n",
    "    fig.add_trace(go.Scatter(x=[0, 1], y=[0, 1], mode='lines', name='Línea base', line=dict(color='red', dash='dash')))\n",
    "    \n",
    "    fig.update_layout(\n",
    "        title=f'Curva ROC (AUC = {roc_auc:.2f})',\n",
    "        xaxis_title='False Positive Rate',\n",
    "        yaxis_title='Recall',\n",
    "        template='plotly_white'\n",
    "    )\n",
    "    \n",
    "    fig.show()"
   ]
  },
  {
   "cell_type": "code",
   "execution_count": 29,
   "id": "55e6f4a7",
   "metadata": {},
   "outputs": [
    {
     "name": "stdout",
     "output_type": "stream",
     "text": [
      "Matriz de Confusión\n",
      "[[7772  213]\n",
      " [ 639  419]]\n",
      "Accuracy: 0.905783478933982\n",
      "Precision: 0.6629746835443038\n",
      "Recall: 0.3960302457466919\n",
      "F1 Score: 0.4958579881656805\n",
      "AUC: 0.6846776150461701\n"
     ]
    },
    {
     "data": {
      "application/vnd.plotly.v1+json": {
       "config": {
        "plotlyServerURL": "https://plot.ly"
       },
       "data": [
        {
         "line": {
          "color": "blue"
         },
         "mode": "lines",
         "name": "Curva ROC",
         "type": "scatter",
         "x": {
          "bdata": "AAAAAAAAAABaRGz/sVCbPwAAAAAAAPA/",
          "dtype": "f8"
         },
         "y": {
          "bdata": "AAAAAAAAAABeXm0+j1jZPwAAAAAAAPA/",
          "dtype": "f8"
         }
        },
        {
         "line": {
          "color": "red",
          "dash": "dash"
         },
         "mode": "lines",
         "name": "Línea base",
         "type": "scatter",
         "x": [
          0,
          1
         ],
         "y": [
          0,
          1
         ]
        }
       ],
       "layout": {
        "template": {
         "data": {
          "bar": [
           {
            "error_x": {
             "color": "#2a3f5f"
            },
            "error_y": {
             "color": "#2a3f5f"
            },
            "marker": {
             "line": {
              "color": "white",
              "width": 0.5
             },
             "pattern": {
              "fillmode": "overlay",
              "size": 10,
              "solidity": 0.2
             }
            },
            "type": "bar"
           }
          ],
          "barpolar": [
           {
            "marker": {
             "line": {
              "color": "white",
              "width": 0.5
             },
             "pattern": {
              "fillmode": "overlay",
              "size": 10,
              "solidity": 0.2
             }
            },
            "type": "barpolar"
           }
          ],
          "carpet": [
           {
            "aaxis": {
             "endlinecolor": "#2a3f5f",
             "gridcolor": "#C8D4E3",
             "linecolor": "#C8D4E3",
             "minorgridcolor": "#C8D4E3",
             "startlinecolor": "#2a3f5f"
            },
            "baxis": {
             "endlinecolor": "#2a3f5f",
             "gridcolor": "#C8D4E3",
             "linecolor": "#C8D4E3",
             "minorgridcolor": "#C8D4E3",
             "startlinecolor": "#2a3f5f"
            },
            "type": "carpet"
           }
          ],
          "choropleth": [
           {
            "colorbar": {
             "outlinewidth": 0,
             "ticks": ""
            },
            "type": "choropleth"
           }
          ],
          "contour": [
           {
            "colorbar": {
             "outlinewidth": 0,
             "ticks": ""
            },
            "colorscale": [
             [
              0,
              "#0d0887"
             ],
             [
              0.1111111111111111,
              "#46039f"
             ],
             [
              0.2222222222222222,
              "#7201a8"
             ],
             [
              0.3333333333333333,
              "#9c179e"
             ],
             [
              0.4444444444444444,
              "#bd3786"
             ],
             [
              0.5555555555555556,
              "#d8576b"
             ],
             [
              0.6666666666666666,
              "#ed7953"
             ],
             [
              0.7777777777777778,
              "#fb9f3a"
             ],
             [
              0.8888888888888888,
              "#fdca26"
             ],
             [
              1,
              "#f0f921"
             ]
            ],
            "type": "contour"
           }
          ],
          "contourcarpet": [
           {
            "colorbar": {
             "outlinewidth": 0,
             "ticks": ""
            },
            "type": "contourcarpet"
           }
          ],
          "heatmap": [
           {
            "colorbar": {
             "outlinewidth": 0,
             "ticks": ""
            },
            "colorscale": [
             [
              0,
              "#0d0887"
             ],
             [
              0.1111111111111111,
              "#46039f"
             ],
             [
              0.2222222222222222,
              "#7201a8"
             ],
             [
              0.3333333333333333,
              "#9c179e"
             ],
             [
              0.4444444444444444,
              "#bd3786"
             ],
             [
              0.5555555555555556,
              "#d8576b"
             ],
             [
              0.6666666666666666,
              "#ed7953"
             ],
             [
              0.7777777777777778,
              "#fb9f3a"
             ],
             [
              0.8888888888888888,
              "#fdca26"
             ],
             [
              1,
              "#f0f921"
             ]
            ],
            "type": "heatmap"
           }
          ],
          "histogram": [
           {
            "marker": {
             "pattern": {
              "fillmode": "overlay",
              "size": 10,
              "solidity": 0.2
             }
            },
            "type": "histogram"
           }
          ],
          "histogram2d": [
           {
            "colorbar": {
             "outlinewidth": 0,
             "ticks": ""
            },
            "colorscale": [
             [
              0,
              "#0d0887"
             ],
             [
              0.1111111111111111,
              "#46039f"
             ],
             [
              0.2222222222222222,
              "#7201a8"
             ],
             [
              0.3333333333333333,
              "#9c179e"
             ],
             [
              0.4444444444444444,
              "#bd3786"
             ],
             [
              0.5555555555555556,
              "#d8576b"
             ],
             [
              0.6666666666666666,
              "#ed7953"
             ],
             [
              0.7777777777777778,
              "#fb9f3a"
             ],
             [
              0.8888888888888888,
              "#fdca26"
             ],
             [
              1,
              "#f0f921"
             ]
            ],
            "type": "histogram2d"
           }
          ],
          "histogram2dcontour": [
           {
            "colorbar": {
             "outlinewidth": 0,
             "ticks": ""
            },
            "colorscale": [
             [
              0,
              "#0d0887"
             ],
             [
              0.1111111111111111,
              "#46039f"
             ],
             [
              0.2222222222222222,
              "#7201a8"
             ],
             [
              0.3333333333333333,
              "#9c179e"
             ],
             [
              0.4444444444444444,
              "#bd3786"
             ],
             [
              0.5555555555555556,
              "#d8576b"
             ],
             [
              0.6666666666666666,
              "#ed7953"
             ],
             [
              0.7777777777777778,
              "#fb9f3a"
             ],
             [
              0.8888888888888888,
              "#fdca26"
             ],
             [
              1,
              "#f0f921"
             ]
            ],
            "type": "histogram2dcontour"
           }
          ],
          "mesh3d": [
           {
            "colorbar": {
             "outlinewidth": 0,
             "ticks": ""
            },
            "type": "mesh3d"
           }
          ],
          "parcoords": [
           {
            "line": {
             "colorbar": {
              "outlinewidth": 0,
              "ticks": ""
             }
            },
            "type": "parcoords"
           }
          ],
          "pie": [
           {
            "automargin": true,
            "type": "pie"
           }
          ],
          "scatter": [
           {
            "fillpattern": {
             "fillmode": "overlay",
             "size": 10,
             "solidity": 0.2
            },
            "type": "scatter"
           }
          ],
          "scatter3d": [
           {
            "line": {
             "colorbar": {
              "outlinewidth": 0,
              "ticks": ""
             }
            },
            "marker": {
             "colorbar": {
              "outlinewidth": 0,
              "ticks": ""
             }
            },
            "type": "scatter3d"
           }
          ],
          "scattercarpet": [
           {
            "marker": {
             "colorbar": {
              "outlinewidth": 0,
              "ticks": ""
             }
            },
            "type": "scattercarpet"
           }
          ],
          "scattergeo": [
           {
            "marker": {
             "colorbar": {
              "outlinewidth": 0,
              "ticks": ""
             }
            },
            "type": "scattergeo"
           }
          ],
          "scattergl": [
           {
            "marker": {
             "colorbar": {
              "outlinewidth": 0,
              "ticks": ""
             }
            },
            "type": "scattergl"
           }
          ],
          "scattermap": [
           {
            "marker": {
             "colorbar": {
              "outlinewidth": 0,
              "ticks": ""
             }
            },
            "type": "scattermap"
           }
          ],
          "scattermapbox": [
           {
            "marker": {
             "colorbar": {
              "outlinewidth": 0,
              "ticks": ""
             }
            },
            "type": "scattermapbox"
           }
          ],
          "scatterpolar": [
           {
            "marker": {
             "colorbar": {
              "outlinewidth": 0,
              "ticks": ""
             }
            },
            "type": "scatterpolar"
           }
          ],
          "scatterpolargl": [
           {
            "marker": {
             "colorbar": {
              "outlinewidth": 0,
              "ticks": ""
             }
            },
            "type": "scatterpolargl"
           }
          ],
          "scatterternary": [
           {
            "marker": {
             "colorbar": {
              "outlinewidth": 0,
              "ticks": ""
             }
            },
            "type": "scatterternary"
           }
          ],
          "surface": [
           {
            "colorbar": {
             "outlinewidth": 0,
             "ticks": ""
            },
            "colorscale": [
             [
              0,
              "#0d0887"
             ],
             [
              0.1111111111111111,
              "#46039f"
             ],
             [
              0.2222222222222222,
              "#7201a8"
             ],
             [
              0.3333333333333333,
              "#9c179e"
             ],
             [
              0.4444444444444444,
              "#bd3786"
             ],
             [
              0.5555555555555556,
              "#d8576b"
             ],
             [
              0.6666666666666666,
              "#ed7953"
             ],
             [
              0.7777777777777778,
              "#fb9f3a"
             ],
             [
              0.8888888888888888,
              "#fdca26"
             ],
             [
              1,
              "#f0f921"
             ]
            ],
            "type": "surface"
           }
          ],
          "table": [
           {
            "cells": {
             "fill": {
              "color": "#EBF0F8"
             },
             "line": {
              "color": "white"
             }
            },
            "header": {
             "fill": {
              "color": "#C8D4E3"
             },
             "line": {
              "color": "white"
             }
            },
            "type": "table"
           }
          ]
         },
         "layout": {
          "annotationdefaults": {
           "arrowcolor": "#2a3f5f",
           "arrowhead": 0,
           "arrowwidth": 1
          },
          "autotypenumbers": "strict",
          "coloraxis": {
           "colorbar": {
            "outlinewidth": 0,
            "ticks": ""
           }
          },
          "colorscale": {
           "diverging": [
            [
             0,
             "#8e0152"
            ],
            [
             0.1,
             "#c51b7d"
            ],
            [
             0.2,
             "#de77ae"
            ],
            [
             0.3,
             "#f1b6da"
            ],
            [
             0.4,
             "#fde0ef"
            ],
            [
             0.5,
             "#f7f7f7"
            ],
            [
             0.6,
             "#e6f5d0"
            ],
            [
             0.7,
             "#b8e186"
            ],
            [
             0.8,
             "#7fbc41"
            ],
            [
             0.9,
             "#4d9221"
            ],
            [
             1,
             "#276419"
            ]
           ],
           "sequential": [
            [
             0,
             "#0d0887"
            ],
            [
             0.1111111111111111,
             "#46039f"
            ],
            [
             0.2222222222222222,
             "#7201a8"
            ],
            [
             0.3333333333333333,
             "#9c179e"
            ],
            [
             0.4444444444444444,
             "#bd3786"
            ],
            [
             0.5555555555555556,
             "#d8576b"
            ],
            [
             0.6666666666666666,
             "#ed7953"
            ],
            [
             0.7777777777777778,
             "#fb9f3a"
            ],
            [
             0.8888888888888888,
             "#fdca26"
            ],
            [
             1,
             "#f0f921"
            ]
           ],
           "sequentialminus": [
            [
             0,
             "#0d0887"
            ],
            [
             0.1111111111111111,
             "#46039f"
            ],
            [
             0.2222222222222222,
             "#7201a8"
            ],
            [
             0.3333333333333333,
             "#9c179e"
            ],
            [
             0.4444444444444444,
             "#bd3786"
            ],
            [
             0.5555555555555556,
             "#d8576b"
            ],
            [
             0.6666666666666666,
             "#ed7953"
            ],
            [
             0.7777777777777778,
             "#fb9f3a"
            ],
            [
             0.8888888888888888,
             "#fdca26"
            ],
            [
             1,
             "#f0f921"
            ]
           ]
          },
          "colorway": [
           "#636efa",
           "#EF553B",
           "#00cc96",
           "#ab63fa",
           "#FFA15A",
           "#19d3f3",
           "#FF6692",
           "#B6E880",
           "#FF97FF",
           "#FECB52"
          ],
          "font": {
           "color": "#2a3f5f"
          },
          "geo": {
           "bgcolor": "white",
           "lakecolor": "white",
           "landcolor": "white",
           "showlakes": true,
           "showland": true,
           "subunitcolor": "#C8D4E3"
          },
          "hoverlabel": {
           "align": "left"
          },
          "hovermode": "closest",
          "mapbox": {
           "style": "light"
          },
          "paper_bgcolor": "white",
          "plot_bgcolor": "white",
          "polar": {
           "angularaxis": {
            "gridcolor": "#EBF0F8",
            "linecolor": "#EBF0F8",
            "ticks": ""
           },
           "bgcolor": "white",
           "radialaxis": {
            "gridcolor": "#EBF0F8",
            "linecolor": "#EBF0F8",
            "ticks": ""
           }
          },
          "scene": {
           "xaxis": {
            "backgroundcolor": "white",
            "gridcolor": "#DFE8F3",
            "gridwidth": 2,
            "linecolor": "#EBF0F8",
            "showbackground": true,
            "ticks": "",
            "zerolinecolor": "#EBF0F8"
           },
           "yaxis": {
            "backgroundcolor": "white",
            "gridcolor": "#DFE8F3",
            "gridwidth": 2,
            "linecolor": "#EBF0F8",
            "showbackground": true,
            "ticks": "",
            "zerolinecolor": "#EBF0F8"
           },
           "zaxis": {
            "backgroundcolor": "white",
            "gridcolor": "#DFE8F3",
            "gridwidth": 2,
            "linecolor": "#EBF0F8",
            "showbackground": true,
            "ticks": "",
            "zerolinecolor": "#EBF0F8"
           }
          },
          "shapedefaults": {
           "line": {
            "color": "#2a3f5f"
           }
          },
          "ternary": {
           "aaxis": {
            "gridcolor": "#DFE8F3",
            "linecolor": "#A2B1C6",
            "ticks": ""
           },
           "baxis": {
            "gridcolor": "#DFE8F3",
            "linecolor": "#A2B1C6",
            "ticks": ""
           },
           "bgcolor": "white",
           "caxis": {
            "gridcolor": "#DFE8F3",
            "linecolor": "#A2B1C6",
            "ticks": ""
           }
          },
          "title": {
           "x": 0.05
          },
          "xaxis": {
           "automargin": true,
           "gridcolor": "#EBF0F8",
           "linecolor": "#EBF0F8",
           "ticks": "",
           "title": {
            "standoff": 15
           },
           "zerolinecolor": "#EBF0F8",
           "zerolinewidth": 2
          },
          "yaxis": {
           "automargin": true,
           "gridcolor": "#EBF0F8",
           "linecolor": "#EBF0F8",
           "ticks": "",
           "title": {
            "standoff": 15
           },
           "zerolinecolor": "#EBF0F8",
           "zerolinewidth": 2
          }
         }
        },
        "title": {
         "text": "Curva ROC (AUC = 0.68)"
        },
        "xaxis": {
         "title": {
          "text": "False Positive Rate"
         }
        },
        "yaxis": {
         "title": {
          "text": "Recall"
         }
        }
       }
      }
     },
     "metadata": {},
     "output_type": "display_data"
    }
   ],
   "source": [
    "saca_metricas(y_test, y_pred)"
   ]
  },
  {
   "cell_type": "markdown",
   "id": "06d9813b",
   "metadata": {},
   "source": [
    "### GRADIO INTERFACE\n",
    "\n",
    "En Gradio, la clase (o función) Interface es la más usada: sirve para crear una aplicación web interactiva a partir de una función de Python.\n",
    "\n",
    "En pocas palabras:\n",
    "* Tú defines una función (por ejemplo, que reciba texto y devuelva texto, o una imagen y devuelva una predicción).\n",
    "* Con gr.Interface le dices a Gradio qué inputs y qué outputs usar.\n",
    "* Al lanzar la app, Gradio genera una interfaz gráfica en el navegador para que cualquiera pueda probarla."
   ]
  },
  {
   "cell_type": "code",
   "execution_count": null,
   "id": "3fb56985",
   "metadata": {},
   "outputs": [],
   "source": [
    "def df_bank_function(*inputs): # definimos función que recibe un numero de variables (*inputs)\n",
    "    prediction = model1.predict([inputs]) # se usa el model1 introduciendole los inputs\n",
    "    return prediction # deuelve la variable prediction, que es el predict de nuestro modelo con los inputs"
   ]
  },
  {
   "cell_type": "code",
   "execution_count": null,
   "id": "5c573876",
   "metadata": {},
   "outputs": [],
   "source": [
    "output = gr.Textbox(label = 'clase5 predicción') # gr.TextBox crea una caja de salida en gradio y label = 'clase5 prediccion' pone ese texto encima de la caja de salida"
   ]
  },
  {
   "cell_type": "code",
   "execution_count": null,
   "id": "e61ab8fa",
   "metadata": {},
   "outputs": [
    {
     "name": "stdout",
     "output_type": "stream",
     "text": [
      "* Running on local URL:  http://127.0.0.1:7860\n",
      "* To create a public link, set `share=True` in `launch()`.\n"
     ]
    },
    {
     "data": {
      "text/html": [
       "<div><iframe src=\"http://127.0.0.1:7860/\" width=\"100%\" height=\"500\" allow=\"autoplay; camera; microphone; clipboard-read; clipboard-write;\" frameborder=\"0\" allowfullscreen></iframe></div>"
      ],
      "text/plain": [
       "<IPython.core.display.HTML object>"
      ]
     },
     "metadata": {},
     "output_type": "display_data"
    },
    {
     "data": {
      "text/plain": []
     },
     "execution_count": 32,
     "metadata": {},
     "output_type": "execute_result"
    },
    {
     "name": "stderr",
     "output_type": "stream",
     "text": [
      "C:\\Users\\pauri\\AppData\\Roaming\\Python\\Python313\\site-packages\\sklearn\\utils\\validation.py:2739: UserWarning:\n",
      "\n",
      "X does not have valid feature names, but RandomForestClassifier was fitted with feature names\n",
      "\n",
      "C:\\Users\\pauri\\AppData\\Roaming\\Python\\Python313\\site-packages\\sklearn\\utils\\validation.py:2739: UserWarning:\n",
      "\n",
      "X does not have valid feature names, but RandomForestClassifier was fitted with feature names\n",
      "\n"
     ]
    }
   ],
   "source": [
    "gr.Interface(fn=df_bank_function, # Función que se aplicara al recibir los inputs en gradio\n",
    "             inputs = [gr.Number(label=i) for i in X_train.columns], # el input es un valor numerico para cada valor de columna de X_train\n",
    "             outputs = output, flagging_mode = 'manual').launch() # output es la variable anteriormente definida, flagging_mode = 'manual' activa un boyon Flag en la interfaz, y launch() sirve para lanzar la app"
   ]
  },
  {
   "cell_type": "markdown",
   "id": "c3fddef6",
   "metadata": {},
   "source": [
    "### Gradio Lime"
   ]
  },
  {
   "cell_type": "code",
   "execution_count": 33,
   "id": "f3a38786",
   "metadata": {},
   "outputs": [],
   "source": [
    "explainer = lime.lime_tabular.LimeTabularExplainer(X_train.values, \n",
    "                                                   mode='classification',\n",
    "                                                   training_labels=y_train,\n",
    "                                                   feature_names=X_train.columns)"
   ]
  },
  {
   "cell_type": "code",
   "execution_count": 34,
   "id": "1dd48e2f",
   "metadata": {},
   "outputs": [],
   "source": [
    "def df_bank_function(*inputs):\n",
    "    preds = model1.predict_proba([inputs])\n",
    "    pred_mapping = dict(zip(y_train, preds[0]))\n",
    "    \n",
    "    explanation = explainer.explain_instance(np.array(inputs), model1.predict_proba, num_features=len(X_train.columns), top_labels = 4)\n",
    "    interpretation = explanation.as_pyplot_figure(label=prediction[0])\n",
    "    \n",
    "    plt.tight_layout()\n",
    "    return pred_mapping,interpretation"
   ]
  },
  {
   "cell_type": "code",
   "execution_count": null,
   "id": "055df86c",
   "metadata": {},
   "outputs": [
    {
     "name": "stdout",
     "output_type": "stream",
     "text": [
      "* Running on local URL:  http://127.0.0.1:7861\n",
      "* To create a public link, set `share=True` in `launch()`.\n"
     ]
    },
    {
     "data": {
      "text/html": [
       "<div><iframe src=\"http://127.0.0.1:7861/\" width=\"100%\" height=\"500\" allow=\"autoplay; camera; microphone; clipboard-read; clipboard-write;\" frameborder=\"0\" allowfullscreen></iframe></div>"
      ],
      "text/plain": [
       "<IPython.core.display.HTML object>"
      ]
     },
     "metadata": {},
     "output_type": "display_data"
    },
    {
     "data": {
      "text/plain": []
     },
     "execution_count": 35,
     "metadata": {},
     "output_type": "execute_result"
    },
    {
     "name": "stderr",
     "output_type": "stream",
     "text": [
      "C:\\Users\\pauri\\AppData\\Roaming\\Python\\Python313\\site-packages\\sklearn\\utils\\validation.py:2739: UserWarning:\n",
      "\n",
      "X does not have valid feature names, but RandomForestClassifier was fitted with feature names\n",
      "\n",
      "C:\\Users\\pauri\\AppData\\Roaming\\Python\\Python313\\site-packages\\sklearn\\utils\\validation.py:2739: UserWarning:\n",
      "\n",
      "X does not have valid feature names, but RandomForestClassifier was fitted with feature names\n",
      "\n",
      "Traceback (most recent call last):\n",
      "  File \"C:\\Users\\pauri\\AppData\\Roaming\\Python\\Python313\\site-packages\\gradio\\queueing.py\", line 667, in process_events\n",
      "    response = await route_utils.call_process_api(\n",
      "               ^^^^^^^^^^^^^^^^^^^^^^^^^^^^^^^^^^^\n",
      "    ...<5 lines>...\n",
      "    )\n",
      "    ^\n",
      "  File \"C:\\Users\\pauri\\AppData\\Roaming\\Python\\Python313\\site-packages\\gradio\\route_utils.py\", line 349, in call_process_api\n",
      "    output = await app.get_blocks().process_api(\n",
      "             ^^^^^^^^^^^^^^^^^^^^^^^^^^^^^^^^^^^\n",
      "    ...<11 lines>...\n",
      "    )\n",
      "    ^\n",
      "  File \"C:\\Users\\pauri\\AppData\\Roaming\\Python\\Python313\\site-packages\\gradio\\blocks.py\", line 2274, in process_api\n",
      "    result = await self.call_function(\n",
      "             ^^^^^^^^^^^^^^^^^^^^^^^^^\n",
      "    ...<8 lines>...\n",
      "    )\n",
      "    ^\n",
      "  File \"C:\\Users\\pauri\\AppData\\Roaming\\Python\\Python313\\site-packages\\gradio\\blocks.py\", line 1781, in call_function\n",
      "    prediction = await anyio.to_thread.run_sync(  # type: ignore\n",
      "                 ^^^^^^^^^^^^^^^^^^^^^^^^^^^^^^^^^^^^^^^^^^^^^^^\n",
      "        fn, *processed_input, limiter=self.limiter\n",
      "        ^^^^^^^^^^^^^^^^^^^^^^^^^^^^^^^^^^^^^^^^^^\n",
      "    )\n",
      "    ^\n",
      "  File \"C:\\Users\\pauri\\AppData\\Roaming\\Python\\Python313\\site-packages\\anyio\\to_thread.py\", line 56, in run_sync\n",
      "    return await get_async_backend().run_sync_in_worker_thread(\n",
      "           ^^^^^^^^^^^^^^^^^^^^^^^^^^^^^^^^^^^^^^^^^^^^^^^^^^^^\n",
      "        func, args, abandon_on_cancel=abandon_on_cancel, limiter=limiter\n",
      "        ^^^^^^^^^^^^^^^^^^^^^^^^^^^^^^^^^^^^^^^^^^^^^^^^^^^^^^^^^^^^^^^^\n",
      "    )\n",
      "    ^\n",
      "  File \"C:\\Users\\pauri\\AppData\\Roaming\\Python\\Python313\\site-packages\\anyio\\_backends\\_asyncio.py\", line 2470, in run_sync_in_worker_thread\n",
      "    return await future\n",
      "           ^^^^^^^^^^^^\n",
      "  File \"C:\\Users\\pauri\\AppData\\Roaming\\Python\\Python313\\site-packages\\anyio\\_backends\\_asyncio.py\", line 967, in run\n",
      "    result = context.run(func, *args)\n",
      "  File \"C:\\Users\\pauri\\AppData\\Roaming\\Python\\Python313\\site-packages\\gradio\\utils.py\", line 915, in wrapper\n",
      "    response = f(*args, **kwargs)\n",
      "  File \"C:\\Users\\pauri\\AppData\\Local\\Temp\\ipykernel_5280\\3483519387.py\", line 6, in df_bank_function\n",
      "    interpretation = explanation.as_pyplot_figure(label=prediction[0])\n",
      "                                                        ^^^^^^^^^^\n",
      "NameError: name 'prediction' is not defined. Did you mean: 'predict'?\n"
     ]
    }
   ],
   "source": [
    "with gr.Blocks() as demo: # gr.Blocks es para generar páginas más complejas\n",
    "    gr.Markdown('# Bank marketing campaign prediction')\n",
    "    with gr.Row():\n",
    "        with gr.Column():\n",
    "            gr.Markdown(\"## Select features to predict\")\n",
    "            inputs = [gr.Number(label=i) for i in X_train.columns]\n",
    "            predict = gr.Button(\"Predict\")\n",
    "            \n",
    "        with gr.Column():\n",
    "            pred_label = gr.Label(\"\")\n",
    "            plot_placeholder = gr.Plot()\n",
    "        predict.click(df_bank_function, \n",
    "                      inputs=inputs, \n",
    "                      outputs=[pred_label, plot_placeholder])\n",
    "demo.launch()"
   ]
  }
 ],
 "metadata": {
  "kernelspec": {
   "display_name": "Python 3",
   "language": "python",
   "name": "python3"
  },
  "language_info": {
   "codemirror_mode": {
    "name": "ipython",
    "version": 3
   },
   "file_extension": ".py",
   "mimetype": "text/x-python",
   "name": "python",
   "nbconvert_exporter": "python",
   "pygments_lexer": "ipython3",
   "version": "3.13.2"
  }
 },
 "nbformat": 4,
 "nbformat_minor": 5
}
