{
 "cells": [
  {
   "cell_type": "markdown",
   "id": "7d223907",
   "metadata": {},
   "source": [
    "## Ejercicio Banco PgyWalker\n",
    "\n",
    "PyGWalker (Python Graphic Walker) sirve para explorar y visualizar DataFrames (pandas/Polars) con una interfaz gráfica tipo “drag & drop” dentro de Jupyter/VS Code/Streamlit, al estilo Tableau/Power BI, sin escribir mucho código.\n",
    "\n",
    "¿Qué te permite?\n",
    "\n",
    "* Crear gráficos interactivos (barras, líneas, scatter, mapas, facetas, agregaciones) arrastrando campos.\n",
    "\n",
    "* Hacer EDA rápido: filtrar, ordenar, binning, agregaciones, resúmenes.\n",
    "\n",
    "* Guardar/compartir el panel o exportar la especificación (Vega-Lite) para reproducir los gráficos.\n",
    "\n",
    "* Integrarlo en Jupyter o Streamlit para demos/notebooks interactivos.\n",
    "\n",
    "*Parece una herramientoa de tableau, pero open source*"
   ]
  },
  {
   "cell_type": "code",
   "execution_count": 8,
   "id": "be41107d",
   "metadata": {},
   "outputs": [],
   "source": [
    "import pandas as pd \n",
    "from sklearn.model_selection import train_test_split\n",
    "from sklearn.preprocessing import LabelEncoder\n",
    "from sklearn.ensemble import RandomForestClassifier\n",
    "from sklearn.metrics import accuracy_score, confusion_matrix\n",
    "import mlflow\n",
    "import mlflow.sklearn\n",
    "import matplotlib.pyplot as plt\n",
    "import seaborn as sns\n",
    "import pygwalker as pyg"
   ]
  },
  {
   "cell_type": "code",
   "execution_count": 9,
   "id": "47600b5c",
   "metadata": {},
   "outputs": [],
   "source": [
    "df_bank = pd.read_csv('bank-full.csv',sep=';')"
   ]
  },
  {
   "cell_type": "code",
   "execution_count": 10,
   "id": "1c0cddf5",
   "metadata": {},
   "outputs": [
    {
     "data": {
      "application/vnd.jupyter.widget-view+json": {
       "model_id": "098cb475981547e9a1fa8fbdaa738ce2",
       "version_major": 2,
       "version_minor": 0
      },
      "text/plain": [
       "Box(children=(HTML(value='\\n<div id=\"ifr-pyg-0006408f16063a0e2OAI5spWSU8nQquJ\" style=\"height: auto\">\\n    <hea…"
      ]
     },
     "metadata": {},
     "output_type": "display_data"
    },
    {
     "data": {
      "text/html": [
       "<script>\n",
       "    window.addEventListener(\"message\", function(event) {\n",
       "        const backgroundMap = {\n",
       "            \"dark\": \"hsl(240 10% 3.9%)\",\n",
       "            \"light\": \"hsl(0 0 100%)\",\n",
       "        };\n",
       "        const colorMap = {\n",
       "            \"dark\": \"hsl(0 0% 98%)\",\n",
       "            \"light\": \"hsl(240 10% 3.9%)\",\n",
       "        };\n",
       "        if (event.data.action === \"changeAppearance\" && event.data.gid === \"0006408f16063a0e2OAI5spWSU8nQquJ\") {\n",
       "            var iframe = document.getElementById(\"gwalker-0006408f16063a0e2OAI5spWSU8nQquJ\");\n",
       "            iframe.style.background  = backgroundMap[event.data.appearance];\n",
       "            iframe.style.color = colorMap[event.data.appearance];\n",
       "        }\n",
       "    });\n",
       "</script>"
      ],
      "text/plain": [
       "<IPython.core.display.HTML object>"
      ]
     },
     "metadata": {},
     "output_type": "display_data"
    },
    {
     "data": {
      "text/html": [],
      "text/plain": [
       "<IPython.core.display.HTML object>"
      ]
     },
     "metadata": {},
     "output_type": "display_data"
    },
    {
     "data": {
      "text/plain": [
       "<pygwalker.api.pygwalker.PygWalker at 0x19097a4db50>"
      ]
     },
     "execution_count": 10,
     "metadata": {},
     "output_type": "execute_result"
    }
   ],
   "source": [
    "pyg.walk(df_bank.iloc[0:1000])"
   ]
  }
 ],
 "metadata": {
  "kernelspec": {
   "display_name": "Python 3",
   "language": "python",
   "name": "python3"
  },
  "language_info": {
   "codemirror_mode": {
    "name": "ipython",
    "version": 3
   },
   "file_extension": ".py",
   "mimetype": "text/x-python",
   "name": "python",
   "nbconvert_exporter": "python",
   "pygments_lexer": "ipython3",
   "version": "3.12.0"
  }
 },
 "nbformat": 4,
 "nbformat_minor": 5
}
