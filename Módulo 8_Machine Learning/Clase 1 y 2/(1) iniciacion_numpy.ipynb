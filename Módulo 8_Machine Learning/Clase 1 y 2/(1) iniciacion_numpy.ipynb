{
 "cells": [
  {
   "cell_type": "markdown",
   "id": "77fd0a11",
   "metadata": {},
   "source": [
    "### Libreria Numpy\n",
    "\n",
    "Libreria de Python que nos permite trabajar con vectores de una forma homogenea. \n",
    "\n",
    "https://numpy.org/doc/stable/ \n",
    "\n",
    "Aqui encontratremos toda la información en relación a la librería numpy."
   ]
  },
  {
   "cell_type": "code",
   "execution_count": 58,
   "id": "d7586d77",
   "metadata": {},
   "outputs": [],
   "source": [
    "# importación libreria\n",
    "import numpy as np"
   ]
  },
  {
   "cell_type": "markdown",
   "id": "55cf2495",
   "metadata": {},
   "source": [
    "#### Arrays 1D"
   ]
  },
  {
   "cell_type": "markdown",
   "id": "60492753",
   "metadata": {},
   "source": [
    "##### Construcción de arrays homogéneos (Array con el mismo tipo de dato)"
   ]
  },
  {
   "cell_type": "code",
   "execution_count": 59,
   "id": "2d4747c1",
   "metadata": {},
   "outputs": [
    {
     "data": {
      "text/plain": [
       "dtype('int16')"
      ]
     },
     "execution_count": 59,
     "metadata": {},
     "output_type": "execute_result"
    }
   ],
   "source": [
    "a = np.array([2, 4, 8, 10, 12, 14, 16],dtype=np.int16) # el segundo argumento se refiere al tipo de dato del array, definido antes\n",
    "a.dtype # función dtype indica el tipo de dato"
   ]
  },
  {
   "cell_type": "code",
   "execution_count": 60,
   "id": "888bad95",
   "metadata": {},
   "outputs": [
    {
     "data": {
      "text/plain": [
       "array([ 2,  4,  8, 10, 12, 14, 16], dtype=int16)"
      ]
     },
     "execution_count": 60,
     "metadata": {},
     "output_type": "execute_result"
    }
   ],
   "source": [
    "# simplemente poniendo el nombre de la variable nos da tanto la salida de esta como el tipo de variable\n",
    "a"
   ]
  },
  {
   "cell_type": "markdown",
   "id": "51bcb214",
   "metadata": {},
   "source": [
    "Si no se especifica el tipo se calcula automáticamente"
   ]
  },
  {
   "cell_type": "code",
   "execution_count": 61,
   "id": "c0084307",
   "metadata": {},
   "outputs": [
    {
     "data": {
      "text/plain": [
       "dtype('float64')"
      ]
     },
     "execution_count": 61,
     "metadata": {},
     "output_type": "execute_result"
    }
   ],
   "source": [
    "b = np.array([2.0, 4.8, 10, 12, 14, 16])\n",
    "b.dtype # siwmpre nos dara el tipo de dato menos restrictivo, al no definirlo con anterioridad"
   ]
  },
  {
   "cell_type": "code",
   "execution_count": 62,
   "id": "4da1616e",
   "metadata": {},
   "outputs": [
    {
     "data": {
      "text/plain": [
       "array([ 2. ,  4.8, 10. , 12. , 14. , 16. ])"
      ]
     },
     "execution_count": 62,
     "metadata": {},
     "output_type": "execute_result"
    }
   ],
   "source": [
    "b"
   ]
  },
  {
   "cell_type": "markdown",
   "id": "c3c5e4b0",
   "metadata": {},
   "source": [
    "##### Construcción de arrays no homogéneos"
   ]
  },
  {
   "cell_type": "code",
   "execution_count": 63,
   "id": "30925de4",
   "metadata": {},
   "outputs": [],
   "source": [
    "# Permite mezclar distintos tipos de datos, como números y cadenas de texto.\n",
    "c = np.array([[1, 2, 3.0], ['pepe', 5, 9, 8]], dtype='object')  # para hacer eso debemos indicar el dtype como object"
   ]
  },
  {
   "cell_type": "code",
   "execution_count": 64,
   "id": "09f8f160",
   "metadata": {},
   "outputs": [
    {
     "data": {
      "text/plain": [
       "array([list([1, 2, 3.0]), list(['pepe', 5, 9, 8])], dtype=object)"
      ]
     },
     "execution_count": 64,
     "metadata": {},
     "output_type": "execute_result"
    }
   ],
   "source": [
    "# Encontramos dos elementos en el array c, una lista por cada elemento, donde cada una de ellas tiene distintos tipos de datos como elementos\n",
    "c"
   ]
  },
  {
   "cell_type": "code",
   "execution_count": 65,
   "id": "579ac7bf",
   "metadata": {},
   "outputs": [
    {
     "data": {
      "text/plain": [
       "['pepe', 5, 9, 8]"
      ]
     },
     "execution_count": 65,
     "metadata": {},
     "output_type": "execute_result"
    }
   ],
   "source": [
    "# Encontrar elementos de un array con dos arrays distintos, segundo array de los dos arrays\n",
    "c[1]"
   ]
  },
  {
   "cell_type": "code",
   "execution_count": 66,
   "id": "8a8c5077",
   "metadata": {},
   "outputs": [
    {
     "data": {
      "text/plain": [
       "'pepe'"
      ]
     },
     "execution_count": 66,
     "metadata": {},
     "output_type": "execute_result"
    }
   ],
   "source": [
    "# primer elemento del segundo array\n",
    "c[1][0]"
   ]
  },
  {
   "cell_type": "code",
   "execution_count": 67,
   "id": "2e80f7b7",
   "metadata": {},
   "outputs": [
    {
     "data": {
      "text/plain": [
       "str"
      ]
     },
     "execution_count": 67,
     "metadata": {},
     "output_type": "execute_result"
    }
   ],
   "source": [
    "# tipo del primer elemento del segundo array\n",
    "type(c[1][0])"
   ]
  },
  {
   "cell_type": "markdown",
   "id": "c830a394",
   "metadata": {},
   "source": [
    "##### Construcción de arrays aleatorios"
   ]
  },
  {
   "cell_type": "code",
   "execution_count": 68,
   "id": "8ea42e92",
   "metadata": {},
   "outputs": [
    {
     "name": "stdout",
     "output_type": "stream",
     "text": [
      "\u001b[31mType:\u001b[39m        module\n",
      "\u001b[31mString form:\u001b[39m <module 'numpy.random' from 'C:\\\\Users\\\\pauri\\\\AppData\\\\Roaming\\\\Python\\\\Python313\\\\site-packages\\\\numpy\\\\random\\\\__init__.py'>\n",
      "\u001b[31mFile:\u001b[39m        c:\\users\\pauri\\appdata\\roaming\\python\\python313\\site-packages\\numpy\\random\\__init__.py\n",
      "\u001b[31mDocstring:\u001b[39m  \n",
      "========================\n",
      "Random Number Generation\n",
      "========================\n",
      "\n",
      "Use ``default_rng()`` to create a `Generator` and call its methods.\n",
      "\n",
      "=============== =========================================================\n",
      "Generator\n",
      "--------------- ---------------------------------------------------------\n",
      "Generator       Class implementing all of the random number distributions\n",
      "default_rng     Default constructor for ``Generator``\n",
      "=============== =========================================================\n",
      "\n",
      "============================================= ===\n",
      "BitGenerator Streams that work with Generator\n",
      "--------------------------------------------- ---\n",
      "MT19937\n",
      "PCG64\n",
      "PCG64DXSM\n",
      "Philox\n",
      "SFC64\n",
      "============================================= ===\n",
      "\n",
      "============================================= ===\n",
      "Getting entropy to initialize a BitGenerator\n",
      "--------------------------------------------- ---\n",
      "SeedSequence\n",
      "============================================= ===\n",
      "\n",
      "\n",
      "Legacy\n",
      "------\n",
      "\n",
      "For backwards compatibility with previous versions of numpy before 1.17, the\n",
      "various aliases to the global `RandomState` methods are left alone and do not\n",
      "use the new `Generator` API.\n",
      "\n",
      "==================== =========================================================\n",
      "Utility functions\n",
      "-------------------- ---------------------------------------------------------\n",
      "random               Uniformly distributed floats over ``[0, 1)``\n",
      "bytes                Uniformly distributed random bytes.\n",
      "permutation          Randomly permute a sequence / generate a random sequence.\n",
      "shuffle              Randomly permute a sequence in place.\n",
      "choice               Random sample from 1-D array.\n",
      "==================== =========================================================\n",
      "\n",
      "==================== =========================================================\n",
      "Compatibility\n",
      "functions - removed\n",
      "in the new API\n",
      "-------------------- ---------------------------------------------------------\n",
      "rand                 Uniformly distributed values.\n",
      "randn                Normally distributed values.\n",
      "ranf                 Uniformly distributed floating point numbers.\n",
      "random_integers      Uniformly distributed integers in a given range.\n",
      "                     (deprecated, use ``integers(..., closed=True)`` instead)\n",
      "random_sample        Alias for `random_sample`\n",
      "randint              Uniformly distributed integers in a given range\n",
      "seed                 Seed the legacy random number generator.\n",
      "==================== =========================================================\n",
      "\n",
      "==================== =========================================================\n",
      "Univariate\n",
      "distributions\n",
      "-------------------- ---------------------------------------------------------\n",
      "beta                 Beta distribution over ``[0, 1]``.\n",
      "binomial             Binomial distribution.\n",
      "chisquare            :math:`\\chi^2` distribution.\n",
      "exponential          Exponential distribution.\n",
      "f                    F (Fisher-Snedecor) distribution.\n",
      "gamma                Gamma distribution.\n",
      "geometric            Geometric distribution.\n",
      "gumbel               Gumbel distribution.\n",
      "hypergeometric       Hypergeometric distribution.\n",
      "laplace              Laplace distribution.\n",
      "logistic             Logistic distribution.\n",
      "lognormal            Log-normal distribution.\n",
      "logseries            Logarithmic series distribution.\n",
      "negative_binomial    Negative binomial distribution.\n",
      "noncentral_chisquare Non-central chi-square distribution.\n",
      "noncentral_f         Non-central F distribution.\n",
      "normal               Normal / Gaussian distribution.\n",
      "pareto               Pareto distribution.\n",
      "poisson              Poisson distribution.\n",
      "power                Power distribution.\n",
      "rayleigh             Rayleigh distribution.\n",
      "triangular           Triangular distribution.\n",
      "uniform              Uniform distribution.\n",
      "vonmises             Von Mises circular distribution.\n",
      "wald                 Wald (inverse Gaussian) distribution.\n",
      "weibull              Weibull distribution.\n",
      "zipf                 Zipf's distribution over ranked data.\n",
      "==================== =========================================================\n",
      "\n",
      "==================== ==========================================================\n",
      "Multivariate\n",
      "distributions\n",
      "-------------------- ----------------------------------------------------------\n",
      "dirichlet            Multivariate generalization of Beta distribution.\n",
      "multinomial          Multivariate generalization of the binomial distribution.\n",
      "multivariate_normal  Multivariate generalization of the normal distribution.\n",
      "==================== ==========================================================\n",
      "\n",
      "==================== =========================================================\n",
      "Standard\n",
      "distributions\n",
      "-------------------- ---------------------------------------------------------\n",
      "standard_cauchy      Standard Cauchy-Lorentz distribution.\n",
      "standard_exponential Standard exponential distribution.\n",
      "standard_gamma       Standard Gamma distribution.\n",
      "standard_normal      Standard normal distribution.\n",
      "standard_t           Standard Student's t-distribution.\n",
      "==================== =========================================================\n",
      "\n",
      "==================== =========================================================\n",
      "Internal functions\n",
      "-------------------- ---------------------------------------------------------\n",
      "get_state            Get tuple representing internal state of generator.\n",
      "set_state            Set state of generator.\n",
      "==================== ========================================================="
     ]
    }
   ],
   "source": [
    "# nos da información sobre la función\n",
    "?np.random"
   ]
  },
  {
   "cell_type": "code",
   "execution_count": 69,
   "id": "8f9e509a",
   "metadata": {},
   "outputs": [
    {
     "data": {
      "text/plain": [
       "array([0.37965297, 0.69752236, 0.47180169, 0.09511693, 0.42570647,\n",
       "       0.90740041, 0.43591565, 0.48862458, 0.02387076, 0.20368258,\n",
       "       0.91730825, 0.40641904, 0.94388075, 0.07235374, 0.17585283,\n",
       "       0.96806352, 0.4689199 , 0.20622153, 0.78277334, 0.03211054])"
      ]
     },
     "execution_count": 69,
     "metadata": {},
     "output_type": "execute_result"
    }
   ],
   "source": [
    "aleatorios = np.random.random(20) # Aleatorios basados en distribución continua o discreta\n",
    "aleatorios "
   ]
  },
  {
   "cell_type": "code",
   "execution_count": 70,
   "id": "1fb4e0bb",
   "metadata": {},
   "outputs": [
    {
     "data": {
      "text/plain": [
       "array([ 5.69425234e-02, -8.20213294e-01, -1.72064484e+00, -5.40381778e-01,\n",
       "       -1.03828056e+00, -1.27693713e+00,  1.49773467e+00, -1.22932656e-01,\n",
       "        9.31684931e-01,  6.65245521e-01,  1.35797553e-01, -1.67981089e+00,\n",
       "        6.05872748e-01, -6.86708398e-01,  9.29328684e-01,  1.51328773e+00,\n",
       "        2.73311534e-01,  6.55823272e-01, -1.16243492e-01,  2.72227961e-01,\n",
       "       -9.94618290e-01, -5.33007238e-02, -1.12207688e+00,  8.55860103e-01,\n",
       "       -9.01367463e-01,  1.54861072e+00,  4.05506401e-01, -2.07973258e-01,\n",
       "        4.62282068e-01,  1.29348129e+00, -1.47473000e+00,  9.59383720e-01,\n",
       "        4.06486032e-01, -2.24861889e-01,  1.76620613e-01,  2.42070078e-01,\n",
       "       -2.78791181e-01,  1.34481939e-01, -6.22343165e-01,  7.40349284e-01,\n",
       "       -8.29944226e-01,  2.85304679e-01,  1.02276113e+00, -2.71008394e-01,\n",
       "       -7.34222473e-01,  6.31236212e-01, -1.97726586e+00, -6.14904879e-02,\n",
       "       -2.79358746e-01, -1.58637132e+00,  1.84530385e-01,  1.59148804e-01,\n",
       "        1.78607014e+00,  6.49043655e-02,  5.53561853e-01, -1.27162072e+00,\n",
       "       -5.36644641e-01, -6.08481909e-01, -4.05552243e-01,  1.05416893e-01,\n",
       "       -7.46547627e-01, -1.07821335e+00, -1.00660365e-01,  5.28809904e-01,\n",
       "        5.27383237e-01, -3.73183456e-02, -3.55824956e-01,  1.76690821e+00,\n",
       "       -1.38309823e-01,  5.48674654e-01, -2.46477276e+00,  1.17286879e-03,\n",
       "        4.19570934e-01, -9.83914680e-01,  2.86769897e-01,  3.84586874e-01,\n",
       "        8.44218477e-01,  1.12636668e+00, -7.22106678e-01,  4.34795183e-01,\n",
       "       -3.64453191e-01, -1.84694760e-01,  2.08460093e-02,  3.81554884e-01,\n",
       "       -7.15884343e-01, -3.38634750e-01, -1.97607975e+00,  8.06641400e-01,\n",
       "        1.78247488e+00,  3.80242125e-02,  2.73255044e-01,  1.65929909e-02,\n",
       "        2.59615769e-01,  7.55689052e-01,  2.01380890e-01, -4.57982499e-01,\n",
       "       -1.89836464e+00,  1.24794313e+00,  5.37624033e-01,  1.05072154e-01])"
      ]
     },
     "execution_count": 70,
     "metadata": {},
     "output_type": "execute_result"
    }
   ],
   "source": [
    "aleatorios2 = np.random.randn(100) # Aleatorios basados en distribución normal (media 0 y desviación estándar 1)\n",
    "aleatorios2"
   ]
  },
  {
   "cell_type": "code",
   "execution_count": 71,
   "id": "5876213f",
   "metadata": {},
   "outputs": [
    {
     "data": {
      "text/plain": [
       "array([24, 29, 21,  4, 12,  8,  3,  8,  1, 14], dtype=int32)"
      ]
     },
     "execution_count": 71,
     "metadata": {},
     "output_type": "execute_result"
    }
   ],
   "source": [
    "aleatorios3 = np.random.randint(1,30,10) # Aleatorios basados en un minimo, un maximo y el número de veces a generar\n",
    "aleatorios3"
   ]
  },
  {
   "cell_type": "code",
   "execution_count": 72,
   "id": "41804128",
   "metadata": {},
   "outputs": [
    {
     "data": {
      "text/plain": [
       "array([[ 8, 21, 29, 22, 28,  2, 14, 26, 21, 27,  7, 12,  5, 12, 22, 14,\n",
       "        16, 14, 13, 17],\n",
       "       [ 7, 19,  9, 15,  4, 29, 19, 27, 12, 13, 13, 26,  7,  6, 15, 23,\n",
       "        16, 21, 18, 15],\n",
       "       [20,  7, 24, 26,  6,  3,  8,  9, 11,  2, 26, 28,  9,  7, 21, 24,\n",
       "        28, 10, 25, 20],\n",
       "       [15, 15,  6, 23, 17, 28, 25, 23,  1,  8,  6,  6, 20, 29,  4, 24,\n",
       "        23,  6, 13, 29],\n",
       "       [20, 20, 21,  1,  9, 27, 23,  3, 18, 17, 19,  5,  4, 15, 23, 27,\n",
       "        12, 23, 20, 19],\n",
       "       [21,  5,  9, 29, 12, 24, 18, 23, 27, 18, 12, 15,  8, 26, 12, 14,\n",
       "        13, 26,  8, 20],\n",
       "       [ 3, 27, 20,  5, 27, 12, 15,  9, 14, 28, 22, 24, 13,  5, 22, 21,\n",
       "        13,  9, 25, 16],\n",
       "       [26, 27, 23,  5, 10, 21, 11, 26, 12,  1, 11,  3, 21,  8,  2, 17,\n",
       "        15,  2,  4, 13],\n",
       "       [13, 20, 28,  1, 26, 15, 11, 26, 17,  4,  3, 26, 26, 12, 16,  7,\n",
       "        28, 23,  4, 23],\n",
       "       [27, 19,  7,  5, 10, 18,  3, 19, 17,  2,  8, 15, 13, 29,  3,  5,\n",
       "        12,  5, 18,  7]], dtype=int32)"
      ]
     },
     "execution_count": 72,
     "metadata": {},
     "output_type": "execute_result"
    }
   ],
   "source": [
    "aleatorios4 = np.random.randint(1,30,(10,20)) # Si ponemos el ultimo argumento en formato tupla nos genera una matriz, 20 elementos dentro de cada array por 10 arrays\n",
    "aleatorios4"
   ]
  },
  {
   "cell_type": "code",
   "execution_count": 73,
   "id": "7983e1b3",
   "metadata": {},
   "outputs": [
    {
     "data": {
      "text/plain": [
       "(array([ 1.,  0.,  3.,  2.,  2.,  2.,  5.,  3.,  7.,  6.,  8., 12., 15.,\n",
       "         7.,  9.,  7.,  3.,  2.,  3.,  3.]),\n",
       " array([-2.46477276, -2.25223062, -2.03968847, -1.82714633, -1.61460418,\n",
       "        -1.40206204, -1.18951989, -0.97697775, -0.7644356 , -0.55189346,\n",
       "        -0.33935131, -0.12680917,  0.08573298,  0.29827512,  0.51081727,\n",
       "         0.72335941,  0.93590156,  1.1484437 ,  1.36098585,  1.57352799,\n",
       "         1.78607014]),\n",
       " <BarContainer object of 20 artists>)"
      ]
     },
     "execution_count": 73,
     "metadata": {},
     "output_type": "execute_result"
    },
    {
     "data": {
      "image/png": "[encoded data removed]",
      "text/plain": [
       "<Figure size 640x480 with 1 Axes>"
      ]
     },
     "metadata": {},
     "output_type": "display_data"
    }
   ],
   "source": [
    "# Representamos gráficamente estos arrays aleatorios (aleatorios2), distribució normal\n",
    "%matplotlib inline \n",
    "import matplotlib.pyplot as plt\n",
    "plt.hist(aleatorios2, bins=20) # ploteamos un historgrama de los datos aleatorios2, con 20 bins(grupos)"
   ]
  },
  {
   "cell_type": "markdown",
   "id": "007366b6",
   "metadata": {},
   "source": [
    "##### Funciones arrays"
   ]
  },
  {
   "cell_type": "code",
   "execution_count": 74,
   "id": "a4109757",
   "metadata": {},
   "outputs": [
    {
     "data": {
      "text/plain": [
       "array([0., 0., 0., 0., 0., 0.])"
      ]
     },
     "execution_count": 74,
     "metadata": {},
     "output_type": "execute_result"
    }
   ],
   "source": [
    "zeros = np.zeros(6) # array de ceros \n",
    "zeros"
   ]
  },
  {
   "cell_type": "code",
   "execution_count": 75,
   "id": "8b1220a5",
   "metadata": {},
   "outputs": [
    {
     "data": {
      "text/plain": [
       "array([[0., 0., 0., 0., 0., 0., 0., 0., 0., 0.],\n",
       "       [0., 0., 0., 0., 0., 0., 0., 0., 0., 0.],\n",
       "       [0., 0., 0., 0., 0., 0., 0., 0., 0., 0.],\n",
       "       [0., 0., 0., 0., 0., 0., 0., 0., 0., 0.],\n",
       "       [0., 0., 0., 0., 0., 0., 0., 0., 0., 0.],\n",
       "       [0., 0., 0., 0., 0., 0., 0., 0., 0., 0.]])"
      ]
     },
     "execution_count": 75,
     "metadata": {},
     "output_type": "execute_result"
    }
   ],
   "source": [
    "zeros_matrix = np.zeros((6,10)) # matriz de 6 array de 10 ceros \n",
    "zeros_matrix"
   ]
  },
  {
   "cell_type": "code",
   "execution_count": 76,
   "id": "8cd93d8a",
   "metadata": {},
   "outputs": [
    {
     "data": {
      "text/plain": [
       "array([1., 1., 1., 1., 1., 1.])"
      ]
     },
     "execution_count": 76,
     "metadata": {},
     "output_type": "execute_result"
    }
   ],
   "source": [
    "ones = np.ones(6) #arra de unos\n",
    "ones"
   ]
  },
  {
   "cell_type": "code",
   "execution_count": 77,
   "id": "1ad4d198",
   "metadata": {},
   "outputs": [
    {
     "data": {
      "text/plain": [
       "array([20. , 20.5, 21. , 21.5, 22. , 22.5, 23. , 23.5, 24. , 24.5, 25. ,\n",
       "       25.5, 26. , 26.5, 27. , 27.5, 28. , 28.5, 29. , 29.5])"
      ]
     },
     "execution_count": 77,
     "metadata": {},
     "output_type": "execute_result"
    }
   ],
   "source": [
    "# generar numeros no aletarorios, distrbución lineal\n",
    "rango = np.arange(20, 30, 0.5) # primer elemento desde donde empieza, segundo elemento donde termina, y tercer elemento incremento\n",
    "rango"
   ]
  },
  {
   "cell_type": "code",
   "execution_count": 78,
   "id": "0bd08f59",
   "metadata": {},
   "outputs": [
    {
     "data": {
      "text/plain": [
       "array([10.        , 10.43478261, 10.86956522, 11.30434783, 11.73913043,\n",
       "       12.17391304, 12.60869565, 13.04347826, 13.47826087, 13.91304348,\n",
       "       14.34782609, 14.7826087 , 15.2173913 , 15.65217391, 16.08695652,\n",
       "       16.52173913, 16.95652174, 17.39130435, 17.82608696, 18.26086957,\n",
       "       18.69565217, 19.13043478, 19.56521739, 20.        ])"
      ]
     },
     "execution_count": 78,
     "metadata": {},
     "output_type": "execute_result"
    }
   ],
   "source": [
    "# generar un array entre una serie de numeros y un numero determinado de elementos, los valores estarán uniformemente distribuidos (espaciados de forma regular).\n",
    "espacio = np.linspace(10,20,24)\n",
    "espacio"
   ]
  },
  {
   "cell_type": "markdown",
   "id": "2599d1e1",
   "metadata": {},
   "source": [
    "##### Vectores"
   ]
  },
  {
   "cell_type": "code",
   "execution_count": 79,
   "id": "8438a3e9",
   "metadata": {},
   "outputs": [
    {
     "name": "stdout",
     "output_type": "stream",
     "text": [
      "142\n"
     ]
    },
    {
     "data": {
      "text/plain": [
       "array([10, 18, 17, 16, 10, 19, 10, 12, 13, 17], dtype=int32)"
      ]
     },
     "execution_count": 79,
     "metadata": {},
     "output_type": "execute_result"
    }
   ],
   "source": [
    "vector = np.random.randint(10, 20 ,10)\n",
    "print(vector.sum()) # suma de todos los elementos del vector\n",
    "vector"
   ]
  },
  {
   "cell_type": "code",
   "execution_count": 80,
   "id": "bb47be4a",
   "metadata": {},
   "outputs": [
    {
     "data": {
      "text/plain": [
       "{1, 2, 3, 4, 5, 6, 7, 8, 9}"
      ]
     },
     "execution_count": 80,
     "metadata": {},
     "output_type": "execute_result"
    }
   ],
   "source": [
    "set([1,1,2,3,4,5,6,6,6,6,7,8,8,8,8,9,9,9,9]) # aplicando la función set nos da la lista de numeros unica"
   ]
  },
  {
   "cell_type": "code",
   "execution_count": 81,
   "id": "483a22b6",
   "metadata": {},
   "outputs": [
    {
     "data": {
      "text/plain": [
       "array([[10, 18],\n",
       "       [17, 16],\n",
       "       [10, 19],\n",
       "       [10, 12],\n",
       "       [13, 17]], dtype=int32)"
      ]
     },
     "execution_count": 81,
     "metadata": {},
     "output_type": "execute_result"
    }
   ],
   "source": [
    "matriz = vector.reshape((5,2)) # Reaordenamos los elementos del vector (convierte un array de dos elementos (vector) en un matriz de 5 arrays y 2 elementos por array)\n",
    "matriz # cuando queda algun elemento suelto o faltante no funciona"
   ]
  },
  {
   "cell_type": "code",
   "execution_count": 82,
   "id": "1d0db39c",
   "metadata": {},
   "outputs": [
    {
     "name": "stdout",
     "output_type": "stream",
     "text": [
      "[60 82]\n",
      "[28 33 29 22 30]\n"
     ]
    }
   ],
   "source": [
    "print(matriz.sum(axis=0)) # suma de las columnas\n",
    "print(matriz.sum(axis=1)) # suma de las filas\n"
   ]
  },
  {
   "cell_type": "code",
   "execution_count": 83,
   "id": "a9d1d884",
   "metadata": {},
   "outputs": [
    {
     "data": {
      "text/plain": [
       "array([[20, 36],\n",
       "       [34, 32],\n",
       "       [20, 38],\n",
       "       [20, 24],\n",
       "       [26, 34]], dtype=int32)"
      ]
     },
     "execution_count": 83,
     "metadata": {},
     "output_type": "execute_result"
    }
   ],
   "source": [
    "# mutliplicaciones de matriz\n",
    "matriz*2 # cada elemento de nuestra matriz multiplicalo por dos"
   ]
  },
  {
   "cell_type": "code",
   "execution_count": 84,
   "id": "0a59c099",
   "metadata": {},
   "outputs": [
    {
     "data": {
      "text/plain": [
       "array([[13, 21],\n",
       "       [20, 19],\n",
       "       [13, 22],\n",
       "       [13, 15],\n",
       "       [16, 20]], dtype=int32)"
      ]
     },
     "execution_count": 84,
     "metadata": {},
     "output_type": "execute_result"
    }
   ],
   "source": [
    "# suma x a cada uno de de los elementos de la matriz\n",
    "matriz + 3"
   ]
  },
  {
   "cell_type": "markdown",
   "id": "dac00e1b",
   "metadata": {},
   "source": [
    "##### Ufuncs\n",
    "\n",
    "https://docs.scpicy.org/doc/numpy/reference/ufuncs.html"
   ]
  },
  {
   "cell_type": "code",
   "execution_count": 89,
   "id": "b2e7df4e",
   "metadata": {},
   "outputs": [
    {
     "name": "stdout",
     "output_type": "stream",
     "text": [
      "[ 1.          1.18367347  1.36734694  1.55102041  1.73469388  1.91836735\n",
      "  2.10204082  2.28571429  2.46938776  2.65306122  2.83673469  3.02040816\n",
      "  3.20408163  3.3877551   3.57142857  3.75510204  3.93877551  4.12244898\n",
      "  4.30612245  4.48979592  4.67346939  4.85714286  5.04081633  5.2244898\n",
      "  5.40816327  5.59183673  5.7755102   5.95918367  6.14285714  6.32653061\n",
      "  6.51020408  6.69387755  6.87755102  7.06122449  7.24489796  7.42857143\n",
      "  7.6122449   7.79591837  7.97959184  8.16326531  8.34693878  8.53061224\n",
      "  8.71428571  8.89795918  9.08163265  9.26530612  9.44897959  9.63265306\n",
      "  9.81632653 10.        ]\n",
      "[ 0.84147098  0.92599909  0.97937546  0.99980446  0.98659884  0.94020283\n",
      "  0.86217727  0.75514703  0.62271272  0.46932961  0.30015769  0.1208881\n",
      " -0.06244832 -0.2436839  -0.41672165 -0.57574039 -0.71539052 -0.83097406\n",
      " -0.91860262 -0.97532829 -0.99924273 -0.98954144 -0.94655078 -0.87171701\n",
      " -0.76755763 -0.63757668 -0.48614689 -0.31836252 -0.13986806  0.04333173\n",
      "  0.2250738   0.3992441   0.55998336  0.7018841   0.82017261  0.91086952\n",
      "  0.97092368  0.9983148   0.99212141  0.95255185  0.8809373   0.77968695\n",
      "  0.65220699  0.50278601  0.33645069  0.15879677 -0.02419927 -0.20638121\n",
      " -0.38162024 -0.54402111]\n"
     ]
    },
    {
     "data": {
      "text/plain": [
       "[<matplotlib.lines.Line2D at 0x2473d171450>]"
      ]
     },
     "execution_count": 89,
     "metadata": {},
     "output_type": "execute_result"
    },
    {
     "data": {
      "image/png": "[encoded data removed]",
      "text/plain": [
       "<Figure size 640x480 with 1 Axes>"
      ]
     },
     "metadata": {},
     "output_type": "display_data"
    }
   ],
   "source": [
    "x = np.linspace(1, 10) # generamos un vector de valores entre 1 y 10, por defecto, crea 50 valores (tercer argumento) igualmente espaciados, no aleatorios.\n",
    "y = np.sin(x) # calculamos el seno de x\n",
    "print(x)\n",
    "print(y)\n",
    "plt.plot(x,y) # generamos el plot de los valores de eje x por y\n"
   ]
  },
  {
   "cell_type": "code",
   "execution_count": 87,
   "id": "1941f197",
   "metadata": {},
   "outputs": [
    {
     "data": {
      "text/plain": [
       "np.float64(5.5)"
      ]
     },
     "execution_count": 87,
     "metadata": {},
     "output_type": "execute_result"
    }
   ],
   "source": [
    "x.mean() # media del array"
   ]
  },
  {
   "cell_type": "code",
   "execution_count": 88,
   "id": "3a14eead",
   "metadata": {},
   "outputs": [
    {
     "data": {
      "text/plain": [
       "np.float64(275.0)"
      ]
     },
     "execution_count": 88,
     "metadata": {},
     "output_type": "execute_result"
    }
   ],
   "source": [
    "x.sum() # suma del eje x"
   ]
  },
  {
   "cell_type": "code",
   "execution_count": 90,
   "id": "4b9cdd39",
   "metadata": {},
   "outputs": [
    {
     "data": {
      "text/plain": [
       "array([1.        , 1.08796759, 1.16933611, 1.2453997 , 1.31707778,\n",
       "       1.38505139, 1.44984165, 1.51185789, 1.57142857, 1.62882204,\n",
       "       1.68426087, 1.73793215, 1.78999487, 1.84058553, 1.88982237,\n",
       "       1.93780857, 1.98463486, 2.03038149, 2.07511986, 2.11891385,\n",
       "       2.16182085, 2.20389266, 2.24517624, 2.28571429, 2.3255458 ,\n",
       "       2.36470648, 2.40322912, 2.44114393, 2.4784788 , 2.51525955,\n",
       "       2.55151016, 2.5872529 , 2.62250854, 2.65729646, 2.69163481,\n",
       "       2.72554058, 2.7590297 , 2.79211718, 2.82481713, 2.85714286,\n",
       "       2.88910692, 2.92072119, 2.9519969 , 2.98294472, 3.01357473,\n",
       "       3.04389654, 3.07391926, 3.10365157, 3.13310174, 3.16227766])"
      ]
     },
     "execution_count": 90,
     "metadata": {},
     "output_type": "execute_result"
    }
   ],
   "source": [
    "np.sqrt(x) # raiz cuadrada de x, cada elemento"
   ]
  },
  {
   "cell_type": "markdown",
   "id": "ab4085e0",
   "metadata": {},
   "source": [
    "##### Arrays multidimensionales"
   ]
  },
  {
   "cell_type": "code",
   "execution_count": 92,
   "id": "c11a4684",
   "metadata": {},
   "outputs": [
    {
     "data": {
      "text/plain": [
       "array([[ 1,  2,  3,  4],\n",
       "       [ 5,  6,  7,  8],\n",
       "       [ 9, 10, 11, 12]])"
      ]
     },
     "execution_count": 92,
     "metadata": {},
     "output_type": "execute_result"
    }
   ],
   "source": [
    "m = np.array([[1,2,3,4], [5,6,7,8], [9,10,11,12]]) # 2D\n",
    "m"
   ]
  },
  {
   "cell_type": "code",
   "execution_count": 94,
   "id": "bf4dbf12",
   "metadata": {},
   "outputs": [
    {
     "name": "stdout",
     "output_type": "stream",
     "text": [
      "(3, 4)\n",
      "2\n"
     ]
    }
   ],
   "source": [
    "print(m.shape) # forma de la matriz\n",
    "print(m.ndim) # numero de dimensiones"
   ]
  },
  {
   "cell_type": "code",
   "execution_count": 99,
   "id": "93017e83",
   "metadata": {},
   "outputs": [
    {
     "data": {
      "text/plain": [
       "array([[[2, 8, 3, ..., 9, 8, 9],\n",
       "        [3, 5, 8, ..., 8, 7, 3],\n",
       "        [2, 6, 2, ..., 3, 8, 4],\n",
       "        ...,\n",
       "        [9, 2, 4, ..., 8, 8, 5],\n",
       "        [3, 7, 7, ..., 4, 3, 8],\n",
       "        [6, 6, 5, ..., 4, 2, 2]],\n",
       "\n",
       "       [[6, 7, 4, ..., 2, 7, 5],\n",
       "        [6, 8, 6, ..., 2, 3, 7],\n",
       "        [6, 4, 7, ..., 4, 6, 4],\n",
       "        ...,\n",
       "        [1, 4, 1, ..., 1, 9, 6],\n",
       "        [7, 4, 6, ..., 2, 5, 5],\n",
       "        [1, 8, 8, ..., 1, 4, 4]],\n",
       "\n",
       "       [[4, 5, 9, ..., 9, 5, 8],\n",
       "        [2, 6, 7, ..., 7, 3, 2],\n",
       "        [7, 6, 9, ..., 8, 5, 1],\n",
       "        ...,\n",
       "        [9, 2, 4, ..., 7, 5, 8],\n",
       "        [9, 7, 5, ..., 8, 5, 8],\n",
       "        [2, 2, 7, ..., 3, 7, 3]],\n",
       "\n",
       "       ...,\n",
       "\n",
       "       [[8, 2, 6, ..., 6, 3, 2],\n",
       "        [7, 1, 3, ..., 7, 6, 6],\n",
       "        [6, 7, 2, ..., 8, 4, 3],\n",
       "        ...,\n",
       "        [2, 7, 3, ..., 9, 1, 6],\n",
       "        [5, 7, 5, ..., 4, 2, 6],\n",
       "        [1, 6, 9, ..., 2, 3, 7]],\n",
       "\n",
       "       [[9, 3, 3, ..., 7, 4, 1],\n",
       "        [2, 8, 1, ..., 6, 2, 6],\n",
       "        [9, 7, 2, ..., 5, 4, 4],\n",
       "        ...,\n",
       "        [3, 5, 9, ..., 3, 1, 4],\n",
       "        [1, 7, 7, ..., 5, 1, 2],\n",
       "        [6, 5, 8, ..., 8, 2, 5]],\n",
       "\n",
       "       [[8, 8, 6, ..., 1, 6, 5],\n",
       "        [5, 6, 6, ..., 4, 2, 2],\n",
       "        [9, 7, 5, ..., 8, 2, 1],\n",
       "        ...,\n",
       "        [8, 1, 5, ..., 4, 8, 9],\n",
       "        [3, 1, 2, ..., 6, 8, 5],\n",
       "        [9, 1, 7, ..., 3, 2, 9]]], shape=(10, 20, 10), dtype=int32)"
      ]
     },
     "execution_count": 99,
     "metadata": {},
     "output_type": "execute_result"
    }
   ],
   "source": [
    "np.random.randint(1,10,(10,20,10)) # generamos un array con tres dimensiones, filas, columnas y profundidad (este tipo de datos se suelen usar en datos no extructurados (imagenes, videos...))\n",
    "# los [ iniciales indica el numero de dimensiones de la matriz"
   ]
  },
  {
   "cell_type": "code",
   "execution_count": 100,
   "id": "c1dfffd5",
   "metadata": {},
   "outputs": [
    {
     "data": {
      "text/plain": [
       "array([1, 2, 3, 4])"
      ]
     },
     "execution_count": 100,
     "metadata": {},
     "output_type": "execute_result"
    }
   ],
   "source": [
    "# Vamos a sacar todos los valores del primer array, primer array\n",
    "m[0]"
   ]
  },
  {
   "cell_type": "code",
   "execution_count": 101,
   "id": "be3cdc05",
   "metadata": {},
   "outputs": [
    {
     "data": {
      "text/plain": [
       "np.int64(1)"
      ]
     },
     "execution_count": 101,
     "metadata": {},
     "output_type": "execute_result"
    }
   ],
   "source": [
    "# el primer elemento del primer arrray \n",
    "m[0][0]"
   ]
  },
  {
   "cell_type": "code",
   "execution_count": 103,
   "id": "71afb836",
   "metadata": {},
   "outputs": [
    {
     "data": {
      "text/plain": [
       "array([ 3,  7, 11])"
      ]
     },
     "execution_count": 103,
     "metadata": {},
     "output_type": "execute_result"
    }
   ],
   "source": [
    "# acceder al tercer elemento de cada uno de los arrays, tercera columna\n",
    "m[: ,2]"
   ]
  },
  {
   "cell_type": "code",
   "execution_count": 104,
   "id": "e72eaee9",
   "metadata": {},
   "outputs": [
    {
     "data": {
      "text/plain": [
       "array([ 9, 10, 11, 12])"
      ]
     },
     "execution_count": 104,
     "metadata": {},
     "output_type": "execute_result"
    }
   ],
   "source": [
    "# todos los elementos de la tercera fila\n",
    "m[2,:] # Cuando aplicamos : nos extra todos los elementos, ya sea de la columna o la fila\n",
    "# el primer elemento representa la fila y el segundo la columna"
   ]
  },
  {
   "cell_type": "code",
   "execution_count": 105,
   "id": "67861002",
   "metadata": {},
   "outputs": [
    {
     "data": {
      "text/plain": [
       "array([[ 1,  2,  3,  4],\n",
       "       [ 5,  6,  7,  8],\n",
       "       [ 9, 10, 11, 12]])"
      ]
     },
     "execution_count": 105,
     "metadata": {},
     "output_type": "execute_result"
    }
   ],
   "source": [
    "# toda la matriz\n",
    "m[:,:]"
   ]
  },
  {
   "cell_type": "markdown",
   "id": "3bd91dce",
   "metadata": {},
   "source": [
    "Este mismo metodo de filtrado se aplica para las n dimensiones de la matriz"
   ]
  },
  {
   "cell_type": "markdown",
   "id": "85051130",
   "metadata": {},
   "source": [
    "##### Condiciones booleanas"
   ]
  },
  {
   "cell_type": "code",
   "execution_count": 110,
   "id": "565c603d",
   "metadata": {},
   "outputs": [
    {
     "data": {
      "text/plain": [
       "array([[False, False, False, False],\n",
       "       [False, False, False, False],\n",
       "       [ True,  True,  True,  True]])"
      ]
     },
     "execution_count": 110,
     "metadata": {},
     "output_type": "execute_result"
    }
   ],
   "source": [
    "# Booleanos\n",
    "condicion = m >=9\n",
    "condicion"
   ]
  },
  {
   "cell_type": "code",
   "execution_count": 111,
   "id": "b2d5aad1",
   "metadata": {},
   "outputs": [
    {
     "data": {
      "text/plain": [
       "array([[ 1,  2,  3,  4],\n",
       "       [ 5,  6,  7,  8],\n",
       "       [ 9, 10, 11, 12]])"
      ]
     },
     "execution_count": 111,
     "metadata": {},
     "output_type": "execute_result"
    }
   ],
   "source": [
    "m"
   ]
  },
  {
   "cell_type": "code",
   "execution_count": 112,
   "id": "bd2c0b65",
   "metadata": {},
   "outputs": [
    {
     "data": {
      "text/plain": [
       "array([1, 2, 3, 4, 5, 6, 7, 8])"
      ]
     },
     "execution_count": 112,
     "metadata": {},
     "output_type": "execute_result"
    }
   ],
   "source": [
    "m[condicion == False] # que valores cumplen la condicion de False"
   ]
  },
  {
   "cell_type": "code",
   "execution_count": 116,
   "id": "2654780d",
   "metadata": {},
   "outputs": [
    {
     "data": {
      "text/plain": [
       "array([[ True, False, False, False],\n",
       "       [False, False, False, False],\n",
       "       [False, False, False, False]])"
      ]
     },
     "execution_count": 116,
     "metadata": {},
     "output_type": "execute_result"
    }
   ],
   "source": [
    "# podemos hacer multicondiciones\n",
    "condicion2 = (m<9) & (m==1)\n",
    "condicion2"
   ]
  },
  {
   "cell_type": "code",
   "execution_count": 117,
   "id": "81dae84b",
   "metadata": {},
   "outputs": [
    {
     "data": {
      "text/plain": [
       "array([[ 1,  5,  9],\n",
       "       [ 2,  6, 10],\n",
       "       [ 3,  7, 11],\n",
       "       [ 4,  8, 12]])"
      ]
     },
     "execution_count": 117,
     "metadata": {},
     "output_type": "execute_result"
    }
   ],
   "source": [
    "# Obtener la matriz traspuesta (invertida) de la matriz\n",
    "m.T"
   ]
  }
 ],
 "metadata": {
  "kernelspec": {
   "display_name": "Python 3",
   "language": "python",
   "name": "python3"
  },
  "language_info": {
   "codemirror_mode": {
    "name": "ipython",
    "version": 3
   },
   "file_extension": ".py",
   "mimetype": "text/x-python",
   "name": "python",
   "nbconvert_exporter": "python",
   "pygments_lexer": "ipython3",
   "version": "3.13.2"
  }
 },
 "nbformat": 4,
 "nbformat_minor": 5
}
