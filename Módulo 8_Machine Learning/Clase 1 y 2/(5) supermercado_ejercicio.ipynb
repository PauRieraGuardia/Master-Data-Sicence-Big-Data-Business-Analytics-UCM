{
 "cells": [
  {
   "cell_type": "code",
   "execution_count": null,
   "id": "67842ff7",
   "metadata": {},
   "outputs": [],
   "source": [
    "import pandas as pd\n",
    "import matplotlib.pyplot as plt\n",
    "import seaborn as sns\n",
    "import datetime\n",
    "import plotly.express as px # Visualización de datos interactiva\n",
    "import numpy as np"
   ]
  },
  {
   "cell_type": "code",
   "execution_count": 56,
   "id": "ed703245",
   "metadata": {},
   "outputs": [
    {
     "data": {
      "text/html": [
       "<div>\n",
       "<style scoped>\n",
       "    .dataframe tbody tr th:only-of-type {\n",
       "        vertical-align: middle;\n",
       "    }\n",
       "\n",
       "    .dataframe tbody tr th {\n",
       "        vertical-align: top;\n",
       "    }\n",
       "\n",
       "    .dataframe thead th {\n",
       "        text-align: right;\n",
       "    }\n",
       "</style>\n",
       "<table border=\"1\" class=\"dataframe\">\n",
       "  <thead>\n",
       "    <tr style=\"text-align: right;\">\n",
       "      <th></th>\n",
       "      <th>Invoice ID</th>\n",
       "      <th>Branch</th>\n",
       "      <th>City</th>\n",
       "      <th>Customer type</th>\n",
       "      <th>Gender</th>\n",
       "      <th>Product line</th>\n",
       "      <th>Unit price</th>\n",
       "      <th>Quantity</th>\n",
       "      <th>Tax 5%</th>\n",
       "      <th>Total</th>\n",
       "      <th>Date</th>\n",
       "      <th>Time</th>\n",
       "      <th>Payment</th>\n",
       "      <th>cogs</th>\n",
       "      <th>gross margin percentage</th>\n",
       "      <th>gross income</th>\n",
       "      <th>Rating</th>\n",
       "    </tr>\n",
       "  </thead>\n",
       "  <tbody>\n",
       "    <tr>\n",
       "      <th>0</th>\n",
       "      <td>750-67-8428</td>\n",
       "      <td>A</td>\n",
       "      <td>Yangon</td>\n",
       "      <td>Member</td>\n",
       "      <td>Female</td>\n",
       "      <td>Health and beauty</td>\n",
       "      <td>74.69</td>\n",
       "      <td>7</td>\n",
       "      <td>26.1415</td>\n",
       "      <td>548.9715</td>\n",
       "      <td>1/5/2019</td>\n",
       "      <td>13:08</td>\n",
       "      <td>Ewallet</td>\n",
       "      <td>522.83</td>\n",
       "      <td>4.761905</td>\n",
       "      <td>26.1415</td>\n",
       "      <td>9.1</td>\n",
       "    </tr>\n",
       "    <tr>\n",
       "      <th>1</th>\n",
       "      <td>226-31-3081</td>\n",
       "      <td>C</td>\n",
       "      <td>Naypyitaw</td>\n",
       "      <td>Normal</td>\n",
       "      <td>Female</td>\n",
       "      <td>Electronic accessories</td>\n",
       "      <td>15.28</td>\n",
       "      <td>5</td>\n",
       "      <td>3.8200</td>\n",
       "      <td>80.2200</td>\n",
       "      <td>3/8/2019</td>\n",
       "      <td>10:29</td>\n",
       "      <td>Cash</td>\n",
       "      <td>76.40</td>\n",
       "      <td>4.761905</td>\n",
       "      <td>3.8200</td>\n",
       "      <td>9.6</td>\n",
       "    </tr>\n",
       "    <tr>\n",
       "      <th>2</th>\n",
       "      <td>631-41-3108</td>\n",
       "      <td>A</td>\n",
       "      <td>Yangon</td>\n",
       "      <td>Normal</td>\n",
       "      <td>Male</td>\n",
       "      <td>Home and lifestyle</td>\n",
       "      <td>46.33</td>\n",
       "      <td>7</td>\n",
       "      <td>16.2155</td>\n",
       "      <td>340.5255</td>\n",
       "      <td>3/3/2019</td>\n",
       "      <td>13:23</td>\n",
       "      <td>Credit card</td>\n",
       "      <td>324.31</td>\n",
       "      <td>4.761905</td>\n",
       "      <td>16.2155</td>\n",
       "      <td>7.4</td>\n",
       "    </tr>\n",
       "    <tr>\n",
       "      <th>3</th>\n",
       "      <td>123-19-1176</td>\n",
       "      <td>A</td>\n",
       "      <td>Yangon</td>\n",
       "      <td>Member</td>\n",
       "      <td>Male</td>\n",
       "      <td>Health and beauty</td>\n",
       "      <td>58.22</td>\n",
       "      <td>8</td>\n",
       "      <td>23.2880</td>\n",
       "      <td>489.0480</td>\n",
       "      <td>1/27/2019</td>\n",
       "      <td>20:33</td>\n",
       "      <td>Ewallet</td>\n",
       "      <td>465.76</td>\n",
       "      <td>4.761905</td>\n",
       "      <td>23.2880</td>\n",
       "      <td>8.4</td>\n",
       "    </tr>\n",
       "    <tr>\n",
       "      <th>4</th>\n",
       "      <td>373-73-7910</td>\n",
       "      <td>A</td>\n",
       "      <td>Yangon</td>\n",
       "      <td>Normal</td>\n",
       "      <td>Male</td>\n",
       "      <td>Sports and travel</td>\n",
       "      <td>86.31</td>\n",
       "      <td>7</td>\n",
       "      <td>30.2085</td>\n",
       "      <td>634.3785</td>\n",
       "      <td>2/8/2019</td>\n",
       "      <td>10:37</td>\n",
       "      <td>Ewallet</td>\n",
       "      <td>604.17</td>\n",
       "      <td>4.761905</td>\n",
       "      <td>30.2085</td>\n",
       "      <td>5.3</td>\n",
       "    </tr>\n",
       "    <tr>\n",
       "      <th>...</th>\n",
       "      <td>...</td>\n",
       "      <td>...</td>\n",
       "      <td>...</td>\n",
       "      <td>...</td>\n",
       "      <td>...</td>\n",
       "      <td>...</td>\n",
       "      <td>...</td>\n",
       "      <td>...</td>\n",
       "      <td>...</td>\n",
       "      <td>...</td>\n",
       "      <td>...</td>\n",
       "      <td>...</td>\n",
       "      <td>...</td>\n",
       "      <td>...</td>\n",
       "      <td>...</td>\n",
       "      <td>...</td>\n",
       "      <td>...</td>\n",
       "    </tr>\n",
       "    <tr>\n",
       "      <th>995</th>\n",
       "      <td>233-67-5758</td>\n",
       "      <td>C</td>\n",
       "      <td>Naypyitaw</td>\n",
       "      <td>Normal</td>\n",
       "      <td>Male</td>\n",
       "      <td>Health and beauty</td>\n",
       "      <td>40.35</td>\n",
       "      <td>1</td>\n",
       "      <td>2.0175</td>\n",
       "      <td>42.3675</td>\n",
       "      <td>1/29/2019</td>\n",
       "      <td>13:46</td>\n",
       "      <td>Ewallet</td>\n",
       "      <td>40.35</td>\n",
       "      <td>4.761905</td>\n",
       "      <td>2.0175</td>\n",
       "      <td>6.2</td>\n",
       "    </tr>\n",
       "    <tr>\n",
       "      <th>996</th>\n",
       "      <td>303-96-2227</td>\n",
       "      <td>B</td>\n",
       "      <td>Mandalay</td>\n",
       "      <td>Normal</td>\n",
       "      <td>Female</td>\n",
       "      <td>Home and lifestyle</td>\n",
       "      <td>97.38</td>\n",
       "      <td>10</td>\n",
       "      <td>48.6900</td>\n",
       "      <td>1022.4900</td>\n",
       "      <td>3/2/2019</td>\n",
       "      <td>17:16</td>\n",
       "      <td>Ewallet</td>\n",
       "      <td>973.80</td>\n",
       "      <td>4.761905</td>\n",
       "      <td>48.6900</td>\n",
       "      <td>4.4</td>\n",
       "    </tr>\n",
       "    <tr>\n",
       "      <th>997</th>\n",
       "      <td>727-02-1313</td>\n",
       "      <td>A</td>\n",
       "      <td>Yangon</td>\n",
       "      <td>Member</td>\n",
       "      <td>Male</td>\n",
       "      <td>Food and beverages</td>\n",
       "      <td>31.84</td>\n",
       "      <td>1</td>\n",
       "      <td>1.5920</td>\n",
       "      <td>33.4320</td>\n",
       "      <td>2/9/2019</td>\n",
       "      <td>13:22</td>\n",
       "      <td>Cash</td>\n",
       "      <td>31.84</td>\n",
       "      <td>4.761905</td>\n",
       "      <td>1.5920</td>\n",
       "      <td>7.7</td>\n",
       "    </tr>\n",
       "    <tr>\n",
       "      <th>998</th>\n",
       "      <td>347-56-2442</td>\n",
       "      <td>A</td>\n",
       "      <td>Yangon</td>\n",
       "      <td>Normal</td>\n",
       "      <td>Male</td>\n",
       "      <td>Home and lifestyle</td>\n",
       "      <td>65.82</td>\n",
       "      <td>1</td>\n",
       "      <td>3.2910</td>\n",
       "      <td>69.1110</td>\n",
       "      <td>2/22/2019</td>\n",
       "      <td>15:33</td>\n",
       "      <td>Cash</td>\n",
       "      <td>65.82</td>\n",
       "      <td>4.761905</td>\n",
       "      <td>3.2910</td>\n",
       "      <td>4.1</td>\n",
       "    </tr>\n",
       "    <tr>\n",
       "      <th>999</th>\n",
       "      <td>849-09-3807</td>\n",
       "      <td>A</td>\n",
       "      <td>Yangon</td>\n",
       "      <td>Member</td>\n",
       "      <td>Female</td>\n",
       "      <td>Fashion accessories</td>\n",
       "      <td>88.34</td>\n",
       "      <td>7</td>\n",
       "      <td>30.9190</td>\n",
       "      <td>649.2990</td>\n",
       "      <td>2/18/2019</td>\n",
       "      <td>13:28</td>\n",
       "      <td>Cash</td>\n",
       "      <td>618.38</td>\n",
       "      <td>4.761905</td>\n",
       "      <td>30.9190</td>\n",
       "      <td>6.6</td>\n",
       "    </tr>\n",
       "  </tbody>\n",
       "</table>\n",
       "<p>1000 rows × 17 columns</p>\n",
       "</div>"
      ],
      "text/plain": [
       "      Invoice ID Branch       City Customer type  Gender  \\\n",
       "0    750-67-8428      A     Yangon        Member  Female   \n",
       "1    226-31-3081      C  Naypyitaw        Normal  Female   \n",
       "2    631-41-3108      A     Yangon        Normal    Male   \n",
       "3    123-19-1176      A     Yangon        Member    Male   \n",
       "4    373-73-7910      A     Yangon        Normal    Male   \n",
       "..           ...    ...        ...           ...     ...   \n",
       "995  233-67-5758      C  Naypyitaw        Normal    Male   \n",
       "996  303-96-2227      B   Mandalay        Normal  Female   \n",
       "997  727-02-1313      A     Yangon        Member    Male   \n",
       "998  347-56-2442      A     Yangon        Normal    Male   \n",
       "999  849-09-3807      A     Yangon        Member  Female   \n",
       "\n",
       "               Product line  Unit price  Quantity   Tax 5%      Total  \\\n",
       "0         Health and beauty       74.69         7  26.1415   548.9715   \n",
       "1    Electronic accessories       15.28         5   3.8200    80.2200   \n",
       "2        Home and lifestyle       46.33         7  16.2155   340.5255   \n",
       "3         Health and beauty       58.22         8  23.2880   489.0480   \n",
       "4         Sports and travel       86.31         7  30.2085   634.3785   \n",
       "..                      ...         ...       ...      ...        ...   \n",
       "995       Health and beauty       40.35         1   2.0175    42.3675   \n",
       "996      Home and lifestyle       97.38        10  48.6900  1022.4900   \n",
       "997      Food and beverages       31.84         1   1.5920    33.4320   \n",
       "998      Home and lifestyle       65.82         1   3.2910    69.1110   \n",
       "999     Fashion accessories       88.34         7  30.9190   649.2990   \n",
       "\n",
       "          Date   Time      Payment    cogs  gross margin percentage  \\\n",
       "0     1/5/2019  13:08      Ewallet  522.83                 4.761905   \n",
       "1     3/8/2019  10:29         Cash   76.40                 4.761905   \n",
       "2     3/3/2019  13:23  Credit card  324.31                 4.761905   \n",
       "3    1/27/2019  20:33      Ewallet  465.76                 4.761905   \n",
       "4     2/8/2019  10:37      Ewallet  604.17                 4.761905   \n",
       "..         ...    ...          ...     ...                      ...   \n",
       "995  1/29/2019  13:46      Ewallet   40.35                 4.761905   \n",
       "996   3/2/2019  17:16      Ewallet  973.80                 4.761905   \n",
       "997   2/9/2019  13:22         Cash   31.84                 4.761905   \n",
       "998  2/22/2019  15:33         Cash   65.82                 4.761905   \n",
       "999  2/18/2019  13:28         Cash  618.38                 4.761905   \n",
       "\n",
       "     gross income  Rating  \n",
       "0         26.1415     9.1  \n",
       "1          3.8200     9.6  \n",
       "2         16.2155     7.4  \n",
       "3         23.2880     8.4  \n",
       "4         30.2085     5.3  \n",
       "..            ...     ...  \n",
       "995        2.0175     6.2  \n",
       "996       48.6900     4.4  \n",
       "997        1.5920     7.7  \n",
       "998        3.2910     4.1  \n",
       "999       30.9190     6.6  \n",
       "\n",
       "[1000 rows x 17 columns]"
      ]
     },
     "execution_count": 56,
     "metadata": {},
     "output_type": "execute_result"
    }
   ],
   "source": [
    "df = pd.read_csv(r'C:\\Users\\pauri\\OneDrive\\Escritorio\\4) MÁSTER EN DATA SCIENCE, BIG DATA & BUSINESS ANALYTICS (UCM)\\MÓDULO 8_MACHINE LEARNING\\Clase 1 y 2\\1. INTRODUCCIÓN\\EJERCICIO 2\\supermarket_sales.csv')\n",
    "df"
   ]
  },
  {
   "cell_type": "markdown",
   "id": "b8f108b1",
   "metadata": {},
   "source": [
    "### Exploración de datos"
   ]
  },
  {
   "cell_type": "markdown",
   "id": "5ac3f1f0",
   "metadata": {},
   "source": [
    "Información general sobre columnas"
   ]
  },
  {
   "cell_type": "code",
   "execution_count": 57,
   "id": "8c2f1d89",
   "metadata": {},
   "outputs": [
    {
     "name": "stdout",
     "output_type": "stream",
     "text": [
      "<class 'pandas.core.frame.DataFrame'>\n",
      "RangeIndex: 1000 entries, 0 to 999\n",
      "Data columns (total 17 columns):\n",
      " #   Column                   Non-Null Count  Dtype  \n",
      "---  ------                   --------------  -----  \n",
      " 0   Invoice ID               1000 non-null   object \n",
      " 1   Branch                   1000 non-null   object \n",
      " 2   City                     1000 non-null   object \n",
      " 3   Customer type            1000 non-null   object \n",
      " 4   Gender                   1000 non-null   object \n",
      " 5   Product line             1000 non-null   object \n",
      " 6   Unit price               1000 non-null   float64\n",
      " 7   Quantity                 1000 non-null   int64  \n",
      " 8   Tax 5%                   1000 non-null   float64\n",
      " 9   Total                    1000 non-null   float64\n",
      " 10  Date                     1000 non-null   object \n",
      " 11  Time                     1000 non-null   object \n",
      " 12  Payment                  1000 non-null   object \n",
      " 13  cogs                     1000 non-null   float64\n",
      " 14  gross margin percentage  1000 non-null   float64\n",
      " 15  gross income             1000 non-null   float64\n",
      " 16  Rating                   1000 non-null   float64\n",
      "dtypes: float64(7), int64(1), object(9)\n",
      "memory usage: 132.9+ KB\n"
     ]
    }
   ],
   "source": [
    "df.info() # Información general sobre las columnas"
   ]
  },
  {
   "cell_type": "markdown",
   "id": "0761ea54",
   "metadata": {},
   "source": [
    "Estadísticas básicas de las columnas numéricas"
   ]
  },
  {
   "cell_type": "code",
   "execution_count": 58,
   "id": "6008a954",
   "metadata": {},
   "outputs": [
    {
     "data": {
      "text/html": [
       "<div>\n",
       "<style scoped>\n",
       "    .dataframe tbody tr th:only-of-type {\n",
       "        vertical-align: middle;\n",
       "    }\n",
       "\n",
       "    .dataframe tbody tr th {\n",
       "        vertical-align: top;\n",
       "    }\n",
       "\n",
       "    .dataframe thead th {\n",
       "        text-align: right;\n",
       "    }\n",
       "</style>\n",
       "<table border=\"1\" class=\"dataframe\">\n",
       "  <thead>\n",
       "    <tr style=\"text-align: right;\">\n",
       "      <th></th>\n",
       "      <th>Unit price</th>\n",
       "      <th>Quantity</th>\n",
       "      <th>Tax 5%</th>\n",
       "      <th>Total</th>\n",
       "      <th>cogs</th>\n",
       "      <th>gross margin percentage</th>\n",
       "      <th>gross income</th>\n",
       "      <th>Rating</th>\n",
       "    </tr>\n",
       "  </thead>\n",
       "  <tbody>\n",
       "    <tr>\n",
       "      <th>count</th>\n",
       "      <td>1000.000000</td>\n",
       "      <td>1000.000000</td>\n",
       "      <td>1000.000000</td>\n",
       "      <td>1000.000000</td>\n",
       "      <td>1000.00000</td>\n",
       "      <td>1000.000000</td>\n",
       "      <td>1000.000000</td>\n",
       "      <td>1000.00000</td>\n",
       "    </tr>\n",
       "    <tr>\n",
       "      <th>mean</th>\n",
       "      <td>55.672130</td>\n",
       "      <td>5.510000</td>\n",
       "      <td>15.379369</td>\n",
       "      <td>322.966749</td>\n",
       "      <td>307.58738</td>\n",
       "      <td>4.761905</td>\n",
       "      <td>15.379369</td>\n",
       "      <td>6.97270</td>\n",
       "    </tr>\n",
       "    <tr>\n",
       "      <th>std</th>\n",
       "      <td>26.494628</td>\n",
       "      <td>2.923431</td>\n",
       "      <td>11.708825</td>\n",
       "      <td>245.885335</td>\n",
       "      <td>234.17651</td>\n",
       "      <td>0.000000</td>\n",
       "      <td>11.708825</td>\n",
       "      <td>1.71858</td>\n",
       "    </tr>\n",
       "    <tr>\n",
       "      <th>min</th>\n",
       "      <td>10.080000</td>\n",
       "      <td>1.000000</td>\n",
       "      <td>0.508500</td>\n",
       "      <td>10.678500</td>\n",
       "      <td>10.17000</td>\n",
       "      <td>4.761905</td>\n",
       "      <td>0.508500</td>\n",
       "      <td>4.00000</td>\n",
       "    </tr>\n",
       "    <tr>\n",
       "      <th>25%</th>\n",
       "      <td>32.875000</td>\n",
       "      <td>3.000000</td>\n",
       "      <td>5.924875</td>\n",
       "      <td>124.422375</td>\n",
       "      <td>118.49750</td>\n",
       "      <td>4.761905</td>\n",
       "      <td>5.924875</td>\n",
       "      <td>5.50000</td>\n",
       "    </tr>\n",
       "    <tr>\n",
       "      <th>50%</th>\n",
       "      <td>55.230000</td>\n",
       "      <td>5.000000</td>\n",
       "      <td>12.088000</td>\n",
       "      <td>253.848000</td>\n",
       "      <td>241.76000</td>\n",
       "      <td>4.761905</td>\n",
       "      <td>12.088000</td>\n",
       "      <td>7.00000</td>\n",
       "    </tr>\n",
       "    <tr>\n",
       "      <th>75%</th>\n",
       "      <td>77.935000</td>\n",
       "      <td>8.000000</td>\n",
       "      <td>22.445250</td>\n",
       "      <td>471.350250</td>\n",
       "      <td>448.90500</td>\n",
       "      <td>4.761905</td>\n",
       "      <td>22.445250</td>\n",
       "      <td>8.50000</td>\n",
       "    </tr>\n",
       "    <tr>\n",
       "      <th>max</th>\n",
       "      <td>99.960000</td>\n",
       "      <td>10.000000</td>\n",
       "      <td>49.650000</td>\n",
       "      <td>1042.650000</td>\n",
       "      <td>993.00000</td>\n",
       "      <td>4.761905</td>\n",
       "      <td>49.650000</td>\n",
       "      <td>10.00000</td>\n",
       "    </tr>\n",
       "  </tbody>\n",
       "</table>\n",
       "</div>"
      ],
      "text/plain": [
       "        Unit price     Quantity       Tax 5%        Total        cogs  \\\n",
       "count  1000.000000  1000.000000  1000.000000  1000.000000  1000.00000   \n",
       "mean     55.672130     5.510000    15.379369   322.966749   307.58738   \n",
       "std      26.494628     2.923431    11.708825   245.885335   234.17651   \n",
       "min      10.080000     1.000000     0.508500    10.678500    10.17000   \n",
       "25%      32.875000     3.000000     5.924875   124.422375   118.49750   \n",
       "50%      55.230000     5.000000    12.088000   253.848000   241.76000   \n",
       "75%      77.935000     8.000000    22.445250   471.350250   448.90500   \n",
       "max      99.960000    10.000000    49.650000  1042.650000   993.00000   \n",
       "\n",
       "       gross margin percentage  gross income      Rating  \n",
       "count              1000.000000   1000.000000  1000.00000  \n",
       "mean                  4.761905     15.379369     6.97270  \n",
       "std                   0.000000     11.708825     1.71858  \n",
       "min                   4.761905      0.508500     4.00000  \n",
       "25%                   4.761905      5.924875     5.50000  \n",
       "50%                   4.761905     12.088000     7.00000  \n",
       "75%                   4.761905     22.445250     8.50000  \n",
       "max                   4.761905     49.650000    10.00000  "
      ]
     },
     "execution_count": 58,
     "metadata": {},
     "output_type": "execute_result"
    }
   ],
   "source": [
    "df.describe()"
   ]
  },
  {
   "cell_type": "markdown",
   "id": "d313c3be",
   "metadata": {},
   "source": [
    "Conteo de productos por cada variable categórica"
   ]
  },
  {
   "cell_type": "code",
   "execution_count": 59,
   "id": "0e89692e",
   "metadata": {},
   "outputs": [
    {
     "name": "stdout",
     "output_type": "stream",
     "text": [
      "Invoice ID\n",
      "849-09-3807    1\n",
      "750-67-8428    1\n",
      "226-31-3081    1\n",
      "631-41-3108    1\n",
      "123-19-1176    1\n",
      "              ..\n",
      "365-64-0515    1\n",
      "529-56-3974    1\n",
      "351-62-0822    1\n",
      "692-92-5582    1\n",
      "665-32-9167    1\n",
      "Name: count, Length: 1000, dtype: int64\n",
      "Branch\n",
      "A    340\n",
      "B    332\n",
      "C    328\n",
      "Name: count, dtype: int64\n",
      "City\n",
      "Yangon       340\n",
      "Mandalay     332\n",
      "Naypyitaw    328\n",
      "Name: count, dtype: int64\n",
      "Customer type\n",
      "Member    501\n",
      "Normal    499\n",
      "Name: count, dtype: int64\n",
      "Gender\n",
      "Female    501\n",
      "Male      499\n",
      "Name: count, dtype: int64\n",
      "Product line\n",
      "Fashion accessories       178\n",
      "Food and beverages        174\n",
      "Electronic accessories    170\n",
      "Sports and travel         166\n",
      "Home and lifestyle        160\n",
      "Health and beauty         152\n",
      "Name: count, dtype: int64\n",
      "Date\n",
      "2/7/2019     20\n",
      "2/15/2019    19\n",
      "3/2/2019     18\n",
      "1/8/2019     18\n",
      "3/14/2019    18\n",
      "             ..\n",
      "2/1/2019      6\n",
      "1/4/2019      6\n",
      "3/21/2019     6\n",
      "2/21/2019     6\n",
      "3/17/2019     6\n",
      "Name: count, Length: 89, dtype: int64\n",
      "Time\n",
      "19:48    7\n",
      "14:42    7\n",
      "17:38    6\n",
      "17:36    5\n",
      "19:39    5\n",
      "        ..\n",
      "16:27    1\n",
      "15:23    1\n",
      "18:18    1\n",
      "15:17    1\n",
      "19:12    1\n",
      "Name: count, Length: 506, dtype: int64\n",
      "Payment\n",
      "Ewallet        345\n",
      "Cash           344\n",
      "Credit card    311\n",
      "Name: count, dtype: int64\n"
     ]
    }
   ],
   "source": [
    "print(df['Invoice ID'].value_counts())\n",
    "print(df['Branch'].value_counts())\n",
    "print(df['City'].value_counts())\n",
    "print(df['Customer type'].value_counts())\n",
    "print(df['Gender'].value_counts())\n",
    "print(df['Product line'].value_counts())\n",
    "print(df['Date'].value_counts())\n",
    "print(df['Time'].value_counts())\n",
    "print(df['Payment'].value_counts())"
   ]
  },
  {
   "cell_type": "markdown",
   "id": "8f037670",
   "metadata": {},
   "source": [
    "### Filtrado de datos"
   ]
  },
  {
   "cell_type": "markdown",
   "id": "326106c2",
   "metadata": {},
   "source": [
    "Ventas de la sucursal 'A':"
   ]
  },
  {
   "cell_type": "code",
   "execution_count": 60,
   "id": "2e728c9a",
   "metadata": {},
   "outputs": [
    {
     "data": {
      "text/html": [
       "<div>\n",
       "<style scoped>\n",
       "    .dataframe tbody tr th:only-of-type {\n",
       "        vertical-align: middle;\n",
       "    }\n",
       "\n",
       "    .dataframe tbody tr th {\n",
       "        vertical-align: top;\n",
       "    }\n",
       "\n",
       "    .dataframe thead th {\n",
       "        text-align: right;\n",
       "    }\n",
       "</style>\n",
       "<table border=\"1\" class=\"dataframe\">\n",
       "  <thead>\n",
       "    <tr style=\"text-align: right;\">\n",
       "      <th></th>\n",
       "      <th>Invoice ID</th>\n",
       "      <th>Branch</th>\n",
       "      <th>City</th>\n",
       "      <th>Customer type</th>\n",
       "      <th>Gender</th>\n",
       "      <th>Product line</th>\n",
       "      <th>Unit price</th>\n",
       "      <th>Quantity</th>\n",
       "      <th>Tax 5%</th>\n",
       "      <th>Total</th>\n",
       "      <th>Date</th>\n",
       "      <th>Time</th>\n",
       "      <th>Payment</th>\n",
       "      <th>cogs</th>\n",
       "      <th>gross margin percentage</th>\n",
       "      <th>gross income</th>\n",
       "      <th>Rating</th>\n",
       "    </tr>\n",
       "  </thead>\n",
       "  <tbody>\n",
       "    <tr>\n",
       "      <th>0</th>\n",
       "      <td>750-67-8428</td>\n",
       "      <td>A</td>\n",
       "      <td>Yangon</td>\n",
       "      <td>Member</td>\n",
       "      <td>Female</td>\n",
       "      <td>Health and beauty</td>\n",
       "      <td>74.69</td>\n",
       "      <td>7</td>\n",
       "      <td>26.1415</td>\n",
       "      <td>548.9715</td>\n",
       "      <td>1/5/2019</td>\n",
       "      <td>13:08</td>\n",
       "      <td>Ewallet</td>\n",
       "      <td>522.83</td>\n",
       "      <td>4.761905</td>\n",
       "      <td>26.1415</td>\n",
       "      <td>9.1</td>\n",
       "    </tr>\n",
       "    <tr>\n",
       "      <th>2</th>\n",
       "      <td>631-41-3108</td>\n",
       "      <td>A</td>\n",
       "      <td>Yangon</td>\n",
       "      <td>Normal</td>\n",
       "      <td>Male</td>\n",
       "      <td>Home and lifestyle</td>\n",
       "      <td>46.33</td>\n",
       "      <td>7</td>\n",
       "      <td>16.2155</td>\n",
       "      <td>340.5255</td>\n",
       "      <td>3/3/2019</td>\n",
       "      <td>13:23</td>\n",
       "      <td>Credit card</td>\n",
       "      <td>324.31</td>\n",
       "      <td>4.761905</td>\n",
       "      <td>16.2155</td>\n",
       "      <td>7.4</td>\n",
       "    </tr>\n",
       "    <tr>\n",
       "      <th>3</th>\n",
       "      <td>123-19-1176</td>\n",
       "      <td>A</td>\n",
       "      <td>Yangon</td>\n",
       "      <td>Member</td>\n",
       "      <td>Male</td>\n",
       "      <td>Health and beauty</td>\n",
       "      <td>58.22</td>\n",
       "      <td>8</td>\n",
       "      <td>23.2880</td>\n",
       "      <td>489.0480</td>\n",
       "      <td>1/27/2019</td>\n",
       "      <td>20:33</td>\n",
       "      <td>Ewallet</td>\n",
       "      <td>465.76</td>\n",
       "      <td>4.761905</td>\n",
       "      <td>23.2880</td>\n",
       "      <td>8.4</td>\n",
       "    </tr>\n",
       "    <tr>\n",
       "      <th>4</th>\n",
       "      <td>373-73-7910</td>\n",
       "      <td>A</td>\n",
       "      <td>Yangon</td>\n",
       "      <td>Normal</td>\n",
       "      <td>Male</td>\n",
       "      <td>Sports and travel</td>\n",
       "      <td>86.31</td>\n",
       "      <td>7</td>\n",
       "      <td>30.2085</td>\n",
       "      <td>634.3785</td>\n",
       "      <td>2/8/2019</td>\n",
       "      <td>10:37</td>\n",
       "      <td>Ewallet</td>\n",
       "      <td>604.17</td>\n",
       "      <td>4.761905</td>\n",
       "      <td>30.2085</td>\n",
       "      <td>5.3</td>\n",
       "    </tr>\n",
       "    <tr>\n",
       "      <th>6</th>\n",
       "      <td>355-53-5943</td>\n",
       "      <td>A</td>\n",
       "      <td>Yangon</td>\n",
       "      <td>Member</td>\n",
       "      <td>Female</td>\n",
       "      <td>Electronic accessories</td>\n",
       "      <td>68.84</td>\n",
       "      <td>6</td>\n",
       "      <td>20.6520</td>\n",
       "      <td>433.6920</td>\n",
       "      <td>2/25/2019</td>\n",
       "      <td>14:36</td>\n",
       "      <td>Ewallet</td>\n",
       "      <td>413.04</td>\n",
       "      <td>4.761905</td>\n",
       "      <td>20.6520</td>\n",
       "      <td>5.8</td>\n",
       "    </tr>\n",
       "    <tr>\n",
       "      <th>...</th>\n",
       "      <td>...</td>\n",
       "      <td>...</td>\n",
       "      <td>...</td>\n",
       "      <td>...</td>\n",
       "      <td>...</td>\n",
       "      <td>...</td>\n",
       "      <td>...</td>\n",
       "      <td>...</td>\n",
       "      <td>...</td>\n",
       "      <td>...</td>\n",
       "      <td>...</td>\n",
       "      <td>...</td>\n",
       "      <td>...</td>\n",
       "      <td>...</td>\n",
       "      <td>...</td>\n",
       "      <td>...</td>\n",
       "      <td>...</td>\n",
       "    </tr>\n",
       "    <tr>\n",
       "      <th>990</th>\n",
       "      <td>886-18-2897</td>\n",
       "      <td>A</td>\n",
       "      <td>Yangon</td>\n",
       "      <td>Normal</td>\n",
       "      <td>Female</td>\n",
       "      <td>Food and beverages</td>\n",
       "      <td>56.56</td>\n",
       "      <td>5</td>\n",
       "      <td>14.1400</td>\n",
       "      <td>296.9400</td>\n",
       "      <td>3/22/2019</td>\n",
       "      <td>19:06</td>\n",
       "      <td>Credit card</td>\n",
       "      <td>282.80</td>\n",
       "      <td>4.761905</td>\n",
       "      <td>14.1400</td>\n",
       "      <td>4.5</td>\n",
       "    </tr>\n",
       "    <tr>\n",
       "      <th>992</th>\n",
       "      <td>745-74-0715</td>\n",
       "      <td>A</td>\n",
       "      <td>Yangon</td>\n",
       "      <td>Normal</td>\n",
       "      <td>Male</td>\n",
       "      <td>Electronic accessories</td>\n",
       "      <td>58.03</td>\n",
       "      <td>2</td>\n",
       "      <td>5.8030</td>\n",
       "      <td>121.8630</td>\n",
       "      <td>3/10/2019</td>\n",
       "      <td>20:46</td>\n",
       "      <td>Ewallet</td>\n",
       "      <td>116.06</td>\n",
       "      <td>4.761905</td>\n",
       "      <td>5.8030</td>\n",
       "      <td>8.8</td>\n",
       "    </tr>\n",
       "    <tr>\n",
       "      <th>997</th>\n",
       "      <td>727-02-1313</td>\n",
       "      <td>A</td>\n",
       "      <td>Yangon</td>\n",
       "      <td>Member</td>\n",
       "      <td>Male</td>\n",
       "      <td>Food and beverages</td>\n",
       "      <td>31.84</td>\n",
       "      <td>1</td>\n",
       "      <td>1.5920</td>\n",
       "      <td>33.4320</td>\n",
       "      <td>2/9/2019</td>\n",
       "      <td>13:22</td>\n",
       "      <td>Cash</td>\n",
       "      <td>31.84</td>\n",
       "      <td>4.761905</td>\n",
       "      <td>1.5920</td>\n",
       "      <td>7.7</td>\n",
       "    </tr>\n",
       "    <tr>\n",
       "      <th>998</th>\n",
       "      <td>347-56-2442</td>\n",
       "      <td>A</td>\n",
       "      <td>Yangon</td>\n",
       "      <td>Normal</td>\n",
       "      <td>Male</td>\n",
       "      <td>Home and lifestyle</td>\n",
       "      <td>65.82</td>\n",
       "      <td>1</td>\n",
       "      <td>3.2910</td>\n",
       "      <td>69.1110</td>\n",
       "      <td>2/22/2019</td>\n",
       "      <td>15:33</td>\n",
       "      <td>Cash</td>\n",
       "      <td>65.82</td>\n",
       "      <td>4.761905</td>\n",
       "      <td>3.2910</td>\n",
       "      <td>4.1</td>\n",
       "    </tr>\n",
       "    <tr>\n",
       "      <th>999</th>\n",
       "      <td>849-09-3807</td>\n",
       "      <td>A</td>\n",
       "      <td>Yangon</td>\n",
       "      <td>Member</td>\n",
       "      <td>Female</td>\n",
       "      <td>Fashion accessories</td>\n",
       "      <td>88.34</td>\n",
       "      <td>7</td>\n",
       "      <td>30.9190</td>\n",
       "      <td>649.2990</td>\n",
       "      <td>2/18/2019</td>\n",
       "      <td>13:28</td>\n",
       "      <td>Cash</td>\n",
       "      <td>618.38</td>\n",
       "      <td>4.761905</td>\n",
       "      <td>30.9190</td>\n",
       "      <td>6.6</td>\n",
       "    </tr>\n",
       "  </tbody>\n",
       "</table>\n",
       "<p>340 rows × 17 columns</p>\n",
       "</div>"
      ],
      "text/plain": [
       "      Invoice ID Branch    City Customer type  Gender            Product line  \\\n",
       "0    750-67-8428      A  Yangon        Member  Female       Health and beauty   \n",
       "2    631-41-3108      A  Yangon        Normal    Male      Home and lifestyle   \n",
       "3    123-19-1176      A  Yangon        Member    Male       Health and beauty   \n",
       "4    373-73-7910      A  Yangon        Normal    Male       Sports and travel   \n",
       "6    355-53-5943      A  Yangon        Member  Female  Electronic accessories   \n",
       "..           ...    ...     ...           ...     ...                     ...   \n",
       "990  886-18-2897      A  Yangon        Normal  Female      Food and beverages   \n",
       "992  745-74-0715      A  Yangon        Normal    Male  Electronic accessories   \n",
       "997  727-02-1313      A  Yangon        Member    Male      Food and beverages   \n",
       "998  347-56-2442      A  Yangon        Normal    Male      Home and lifestyle   \n",
       "999  849-09-3807      A  Yangon        Member  Female     Fashion accessories   \n",
       "\n",
       "     Unit price  Quantity   Tax 5%     Total       Date   Time      Payment  \\\n",
       "0         74.69         7  26.1415  548.9715   1/5/2019  13:08      Ewallet   \n",
       "2         46.33         7  16.2155  340.5255   3/3/2019  13:23  Credit card   \n",
       "3         58.22         8  23.2880  489.0480  1/27/2019  20:33      Ewallet   \n",
       "4         86.31         7  30.2085  634.3785   2/8/2019  10:37      Ewallet   \n",
       "6         68.84         6  20.6520  433.6920  2/25/2019  14:36      Ewallet   \n",
       "..          ...       ...      ...       ...        ...    ...          ...   \n",
       "990       56.56         5  14.1400  296.9400  3/22/2019  19:06  Credit card   \n",
       "992       58.03         2   5.8030  121.8630  3/10/2019  20:46      Ewallet   \n",
       "997       31.84         1   1.5920   33.4320   2/9/2019  13:22         Cash   \n",
       "998       65.82         1   3.2910   69.1110  2/22/2019  15:33         Cash   \n",
       "999       88.34         7  30.9190  649.2990  2/18/2019  13:28         Cash   \n",
       "\n",
       "       cogs  gross margin percentage  gross income  Rating  \n",
       "0    522.83                 4.761905       26.1415     9.1  \n",
       "2    324.31                 4.761905       16.2155     7.4  \n",
       "3    465.76                 4.761905       23.2880     8.4  \n",
       "4    604.17                 4.761905       30.2085     5.3  \n",
       "6    413.04                 4.761905       20.6520     5.8  \n",
       "..      ...                      ...           ...     ...  \n",
       "990  282.80                 4.761905       14.1400     4.5  \n",
       "992  116.06                 4.761905        5.8030     8.8  \n",
       "997   31.84                 4.761905        1.5920     7.7  \n",
       "998   65.82                 4.761905        3.2910     4.1  \n",
       "999  618.38                 4.761905       30.9190     6.6  \n",
       "\n",
       "[340 rows x 17 columns]"
      ]
     },
     "execution_count": 60,
     "metadata": {},
     "output_type": "execute_result"
    }
   ],
   "source": [
    "df[df['Branch'] == 'A']"
   ]
  },
  {
   "cell_type": "code",
   "execution_count": 61,
   "id": "35cecd24",
   "metadata": {},
   "outputs": [
    {
     "data": {
      "text/plain": [
       "340"
      ]
     },
     "execution_count": 61,
     "metadata": {},
     "output_type": "execute_result"
    }
   ],
   "source": [
    "len(df[df['Branch'] == 'A']) # Número de elementos del filtrado, lo podemos ver en rows tmb"
   ]
  },
  {
   "cell_type": "markdown",
   "id": "e9cec6b8",
   "metadata": {},
   "source": [
    "Compras con un total mayor a 500:"
   ]
  },
  {
   "cell_type": "code",
   "execution_count": 62,
   "id": "8b760937",
   "metadata": {},
   "outputs": [
    {
     "data": {
      "text/html": [
       "<div>\n",
       "<style scoped>\n",
       "    .dataframe tbody tr th:only-of-type {\n",
       "        vertical-align: middle;\n",
       "    }\n",
       "\n",
       "    .dataframe tbody tr th {\n",
       "        vertical-align: top;\n",
       "    }\n",
       "\n",
       "    .dataframe thead th {\n",
       "        text-align: right;\n",
       "    }\n",
       "</style>\n",
       "<table border=\"1\" class=\"dataframe\">\n",
       "  <thead>\n",
       "    <tr style=\"text-align: right;\">\n",
       "      <th></th>\n",
       "      <th>Invoice ID</th>\n",
       "      <th>Branch</th>\n",
       "      <th>City</th>\n",
       "      <th>Customer type</th>\n",
       "      <th>Gender</th>\n",
       "      <th>Product line</th>\n",
       "      <th>Unit price</th>\n",
       "      <th>Quantity</th>\n",
       "      <th>Tax 5%</th>\n",
       "      <th>Total</th>\n",
       "      <th>Date</th>\n",
       "      <th>Time</th>\n",
       "      <th>Payment</th>\n",
       "      <th>cogs</th>\n",
       "      <th>gross margin percentage</th>\n",
       "      <th>gross income</th>\n",
       "      <th>Rating</th>\n",
       "    </tr>\n",
       "  </thead>\n",
       "  <tbody>\n",
       "    <tr>\n",
       "      <th>0</th>\n",
       "      <td>750-67-8428</td>\n",
       "      <td>A</td>\n",
       "      <td>Yangon</td>\n",
       "      <td>Member</td>\n",
       "      <td>Female</td>\n",
       "      <td>Health and beauty</td>\n",
       "      <td>74.69</td>\n",
       "      <td>7</td>\n",
       "      <td>26.1415</td>\n",
       "      <td>548.9715</td>\n",
       "      <td>1/5/2019</td>\n",
       "      <td>13:08</td>\n",
       "      <td>Ewallet</td>\n",
       "      <td>522.83</td>\n",
       "      <td>4.761905</td>\n",
       "      <td>26.1415</td>\n",
       "      <td>9.1</td>\n",
       "    </tr>\n",
       "    <tr>\n",
       "      <th>4</th>\n",
       "      <td>373-73-7910</td>\n",
       "      <td>A</td>\n",
       "      <td>Yangon</td>\n",
       "      <td>Normal</td>\n",
       "      <td>Male</td>\n",
       "      <td>Sports and travel</td>\n",
       "      <td>86.31</td>\n",
       "      <td>7</td>\n",
       "      <td>30.2085</td>\n",
       "      <td>634.3785</td>\n",
       "      <td>2/8/2019</td>\n",
       "      <td>10:37</td>\n",
       "      <td>Ewallet</td>\n",
       "      <td>604.17</td>\n",
       "      <td>4.761905</td>\n",
       "      <td>30.2085</td>\n",
       "      <td>5.3</td>\n",
       "    </tr>\n",
       "    <tr>\n",
       "      <th>5</th>\n",
       "      <td>699-14-3026</td>\n",
       "      <td>C</td>\n",
       "      <td>Naypyitaw</td>\n",
       "      <td>Normal</td>\n",
       "      <td>Male</td>\n",
       "      <td>Electronic accessories</td>\n",
       "      <td>85.39</td>\n",
       "      <td>7</td>\n",
       "      <td>29.8865</td>\n",
       "      <td>627.6165</td>\n",
       "      <td>3/25/2019</td>\n",
       "      <td>18:30</td>\n",
       "      <td>Ewallet</td>\n",
       "      <td>597.73</td>\n",
       "      <td>4.761905</td>\n",
       "      <td>29.8865</td>\n",
       "      <td>4.1</td>\n",
       "    </tr>\n",
       "    <tr>\n",
       "      <th>7</th>\n",
       "      <td>315-22-5665</td>\n",
       "      <td>C</td>\n",
       "      <td>Naypyitaw</td>\n",
       "      <td>Normal</td>\n",
       "      <td>Female</td>\n",
       "      <td>Home and lifestyle</td>\n",
       "      <td>73.56</td>\n",
       "      <td>10</td>\n",
       "      <td>36.7800</td>\n",
       "      <td>772.3800</td>\n",
       "      <td>2/24/2019</td>\n",
       "      <td>11:38</td>\n",
       "      <td>Ewallet</td>\n",
       "      <td>735.60</td>\n",
       "      <td>4.761905</td>\n",
       "      <td>36.7800</td>\n",
       "      <td>8.0</td>\n",
       "    </tr>\n",
       "    <tr>\n",
       "      <th>14</th>\n",
       "      <td>829-34-3910</td>\n",
       "      <td>A</td>\n",
       "      <td>Yangon</td>\n",
       "      <td>Normal</td>\n",
       "      <td>Female</td>\n",
       "      <td>Health and beauty</td>\n",
       "      <td>71.38</td>\n",
       "      <td>10</td>\n",
       "      <td>35.6900</td>\n",
       "      <td>749.4900</td>\n",
       "      <td>3/29/2019</td>\n",
       "      <td>19:21</td>\n",
       "      <td>Cash</td>\n",
       "      <td>713.80</td>\n",
       "      <td>4.761905</td>\n",
       "      <td>35.6900</td>\n",
       "      <td>5.7</td>\n",
       "    </tr>\n",
       "    <tr>\n",
       "      <th>...</th>\n",
       "      <td>...</td>\n",
       "      <td>...</td>\n",
       "      <td>...</td>\n",
       "      <td>...</td>\n",
       "      <td>...</td>\n",
       "      <td>...</td>\n",
       "      <td>...</td>\n",
       "      <td>...</td>\n",
       "      <td>...</td>\n",
       "      <td>...</td>\n",
       "      <td>...</td>\n",
       "      <td>...</td>\n",
       "      <td>...</td>\n",
       "      <td>...</td>\n",
       "      <td>...</td>\n",
       "      <td>...</td>\n",
       "      <td>...</td>\n",
       "    </tr>\n",
       "    <tr>\n",
       "      <th>988</th>\n",
       "      <td>267-62-7380</td>\n",
       "      <td>C</td>\n",
       "      <td>Naypyitaw</td>\n",
       "      <td>Member</td>\n",
       "      <td>Male</td>\n",
       "      <td>Electronic accessories</td>\n",
       "      <td>82.34</td>\n",
       "      <td>10</td>\n",
       "      <td>41.1700</td>\n",
       "      <td>864.5700</td>\n",
       "      <td>3/29/2019</td>\n",
       "      <td>19:12</td>\n",
       "      <td>Ewallet</td>\n",
       "      <td>823.40</td>\n",
       "      <td>4.761905</td>\n",
       "      <td>41.1700</td>\n",
       "      <td>4.3</td>\n",
       "    </tr>\n",
       "    <tr>\n",
       "      <th>989</th>\n",
       "      <td>430-53-4718</td>\n",
       "      <td>B</td>\n",
       "      <td>Mandalay</td>\n",
       "      <td>Member</td>\n",
       "      <td>Male</td>\n",
       "      <td>Health and beauty</td>\n",
       "      <td>75.37</td>\n",
       "      <td>8</td>\n",
       "      <td>30.1480</td>\n",
       "      <td>633.1080</td>\n",
       "      <td>1/28/2019</td>\n",
       "      <td>15:46</td>\n",
       "      <td>Credit card</td>\n",
       "      <td>602.96</td>\n",
       "      <td>4.761905</td>\n",
       "      <td>30.1480</td>\n",
       "      <td>8.4</td>\n",
       "    </tr>\n",
       "    <tr>\n",
       "      <th>991</th>\n",
       "      <td>602-16-6955</td>\n",
       "      <td>B</td>\n",
       "      <td>Mandalay</td>\n",
       "      <td>Normal</td>\n",
       "      <td>Female</td>\n",
       "      <td>Sports and travel</td>\n",
       "      <td>76.60</td>\n",
       "      <td>10</td>\n",
       "      <td>38.3000</td>\n",
       "      <td>804.3000</td>\n",
       "      <td>1/24/2019</td>\n",
       "      <td>18:10</td>\n",
       "      <td>Ewallet</td>\n",
       "      <td>766.00</td>\n",
       "      <td>4.761905</td>\n",
       "      <td>38.3000</td>\n",
       "      <td>6.0</td>\n",
       "    </tr>\n",
       "    <tr>\n",
       "      <th>996</th>\n",
       "      <td>303-96-2227</td>\n",
       "      <td>B</td>\n",
       "      <td>Mandalay</td>\n",
       "      <td>Normal</td>\n",
       "      <td>Female</td>\n",
       "      <td>Home and lifestyle</td>\n",
       "      <td>97.38</td>\n",
       "      <td>10</td>\n",
       "      <td>48.6900</td>\n",
       "      <td>1022.4900</td>\n",
       "      <td>3/2/2019</td>\n",
       "      <td>17:16</td>\n",
       "      <td>Ewallet</td>\n",
       "      <td>973.80</td>\n",
       "      <td>4.761905</td>\n",
       "      <td>48.6900</td>\n",
       "      <td>4.4</td>\n",
       "    </tr>\n",
       "    <tr>\n",
       "      <th>999</th>\n",
       "      <td>849-09-3807</td>\n",
       "      <td>A</td>\n",
       "      <td>Yangon</td>\n",
       "      <td>Member</td>\n",
       "      <td>Female</td>\n",
       "      <td>Fashion accessories</td>\n",
       "      <td>88.34</td>\n",
       "      <td>7</td>\n",
       "      <td>30.9190</td>\n",
       "      <td>649.2990</td>\n",
       "      <td>2/18/2019</td>\n",
       "      <td>13:28</td>\n",
       "      <td>Cash</td>\n",
       "      <td>618.38</td>\n",
       "      <td>4.761905</td>\n",
       "      <td>30.9190</td>\n",
       "      <td>6.6</td>\n",
       "    </tr>\n",
       "  </tbody>\n",
       "</table>\n",
       "<p>227 rows × 17 columns</p>\n",
       "</div>"
      ],
      "text/plain": [
       "      Invoice ID Branch       City Customer type  Gender  \\\n",
       "0    750-67-8428      A     Yangon        Member  Female   \n",
       "4    373-73-7910      A     Yangon        Normal    Male   \n",
       "5    699-14-3026      C  Naypyitaw        Normal    Male   \n",
       "7    315-22-5665      C  Naypyitaw        Normal  Female   \n",
       "14   829-34-3910      A     Yangon        Normal  Female   \n",
       "..           ...    ...        ...           ...     ...   \n",
       "988  267-62-7380      C  Naypyitaw        Member    Male   \n",
       "989  430-53-4718      B   Mandalay        Member    Male   \n",
       "991  602-16-6955      B   Mandalay        Normal  Female   \n",
       "996  303-96-2227      B   Mandalay        Normal  Female   \n",
       "999  849-09-3807      A     Yangon        Member  Female   \n",
       "\n",
       "               Product line  Unit price  Quantity   Tax 5%      Total  \\\n",
       "0         Health and beauty       74.69         7  26.1415   548.9715   \n",
       "4         Sports and travel       86.31         7  30.2085   634.3785   \n",
       "5    Electronic accessories       85.39         7  29.8865   627.6165   \n",
       "7        Home and lifestyle       73.56        10  36.7800   772.3800   \n",
       "14        Health and beauty       71.38        10  35.6900   749.4900   \n",
       "..                      ...         ...       ...      ...        ...   \n",
       "988  Electronic accessories       82.34        10  41.1700   864.5700   \n",
       "989       Health and beauty       75.37         8  30.1480   633.1080   \n",
       "991       Sports and travel       76.60        10  38.3000   804.3000   \n",
       "996      Home and lifestyle       97.38        10  48.6900  1022.4900   \n",
       "999     Fashion accessories       88.34         7  30.9190   649.2990   \n",
       "\n",
       "          Date   Time      Payment    cogs  gross margin percentage  \\\n",
       "0     1/5/2019  13:08      Ewallet  522.83                 4.761905   \n",
       "4     2/8/2019  10:37      Ewallet  604.17                 4.761905   \n",
       "5    3/25/2019  18:30      Ewallet  597.73                 4.761905   \n",
       "7    2/24/2019  11:38      Ewallet  735.60                 4.761905   \n",
       "14   3/29/2019  19:21         Cash  713.80                 4.761905   \n",
       "..         ...    ...          ...     ...                      ...   \n",
       "988  3/29/2019  19:12      Ewallet  823.40                 4.761905   \n",
       "989  1/28/2019  15:46  Credit card  602.96                 4.761905   \n",
       "991  1/24/2019  18:10      Ewallet  766.00                 4.761905   \n",
       "996   3/2/2019  17:16      Ewallet  973.80                 4.761905   \n",
       "999  2/18/2019  13:28         Cash  618.38                 4.761905   \n",
       "\n",
       "     gross income  Rating  \n",
       "0         26.1415     9.1  \n",
       "4         30.2085     5.3  \n",
       "5         29.8865     4.1  \n",
       "7         36.7800     8.0  \n",
       "14        35.6900     5.7  \n",
       "..            ...     ...  \n",
       "988       41.1700     4.3  \n",
       "989       30.1480     8.4  \n",
       "991       38.3000     6.0  \n",
       "996       48.6900     4.4  \n",
       "999       30.9190     6.6  \n",
       "\n",
       "[227 rows x 17 columns]"
      ]
     },
     "execution_count": 62,
     "metadata": {},
     "output_type": "execute_result"
    }
   ],
   "source": [
    "df[df['Total'] >500]"
   ]
  },
  {
   "cell_type": "code",
   "execution_count": 63,
   "id": "ef370184",
   "metadata": {},
   "outputs": [
    {
     "data": {
      "text/plain": [
       "227"
      ]
     },
     "execution_count": 63,
     "metadata": {},
     "output_type": "execute_result"
    }
   ],
   "source": [
    "len(df[df['Total'] >500])"
   ]
  },
  {
   "cell_type": "markdown",
   "id": "e9edba1d",
   "metadata": {},
   "source": [
    "### Agrupaciones y estadísticas"
   ]
  },
  {
   "cell_type": "markdown",
   "id": "5518af77",
   "metadata": {},
   "source": [
    "Total de ventas por método de pago"
   ]
  },
  {
   "cell_type": "code",
   "execution_count": 64,
   "id": "fd9b7774",
   "metadata": {},
   "outputs": [
    {
     "data": {
      "text/html": [
       "<div>\n",
       "<style scoped>\n",
       "    .dataframe tbody tr th:only-of-type {\n",
       "        vertical-align: middle;\n",
       "    }\n",
       "\n",
       "    .dataframe tbody tr th {\n",
       "        vertical-align: top;\n",
       "    }\n",
       "\n",
       "    .dataframe thead th {\n",
       "        text-align: right;\n",
       "    }\n",
       "</style>\n",
       "<table border=\"1\" class=\"dataframe\">\n",
       "  <thead>\n",
       "    <tr style=\"text-align: right;\">\n",
       "      <th></th>\n",
       "      <th>Payment</th>\n",
       "      <th>sum_total</th>\n",
       "    </tr>\n",
       "  </thead>\n",
       "  <tbody>\n",
       "    <tr>\n",
       "      <th>0</th>\n",
       "      <td>Cash</td>\n",
       "      <td>112206.570</td>\n",
       "    </tr>\n",
       "    <tr>\n",
       "      <th>1</th>\n",
       "      <td>Credit card</td>\n",
       "      <td>100767.072</td>\n",
       "    </tr>\n",
       "    <tr>\n",
       "      <th>2</th>\n",
       "      <td>Ewallet</td>\n",
       "      <td>109993.107</td>\n",
       "    </tr>\n",
       "  </tbody>\n",
       "</table>\n",
       "</div>"
      ],
      "text/plain": [
       "       Payment   sum_total\n",
       "0         Cash  112206.570\n",
       "1  Credit card  100767.072\n",
       "2      Ewallet  109993.107"
      ]
     },
     "execution_count": 64,
     "metadata": {},
     "output_type": "execute_result"
    }
   ],
   "source": [
    "df.groupby('Payment',as_index=False).agg(sum_total=('Total','sum'))"
   ]
  },
  {
   "cell_type": "markdown",
   "id": "af57e6f8",
   "metadata": {},
   "source": [
    "Venta promedio por categoría de producto"
   ]
  },
  {
   "cell_type": "code",
   "execution_count": 65,
   "id": "b12bf1fa",
   "metadata": {},
   "outputs": [
    {
     "data": {
      "text/html": [
       "<div>\n",
       "<style scoped>\n",
       "    .dataframe tbody tr th:only-of-type {\n",
       "        vertical-align: middle;\n",
       "    }\n",
       "\n",
       "    .dataframe tbody tr th {\n",
       "        vertical-align: top;\n",
       "    }\n",
       "\n",
       "    .dataframe thead th {\n",
       "        text-align: right;\n",
       "    }\n",
       "</style>\n",
       "<table border=\"1\" class=\"dataframe\">\n",
       "  <thead>\n",
       "    <tr style=\"text-align: right;\">\n",
       "      <th></th>\n",
       "      <th>Product line</th>\n",
       "      <th>sum_total</th>\n",
       "    </tr>\n",
       "  </thead>\n",
       "  <tbody>\n",
       "    <tr>\n",
       "      <th>0</th>\n",
       "      <td>Electronic accessories</td>\n",
       "      <td>319.632538</td>\n",
       "    </tr>\n",
       "    <tr>\n",
       "      <th>1</th>\n",
       "      <td>Fashion accessories</td>\n",
       "      <td>305.089298</td>\n",
       "    </tr>\n",
       "    <tr>\n",
       "      <th>2</th>\n",
       "      <td>Food and beverages</td>\n",
       "      <td>322.671517</td>\n",
       "    </tr>\n",
       "    <tr>\n",
       "      <th>3</th>\n",
       "      <td>Health and beauty</td>\n",
       "      <td>323.643020</td>\n",
       "    </tr>\n",
       "    <tr>\n",
       "      <th>4</th>\n",
       "      <td>Home and lifestyle</td>\n",
       "      <td>336.636956</td>\n",
       "    </tr>\n",
       "    <tr>\n",
       "      <th>5</th>\n",
       "      <td>Sports and travel</td>\n",
       "      <td>332.065220</td>\n",
       "    </tr>\n",
       "  </tbody>\n",
       "</table>\n",
       "</div>"
      ],
      "text/plain": [
       "             Product line   sum_total\n",
       "0  Electronic accessories  319.632538\n",
       "1     Fashion accessories  305.089298\n",
       "2      Food and beverages  322.671517\n",
       "3       Health and beauty  323.643020\n",
       "4      Home and lifestyle  336.636956\n",
       "5       Sports and travel  332.065220"
      ]
     },
     "execution_count": 65,
     "metadata": {},
     "output_type": "execute_result"
    }
   ],
   "source": [
    "df.groupby('Product line',as_index=False).agg(sum_total=('Total','mean'))"
   ]
  },
  {
   "cell_type": "markdown",
   "id": "f1e39e1d",
   "metadata": {},
   "source": [
    "### Fechas"
   ]
  },
  {
   "cell_type": "markdown",
   "id": "616a2743",
   "metadata": {},
   "source": [
    "1- Libreria 'DateTime' python nativo (string to datetime)"
   ]
  },
  {
   "cell_type": "code",
   "execution_count": 66,
   "id": "771fe203",
   "metadata": {},
   "outputs": [],
   "source": [
    "import dateutil.parser # Otra libreria para trabajar con fechas"
   ]
  },
  {
   "cell_type": "code",
   "execution_count": 67,
   "id": "a982eecb",
   "metadata": {},
   "outputs": [
    {
     "data": {
      "text/plain": [
       "datetime.datetime(2025, 6, 13, 20, 21)"
      ]
     },
     "execution_count": 67,
     "metadata": {},
     "output_type": "execute_result"
    }
   ],
   "source": [
    "dateutil.parser.parse('2025-06-13T20:21')"
   ]
  },
  {
   "cell_type": "code",
   "execution_count": 68,
   "id": "c1779c47",
   "metadata": {},
   "outputs": [
    {
     "data": {
      "text/plain": [
       "datetime.datetime(2025, 1, 1, 0, 0)"
      ]
     },
     "execution_count": 68,
     "metadata": {},
     "output_type": "execute_result"
    }
   ],
   "source": [
    "# Entender como trabaja la libreria datetime\n",
    "datetime.datetime.strptime('2025-1-1','%Y-%m-%d')"
   ]
  },
  {
   "cell_type": "code",
   "execution_count": 69,
   "id": "967788de",
   "metadata": {},
   "outputs": [
    {
     "data": {
      "text/plain": [
       "datetime.datetime(2025, 1, 1, 20, 21)"
      ]
     },
     "execution_count": 69,
     "metadata": {},
     "output_type": "execute_result"
    }
   ],
   "source": [
    "datetime.datetime.strptime('2025-1-1T20:21','%Y-%m-%dT%H:%M')"
   ]
  },
  {
   "cell_type": "code",
   "execution_count": 70,
   "id": "4e15b05c",
   "metadata": {},
   "outputs": [
    {
     "name": "stdout",
     "output_type": "stream",
     "text": [
      "1\n",
      "1\n",
      "2025\n"
     ]
    }
   ],
   "source": [
    "print(datetime.datetime.strptime('2025-1-1T20:21','%Y-%m-%dT%H:%M').day)\n",
    "print(datetime.datetime.strptime('2025-1-1T20:21','%Y-%m-%dT%H:%M').month)\n",
    "print(datetime.datetime.strptime('2025-1-1T20:21','%Y-%m-%dT%H:%M').year)"
   ]
  },
  {
   "cell_type": "code",
   "execution_count": 71,
   "id": "5e7ab2c3",
   "metadata": {},
   "outputs": [
    {
     "data": {
      "text/html": [
       "<div>\n",
       "<style scoped>\n",
       "    .dataframe tbody tr th:only-of-type {\n",
       "        vertical-align: middle;\n",
       "    }\n",
       "\n",
       "    .dataframe tbody tr th {\n",
       "        vertical-align: top;\n",
       "    }\n",
       "\n",
       "    .dataframe thead th {\n",
       "        text-align: right;\n",
       "    }\n",
       "</style>\n",
       "<table border=\"1\" class=\"dataframe\">\n",
       "  <thead>\n",
       "    <tr style=\"text-align: right;\">\n",
       "      <th></th>\n",
       "      <th>Invoice ID</th>\n",
       "      <th>Branch</th>\n",
       "      <th>City</th>\n",
       "      <th>Customer type</th>\n",
       "      <th>Gender</th>\n",
       "      <th>Product line</th>\n",
       "      <th>Unit price</th>\n",
       "      <th>Quantity</th>\n",
       "      <th>Tax 5%</th>\n",
       "      <th>Total</th>\n",
       "      <th>Date</th>\n",
       "      <th>Time</th>\n",
       "      <th>Payment</th>\n",
       "      <th>cogs</th>\n",
       "      <th>gross margin percentage</th>\n",
       "      <th>gross income</th>\n",
       "      <th>Rating</th>\n",
       "      <th>DateTime</th>\n",
       "    </tr>\n",
       "  </thead>\n",
       "  <tbody>\n",
       "    <tr>\n",
       "      <th>0</th>\n",
       "      <td>750-67-8428</td>\n",
       "      <td>A</td>\n",
       "      <td>Yangon</td>\n",
       "      <td>Member</td>\n",
       "      <td>Female</td>\n",
       "      <td>Health and beauty</td>\n",
       "      <td>74.69</td>\n",
       "      <td>7</td>\n",
       "      <td>26.1415</td>\n",
       "      <td>548.9715</td>\n",
       "      <td>1/5/2019</td>\n",
       "      <td>13:08</td>\n",
       "      <td>Ewallet</td>\n",
       "      <td>522.83</td>\n",
       "      <td>4.761905</td>\n",
       "      <td>26.1415</td>\n",
       "      <td>9.1</td>\n",
       "      <td>1/5/2019 13:08</td>\n",
       "    </tr>\n",
       "    <tr>\n",
       "      <th>1</th>\n",
       "      <td>226-31-3081</td>\n",
       "      <td>C</td>\n",
       "      <td>Naypyitaw</td>\n",
       "      <td>Normal</td>\n",
       "      <td>Female</td>\n",
       "      <td>Electronic accessories</td>\n",
       "      <td>15.28</td>\n",
       "      <td>5</td>\n",
       "      <td>3.8200</td>\n",
       "      <td>80.2200</td>\n",
       "      <td>3/8/2019</td>\n",
       "      <td>10:29</td>\n",
       "      <td>Cash</td>\n",
       "      <td>76.40</td>\n",
       "      <td>4.761905</td>\n",
       "      <td>3.8200</td>\n",
       "      <td>9.6</td>\n",
       "      <td>3/8/2019 10:29</td>\n",
       "    </tr>\n",
       "    <tr>\n",
       "      <th>2</th>\n",
       "      <td>631-41-3108</td>\n",
       "      <td>A</td>\n",
       "      <td>Yangon</td>\n",
       "      <td>Normal</td>\n",
       "      <td>Male</td>\n",
       "      <td>Home and lifestyle</td>\n",
       "      <td>46.33</td>\n",
       "      <td>7</td>\n",
       "      <td>16.2155</td>\n",
       "      <td>340.5255</td>\n",
       "      <td>3/3/2019</td>\n",
       "      <td>13:23</td>\n",
       "      <td>Credit card</td>\n",
       "      <td>324.31</td>\n",
       "      <td>4.761905</td>\n",
       "      <td>16.2155</td>\n",
       "      <td>7.4</td>\n",
       "      <td>3/3/2019 13:23</td>\n",
       "    </tr>\n",
       "    <tr>\n",
       "      <th>3</th>\n",
       "      <td>123-19-1176</td>\n",
       "      <td>A</td>\n",
       "      <td>Yangon</td>\n",
       "      <td>Member</td>\n",
       "      <td>Male</td>\n",
       "      <td>Health and beauty</td>\n",
       "      <td>58.22</td>\n",
       "      <td>8</td>\n",
       "      <td>23.2880</td>\n",
       "      <td>489.0480</td>\n",
       "      <td>1/27/2019</td>\n",
       "      <td>20:33</td>\n",
       "      <td>Ewallet</td>\n",
       "      <td>465.76</td>\n",
       "      <td>4.761905</td>\n",
       "      <td>23.2880</td>\n",
       "      <td>8.4</td>\n",
       "      <td>1/27/2019 20:33</td>\n",
       "    </tr>\n",
       "    <tr>\n",
       "      <th>4</th>\n",
       "      <td>373-73-7910</td>\n",
       "      <td>A</td>\n",
       "      <td>Yangon</td>\n",
       "      <td>Normal</td>\n",
       "      <td>Male</td>\n",
       "      <td>Sports and travel</td>\n",
       "      <td>86.31</td>\n",
       "      <td>7</td>\n",
       "      <td>30.2085</td>\n",
       "      <td>634.3785</td>\n",
       "      <td>2/8/2019</td>\n",
       "      <td>10:37</td>\n",
       "      <td>Ewallet</td>\n",
       "      <td>604.17</td>\n",
       "      <td>4.761905</td>\n",
       "      <td>30.2085</td>\n",
       "      <td>5.3</td>\n",
       "      <td>2/8/2019 10:37</td>\n",
       "    </tr>\n",
       "    <tr>\n",
       "      <th>...</th>\n",
       "      <td>...</td>\n",
       "      <td>...</td>\n",
       "      <td>...</td>\n",
       "      <td>...</td>\n",
       "      <td>...</td>\n",
       "      <td>...</td>\n",
       "      <td>...</td>\n",
       "      <td>...</td>\n",
       "      <td>...</td>\n",
       "      <td>...</td>\n",
       "      <td>...</td>\n",
       "      <td>...</td>\n",
       "      <td>...</td>\n",
       "      <td>...</td>\n",
       "      <td>...</td>\n",
       "      <td>...</td>\n",
       "      <td>...</td>\n",
       "      <td>...</td>\n",
       "    </tr>\n",
       "    <tr>\n",
       "      <th>995</th>\n",
       "      <td>233-67-5758</td>\n",
       "      <td>C</td>\n",
       "      <td>Naypyitaw</td>\n",
       "      <td>Normal</td>\n",
       "      <td>Male</td>\n",
       "      <td>Health and beauty</td>\n",
       "      <td>40.35</td>\n",
       "      <td>1</td>\n",
       "      <td>2.0175</td>\n",
       "      <td>42.3675</td>\n",
       "      <td>1/29/2019</td>\n",
       "      <td>13:46</td>\n",
       "      <td>Ewallet</td>\n",
       "      <td>40.35</td>\n",
       "      <td>4.761905</td>\n",
       "      <td>2.0175</td>\n",
       "      <td>6.2</td>\n",
       "      <td>1/29/2019 13:46</td>\n",
       "    </tr>\n",
       "    <tr>\n",
       "      <th>996</th>\n",
       "      <td>303-96-2227</td>\n",
       "      <td>B</td>\n",
       "      <td>Mandalay</td>\n",
       "      <td>Normal</td>\n",
       "      <td>Female</td>\n",
       "      <td>Home and lifestyle</td>\n",
       "      <td>97.38</td>\n",
       "      <td>10</td>\n",
       "      <td>48.6900</td>\n",
       "      <td>1022.4900</td>\n",
       "      <td>3/2/2019</td>\n",
       "      <td>17:16</td>\n",
       "      <td>Ewallet</td>\n",
       "      <td>973.80</td>\n",
       "      <td>4.761905</td>\n",
       "      <td>48.6900</td>\n",
       "      <td>4.4</td>\n",
       "      <td>3/2/2019 17:16</td>\n",
       "    </tr>\n",
       "    <tr>\n",
       "      <th>997</th>\n",
       "      <td>727-02-1313</td>\n",
       "      <td>A</td>\n",
       "      <td>Yangon</td>\n",
       "      <td>Member</td>\n",
       "      <td>Male</td>\n",
       "      <td>Food and beverages</td>\n",
       "      <td>31.84</td>\n",
       "      <td>1</td>\n",
       "      <td>1.5920</td>\n",
       "      <td>33.4320</td>\n",
       "      <td>2/9/2019</td>\n",
       "      <td>13:22</td>\n",
       "      <td>Cash</td>\n",
       "      <td>31.84</td>\n",
       "      <td>4.761905</td>\n",
       "      <td>1.5920</td>\n",
       "      <td>7.7</td>\n",
       "      <td>2/9/2019 13:22</td>\n",
       "    </tr>\n",
       "    <tr>\n",
       "      <th>998</th>\n",
       "      <td>347-56-2442</td>\n",
       "      <td>A</td>\n",
       "      <td>Yangon</td>\n",
       "      <td>Normal</td>\n",
       "      <td>Male</td>\n",
       "      <td>Home and lifestyle</td>\n",
       "      <td>65.82</td>\n",
       "      <td>1</td>\n",
       "      <td>3.2910</td>\n",
       "      <td>69.1110</td>\n",
       "      <td>2/22/2019</td>\n",
       "      <td>15:33</td>\n",
       "      <td>Cash</td>\n",
       "      <td>65.82</td>\n",
       "      <td>4.761905</td>\n",
       "      <td>3.2910</td>\n",
       "      <td>4.1</td>\n",
       "      <td>2/22/2019 15:33</td>\n",
       "    </tr>\n",
       "    <tr>\n",
       "      <th>999</th>\n",
       "      <td>849-09-3807</td>\n",
       "      <td>A</td>\n",
       "      <td>Yangon</td>\n",
       "      <td>Member</td>\n",
       "      <td>Female</td>\n",
       "      <td>Fashion accessories</td>\n",
       "      <td>88.34</td>\n",
       "      <td>7</td>\n",
       "      <td>30.9190</td>\n",
       "      <td>649.2990</td>\n",
       "      <td>2/18/2019</td>\n",
       "      <td>13:28</td>\n",
       "      <td>Cash</td>\n",
       "      <td>618.38</td>\n",
       "      <td>4.761905</td>\n",
       "      <td>30.9190</td>\n",
       "      <td>6.6</td>\n",
       "      <td>2/18/2019 13:28</td>\n",
       "    </tr>\n",
       "  </tbody>\n",
       "</table>\n",
       "<p>1000 rows × 18 columns</p>\n",
       "</div>"
      ],
      "text/plain": [
       "      Invoice ID Branch       City Customer type  Gender  \\\n",
       "0    750-67-8428      A     Yangon        Member  Female   \n",
       "1    226-31-3081      C  Naypyitaw        Normal  Female   \n",
       "2    631-41-3108      A     Yangon        Normal    Male   \n",
       "3    123-19-1176      A     Yangon        Member    Male   \n",
       "4    373-73-7910      A     Yangon        Normal    Male   \n",
       "..           ...    ...        ...           ...     ...   \n",
       "995  233-67-5758      C  Naypyitaw        Normal    Male   \n",
       "996  303-96-2227      B   Mandalay        Normal  Female   \n",
       "997  727-02-1313      A     Yangon        Member    Male   \n",
       "998  347-56-2442      A     Yangon        Normal    Male   \n",
       "999  849-09-3807      A     Yangon        Member  Female   \n",
       "\n",
       "               Product line  Unit price  Quantity   Tax 5%      Total  \\\n",
       "0         Health and beauty       74.69         7  26.1415   548.9715   \n",
       "1    Electronic accessories       15.28         5   3.8200    80.2200   \n",
       "2        Home and lifestyle       46.33         7  16.2155   340.5255   \n",
       "3         Health and beauty       58.22         8  23.2880   489.0480   \n",
       "4         Sports and travel       86.31         7  30.2085   634.3785   \n",
       "..                      ...         ...       ...      ...        ...   \n",
       "995       Health and beauty       40.35         1   2.0175    42.3675   \n",
       "996      Home and lifestyle       97.38        10  48.6900  1022.4900   \n",
       "997      Food and beverages       31.84         1   1.5920    33.4320   \n",
       "998      Home and lifestyle       65.82         1   3.2910    69.1110   \n",
       "999     Fashion accessories       88.34         7  30.9190   649.2990   \n",
       "\n",
       "          Date   Time      Payment    cogs  gross margin percentage  \\\n",
       "0     1/5/2019  13:08      Ewallet  522.83                 4.761905   \n",
       "1     3/8/2019  10:29         Cash   76.40                 4.761905   \n",
       "2     3/3/2019  13:23  Credit card  324.31                 4.761905   \n",
       "3    1/27/2019  20:33      Ewallet  465.76                 4.761905   \n",
       "4     2/8/2019  10:37      Ewallet  604.17                 4.761905   \n",
       "..         ...    ...          ...     ...                      ...   \n",
       "995  1/29/2019  13:46      Ewallet   40.35                 4.761905   \n",
       "996   3/2/2019  17:16      Ewallet  973.80                 4.761905   \n",
       "997   2/9/2019  13:22         Cash   31.84                 4.761905   \n",
       "998  2/22/2019  15:33         Cash   65.82                 4.761905   \n",
       "999  2/18/2019  13:28         Cash  618.38                 4.761905   \n",
       "\n",
       "     gross income  Rating         DateTime  \n",
       "0         26.1415     9.1   1/5/2019 13:08  \n",
       "1          3.8200     9.6   3/8/2019 10:29  \n",
       "2         16.2155     7.4   3/3/2019 13:23  \n",
       "3         23.2880     8.4  1/27/2019 20:33  \n",
       "4         30.2085     5.3   2/8/2019 10:37  \n",
       "..            ...     ...              ...  \n",
       "995        2.0175     6.2  1/29/2019 13:46  \n",
       "996       48.6900     4.4   3/2/2019 17:16  \n",
       "997        1.5920     7.7   2/9/2019 13:22  \n",
       "998        3.2910     4.1  2/22/2019 15:33  \n",
       "999       30.9190     6.6  2/18/2019 13:28  \n",
       "\n",
       "[1000 rows x 18 columns]"
      ]
     },
     "execution_count": 71,
     "metadata": {},
     "output_type": "execute_result"
    }
   ],
   "source": [
    "# Vamos a generar una nueva colmna que concatene las dos columnas Date y Time\n",
    "df['DateTime'] = df['Date'] + ' ' + df['Time']\n",
    "df"
   ]
  },
  {
   "cell_type": "markdown",
   "id": "e9445ec5",
   "metadata": {},
   "source": [
    "Ahora podemos pasar nuestra columna a objeto dateitme"
   ]
  },
  {
   "cell_type": "code",
   "execution_count": 72,
   "id": "45225c52",
   "metadata": {},
   "outputs": [
    {
     "name": "stdout",
     "output_type": "stream",
     "text": [
      "2019-01-05 13:08:00\n"
     ]
    }
   ],
   "source": [
    "# A este formato\n",
    "print(datetime.datetime.strptime(df['DateTime'][0] ,'%m/%d/%Y %H:%M'))"
   ]
  },
  {
   "cell_type": "code",
   "execution_count": 73,
   "id": "74c65b26",
   "metadata": {},
   "outputs": [
    {
     "data": {
      "text/html": [
       "<div>\n",
       "<style scoped>\n",
       "    .dataframe tbody tr th:only-of-type {\n",
       "        vertical-align: middle;\n",
       "    }\n",
       "\n",
       "    .dataframe tbody tr th {\n",
       "        vertical-align: top;\n",
       "    }\n",
       "\n",
       "    .dataframe thead th {\n",
       "        text-align: right;\n",
       "    }\n",
       "</style>\n",
       "<table border=\"1\" class=\"dataframe\">\n",
       "  <thead>\n",
       "    <tr style=\"text-align: right;\">\n",
       "      <th></th>\n",
       "      <th>Invoice ID</th>\n",
       "      <th>Branch</th>\n",
       "      <th>City</th>\n",
       "      <th>Customer type</th>\n",
       "      <th>Gender</th>\n",
       "      <th>Product line</th>\n",
       "      <th>Unit price</th>\n",
       "      <th>Quantity</th>\n",
       "      <th>Tax 5%</th>\n",
       "      <th>Total</th>\n",
       "      <th>Date</th>\n",
       "      <th>Time</th>\n",
       "      <th>Payment</th>\n",
       "      <th>cogs</th>\n",
       "      <th>gross margin percentage</th>\n",
       "      <th>gross income</th>\n",
       "      <th>Rating</th>\n",
       "      <th>DateTime</th>\n",
       "    </tr>\n",
       "  </thead>\n",
       "  <tbody>\n",
       "    <tr>\n",
       "      <th>0</th>\n",
       "      <td>750-67-8428</td>\n",
       "      <td>A</td>\n",
       "      <td>Yangon</td>\n",
       "      <td>Member</td>\n",
       "      <td>Female</td>\n",
       "      <td>Health and beauty</td>\n",
       "      <td>74.69</td>\n",
       "      <td>7</td>\n",
       "      <td>26.1415</td>\n",
       "      <td>548.9715</td>\n",
       "      <td>1/5/2019</td>\n",
       "      <td>13:08</td>\n",
       "      <td>Ewallet</td>\n",
       "      <td>522.83</td>\n",
       "      <td>4.761905</td>\n",
       "      <td>26.1415</td>\n",
       "      <td>9.1</td>\n",
       "      <td>2019-01-05 13:08:00</td>\n",
       "    </tr>\n",
       "    <tr>\n",
       "      <th>1</th>\n",
       "      <td>226-31-3081</td>\n",
       "      <td>C</td>\n",
       "      <td>Naypyitaw</td>\n",
       "      <td>Normal</td>\n",
       "      <td>Female</td>\n",
       "      <td>Electronic accessories</td>\n",
       "      <td>15.28</td>\n",
       "      <td>5</td>\n",
       "      <td>3.8200</td>\n",
       "      <td>80.2200</td>\n",
       "      <td>3/8/2019</td>\n",
       "      <td>10:29</td>\n",
       "      <td>Cash</td>\n",
       "      <td>76.40</td>\n",
       "      <td>4.761905</td>\n",
       "      <td>3.8200</td>\n",
       "      <td>9.6</td>\n",
       "      <td>2019-03-08 10:29:00</td>\n",
       "    </tr>\n",
       "    <tr>\n",
       "      <th>2</th>\n",
       "      <td>631-41-3108</td>\n",
       "      <td>A</td>\n",
       "      <td>Yangon</td>\n",
       "      <td>Normal</td>\n",
       "      <td>Male</td>\n",
       "      <td>Home and lifestyle</td>\n",
       "      <td>46.33</td>\n",
       "      <td>7</td>\n",
       "      <td>16.2155</td>\n",
       "      <td>340.5255</td>\n",
       "      <td>3/3/2019</td>\n",
       "      <td>13:23</td>\n",
       "      <td>Credit card</td>\n",
       "      <td>324.31</td>\n",
       "      <td>4.761905</td>\n",
       "      <td>16.2155</td>\n",
       "      <td>7.4</td>\n",
       "      <td>2019-03-03 13:23:00</td>\n",
       "    </tr>\n",
       "    <tr>\n",
       "      <th>3</th>\n",
       "      <td>123-19-1176</td>\n",
       "      <td>A</td>\n",
       "      <td>Yangon</td>\n",
       "      <td>Member</td>\n",
       "      <td>Male</td>\n",
       "      <td>Health and beauty</td>\n",
       "      <td>58.22</td>\n",
       "      <td>8</td>\n",
       "      <td>23.2880</td>\n",
       "      <td>489.0480</td>\n",
       "      <td>1/27/2019</td>\n",
       "      <td>20:33</td>\n",
       "      <td>Ewallet</td>\n",
       "      <td>465.76</td>\n",
       "      <td>4.761905</td>\n",
       "      <td>23.2880</td>\n",
       "      <td>8.4</td>\n",
       "      <td>2019-01-27 20:33:00</td>\n",
       "    </tr>\n",
       "    <tr>\n",
       "      <th>4</th>\n",
       "      <td>373-73-7910</td>\n",
       "      <td>A</td>\n",
       "      <td>Yangon</td>\n",
       "      <td>Normal</td>\n",
       "      <td>Male</td>\n",
       "      <td>Sports and travel</td>\n",
       "      <td>86.31</td>\n",
       "      <td>7</td>\n",
       "      <td>30.2085</td>\n",
       "      <td>634.3785</td>\n",
       "      <td>2/8/2019</td>\n",
       "      <td>10:37</td>\n",
       "      <td>Ewallet</td>\n",
       "      <td>604.17</td>\n",
       "      <td>4.761905</td>\n",
       "      <td>30.2085</td>\n",
       "      <td>5.3</td>\n",
       "      <td>2019-02-08 10:37:00</td>\n",
       "    </tr>\n",
       "    <tr>\n",
       "      <th>...</th>\n",
       "      <td>...</td>\n",
       "      <td>...</td>\n",
       "      <td>...</td>\n",
       "      <td>...</td>\n",
       "      <td>...</td>\n",
       "      <td>...</td>\n",
       "      <td>...</td>\n",
       "      <td>...</td>\n",
       "      <td>...</td>\n",
       "      <td>...</td>\n",
       "      <td>...</td>\n",
       "      <td>...</td>\n",
       "      <td>...</td>\n",
       "      <td>...</td>\n",
       "      <td>...</td>\n",
       "      <td>...</td>\n",
       "      <td>...</td>\n",
       "      <td>...</td>\n",
       "    </tr>\n",
       "    <tr>\n",
       "      <th>995</th>\n",
       "      <td>233-67-5758</td>\n",
       "      <td>C</td>\n",
       "      <td>Naypyitaw</td>\n",
       "      <td>Normal</td>\n",
       "      <td>Male</td>\n",
       "      <td>Health and beauty</td>\n",
       "      <td>40.35</td>\n",
       "      <td>1</td>\n",
       "      <td>2.0175</td>\n",
       "      <td>42.3675</td>\n",
       "      <td>1/29/2019</td>\n",
       "      <td>13:46</td>\n",
       "      <td>Ewallet</td>\n",
       "      <td>40.35</td>\n",
       "      <td>4.761905</td>\n",
       "      <td>2.0175</td>\n",
       "      <td>6.2</td>\n",
       "      <td>2019-01-29 13:46:00</td>\n",
       "    </tr>\n",
       "    <tr>\n",
       "      <th>996</th>\n",
       "      <td>303-96-2227</td>\n",
       "      <td>B</td>\n",
       "      <td>Mandalay</td>\n",
       "      <td>Normal</td>\n",
       "      <td>Female</td>\n",
       "      <td>Home and lifestyle</td>\n",
       "      <td>97.38</td>\n",
       "      <td>10</td>\n",
       "      <td>48.6900</td>\n",
       "      <td>1022.4900</td>\n",
       "      <td>3/2/2019</td>\n",
       "      <td>17:16</td>\n",
       "      <td>Ewallet</td>\n",
       "      <td>973.80</td>\n",
       "      <td>4.761905</td>\n",
       "      <td>48.6900</td>\n",
       "      <td>4.4</td>\n",
       "      <td>2019-03-02 17:16:00</td>\n",
       "    </tr>\n",
       "    <tr>\n",
       "      <th>997</th>\n",
       "      <td>727-02-1313</td>\n",
       "      <td>A</td>\n",
       "      <td>Yangon</td>\n",
       "      <td>Member</td>\n",
       "      <td>Male</td>\n",
       "      <td>Food and beverages</td>\n",
       "      <td>31.84</td>\n",
       "      <td>1</td>\n",
       "      <td>1.5920</td>\n",
       "      <td>33.4320</td>\n",
       "      <td>2/9/2019</td>\n",
       "      <td>13:22</td>\n",
       "      <td>Cash</td>\n",
       "      <td>31.84</td>\n",
       "      <td>4.761905</td>\n",
       "      <td>1.5920</td>\n",
       "      <td>7.7</td>\n",
       "      <td>2019-02-09 13:22:00</td>\n",
       "    </tr>\n",
       "    <tr>\n",
       "      <th>998</th>\n",
       "      <td>347-56-2442</td>\n",
       "      <td>A</td>\n",
       "      <td>Yangon</td>\n",
       "      <td>Normal</td>\n",
       "      <td>Male</td>\n",
       "      <td>Home and lifestyle</td>\n",
       "      <td>65.82</td>\n",
       "      <td>1</td>\n",
       "      <td>3.2910</td>\n",
       "      <td>69.1110</td>\n",
       "      <td>2/22/2019</td>\n",
       "      <td>15:33</td>\n",
       "      <td>Cash</td>\n",
       "      <td>65.82</td>\n",
       "      <td>4.761905</td>\n",
       "      <td>3.2910</td>\n",
       "      <td>4.1</td>\n",
       "      <td>2019-02-22 15:33:00</td>\n",
       "    </tr>\n",
       "    <tr>\n",
       "      <th>999</th>\n",
       "      <td>849-09-3807</td>\n",
       "      <td>A</td>\n",
       "      <td>Yangon</td>\n",
       "      <td>Member</td>\n",
       "      <td>Female</td>\n",
       "      <td>Fashion accessories</td>\n",
       "      <td>88.34</td>\n",
       "      <td>7</td>\n",
       "      <td>30.9190</td>\n",
       "      <td>649.2990</td>\n",
       "      <td>2/18/2019</td>\n",
       "      <td>13:28</td>\n",
       "      <td>Cash</td>\n",
       "      <td>618.38</td>\n",
       "      <td>4.761905</td>\n",
       "      <td>30.9190</td>\n",
       "      <td>6.6</td>\n",
       "      <td>2019-02-18 13:28:00</td>\n",
       "    </tr>\n",
       "  </tbody>\n",
       "</table>\n",
       "<p>1000 rows × 18 columns</p>\n",
       "</div>"
      ],
      "text/plain": [
       "      Invoice ID Branch       City Customer type  Gender  \\\n",
       "0    750-67-8428      A     Yangon        Member  Female   \n",
       "1    226-31-3081      C  Naypyitaw        Normal  Female   \n",
       "2    631-41-3108      A     Yangon        Normal    Male   \n",
       "3    123-19-1176      A     Yangon        Member    Male   \n",
       "4    373-73-7910      A     Yangon        Normal    Male   \n",
       "..           ...    ...        ...           ...     ...   \n",
       "995  233-67-5758      C  Naypyitaw        Normal    Male   \n",
       "996  303-96-2227      B   Mandalay        Normal  Female   \n",
       "997  727-02-1313      A     Yangon        Member    Male   \n",
       "998  347-56-2442      A     Yangon        Normal    Male   \n",
       "999  849-09-3807      A     Yangon        Member  Female   \n",
       "\n",
       "               Product line  Unit price  Quantity   Tax 5%      Total  \\\n",
       "0         Health and beauty       74.69         7  26.1415   548.9715   \n",
       "1    Electronic accessories       15.28         5   3.8200    80.2200   \n",
       "2        Home and lifestyle       46.33         7  16.2155   340.5255   \n",
       "3         Health and beauty       58.22         8  23.2880   489.0480   \n",
       "4         Sports and travel       86.31         7  30.2085   634.3785   \n",
       "..                      ...         ...       ...      ...        ...   \n",
       "995       Health and beauty       40.35         1   2.0175    42.3675   \n",
       "996      Home and lifestyle       97.38        10  48.6900  1022.4900   \n",
       "997      Food and beverages       31.84         1   1.5920    33.4320   \n",
       "998      Home and lifestyle       65.82         1   3.2910    69.1110   \n",
       "999     Fashion accessories       88.34         7  30.9190   649.2990   \n",
       "\n",
       "          Date   Time      Payment    cogs  gross margin percentage  \\\n",
       "0     1/5/2019  13:08      Ewallet  522.83                 4.761905   \n",
       "1     3/8/2019  10:29         Cash   76.40                 4.761905   \n",
       "2     3/3/2019  13:23  Credit card  324.31                 4.761905   \n",
       "3    1/27/2019  20:33      Ewallet  465.76                 4.761905   \n",
       "4     2/8/2019  10:37      Ewallet  604.17                 4.761905   \n",
       "..         ...    ...          ...     ...                      ...   \n",
       "995  1/29/2019  13:46      Ewallet   40.35                 4.761905   \n",
       "996   3/2/2019  17:16      Ewallet  973.80                 4.761905   \n",
       "997   2/9/2019  13:22         Cash   31.84                 4.761905   \n",
       "998  2/22/2019  15:33         Cash   65.82                 4.761905   \n",
       "999  2/18/2019  13:28         Cash  618.38                 4.761905   \n",
       "\n",
       "     gross income  Rating            DateTime  \n",
       "0         26.1415     9.1 2019-01-05 13:08:00  \n",
       "1          3.8200     9.6 2019-03-08 10:29:00  \n",
       "2         16.2155     7.4 2019-03-03 13:23:00  \n",
       "3         23.2880     8.4 2019-01-27 20:33:00  \n",
       "4         30.2085     5.3 2019-02-08 10:37:00  \n",
       "..            ...     ...                 ...  \n",
       "995        2.0175     6.2 2019-01-29 13:46:00  \n",
       "996       48.6900     4.4 2019-03-02 17:16:00  \n",
       "997        1.5920     7.7 2019-02-09 13:22:00  \n",
       "998        3.2910     4.1 2019-02-22 15:33:00  \n",
       "999       30.9190     6.6 2019-02-18 13:28:00  \n",
       "\n",
       "[1000 rows x 18 columns]"
      ]
     },
     "execution_count": 73,
     "metadata": {},
     "output_type": "execute_result"
    }
   ],
   "source": [
    "df['DateTime'] = df['DateTime'].apply(lambda x : datetime.datetime.strptime(x ,'%m/%d/%Y %H:%M'))\n",
    "df"
   ]
  },
  {
   "cell_type": "code",
   "execution_count": 74,
   "id": "ca048166",
   "metadata": {},
   "outputs": [
    {
     "data": {
      "text/plain": [
       "Invoice ID                         object\n",
       "Branch                             object\n",
       "City                               object\n",
       "Customer type                      object\n",
       "Gender                             object\n",
       "Product line                       object\n",
       "Unit price                        float64\n",
       "Quantity                            int64\n",
       "Tax 5%                            float64\n",
       "Total                             float64\n",
       "Date                               object\n",
       "Time                               object\n",
       "Payment                            object\n",
       "cogs                              float64\n",
       "gross margin percentage           float64\n",
       "gross income                      float64\n",
       "Rating                            float64\n",
       "DateTime                   datetime64[ns]\n",
       "dtype: object"
      ]
     },
     "execution_count": 74,
     "metadata": {},
     "output_type": "execute_result"
    }
   ],
   "source": [
    "df.dtypes"
   ]
  },
  {
   "cell_type": "code",
   "execution_count": 75,
   "id": "03b1da33",
   "metadata": {},
   "outputs": [
    {
     "data": {
      "text/plain": [
       "Timestamp('2019-01-05 13:08:00')"
      ]
     },
     "execution_count": 75,
     "metadata": {},
     "output_type": "execute_result"
    }
   ],
   "source": [
    "# Este es el fomato que nos ha quedado, aplicado a la librería datetime\n",
    "df['DateTime'][0]"
   ]
  },
  {
   "cell_type": "markdown",
   "id": "c9484935",
   "metadata": {},
   "source": [
    "Total de ventas por mes"
   ]
  },
  {
   "cell_type": "code",
   "execution_count": 76,
   "id": "a6e24b12",
   "metadata": {},
   "outputs": [
    {
     "data": {
      "text/html": [
       "<div>\n",
       "<style scoped>\n",
       "    .dataframe tbody tr th:only-of-type {\n",
       "        vertical-align: middle;\n",
       "    }\n",
       "\n",
       "    .dataframe tbody tr th {\n",
       "        vertical-align: top;\n",
       "    }\n",
       "\n",
       "    .dataframe thead th {\n",
       "        text-align: right;\n",
       "    }\n",
       "</style>\n",
       "<table border=\"1\" class=\"dataframe\">\n",
       "  <thead>\n",
       "    <tr style=\"text-align: right;\">\n",
       "      <th></th>\n",
       "      <th>Invoice ID</th>\n",
       "      <th>Branch</th>\n",
       "      <th>City</th>\n",
       "      <th>Customer type</th>\n",
       "      <th>Gender</th>\n",
       "      <th>Product line</th>\n",
       "      <th>Unit price</th>\n",
       "      <th>Quantity</th>\n",
       "      <th>Tax 5%</th>\n",
       "      <th>Total</th>\n",
       "      <th>Date</th>\n",
       "      <th>Time</th>\n",
       "      <th>Payment</th>\n",
       "      <th>cogs</th>\n",
       "      <th>gross margin percentage</th>\n",
       "      <th>gross income</th>\n",
       "      <th>Rating</th>\n",
       "      <th>DateTime</th>\n",
       "      <th>Month</th>\n",
       "    </tr>\n",
       "  </thead>\n",
       "  <tbody>\n",
       "    <tr>\n",
       "      <th>0</th>\n",
       "      <td>750-67-8428</td>\n",
       "      <td>A</td>\n",
       "      <td>Yangon</td>\n",
       "      <td>Member</td>\n",
       "      <td>Female</td>\n",
       "      <td>Health and beauty</td>\n",
       "      <td>74.69</td>\n",
       "      <td>7</td>\n",
       "      <td>26.1415</td>\n",
       "      <td>548.9715</td>\n",
       "      <td>1/5/2019</td>\n",
       "      <td>13:08</td>\n",
       "      <td>Ewallet</td>\n",
       "      <td>522.83</td>\n",
       "      <td>4.761905</td>\n",
       "      <td>26.1415</td>\n",
       "      <td>9.1</td>\n",
       "      <td>2019-01-05 13:08:00</td>\n",
       "      <td>1</td>\n",
       "    </tr>\n",
       "    <tr>\n",
       "      <th>1</th>\n",
       "      <td>226-31-3081</td>\n",
       "      <td>C</td>\n",
       "      <td>Naypyitaw</td>\n",
       "      <td>Normal</td>\n",
       "      <td>Female</td>\n",
       "      <td>Electronic accessories</td>\n",
       "      <td>15.28</td>\n",
       "      <td>5</td>\n",
       "      <td>3.8200</td>\n",
       "      <td>80.2200</td>\n",
       "      <td>3/8/2019</td>\n",
       "      <td>10:29</td>\n",
       "      <td>Cash</td>\n",
       "      <td>76.40</td>\n",
       "      <td>4.761905</td>\n",
       "      <td>3.8200</td>\n",
       "      <td>9.6</td>\n",
       "      <td>2019-03-08 10:29:00</td>\n",
       "      <td>3</td>\n",
       "    </tr>\n",
       "    <tr>\n",
       "      <th>2</th>\n",
       "      <td>631-41-3108</td>\n",
       "      <td>A</td>\n",
       "      <td>Yangon</td>\n",
       "      <td>Normal</td>\n",
       "      <td>Male</td>\n",
       "      <td>Home and lifestyle</td>\n",
       "      <td>46.33</td>\n",
       "      <td>7</td>\n",
       "      <td>16.2155</td>\n",
       "      <td>340.5255</td>\n",
       "      <td>3/3/2019</td>\n",
       "      <td>13:23</td>\n",
       "      <td>Credit card</td>\n",
       "      <td>324.31</td>\n",
       "      <td>4.761905</td>\n",
       "      <td>16.2155</td>\n",
       "      <td>7.4</td>\n",
       "      <td>2019-03-03 13:23:00</td>\n",
       "      <td>3</td>\n",
       "    </tr>\n",
       "    <tr>\n",
       "      <th>3</th>\n",
       "      <td>123-19-1176</td>\n",
       "      <td>A</td>\n",
       "      <td>Yangon</td>\n",
       "      <td>Member</td>\n",
       "      <td>Male</td>\n",
       "      <td>Health and beauty</td>\n",
       "      <td>58.22</td>\n",
       "      <td>8</td>\n",
       "      <td>23.2880</td>\n",
       "      <td>489.0480</td>\n",
       "      <td>1/27/2019</td>\n",
       "      <td>20:33</td>\n",
       "      <td>Ewallet</td>\n",
       "      <td>465.76</td>\n",
       "      <td>4.761905</td>\n",
       "      <td>23.2880</td>\n",
       "      <td>8.4</td>\n",
       "      <td>2019-01-27 20:33:00</td>\n",
       "      <td>1</td>\n",
       "    </tr>\n",
       "    <tr>\n",
       "      <th>4</th>\n",
       "      <td>373-73-7910</td>\n",
       "      <td>A</td>\n",
       "      <td>Yangon</td>\n",
       "      <td>Normal</td>\n",
       "      <td>Male</td>\n",
       "      <td>Sports and travel</td>\n",
       "      <td>86.31</td>\n",
       "      <td>7</td>\n",
       "      <td>30.2085</td>\n",
       "      <td>634.3785</td>\n",
       "      <td>2/8/2019</td>\n",
       "      <td>10:37</td>\n",
       "      <td>Ewallet</td>\n",
       "      <td>604.17</td>\n",
       "      <td>4.761905</td>\n",
       "      <td>30.2085</td>\n",
       "      <td>5.3</td>\n",
       "      <td>2019-02-08 10:37:00</td>\n",
       "      <td>2</td>\n",
       "    </tr>\n",
       "    <tr>\n",
       "      <th>...</th>\n",
       "      <td>...</td>\n",
       "      <td>...</td>\n",
       "      <td>...</td>\n",
       "      <td>...</td>\n",
       "      <td>...</td>\n",
       "      <td>...</td>\n",
       "      <td>...</td>\n",
       "      <td>...</td>\n",
       "      <td>...</td>\n",
       "      <td>...</td>\n",
       "      <td>...</td>\n",
       "      <td>...</td>\n",
       "      <td>...</td>\n",
       "      <td>...</td>\n",
       "      <td>...</td>\n",
       "      <td>...</td>\n",
       "      <td>...</td>\n",
       "      <td>...</td>\n",
       "      <td>...</td>\n",
       "    </tr>\n",
       "    <tr>\n",
       "      <th>995</th>\n",
       "      <td>233-67-5758</td>\n",
       "      <td>C</td>\n",
       "      <td>Naypyitaw</td>\n",
       "      <td>Normal</td>\n",
       "      <td>Male</td>\n",
       "      <td>Health and beauty</td>\n",
       "      <td>40.35</td>\n",
       "      <td>1</td>\n",
       "      <td>2.0175</td>\n",
       "      <td>42.3675</td>\n",
       "      <td>1/29/2019</td>\n",
       "      <td>13:46</td>\n",
       "      <td>Ewallet</td>\n",
       "      <td>40.35</td>\n",
       "      <td>4.761905</td>\n",
       "      <td>2.0175</td>\n",
       "      <td>6.2</td>\n",
       "      <td>2019-01-29 13:46:00</td>\n",
       "      <td>1</td>\n",
       "    </tr>\n",
       "    <tr>\n",
       "      <th>996</th>\n",
       "      <td>303-96-2227</td>\n",
       "      <td>B</td>\n",
       "      <td>Mandalay</td>\n",
       "      <td>Normal</td>\n",
       "      <td>Female</td>\n",
       "      <td>Home and lifestyle</td>\n",
       "      <td>97.38</td>\n",
       "      <td>10</td>\n",
       "      <td>48.6900</td>\n",
       "      <td>1022.4900</td>\n",
       "      <td>3/2/2019</td>\n",
       "      <td>17:16</td>\n",
       "      <td>Ewallet</td>\n",
       "      <td>973.80</td>\n",
       "      <td>4.761905</td>\n",
       "      <td>48.6900</td>\n",
       "      <td>4.4</td>\n",
       "      <td>2019-03-02 17:16:00</td>\n",
       "      <td>3</td>\n",
       "    </tr>\n",
       "    <tr>\n",
       "      <th>997</th>\n",
       "      <td>727-02-1313</td>\n",
       "      <td>A</td>\n",
       "      <td>Yangon</td>\n",
       "      <td>Member</td>\n",
       "      <td>Male</td>\n",
       "      <td>Food and beverages</td>\n",
       "      <td>31.84</td>\n",
       "      <td>1</td>\n",
       "      <td>1.5920</td>\n",
       "      <td>33.4320</td>\n",
       "      <td>2/9/2019</td>\n",
       "      <td>13:22</td>\n",
       "      <td>Cash</td>\n",
       "      <td>31.84</td>\n",
       "      <td>4.761905</td>\n",
       "      <td>1.5920</td>\n",
       "      <td>7.7</td>\n",
       "      <td>2019-02-09 13:22:00</td>\n",
       "      <td>2</td>\n",
       "    </tr>\n",
       "    <tr>\n",
       "      <th>998</th>\n",
       "      <td>347-56-2442</td>\n",
       "      <td>A</td>\n",
       "      <td>Yangon</td>\n",
       "      <td>Normal</td>\n",
       "      <td>Male</td>\n",
       "      <td>Home and lifestyle</td>\n",
       "      <td>65.82</td>\n",
       "      <td>1</td>\n",
       "      <td>3.2910</td>\n",
       "      <td>69.1110</td>\n",
       "      <td>2/22/2019</td>\n",
       "      <td>15:33</td>\n",
       "      <td>Cash</td>\n",
       "      <td>65.82</td>\n",
       "      <td>4.761905</td>\n",
       "      <td>3.2910</td>\n",
       "      <td>4.1</td>\n",
       "      <td>2019-02-22 15:33:00</td>\n",
       "      <td>2</td>\n",
       "    </tr>\n",
       "    <tr>\n",
       "      <th>999</th>\n",
       "      <td>849-09-3807</td>\n",
       "      <td>A</td>\n",
       "      <td>Yangon</td>\n",
       "      <td>Member</td>\n",
       "      <td>Female</td>\n",
       "      <td>Fashion accessories</td>\n",
       "      <td>88.34</td>\n",
       "      <td>7</td>\n",
       "      <td>30.9190</td>\n",
       "      <td>649.2990</td>\n",
       "      <td>2/18/2019</td>\n",
       "      <td>13:28</td>\n",
       "      <td>Cash</td>\n",
       "      <td>618.38</td>\n",
       "      <td>4.761905</td>\n",
       "      <td>30.9190</td>\n",
       "      <td>6.6</td>\n",
       "      <td>2019-02-18 13:28:00</td>\n",
       "      <td>2</td>\n",
       "    </tr>\n",
       "  </tbody>\n",
       "</table>\n",
       "<p>1000 rows × 19 columns</p>\n",
       "</div>"
      ],
      "text/plain": [
       "      Invoice ID Branch       City Customer type  Gender  \\\n",
       "0    750-67-8428      A     Yangon        Member  Female   \n",
       "1    226-31-3081      C  Naypyitaw        Normal  Female   \n",
       "2    631-41-3108      A     Yangon        Normal    Male   \n",
       "3    123-19-1176      A     Yangon        Member    Male   \n",
       "4    373-73-7910      A     Yangon        Normal    Male   \n",
       "..           ...    ...        ...           ...     ...   \n",
       "995  233-67-5758      C  Naypyitaw        Normal    Male   \n",
       "996  303-96-2227      B   Mandalay        Normal  Female   \n",
       "997  727-02-1313      A     Yangon        Member    Male   \n",
       "998  347-56-2442      A     Yangon        Normal    Male   \n",
       "999  849-09-3807      A     Yangon        Member  Female   \n",
       "\n",
       "               Product line  Unit price  Quantity   Tax 5%      Total  \\\n",
       "0         Health and beauty       74.69         7  26.1415   548.9715   \n",
       "1    Electronic accessories       15.28         5   3.8200    80.2200   \n",
       "2        Home and lifestyle       46.33         7  16.2155   340.5255   \n",
       "3         Health and beauty       58.22         8  23.2880   489.0480   \n",
       "4         Sports and travel       86.31         7  30.2085   634.3785   \n",
       "..                      ...         ...       ...      ...        ...   \n",
       "995       Health and beauty       40.35         1   2.0175    42.3675   \n",
       "996      Home and lifestyle       97.38        10  48.6900  1022.4900   \n",
       "997      Food and beverages       31.84         1   1.5920    33.4320   \n",
       "998      Home and lifestyle       65.82         1   3.2910    69.1110   \n",
       "999     Fashion accessories       88.34         7  30.9190   649.2990   \n",
       "\n",
       "          Date   Time      Payment    cogs  gross margin percentage  \\\n",
       "0     1/5/2019  13:08      Ewallet  522.83                 4.761905   \n",
       "1     3/8/2019  10:29         Cash   76.40                 4.761905   \n",
       "2     3/3/2019  13:23  Credit card  324.31                 4.761905   \n",
       "3    1/27/2019  20:33      Ewallet  465.76                 4.761905   \n",
       "4     2/8/2019  10:37      Ewallet  604.17                 4.761905   \n",
       "..         ...    ...          ...     ...                      ...   \n",
       "995  1/29/2019  13:46      Ewallet   40.35                 4.761905   \n",
       "996   3/2/2019  17:16      Ewallet  973.80                 4.761905   \n",
       "997   2/9/2019  13:22         Cash   31.84                 4.761905   \n",
       "998  2/22/2019  15:33         Cash   65.82                 4.761905   \n",
       "999  2/18/2019  13:28         Cash  618.38                 4.761905   \n",
       "\n",
       "     gross income  Rating            DateTime  Month  \n",
       "0         26.1415     9.1 2019-01-05 13:08:00      1  \n",
       "1          3.8200     9.6 2019-03-08 10:29:00      3  \n",
       "2         16.2155     7.4 2019-03-03 13:23:00      3  \n",
       "3         23.2880     8.4 2019-01-27 20:33:00      1  \n",
       "4         30.2085     5.3 2019-02-08 10:37:00      2  \n",
       "..            ...     ...                 ...    ...  \n",
       "995        2.0175     6.2 2019-01-29 13:46:00      1  \n",
       "996       48.6900     4.4 2019-03-02 17:16:00      3  \n",
       "997        1.5920     7.7 2019-02-09 13:22:00      2  \n",
       "998        3.2910     4.1 2019-02-22 15:33:00      2  \n",
       "999       30.9190     6.6 2019-02-18 13:28:00      2  \n",
       "\n",
       "[1000 rows x 19 columns]"
      ]
     },
     "execution_count": 76,
     "metadata": {},
     "output_type": "execute_result"
    }
   ],
   "source": [
    "df['Month'] = df['DateTime'].dt.month\n",
    "df"
   ]
  },
  {
   "cell_type": "code",
   "execution_count": 77,
   "id": "ba44d3dd",
   "metadata": {},
   "outputs": [
    {
     "data": {
      "text/html": [
       "<div>\n",
       "<style scoped>\n",
       "    .dataframe tbody tr th:only-of-type {\n",
       "        vertical-align: middle;\n",
       "    }\n",
       "\n",
       "    .dataframe tbody tr th {\n",
       "        vertical-align: top;\n",
       "    }\n",
       "\n",
       "    .dataframe thead th {\n",
       "        text-align: right;\n",
       "    }\n",
       "</style>\n",
       "<table border=\"1\" class=\"dataframe\">\n",
       "  <thead>\n",
       "    <tr style=\"text-align: right;\">\n",
       "      <th></th>\n",
       "      <th>Invoice ID</th>\n",
       "      <th>Branch</th>\n",
       "      <th>City</th>\n",
       "      <th>Customer type</th>\n",
       "      <th>Gender</th>\n",
       "      <th>Product line</th>\n",
       "      <th>Unit price</th>\n",
       "      <th>Quantity</th>\n",
       "      <th>Tax 5%</th>\n",
       "      <th>Total</th>\n",
       "      <th>Date</th>\n",
       "      <th>Time</th>\n",
       "      <th>Payment</th>\n",
       "      <th>cogs</th>\n",
       "      <th>gross margin percentage</th>\n",
       "      <th>gross income</th>\n",
       "      <th>Rating</th>\n",
       "      <th>DateTime</th>\n",
       "      <th>Month</th>\n",
       "      <th>Day</th>\n",
       "    </tr>\n",
       "  </thead>\n",
       "  <tbody>\n",
       "    <tr>\n",
       "      <th>0</th>\n",
       "      <td>750-67-8428</td>\n",
       "      <td>A</td>\n",
       "      <td>Yangon</td>\n",
       "      <td>Member</td>\n",
       "      <td>Female</td>\n",
       "      <td>Health and beauty</td>\n",
       "      <td>74.69</td>\n",
       "      <td>7</td>\n",
       "      <td>26.1415</td>\n",
       "      <td>548.9715</td>\n",
       "      <td>1/5/2019</td>\n",
       "      <td>13:08</td>\n",
       "      <td>Ewallet</td>\n",
       "      <td>522.83</td>\n",
       "      <td>4.761905</td>\n",
       "      <td>26.1415</td>\n",
       "      <td>9.1</td>\n",
       "      <td>2019-01-05 13:08:00</td>\n",
       "      <td>1</td>\n",
       "      <td>5</td>\n",
       "    </tr>\n",
       "    <tr>\n",
       "      <th>1</th>\n",
       "      <td>226-31-3081</td>\n",
       "      <td>C</td>\n",
       "      <td>Naypyitaw</td>\n",
       "      <td>Normal</td>\n",
       "      <td>Female</td>\n",
       "      <td>Electronic accessories</td>\n",
       "      <td>15.28</td>\n",
       "      <td>5</td>\n",
       "      <td>3.8200</td>\n",
       "      <td>80.2200</td>\n",
       "      <td>3/8/2019</td>\n",
       "      <td>10:29</td>\n",
       "      <td>Cash</td>\n",
       "      <td>76.40</td>\n",
       "      <td>4.761905</td>\n",
       "      <td>3.8200</td>\n",
       "      <td>9.6</td>\n",
       "      <td>2019-03-08 10:29:00</td>\n",
       "      <td>3</td>\n",
       "      <td>8</td>\n",
       "    </tr>\n",
       "    <tr>\n",
       "      <th>2</th>\n",
       "      <td>631-41-3108</td>\n",
       "      <td>A</td>\n",
       "      <td>Yangon</td>\n",
       "      <td>Normal</td>\n",
       "      <td>Male</td>\n",
       "      <td>Home and lifestyle</td>\n",
       "      <td>46.33</td>\n",
       "      <td>7</td>\n",
       "      <td>16.2155</td>\n",
       "      <td>340.5255</td>\n",
       "      <td>3/3/2019</td>\n",
       "      <td>13:23</td>\n",
       "      <td>Credit card</td>\n",
       "      <td>324.31</td>\n",
       "      <td>4.761905</td>\n",
       "      <td>16.2155</td>\n",
       "      <td>7.4</td>\n",
       "      <td>2019-03-03 13:23:00</td>\n",
       "      <td>3</td>\n",
       "      <td>3</td>\n",
       "    </tr>\n",
       "    <tr>\n",
       "      <th>3</th>\n",
       "      <td>123-19-1176</td>\n",
       "      <td>A</td>\n",
       "      <td>Yangon</td>\n",
       "      <td>Member</td>\n",
       "      <td>Male</td>\n",
       "      <td>Health and beauty</td>\n",
       "      <td>58.22</td>\n",
       "      <td>8</td>\n",
       "      <td>23.2880</td>\n",
       "      <td>489.0480</td>\n",
       "      <td>1/27/2019</td>\n",
       "      <td>20:33</td>\n",
       "      <td>Ewallet</td>\n",
       "      <td>465.76</td>\n",
       "      <td>4.761905</td>\n",
       "      <td>23.2880</td>\n",
       "      <td>8.4</td>\n",
       "      <td>2019-01-27 20:33:00</td>\n",
       "      <td>1</td>\n",
       "      <td>27</td>\n",
       "    </tr>\n",
       "    <tr>\n",
       "      <th>4</th>\n",
       "      <td>373-73-7910</td>\n",
       "      <td>A</td>\n",
       "      <td>Yangon</td>\n",
       "      <td>Normal</td>\n",
       "      <td>Male</td>\n",
       "      <td>Sports and travel</td>\n",
       "      <td>86.31</td>\n",
       "      <td>7</td>\n",
       "      <td>30.2085</td>\n",
       "      <td>634.3785</td>\n",
       "      <td>2/8/2019</td>\n",
       "      <td>10:37</td>\n",
       "      <td>Ewallet</td>\n",
       "      <td>604.17</td>\n",
       "      <td>4.761905</td>\n",
       "      <td>30.2085</td>\n",
       "      <td>5.3</td>\n",
       "      <td>2019-02-08 10:37:00</td>\n",
       "      <td>2</td>\n",
       "      <td>8</td>\n",
       "    </tr>\n",
       "    <tr>\n",
       "      <th>...</th>\n",
       "      <td>...</td>\n",
       "      <td>...</td>\n",
       "      <td>...</td>\n",
       "      <td>...</td>\n",
       "      <td>...</td>\n",
       "      <td>...</td>\n",
       "      <td>...</td>\n",
       "      <td>...</td>\n",
       "      <td>...</td>\n",
       "      <td>...</td>\n",
       "      <td>...</td>\n",
       "      <td>...</td>\n",
       "      <td>...</td>\n",
       "      <td>...</td>\n",
       "      <td>...</td>\n",
       "      <td>...</td>\n",
       "      <td>...</td>\n",
       "      <td>...</td>\n",
       "      <td>...</td>\n",
       "      <td>...</td>\n",
       "    </tr>\n",
       "    <tr>\n",
       "      <th>995</th>\n",
       "      <td>233-67-5758</td>\n",
       "      <td>C</td>\n",
       "      <td>Naypyitaw</td>\n",
       "      <td>Normal</td>\n",
       "      <td>Male</td>\n",
       "      <td>Health and beauty</td>\n",
       "      <td>40.35</td>\n",
       "      <td>1</td>\n",
       "      <td>2.0175</td>\n",
       "      <td>42.3675</td>\n",
       "      <td>1/29/2019</td>\n",
       "      <td>13:46</td>\n",
       "      <td>Ewallet</td>\n",
       "      <td>40.35</td>\n",
       "      <td>4.761905</td>\n",
       "      <td>2.0175</td>\n",
       "      <td>6.2</td>\n",
       "      <td>2019-01-29 13:46:00</td>\n",
       "      <td>1</td>\n",
       "      <td>29</td>\n",
       "    </tr>\n",
       "    <tr>\n",
       "      <th>996</th>\n",
       "      <td>303-96-2227</td>\n",
       "      <td>B</td>\n",
       "      <td>Mandalay</td>\n",
       "      <td>Normal</td>\n",
       "      <td>Female</td>\n",
       "      <td>Home and lifestyle</td>\n",
       "      <td>97.38</td>\n",
       "      <td>10</td>\n",
       "      <td>48.6900</td>\n",
       "      <td>1022.4900</td>\n",
       "      <td>3/2/2019</td>\n",
       "      <td>17:16</td>\n",
       "      <td>Ewallet</td>\n",
       "      <td>973.80</td>\n",
       "      <td>4.761905</td>\n",
       "      <td>48.6900</td>\n",
       "      <td>4.4</td>\n",
       "      <td>2019-03-02 17:16:00</td>\n",
       "      <td>3</td>\n",
       "      <td>2</td>\n",
       "    </tr>\n",
       "    <tr>\n",
       "      <th>997</th>\n",
       "      <td>727-02-1313</td>\n",
       "      <td>A</td>\n",
       "      <td>Yangon</td>\n",
       "      <td>Member</td>\n",
       "      <td>Male</td>\n",
       "      <td>Food and beverages</td>\n",
       "      <td>31.84</td>\n",
       "      <td>1</td>\n",
       "      <td>1.5920</td>\n",
       "      <td>33.4320</td>\n",
       "      <td>2/9/2019</td>\n",
       "      <td>13:22</td>\n",
       "      <td>Cash</td>\n",
       "      <td>31.84</td>\n",
       "      <td>4.761905</td>\n",
       "      <td>1.5920</td>\n",
       "      <td>7.7</td>\n",
       "      <td>2019-02-09 13:22:00</td>\n",
       "      <td>2</td>\n",
       "      <td>9</td>\n",
       "    </tr>\n",
       "    <tr>\n",
       "      <th>998</th>\n",
       "      <td>347-56-2442</td>\n",
       "      <td>A</td>\n",
       "      <td>Yangon</td>\n",
       "      <td>Normal</td>\n",
       "      <td>Male</td>\n",
       "      <td>Home and lifestyle</td>\n",
       "      <td>65.82</td>\n",
       "      <td>1</td>\n",
       "      <td>3.2910</td>\n",
       "      <td>69.1110</td>\n",
       "      <td>2/22/2019</td>\n",
       "      <td>15:33</td>\n",
       "      <td>Cash</td>\n",
       "      <td>65.82</td>\n",
       "      <td>4.761905</td>\n",
       "      <td>3.2910</td>\n",
       "      <td>4.1</td>\n",
       "      <td>2019-02-22 15:33:00</td>\n",
       "      <td>2</td>\n",
       "      <td>22</td>\n",
       "    </tr>\n",
       "    <tr>\n",
       "      <th>999</th>\n",
       "      <td>849-09-3807</td>\n",
       "      <td>A</td>\n",
       "      <td>Yangon</td>\n",
       "      <td>Member</td>\n",
       "      <td>Female</td>\n",
       "      <td>Fashion accessories</td>\n",
       "      <td>88.34</td>\n",
       "      <td>7</td>\n",
       "      <td>30.9190</td>\n",
       "      <td>649.2990</td>\n",
       "      <td>2/18/2019</td>\n",
       "      <td>13:28</td>\n",
       "      <td>Cash</td>\n",
       "      <td>618.38</td>\n",
       "      <td>4.761905</td>\n",
       "      <td>30.9190</td>\n",
       "      <td>6.6</td>\n",
       "      <td>2019-02-18 13:28:00</td>\n",
       "      <td>2</td>\n",
       "      <td>18</td>\n",
       "    </tr>\n",
       "  </tbody>\n",
       "</table>\n",
       "<p>1000 rows × 20 columns</p>\n",
       "</div>"
      ],
      "text/plain": [
       "      Invoice ID Branch       City Customer type  Gender  \\\n",
       "0    750-67-8428      A     Yangon        Member  Female   \n",
       "1    226-31-3081      C  Naypyitaw        Normal  Female   \n",
       "2    631-41-3108      A     Yangon        Normal    Male   \n",
       "3    123-19-1176      A     Yangon        Member    Male   \n",
       "4    373-73-7910      A     Yangon        Normal    Male   \n",
       "..           ...    ...        ...           ...     ...   \n",
       "995  233-67-5758      C  Naypyitaw        Normal    Male   \n",
       "996  303-96-2227      B   Mandalay        Normal  Female   \n",
       "997  727-02-1313      A     Yangon        Member    Male   \n",
       "998  347-56-2442      A     Yangon        Normal    Male   \n",
       "999  849-09-3807      A     Yangon        Member  Female   \n",
       "\n",
       "               Product line  Unit price  Quantity   Tax 5%      Total  \\\n",
       "0         Health and beauty       74.69         7  26.1415   548.9715   \n",
       "1    Electronic accessories       15.28         5   3.8200    80.2200   \n",
       "2        Home and lifestyle       46.33         7  16.2155   340.5255   \n",
       "3         Health and beauty       58.22         8  23.2880   489.0480   \n",
       "4         Sports and travel       86.31         7  30.2085   634.3785   \n",
       "..                      ...         ...       ...      ...        ...   \n",
       "995       Health and beauty       40.35         1   2.0175    42.3675   \n",
       "996      Home and lifestyle       97.38        10  48.6900  1022.4900   \n",
       "997      Food and beverages       31.84         1   1.5920    33.4320   \n",
       "998      Home and lifestyle       65.82         1   3.2910    69.1110   \n",
       "999     Fashion accessories       88.34         7  30.9190   649.2990   \n",
       "\n",
       "          Date   Time      Payment    cogs  gross margin percentage  \\\n",
       "0     1/5/2019  13:08      Ewallet  522.83                 4.761905   \n",
       "1     3/8/2019  10:29         Cash   76.40                 4.761905   \n",
       "2     3/3/2019  13:23  Credit card  324.31                 4.761905   \n",
       "3    1/27/2019  20:33      Ewallet  465.76                 4.761905   \n",
       "4     2/8/2019  10:37      Ewallet  604.17                 4.761905   \n",
       "..         ...    ...          ...     ...                      ...   \n",
       "995  1/29/2019  13:46      Ewallet   40.35                 4.761905   \n",
       "996   3/2/2019  17:16      Ewallet  973.80                 4.761905   \n",
       "997   2/9/2019  13:22         Cash   31.84                 4.761905   \n",
       "998  2/22/2019  15:33         Cash   65.82                 4.761905   \n",
       "999  2/18/2019  13:28         Cash  618.38                 4.761905   \n",
       "\n",
       "     gross income  Rating            DateTime  Month  Day  \n",
       "0         26.1415     9.1 2019-01-05 13:08:00      1    5  \n",
       "1          3.8200     9.6 2019-03-08 10:29:00      3    8  \n",
       "2         16.2155     7.4 2019-03-03 13:23:00      3    3  \n",
       "3         23.2880     8.4 2019-01-27 20:33:00      1   27  \n",
       "4         30.2085     5.3 2019-02-08 10:37:00      2    8  \n",
       "..            ...     ...                 ...    ...  ...  \n",
       "995        2.0175     6.2 2019-01-29 13:46:00      1   29  \n",
       "996       48.6900     4.4 2019-03-02 17:16:00      3    2  \n",
       "997        1.5920     7.7 2019-02-09 13:22:00      2    9  \n",
       "998        3.2910     4.1 2019-02-22 15:33:00      2   22  \n",
       "999       30.9190     6.6 2019-02-18 13:28:00      2   18  \n",
       "\n",
       "[1000 rows x 20 columns]"
      ]
     },
     "execution_count": 77,
     "metadata": {},
     "output_type": "execute_result"
    }
   ],
   "source": [
    "df['Day'] = df['DateTime'].dt.day\n",
    "df\n"
   ]
  },
  {
   "cell_type": "code",
   "execution_count": 78,
   "id": "7491942b",
   "metadata": {},
   "outputs": [
    {
     "data": {
      "text/html": [
       "<div>\n",
       "<style scoped>\n",
       "    .dataframe tbody tr th:only-of-type {\n",
       "        vertical-align: middle;\n",
       "    }\n",
       "\n",
       "    .dataframe tbody tr th {\n",
       "        vertical-align: top;\n",
       "    }\n",
       "\n",
       "    .dataframe thead th {\n",
       "        text-align: right;\n",
       "    }\n",
       "</style>\n",
       "<table border=\"1\" class=\"dataframe\">\n",
       "  <thead>\n",
       "    <tr style=\"text-align: right;\">\n",
       "      <th></th>\n",
       "      <th>Invoice ID</th>\n",
       "      <th>Branch</th>\n",
       "      <th>City</th>\n",
       "      <th>Customer type</th>\n",
       "      <th>Gender</th>\n",
       "      <th>Product line</th>\n",
       "      <th>Unit price</th>\n",
       "      <th>Quantity</th>\n",
       "      <th>Tax 5%</th>\n",
       "      <th>Total</th>\n",
       "      <th>...</th>\n",
       "      <th>Time</th>\n",
       "      <th>Payment</th>\n",
       "      <th>cogs</th>\n",
       "      <th>gross margin percentage</th>\n",
       "      <th>gross income</th>\n",
       "      <th>Rating</th>\n",
       "      <th>DateTime</th>\n",
       "      <th>Month</th>\n",
       "      <th>Day</th>\n",
       "      <th>Year</th>\n",
       "    </tr>\n",
       "  </thead>\n",
       "  <tbody>\n",
       "    <tr>\n",
       "      <th>0</th>\n",
       "      <td>750-67-8428</td>\n",
       "      <td>A</td>\n",
       "      <td>Yangon</td>\n",
       "      <td>Member</td>\n",
       "      <td>Female</td>\n",
       "      <td>Health and beauty</td>\n",
       "      <td>74.69</td>\n",
       "      <td>7</td>\n",
       "      <td>26.1415</td>\n",
       "      <td>548.9715</td>\n",
       "      <td>...</td>\n",
       "      <td>13:08</td>\n",
       "      <td>Ewallet</td>\n",
       "      <td>522.83</td>\n",
       "      <td>4.761905</td>\n",
       "      <td>26.1415</td>\n",
       "      <td>9.1</td>\n",
       "      <td>2019-01-05 13:08:00</td>\n",
       "      <td>1</td>\n",
       "      <td>5</td>\n",
       "      <td>2019</td>\n",
       "    </tr>\n",
       "    <tr>\n",
       "      <th>1</th>\n",
       "      <td>226-31-3081</td>\n",
       "      <td>C</td>\n",
       "      <td>Naypyitaw</td>\n",
       "      <td>Normal</td>\n",
       "      <td>Female</td>\n",
       "      <td>Electronic accessories</td>\n",
       "      <td>15.28</td>\n",
       "      <td>5</td>\n",
       "      <td>3.8200</td>\n",
       "      <td>80.2200</td>\n",
       "      <td>...</td>\n",
       "      <td>10:29</td>\n",
       "      <td>Cash</td>\n",
       "      <td>76.40</td>\n",
       "      <td>4.761905</td>\n",
       "      <td>3.8200</td>\n",
       "      <td>9.6</td>\n",
       "      <td>2019-03-08 10:29:00</td>\n",
       "      <td>3</td>\n",
       "      <td>8</td>\n",
       "      <td>2019</td>\n",
       "    </tr>\n",
       "    <tr>\n",
       "      <th>2</th>\n",
       "      <td>631-41-3108</td>\n",
       "      <td>A</td>\n",
       "      <td>Yangon</td>\n",
       "      <td>Normal</td>\n",
       "      <td>Male</td>\n",
       "      <td>Home and lifestyle</td>\n",
       "      <td>46.33</td>\n",
       "      <td>7</td>\n",
       "      <td>16.2155</td>\n",
       "      <td>340.5255</td>\n",
       "      <td>...</td>\n",
       "      <td>13:23</td>\n",
       "      <td>Credit card</td>\n",
       "      <td>324.31</td>\n",
       "      <td>4.761905</td>\n",
       "      <td>16.2155</td>\n",
       "      <td>7.4</td>\n",
       "      <td>2019-03-03 13:23:00</td>\n",
       "      <td>3</td>\n",
       "      <td>3</td>\n",
       "      <td>2019</td>\n",
       "    </tr>\n",
       "    <tr>\n",
       "      <th>3</th>\n",
       "      <td>123-19-1176</td>\n",
       "      <td>A</td>\n",
       "      <td>Yangon</td>\n",
       "      <td>Member</td>\n",
       "      <td>Male</td>\n",
       "      <td>Health and beauty</td>\n",
       "      <td>58.22</td>\n",
       "      <td>8</td>\n",
       "      <td>23.2880</td>\n",
       "      <td>489.0480</td>\n",
       "      <td>...</td>\n",
       "      <td>20:33</td>\n",
       "      <td>Ewallet</td>\n",
       "      <td>465.76</td>\n",
       "      <td>4.761905</td>\n",
       "      <td>23.2880</td>\n",
       "      <td>8.4</td>\n",
       "      <td>2019-01-27 20:33:00</td>\n",
       "      <td>1</td>\n",
       "      <td>27</td>\n",
       "      <td>2019</td>\n",
       "    </tr>\n",
       "    <tr>\n",
       "      <th>4</th>\n",
       "      <td>373-73-7910</td>\n",
       "      <td>A</td>\n",
       "      <td>Yangon</td>\n",
       "      <td>Normal</td>\n",
       "      <td>Male</td>\n",
       "      <td>Sports and travel</td>\n",
       "      <td>86.31</td>\n",
       "      <td>7</td>\n",
       "      <td>30.2085</td>\n",
       "      <td>634.3785</td>\n",
       "      <td>...</td>\n",
       "      <td>10:37</td>\n",
       "      <td>Ewallet</td>\n",
       "      <td>604.17</td>\n",
       "      <td>4.761905</td>\n",
       "      <td>30.2085</td>\n",
       "      <td>5.3</td>\n",
       "      <td>2019-02-08 10:37:00</td>\n",
       "      <td>2</td>\n",
       "      <td>8</td>\n",
       "      <td>2019</td>\n",
       "    </tr>\n",
       "    <tr>\n",
       "      <th>...</th>\n",
       "      <td>...</td>\n",
       "      <td>...</td>\n",
       "      <td>...</td>\n",
       "      <td>...</td>\n",
       "      <td>...</td>\n",
       "      <td>...</td>\n",
       "      <td>...</td>\n",
       "      <td>...</td>\n",
       "      <td>...</td>\n",
       "      <td>...</td>\n",
       "      <td>...</td>\n",
       "      <td>...</td>\n",
       "      <td>...</td>\n",
       "      <td>...</td>\n",
       "      <td>...</td>\n",
       "      <td>...</td>\n",
       "      <td>...</td>\n",
       "      <td>...</td>\n",
       "      <td>...</td>\n",
       "      <td>...</td>\n",
       "      <td>...</td>\n",
       "    </tr>\n",
       "    <tr>\n",
       "      <th>995</th>\n",
       "      <td>233-67-5758</td>\n",
       "      <td>C</td>\n",
       "      <td>Naypyitaw</td>\n",
       "      <td>Normal</td>\n",
       "      <td>Male</td>\n",
       "      <td>Health and beauty</td>\n",
       "      <td>40.35</td>\n",
       "      <td>1</td>\n",
       "      <td>2.0175</td>\n",
       "      <td>42.3675</td>\n",
       "      <td>...</td>\n",
       "      <td>13:46</td>\n",
       "      <td>Ewallet</td>\n",
       "      <td>40.35</td>\n",
       "      <td>4.761905</td>\n",
       "      <td>2.0175</td>\n",
       "      <td>6.2</td>\n",
       "      <td>2019-01-29 13:46:00</td>\n",
       "      <td>1</td>\n",
       "      <td>29</td>\n",
       "      <td>2019</td>\n",
       "    </tr>\n",
       "    <tr>\n",
       "      <th>996</th>\n",
       "      <td>303-96-2227</td>\n",
       "      <td>B</td>\n",
       "      <td>Mandalay</td>\n",
       "      <td>Normal</td>\n",
       "      <td>Female</td>\n",
       "      <td>Home and lifestyle</td>\n",
       "      <td>97.38</td>\n",
       "      <td>10</td>\n",
       "      <td>48.6900</td>\n",
       "      <td>1022.4900</td>\n",
       "      <td>...</td>\n",
       "      <td>17:16</td>\n",
       "      <td>Ewallet</td>\n",
       "      <td>973.80</td>\n",
       "      <td>4.761905</td>\n",
       "      <td>48.6900</td>\n",
       "      <td>4.4</td>\n",
       "      <td>2019-03-02 17:16:00</td>\n",
       "      <td>3</td>\n",
       "      <td>2</td>\n",
       "      <td>2019</td>\n",
       "    </tr>\n",
       "    <tr>\n",
       "      <th>997</th>\n",
       "      <td>727-02-1313</td>\n",
       "      <td>A</td>\n",
       "      <td>Yangon</td>\n",
       "      <td>Member</td>\n",
       "      <td>Male</td>\n",
       "      <td>Food and beverages</td>\n",
       "      <td>31.84</td>\n",
       "      <td>1</td>\n",
       "      <td>1.5920</td>\n",
       "      <td>33.4320</td>\n",
       "      <td>...</td>\n",
       "      <td>13:22</td>\n",
       "      <td>Cash</td>\n",
       "      <td>31.84</td>\n",
       "      <td>4.761905</td>\n",
       "      <td>1.5920</td>\n",
       "      <td>7.7</td>\n",
       "      <td>2019-02-09 13:22:00</td>\n",
       "      <td>2</td>\n",
       "      <td>9</td>\n",
       "      <td>2019</td>\n",
       "    </tr>\n",
       "    <tr>\n",
       "      <th>998</th>\n",
       "      <td>347-56-2442</td>\n",
       "      <td>A</td>\n",
       "      <td>Yangon</td>\n",
       "      <td>Normal</td>\n",
       "      <td>Male</td>\n",
       "      <td>Home and lifestyle</td>\n",
       "      <td>65.82</td>\n",
       "      <td>1</td>\n",
       "      <td>3.2910</td>\n",
       "      <td>69.1110</td>\n",
       "      <td>...</td>\n",
       "      <td>15:33</td>\n",
       "      <td>Cash</td>\n",
       "      <td>65.82</td>\n",
       "      <td>4.761905</td>\n",
       "      <td>3.2910</td>\n",
       "      <td>4.1</td>\n",
       "      <td>2019-02-22 15:33:00</td>\n",
       "      <td>2</td>\n",
       "      <td>22</td>\n",
       "      <td>2019</td>\n",
       "    </tr>\n",
       "    <tr>\n",
       "      <th>999</th>\n",
       "      <td>849-09-3807</td>\n",
       "      <td>A</td>\n",
       "      <td>Yangon</td>\n",
       "      <td>Member</td>\n",
       "      <td>Female</td>\n",
       "      <td>Fashion accessories</td>\n",
       "      <td>88.34</td>\n",
       "      <td>7</td>\n",
       "      <td>30.9190</td>\n",
       "      <td>649.2990</td>\n",
       "      <td>...</td>\n",
       "      <td>13:28</td>\n",
       "      <td>Cash</td>\n",
       "      <td>618.38</td>\n",
       "      <td>4.761905</td>\n",
       "      <td>30.9190</td>\n",
       "      <td>6.6</td>\n",
       "      <td>2019-02-18 13:28:00</td>\n",
       "      <td>2</td>\n",
       "      <td>18</td>\n",
       "      <td>2019</td>\n",
       "    </tr>\n",
       "  </tbody>\n",
       "</table>\n",
       "<p>1000 rows × 21 columns</p>\n",
       "</div>"
      ],
      "text/plain": [
       "      Invoice ID Branch       City Customer type  Gender  \\\n",
       "0    750-67-8428      A     Yangon        Member  Female   \n",
       "1    226-31-3081      C  Naypyitaw        Normal  Female   \n",
       "2    631-41-3108      A     Yangon        Normal    Male   \n",
       "3    123-19-1176      A     Yangon        Member    Male   \n",
       "4    373-73-7910      A     Yangon        Normal    Male   \n",
       "..           ...    ...        ...           ...     ...   \n",
       "995  233-67-5758      C  Naypyitaw        Normal    Male   \n",
       "996  303-96-2227      B   Mandalay        Normal  Female   \n",
       "997  727-02-1313      A     Yangon        Member    Male   \n",
       "998  347-56-2442      A     Yangon        Normal    Male   \n",
       "999  849-09-3807      A     Yangon        Member  Female   \n",
       "\n",
       "               Product line  Unit price  Quantity   Tax 5%      Total  ...  \\\n",
       "0         Health and beauty       74.69         7  26.1415   548.9715  ...   \n",
       "1    Electronic accessories       15.28         5   3.8200    80.2200  ...   \n",
       "2        Home and lifestyle       46.33         7  16.2155   340.5255  ...   \n",
       "3         Health and beauty       58.22         8  23.2880   489.0480  ...   \n",
       "4         Sports and travel       86.31         7  30.2085   634.3785  ...   \n",
       "..                      ...         ...       ...      ...        ...  ...   \n",
       "995       Health and beauty       40.35         1   2.0175    42.3675  ...   \n",
       "996      Home and lifestyle       97.38        10  48.6900  1022.4900  ...   \n",
       "997      Food and beverages       31.84         1   1.5920    33.4320  ...   \n",
       "998      Home and lifestyle       65.82         1   3.2910    69.1110  ...   \n",
       "999     Fashion accessories       88.34         7  30.9190   649.2990  ...   \n",
       "\n",
       "      Time      Payment    cogs  gross margin percentage  gross income  \\\n",
       "0    13:08      Ewallet  522.83                 4.761905       26.1415   \n",
       "1    10:29         Cash   76.40                 4.761905        3.8200   \n",
       "2    13:23  Credit card  324.31                 4.761905       16.2155   \n",
       "3    20:33      Ewallet  465.76                 4.761905       23.2880   \n",
       "4    10:37      Ewallet  604.17                 4.761905       30.2085   \n",
       "..     ...          ...     ...                      ...           ...   \n",
       "995  13:46      Ewallet   40.35                 4.761905        2.0175   \n",
       "996  17:16      Ewallet  973.80                 4.761905       48.6900   \n",
       "997  13:22         Cash   31.84                 4.761905        1.5920   \n",
       "998  15:33         Cash   65.82                 4.761905        3.2910   \n",
       "999  13:28         Cash  618.38                 4.761905       30.9190   \n",
       "\n",
       "     Rating            DateTime Month  Day  Year  \n",
       "0       9.1 2019-01-05 13:08:00     1    5  2019  \n",
       "1       9.6 2019-03-08 10:29:00     3    8  2019  \n",
       "2       7.4 2019-03-03 13:23:00     3    3  2019  \n",
       "3       8.4 2019-01-27 20:33:00     1   27  2019  \n",
       "4       5.3 2019-02-08 10:37:00     2    8  2019  \n",
       "..      ...                 ...   ...  ...   ...  \n",
       "995     6.2 2019-01-29 13:46:00     1   29  2019  \n",
       "996     4.4 2019-03-02 17:16:00     3    2  2019  \n",
       "997     7.7 2019-02-09 13:22:00     2    9  2019  \n",
       "998     4.1 2019-02-22 15:33:00     2   22  2019  \n",
       "999     6.6 2019-02-18 13:28:00     2   18  2019  \n",
       "\n",
       "[1000 rows x 21 columns]"
      ]
     },
     "execution_count": 78,
     "metadata": {},
     "output_type": "execute_result"
    }
   ],
   "source": [
    "df['Year'] = df['DateTime'].dt.year\n",
    "df"
   ]
  },
  {
   "cell_type": "markdown",
   "id": "c68be4ee",
   "metadata": {},
   "source": [
    "Total de ventas por mes"
   ]
  },
  {
   "cell_type": "code",
   "execution_count": 79,
   "id": "093aeef7",
   "metadata": {},
   "outputs": [
    {
     "data": {
      "text/html": [
       "<div>\n",
       "<style scoped>\n",
       "    .dataframe tbody tr th:only-of-type {\n",
       "        vertical-align: middle;\n",
       "    }\n",
       "\n",
       "    .dataframe tbody tr th {\n",
       "        vertical-align: top;\n",
       "    }\n",
       "\n",
       "    .dataframe thead th {\n",
       "        text-align: right;\n",
       "    }\n",
       "</style>\n",
       "<table border=\"1\" class=\"dataframe\">\n",
       "  <thead>\n",
       "    <tr style=\"text-align: right;\">\n",
       "      <th></th>\n",
       "      <th>Month</th>\n",
       "      <th>total_ventas</th>\n",
       "    </tr>\n",
       "  </thead>\n",
       "  <tbody>\n",
       "    <tr>\n",
       "      <th>0</th>\n",
       "      <td>1</td>\n",
       "      <td>116291.868</td>\n",
       "    </tr>\n",
       "    <tr>\n",
       "      <th>1</th>\n",
       "      <td>2</td>\n",
       "      <td>97219.374</td>\n",
       "    </tr>\n",
       "    <tr>\n",
       "      <th>2</th>\n",
       "      <td>3</td>\n",
       "      <td>109455.507</td>\n",
       "    </tr>\n",
       "  </tbody>\n",
       "</table>\n",
       "</div>"
      ],
      "text/plain": [
       "   Month  total_ventas\n",
       "0      1    116291.868\n",
       "1      2     97219.374\n",
       "2      3    109455.507"
      ]
     },
     "execution_count": 79,
     "metadata": {},
     "output_type": "execute_result"
    }
   ],
   "source": [
    "df.groupby('Month',as_index=False).agg(total_ventas = ('Total','sum'))"
   ]
  },
  {
   "cell_type": "code",
   "execution_count": null,
   "id": "38295dbb",
   "metadata": {},
   "outputs": [
    {
     "data": {
      "text/plain": [
       "Month\n",
       "1    352\n",
       "3    345\n",
       "2    303\n",
       "Name: count, dtype: int64"
      ]
     },
     "execution_count": 81,
     "metadata": {},
     "output_type": "execute_result"
    }
   ],
   "source": [
    "df['Month'].value_counts() # Efectivamente hay tres meses"
   ]
  },
  {
   "cell_type": "markdown",
   "id": "62c075a0",
   "metadata": {},
   "source": [
    "### Ordenación de datos"
   ]
  },
  {
   "cell_type": "markdown",
   "id": "a6ee775e",
   "metadata": {},
   "source": [
    "Ordenar las ventas de mayor a menor:"
   ]
  },
  {
   "cell_type": "code",
   "execution_count": 82,
   "id": "a29365f1",
   "metadata": {},
   "outputs": [
    {
     "data": {
      "text/html": [
       "<div>\n",
       "<style scoped>\n",
       "    .dataframe tbody tr th:only-of-type {\n",
       "        vertical-align: middle;\n",
       "    }\n",
       "\n",
       "    .dataframe tbody tr th {\n",
       "        vertical-align: top;\n",
       "    }\n",
       "\n",
       "    .dataframe thead th {\n",
       "        text-align: right;\n",
       "    }\n",
       "</style>\n",
       "<table border=\"1\" class=\"dataframe\">\n",
       "  <thead>\n",
       "    <tr style=\"text-align: right;\">\n",
       "      <th></th>\n",
       "      <th>Invoice ID</th>\n",
       "      <th>Branch</th>\n",
       "      <th>City</th>\n",
       "      <th>Customer type</th>\n",
       "      <th>Gender</th>\n",
       "      <th>Product line</th>\n",
       "      <th>Unit price</th>\n",
       "      <th>Quantity</th>\n",
       "      <th>Tax 5%</th>\n",
       "      <th>Total</th>\n",
       "      <th>...</th>\n",
       "      <th>Time</th>\n",
       "      <th>Payment</th>\n",
       "      <th>cogs</th>\n",
       "      <th>gross margin percentage</th>\n",
       "      <th>gross income</th>\n",
       "      <th>Rating</th>\n",
       "      <th>DateTime</th>\n",
       "      <th>Month</th>\n",
       "      <th>Day</th>\n",
       "      <th>Year</th>\n",
       "    </tr>\n",
       "  </thead>\n",
       "  <tbody>\n",
       "    <tr>\n",
       "      <th>350</th>\n",
       "      <td>860-79-0874</td>\n",
       "      <td>C</td>\n",
       "      <td>Naypyitaw</td>\n",
       "      <td>Member</td>\n",
       "      <td>Female</td>\n",
       "      <td>Fashion accessories</td>\n",
       "      <td>99.30</td>\n",
       "      <td>10</td>\n",
       "      <td>49.6500</td>\n",
       "      <td>1042.6500</td>\n",
       "      <td>...</td>\n",
       "      <td>14:53</td>\n",
       "      <td>Credit card</td>\n",
       "      <td>993.00</td>\n",
       "      <td>4.761905</td>\n",
       "      <td>49.6500</td>\n",
       "      <td>6.6</td>\n",
       "      <td>2019-02-15 14:53:00</td>\n",
       "      <td>2</td>\n",
       "      <td>15</td>\n",
       "      <td>2019</td>\n",
       "    </tr>\n",
       "    <tr>\n",
       "      <th>167</th>\n",
       "      <td>687-47-8271</td>\n",
       "      <td>A</td>\n",
       "      <td>Yangon</td>\n",
       "      <td>Normal</td>\n",
       "      <td>Male</td>\n",
       "      <td>Fashion accessories</td>\n",
       "      <td>98.98</td>\n",
       "      <td>10</td>\n",
       "      <td>49.4900</td>\n",
       "      <td>1039.2900</td>\n",
       "      <td>...</td>\n",
       "      <td>16:20</td>\n",
       "      <td>Credit card</td>\n",
       "      <td>989.80</td>\n",
       "      <td>4.761905</td>\n",
       "      <td>49.4900</td>\n",
       "      <td>8.7</td>\n",
       "      <td>2019-02-08 16:20:00</td>\n",
       "      <td>2</td>\n",
       "      <td>8</td>\n",
       "      <td>2019</td>\n",
       "    </tr>\n",
       "    <tr>\n",
       "      <th>557</th>\n",
       "      <td>283-26-5248</td>\n",
       "      <td>C</td>\n",
       "      <td>Naypyitaw</td>\n",
       "      <td>Member</td>\n",
       "      <td>Female</td>\n",
       "      <td>Food and beverages</td>\n",
       "      <td>98.52</td>\n",
       "      <td>10</td>\n",
       "      <td>49.2600</td>\n",
       "      <td>1034.4600</td>\n",
       "      <td>...</td>\n",
       "      <td>20:23</td>\n",
       "      <td>Ewallet</td>\n",
       "      <td>985.20</td>\n",
       "      <td>4.761905</td>\n",
       "      <td>49.2600</td>\n",
       "      <td>4.5</td>\n",
       "      <td>2019-01-30 20:23:00</td>\n",
       "      <td>1</td>\n",
       "      <td>30</td>\n",
       "      <td>2019</td>\n",
       "    </tr>\n",
       "    <tr>\n",
       "      <th>699</th>\n",
       "      <td>751-41-9720</td>\n",
       "      <td>C</td>\n",
       "      <td>Naypyitaw</td>\n",
       "      <td>Normal</td>\n",
       "      <td>Male</td>\n",
       "      <td>Home and lifestyle</td>\n",
       "      <td>97.50</td>\n",
       "      <td>10</td>\n",
       "      <td>48.7500</td>\n",
       "      <td>1023.7500</td>\n",
       "      <td>...</td>\n",
       "      <td>16:18</td>\n",
       "      <td>Ewallet</td>\n",
       "      <td>975.00</td>\n",
       "      <td>4.761905</td>\n",
       "      <td>48.7500</td>\n",
       "      <td>8.0</td>\n",
       "      <td>2019-01-12 16:18:00</td>\n",
       "      <td>1</td>\n",
       "      <td>12</td>\n",
       "      <td>2019</td>\n",
       "    </tr>\n",
       "    <tr>\n",
       "      <th>996</th>\n",
       "      <td>303-96-2227</td>\n",
       "      <td>B</td>\n",
       "      <td>Mandalay</td>\n",
       "      <td>Normal</td>\n",
       "      <td>Female</td>\n",
       "      <td>Home and lifestyle</td>\n",
       "      <td>97.38</td>\n",
       "      <td>10</td>\n",
       "      <td>48.6900</td>\n",
       "      <td>1022.4900</td>\n",
       "      <td>...</td>\n",
       "      <td>17:16</td>\n",
       "      <td>Ewallet</td>\n",
       "      <td>973.80</td>\n",
       "      <td>4.761905</td>\n",
       "      <td>48.6900</td>\n",
       "      <td>4.4</td>\n",
       "      <td>2019-03-02 17:16:00</td>\n",
       "      <td>3</td>\n",
       "      <td>2</td>\n",
       "      <td>2019</td>\n",
       "    </tr>\n",
       "    <tr>\n",
       "      <th>...</th>\n",
       "      <td>...</td>\n",
       "      <td>...</td>\n",
       "      <td>...</td>\n",
       "      <td>...</td>\n",
       "      <td>...</td>\n",
       "      <td>...</td>\n",
       "      <td>...</td>\n",
       "      <td>...</td>\n",
       "      <td>...</td>\n",
       "      <td>...</td>\n",
       "      <td>...</td>\n",
       "      <td>...</td>\n",
       "      <td>...</td>\n",
       "      <td>...</td>\n",
       "      <td>...</td>\n",
       "      <td>...</td>\n",
       "      <td>...</td>\n",
       "      <td>...</td>\n",
       "      <td>...</td>\n",
       "      <td>...</td>\n",
       "      <td>...</td>\n",
       "    </tr>\n",
       "    <tr>\n",
       "      <th>402</th>\n",
       "      <td>236-86-3015</td>\n",
       "      <td>C</td>\n",
       "      <td>Naypyitaw</td>\n",
       "      <td>Member</td>\n",
       "      <td>Male</td>\n",
       "      <td>Home and lifestyle</td>\n",
       "      <td>13.98</td>\n",
       "      <td>1</td>\n",
       "      <td>0.6990</td>\n",
       "      <td>14.6790</td>\n",
       "      <td>...</td>\n",
       "      <td>13:38</td>\n",
       "      <td>Ewallet</td>\n",
       "      <td>13.98</td>\n",
       "      <td>4.761905</td>\n",
       "      <td>0.6990</td>\n",
       "      <td>9.8</td>\n",
       "      <td>2019-02-04 13:38:00</td>\n",
       "      <td>2</td>\n",
       "      <td>4</td>\n",
       "      <td>2019</td>\n",
       "    </tr>\n",
       "    <tr>\n",
       "      <th>443</th>\n",
       "      <td>192-98-7397</td>\n",
       "      <td>C</td>\n",
       "      <td>Naypyitaw</td>\n",
       "      <td>Normal</td>\n",
       "      <td>Male</td>\n",
       "      <td>Fashion accessories</td>\n",
       "      <td>12.78</td>\n",
       "      <td>1</td>\n",
       "      <td>0.6390</td>\n",
       "      <td>13.4190</td>\n",
       "      <td>...</td>\n",
       "      <td>14:11</td>\n",
       "      <td>Ewallet</td>\n",
       "      <td>12.78</td>\n",
       "      <td>4.761905</td>\n",
       "      <td>0.6390</td>\n",
       "      <td>9.5</td>\n",
       "      <td>2019-01-08 14:11:00</td>\n",
       "      <td>1</td>\n",
       "      <td>8</td>\n",
       "      <td>2019</td>\n",
       "    </tr>\n",
       "    <tr>\n",
       "      <th>223</th>\n",
       "      <td>279-62-1445</td>\n",
       "      <td>C</td>\n",
       "      <td>Naypyitaw</td>\n",
       "      <td>Member</td>\n",
       "      <td>Female</td>\n",
       "      <td>Fashion accessories</td>\n",
       "      <td>12.54</td>\n",
       "      <td>1</td>\n",
       "      <td>0.6270</td>\n",
       "      <td>13.1670</td>\n",
       "      <td>...</td>\n",
       "      <td>12:38</td>\n",
       "      <td>Cash</td>\n",
       "      <td>12.54</td>\n",
       "      <td>4.761905</td>\n",
       "      <td>0.6270</td>\n",
       "      <td>8.2</td>\n",
       "      <td>2019-02-21 12:38:00</td>\n",
       "      <td>2</td>\n",
       "      <td>21</td>\n",
       "      <td>2019</td>\n",
       "    </tr>\n",
       "    <tr>\n",
       "      <th>629</th>\n",
       "      <td>308-39-1707</td>\n",
       "      <td>A</td>\n",
       "      <td>Yangon</td>\n",
       "      <td>Normal</td>\n",
       "      <td>Female</td>\n",
       "      <td>Fashion accessories</td>\n",
       "      <td>12.09</td>\n",
       "      <td>1</td>\n",
       "      <td>0.6045</td>\n",
       "      <td>12.6945</td>\n",
       "      <td>...</td>\n",
       "      <td>18:19</td>\n",
       "      <td>Credit card</td>\n",
       "      <td>12.09</td>\n",
       "      <td>4.761905</td>\n",
       "      <td>0.6045</td>\n",
       "      <td>8.2</td>\n",
       "      <td>2019-01-26 18:19:00</td>\n",
       "      <td>1</td>\n",
       "      <td>26</td>\n",
       "      <td>2019</td>\n",
       "    </tr>\n",
       "    <tr>\n",
       "      <th>822</th>\n",
       "      <td>784-21-9238</td>\n",
       "      <td>C</td>\n",
       "      <td>Naypyitaw</td>\n",
       "      <td>Member</td>\n",
       "      <td>Male</td>\n",
       "      <td>Sports and travel</td>\n",
       "      <td>10.17</td>\n",
       "      <td>1</td>\n",
       "      <td>0.5085</td>\n",
       "      <td>10.6785</td>\n",
       "      <td>...</td>\n",
       "      <td>14:15</td>\n",
       "      <td>Cash</td>\n",
       "      <td>10.17</td>\n",
       "      <td>4.761905</td>\n",
       "      <td>0.5085</td>\n",
       "      <td>5.9</td>\n",
       "      <td>2019-02-07 14:15:00</td>\n",
       "      <td>2</td>\n",
       "      <td>7</td>\n",
       "      <td>2019</td>\n",
       "    </tr>\n",
       "  </tbody>\n",
       "</table>\n",
       "<p>1000 rows × 21 columns</p>\n",
       "</div>"
      ],
      "text/plain": [
       "      Invoice ID Branch       City Customer type  Gender         Product line  \\\n",
       "350  860-79-0874      C  Naypyitaw        Member  Female  Fashion accessories   \n",
       "167  687-47-8271      A     Yangon        Normal    Male  Fashion accessories   \n",
       "557  283-26-5248      C  Naypyitaw        Member  Female   Food and beverages   \n",
       "699  751-41-9720      C  Naypyitaw        Normal    Male   Home and lifestyle   \n",
       "996  303-96-2227      B   Mandalay        Normal  Female   Home and lifestyle   \n",
       "..           ...    ...        ...           ...     ...                  ...   \n",
       "402  236-86-3015      C  Naypyitaw        Member    Male   Home and lifestyle   \n",
       "443  192-98-7397      C  Naypyitaw        Normal    Male  Fashion accessories   \n",
       "223  279-62-1445      C  Naypyitaw        Member  Female  Fashion accessories   \n",
       "629  308-39-1707      A     Yangon        Normal  Female  Fashion accessories   \n",
       "822  784-21-9238      C  Naypyitaw        Member    Male    Sports and travel   \n",
       "\n",
       "     Unit price  Quantity   Tax 5%      Total  ...   Time      Payment  \\\n",
       "350       99.30        10  49.6500  1042.6500  ...  14:53  Credit card   \n",
       "167       98.98        10  49.4900  1039.2900  ...  16:20  Credit card   \n",
       "557       98.52        10  49.2600  1034.4600  ...  20:23      Ewallet   \n",
       "699       97.50        10  48.7500  1023.7500  ...  16:18      Ewallet   \n",
       "996       97.38        10  48.6900  1022.4900  ...  17:16      Ewallet   \n",
       "..          ...       ...      ...        ...  ...    ...          ...   \n",
       "402       13.98         1   0.6990    14.6790  ...  13:38      Ewallet   \n",
       "443       12.78         1   0.6390    13.4190  ...  14:11      Ewallet   \n",
       "223       12.54         1   0.6270    13.1670  ...  12:38         Cash   \n",
       "629       12.09         1   0.6045    12.6945  ...  18:19  Credit card   \n",
       "822       10.17         1   0.5085    10.6785  ...  14:15         Cash   \n",
       "\n",
       "       cogs  gross margin percentage  gross income  Rating  \\\n",
       "350  993.00                 4.761905       49.6500     6.6   \n",
       "167  989.80                 4.761905       49.4900     8.7   \n",
       "557  985.20                 4.761905       49.2600     4.5   \n",
       "699  975.00                 4.761905       48.7500     8.0   \n",
       "996  973.80                 4.761905       48.6900     4.4   \n",
       "..      ...                      ...           ...     ...   \n",
       "402   13.98                 4.761905        0.6990     9.8   \n",
       "443   12.78                 4.761905        0.6390     9.5   \n",
       "223   12.54                 4.761905        0.6270     8.2   \n",
       "629   12.09                 4.761905        0.6045     8.2   \n",
       "822   10.17                 4.761905        0.5085     5.9   \n",
       "\n",
       "               DateTime Month  Day  Year  \n",
       "350 2019-02-15 14:53:00     2   15  2019  \n",
       "167 2019-02-08 16:20:00     2    8  2019  \n",
       "557 2019-01-30 20:23:00     1   30  2019  \n",
       "699 2019-01-12 16:18:00     1   12  2019  \n",
       "996 2019-03-02 17:16:00     3    2  2019  \n",
       "..                  ...   ...  ...   ...  \n",
       "402 2019-02-04 13:38:00     2    4  2019  \n",
       "443 2019-01-08 14:11:00     1    8  2019  \n",
       "223 2019-02-21 12:38:00     2   21  2019  \n",
       "629 2019-01-26 18:19:00     1   26  2019  \n",
       "822 2019-02-07 14:15:00     2    7  2019  \n",
       "\n",
       "[1000 rows x 21 columns]"
      ]
     },
     "execution_count": 82,
     "metadata": {},
     "output_type": "execute_result"
    }
   ],
   "source": [
    "df.sort_values(by='Total',ascending=False)"
   ]
  },
  {
   "cell_type": "markdown",
   "id": "836c81a8",
   "metadata": {},
   "source": [
    "Margen de ganancia en porcentaje:"
   ]
  },
  {
   "cell_type": "code",
   "execution_count": 83,
   "id": "252b4cee",
   "metadata": {},
   "outputs": [
    {
     "data": {
      "text/html": [
       "<div>\n",
       "<style scoped>\n",
       "    .dataframe tbody tr th:only-of-type {\n",
       "        vertical-align: middle;\n",
       "    }\n",
       "\n",
       "    .dataframe tbody tr th {\n",
       "        vertical-align: top;\n",
       "    }\n",
       "\n",
       "    .dataframe thead th {\n",
       "        text-align: right;\n",
       "    }\n",
       "</style>\n",
       "<table border=\"1\" class=\"dataframe\">\n",
       "  <thead>\n",
       "    <tr style=\"text-align: right;\">\n",
       "      <th></th>\n",
       "      <th>Invoice ID</th>\n",
       "      <th>Branch</th>\n",
       "      <th>City</th>\n",
       "      <th>Customer type</th>\n",
       "      <th>Gender</th>\n",
       "      <th>Product line</th>\n",
       "      <th>Unit price</th>\n",
       "      <th>Quantity</th>\n",
       "      <th>Tax 5%</th>\n",
       "      <th>Total</th>\n",
       "      <th>...</th>\n",
       "      <th>Payment</th>\n",
       "      <th>cogs</th>\n",
       "      <th>gross margin percentage</th>\n",
       "      <th>gross income</th>\n",
       "      <th>Rating</th>\n",
       "      <th>DateTime</th>\n",
       "      <th>Month</th>\n",
       "      <th>Day</th>\n",
       "      <th>Year</th>\n",
       "      <th>Profit Margin</th>\n",
       "    </tr>\n",
       "  </thead>\n",
       "  <tbody>\n",
       "    <tr>\n",
       "      <th>0</th>\n",
       "      <td>750-67-8428</td>\n",
       "      <td>A</td>\n",
       "      <td>Yangon</td>\n",
       "      <td>Member</td>\n",
       "      <td>Female</td>\n",
       "      <td>Health and beauty</td>\n",
       "      <td>74.69</td>\n",
       "      <td>7</td>\n",
       "      <td>26.1415</td>\n",
       "      <td>548.9715</td>\n",
       "      <td>...</td>\n",
       "      <td>Ewallet</td>\n",
       "      <td>522.83</td>\n",
       "      <td>4.761905</td>\n",
       "      <td>26.1415</td>\n",
       "      <td>9.1</td>\n",
       "      <td>2019-01-05 13:08:00</td>\n",
       "      <td>1</td>\n",
       "      <td>5</td>\n",
       "      <td>2019</td>\n",
       "      <td>5.0</td>\n",
       "    </tr>\n",
       "    <tr>\n",
       "      <th>1</th>\n",
       "      <td>226-31-3081</td>\n",
       "      <td>C</td>\n",
       "      <td>Naypyitaw</td>\n",
       "      <td>Normal</td>\n",
       "      <td>Female</td>\n",
       "      <td>Electronic accessories</td>\n",
       "      <td>15.28</td>\n",
       "      <td>5</td>\n",
       "      <td>3.8200</td>\n",
       "      <td>80.2200</td>\n",
       "      <td>...</td>\n",
       "      <td>Cash</td>\n",
       "      <td>76.40</td>\n",
       "      <td>4.761905</td>\n",
       "      <td>3.8200</td>\n",
       "      <td>9.6</td>\n",
       "      <td>2019-03-08 10:29:00</td>\n",
       "      <td>3</td>\n",
       "      <td>8</td>\n",
       "      <td>2019</td>\n",
       "      <td>5.0</td>\n",
       "    </tr>\n",
       "    <tr>\n",
       "      <th>2</th>\n",
       "      <td>631-41-3108</td>\n",
       "      <td>A</td>\n",
       "      <td>Yangon</td>\n",
       "      <td>Normal</td>\n",
       "      <td>Male</td>\n",
       "      <td>Home and lifestyle</td>\n",
       "      <td>46.33</td>\n",
       "      <td>7</td>\n",
       "      <td>16.2155</td>\n",
       "      <td>340.5255</td>\n",
       "      <td>...</td>\n",
       "      <td>Credit card</td>\n",
       "      <td>324.31</td>\n",
       "      <td>4.761905</td>\n",
       "      <td>16.2155</td>\n",
       "      <td>7.4</td>\n",
       "      <td>2019-03-03 13:23:00</td>\n",
       "      <td>3</td>\n",
       "      <td>3</td>\n",
       "      <td>2019</td>\n",
       "      <td>5.0</td>\n",
       "    </tr>\n",
       "    <tr>\n",
       "      <th>3</th>\n",
       "      <td>123-19-1176</td>\n",
       "      <td>A</td>\n",
       "      <td>Yangon</td>\n",
       "      <td>Member</td>\n",
       "      <td>Male</td>\n",
       "      <td>Health and beauty</td>\n",
       "      <td>58.22</td>\n",
       "      <td>8</td>\n",
       "      <td>23.2880</td>\n",
       "      <td>489.0480</td>\n",
       "      <td>...</td>\n",
       "      <td>Ewallet</td>\n",
       "      <td>465.76</td>\n",
       "      <td>4.761905</td>\n",
       "      <td>23.2880</td>\n",
       "      <td>8.4</td>\n",
       "      <td>2019-01-27 20:33:00</td>\n",
       "      <td>1</td>\n",
       "      <td>27</td>\n",
       "      <td>2019</td>\n",
       "      <td>5.0</td>\n",
       "    </tr>\n",
       "    <tr>\n",
       "      <th>4</th>\n",
       "      <td>373-73-7910</td>\n",
       "      <td>A</td>\n",
       "      <td>Yangon</td>\n",
       "      <td>Normal</td>\n",
       "      <td>Male</td>\n",
       "      <td>Sports and travel</td>\n",
       "      <td>86.31</td>\n",
       "      <td>7</td>\n",
       "      <td>30.2085</td>\n",
       "      <td>634.3785</td>\n",
       "      <td>...</td>\n",
       "      <td>Ewallet</td>\n",
       "      <td>604.17</td>\n",
       "      <td>4.761905</td>\n",
       "      <td>30.2085</td>\n",
       "      <td>5.3</td>\n",
       "      <td>2019-02-08 10:37:00</td>\n",
       "      <td>2</td>\n",
       "      <td>8</td>\n",
       "      <td>2019</td>\n",
       "      <td>5.0</td>\n",
       "    </tr>\n",
       "    <tr>\n",
       "      <th>...</th>\n",
       "      <td>...</td>\n",
       "      <td>...</td>\n",
       "      <td>...</td>\n",
       "      <td>...</td>\n",
       "      <td>...</td>\n",
       "      <td>...</td>\n",
       "      <td>...</td>\n",
       "      <td>...</td>\n",
       "      <td>...</td>\n",
       "      <td>...</td>\n",
       "      <td>...</td>\n",
       "      <td>...</td>\n",
       "      <td>...</td>\n",
       "      <td>...</td>\n",
       "      <td>...</td>\n",
       "      <td>...</td>\n",
       "      <td>...</td>\n",
       "      <td>...</td>\n",
       "      <td>...</td>\n",
       "      <td>...</td>\n",
       "      <td>...</td>\n",
       "    </tr>\n",
       "    <tr>\n",
       "      <th>995</th>\n",
       "      <td>233-67-5758</td>\n",
       "      <td>C</td>\n",
       "      <td>Naypyitaw</td>\n",
       "      <td>Normal</td>\n",
       "      <td>Male</td>\n",
       "      <td>Health and beauty</td>\n",
       "      <td>40.35</td>\n",
       "      <td>1</td>\n",
       "      <td>2.0175</td>\n",
       "      <td>42.3675</td>\n",
       "      <td>...</td>\n",
       "      <td>Ewallet</td>\n",
       "      <td>40.35</td>\n",
       "      <td>4.761905</td>\n",
       "      <td>2.0175</td>\n",
       "      <td>6.2</td>\n",
       "      <td>2019-01-29 13:46:00</td>\n",
       "      <td>1</td>\n",
       "      <td>29</td>\n",
       "      <td>2019</td>\n",
       "      <td>5.0</td>\n",
       "    </tr>\n",
       "    <tr>\n",
       "      <th>996</th>\n",
       "      <td>303-96-2227</td>\n",
       "      <td>B</td>\n",
       "      <td>Mandalay</td>\n",
       "      <td>Normal</td>\n",
       "      <td>Female</td>\n",
       "      <td>Home and lifestyle</td>\n",
       "      <td>97.38</td>\n",
       "      <td>10</td>\n",
       "      <td>48.6900</td>\n",
       "      <td>1022.4900</td>\n",
       "      <td>...</td>\n",
       "      <td>Ewallet</td>\n",
       "      <td>973.80</td>\n",
       "      <td>4.761905</td>\n",
       "      <td>48.6900</td>\n",
       "      <td>4.4</td>\n",
       "      <td>2019-03-02 17:16:00</td>\n",
       "      <td>3</td>\n",
       "      <td>2</td>\n",
       "      <td>2019</td>\n",
       "      <td>5.0</td>\n",
       "    </tr>\n",
       "    <tr>\n",
       "      <th>997</th>\n",
       "      <td>727-02-1313</td>\n",
       "      <td>A</td>\n",
       "      <td>Yangon</td>\n",
       "      <td>Member</td>\n",
       "      <td>Male</td>\n",
       "      <td>Food and beverages</td>\n",
       "      <td>31.84</td>\n",
       "      <td>1</td>\n",
       "      <td>1.5920</td>\n",
       "      <td>33.4320</td>\n",
       "      <td>...</td>\n",
       "      <td>Cash</td>\n",
       "      <td>31.84</td>\n",
       "      <td>4.761905</td>\n",
       "      <td>1.5920</td>\n",
       "      <td>7.7</td>\n",
       "      <td>2019-02-09 13:22:00</td>\n",
       "      <td>2</td>\n",
       "      <td>9</td>\n",
       "      <td>2019</td>\n",
       "      <td>5.0</td>\n",
       "    </tr>\n",
       "    <tr>\n",
       "      <th>998</th>\n",
       "      <td>347-56-2442</td>\n",
       "      <td>A</td>\n",
       "      <td>Yangon</td>\n",
       "      <td>Normal</td>\n",
       "      <td>Male</td>\n",
       "      <td>Home and lifestyle</td>\n",
       "      <td>65.82</td>\n",
       "      <td>1</td>\n",
       "      <td>3.2910</td>\n",
       "      <td>69.1110</td>\n",
       "      <td>...</td>\n",
       "      <td>Cash</td>\n",
       "      <td>65.82</td>\n",
       "      <td>4.761905</td>\n",
       "      <td>3.2910</td>\n",
       "      <td>4.1</td>\n",
       "      <td>2019-02-22 15:33:00</td>\n",
       "      <td>2</td>\n",
       "      <td>22</td>\n",
       "      <td>2019</td>\n",
       "      <td>5.0</td>\n",
       "    </tr>\n",
       "    <tr>\n",
       "      <th>999</th>\n",
       "      <td>849-09-3807</td>\n",
       "      <td>A</td>\n",
       "      <td>Yangon</td>\n",
       "      <td>Member</td>\n",
       "      <td>Female</td>\n",
       "      <td>Fashion accessories</td>\n",
       "      <td>88.34</td>\n",
       "      <td>7</td>\n",
       "      <td>30.9190</td>\n",
       "      <td>649.2990</td>\n",
       "      <td>...</td>\n",
       "      <td>Cash</td>\n",
       "      <td>618.38</td>\n",
       "      <td>4.761905</td>\n",
       "      <td>30.9190</td>\n",
       "      <td>6.6</td>\n",
       "      <td>2019-02-18 13:28:00</td>\n",
       "      <td>2</td>\n",
       "      <td>18</td>\n",
       "      <td>2019</td>\n",
       "      <td>5.0</td>\n",
       "    </tr>\n",
       "  </tbody>\n",
       "</table>\n",
       "<p>1000 rows × 22 columns</p>\n",
       "</div>"
      ],
      "text/plain": [
       "      Invoice ID Branch       City Customer type  Gender  \\\n",
       "0    750-67-8428      A     Yangon        Member  Female   \n",
       "1    226-31-3081      C  Naypyitaw        Normal  Female   \n",
       "2    631-41-3108      A     Yangon        Normal    Male   \n",
       "3    123-19-1176      A     Yangon        Member    Male   \n",
       "4    373-73-7910      A     Yangon        Normal    Male   \n",
       "..           ...    ...        ...           ...     ...   \n",
       "995  233-67-5758      C  Naypyitaw        Normal    Male   \n",
       "996  303-96-2227      B   Mandalay        Normal  Female   \n",
       "997  727-02-1313      A     Yangon        Member    Male   \n",
       "998  347-56-2442      A     Yangon        Normal    Male   \n",
       "999  849-09-3807      A     Yangon        Member  Female   \n",
       "\n",
       "               Product line  Unit price  Quantity   Tax 5%      Total  ...  \\\n",
       "0         Health and beauty       74.69         7  26.1415   548.9715  ...   \n",
       "1    Electronic accessories       15.28         5   3.8200    80.2200  ...   \n",
       "2        Home and lifestyle       46.33         7  16.2155   340.5255  ...   \n",
       "3         Health and beauty       58.22         8  23.2880   489.0480  ...   \n",
       "4         Sports and travel       86.31         7  30.2085   634.3785  ...   \n",
       "..                      ...         ...       ...      ...        ...  ...   \n",
       "995       Health and beauty       40.35         1   2.0175    42.3675  ...   \n",
       "996      Home and lifestyle       97.38        10  48.6900  1022.4900  ...   \n",
       "997      Food and beverages       31.84         1   1.5920    33.4320  ...   \n",
       "998      Home and lifestyle       65.82         1   3.2910    69.1110  ...   \n",
       "999     Fashion accessories       88.34         7  30.9190   649.2990  ...   \n",
       "\n",
       "         Payment    cogs gross margin percentage  gross income  Rating  \\\n",
       "0        Ewallet  522.83                4.761905       26.1415     9.1   \n",
       "1           Cash   76.40                4.761905        3.8200     9.6   \n",
       "2    Credit card  324.31                4.761905       16.2155     7.4   \n",
       "3        Ewallet  465.76                4.761905       23.2880     8.4   \n",
       "4        Ewallet  604.17                4.761905       30.2085     5.3   \n",
       "..           ...     ...                     ...           ...     ...   \n",
       "995      Ewallet   40.35                4.761905        2.0175     6.2   \n",
       "996      Ewallet  973.80                4.761905       48.6900     4.4   \n",
       "997         Cash   31.84                4.761905        1.5920     7.7   \n",
       "998         Cash   65.82                4.761905        3.2910     4.1   \n",
       "999         Cash  618.38                4.761905       30.9190     6.6   \n",
       "\n",
       "               DateTime  Month Day  Year  Profit Margin  \n",
       "0   2019-01-05 13:08:00      1   5  2019            5.0  \n",
       "1   2019-03-08 10:29:00      3   8  2019            5.0  \n",
       "2   2019-03-03 13:23:00      3   3  2019            5.0  \n",
       "3   2019-01-27 20:33:00      1  27  2019            5.0  \n",
       "4   2019-02-08 10:37:00      2   8  2019            5.0  \n",
       "..                  ...    ...  ..   ...            ...  \n",
       "995 2019-01-29 13:46:00      1  29  2019            5.0  \n",
       "996 2019-03-02 17:16:00      3   2  2019            5.0  \n",
       "997 2019-02-09 13:22:00      2   9  2019            5.0  \n",
       "998 2019-02-22 15:33:00      2  22  2019            5.0  \n",
       "999 2019-02-18 13:28:00      2  18  2019            5.0  \n",
       "\n",
       "[1000 rows x 22 columns]"
      ]
     },
     "execution_count": 83,
     "metadata": {},
     "output_type": "execute_result"
    }
   ],
   "source": [
    "df['Profit Margin'] = (df['gross income'] /df['cogs'] ) * 100\n",
    "df"
   ]
  },
  {
   "cell_type": "markdown",
   "id": "b2d73211",
   "metadata": {},
   "source": [
    "### Visualización"
   ]
  },
  {
   "cell_type": "markdown",
   "id": "f26e65e1",
   "metadata": {},
   "source": [
    "Relación Customer type por Gender"
   ]
  },
  {
   "cell_type": "code",
   "execution_count": 86,
   "id": "5b523270",
   "metadata": {},
   "outputs": [
    {
     "data": {
      "application/vnd.plotly.v1+json": {
       "config": {
        "plotlyServerURL": "https://plot.ly"
       },
       "data": [
        {
         "alignmentgroup": "True",
         "bingroup": "x",
         "hovertemplate": "Gender=Female<br>Customer type=%{x}<br>count=%{y}<extra></extra>",
         "legendgroup": "Female",
         "marker": {
          "color": "#636efa",
          "pattern": {
           "shape": ""
          }
         },
         "name": "Female",
         "offsetgroup": "Female",
         "orientation": "v",
         "showlegend": true,
         "type": "histogram",
         "x": [
          "Member",
          "Normal",
          "Member",
          "Normal",
          "Member",
          "Member",
          "Member",
          "Normal",
          "Normal",
          "Member",
          "Member",
          "Normal",
          "Member",
          "Normal",
          "Normal",
          "Member",
          "Member",
          "Normal",
          "Normal",
          "Member",
          "Member",
          "Member",
          "Member",
          "Member",
          "Member",
          "Member",
          "Member",
          "Normal",
          "Member",
          "Member",
          "Member",
          "Normal",
          "Member",
          "Member",
          "Member",
          "Normal",
          "Normal",
          "Member",
          "Member",
          "Normal",
          "Normal",
          "Normal",
          "Member",
          "Normal",
          "Normal",
          "Member",
          "Normal",
          "Member",
          "Normal",
          "Normal",
          "Normal",
          "Member",
          "Member",
          "Normal",
          "Member",
          "Normal",
          "Normal",
          "Normal",
          "Member",
          "Normal",
          "Normal",
          "Normal",
          "Member",
          "Normal",
          "Normal",
          "Member",
          "Normal",
          "Normal",
          "Normal",
          "Member",
          "Member",
          "Member",
          "Member",
          "Normal",
          "Normal",
          "Member",
          "Member",
          "Normal",
          "Normal",
          "Normal",
          "Normal",
          "Normal",
          "Member",
          "Normal",
          "Normal",
          "Normal",
          "Normal",
          "Member",
          "Normal",
          "Member",
          "Member",
          "Member",
          "Normal",
          "Member",
          "Member",
          "Normal",
          "Normal",
          "Normal",
          "Member",
          "Normal",
          "Member",
          "Normal",
          "Member",
          "Member",
          "Member",
          "Normal",
          "Normal",
          "Member",
          "Normal",
          "Normal",
          "Member",
          "Member",
          "Member",
          "Normal",
          "Normal",
          "Normal",
          "Member",
          "Member",
          "Member",
          "Member",
          "Member",
          "Normal",
          "Member",
          "Member",
          "Normal",
          "Normal",
          "Member",
          "Normal",
          "Normal",
          "Normal",
          "Member",
          "Normal",
          "Normal",
          "Member",
          "Member",
          "Member",
          "Member",
          "Member",
          "Normal",
          "Normal",
          "Normal",
          "Member",
          "Member",
          "Normal",
          "Member",
          "Member",
          "Member",
          "Member",
          "Member",
          "Normal",
          "Normal",
          "Normal",
          "Member",
          "Normal",
          "Normal",
          "Member",
          "Member",
          "Member",
          "Normal",
          "Normal",
          "Member",
          "Normal",
          "Member",
          "Member",
          "Normal",
          "Member",
          "Normal",
          "Normal",
          "Normal",
          "Normal",
          "Normal",
          "Normal",
          "Normal",
          "Member",
          "Normal",
          "Normal",
          "Normal",
          "Member",
          "Member",
          "Normal",
          "Normal",
          "Normal",
          "Member",
          "Normal",
          "Normal",
          "Member",
          "Member",
          "Normal",
          "Member",
          "Normal",
          "Normal",
          "Normal",
          "Member",
          "Normal",
          "Normal",
          "Member",
          "Member",
          "Normal",
          "Normal",
          "Normal",
          "Normal",
          "Member",
          "Normal",
          "Member",
          "Member",
          "Normal",
          "Member",
          "Member",
          "Member",
          "Normal",
          "Normal",
          "Normal",
          "Member",
          "Member",
          "Normal",
          "Member",
          "Member",
          "Member",
          "Normal",
          "Normal",
          "Member",
          "Member",
          "Member",
          "Member",
          "Normal",
          "Member",
          "Member",
          "Member",
          "Member",
          "Member",
          "Member",
          "Member",
          "Normal",
          "Normal",
          "Member",
          "Member",
          "Normal",
          "Member",
          "Normal",
          "Member",
          "Member",
          "Member",
          "Normal",
          "Normal",
          "Member",
          "Member",
          "Member",
          "Normal",
          "Member",
          "Normal",
          "Member",
          "Member",
          "Normal",
          "Normal",
          "Member",
          "Normal",
          "Member",
          "Member",
          "Member",
          "Member",
          "Normal",
          "Normal",
          "Member",
          "Normal",
          "Member",
          "Member",
          "Normal",
          "Normal",
          "Normal",
          "Normal",
          "Normal",
          "Normal",
          "Member",
          "Member",
          "Member",
          "Normal",
          "Normal",
          "Normal",
          "Normal",
          "Normal",
          "Normal",
          "Member",
          "Normal",
          "Member",
          "Member",
          "Member",
          "Normal",
          "Normal",
          "Member",
          "Member",
          "Member",
          "Normal",
          "Normal",
          "Member",
          "Normal",
          "Normal",
          "Member",
          "Member",
          "Member",
          "Normal",
          "Member",
          "Member",
          "Member",
          "Normal",
          "Member",
          "Member",
          "Normal",
          "Member",
          "Normal",
          "Normal",
          "Member",
          "Member",
          "Member",
          "Member",
          "Member",
          "Normal",
          "Normal",
          "Normal",
          "Member",
          "Member",
          "Normal",
          "Member",
          "Member",
          "Normal",
          "Normal",
          "Normal",
          "Member",
          "Normal",
          "Normal",
          "Normal",
          "Member",
          "Member",
          "Member",
          "Normal",
          "Normal",
          "Member",
          "Member",
          "Member",
          "Normal",
          "Member",
          "Member",
          "Normal",
          "Member",
          "Member",
          "Normal",
          "Member",
          "Member",
          "Normal",
          "Member",
          "Normal",
          "Normal",
          "Normal",
          "Member",
          "Member",
          "Normal",
          "Member",
          "Member",
          "Member",
          "Member",
          "Member",
          "Member",
          "Member",
          "Member",
          "Member",
          "Member",
          "Member",
          "Member",
          "Normal",
          "Member",
          "Member",
          "Normal",
          "Member",
          "Normal",
          "Normal",
          "Member",
          "Member",
          "Member",
          "Normal",
          "Normal",
          "Normal",
          "Normal",
          "Member",
          "Member",
          "Member",
          "Normal",
          "Normal",
          "Normal",
          "Member",
          "Normal",
          "Member",
          "Normal",
          "Normal",
          "Normal",
          "Member",
          "Member",
          "Member",
          "Member",
          "Member",
          "Normal",
          "Normal",
          "Normal",
          "Normal",
          "Normal",
          "Normal",
          "Member",
          "Member",
          "Normal",
          "Normal",
          "Member",
          "Normal",
          "Member",
          "Member",
          "Member",
          "Member",
          "Member",
          "Member",
          "Member",
          "Member",
          "Member",
          "Normal",
          "Member",
          "Normal",
          "Normal",
          "Normal",
          "Member",
          "Normal",
          "Member",
          "Member",
          "Member",
          "Normal",
          "Normal",
          "Member",
          "Member",
          "Member",
          "Normal",
          "Member",
          "Member",
          "Member",
          "Member",
          "Member",
          "Member",
          "Normal",
          "Normal",
          "Normal",
          "Member",
          "Member",
          "Member",
          "Member",
          "Normal",
          "Member",
          "Normal",
          "Member",
          "Normal",
          "Member",
          "Normal",
          "Normal",
          "Member",
          "Normal",
          "Normal",
          "Member",
          "Member",
          "Normal",
          "Member",
          "Normal",
          "Member",
          "Normal",
          "Member",
          "Normal",
          "Member",
          "Normal",
          "Normal",
          "Normal",
          "Normal",
          "Member",
          "Normal",
          "Normal",
          "Normal",
          "Normal",
          "Member",
          "Member",
          "Member",
          "Normal",
          "Normal",
          "Member",
          "Normal",
          "Normal",
          "Normal",
          "Normal",
          "Member",
          "Member",
          "Normal",
          "Normal",
          "Normal",
          "Member",
          "Normal",
          "Normal",
          "Normal",
          "Normal",
          "Member",
          "Normal",
          "Member"
         ],
         "xaxis": "x",
         "yaxis": "y"
        },
        {
         "alignmentgroup": "True",
         "bingroup": "x",
         "hovertemplate": "Gender=Male<br>Customer type=%{x}<br>count=%{y}<extra></extra>",
         "legendgroup": "Male",
         "marker": {
          "color": "#EF553B",
          "pattern": {
           "shape": ""
          }
         },
         "name": "Male",
         "offsetgroup": "Male",
         "orientation": "v",
         "showlegend": true,
         "type": "histogram",
         "x": [
          "Normal",
          "Member",
          "Normal",
          "Normal",
          "Member",
          "Normal",
          "Normal",
          "Normal",
          "Member",
          "Normal",
          "Normal",
          "Normal",
          "Member",
          "Normal",
          "Normal",
          "Normal",
          "Member",
          "Normal",
          "Normal",
          "Member",
          "Member",
          "Member",
          "Member",
          "Member",
          "Member",
          "Member",
          "Member",
          "Normal",
          "Member",
          "Normal",
          "Normal",
          "Normal",
          "Member",
          "Member",
          "Member",
          "Normal",
          "Normal",
          "Normal",
          "Normal",
          "Member",
          "Normal",
          "Member",
          "Normal",
          "Member",
          "Normal",
          "Member",
          "Normal",
          "Normal",
          "Normal",
          "Normal",
          "Normal",
          "Member",
          "Normal",
          "Normal",
          "Normal",
          "Member",
          "Normal",
          "Normal",
          "Member",
          "Member",
          "Member",
          "Member",
          "Normal",
          "Member",
          "Member",
          "Member",
          "Member",
          "Normal",
          "Normal",
          "Normal",
          "Member",
          "Normal",
          "Member",
          "Normal",
          "Member",
          "Normal",
          "Member",
          "Member",
          "Normal",
          "Member",
          "Normal",
          "Normal",
          "Normal",
          "Normal",
          "Normal",
          "Member",
          "Normal",
          "Normal",
          "Normal",
          "Member",
          "Normal",
          "Member",
          "Normal",
          "Member",
          "Normal",
          "Member",
          "Member",
          "Normal",
          "Member",
          "Normal",
          "Member",
          "Member",
          "Normal",
          "Member",
          "Member",
          "Normal",
          "Normal",
          "Normal",
          "Member",
          "Normal",
          "Normal",
          "Member",
          "Member",
          "Normal",
          "Normal",
          "Normal",
          "Normal",
          "Normal",
          "Normal",
          "Normal",
          "Normal",
          "Normal",
          "Member",
          "Member",
          "Member",
          "Member",
          "Normal",
          "Normal",
          "Normal",
          "Normal",
          "Member",
          "Member",
          "Normal",
          "Member",
          "Member",
          "Member",
          "Normal",
          "Member",
          "Member",
          "Normal",
          "Member",
          "Member",
          "Member",
          "Member",
          "Member",
          "Member",
          "Normal",
          "Normal",
          "Member",
          "Normal",
          "Member",
          "Member",
          "Normal",
          "Member",
          "Normal",
          "Member",
          "Member",
          "Normal",
          "Normal",
          "Normal",
          "Member",
          "Member",
          "Normal",
          "Member",
          "Normal",
          "Member",
          "Member",
          "Member",
          "Member",
          "Member",
          "Member",
          "Normal",
          "Normal",
          "Normal",
          "Member",
          "Member",
          "Member",
          "Member",
          "Normal",
          "Normal",
          "Normal",
          "Member",
          "Member",
          "Normal",
          "Member",
          "Normal",
          "Member",
          "Normal",
          "Normal",
          "Member",
          "Normal",
          "Normal",
          "Member",
          "Normal",
          "Normal",
          "Member",
          "Member",
          "Normal",
          "Normal",
          "Member",
          "Member",
          "Member",
          "Normal",
          "Normal",
          "Member",
          "Normal",
          "Member",
          "Normal",
          "Member",
          "Member",
          "Normal",
          "Normal",
          "Member",
          "Normal",
          "Normal",
          "Normal",
          "Member",
          "Normal",
          "Member",
          "Member",
          "Normal",
          "Normal",
          "Normal",
          "Normal",
          "Normal",
          "Member",
          "Normal",
          "Member",
          "Member",
          "Normal",
          "Member",
          "Normal",
          "Normal",
          "Normal",
          "Member",
          "Normal",
          "Normal",
          "Normal",
          "Member",
          "Normal",
          "Normal",
          "Member",
          "Member",
          "Normal",
          "Normal",
          "Normal",
          "Normal",
          "Normal",
          "Normal",
          "Member",
          "Normal",
          "Normal",
          "Normal",
          "Normal",
          "Member",
          "Normal",
          "Normal",
          "Member",
          "Member",
          "Normal",
          "Member",
          "Member",
          "Member",
          "Normal",
          "Member",
          "Normal",
          "Normal",
          "Normal",
          "Member",
          "Normal",
          "Normal",
          "Member",
          "Normal",
          "Normal",
          "Normal",
          "Normal",
          "Member",
          "Member",
          "Member",
          "Normal",
          "Normal",
          "Normal",
          "Member",
          "Normal",
          "Member",
          "Normal",
          "Normal",
          "Member",
          "Normal",
          "Member",
          "Member",
          "Normal",
          "Normal",
          "Member",
          "Normal",
          "Normal",
          "Normal",
          "Normal",
          "Normal",
          "Normal",
          "Normal",
          "Normal",
          "Member",
          "Member",
          "Normal",
          "Normal",
          "Normal",
          "Normal",
          "Normal",
          "Normal",
          "Member",
          "Member",
          "Member",
          "Member",
          "Member",
          "Member",
          "Member",
          "Member",
          "Normal",
          "Member",
          "Member",
          "Normal",
          "Normal",
          "Member",
          "Normal",
          "Member",
          "Member",
          "Normal",
          "Normal",
          "Member",
          "Member",
          "Member",
          "Normal",
          "Member",
          "Normal",
          "Normal",
          "Member",
          "Member",
          "Member",
          "Member",
          "Member",
          "Member",
          "Member",
          "Member",
          "Normal",
          "Member",
          "Normal",
          "Member",
          "Member",
          "Member",
          "Member",
          "Member",
          "Member",
          "Normal",
          "Member",
          "Normal",
          "Normal",
          "Member",
          "Normal",
          "Member",
          "Normal",
          "Normal",
          "Member",
          "Member",
          "Member",
          "Normal",
          "Normal",
          "Member",
          "Member",
          "Normal",
          "Normal",
          "Normal",
          "Member",
          "Normal",
          "Member",
          "Member",
          "Normal",
          "Member",
          "Normal",
          "Normal",
          "Normal",
          "Member",
          "Member",
          "Member",
          "Normal",
          "Member",
          "Normal",
          "Member",
          "Normal",
          "Member",
          "Member",
          "Normal",
          "Member",
          "Member",
          "Normal",
          "Normal",
          "Normal",
          "Member",
          "Normal",
          "Normal",
          "Member",
          "Member",
          "Normal",
          "Normal",
          "Member",
          "Normal",
          "Member",
          "Normal",
          "Normal",
          "Normal",
          "Member",
          "Member",
          "Normal",
          "Member",
          "Member",
          "Normal",
          "Normal",
          "Normal",
          "Member",
          "Normal",
          "Member",
          "Normal",
          "Normal",
          "Normal",
          "Normal",
          "Normal",
          "Member",
          "Member",
          "Normal",
          "Normal",
          "Normal",
          "Normal",
          "Member",
          "Member",
          "Member",
          "Member",
          "Normal",
          "Member",
          "Normal",
          "Member",
          "Member",
          "Normal",
          "Member",
          "Member",
          "Member",
          "Normal",
          "Member",
          "Member",
          "Normal",
          "Member",
          "Normal",
          "Normal",
          "Member",
          "Member",
          "Normal",
          "Normal",
          "Normal",
          "Member",
          "Member",
          "Normal",
          "Member",
          "Normal",
          "Normal",
          "Normal",
          "Member",
          "Normal",
          "Member",
          "Normal",
          "Member",
          "Member",
          "Member",
          "Member",
          "Member",
          "Member",
          "Member",
          "Normal",
          "Member",
          "Member",
          "Member",
          "Normal",
          "Member",
          "Member",
          "Normal",
          "Normal",
          "Normal",
          "Member",
          "Member",
          "Member",
          "Normal",
          "Normal",
          "Normal",
          "Member",
          "Member",
          "Member",
          "Normal",
          "Normal",
          "Normal",
          "Member",
          "Normal"
         ],
         "xaxis": "x",
         "yaxis": "y"
        }
       ],
       "layout": {
        "barmode": "group",
        "legend": {
         "title": {
          "text": "Gender"
         },
         "tracegroupgap": 0
        },
        "template": {
         "data": {
          "bar": [
           {
            "error_x": {
             "color": "#2a3f5f"
            },
            "error_y": {
             "color": "#2a3f5f"
            },
            "marker": {
             "line": {
              "color": "#E5ECF6",
              "width": 0.5
             },
             "pattern": {
              "fillmode": "overlay",
              "size": 10,
              "solidity": 0.2
             }
            },
            "type": "bar"
           }
          ],
          "barpolar": [
           {
            "marker": {
             "line": {
              "color": "#E5ECF6",
              "width": 0.5
             },
             "pattern": {
              "fillmode": "overlay",
              "size": 10,
              "solidity": 0.2
             }
            },
            "type": "barpolar"
           }
          ],
          "carpet": [
           {
            "aaxis": {
             "endlinecolor": "#2a3f5f",
             "gridcolor": "white",
             "linecolor": "white",
             "minorgridcolor": "white",
             "startlinecolor": "#2a3f5f"
            },
            "baxis": {
             "endlinecolor": "#2a3f5f",
             "gridcolor": "white",
             "linecolor": "white",
             "minorgridcolor": "white",
             "startlinecolor": "#2a3f5f"
            },
            "type": "carpet"
           }
          ],
          "choropleth": [
           {
            "colorbar": {
             "outlinewidth": 0,
             "ticks": ""
            },
            "type": "choropleth"
           }
          ],
          "contour": [
           {
            "colorbar": {
             "outlinewidth": 0,
             "ticks": ""
            },
            "colorscale": [
             [
              0,
              "#0d0887"
             ],
             [
              0.1111111111111111,
              "#46039f"
             ],
             [
              0.2222222222222222,
              "#7201a8"
             ],
             [
              0.3333333333333333,
              "#9c179e"
             ],
             [
              0.4444444444444444,
              "#bd3786"
             ],
             [
              0.5555555555555556,
              "#d8576b"
             ],
             [
              0.6666666666666666,
              "#ed7953"
             ],
             [
              0.7777777777777778,
              "#fb9f3a"
             ],
             [
              0.8888888888888888,
              "#fdca26"
             ],
             [
              1,
              "#f0f921"
             ]
            ],
            "type": "contour"
           }
          ],
          "contourcarpet": [
           {
            "colorbar": {
             "outlinewidth": 0,
             "ticks": ""
            },
            "type": "contourcarpet"
           }
          ],
          "heatmap": [
           {
            "colorbar": {
             "outlinewidth": 0,
             "ticks": ""
            },
            "colorscale": [
             [
              0,
              "#0d0887"
             ],
             [
              0.1111111111111111,
              "#46039f"
             ],
             [
              0.2222222222222222,
              "#7201a8"
             ],
             [
              0.3333333333333333,
              "#9c179e"
             ],
             [
              0.4444444444444444,
              "#bd3786"
             ],
             [
              0.5555555555555556,
              "#d8576b"
             ],
             [
              0.6666666666666666,
              "#ed7953"
             ],
             [
              0.7777777777777778,
              "#fb9f3a"
             ],
             [
              0.8888888888888888,
              "#fdca26"
             ],
             [
              1,
              "#f0f921"
             ]
            ],
            "type": "heatmap"
           }
          ],
          "histogram": [
           {
            "marker": {
             "pattern": {
              "fillmode": "overlay",
              "size": 10,
              "solidity": 0.2
             }
            },
            "type": "histogram"
           }
          ],
          "histogram2d": [
           {
            "colorbar": {
             "outlinewidth": 0,
             "ticks": ""
            },
            "colorscale": [
             [
              0,
              "#0d0887"
             ],
             [
              0.1111111111111111,
              "#46039f"
             ],
             [
              0.2222222222222222,
              "#7201a8"
             ],
             [
              0.3333333333333333,
              "#9c179e"
             ],
             [
              0.4444444444444444,
              "#bd3786"
             ],
             [
              0.5555555555555556,
              "#d8576b"
             ],
             [
              0.6666666666666666,
              "#ed7953"
             ],
             [
              0.7777777777777778,
              "#fb9f3a"
             ],
             [
              0.8888888888888888,
              "#fdca26"
             ],
             [
              1,
              "#f0f921"
             ]
            ],
            "type": "histogram2d"
           }
          ],
          "histogram2dcontour": [
           {
            "colorbar": {
             "outlinewidth": 0,
             "ticks": ""
            },
            "colorscale": [
             [
              0,
              "#0d0887"
             ],
             [
              0.1111111111111111,
              "#46039f"
             ],
             [
              0.2222222222222222,
              "#7201a8"
             ],
             [
              0.3333333333333333,
              "#9c179e"
             ],
             [
              0.4444444444444444,
              "#bd3786"
             ],
             [
              0.5555555555555556,
              "#d8576b"
             ],
             [
              0.6666666666666666,
              "#ed7953"
             ],
             [
              0.7777777777777778,
              "#fb9f3a"
             ],
             [
              0.8888888888888888,
              "#fdca26"
             ],
             [
              1,
              "#f0f921"
             ]
            ],
            "type": "histogram2dcontour"
           }
          ],
          "mesh3d": [
           {
            "colorbar": {
             "outlinewidth": 0,
             "ticks": ""
            },
            "type": "mesh3d"
           }
          ],
          "parcoords": [
           {
            "line": {
             "colorbar": {
              "outlinewidth": 0,
              "ticks": ""
             }
            },
            "type": "parcoords"
           }
          ],
          "pie": [
           {
            "automargin": true,
            "type": "pie"
           }
          ],
          "scatter": [
           {
            "fillpattern": {
             "fillmode": "overlay",
             "size": 10,
             "solidity": 0.2
            },
            "type": "scatter"
           }
          ],
          "scatter3d": [
           {
            "line": {
             "colorbar": {
              "outlinewidth": 0,
              "ticks": ""
             }
            },
            "marker": {
             "colorbar": {
              "outlinewidth": 0,
              "ticks": ""
             }
            },
            "type": "scatter3d"
           }
          ],
          "scattercarpet": [
           {
            "marker": {
             "colorbar": {
              "outlinewidth": 0,
              "ticks": ""
             }
            },
            "type": "scattercarpet"
           }
          ],
          "scattergeo": [
           {
            "marker": {
             "colorbar": {
              "outlinewidth": 0,
              "ticks": ""
             }
            },
            "type": "scattergeo"
           }
          ],
          "scattergl": [
           {
            "marker": {
             "colorbar": {
              "outlinewidth": 0,
              "ticks": ""
             }
            },
            "type": "scattergl"
           }
          ],
          "scattermap": [
           {
            "marker": {
             "colorbar": {
              "outlinewidth": 0,
              "ticks": ""
             }
            },
            "type": "scattermap"
           }
          ],
          "scattermapbox": [
           {
            "marker": {
             "colorbar": {
              "outlinewidth": 0,
              "ticks": ""
             }
            },
            "type": "scattermapbox"
           }
          ],
          "scatterpolar": [
           {
            "marker": {
             "colorbar": {
              "outlinewidth": 0,
              "ticks": ""
             }
            },
            "type": "scatterpolar"
           }
          ],
          "scatterpolargl": [
           {
            "marker": {
             "colorbar": {
              "outlinewidth": 0,
              "ticks": ""
             }
            },
            "type": "scatterpolargl"
           }
          ],
          "scatterternary": [
           {
            "marker": {
             "colorbar": {
              "outlinewidth": 0,
              "ticks": ""
             }
            },
            "type": "scatterternary"
           }
          ],
          "surface": [
           {
            "colorbar": {
             "outlinewidth": 0,
             "ticks": ""
            },
            "colorscale": [
             [
              0,
              "#0d0887"
             ],
             [
              0.1111111111111111,
              "#46039f"
             ],
             [
              0.2222222222222222,
              "#7201a8"
             ],
             [
              0.3333333333333333,
              "#9c179e"
             ],
             [
              0.4444444444444444,
              "#bd3786"
             ],
             [
              0.5555555555555556,
              "#d8576b"
             ],
             [
              0.6666666666666666,
              "#ed7953"
             ],
             [
              0.7777777777777778,
              "#fb9f3a"
             ],
             [
              0.8888888888888888,
              "#fdca26"
             ],
             [
              1,
              "#f0f921"
             ]
            ],
            "type": "surface"
           }
          ],
          "table": [
           {
            "cells": {
             "fill": {
              "color": "#EBF0F8"
             },
             "line": {
              "color": "white"
             }
            },
            "header": {
             "fill": {
              "color": "#C8D4E3"
             },
             "line": {
              "color": "white"
             }
            },
            "type": "table"
           }
          ]
         },
         "layout": {
          "annotationdefaults": {
           "arrowcolor": "#2a3f5f",
           "arrowhead": 0,
           "arrowwidth": 1
          },
          "autotypenumbers": "strict",
          "coloraxis": {
           "colorbar": {
            "outlinewidth": 0,
            "ticks": ""
           }
          },
          "colorscale": {
           "diverging": [
            [
             0,
             "#8e0152"
            ],
            [
             0.1,
             "#c51b7d"
            ],
            [
             0.2,
             "#de77ae"
            ],
            [
             0.3,
             "#f1b6da"
            ],
            [
             0.4,
             "#fde0ef"
            ],
            [
             0.5,
             "#f7f7f7"
            ],
            [
             0.6,
             "#e6f5d0"
            ],
            [
             0.7,
             "#b8e186"
            ],
            [
             0.8,
             "#7fbc41"
            ],
            [
             0.9,
             "#4d9221"
            ],
            [
             1,
             "#276419"
            ]
           ],
           "sequential": [
            [
             0,
             "#0d0887"
            ],
            [
             0.1111111111111111,
             "#46039f"
            ],
            [
             0.2222222222222222,
             "#7201a8"
            ],
            [
             0.3333333333333333,
             "#9c179e"
            ],
            [
             0.4444444444444444,
             "#bd3786"
            ],
            [
             0.5555555555555556,
             "#d8576b"
            ],
            [
             0.6666666666666666,
             "#ed7953"
            ],
            [
             0.7777777777777778,
             "#fb9f3a"
            ],
            [
             0.8888888888888888,
             "#fdca26"
            ],
            [
             1,
             "#f0f921"
            ]
           ],
           "sequentialminus": [
            [
             0,
             "#0d0887"
            ],
            [
             0.1111111111111111,
             "#46039f"
            ],
            [
             0.2222222222222222,
             "#7201a8"
            ],
            [
             0.3333333333333333,
             "#9c179e"
            ],
            [
             0.4444444444444444,
             "#bd3786"
            ],
            [
             0.5555555555555556,
             "#d8576b"
            ],
            [
             0.6666666666666666,
             "#ed7953"
            ],
            [
             0.7777777777777778,
             "#fb9f3a"
            ],
            [
             0.8888888888888888,
             "#fdca26"
            ],
            [
             1,
             "#f0f921"
            ]
           ]
          },
          "colorway": [
           "#636efa",
           "#EF553B",
           "#00cc96",
           "#ab63fa",
           "#FFA15A",
           "#19d3f3",
           "#FF6692",
           "#B6E880",
           "#FF97FF",
           "#FECB52"
          ],
          "font": {
           "color": "#2a3f5f"
          },
          "geo": {
           "bgcolor": "white",
           "lakecolor": "white",
           "landcolor": "#E5ECF6",
           "showlakes": true,
           "showland": true,
           "subunitcolor": "white"
          },
          "hoverlabel": {
           "align": "left"
          },
          "hovermode": "closest",
          "mapbox": {
           "style": "light"
          },
          "paper_bgcolor": "white",
          "plot_bgcolor": "#E5ECF6",
          "polar": {
           "angularaxis": {
            "gridcolor": "white",
            "linecolor": "white",
            "ticks": ""
           },
           "bgcolor": "#E5ECF6",
           "radialaxis": {
            "gridcolor": "white",
            "linecolor": "white",
            "ticks": ""
           }
          },
          "scene": {
           "xaxis": {
            "backgroundcolor": "#E5ECF6",
            "gridcolor": "white",
            "gridwidth": 2,
            "linecolor": "white",
            "showbackground": true,
            "ticks": "",
            "zerolinecolor": "white"
           },
           "yaxis": {
            "backgroundcolor": "#E5ECF6",
            "gridcolor": "white",
            "gridwidth": 2,
            "linecolor": "white",
            "showbackground": true,
            "ticks": "",
            "zerolinecolor": "white"
           },
           "zaxis": {
            "backgroundcolor": "#E5ECF6",
            "gridcolor": "white",
            "gridwidth": 2,
            "linecolor": "white",
            "showbackground": true,
            "ticks": "",
            "zerolinecolor": "white"
           }
          },
          "shapedefaults": {
           "line": {
            "color": "#2a3f5f"
           }
          },
          "ternary": {
           "aaxis": {
            "gridcolor": "white",
            "linecolor": "white",
            "ticks": ""
           },
           "baxis": {
            "gridcolor": "white",
            "linecolor": "white",
            "ticks": ""
           },
           "bgcolor": "#E5ECF6",
           "caxis": {
            "gridcolor": "white",
            "linecolor": "white",
            "ticks": ""
           }
          },
          "title": {
           "x": 0.05
          },
          "xaxis": {
           "automargin": true,
           "gridcolor": "white",
           "linecolor": "white",
           "ticks": "",
           "title": {
            "standoff": 15
           },
           "zerolinecolor": "white",
           "zerolinewidth": 2
          },
          "yaxis": {
           "automargin": true,
           "gridcolor": "white",
           "linecolor": "white",
           "ticks": "",
           "title": {
            "standoff": 15
           },
           "zerolinecolor": "white",
           "zerolinewidth": 2
          }
         }
        },
        "title": {
         "text": "Total Count of Customer type"
        },
        "xaxis": {
         "anchor": "y",
         "domain": [
          0,
          1
         ],
         "title": {
          "text": "Customer type"
         }
        },
        "yaxis": {
         "anchor": "x",
         "domain": [
          0,
          1
         ],
         "title": {
          "text": "count"
         }
        }
       }
      }
     },
     "metadata": {},
     "output_type": "display_data"
    }
   ],
   "source": [
    "fig = px.histogram(df,x='Customer type',\n",
    "          barmode='group',\n",
    "          color='Gender',\n",
    "          title='Total Count of Customer type')\n",
    "fig.show()"
   ]
  },
  {
   "cell_type": "markdown",
   "id": "af3028c4",
   "metadata": {},
   "source": [
    "Relación Branch por género"
   ]
  },
  {
   "cell_type": "code",
   "execution_count": null,
   "id": "d1b9524f",
   "metadata": {},
   "outputs": [
    {
     "data": {
      "application/vnd.plotly.v1+json": {
       "config": {
        "plotlyServerURL": "https://plot.ly"
       },
       "data": [
        {
         "alignmentgroup": "True",
         "bingroup": "x",
         "hovertemplate": "Gender=Female<br>Branch=%{x}<br>count=%{y}<extra></extra>",
         "legendgroup": "Female",
         "marker": {
          "color": "#636efa",
          "pattern": {
           "shape": ""
          }
         },
         "name": "Female",
         "offsetgroup": "Female",
         "orientation": "v",
         "showlegend": true,
         "type": "histogram",
         "x": [
          "A",
          "C",
          "A",
          "C",
          "A",
          "B",
          "B",
          "A",
          "A",
          "B",
          "A",
          "B",
          "A",
          "A",
          "B",
          "C",
          "C",
          "A",
          "C",
          "B",
          "B",
          "C",
          "B",
          "B",
          "C",
          "A",
          "B",
          "C",
          "A",
          "C",
          "B",
          "C",
          "B",
          "A",
          "B",
          "C",
          "C",
          "A",
          "C",
          "C",
          "C",
          "B",
          "C",
          "C",
          "B",
          "C",
          "C",
          "A",
          "C",
          "C",
          "C",
          "B",
          "C",
          "B",
          "C",
          "C",
          "A",
          "A",
          "B",
          "A",
          "A",
          "C",
          "C",
          "B",
          "B",
          "A",
          "B",
          "C",
          "A",
          "A",
          "C",
          "C",
          "C",
          "A",
          "C",
          "A",
          "B",
          "C",
          "C",
          "C",
          "C",
          "A",
          "B",
          "C",
          "B",
          "B",
          "C",
          "C",
          "A",
          "C",
          "C",
          "B",
          "A",
          "C",
          "C",
          "B",
          "B",
          "C",
          "B",
          "B",
          "A",
          "B",
          "C",
          "C",
          "B",
          "A",
          "B",
          "B",
          "B",
          "A",
          "C",
          "B",
          "B",
          "C",
          "A",
          "C",
          "B",
          "A",
          "A",
          "B",
          "A",
          "B",
          "C",
          "A",
          "A",
          "B",
          "C",
          "C",
          "A",
          "A",
          "A",
          "C",
          "B",
          "A",
          "A",
          "A",
          "C",
          "C",
          "A",
          "B",
          "A",
          "A",
          "A",
          "A",
          "A",
          "A",
          "C",
          "C",
          "C",
          "C",
          "C",
          "A",
          "A",
          "B",
          "C",
          "B",
          "B",
          "B",
          "C",
          "A",
          "C",
          "B",
          "C",
          "B",
          "C",
          "B",
          "C",
          "C",
          "C",
          "C",
          "C",
          "C",
          "C",
          "B",
          "B",
          "C",
          "A",
          "A",
          "B",
          "B",
          "C",
          "B",
          "C",
          "A",
          "A",
          "C",
          "C",
          "B",
          "A",
          "A",
          "A",
          "A",
          "B",
          "C",
          "B",
          "C",
          "B",
          "A",
          "C",
          "B",
          "C",
          "C",
          "B",
          "A",
          "C",
          "C",
          "C",
          "B",
          "A",
          "A",
          "B",
          "C",
          "B",
          "A",
          "A",
          "B",
          "B",
          "B",
          "B",
          "A",
          "B",
          "B",
          "C",
          "B",
          "C",
          "C",
          "C",
          "C",
          "C",
          "C",
          "A",
          "A",
          "A",
          "C",
          "C",
          "B",
          "B",
          "B",
          "B",
          "A",
          "B",
          "C",
          "C",
          "C",
          "B",
          "A",
          "C",
          "B",
          "B",
          "B",
          "C",
          "B",
          "A",
          "A",
          "C",
          "B",
          "C",
          "A",
          "A",
          "B",
          "C",
          "A",
          "B",
          "A",
          "C",
          "B",
          "B",
          "A",
          "B",
          "A",
          "B",
          "B",
          "B",
          "C",
          "A",
          "B",
          "A",
          "C",
          "A",
          "B",
          "C",
          "B",
          "A",
          "A",
          "C",
          "B",
          "A",
          "A",
          "C",
          "A",
          "A",
          "C",
          "C",
          "A",
          "C",
          "B",
          "C",
          "A",
          "C",
          "A",
          "C",
          "A",
          "C",
          "A",
          "A",
          "B",
          "B",
          "B",
          "A",
          "C",
          "B",
          "B",
          "C",
          "C",
          "C",
          "B",
          "A",
          "C",
          "A",
          "A",
          "B",
          "B",
          "C",
          "C",
          "A",
          "B",
          "C",
          "B",
          "B",
          "A",
          "B",
          "A",
          "B",
          "B",
          "C",
          "B",
          "B",
          "B",
          "A",
          "C",
          "C",
          "C",
          "A",
          "A",
          "C",
          "B",
          "B",
          "B",
          "C",
          "C",
          "C",
          "A",
          "A",
          "B",
          "B",
          "C",
          "C",
          "C",
          "B",
          "A",
          "C",
          "A",
          "C",
          "C",
          "C",
          "B",
          "B",
          "A",
          "A",
          "C",
          "A",
          "B",
          "A",
          "A",
          "B",
          "A",
          "A",
          "B",
          "C",
          "B",
          "A",
          "B",
          "C",
          "C",
          "C",
          "B",
          "A",
          "A",
          "C",
          "C",
          "C",
          "B",
          "A",
          "C",
          "A",
          "C",
          "A",
          "B",
          "A",
          "A",
          "A",
          "B",
          "C",
          "A",
          "C",
          "A",
          "B",
          "C",
          "A",
          "A",
          "B",
          "A",
          "B",
          "A",
          "B",
          "B",
          "C",
          "A",
          "C",
          "C",
          "C",
          "A",
          "A",
          "B",
          "A",
          "B",
          "A",
          "A",
          "C",
          "B",
          "B",
          "A",
          "C",
          "B",
          "A",
          "B",
          "B",
          "C",
          "A",
          "A",
          "A",
          "C",
          "C",
          "B",
          "C",
          "C",
          "C",
          "A",
          "C",
          "C",
          "B",
          "A",
          "B",
          "B",
          "C",
          "A",
          "A",
          "C",
          "A",
          "B",
          "C",
          "B",
          "C",
          "C",
          "C",
          "B",
          "A",
          "B",
          "C",
          "A",
          "B",
          "C",
          "A",
          "A",
          "C",
          "A",
          "A",
          "B",
          "B",
          "B",
          "C",
          "A",
          "C",
          "A",
          "A",
          "B",
          "A",
          "A",
          "B",
          "B",
          "A",
          "B",
          "B",
          "A",
          "B",
          "B",
          "A",
          "B",
          "C",
          "B",
          "A"
         ],
         "xaxis": "x",
         "yaxis": "y"
        },
        {
         "alignmentgroup": "True",
         "bingroup": "x",
         "hovertemplate": "Gender=Male<br>Branch=%{x}<br>count=%{y}<extra></extra>",
         "legendgroup": "Male",
         "marker": {
          "color": "#EF553B",
          "pattern": {
           "shape": ""
          }
         },
         "name": "Male",
         "offsetgroup": "Male",
         "orientation": "v",
         "showlegend": true,
         "type": "histogram",
         "x": [
          "A",
          "A",
          "A",
          "C",
          "B",
          "A",
          "A",
          "A",
          "C",
          "B",
          "B",
          "A",
          "A",
          "B",
          "A",
          "B",
          "B",
          "B",
          "A",
          "A",
          "B",
          "C",
          "C",
          "B",
          "B",
          "C",
          "C",
          "B",
          "A",
          "A",
          "C",
          "C",
          "A",
          "B",
          "A",
          "A",
          "C",
          "C",
          "A",
          "C",
          "C",
          "C",
          "C",
          "A",
          "A",
          "B",
          "C",
          "A",
          "B",
          "A",
          "B",
          "C",
          "C",
          "A",
          "B",
          "A",
          "C",
          "A",
          "C",
          "A",
          "B",
          "B",
          "B",
          "C",
          "B",
          "C",
          "B",
          "C",
          "B",
          "A",
          "C",
          "C",
          "B",
          "A",
          "C",
          "A",
          "A",
          "B",
          "B",
          "B",
          "B",
          "A",
          "A",
          "C",
          "B",
          "B",
          "C",
          "A",
          "A",
          "A",
          "A",
          "B",
          "C",
          "B",
          "B",
          "A",
          "A",
          "A",
          "C",
          "C",
          "C",
          "A",
          "C",
          "B",
          "B",
          "A",
          "B",
          "A",
          "C",
          "C",
          "C",
          "B",
          "B",
          "A",
          "B",
          "B",
          "A",
          "B",
          "B",
          "B",
          "C",
          "A",
          "B",
          "C",
          "B",
          "A",
          "C",
          "A",
          "A",
          "A",
          "C",
          "A",
          "B",
          "A",
          "A",
          "A",
          "B",
          "B",
          "C",
          "A",
          "A",
          "B",
          "A",
          "A",
          "A",
          "C",
          "B",
          "C",
          "A",
          "B",
          "C",
          "A",
          "C",
          "A",
          "B",
          "C",
          "B",
          "C",
          "B",
          "C",
          "A",
          "A",
          "C",
          "B",
          "C",
          "A",
          "B",
          "C",
          "C",
          "C",
          "C",
          "A",
          "A",
          "B",
          "A",
          "C",
          "B",
          "A",
          "B",
          "A",
          "A",
          "A",
          "C",
          "A",
          "B",
          "A",
          "A",
          "A",
          "A",
          "B",
          "B",
          "B",
          "A",
          "C",
          "A",
          "A",
          "A",
          "C",
          "C",
          "C",
          "A",
          "B",
          "C",
          "B",
          "A",
          "B",
          "B",
          "C",
          "C",
          "A",
          "A",
          "B",
          "A",
          "A",
          "A",
          "B",
          "B",
          "C",
          "B",
          "A",
          "B",
          "B",
          "C",
          "B",
          "C",
          "C",
          "A",
          "C",
          "C",
          "C",
          "C",
          "C",
          "B",
          "A",
          "A",
          "B",
          "C",
          "C",
          "A",
          "B",
          "C",
          "A",
          "B",
          "A",
          "C",
          "B",
          "A",
          "C",
          "A",
          "B",
          "A",
          "C",
          "B",
          "B",
          "B",
          "C",
          "B",
          "A",
          "B",
          "A",
          "C",
          "B",
          "C",
          "A",
          "C",
          "C",
          "A",
          "B",
          "B",
          "A",
          "A",
          "A",
          "B",
          "C",
          "A",
          "A",
          "C",
          "C",
          "B",
          "A",
          "B",
          "C",
          "A",
          "B",
          "A",
          "B",
          "C",
          "A",
          "B",
          "B",
          "A",
          "B",
          "A",
          "B",
          "B",
          "C",
          "B",
          "C",
          "B",
          "A",
          "C",
          "A",
          "C",
          "B",
          "B",
          "A",
          "C",
          "C",
          "B",
          "A",
          "B",
          "B",
          "C",
          "A",
          "B",
          "C",
          "A",
          "B",
          "A",
          "B",
          "A",
          "A",
          "A",
          "A",
          "B",
          "B",
          "B",
          "A",
          "B",
          "B",
          "C",
          "A",
          "C",
          "B",
          "C",
          "B",
          "A",
          "B",
          "B",
          "A",
          "C",
          "B",
          "A",
          "B",
          "C",
          "B",
          "C",
          "A",
          "A",
          "A",
          "C",
          "C",
          "A",
          "B",
          "A",
          "C",
          "B",
          "B",
          "B",
          "C",
          "C",
          "A",
          "A",
          "C",
          "A",
          "A",
          "B",
          "B",
          "C",
          "B",
          "C",
          "A",
          "A",
          "B",
          "B",
          "C",
          "C",
          "B",
          "A",
          "C",
          "C",
          "A",
          "B",
          "C",
          "B",
          "A",
          "B",
          "A",
          "B",
          "C",
          "C",
          "B",
          "C",
          "B",
          "C",
          "A",
          "C",
          "C",
          "A",
          "A",
          "C",
          "A",
          "B",
          "B",
          "C",
          "B",
          "C",
          "B",
          "A",
          "A",
          "B",
          "B",
          "B",
          "C",
          "A",
          "C",
          "A",
          "B",
          "A",
          "A",
          "A",
          "B",
          "C",
          "A",
          "B",
          "A",
          "A",
          "A",
          "A",
          "C",
          "B",
          "B",
          "A",
          "C",
          "B",
          "C",
          "A",
          "A",
          "C",
          "A",
          "A",
          "C",
          "C",
          "B",
          "B",
          "A",
          "A",
          "A",
          "B",
          "B",
          "B",
          "C",
          "C",
          "A",
          "B",
          "A",
          "C",
          "A",
          "C",
          "B",
          "B",
          "B",
          "B",
          "C",
          "C",
          "A",
          "C",
          "A",
          "A",
          "C",
          "B",
          "C",
          "B",
          "B",
          "C",
          "B",
          "C",
          "A",
          "C",
          "B",
          "A",
          "B",
          "B",
          "A",
          "C",
          "B",
          "B",
          "C",
          "A",
          "C",
          "C",
          "B",
          "C",
          "B",
          "A",
          "B",
          "C",
          "A",
          "A"
         ],
         "xaxis": "x",
         "yaxis": "y"
        }
       ],
       "layout": {
        "barmode": "group",
        "legend": {
         "title": {
          "text": "Gender"
         },
         "tracegroupgap": 0
        },
        "template": {
         "data": {
          "bar": [
           {
            "error_x": {
             "color": "#2a3f5f"
            },
            "error_y": {
             "color": "#2a3f5f"
            },
            "marker": {
             "line": {
              "color": "#E5ECF6",
              "width": 0.5
             },
             "pattern": {
              "fillmode": "overlay",
              "size": 10,
              "solidity": 0.2
             }
            },
            "type": "bar"
           }
          ],
          "barpolar": [
           {
            "marker": {
             "line": {
              "color": "#E5ECF6",
              "width": 0.5
             },
             "pattern": {
              "fillmode": "overlay",
              "size": 10,
              "solidity": 0.2
             }
            },
            "type": "barpolar"
           }
          ],
          "carpet": [
           {
            "aaxis": {
             "endlinecolor": "#2a3f5f",
             "gridcolor": "white",
             "linecolor": "white",
             "minorgridcolor": "white",
             "startlinecolor": "#2a3f5f"
            },
            "baxis": {
             "endlinecolor": "#2a3f5f",
             "gridcolor": "white",
             "linecolor": "white",
             "minorgridcolor": "white",
             "startlinecolor": "#2a3f5f"
            },
            "type": "carpet"
           }
          ],
          "choropleth": [
           {
            "colorbar": {
             "outlinewidth": 0,
             "ticks": ""
            },
            "type": "choropleth"
           }
          ],
          "contour": [
           {
            "colorbar": {
             "outlinewidth": 0,
             "ticks": ""
            },
            "colorscale": [
             [
              0,
              "#0d0887"
             ],
             [
              0.1111111111111111,
              "#46039f"
             ],
             [
              0.2222222222222222,
              "#7201a8"
             ],
             [
              0.3333333333333333,
              "#9c179e"
             ],
             [
              0.4444444444444444,
              "#bd3786"
             ],
             [
              0.5555555555555556,
              "#d8576b"
             ],
             [
              0.6666666666666666,
              "#ed7953"
             ],
             [
              0.7777777777777778,
              "#fb9f3a"
             ],
             [
              0.8888888888888888,
              "#fdca26"
             ],
             [
              1,
              "#f0f921"
             ]
            ],
            "type": "contour"
           }
          ],
          "contourcarpet": [
           {
            "colorbar": {
             "outlinewidth": 0,
             "ticks": ""
            },
            "type": "contourcarpet"
           }
          ],
          "heatmap": [
           {
            "colorbar": {
             "outlinewidth": 0,
             "ticks": ""
            },
            "colorscale": [
             [
              0,
              "#0d0887"
             ],
             [
              0.1111111111111111,
              "#46039f"
             ],
             [
              0.2222222222222222,
              "#7201a8"
             ],
             [
              0.3333333333333333,
              "#9c179e"
             ],
             [
              0.4444444444444444,
              "#bd3786"
             ],
             [
              0.5555555555555556,
              "#d8576b"
             ],
             [
              0.6666666666666666,
              "#ed7953"
             ],
             [
              0.7777777777777778,
              "#fb9f3a"
             ],
             [
              0.8888888888888888,
              "#fdca26"
             ],
             [
              1,
              "#f0f921"
             ]
            ],
            "type": "heatmap"
           }
          ],
          "histogram": [
           {
            "marker": {
             "pattern": {
              "fillmode": "overlay",
              "size": 10,
              "solidity": 0.2
             }
            },
            "type": "histogram"
           }
          ],
          "histogram2d": [
           {
            "colorbar": {
             "outlinewidth": 0,
             "ticks": ""
            },
            "colorscale": [
             [
              0,
              "#0d0887"
             ],
             [
              0.1111111111111111,
              "#46039f"
             ],
             [
              0.2222222222222222,
              "#7201a8"
             ],
             [
              0.3333333333333333,
              "#9c179e"
             ],
             [
              0.4444444444444444,
              "#bd3786"
             ],
             [
              0.5555555555555556,
              "#d8576b"
             ],
             [
              0.6666666666666666,
              "#ed7953"
             ],
             [
              0.7777777777777778,
              "#fb9f3a"
             ],
             [
              0.8888888888888888,
              "#fdca26"
             ],
             [
              1,
              "#f0f921"
             ]
            ],
            "type": "histogram2d"
           }
          ],
          "histogram2dcontour": [
           {
            "colorbar": {
             "outlinewidth": 0,
             "ticks": ""
            },
            "colorscale": [
             [
              0,
              "#0d0887"
             ],
             [
              0.1111111111111111,
              "#46039f"
             ],
             [
              0.2222222222222222,
              "#7201a8"
             ],
             [
              0.3333333333333333,
              "#9c179e"
             ],
             [
              0.4444444444444444,
              "#bd3786"
             ],
             [
              0.5555555555555556,
              "#d8576b"
             ],
             [
              0.6666666666666666,
              "#ed7953"
             ],
             [
              0.7777777777777778,
              "#fb9f3a"
             ],
             [
              0.8888888888888888,
              "#fdca26"
             ],
             [
              1,
              "#f0f921"
             ]
            ],
            "type": "histogram2dcontour"
           }
          ],
          "mesh3d": [
           {
            "colorbar": {
             "outlinewidth": 0,
             "ticks": ""
            },
            "type": "mesh3d"
           }
          ],
          "parcoords": [
           {
            "line": {
             "colorbar": {
              "outlinewidth": 0,
              "ticks": ""
             }
            },
            "type": "parcoords"
           }
          ],
          "pie": [
           {
            "automargin": true,
            "type": "pie"
           }
          ],
          "scatter": [
           {
            "fillpattern": {
             "fillmode": "overlay",
             "size": 10,
             "solidity": 0.2
            },
            "type": "scatter"
           }
          ],
          "scatter3d": [
           {
            "line": {
             "colorbar": {
              "outlinewidth": 0,
              "ticks": ""
             }
            },
            "marker": {
             "colorbar": {
              "outlinewidth": 0,
              "ticks": ""
             }
            },
            "type": "scatter3d"
           }
          ],
          "scattercarpet": [
           {
            "marker": {
             "colorbar": {
              "outlinewidth": 0,
              "ticks": ""
             }
            },
            "type": "scattercarpet"
           }
          ],
          "scattergeo": [
           {
            "marker": {
             "colorbar": {
              "outlinewidth": 0,
              "ticks": ""
             }
            },
            "type": "scattergeo"
           }
          ],
          "scattergl": [
           {
            "marker": {
             "colorbar": {
              "outlinewidth": 0,
              "ticks": ""
             }
            },
            "type": "scattergl"
           }
          ],
          "scattermap": [
           {
            "marker": {
             "colorbar": {
              "outlinewidth": 0,
              "ticks": ""
             }
            },
            "type": "scattermap"
           }
          ],
          "scattermapbox": [
           {
            "marker": {
             "colorbar": {
              "outlinewidth": 0,
              "ticks": ""
             }
            },
            "type": "scattermapbox"
           }
          ],
          "scatterpolar": [
           {
            "marker": {
             "colorbar": {
              "outlinewidth": 0,
              "ticks": ""
             }
            },
            "type": "scatterpolar"
           }
          ],
          "scatterpolargl": [
           {
            "marker": {
             "colorbar": {
              "outlinewidth": 0,
              "ticks": ""
             }
            },
            "type": "scatterpolargl"
           }
          ],
          "scatterternary": [
           {
            "marker": {
             "colorbar": {
              "outlinewidth": 0,
              "ticks": ""
             }
            },
            "type": "scatterternary"
           }
          ],
          "surface": [
           {
            "colorbar": {
             "outlinewidth": 0,
             "ticks": ""
            },
            "colorscale": [
             [
              0,
              "#0d0887"
             ],
             [
              0.1111111111111111,
              "#46039f"
             ],
             [
              0.2222222222222222,
              "#7201a8"
             ],
             [
              0.3333333333333333,
              "#9c179e"
             ],
             [
              0.4444444444444444,
              "#bd3786"
             ],
             [
              0.5555555555555556,
              "#d8576b"
             ],
             [
              0.6666666666666666,
              "#ed7953"
             ],
             [
              0.7777777777777778,
              "#fb9f3a"
             ],
             [
              0.8888888888888888,
              "#fdca26"
             ],
             [
              1,
              "#f0f921"
             ]
            ],
            "type": "surface"
           }
          ],
          "table": [
           {
            "cells": {
             "fill": {
              "color": "#EBF0F8"
             },
             "line": {
              "color": "white"
             }
            },
            "header": {
             "fill": {
              "color": "#C8D4E3"
             },
             "line": {
              "color": "white"
             }
            },
            "type": "table"
           }
          ]
         },
         "layout": {
          "annotationdefaults": {
           "arrowcolor": "#2a3f5f",
           "arrowhead": 0,
           "arrowwidth": 1
          },
          "autotypenumbers": "strict",
          "coloraxis": {
           "colorbar": {
            "outlinewidth": 0,
            "ticks": ""
           }
          },
          "colorscale": {
           "diverging": [
            [
             0,
             "#8e0152"
            ],
            [
             0.1,
             "#c51b7d"
            ],
            [
             0.2,
             "#de77ae"
            ],
            [
             0.3,
             "#f1b6da"
            ],
            [
             0.4,
             "#fde0ef"
            ],
            [
             0.5,
             "#f7f7f7"
            ],
            [
             0.6,
             "#e6f5d0"
            ],
            [
             0.7,
             "#b8e186"
            ],
            [
             0.8,
             "#7fbc41"
            ],
            [
             0.9,
             "#4d9221"
            ],
            [
             1,
             "#276419"
            ]
           ],
           "sequential": [
            [
             0,
             "#0d0887"
            ],
            [
             0.1111111111111111,
             "#46039f"
            ],
            [
             0.2222222222222222,
             "#7201a8"
            ],
            [
             0.3333333333333333,
             "#9c179e"
            ],
            [
             0.4444444444444444,
             "#bd3786"
            ],
            [
             0.5555555555555556,
             "#d8576b"
            ],
            [
             0.6666666666666666,
             "#ed7953"
            ],
            [
             0.7777777777777778,
             "#fb9f3a"
            ],
            [
             0.8888888888888888,
             "#fdca26"
            ],
            [
             1,
             "#f0f921"
            ]
           ],
           "sequentialminus": [
            [
             0,
             "#0d0887"
            ],
            [
             0.1111111111111111,
             "#46039f"
            ],
            [
             0.2222222222222222,
             "#7201a8"
            ],
            [
             0.3333333333333333,
             "#9c179e"
            ],
            [
             0.4444444444444444,
             "#bd3786"
            ],
            [
             0.5555555555555556,
             "#d8576b"
            ],
            [
             0.6666666666666666,
             "#ed7953"
            ],
            [
             0.7777777777777778,
             "#fb9f3a"
            ],
            [
             0.8888888888888888,
             "#fdca26"
            ],
            [
             1,
             "#f0f921"
            ]
           ]
          },
          "colorway": [
           "#636efa",
           "#EF553B",
           "#00cc96",
           "#ab63fa",
           "#FFA15A",
           "#19d3f3",
           "#FF6692",
           "#B6E880",
           "#FF97FF",
           "#FECB52"
          ],
          "font": {
           "color": "#2a3f5f"
          },
          "geo": {
           "bgcolor": "white",
           "lakecolor": "white",
           "landcolor": "#E5ECF6",
           "showlakes": true,
           "showland": true,
           "subunitcolor": "white"
          },
          "hoverlabel": {
           "align": "left"
          },
          "hovermode": "closest",
          "mapbox": {
           "style": "light"
          },
          "paper_bgcolor": "white",
          "plot_bgcolor": "#E5ECF6",
          "polar": {
           "angularaxis": {
            "gridcolor": "white",
            "linecolor": "white",
            "ticks": ""
           },
           "bgcolor": "#E5ECF6",
           "radialaxis": {
            "gridcolor": "white",
            "linecolor": "white",
            "ticks": ""
           }
          },
          "scene": {
           "xaxis": {
            "backgroundcolor": "#E5ECF6",
            "gridcolor": "white",
            "gridwidth": 2,
            "linecolor": "white",
            "showbackground": true,
            "ticks": "",
            "zerolinecolor": "white"
           },
           "yaxis": {
            "backgroundcolor": "#E5ECF6",
            "gridcolor": "white",
            "gridwidth": 2,
            "linecolor": "white",
            "showbackground": true,
            "ticks": "",
            "zerolinecolor": "white"
           },
           "zaxis": {
            "backgroundcolor": "#E5ECF6",
            "gridcolor": "white",
            "gridwidth": 2,
            "linecolor": "white",
            "showbackground": true,
            "ticks": "",
            "zerolinecolor": "white"
           }
          },
          "shapedefaults": {
           "line": {
            "color": "#2a3f5f"
           }
          },
          "ternary": {
           "aaxis": {
            "gridcolor": "white",
            "linecolor": "white",
            "ticks": ""
           },
           "baxis": {
            "gridcolor": "white",
            "linecolor": "white",
            "ticks": ""
           },
           "bgcolor": "#E5ECF6",
           "caxis": {
            "gridcolor": "white",
            "linecolor": "white",
            "ticks": ""
           }
          },
          "title": {
           "x": 0.05
          },
          "xaxis": {
           "automargin": true,
           "gridcolor": "white",
           "linecolor": "white",
           "ticks": "",
           "title": {
            "standoff": 15
           },
           "zerolinecolor": "white",
           "zerolinewidth": 2
          },
          "yaxis": {
           "automargin": true,
           "gridcolor": "white",
           "linecolor": "white",
           "ticks": "",
           "title": {
            "standoff": 15
           },
           "zerolinecolor": "white",
           "zerolinewidth": 2
          }
         }
        },
        "title": {
         "text": "Total Count of Customer type"
        },
        "xaxis": {
         "anchor": "y",
         "domain": [
          0,
          1
         ],
         "title": {
          "text": "Branch"
         }
        },
        "yaxis": {
         "anchor": "x",
         "domain": [
          0,
          1
         ],
         "title": {
          "text": "count"
         }
        }
       }
      }
     },
     "metadata": {},
     "output_type": "display_data"
    }
   ],
   "source": [
    "fig = px.histogram(df,x='Branch',\n",
    "          barmode='group',\n",
    "          color='Gender',\n",
    "          title='Total Count of Customer type') # Histograma\n",
    "fig.show() "
   ]
  },
  {
   "cell_type": "markdown",
   "id": "77ed3b88",
   "metadata": {},
   "source": [
    "Relación Product Line con Unit Price"
   ]
  },
  {
   "cell_type": "code",
   "execution_count": 106,
   "id": "32b18440",
   "metadata": {},
   "outputs": [
    {
     "data": {
      "text/html": [
       "<div>\n",
       "<style scoped>\n",
       "    .dataframe tbody tr th:only-of-type {\n",
       "        vertical-align: middle;\n",
       "    }\n",
       "\n",
       "    .dataframe tbody tr th {\n",
       "        vertical-align: top;\n",
       "    }\n",
       "\n",
       "    .dataframe thead th {\n",
       "        text-align: right;\n",
       "    }\n",
       "</style>\n",
       "<table border=\"1\" class=\"dataframe\">\n",
       "  <thead>\n",
       "    <tr style=\"text-align: right;\">\n",
       "      <th></th>\n",
       "      <th>Product line</th>\n",
       "      <th>Gender</th>\n",
       "      <th>Unit_price</th>\n",
       "      <th>total_unit_price</th>\n",
       "      <th>percentage</th>\n",
       "    </tr>\n",
       "  </thead>\n",
       "  <tbody>\n",
       "    <tr>\n",
       "      <th>0</th>\n",
       "      <td>Electronic accessories</td>\n",
       "      <td>Female</td>\n",
       "      <td>4372.33</td>\n",
       "      <td>9103.77</td>\n",
       "      <td>0.480277</td>\n",
       "    </tr>\n",
       "    <tr>\n",
       "      <th>1</th>\n",
       "      <td>Electronic accessories</td>\n",
       "      <td>Male</td>\n",
       "      <td>4731.44</td>\n",
       "      <td>9103.77</td>\n",
       "      <td>0.519723</td>\n",
       "    </tr>\n",
       "    <tr>\n",
       "      <th>2</th>\n",
       "      <td>Fashion accessories</td>\n",
       "      <td>Female</td>\n",
       "      <td>5330.59</td>\n",
       "      <td>10173.35</td>\n",
       "      <td>0.523976</td>\n",
       "    </tr>\n",
       "    <tr>\n",
       "      <th>3</th>\n",
       "      <td>Fashion accessories</td>\n",
       "      <td>Male</td>\n",
       "      <td>4842.76</td>\n",
       "      <td>10173.35</td>\n",
       "      <td>0.476024</td>\n",
       "    </tr>\n",
       "    <tr>\n",
       "      <th>4</th>\n",
       "      <td>Food and beverages</td>\n",
       "      <td>Female</td>\n",
       "      <td>5408.13</td>\n",
       "      <td>9745.54</td>\n",
       "      <td>0.554934</td>\n",
       "    </tr>\n",
       "    <tr>\n",
       "      <th>5</th>\n",
       "      <td>Food and beverages</td>\n",
       "      <td>Male</td>\n",
       "      <td>4337.41</td>\n",
       "      <td>9745.54</td>\n",
       "      <td>0.445066</td>\n",
       "    </tr>\n",
       "    <tr>\n",
       "      <th>6</th>\n",
       "      <td>Health and beauty</td>\n",
       "      <td>Female</td>\n",
       "      <td>3269.71</td>\n",
       "      <td>8337.88</td>\n",
       "      <td>0.392151</td>\n",
       "    </tr>\n",
       "    <tr>\n",
       "      <th>7</th>\n",
       "      <td>Health and beauty</td>\n",
       "      <td>Male</td>\n",
       "      <td>5068.17</td>\n",
       "      <td>8337.88</td>\n",
       "      <td>0.607849</td>\n",
       "    </tr>\n",
       "    <tr>\n",
       "      <th>8</th>\n",
       "      <td>Home and lifestyle</td>\n",
       "      <td>Female</td>\n",
       "      <td>4522.16</td>\n",
       "      <td>8850.71</td>\n",
       "      <td>0.510938</td>\n",
       "    </tr>\n",
       "    <tr>\n",
       "      <th>9</th>\n",
       "      <td>Home and lifestyle</td>\n",
       "      <td>Male</td>\n",
       "      <td>4328.55</td>\n",
       "      <td>8850.71</td>\n",
       "      <td>0.489062</td>\n",
       "    </tr>\n",
       "    <tr>\n",
       "      <th>10</th>\n",
       "      <td>Sports and travel</td>\n",
       "      <td>Female</td>\n",
       "      <td>4784.32</td>\n",
       "      <td>9460.88</td>\n",
       "      <td>0.505695</td>\n",
       "    </tr>\n",
       "    <tr>\n",
       "      <th>11</th>\n",
       "      <td>Sports and travel</td>\n",
       "      <td>Male</td>\n",
       "      <td>4676.56</td>\n",
       "      <td>9460.88</td>\n",
       "      <td>0.494305</td>\n",
       "    </tr>\n",
       "  </tbody>\n",
       "</table>\n",
       "</div>"
      ],
      "text/plain": [
       "              Product line  Gender  Unit_price  total_unit_price  percentage\n",
       "0   Electronic accessories  Female     4372.33           9103.77    0.480277\n",
       "1   Electronic accessories    Male     4731.44           9103.77    0.519723\n",
       "2      Fashion accessories  Female     5330.59          10173.35    0.523976\n",
       "3      Fashion accessories    Male     4842.76          10173.35    0.476024\n",
       "4       Food and beverages  Female     5408.13           9745.54    0.554934\n",
       "5       Food and beverages    Male     4337.41           9745.54    0.445066\n",
       "6        Health and beauty  Female     3269.71           8337.88    0.392151\n",
       "7        Health and beauty    Male     5068.17           8337.88    0.607849\n",
       "8       Home and lifestyle  Female     4522.16           8850.71    0.510938\n",
       "9       Home and lifestyle    Male     4328.55           8850.71    0.489062\n",
       "10       Sports and travel  Female     4784.32           9460.88    0.505695\n",
       "11       Sports and travel    Male     4676.56           9460.88    0.494305"
      ]
     },
     "execution_count": 106,
     "metadata": {},
     "output_type": "execute_result"
    }
   ],
   "source": [
    "df_grouped =df.groupby(['Product line','Gender'],as_index=False).agg(Unit_price = ('Unit price', 'sum'))\n",
    "df_grouped_total =df.groupby(['Product line'],as_index=False).agg(total_unit_price = ('Unit price', 'sum'))\n",
    "df_grouped = pd.merge(df_grouped, df_grouped_total, on='Product line', how='inner')\n",
    "df_grouped['percentage'] = df_grouped['Unit_price'] / df_grouped['total_unit_price']\n",
    "df_grouped"
   ]
  },
  {
   "cell_type": "code",
   "execution_count": 104,
   "id": "01bb30c8",
   "metadata": {},
   "outputs": [
    {
     "data": {
      "application/vnd.plotly.v1+json": {
       "config": {
        "plotlyServerURL": "https://plot.ly"
       },
       "data": [
        {
         "alignmentgroup": "True",
         "hovertemplate": "Gender=Female<br>Product line=%{x}<br>Unit_price=%{y}<extra></extra>",
         "legendgroup": "Female",
         "marker": {
          "color": "#636efa",
          "pattern": {
           "shape": ""
          }
         },
         "name": "Female",
         "offsetgroup": "Female",
         "orientation": "v",
         "showlegend": true,
         "textposition": "auto",
         "type": "bar",
         "x": [
          "Electronic accessories",
          "Fashion accessories",
          "Food and beverages",
          "Health and beauty",
          "Home and lifestyle",
          "Sports and travel"
         ],
         "xaxis": "x",
         "y": {
          "bdata": "rkfhelQUsUCkcD0Kl9K0QHsUrkchILVAUrgehWuLqUBcj8L1KKqxQLgehetRsLJA",
          "dtype": "f8"
         },
         "yaxis": "y"
        },
        {
         "alignmentgroup": "True",
         "hovertemplate": "Gender=Male<br>Product line=%{x}<br>Unit_price=%{y}<extra></extra>",
         "legendgroup": "Male",
         "marker": {
          "color": "#EF553B",
          "pattern": {
           "shape": ""
          }
         },
         "name": "Male",
         "offsetgroup": "Male",
         "orientation": "v",
         "showlegend": true,
         "textposition": "auto",
         "type": "bar",
         "x": [
          "Electronic accessories",
          "Fashion accessories",
          "Food and beverages",
          "Health and beauty",
          "Home and lifestyle",
          "Sports and travel"
         ],
         "xaxis": "x",
         "y": {
          "bdata": "PQrXo3B7skD2KFyPwuqyQFyPwvVo8bBAUrgehSvMs0DNzMzMjOiwQMP1KFyPRLJA",
          "dtype": "f8"
         },
         "yaxis": "y"
        }
       ],
       "layout": {
        "barmode": "group",
        "legend": {
         "title": {
          "text": "Gender"
         },
         "tracegroupgap": 0
        },
        "template": {
         "data": {
          "bar": [
           {
            "error_x": {
             "color": "#2a3f5f"
            },
            "error_y": {
             "color": "#2a3f5f"
            },
            "marker": {
             "line": {
              "color": "#E5ECF6",
              "width": 0.5
             },
             "pattern": {
              "fillmode": "overlay",
              "size": 10,
              "solidity": 0.2
             }
            },
            "type": "bar"
           }
          ],
          "barpolar": [
           {
            "marker": {
             "line": {
              "color": "#E5ECF6",
              "width": 0.5
             },
             "pattern": {
              "fillmode": "overlay",
              "size": 10,
              "solidity": 0.2
             }
            },
            "type": "barpolar"
           }
          ],
          "carpet": [
           {
            "aaxis": {
             "endlinecolor": "#2a3f5f",
             "gridcolor": "white",
             "linecolor": "white",
             "minorgridcolor": "white",
             "startlinecolor": "#2a3f5f"
            },
            "baxis": {
             "endlinecolor": "#2a3f5f",
             "gridcolor": "white",
             "linecolor": "white",
             "minorgridcolor": "white",
             "startlinecolor": "#2a3f5f"
            },
            "type": "carpet"
           }
          ],
          "choropleth": [
           {
            "colorbar": {
             "outlinewidth": 0,
             "ticks": ""
            },
            "type": "choropleth"
           }
          ],
          "contour": [
           {
            "colorbar": {
             "outlinewidth": 0,
             "ticks": ""
            },
            "colorscale": [
             [
              0,
              "#0d0887"
             ],
             [
              0.1111111111111111,
              "#46039f"
             ],
             [
              0.2222222222222222,
              "#7201a8"
             ],
             [
              0.3333333333333333,
              "#9c179e"
             ],
             [
              0.4444444444444444,
              "#bd3786"
             ],
             [
              0.5555555555555556,
              "#d8576b"
             ],
             [
              0.6666666666666666,
              "#ed7953"
             ],
             [
              0.7777777777777778,
              "#fb9f3a"
             ],
             [
              0.8888888888888888,
              "#fdca26"
             ],
             [
              1,
              "#f0f921"
             ]
            ],
            "type": "contour"
           }
          ],
          "contourcarpet": [
           {
            "colorbar": {
             "outlinewidth": 0,
             "ticks": ""
            },
            "type": "contourcarpet"
           }
          ],
          "heatmap": [
           {
            "colorbar": {
             "outlinewidth": 0,
             "ticks": ""
            },
            "colorscale": [
             [
              0,
              "#0d0887"
             ],
             [
              0.1111111111111111,
              "#46039f"
             ],
             [
              0.2222222222222222,
              "#7201a8"
             ],
             [
              0.3333333333333333,
              "#9c179e"
             ],
             [
              0.4444444444444444,
              "#bd3786"
             ],
             [
              0.5555555555555556,
              "#d8576b"
             ],
             [
              0.6666666666666666,
              "#ed7953"
             ],
             [
              0.7777777777777778,
              "#fb9f3a"
             ],
             [
              0.8888888888888888,
              "#fdca26"
             ],
             [
              1,
              "#f0f921"
             ]
            ],
            "type": "heatmap"
           }
          ],
          "histogram": [
           {
            "marker": {
             "pattern": {
              "fillmode": "overlay",
              "size": 10,
              "solidity": 0.2
             }
            },
            "type": "histogram"
           }
          ],
          "histogram2d": [
           {
            "colorbar": {
             "outlinewidth": 0,
             "ticks": ""
            },
            "colorscale": [
             [
              0,
              "#0d0887"
             ],
             [
              0.1111111111111111,
              "#46039f"
             ],
             [
              0.2222222222222222,
              "#7201a8"
             ],
             [
              0.3333333333333333,
              "#9c179e"
             ],
             [
              0.4444444444444444,
              "#bd3786"
             ],
             [
              0.5555555555555556,
              "#d8576b"
             ],
             [
              0.6666666666666666,
              "#ed7953"
             ],
             [
              0.7777777777777778,
              "#fb9f3a"
             ],
             [
              0.8888888888888888,
              "#fdca26"
             ],
             [
              1,
              "#f0f921"
             ]
            ],
            "type": "histogram2d"
           }
          ],
          "histogram2dcontour": [
           {
            "colorbar": {
             "outlinewidth": 0,
             "ticks": ""
            },
            "colorscale": [
             [
              0,
              "#0d0887"
             ],
             [
              0.1111111111111111,
              "#46039f"
             ],
             [
              0.2222222222222222,
              "#7201a8"
             ],
             [
              0.3333333333333333,
              "#9c179e"
             ],
             [
              0.4444444444444444,
              "#bd3786"
             ],
             [
              0.5555555555555556,
              "#d8576b"
             ],
             [
              0.6666666666666666,
              "#ed7953"
             ],
             [
              0.7777777777777778,
              "#fb9f3a"
             ],
             [
              0.8888888888888888,
              "#fdca26"
             ],
             [
              1,
              "#f0f921"
             ]
            ],
            "type": "histogram2dcontour"
           }
          ],
          "mesh3d": [
           {
            "colorbar": {
             "outlinewidth": 0,
             "ticks": ""
            },
            "type": "mesh3d"
           }
          ],
          "parcoords": [
           {
            "line": {
             "colorbar": {
              "outlinewidth": 0,
              "ticks": ""
             }
            },
            "type": "parcoords"
           }
          ],
          "pie": [
           {
            "automargin": true,
            "type": "pie"
           }
          ],
          "scatter": [
           {
            "fillpattern": {
             "fillmode": "overlay",
             "size": 10,
             "solidity": 0.2
            },
            "type": "scatter"
           }
          ],
          "scatter3d": [
           {
            "line": {
             "colorbar": {
              "outlinewidth": 0,
              "ticks": ""
             }
            },
            "marker": {
             "colorbar": {
              "outlinewidth": 0,
              "ticks": ""
             }
            },
            "type": "scatter3d"
           }
          ],
          "scattercarpet": [
           {
            "marker": {
             "colorbar": {
              "outlinewidth": 0,
              "ticks": ""
             }
            },
            "type": "scattercarpet"
           }
          ],
          "scattergeo": [
           {
            "marker": {
             "colorbar": {
              "outlinewidth": 0,
              "ticks": ""
             }
            },
            "type": "scattergeo"
           }
          ],
          "scattergl": [
           {
            "marker": {
             "colorbar": {
              "outlinewidth": 0,
              "ticks": ""
             }
            },
            "type": "scattergl"
           }
          ],
          "scattermap": [
           {
            "marker": {
             "colorbar": {
              "outlinewidth": 0,
              "ticks": ""
             }
            },
            "type": "scattermap"
           }
          ],
          "scattermapbox": [
           {
            "marker": {
             "colorbar": {
              "outlinewidth": 0,
              "ticks": ""
             }
            },
            "type": "scattermapbox"
           }
          ],
          "scatterpolar": [
           {
            "marker": {
             "colorbar": {
              "outlinewidth": 0,
              "ticks": ""
             }
            },
            "type": "scatterpolar"
           }
          ],
          "scatterpolargl": [
           {
            "marker": {
             "colorbar": {
              "outlinewidth": 0,
              "ticks": ""
             }
            },
            "type": "scatterpolargl"
           }
          ],
          "scatterternary": [
           {
            "marker": {
             "colorbar": {
              "outlinewidth": 0,
              "ticks": ""
             }
            },
            "type": "scatterternary"
           }
          ],
          "surface": [
           {
            "colorbar": {
             "outlinewidth": 0,
             "ticks": ""
            },
            "colorscale": [
             [
              0,
              "#0d0887"
             ],
             [
              0.1111111111111111,
              "#46039f"
             ],
             [
              0.2222222222222222,
              "#7201a8"
             ],
             [
              0.3333333333333333,
              "#9c179e"
             ],
             [
              0.4444444444444444,
              "#bd3786"
             ],
             [
              0.5555555555555556,
              "#d8576b"
             ],
             [
              0.6666666666666666,
              "#ed7953"
             ],
             [
              0.7777777777777778,
              "#fb9f3a"
             ],
             [
              0.8888888888888888,
              "#fdca26"
             ],
             [
              1,
              "#f0f921"
             ]
            ],
            "type": "surface"
           }
          ],
          "table": [
           {
            "cells": {
             "fill": {
              "color": "#EBF0F8"
             },
             "line": {
              "color": "white"
             }
            },
            "header": {
             "fill": {
              "color": "#C8D4E3"
             },
             "line": {
              "color": "white"
             }
            },
            "type": "table"
           }
          ]
         },
         "layout": {
          "annotationdefaults": {
           "arrowcolor": "#2a3f5f",
           "arrowhead": 0,
           "arrowwidth": 1
          },
          "autotypenumbers": "strict",
          "coloraxis": {
           "colorbar": {
            "outlinewidth": 0,
            "ticks": ""
           }
          },
          "colorscale": {
           "diverging": [
            [
             0,
             "#8e0152"
            ],
            [
             0.1,
             "#c51b7d"
            ],
            [
             0.2,
             "#de77ae"
            ],
            [
             0.3,
             "#f1b6da"
            ],
            [
             0.4,
             "#fde0ef"
            ],
            [
             0.5,
             "#f7f7f7"
            ],
            [
             0.6,
             "#e6f5d0"
            ],
            [
             0.7,
             "#b8e186"
            ],
            [
             0.8,
             "#7fbc41"
            ],
            [
             0.9,
             "#4d9221"
            ],
            [
             1,
             "#276419"
            ]
           ],
           "sequential": [
            [
             0,
             "#0d0887"
            ],
            [
             0.1111111111111111,
             "#46039f"
            ],
            [
             0.2222222222222222,
             "#7201a8"
            ],
            [
             0.3333333333333333,
             "#9c179e"
            ],
            [
             0.4444444444444444,
             "#bd3786"
            ],
            [
             0.5555555555555556,
             "#d8576b"
            ],
            [
             0.6666666666666666,
             "#ed7953"
            ],
            [
             0.7777777777777778,
             "#fb9f3a"
            ],
            [
             0.8888888888888888,
             "#fdca26"
            ],
            [
             1,
             "#f0f921"
            ]
           ],
           "sequentialminus": [
            [
             0,
             "#0d0887"
            ],
            [
             0.1111111111111111,
             "#46039f"
            ],
            [
             0.2222222222222222,
             "#7201a8"
            ],
            [
             0.3333333333333333,
             "#9c179e"
            ],
            [
             0.4444444444444444,
             "#bd3786"
            ],
            [
             0.5555555555555556,
             "#d8576b"
            ],
            [
             0.6666666666666666,
             "#ed7953"
            ],
            [
             0.7777777777777778,
             "#fb9f3a"
            ],
            [
             0.8888888888888888,
             "#fdca26"
            ],
            [
             1,
             "#f0f921"
            ]
           ]
          },
          "colorway": [
           "#636efa",
           "#EF553B",
           "#00cc96",
           "#ab63fa",
           "#FFA15A",
           "#19d3f3",
           "#FF6692",
           "#B6E880",
           "#FF97FF",
           "#FECB52"
          ],
          "font": {
           "color": "#2a3f5f"
          },
          "geo": {
           "bgcolor": "white",
           "lakecolor": "white",
           "landcolor": "#E5ECF6",
           "showlakes": true,
           "showland": true,
           "subunitcolor": "white"
          },
          "hoverlabel": {
           "align": "left"
          },
          "hovermode": "closest",
          "mapbox": {
           "style": "light"
          },
          "paper_bgcolor": "white",
          "plot_bgcolor": "#E5ECF6",
          "polar": {
           "angularaxis": {
            "gridcolor": "white",
            "linecolor": "white",
            "ticks": ""
           },
           "bgcolor": "#E5ECF6",
           "radialaxis": {
            "gridcolor": "white",
            "linecolor": "white",
            "ticks": ""
           }
          },
          "scene": {
           "xaxis": {
            "backgroundcolor": "#E5ECF6",
            "gridcolor": "white",
            "gridwidth": 2,
            "linecolor": "white",
            "showbackground": true,
            "ticks": "",
            "zerolinecolor": "white"
           },
           "yaxis": {
            "backgroundcolor": "#E5ECF6",
            "gridcolor": "white",
            "gridwidth": 2,
            "linecolor": "white",
            "showbackground": true,
            "ticks": "",
            "zerolinecolor": "white"
           },
           "zaxis": {
            "backgroundcolor": "#E5ECF6",
            "gridcolor": "white",
            "gridwidth": 2,
            "linecolor": "white",
            "showbackground": true,
            "ticks": "",
            "zerolinecolor": "white"
           }
          },
          "shapedefaults": {
           "line": {
            "color": "#2a3f5f"
           }
          },
          "ternary": {
           "aaxis": {
            "gridcolor": "white",
            "linecolor": "white",
            "ticks": ""
           },
           "baxis": {
            "gridcolor": "white",
            "linecolor": "white",
            "ticks": ""
           },
           "bgcolor": "#E5ECF6",
           "caxis": {
            "gridcolor": "white",
            "linecolor": "white",
            "ticks": ""
           }
          },
          "title": {
           "x": 0.05
          },
          "xaxis": {
           "automargin": true,
           "gridcolor": "white",
           "linecolor": "white",
           "ticks": "",
           "title": {
            "standoff": 15
           },
           "zerolinecolor": "white",
           "zerolinewidth": 2
          },
          "yaxis": {
           "automargin": true,
           "gridcolor": "white",
           "linecolor": "white",
           "ticks": "",
           "title": {
            "standoff": 15
           },
           "zerolinecolor": "white",
           "zerolinewidth": 2
          }
         }
        },
        "title": {
         "text": "Unit prices of Product"
        },
        "uniformtext": {
         "minsize": 8
        },
        "xaxis": {
         "anchor": "y",
         "domain": [
          0,
          1
         ],
         "tickangle": -45,
         "title": {
          "text": "Product line"
         }
        },
        "yaxis": {
         "anchor": "x",
         "domain": [
          0,
          1
         ],
         "title": {
          "text": "Unit_price"
         }
        }
       }
      }
     },
     "metadata": {},
     "output_type": "display_data"
    }
   ],
   "source": [
    "fig = px.bar(df_grouped,x='Product line',y='Unit_price',title='Unit prices of Product',barmode='group', color='Gender') # Gráfico de barras\n",
    "fig.update_layout(uniformtext_minsize=8,xaxis_tickangle=-45)"
   ]
  },
  {
   "cell_type": "code",
   "execution_count": 108,
   "id": "cb1b4c78",
   "metadata": {},
   "outputs": [
    {
     "data": {
      "application/vnd.plotly.v1+json": {
       "config": {
        "plotlyServerURL": "https://plot.ly"
       },
       "data": [
        {
         "alignmentgroup": "True",
         "hovertemplate": "Gender=Female<br>Product line=%{x}<br>percentage=%{y}<extra></extra>",
         "legendgroup": "Female",
         "marker": {
          "color": "#636efa",
          "pattern": {
           "shape": ""
          }
         },
         "name": "Female",
         "offsetgroup": "Female",
         "orientation": "v",
         "showlegend": true,
         "textposition": "auto",
         "type": "bar",
         "x": [
          "Electronic accessories",
          "Fashion accessories",
          "Food and beverages",
          "Health and beauty",
          "Home and lifestyle",
          "Sports and travel"
         ],
         "xaxis": "x",
         "y": {
          "bdata": "+gt0H9u83j+Z0JEPacTgP3hwW6AEwuE/CAYshgEZ2T/pLmavmVngP/ihNVinLuA/",
          "dtype": "f8"
         },
         "yaxis": "y"
        },
        {
         "alignmentgroup": "True",
         "hovertemplate": "Gender=Male<br>Product line=%{x}<br>percentage=%{y}<extra></extra>",
         "legendgroup": "Male",
         "marker": {
          "color": "#EF553B",
          "pattern": {
           "shape": ""
          }
         },
         "name": "Male",
         "offsetgroup": "Male",
         "orientation": "v",
         "showlegend": true,
         "textposition": "auto",
         "type": "bar",
         "x": [
          "Electronic accessories",
          "Fashion accessories",
          "Food and beverages",
          "Health and beauty",
          "Home and lifestyle",
          "Sports and travel"
         ],
         "xaxis": "x",
         "y": {
          "bdata": "AvpFcJKh4D/PXtzgLXfePw4fSb/2e9w//fzpPH9z4z8vojOhzEzfPxG8lE+xot8/",
          "dtype": "f8"
         },
         "yaxis": "y"
        }
       ],
       "layout": {
        "barmode": "group",
        "legend": {
         "title": {
          "text": "Gender"
         },
         "tracegroupgap": 0
        },
        "template": {
         "data": {
          "bar": [
           {
            "error_x": {
             "color": "#2a3f5f"
            },
            "error_y": {
             "color": "#2a3f5f"
            },
            "marker": {
             "line": {
              "color": "#E5ECF6",
              "width": 0.5
             },
             "pattern": {
              "fillmode": "overlay",
              "size": 10,
              "solidity": 0.2
             }
            },
            "type": "bar"
           }
          ],
          "barpolar": [
           {
            "marker": {
             "line": {
              "color": "#E5ECF6",
              "width": 0.5
             },
             "pattern": {
              "fillmode": "overlay",
              "size": 10,
              "solidity": 0.2
             }
            },
            "type": "barpolar"
           }
          ],
          "carpet": [
           {
            "aaxis": {
             "endlinecolor": "#2a3f5f",
             "gridcolor": "white",
             "linecolor": "white",
             "minorgridcolor": "white",
             "startlinecolor": "#2a3f5f"
            },
            "baxis": {
             "endlinecolor": "#2a3f5f",
             "gridcolor": "white",
             "linecolor": "white",
             "minorgridcolor": "white",
             "startlinecolor": "#2a3f5f"
            },
            "type": "carpet"
           }
          ],
          "choropleth": [
           {
            "colorbar": {
             "outlinewidth": 0,
             "ticks": ""
            },
            "type": "choropleth"
           }
          ],
          "contour": [
           {
            "colorbar": {
             "outlinewidth": 0,
             "ticks": ""
            },
            "colorscale": [
             [
              0,
              "#0d0887"
             ],
             [
              0.1111111111111111,
              "#46039f"
             ],
             [
              0.2222222222222222,
              "#7201a8"
             ],
             [
              0.3333333333333333,
              "#9c179e"
             ],
             [
              0.4444444444444444,
              "#bd3786"
             ],
             [
              0.5555555555555556,
              "#d8576b"
             ],
             [
              0.6666666666666666,
              "#ed7953"
             ],
             [
              0.7777777777777778,
              "#fb9f3a"
             ],
             [
              0.8888888888888888,
              "#fdca26"
             ],
             [
              1,
              "#f0f921"
             ]
            ],
            "type": "contour"
           }
          ],
          "contourcarpet": [
           {
            "colorbar": {
             "outlinewidth": 0,
             "ticks": ""
            },
            "type": "contourcarpet"
           }
          ],
          "heatmap": [
           {
            "colorbar": {
             "outlinewidth": 0,
             "ticks": ""
            },
            "colorscale": [
             [
              0,
              "#0d0887"
             ],
             [
              0.1111111111111111,
              "#46039f"
             ],
             [
              0.2222222222222222,
              "#7201a8"
             ],
             [
              0.3333333333333333,
              "#9c179e"
             ],
             [
              0.4444444444444444,
              "#bd3786"
             ],
             [
              0.5555555555555556,
              "#d8576b"
             ],
             [
              0.6666666666666666,
              "#ed7953"
             ],
             [
              0.7777777777777778,
              "#fb9f3a"
             ],
             [
              0.8888888888888888,
              "#fdca26"
             ],
             [
              1,
              "#f0f921"
             ]
            ],
            "type": "heatmap"
           }
          ],
          "histogram": [
           {
            "marker": {
             "pattern": {
              "fillmode": "overlay",
              "size": 10,
              "solidity": 0.2
             }
            },
            "type": "histogram"
           }
          ],
          "histogram2d": [
           {
            "colorbar": {
             "outlinewidth": 0,
             "ticks": ""
            },
            "colorscale": [
             [
              0,
              "#0d0887"
             ],
             [
              0.1111111111111111,
              "#46039f"
             ],
             [
              0.2222222222222222,
              "#7201a8"
             ],
             [
              0.3333333333333333,
              "#9c179e"
             ],
             [
              0.4444444444444444,
              "#bd3786"
             ],
             [
              0.5555555555555556,
              "#d8576b"
             ],
             [
              0.6666666666666666,
              "#ed7953"
             ],
             [
              0.7777777777777778,
              "#fb9f3a"
             ],
             [
              0.8888888888888888,
              "#fdca26"
             ],
             [
              1,
              "#f0f921"
             ]
            ],
            "type": "histogram2d"
           }
          ],
          "histogram2dcontour": [
           {
            "colorbar": {
             "outlinewidth": 0,
             "ticks": ""
            },
            "colorscale": [
             [
              0,
              "#0d0887"
             ],
             [
              0.1111111111111111,
              "#46039f"
             ],
             [
              0.2222222222222222,
              "#7201a8"
             ],
             [
              0.3333333333333333,
              "#9c179e"
             ],
             [
              0.4444444444444444,
              "#bd3786"
             ],
             [
              0.5555555555555556,
              "#d8576b"
             ],
             [
              0.6666666666666666,
              "#ed7953"
             ],
             [
              0.7777777777777778,
              "#fb9f3a"
             ],
             [
              0.8888888888888888,
              "#fdca26"
             ],
             [
              1,
              "#f0f921"
             ]
            ],
            "type": "histogram2dcontour"
           }
          ],
          "mesh3d": [
           {
            "colorbar": {
             "outlinewidth": 0,
             "ticks": ""
            },
            "type": "mesh3d"
           }
          ],
          "parcoords": [
           {
            "line": {
             "colorbar": {
              "outlinewidth": 0,
              "ticks": ""
             }
            },
            "type": "parcoords"
           }
          ],
          "pie": [
           {
            "automargin": true,
            "type": "pie"
           }
          ],
          "scatter": [
           {
            "fillpattern": {
             "fillmode": "overlay",
             "size": 10,
             "solidity": 0.2
            },
            "type": "scatter"
           }
          ],
          "scatter3d": [
           {
            "line": {
             "colorbar": {
              "outlinewidth": 0,
              "ticks": ""
             }
            },
            "marker": {
             "colorbar": {
              "outlinewidth": 0,
              "ticks": ""
             }
            },
            "type": "scatter3d"
           }
          ],
          "scattercarpet": [
           {
            "marker": {
             "colorbar": {
              "outlinewidth": 0,
              "ticks": ""
             }
            },
            "type": "scattercarpet"
           }
          ],
          "scattergeo": [
           {
            "marker": {
             "colorbar": {
              "outlinewidth": 0,
              "ticks": ""
             }
            },
            "type": "scattergeo"
           }
          ],
          "scattergl": [
           {
            "marker": {
             "colorbar": {
              "outlinewidth": 0,
              "ticks": ""
             }
            },
            "type": "scattergl"
           }
          ],
          "scattermap": [
           {
            "marker": {
             "colorbar": {
              "outlinewidth": 0,
              "ticks": ""
             }
            },
            "type": "scattermap"
           }
          ],
          "scattermapbox": [
           {
            "marker": {
             "colorbar": {
              "outlinewidth": 0,
              "ticks": ""
             }
            },
            "type": "scattermapbox"
           }
          ],
          "scatterpolar": [
           {
            "marker": {
             "colorbar": {
              "outlinewidth": 0,
              "ticks": ""
             }
            },
            "type": "scatterpolar"
           }
          ],
          "scatterpolargl": [
           {
            "marker": {
             "colorbar": {
              "outlinewidth": 0,
              "ticks": ""
             }
            },
            "type": "scatterpolargl"
           }
          ],
          "scatterternary": [
           {
            "marker": {
             "colorbar": {
              "outlinewidth": 0,
              "ticks": ""
             }
            },
            "type": "scatterternary"
           }
          ],
          "surface": [
           {
            "colorbar": {
             "outlinewidth": 0,
             "ticks": ""
            },
            "colorscale": [
             [
              0,
              "#0d0887"
             ],
             [
              0.1111111111111111,
              "#46039f"
             ],
             [
              0.2222222222222222,
              "#7201a8"
             ],
             [
              0.3333333333333333,
              "#9c179e"
             ],
             [
              0.4444444444444444,
              "#bd3786"
             ],
             [
              0.5555555555555556,
              "#d8576b"
             ],
             [
              0.6666666666666666,
              "#ed7953"
             ],
             [
              0.7777777777777778,
              "#fb9f3a"
             ],
             [
              0.8888888888888888,
              "#fdca26"
             ],
             [
              1,
              "#f0f921"
             ]
            ],
            "type": "surface"
           }
          ],
          "table": [
           {
            "cells": {
             "fill": {
              "color": "#EBF0F8"
             },
             "line": {
              "color": "white"
             }
            },
            "header": {
             "fill": {
              "color": "#C8D4E3"
             },
             "line": {
              "color": "white"
             }
            },
            "type": "table"
           }
          ]
         },
         "layout": {
          "annotationdefaults": {
           "arrowcolor": "#2a3f5f",
           "arrowhead": 0,
           "arrowwidth": 1
          },
          "autotypenumbers": "strict",
          "coloraxis": {
           "colorbar": {
            "outlinewidth": 0,
            "ticks": ""
           }
          },
          "colorscale": {
           "diverging": [
            [
             0,
             "#8e0152"
            ],
            [
             0.1,
             "#c51b7d"
            ],
            [
             0.2,
             "#de77ae"
            ],
            [
             0.3,
             "#f1b6da"
            ],
            [
             0.4,
             "#fde0ef"
            ],
            [
             0.5,
             "#f7f7f7"
            ],
            [
             0.6,
             "#e6f5d0"
            ],
            [
             0.7,
             "#b8e186"
            ],
            [
             0.8,
             "#7fbc41"
            ],
            [
             0.9,
             "#4d9221"
            ],
            [
             1,
             "#276419"
            ]
           ],
           "sequential": [
            [
             0,
             "#0d0887"
            ],
            [
             0.1111111111111111,
             "#46039f"
            ],
            [
             0.2222222222222222,
             "#7201a8"
            ],
            [
             0.3333333333333333,
             "#9c179e"
            ],
            [
             0.4444444444444444,
             "#bd3786"
            ],
            [
             0.5555555555555556,
             "#d8576b"
            ],
            [
             0.6666666666666666,
             "#ed7953"
            ],
            [
             0.7777777777777778,
             "#fb9f3a"
            ],
            [
             0.8888888888888888,
             "#fdca26"
            ],
            [
             1,
             "#f0f921"
            ]
           ],
           "sequentialminus": [
            [
             0,
             "#0d0887"
            ],
            [
             0.1111111111111111,
             "#46039f"
            ],
            [
             0.2222222222222222,
             "#7201a8"
            ],
            [
             0.3333333333333333,
             "#9c179e"
            ],
            [
             0.4444444444444444,
             "#bd3786"
            ],
            [
             0.5555555555555556,
             "#d8576b"
            ],
            [
             0.6666666666666666,
             "#ed7953"
            ],
            [
             0.7777777777777778,
             "#fb9f3a"
            ],
            [
             0.8888888888888888,
             "#fdca26"
            ],
            [
             1,
             "#f0f921"
            ]
           ]
          },
          "colorway": [
           "#636efa",
           "#EF553B",
           "#00cc96",
           "#ab63fa",
           "#FFA15A",
           "#19d3f3",
           "#FF6692",
           "#B6E880",
           "#FF97FF",
           "#FECB52"
          ],
          "font": {
           "color": "#2a3f5f"
          },
          "geo": {
           "bgcolor": "white",
           "lakecolor": "white",
           "landcolor": "#E5ECF6",
           "showlakes": true,
           "showland": true,
           "subunitcolor": "white"
          },
          "hoverlabel": {
           "align": "left"
          },
          "hovermode": "closest",
          "mapbox": {
           "style": "light"
          },
          "paper_bgcolor": "white",
          "plot_bgcolor": "#E5ECF6",
          "polar": {
           "angularaxis": {
            "gridcolor": "white",
            "linecolor": "white",
            "ticks": ""
           },
           "bgcolor": "#E5ECF6",
           "radialaxis": {
            "gridcolor": "white",
            "linecolor": "white",
            "ticks": ""
           }
          },
          "scene": {
           "xaxis": {
            "backgroundcolor": "#E5ECF6",
            "gridcolor": "white",
            "gridwidth": 2,
            "linecolor": "white",
            "showbackground": true,
            "ticks": "",
            "zerolinecolor": "white"
           },
           "yaxis": {
            "backgroundcolor": "#E5ECF6",
            "gridcolor": "white",
            "gridwidth": 2,
            "linecolor": "white",
            "showbackground": true,
            "ticks": "",
            "zerolinecolor": "white"
           },
           "zaxis": {
            "backgroundcolor": "#E5ECF6",
            "gridcolor": "white",
            "gridwidth": 2,
            "linecolor": "white",
            "showbackground": true,
            "ticks": "",
            "zerolinecolor": "white"
           }
          },
          "shapedefaults": {
           "line": {
            "color": "#2a3f5f"
           }
          },
          "ternary": {
           "aaxis": {
            "gridcolor": "white",
            "linecolor": "white",
            "ticks": ""
           },
           "baxis": {
            "gridcolor": "white",
            "linecolor": "white",
            "ticks": ""
           },
           "bgcolor": "#E5ECF6",
           "caxis": {
            "gridcolor": "white",
            "linecolor": "white",
            "ticks": ""
           }
          },
          "title": {
           "x": 0.05
          },
          "xaxis": {
           "automargin": true,
           "gridcolor": "white",
           "linecolor": "white",
           "ticks": "",
           "title": {
            "standoff": 15
           },
           "zerolinecolor": "white",
           "zerolinewidth": 2
          },
          "yaxis": {
           "automargin": true,
           "gridcolor": "white",
           "linecolor": "white",
           "ticks": "",
           "title": {
            "standoff": 15
           },
           "zerolinecolor": "white",
           "zerolinewidth": 2
          }
         }
        },
        "title": {
         "text": "Valor relativo por categorias"
        },
        "uniformtext": {
         "minsize": 8
        },
        "xaxis": {
         "anchor": "y",
         "domain": [
          0,
          1
         ],
         "tickangle": -45,
         "title": {
          "text": "Product line"
         }
        },
        "yaxis": {
         "anchor": "x",
         "domain": [
          0,
          1
         ],
         "title": {
          "text": "percentage"
         }
        }
       }
      }
     },
     "metadata": {},
     "output_type": "display_data"
    }
   ],
   "source": [
    "# Valor relativo por categorias\n",
    "fig = px.bar(df_grouped,x='Product line',y='percentage',title='Valor relativo por categorias',barmode='group', color='Gender') # Gráfico de barras\n",
    "fig.update_layout(uniformtext_minsize=8,xaxis_tickangle=-45)"
   ]
  },
  {
   "cell_type": "markdown",
   "id": "ac62406c",
   "metadata": {},
   "source": [
    "Relación total por ciudad y por fecha"
   ]
  },
  {
   "cell_type": "code",
   "execution_count": null,
   "id": "962782c9",
   "metadata": {},
   "outputs": [
    {
     "data": {
      "application/vnd.plotly.v1+json": {
       "config": {
        "plotlyServerURL": "https://plot.ly"
       },
       "data": [
        {
         "hovertemplate": "City=%{x}<br>Date=1/5/2019<br>Total=%{y}<extra></extra>",
         "ids": [
          "A",
          "A",
          "A",
          "A",
          "A"
         ],
         "legendgroup": "Yangon",
         "marker": {
          "color": "#636efa",
          "pattern": {
           "shape": ""
          }
         },
         "name": "Yangon",
         "orientation": "v",
         "showlegend": true,
         "textposition": "auto",
         "type": "bar",
         "x": [
          "Yangon",
          "Yangon",
          "Yangon",
          "Yangon",
          "Yangon"
         ],
         "xaxis": "x",
         "y": {
          "bdata": "g8DKocUngUCuR+F6FHJwQH0/NV66kXJAexSuR+EobECgGi/dJJCFQA==",
          "dtype": "f8"
         },
         "yaxis": "y"
        },
        {
         "hovertemplate": "City=%{x}<br>Date=1/5/2019<br>Total=%{y}<extra></extra>",
         "ids": [
          "C",
          "C",
          "C",
          "C"
         ],
         "legendgroup": "Naypyitaw",
         "marker": {
          "color": "#EF553B",
          "pattern": {
           "shape": ""
          }
         },
         "name": "Naypyitaw",
         "orientation": "v",
         "showlegend": true,
         "textposition": "auto",
         "type": "bar",
         "x": [
          "Naypyitaw",
          "Naypyitaw",
          "Naypyitaw",
          "Naypyitaw"
         ],
         "xaxis": "x",
         "y": {
          "bdata": "K4cW2c6PZUCPwvUoXL9AQAIrhxbZ8m1ArBxaZLsegkA=",
          "dtype": "f8"
         },
         "yaxis": "y"
        },
        {
         "hovertemplate": "City=%{x}<br>Date=1/5/2019<br>Total=%{y}<extra></extra>",
         "ids": [
          "B",
          "B",
          "B"
         ],
         "legendgroup": "Mandalay",
         "marker": {
          "color": "#00cc96",
          "pattern": {
           "shape": ""
          }
         },
         "name": "Mandalay",
         "orientation": "v",
         "showlegend": true,
         "textposition": "auto",
         "type": "bar",
         "x": [
          "Mandalay",
          "Mandalay",
          "Mandalay"
         ],
         "xaxis": "x",
         "y": {
          "bdata": "+n5qvHTldEAnMQisHGpTQHE9CtejsFJA",
          "dtype": "f8"
         },
         "yaxis": "y"
        }
       ],
       "frames": [
        {
         "data": [
          {
           "hovertemplate": "City=%{x}<br>Date=1/5/2019<br>Total=%{y}<extra></extra>",
           "ids": [
            "A",
            "A",
            "A",
            "A",
            "A"
           ],
           "legendgroup": "Yangon",
           "marker": {
            "color": "#636efa",
            "pattern": {
             "shape": ""
            }
           },
           "name": "Yangon",
           "orientation": "v",
           "showlegend": true,
           "textposition": "auto",
           "type": "bar",
           "x": [
            "Yangon",
            "Yangon",
            "Yangon",
            "Yangon",
            "Yangon"
           ],
           "xaxis": "x",
           "y": {
            "bdata": "g8DKocUngUCuR+F6FHJwQH0/NV66kXJAexSuR+EobECgGi/dJJCFQA==",
            "dtype": "f8"
           },
           "yaxis": "y"
          },
          {
           "hovertemplate": "City=%{x}<br>Date=1/5/2019<br>Total=%{y}<extra></extra>",
           "ids": [
            "C",
            "C",
            "C",
            "C"
           ],
           "legendgroup": "Naypyitaw",
           "marker": {
            "color": "#EF553B",
            "pattern": {
             "shape": ""
            }
           },
           "name": "Naypyitaw",
           "orientation": "v",
           "showlegend": true,
           "textposition": "auto",
           "type": "bar",
           "x": [
            "Naypyitaw",
            "Naypyitaw",
            "Naypyitaw",
            "Naypyitaw"
           ],
           "xaxis": "x",
           "y": {
            "bdata": "K4cW2c6PZUCPwvUoXL9AQAIrhxbZ8m1ArBxaZLsegkA=",
            "dtype": "f8"
           },
           "yaxis": "y"
          },
          {
           "hovertemplate": "City=%{x}<br>Date=1/5/2019<br>Total=%{y}<extra></extra>",
           "ids": [
            "B",
            "B",
            "B"
           ],
           "legendgroup": "Mandalay",
           "marker": {
            "color": "#00cc96",
            "pattern": {
             "shape": ""
            }
           },
           "name": "Mandalay",
           "orientation": "v",
           "showlegend": true,
           "textposition": "auto",
           "type": "bar",
           "x": [
            "Mandalay",
            "Mandalay",
            "Mandalay"
           ],
           "xaxis": "x",
           "y": {
            "bdata": "+n5qvHTldEAnMQisHGpTQHE9CtejsFJA",
            "dtype": "f8"
           },
           "yaxis": "y"
          }
         ],
         "name": "1/5/2019"
        },
        {
         "data": [
          {
           "hovertemplate": "City=%{x}<br>Date=3/8/2019<br>Total=%{y}<extra></extra>",
           "ids": [
            "A",
            "A",
            "A",
            "A"
           ],
           "legendgroup": "Yangon",
           "marker": {
            "color": "#636efa",
            "pattern": {
             "shape": ""
            }
           },
           "name": "Yangon",
           "orientation": "v",
           "showlegend": true,
           "textposition": "auto",
           "type": "bar",
           "x": [
            "Yangon",
            "Yangon",
            "Yangon",
            "Yangon"
           ],
           "xaxis": "x",
           "y": {
            "bdata": "/tR46SaBWUBI4XoUrkR0QJqZmZmZvo1AqvHSTWLEakA=",
            "dtype": "f8"
           },
           "yaxis": "y"
          },
          {
           "hovertemplate": "City=%{x}<br>Date=3/8/2019<br>Total=%{y}<extra></extra>",
           "ids": [
            "C",
            "C",
            "C",
            "C",
            "C",
            "C"
           ],
           "legendgroup": "Naypyitaw",
           "marker": {
            "color": "#EF553B",
            "pattern": {
             "shape": ""
            }
           },
           "name": "Naypyitaw",
           "orientation": "v",
           "showlegend": true,
           "textposition": "auto",
           "type": "bar",
           "x": [
            "Naypyitaw",
            "Naypyitaw",
            "Naypyitaw",
            "Naypyitaw",
            "Naypyitaw",
            "Naypyitaw"
           ],
           "xaxis": "x",
           "y": {
            "bdata": "rkfhehQOVEDsUbgehQGAQF66SQwCN3JAZmZmZmakeEBzaJHtfLdWQDEIrBxa5FFA",
            "dtype": "f8"
           },
           "yaxis": "y"
          },
          {
           "hovertemplate": "City=%{x}<br>Date=3/8/2019<br>Total=%{y}<extra></extra>",
           "ids": [
            "B"
           ],
           "legendgroup": "Mandalay",
           "marker": {
            "color": "#00cc96",
            "pattern": {
             "shape": ""
            }
           },
           "name": "Mandalay",
           "orientation": "v",
           "showlegend": true,
           "textposition": "auto",
           "type": "bar",
           "x": [
            "Mandalay"
           ],
           "xaxis": "x",
           "y": {
            "bdata": "SOF6FK4jV0A=",
            "dtype": "f8"
           },
           "yaxis": "y"
          }
         ],
         "name": "3/8/2019"
        },
        {
         "data": [
          {
           "hovertemplate": "City=%{x}<br>Date=3/3/2019<br>Total=%{y}<extra></extra>",
           "ids": [
            "A",
            "A",
            "A",
            "A",
            "A"
           ],
           "legendgroup": "Yangon",
           "marker": {
            "color": "#636efa",
            "pattern": {
             "shape": ""
            }
           },
           "name": "Yangon",
           "orientation": "v",
           "showlegend": true,
           "textposition": "auto",
           "type": "bar",
           "x": [
            "Yangon",
            "Yangon",
            "Yangon",
            "Yangon",
            "Yangon"
           ],
           "xaxis": "x",
           "y": {
            "bdata": "xSCwcmhIdUCe76fGS0dnQAAAAAAAQDpA16NwPQqZakAv3SQGgV1IQA==",
            "dtype": "f8"
           },
           "yaxis": "y"
          },
          {
           "hovertemplate": "City=%{x}<br>Date=3/3/2019<br>Total=%{y}<extra></extra>",
           "ids": [
            "C",
            "C",
            "C",
            "C",
            "C",
            "C"
           ],
           "legendgroup": "Naypyitaw",
           "marker": {
            "color": "#EF553B",
            "pattern": {
             "shape": ""
            }
           },
           "name": "Naypyitaw",
           "orientation": "v",
           "showlegend": true,
           "textposition": "auto",
           "type": "bar",
           "x": [
            "Naypyitaw",
            "Naypyitaw",
            "Naypyitaw",
            "Naypyitaw",
            "Naypyitaw",
            "Naypyitaw"
           ],
           "xaxis": "x",
           "y": {
            "bdata": "FK5H4XrlikAUrkfheuRlQOF6FK5HCXFATmIQWDlSckBt5/up8Rp3QPYoXI/CtW9A",
            "dtype": "f8"
           },
           "yaxis": "y"
          },
          {
           "hovertemplate": "City=%{x}<br>Date=3/3/2019<br>Total=%{y}<extra></extra>",
           "ids": [
            "B",
            "B",
            "B"
           ],
           "legendgroup": "Mandalay",
           "marker": {
            "color": "#00cc96",
            "pattern": {
             "shape": ""
            }
           },
           "name": "Mandalay",
           "orientation": "v",
           "showlegend": true,
           "textposition": "auto",
           "type": "bar",
           "x": [
            "Mandalay",
            "Mandalay",
            "Mandalay"
           ],
           "xaxis": "x",
           "y": {
            "bdata": "x0s3iUGgb0B9PzVeus2IQDMzMzMz+IdA",
            "dtype": "f8"
           },
           "yaxis": "y"
          }
         ],
         "name": "3/3/2019"
        },
        {
         "data": [
          {
           "hovertemplate": "City=%{x}<br>Date=1/27/2019<br>Total=%{y}<extra></extra>",
           "ids": [
            "A",
            "A",
            "A",
            "A",
            "A",
            "A"
           ],
           "legendgroup": "Yangon",
           "marker": {
            "color": "#636efa",
            "pattern": {
             "shape": ""
            }
           },
           "name": "Yangon",
           "orientation": "v",
           "showlegend": true,
           "textposition": "auto",
           "type": "bar",
           "x": [
            "Yangon",
            "Yangon",
            "Yangon",
            "Yangon",
            "Yangon",
            "Yangon"
           ],
           "xaxis": "x",
           "y": {
            "bdata": "VOOlm8SQfkAAAAAAACplQBfZzvdTQzlAF9nO91PveEB3vp8aLxaAQFCNl24SO1NA",
            "dtype": "f8"
           },
           "yaxis": "y"
          },
          {
           "hovertemplate": "City=%{x}<br>Date=1/27/2019<br>Total=%{y}<extra></extra>",
           "ids": [
            "C",
            "C",
            "C",
            "C",
            "C",
            "C"
           ],
           "legendgroup": "Naypyitaw",
           "marker": {
            "color": "#EF553B",
            "pattern": {
             "shape": ""
            }
           },
           "name": "Naypyitaw",
           "orientation": "v",
           "showlegend": true,
           "textposition": "auto",
           "type": "bar",
           "x": [
            "Naypyitaw",
            "Naypyitaw",
            "Naypyitaw",
            "Naypyitaw",
            "Naypyitaw",
            "Naypyitaw"
           ],
           "xaxis": "x",
           "y": {
            "bdata": "KVyPwvXYYkCq8dJNYu9/QPYoXI/Cj35Aarx0kxjEgUBI4XoUrjdiQGiR7Xw/RWZA",
            "dtype": "f8"
           },
           "yaxis": "y"
          },
          {
           "hovertemplate": "City=%{x}<br>Date=1/27/2019<br>Total=%{y}<extra></extra>",
           "ids": [
            "B",
            "B"
           ],
           "legendgroup": "Mandalay",
           "marker": {
            "color": "#00cc96",
            "pattern": {
             "shape": ""
            }
           },
           "name": "Mandalay",
           "orientation": "v",
           "showlegend": true,
           "textposition": "auto",
           "type": "bar",
           "x": [
            "Mandalay",
            "Mandalay"
           ],
           "xaxis": "x",
           "y": {
            "bdata": "y6FFtvM9eUCkcD0K1xSAQA==",
            "dtype": "f8"
           },
           "yaxis": "y"
          }
         ],
         "name": "1/27/2019"
        },
        {
         "data": [
          {
           "hovertemplate": "City=%{x}<br>Date=2/8/2019<br>Total=%{y}<extra></extra>",
           "ids": [
            "A",
            "A",
            "A"
           ],
           "legendgroup": "Yangon",
           "marker": {
            "color": "#636efa",
            "pattern": {
             "shape": ""
            }
           },
           "name": "Yangon",
           "orientation": "v",
           "showlegend": true,
           "textposition": "auto",
           "type": "bar",
           "x": [
            "Yangon",
            "Yangon",
            "Yangon"
           ],
           "xaxis": "x",
           "y": {
            "bdata": "SgwCKwfTg0Bcj8L1KD2QQI/C9ShcrzRA",
            "dtype": "f8"
           },
           "yaxis": "y"
          },
          {
           "hovertemplate": "City=%{x}<br>Date=2/8/2019<br>Total=%{y}<extra></extra>",
           "ids": [
            "C",
            "C",
            "C"
           ],
           "legendgroup": "Naypyitaw",
           "marker": {
            "color": "#EF553B",
            "pattern": {
             "shape": ""
            }
           },
           "name": "Naypyitaw",
           "orientation": "v",
           "showlegend": true,
           "textposition": "auto",
           "type": "bar",
           "x": [
            "Naypyitaw",
            "Naypyitaw",
            "Naypyitaw"
           ],
           "xaxis": "x",
           "y": {
            "bdata": "cT0K16Plj0CkcD0K1xBxQBSuR+F6UXVA",
            "dtype": "f8"
           },
           "yaxis": "y"
          },
          {
           "hovertemplate": "City=%{x}<br>Date=2/8/2019<br>Total=%{y}<extra></extra>",
           "ids": [
            "B",
            "B",
            "B",
            "B",
            "B",
            "B"
           ],
           "legendgroup": "Mandalay",
           "marker": {
            "color": "#00cc96",
            "pattern": {
             "shape": ""
            }
           },
           "name": "Mandalay",
           "orientation": "v",
           "showlegend": true,
           "textposition": "auto",
           "type": "bar",
           "x": [
            "Mandalay",
            "Mandalay",
            "Mandalay",
            "Mandalay",
            "Mandalay",
            "Mandalay"
           ],
           "xaxis": "x",
           "y": {
            "bdata": "DAIrhxaZQUCe76fGSzd7QLpJDAIrqYpAIbByaJFlaEAzMzMzM6tgQKrx0k1iyFlA",
            "dtype": "f8"
           },
           "yaxis": "y"
          }
         ],
         "name": "2/8/2019"
        },
        {
         "data": [
          {
           "hovertemplate": "City=%{x}<br>Date=3/25/2019<br>Total=%{y}<extra></extra>",
           "ids": [
            "A",
            "A",
            "A",
            "A"
           ],
           "legendgroup": "Yangon",
           "marker": {
            "color": "#636efa",
            "pattern": {
             "shape": ""
            }
           },
           "name": "Yangon",
           "orientation": "v",
           "showlegend": true,
           "textposition": "auto",
           "type": "bar",
           "x": [
            "Yangon",
            "Yangon",
            "Yangon",
            "Yangon"
           ],
           "xaxis": "x",
           "y": {
            "bdata": "EFg5tMgWY0Dy0k1iEMBhQCPb+X5qFG1Aw/UoXI/iSEA=",
            "dtype": "f8"
           },
           "yaxis": "y"
          },
          {
           "hovertemplate": "City=%{x}<br>Date=3/25/2019<br>Total=%{y}<extra></extra>",
           "ids": [
            "C",
            "C",
            "C"
           ],
           "legendgroup": "Naypyitaw",
           "marker": {
            "color": "#EF553B",
            "pattern": {
             "shape": ""
            }
           },
           "name": "Naypyitaw",
           "orientation": "v",
           "showlegend": true,
           "textposition": "auto",
           "type": "bar",
           "x": [
            "Naypyitaw",
            "Naypyitaw",
            "Naypyitaw"
           ],
           "xaxis": "x",
           "y": {
            "bdata": "30+Nl+6cg0BI4XoUrht5QAwCK4cWDW9A",
            "dtype": "f8"
           },
           "yaxis": "y"
          },
          {
           "hovertemplate": "City=%{x}<br>Date=3/25/2019<br>Total=%{y}<extra></extra>",
           "ids": [
            "B",
            "B"
           ],
           "legendgroup": "Mandalay",
           "marker": {
            "color": "#00cc96",
            "pattern": {
             "shape": ""
            }
           },
           "name": "Mandalay",
           "orientation": "v",
           "showlegend": true,
           "textposition": "auto",
           "type": "bar",
           "x": [
            "Mandalay",
            "Mandalay"
           ],
           "xaxis": "x",
           "y": {
            "bdata": "30+Nl25+aEAj2/l+asRrQA==",
            "dtype": "f8"
           },
           "yaxis": "y"
          }
         ],
         "name": "3/25/2019"
        },
        {
         "data": [
          {
           "hovertemplate": "City=%{x}<br>Date=2/25/2019<br>Total=%{y}<extra></extra>",
           "ids": [
            "A",
            "A",
            "A",
            "A",
            "A",
            "A"
           ],
           "legendgroup": "Yangon",
           "marker": {
            "color": "#636efa",
            "pattern": {
             "shape": ""
            }
           },
           "name": "Yangon",
           "orientation": "v",
           "showlegend": true,
           "textposition": "auto",
           "type": "bar",
           "x": [
            "Yangon",
            "Yangon",
            "Yangon",
            "Yangon",
            "Yangon",
            "Yangon"
           ],
           "xaxis": "x",
           "y": {
            "bdata": "UI2XbhIbe0CHFtnO97dQQKAaL90kqmlAPQrXo3D+fUApXI/C9SxzQKRwPQrXm3NA",
            "dtype": "f8"
           },
           "yaxis": "y"
          },
          {
           "hovertemplate": "City=%{x}<br>Date=2/25/2019<br>Total=%{y}<extra></extra>",
           "ids": [
            "C",
            "C"
           ],
           "legendgroup": "Naypyitaw",
           "marker": {
            "color": "#EF553B",
            "pattern": {
             "shape": ""
            }
           },
           "name": "Naypyitaw",
           "orientation": "v",
           "showlegend": true,
           "textposition": "auto",
           "type": "bar",
           "x": [
            "Naypyitaw",
            "Naypyitaw"
           ],
           "xaxis": "x",
           "y": {
            "bdata": "j8L1KFw7fEB3vp8aL4VJQA==",
            "dtype": "f8"
           },
           "yaxis": "y"
          },
          {
           "hovertemplate": "City=%{x}<br>Date=2/25/2019<br>Total=%{y}<extra></extra>",
           "ids": [
            "B",
            "B",
            "B",
            "B",
            "B",
            "B",
            "B",
            "B"
           ],
           "legendgroup": "Mandalay",
           "marker": {
            "color": "#00cc96",
            "pattern": {
             "shape": ""
            }
           },
           "name": "Mandalay",
           "orientation": "v",
           "showlegend": true,
           "textposition": "auto",
           "type": "bar",
           "x": [
            "Mandalay",
            "Mandalay",
            "Mandalay",
            "Mandalay",
            "Mandalay",
            "Mandalay",
            "Mandalay",
            "Mandalay"
           ],
           "xaxis": "x",
           "y": {
            "bdata": "UrgehevifkDFILByaFl2QKRwPQrXN1dAj8L1KFzrekBiEFg5tGxwQI/C9ShcUoFAZmZmZmbeREDsUbgehX9wQA==",
            "dtype": "f8"
           },
           "yaxis": "y"
          }
         ],
         "name": "2/25/2019"
        },
        {
         "data": [
          {
           "hovertemplate": "City=%{x}<br>Date=2/24/2019<br>Total=%{y}<extra></extra>",
           "ids": [
            "A",
            "A"
           ],
           "legendgroup": "Yangon",
           "marker": {
            "color": "#636efa",
            "pattern": {
             "shape": ""
            }
           },
           "name": "Yangon",
           "orientation": "v",
           "showlegend": true,
           "textposition": "auto",
           "type": "bar",
           "x": [
            "Yangon",
            "Yangon"
           ],
           "xaxis": "x",
           "y": {
            "bdata": "SOF6FK5rekDVeOkmMQhZQA==",
            "dtype": "f8"
           },
           "yaxis": "y"
          },
          {
           "hovertemplate": "City=%{x}<br>Date=2/24/2019<br>Total=%{y}<extra></extra>",
           "ids": [
            "C",
            "C",
            "C",
            "C"
           ],
           "legendgroup": "Naypyitaw",
           "marker": {
            "color": "#EF553B",
            "pattern": {
             "shape": ""
            }
           },
           "name": "Naypyitaw",
           "orientation": "v",
           "showlegend": true,
           "textposition": "auto",
           "type": "bar",
           "x": [
            "Naypyitaw",
            "Naypyitaw",
            "Naypyitaw",
            "Naypyitaw"
           ],
           "xaxis": "x",
           "y": {
            "bdata": "16NwPQojiEDdJAaBlfF1QLgehetRPHBA7FG4HoWrSkA=",
            "dtype": "f8"
           },
           "yaxis": "y"
          },
          {
           "hovertemplate": "City=%{x}<br>Date=2/24/2019<br>Total=%{y}<extra></extra>",
           "ids": [
            "B",
            "B",
            "B"
           ],
           "legendgroup": "Mandalay",
           "marker": {
            "color": "#00cc96",
            "pattern": {
             "shape": ""
            }
           },
           "name": "Mandalay",
           "orientation": "v",
           "showlegend": true,
           "textposition": "auto",
           "type": "bar",
           "x": [
            "Mandalay",
            "Mandalay",
            "Mandalay"
           ],
           "xaxis": "x",
           "y": {
            "bdata": "j8L1KFzRdkDTTWIQWP1lQKrx0k1iwGtA",
            "dtype": "f8"
           },
           "yaxis": "y"
          }
         ],
         "name": "2/24/2019"
        },
        {
         "data": [
          {
           "hovertemplate": "City=%{x}<br>Date=1/10/2019<br>Total=%{y}<extra></extra>",
           "ids": [
            "A",
            "A",
            "A"
           ],
           "legendgroup": "Yangon",
           "marker": {
            "color": "#636efa",
            "pattern": {
             "shape": ""
            }
           },
           "name": "Yangon",
           "orientation": "v",
           "showlegend": true,
           "textposition": "auto",
           "type": "bar",
           "x": [
            "Yangon",
            "Yangon",
            "Yangon"
           ],
           "xaxis": "x",
           "y": {
            "bdata": "001iEFgJU0AEVg4tsjFkQGIQWDm03H5A",
            "dtype": "f8"
           },
           "yaxis": "y"
          },
          {
           "hovertemplate": "City=%{x}<br>Date=1/10/2019<br>Total=%{y}<extra></extra>",
           "ids": [
            "C",
            "C",
            "C"
           ],
           "legendgroup": "Naypyitaw",
           "marker": {
            "color": "#EF553B",
            "pattern": {
             "shape": ""
            }
           },
           "name": "Naypyitaw",
           "orientation": "v",
           "showlegend": true,
           "textposition": "auto",
           "type": "bar",
           "x": [
            "Naypyitaw",
            "Naypyitaw",
            "Naypyitaw"
           ],
           "xaxis": "x",
           "y": {
            "bdata": "j8L1KFyKeEASg8DKoRiDQAwCK4cW0n1A",
            "dtype": "f8"
           },
           "yaxis": "y"
          },
          {
           "hovertemplate": "City=%{x}<br>Date=1/10/2019<br>Total=%{y}<extra></extra>",
           "ids": [
            "B",
            "B",
            "B"
           ],
           "legendgroup": "Mandalay",
           "marker": {
            "color": "#00cc96",
            "pattern": {
             "shape": ""
            }
           },
           "name": "Mandalay",
           "orientation": "v",
           "showlegend": true,
           "textposition": "auto",
           "type": "bar",
           "x": [
            "Mandalay",
            "Mandalay",
            "Mandalay"
           ],
           "xaxis": "x",
           "y": {
            "bdata": "vHSTGAT+hUBU46WbxFeCQOOlm8Qg8ExA",
            "dtype": "f8"
           },
           "yaxis": "y"
          }
         ],
         "name": "1/10/2019"
        },
        {
         "data": [
          {
           "hovertemplate": "City=%{x}<br>Date=2/20/2019<br>Total=%{y}<extra></extra>",
           "ids": [
            "A",
            "A",
            "A"
           ],
           "legendgroup": "Yangon",
           "marker": {
            "color": "#636efa",
            "pattern": {
             "shape": ""
            }
           },
           "name": "Yangon",
           "orientation": "v",
           "showlegend": true,
           "textposition": "auto",
           "type": "bar",
           "x": [
            "Yangon",
            "Yangon",
            "Yangon"
           ],
           "xaxis": "x",
           "y": {
            "bdata": "j8L1KFxIfkD2KFyPwjV1QKjGSzeJyVNA",
            "dtype": "f8"
           },
           "yaxis": "y"
          },
          {
           "hovertemplate": "City=%{x}<br>Date=2/20/2019<br>Total=%{y}<extra></extra>",
           "ids": [
            "C"
           ],
           "legendgroup": "Naypyitaw",
           "marker": {
            "color": "#EF553B",
            "pattern": {
             "shape": ""
            }
           },
           "name": "Naypyitaw",
           "orientation": "v",
           "showlegend": true,
           "textposition": "auto",
           "type": "bar",
           "x": [
            "Naypyitaw"
           ],
           "xaxis": "x",
           "y": {
            "bdata": "001iEFilVkA=",
            "dtype": "f8"
           },
           "yaxis": "y"
          },
          {
           "hovertemplate": "City=%{x}<br>Date=2/20/2019<br>Total=%{y}<extra></extra>",
           "ids": [
            "B",
            "B",
            "B",
            "B",
            "B",
            "B"
           ],
           "legendgroup": "Mandalay",
           "marker": {
            "color": "#00cc96",
            "pattern": {
             "shape": ""
            }
           },
           "name": "Mandalay",
           "orientation": "v",
           "showlegend": true,
           "textposition": "auto",
           "type": "bar",
           "x": [
            "Mandalay",
            "Mandalay",
            "Mandalay",
            "Mandalay",
            "Mandalay",
            "Mandalay"
           ],
           "xaxis": "x",
           "y": {
            "bdata": "HVpkO9+XZUAzMzMzMy96QIXrUbge4XVAuB6F61Gob0DVeOkmMbxmQLgehetR/nRA",
            "dtype": "f8"
           },
           "yaxis": "y"
          }
         ],
         "name": "2/20/2019"
        },
        {
         "data": [
          {
           "hovertemplate": "City=%{x}<br>Date=2/6/2019<br>Total=%{y}<extra></extra>",
           "ids": [
            "A",
            "A"
           ],
           "legendgroup": "Yangon",
           "marker": {
            "color": "#636efa",
            "pattern": {
             "shape": ""
            }
           },
           "name": "Yangon",
           "orientation": "v",
           "showlegend": true,
           "textposition": "auto",
           "type": "bar",
           "x": [
            "Yangon",
            "Yangon"
           ],
           "xaxis": "x",
           "y": {
            "bdata": "lkOLbOd7bUAK16NwPWpnQA==",
            "dtype": "f8"
           },
           "yaxis": "y"
          },
          {
           "hovertemplate": "City=%{x}<br>Date=2/6/2019<br>Total=%{y}<extra></extra>",
           "ids": [
            "C",
            "C",
            "C",
            "C",
            "C",
            "C"
           ],
           "legendgroup": "Naypyitaw",
           "marker": {
            "color": "#EF553B",
            "pattern": {
             "shape": ""
            }
           },
           "name": "Naypyitaw",
           "orientation": "v",
           "showlegend": true,
           "textposition": "auto",
           "type": "bar",
           "x": [
            "Naypyitaw",
            "Naypyitaw",
            "Naypyitaw",
            "Naypyitaw",
            "Naypyitaw",
            "Naypyitaw"
           ],
           "xaxis": "x",
           "y": {
            "bdata": "Gy/dJAYZekAzMzMzM49XQJMYBFYOdXlAzczMzMzsbUBoke18P4VLQK5H4XoUgGdA",
            "dtype": "f8"
           },
           "yaxis": "y"
          },
          {
           "hovertemplate": "City=%{x}<br>Date=2/6/2019<br>Total=%{y}<extra></extra>",
           "ids": [
            "B",
            "B",
            "B",
            "B",
            "B"
           ],
           "legendgroup": "Mandalay",
           "marker": {
            "color": "#00cc96",
            "pattern": {
             "shape": ""
            }
           },
           "name": "Mandalay",
           "orientation": "v",
           "showlegend": true,
           "textposition": "auto",
           "type": "bar",
           "x": [
            "Mandalay",
            "Mandalay",
            "Mandalay",
            "Mandalay",
            "Mandalay"
           ],
           "xaxis": "x",
           "y": {
            "bdata": "nMQgsHJoTkAbL90kBqNnQDMzMzMz/3BAMzMzMzMfbkCPwvUoXN1zQA==",
            "dtype": "f8"
           },
           "yaxis": "y"
          }
         ],
         "name": "2/6/2019"
        },
        {
         "data": [
          {
           "hovertemplate": "City=%{x}<br>Date=3/9/2019<br>Total=%{y}<extra></extra>",
           "ids": [
            "A",
            "A",
            "A",
            "A",
            "A",
            "A"
           ],
           "legendgroup": "Yangon",
           "marker": {
            "color": "#636efa",
            "pattern": {
             "shape": ""
            }
           },
           "name": "Yangon",
           "orientation": "v",
           "showlegend": true,
           "textposition": "auto",
           "type": "bar",
           "x": [
            "Yangon",
            "Yangon",
            "Yangon",
            "Yangon",
            "Yangon",
            "Yangon"
           ],
           "xaxis": "x",
           "y": {
            "bdata": "KVyPwvUKgUD2KFyPwl6AQKRwPQrXJYFA5/up8dIla0CwcmiR7fRfQNnO91PjiYlA",
            "dtype": "f8"
           },
           "yaxis": "y"
          },
          {
           "hovertemplate": "City=%{x}<br>Date=3/9/2019<br>Total=%{y}<extra></extra>",
           "ids": [
            "C",
            "C",
            "C",
            "C"
           ],
           "legendgroup": "Naypyitaw",
           "marker": {
            "color": "#EF553B",
            "pattern": {
             "shape": ""
            }
           },
           "name": "Naypyitaw",
           "orientation": "v",
           "showlegend": true,
           "textposition": "auto",
           "type": "bar",
           "x": [
            "Naypyitaw",
            "Naypyitaw",
            "Naypyitaw",
            "Naypyitaw"
           ],
           "xaxis": "x",
           "y": {
            "bdata": "fT81XrrjfUA9CtejcAxwQPLSTWIQGDFAEoPAyiE6jUA=",
            "dtype": "f8"
           },
           "yaxis": "y"
          },
          {
           "hovertemplate": "City=%{x}<br>Date=3/9/2019<br>Total=%{y}<extra></extra>",
           "ids": [
            "B",
            "B",
            "B",
            "B",
            "B",
            "B"
           ],
           "legendgroup": "Mandalay",
           "marker": {
            "color": "#00cc96",
            "pattern": {
             "shape": ""
            }
           },
           "name": "Mandalay",
           "orientation": "v",
           "showlegend": true,
           "textposition": "auto",
           "type": "bar",
           "x": [
            "Mandalay",
            "Mandalay",
            "Mandalay",
            "Mandalay",
            "Mandalay",
            "Mandalay"
           ],
           "xaxis": "x",
           "y": {
            "bdata": "DAIrhxbJWkAnMQisHKp4QOXQItv5hI1AIbByaJGlfUCYbhKDwPGFQO58PzVe+HdA",
            "dtype": "f8"
           },
           "yaxis": "y"
          }
         ],
         "name": "3/9/2019"
        },
        {
         "data": [
          {
           "hovertemplate": "City=%{x}<br>Date=2/12/2019<br>Total=%{y}<extra></extra>",
           "ids": [
            "A",
            "A",
            "A"
           ],
           "legendgroup": "Yangon",
           "marker": {
            "color": "#636efa",
            "pattern": {
             "shape": ""
            }
           },
           "name": "Yangon",
           "orientation": "v",
           "showlegend": true,
           "textposition": "auto",
           "type": "bar",
           "x": [
            "Yangon",
            "Yangon",
            "Yangon"
           ],
           "xaxis": "x",
           "y": {
            "bdata": "mpmZmZnPbkCmm8QgsAZkQKjGSzeJzWJA",
            "dtype": "f8"
           },
           "yaxis": "y"
          },
          {
           "hovertemplate": "City=%{x}<br>Date=2/12/2019<br>Total=%{y}<extra></extra>",
           "ids": [
            "C",
            "C"
           ],
           "legendgroup": "Naypyitaw",
           "marker": {
            "color": "#EF553B",
            "pattern": {
             "shape": ""
            }
           },
           "name": "Naypyitaw",
           "orientation": "v",
           "showlegend": true,
           "textposition": "auto",
           "type": "bar",
           "x": [
            "Naypyitaw",
            "Naypyitaw"
           ],
           "xaxis": "x",
           "y": {
            "bdata": "ZmZmZmaUjECkcD0K13tLQA==",
            "dtype": "f8"
           },
           "yaxis": "y"
          },
          {
           "hovertemplate": "City=%{x}<br>Date=2/12/2019<br>Total=%{y}<extra></extra>",
           "ids": [
            "B",
            "B",
            "B"
           ],
           "legendgroup": "Mandalay",
           "marker": {
            "color": "#00cc96",
            "pattern": {
             "shape": ""
            }
           },
           "name": "Mandalay",
           "orientation": "v",
           "showlegend": true,
           "textposition": "auto",
           "type": "bar",
           "x": [
            "Mandalay",
            "Mandalay",
            "Mandalay"
           ],
           "xaxis": "x",
           "y": {
            "bdata": "JQaBlUPniEBSuB6F68+DQCcxCKwcukRA",
            "dtype": "f8"
           },
           "yaxis": "y"
          }
         ],
         "name": "2/12/2019"
        },
        {
         "data": [
          {
           "hovertemplate": "City=%{x}<br>Date=2/7/2019<br>Total=%{y}<extra></extra>",
           "ids": [
            "A",
            "A",
            "A",
            "A",
            "A"
           ],
           "legendgroup": "Yangon",
           "marker": {
            "color": "#636efa",
            "pattern": {
             "shape": ""
            }
           },
           "name": "Yangon",
           "orientation": "v",
           "showlegend": true,
           "textposition": "auto",
           "type": "bar",
           "x": [
            "Yangon",
            "Yangon",
            "Yangon",
            "Yangon",
            "Yangon"
           ],
           "xaxis": "x",
           "y": {
            "bdata": "UrgehetXfECF61G4HoWHQMuhRbbz7UdAnMQgsHJoPkCLbOf7qXGIQA==",
            "dtype": "f8"
           },
           "yaxis": "y"
          },
          {
           "hovertemplate": "City=%{x}<br>Date=2/7/2019<br>Total=%{y}<extra></extra>",
           "ids": [
            "C",
            "C",
            "C",
            "C",
            "C",
            "C",
            "C",
            "C",
            "C"
           ],
           "legendgroup": "Naypyitaw",
           "marker": {
            "color": "#EF553B",
            "pattern": {
             "shape": ""
            }
           },
           "name": "Naypyitaw",
           "orientation": "v",
           "showlegend": true,
           "textposition": "auto",
           "type": "bar",
           "x": [
            "Naypyitaw",
            "Naypyitaw",
            "Naypyitaw",
            "Naypyitaw",
            "Naypyitaw",
            "Naypyitaw",
            "Naypyitaw",
            "Naypyitaw",
            "Naypyitaw"
           ],
           "xaxis": "x",
           "y": {
            "bdata": "2/l+arz0WUC6SQwCK09xQN0kBoGVc3VAIbByaJGhXkBU46WbxBxxQM3MzMzMV4NAyXa+nxq3f0AIrBxaZFslQA4tsp3vm2ZA",
            "dtype": "f8"
           },
           "yaxis": "y"
          },
          {
           "hovertemplate": "City=%{x}<br>Date=2/7/2019<br>Total=%{y}<extra></extra>",
           "ids": [
            "B",
            "B",
            "B",
            "B",
            "B",
            "B"
           ],
           "legendgroup": "Mandalay",
           "marker": {
            "color": "#00cc96",
            "pattern": {
             "shape": ""
            }
           },
           "name": "Mandalay",
           "orientation": "v",
           "showlegend": true,
           "textposition": "auto",
           "type": "bar",
           "x": [
            "Mandalay",
            "Mandalay",
            "Mandalay",
            "Mandalay",
            "Mandalay",
            "Mandalay"
           ],
           "xaxis": "x",
           "y": {
            "bdata": "AiuHFtkCakD2KFyPwgyKQArXo3A91oFAyXa+nxpnfkCJQWDl0B5yQHE9Ctej53RA",
            "dtype": "f8"
           },
           "yaxis": "y"
          }
         ],
         "name": "2/7/2019"
        },
        {
         "data": [
          {
           "hovertemplate": "City=%{x}<br>Date=3/29/2019<br>Total=%{y}<extra></extra>",
           "ids": [
            "A",
            "A"
           ],
           "legendgroup": "Yangon",
           "marker": {
            "color": "#636efa",
            "pattern": {
             "shape": ""
            }
           },
           "name": "Yangon",
           "orientation": "v",
           "showlegend": true,
           "textposition": "auto",
           "type": "bar",
           "x": [
            "Yangon",
            "Yangon"
           ],
           "xaxis": "x",
           "y": {
            "bdata": "Urgehetrh0AOLbKd74NsQA==",
            "dtype": "f8"
           },
           "yaxis": "y"
          },
          {
           "hovertemplate": "City=%{x}<br>Date=3/29/2019<br>Total=%{y}<extra></extra>",
           "ids": [
            "C",
            "C"
           ],
           "legendgroup": "Naypyitaw",
           "marker": {
            "color": "#EF553B",
            "pattern": {
             "shape": ""
            }
           },
           "name": "Naypyitaw",
           "orientation": "v",
           "showlegend": true,
           "textposition": "auto",
           "type": "bar",
           "x": [
            "Naypyitaw",
            "Naypyitaw"
           ],
           "xaxis": "x",
           "y": {
            "bdata": "1XjpJjFIXkDD9ShcjwSLQA==",
            "dtype": "f8"
           },
           "yaxis": "y"
          },
          {
           "hovertemplate": "City=%{x}<br>Date=3/29/2019<br>Total=%{y}<extra></extra>",
           "ids": [
            "B",
            "B",
            "B",
            "B"
           ],
           "legendgroup": "Mandalay",
           "marker": {
            "color": "#00cc96",
            "pattern": {
             "shape": ""
            }
           },
           "name": "Mandalay",
           "orientation": "v",
           "showlegend": true,
           "textposition": "auto",
           "type": "bar",
           "x": [
            "Mandalay",
            "Mandalay",
            "Mandalay",
            "Mandalay"
           ],
           "xaxis": "x",
           "y": {
            "bdata": "rkfhehTVjECPwvUoXBx0QArXo3A9AHJAf2q8dBN8gEA=",
            "dtype": "f8"
           },
           "yaxis": "y"
          }
         ],
         "name": "3/29/2019"
        },
        {
         "data": [
          {
           "hovertemplate": "City=%{x}<br>Date=1/15/2019<br>Total=%{y}<extra></extra>",
           "ids": [
            "A",
            "A",
            "A",
            "A",
            "A"
           ],
           "legendgroup": "Yangon",
           "marker": {
            "color": "#636efa",
            "pattern": {
             "shape": ""
            }
           },
           "name": "Yangon",
           "orientation": "v",
           "showlegend": true,
           "textposition": "auto",
           "type": "bar",
           "x": [
            "Yangon",
            "Yangon",
            "Yangon",
            "Yangon",
            "Yangon"
           ],
           "xaxis": "x",
           "y": {
            "bdata": "SgwCK4f6gUCyne+nRliKQLgehetRjGFA001iEFj9ZUB/arx0kwBSQA==",
            "dtype": "f8"
           },
           "yaxis": "y"
          },
          {
           "hovertemplate": "City=%{x}<br>Date=1/15/2019<br>Total=%{y}<extra></extra>",
           "ids": [
            "C",
            "C",
            "C"
           ],
           "legendgroup": "Naypyitaw",
           "marker": {
            "color": "#EF553B",
            "pattern": {
             "shape": ""
            }
           },
           "name": "Naypyitaw",
           "orientation": "v",
           "showlegend": true,
           "textposition": "auto",
           "type": "bar",
           "x": [
            "Naypyitaw",
            "Naypyitaw",
            "Naypyitaw"
           ],
           "xaxis": "x",
           "y": {
            "bdata": "pHA9CtfjVkDn+6nxUqiCQK5H4XoUVYJA",
            "dtype": "f8"
           },
           "yaxis": "y"
          },
          {
           "hovertemplate": "City=%{x}<br>Date=1/15/2019<br>Total=%{y}<extra></extra>",
           "ids": [
            "B",
            "B",
            "B",
            "B",
            "B"
           ],
           "legendgroup": "Mandalay",
           "marker": {
            "color": "#00cc96",
            "pattern": {
             "shape": ""
            }
           },
           "name": "Mandalay",
           "orientation": "v",
           "showlegend": true,
           "textposition": "auto",
           "type": "bar",
           "x": [
            "Mandalay",
            "Mandalay",
            "Mandalay",
            "Mandalay",
            "Mandalay"
           ],
           "xaxis": "x",
           "y": {
            "bdata": "c2iR7XxzgkAGgZVDi0xjQBSuR+F6z4VAPQrXo3DTeECuR+F6FPOPQA==",
            "dtype": "f8"
           },
           "yaxis": "y"
          }
         ],
         "name": "1/15/2019"
        },
        {
         "data": [
          {
           "hovertemplate": "City=%{x}<br>Date=3/11/2019<br>Total=%{y}<extra></extra>",
           "ids": [
            "A",
            "A",
            "A",
            "A",
            "A"
           ],
           "legendgroup": "Yangon",
           "marker": {
            "color": "#636efa",
            "pattern": {
             "shape": ""
            }
           },
           "name": "Yangon",
           "orientation": "v",
           "showlegend": true,
           "textposition": "auto",
           "type": "bar",
           "x": [
            "Yangon",
            "Yangon",
            "Yangon",
            "Yangon",
            "Yangon"
           ],
           "xaxis": "x",
           "y": {
            "bdata": "ukkMAiuqf0Dn+6nx0qWAQAwCK4cWYV9A9ihcj8KVYkDn+6nx0tl4QA==",
            "dtype": "f8"
           },
           "yaxis": "y"
          },
          {
           "hovertemplate": "City=%{x}<br>Date=3/11/2019<br>Total=%{y}<extra></extra>",
           "ids": [
            "C",
            "C",
            "C"
           ],
           "legendgroup": "Naypyitaw",
           "marker": {
            "color": "#EF553B",
            "pattern": {
             "shape": ""
            }
           },
           "name": "Naypyitaw",
           "orientation": "v",
           "showlegend": true,
           "textposition": "auto",
           "type": "bar",
           "x": [
            "Naypyitaw",
            "Naypyitaw",
            "Naypyitaw"
           ],
           "xaxis": "x",
           "y": {
            "bdata": "jZduEoPAb0Cq8dJNYkJrQCPb+X5qanJA",
            "dtype": "f8"
           },
           "yaxis": "y"
          },
          {
           "hovertemplate": "City=%{x}<br>Date=3/11/2019<br>Total=%{y}<extra></extra>",
           "ids": [
            "B",
            "B",
            "B"
           ],
           "legendgroup": "Mandalay",
           "marker": {
            "color": "#00cc96",
            "pattern": {
             "shape": ""
            }
           },
           "name": "Mandalay",
           "orientation": "v",
           "showlegend": true,
           "textposition": "auto",
           "type": "bar",
           "x": [
            "Mandalay",
            "Mandalay",
            "Mandalay"
           ],
           "xaxis": "x",
           "y": {
            "bdata": "uB6F61EoVUCDwMqhRTRrQLgehetRomZA",
            "dtype": "f8"
           },
           "yaxis": "y"
          }
         ],
         "name": "3/11/2019"
        },
        {
         "data": [
          {
           "hovertemplate": "City=%{x}<br>Date=1/1/2019<br>Total=%{y}<extra></extra>",
           "ids": [
            "A",
            "A",
            "A",
            "A",
            "A"
           ],
           "legendgroup": "Yangon",
           "marker": {
            "color": "#636efa",
            "pattern": {
             "shape": ""
            }
           },
           "name": "Yangon",
           "orientation": "v",
           "showlegend": true,
           "textposition": "auto",
           "type": "bar",
           "x": [
            "Yangon",
            "Yangon",
            "Yangon",
            "Yangon",
            "Yangon"
           ],
           "xaxis": "x",
           "y": {
            "bdata": "DAIrhxaXfEBqvHSTGPx4QG3n+6nxaYNAMQisHFpkXEAUrkfhelqIQA==",
            "dtype": "f8"
           },
           "yaxis": "y"
          },
          {
           "hovertemplate": "City=%{x}<br>Date=1/1/2019<br>Total=%{y}<extra></extra>",
           "ids": [
            "C",
            "C",
            "C",
            "C"
           ],
           "legendgroup": "Naypyitaw",
           "marker": {
            "color": "#EF553B",
            "pattern": {
             "shape": ""
            }
           },
           "name": "Naypyitaw",
           "orientation": "v",
           "showlegend": true,
           "textposition": "auto",
           "type": "bar",
           "x": [
            "Naypyitaw",
            "Naypyitaw",
            "Naypyitaw",
            "Naypyitaw"
           ],
           "xaxis": "x",
           "y": {
            "bdata": "cT0K16NEeECq8dJNYphgQL6fGi/dgGBAmG4Sg8ACZ0A=",
            "dtype": "f8"
           },
           "yaxis": "y"
          },
          {
           "hovertemplate": "City=%{x}<br>Date=1/1/2019<br>Total=%{y}<extra></extra>",
           "ids": [
            "B",
            "B",
            "B"
           ],
           "legendgroup": "Mandalay",
           "marker": {
            "color": "#00cc96",
            "pattern": {
             "shape": ""
            }
           },
           "name": "Mandalay",
           "orientation": "v",
           "showlegend": true,
           "textposition": "auto",
           "type": "bar",
           "x": [
            "Mandalay",
            "Mandalay",
            "Mandalay"
           ],
           "xaxis": "x",
           "y": {
            "bdata": "VOOlm8RqfUCTGARWDi1mQFK4HoXrxItA",
            "dtype": "f8"
           },
           "yaxis": "y"
          }
         ],
         "name": "1/1/2019"
        },
        {
         "data": [
          {
           "hovertemplate": "City=%{x}<br>Date=1/21/2019<br>Total=%{y}<extra></extra>",
           "ids": [
            "A",
            "A",
            "A",
            "A",
            "A"
           ],
           "legendgroup": "Yangon",
           "marker": {
            "color": "#636efa",
            "pattern": {
             "shape": ""
            }
           },
           "name": "Yangon",
           "orientation": "v",
           "showlegend": true,
           "textposition": "auto",
           "type": "bar",
           "x": [
            "Yangon",
            "Yangon",
            "Yangon",
            "Yangon",
            "Yangon"
           ],
           "xaxis": "x",
           "y": {
            "bdata": "2/l+aryGZUCPwvUoXLF+QBBYObTIFlNAf2q8dJPUfEBvEoPAymx4QA==",
            "dtype": "f8"
           },
           "yaxis": "y"
          },
          {
           "hovertemplate": "City=%{x}<br>Date=1/21/2019<br>Total=%{y}<extra></extra>",
           "ids": [
            "C",
            "C"
           ],
           "legendgroup": "Naypyitaw",
           "marker": {
            "color": "#EF553B",
            "pattern": {
             "shape": ""
            }
           },
           "name": "Naypyitaw",
           "orientation": "v",
           "showlegend": true,
           "textposition": "auto",
           "type": "bar",
           "x": [
            "Naypyitaw",
            "Naypyitaw"
           ],
           "xaxis": "x",
           "y": {
            "bdata": "GQRWDi2Hg0D6fmq8dBtSQA==",
            "dtype": "f8"
           },
           "yaxis": "y"
          },
          {
           "hovertemplate": "City=%{x}<br>Date=1/21/2019<br>Total=%{y}<extra></extra>",
           "ids": [
            "B"
           ],
           "legendgroup": "Mandalay",
           "marker": {
            "color": "#00cc96",
            "pattern": {
             "shape": ""
            }
           },
           "name": "Mandalay",
           "orientation": "v",
           "showlegend": true,
           "textposition": "auto",
           "type": "bar",
           "x": [
            "Mandalay"
           ],
           "xaxis": "x",
           "y": {
            "bdata": "dZMYBFbCWUA=",
            "dtype": "f8"
           },
           "yaxis": "y"
          }
         ],
         "name": "1/21/2019"
        },
        {
         "data": [
          {
           "hovertemplate": "City=%{x}<br>Date=3/5/2019<br>Total=%{y}<extra></extra>",
           "ids": [
            "A",
            "A"
           ],
           "legendgroup": "Yangon",
           "marker": {
            "color": "#636efa",
            "pattern": {
             "shape": ""
            }
           },
           "name": "Yangon",
           "orientation": "v",
           "showlegend": true,
           "textposition": "auto",
           "type": "bar",
           "x": [
            "Yangon",
            "Yangon"
           ],
           "xaxis": "x",
           "y": {
            "bdata": "MQisHFqAZUDP91PjpdVuQA==",
            "dtype": "f8"
           },
           "yaxis": "y"
          },
          {
           "hovertemplate": "City=%{x}<br>Date=3/5/2019<br>Total=%{y}<extra></extra>",
           "ids": [
            "C",
            "C",
            "C",
            "C",
            "C"
           ],
           "legendgroup": "Naypyitaw",
           "marker": {
            "color": "#EF553B",
            "pattern": {
             "shape": ""
            }
           },
           "name": "Naypyitaw",
           "orientation": "v",
           "showlegend": true,
           "textposition": "auto",
           "type": "bar",
           "x": [
            "Naypyitaw",
            "Naypyitaw",
            "Naypyitaw",
            "Naypyitaw",
            "Naypyitaw"
           ],
           "xaxis": "x",
           "y": {
            "bdata": "16NwPQqyiUCwcmiR7RODQClcj8L1BG1AcT0K16PQX0D6fmq8dAB+QA==",
            "dtype": "f8"
           },
           "yaxis": "y"
          },
          {
           "hovertemplate": "City=%{x}<br>Date=3/5/2019<br>Total=%{y}<extra></extra>",
           "ids": [
            "B",
            "B",
            "B",
            "B",
            "B",
            "B",
            "B",
            "B",
            "B",
            "B"
           ],
           "legendgroup": "Mandalay",
           "marker": {
            "color": "#00cc96",
            "pattern": {
             "shape": ""
            }
           },
           "name": "Mandalay",
           "orientation": "v",
           "showlegend": true,
           "textposition": "auto",
           "type": "bar",
           "x": [
            "Mandalay",
            "Mandalay",
            "Mandalay",
            "Mandalay",
            "Mandalay",
            "Mandalay",
            "Mandalay",
            "Mandalay",
            "Mandalay",
            "Mandalay"
           ],
           "xaxis": "x",
           "y": {
            "bdata": "1XjpJjFScUCJQWDl0BpjQK5H4XoUSIBApHA9CtfLXEBg5dAi23lMQFCNl24StnlAAiuHFtkqcEC8dJMYBJZqQFyPwvUo4oZA9P3UeOkOiUA=",
            "dtype": "f8"
           },
           "yaxis": "y"
          }
         ],
         "name": "3/5/2019"
        },
        {
         "data": [
          {
           "hovertemplate": "City=%{x}<br>Date=3/15/2019<br>Total=%{y}<extra></extra>",
           "ids": [
            "A",
            "A",
            "A"
           ],
           "legendgroup": "Yangon",
           "marker": {
            "color": "#636efa",
            "pattern": {
             "shape": ""
            }
           },
           "name": "Yangon",
           "orientation": "v",
           "showlegend": true,
           "textposition": "auto",
           "type": "bar",
           "x": [
            "Yangon",
            "Yangon",
            "Yangon"
           ],
           "xaxis": "x",
           "y": {
            "bdata": "2/l+arxmbUAZBFYOLVppQPYoXI/CzWlA",
            "dtype": "f8"
           },
           "yaxis": "y"
          },
          {
           "hovertemplate": "City=%{x}<br>Date=3/15/2019<br>Total=%{y}<extra></extra>",
           "ids": [
            "C"
           ],
           "legendgroup": "Naypyitaw",
           "marker": {
            "color": "#EF553B",
            "pattern": {
             "shape": ""
            }
           },
           "name": "Naypyitaw",
           "orientation": "v",
           "showlegend": true,
           "textposition": "auto",
           "type": "bar",
           "x": [
            "Naypyitaw"
           ],
           "xaxis": "x",
           "y": {
            "bdata": "tvP91HghgUA=",
            "dtype": "f8"
           },
           "yaxis": "y"
          },
          {
           "hovertemplate": "City=%{x}<br>Date=3/15/2019<br>Total=%{y}<extra></extra>",
           "ids": [
            "B",
            "B",
            "B",
            "B",
            "B",
            "B",
            "B",
            "B"
           ],
           "legendgroup": "Mandalay",
           "marker": {
            "color": "#00cc96",
            "pattern": {
             "shape": ""
            }
           },
           "name": "Mandalay",
           "orientation": "v",
           "showlegend": true,
           "textposition": "auto",
           "type": "bar",
           "x": [
            "Mandalay",
            "Mandalay",
            "Mandalay",
            "Mandalay",
            "Mandalay",
            "Mandalay",
            "Mandalay",
            "Mandalay"
           ],
           "xaxis": "x",
           "y": {
            "bdata": "rkfhehRuUUAtsp3vpy5uQFYOLbKdDWBAH4XrUbgOc0BEi2zn+4lMQIlBYOXQWlhAMzMzMzOTVkBWDi2yncOHQA==",
            "dtype": "f8"
           },
           "yaxis": "y"
          }
         ],
         "name": "3/15/2019"
        },
        {
         "data": [
          {
           "hovertemplate": "City=%{x}<br>Date=2/17/2019<br>Total=%{y}<extra></extra>",
           "ids": [
            "A",
            "A",
            "A",
            "A",
            "A",
            "A",
            "A"
           ],
           "legendgroup": "Yangon",
           "marker": {
            "color": "#636efa",
            "pattern": {
             "shape": ""
            }
           },
           "name": "Yangon",
           "orientation": "v",
           "showlegend": true,
           "textposition": "auto",
           "type": "bar",
           "x": [
            "Yangon",
            "Yangon",
            "Yangon",
            "Yangon",
            "Yangon",
            "Yangon",
            "Yangon"
           ],
           "xaxis": "x",
           "y": {
            "bdata": "rkfhehSuZkCmm8QgsE6HQHE9Ctej6FlAjZduEoNAhUDJdr6fmveMQPyp8dJN3mFAdZMYBFYhckA=",
            "dtype": "f8"
           },
           "yaxis": "y"
          },
          {
           "hovertemplate": "City=%{x}<br>Date=2/17/2019<br>Total=%{y}<extra></extra>",
           "ids": [
            "C",
            "C",
            "C",
            "C"
           ],
           "legendgroup": "Naypyitaw",
           "marker": {
            "color": "#EF553B",
            "pattern": {
             "shape": ""
            }
           },
           "name": "Naypyitaw",
           "orientation": "v",
           "showlegend": true,
           "textposition": "auto",
           "type": "bar",
           "x": [
            "Naypyitaw",
            "Naypyitaw",
            "Naypyitaw",
            "Naypyitaw"
           ],
           "xaxis": "x",
           "y": {
            "bdata": "9ihcj8Jsd0C4HoXrUQBPQKJFtvP9jntAtMh2vp87f0A=",
            "dtype": "f8"
           },
           "yaxis": "y"
          },
          {
           "hovertemplate": "City=%{x}<br>Date=2/17/2019<br>Total=%{y}<extra></extra>",
           "ids": [
            "B",
            "B"
           ],
           "legendgroup": "Mandalay",
           "marker": {
            "color": "#00cc96",
            "pattern": {
             "shape": ""
            }
           },
           "name": "Mandalay",
           "orientation": "v",
           "showlegend": true,
           "textposition": "auto",
           "type": "bar",
           "x": [
            "Mandalay",
            "Mandalay"
           ],
           "xaxis": "x",
           "y": {
            "bdata": "FK5H4Xo3gUD6fmq8dMNyQA==",
            "dtype": "f8"
           },
           "yaxis": "y"
          }
         ],
         "name": "2/17/2019"
        },
        {
         "data": [
          {
           "hovertemplate": "City=%{x}<br>Date=3/2/2019<br>Total=%{y}<extra></extra>",
           "ids": [
            "A",
            "A",
            "A"
           ],
           "legendgroup": "Yangon",
           "marker": {
            "color": "#636efa",
            "pattern": {
             "shape": ""
            }
           },
           "name": "Yangon",
           "orientation": "v",
           "showlegend": true,
           "textposition": "auto",
           "type": "bar",
           "x": [
            "Yangon",
            "Yangon",
            "Yangon"
           ],
           "xaxis": "x",
           "y": {
            "bdata": "y6FFtvNycUBU46WbxLhUQKAaL90kdnFA",
            "dtype": "f8"
           },
           "yaxis": "y"
          },
          {
           "hovertemplate": "City=%{x}<br>Date=3/2/2019<br>Total=%{y}<extra></extra>",
           "ids": [
            "C",
            "C",
            "C",
            "C",
            "C",
            "C"
           ],
           "legendgroup": "Naypyitaw",
           "marker": {
            "color": "#EF553B",
            "pattern": {
             "shape": ""
            }
           },
           "name": "Naypyitaw",
           "orientation": "v",
           "showlegend": true,
           "textposition": "auto",
           "type": "bar",
           "x": [
            "Naypyitaw",
            "Naypyitaw",
            "Naypyitaw",
            "Naypyitaw",
            "Naypyitaw",
            "Naypyitaw"
           ],
           "xaxis": "x",
           "y": {
            "bdata": "rBxaZDtHVUDy0k1iEDg+QDMzMzMz5oFAGy/dJAb+gEBcj8L1KFl+QOF6FK5HqYNA",
            "dtype": "f8"
           },
           "yaxis": "y"
          },
          {
           "hovertemplate": "City=%{x}<br>Date=3/2/2019<br>Total=%{y}<extra></extra>",
           "ids": [
            "B",
            "B",
            "B",
            "B",
            "B",
            "B",
            "B",
            "B",
            "B"
           ],
           "legendgroup": "Mandalay",
           "marker": {
            "color": "#00cc96",
            "pattern": {
             "shape": ""
            }
           },
           "name": "Mandalay",
           "orientation": "v",
           "showlegend": true,
           "textposition": "auto",
           "type": "bar",
           "x": [
            "Mandalay",
            "Mandalay",
            "Mandalay",
            "Mandalay",
            "Mandalay",
            "Mandalay",
            "Mandalay",
            "Mandalay",
            "Mandalay"
           ],
           "xaxis": "x",
           "y": {
            "bdata": "DAIrh5ZzjUBSuB6F61lRQM3MzMzM5G9AfT81XrrnbEAQWDm0SBqKQLx0kxgErlRAF9nO91OTSkBzaJHtfBdUQFK4HoXr849A",
            "dtype": "f8"
           },
           "yaxis": "y"
          }
         ],
         "name": "3/2/2019"
        },
        {
         "data": [
          {
           "hovertemplate": "City=%{x}<br>Date=3/22/2019<br>Total=%{y}<extra></extra>",
           "ids": [
            "A",
            "A",
            "A",
            "A",
            "A",
            "A",
            "A"
           ],
           "legendgroup": "Yangon",
           "marker": {
            "color": "#636efa",
            "pattern": {
             "shape": ""
            }
           },
           "name": "Yangon",
           "orientation": "v",
           "showlegend": true,
           "textposition": "auto",
           "type": "bar",
           "x": [
            "Yangon",
            "Yangon",
            "Yangon",
            "Yangon",
            "Yangon",
            "Yangon",
            "Yangon"
           ],
           "xaxis": "x",
           "y": {
            "bdata": "arx0kxice0BiEFg5tHZ4QIts5/upMTNAokW28/28ekA9CtejcDB8QK5H4XoU+lhA16NwPQqPckA=",
            "dtype": "f8"
           },
           "yaxis": "y"
          },
          {
           "hovertemplate": "City=%{x}<br>Date=3/22/2019<br>Total=%{y}<extra></extra>",
           "ids": [
            "B",
            "B",
            "B"
           ],
           "legendgroup": "Mandalay",
           "marker": {
            "color": "#00cc96",
            "pattern": {
             "shape": ""
            }
           },
           "name": "Mandalay",
           "orientation": "v",
           "showlegend": true,
           "textposition": "auto",
           "type": "bar",
           "x": [
            "Mandalay",
            "Mandalay",
            "Mandalay"
           ],
           "xaxis": "x",
           "y": {
            "bdata": "+n5qvHTDUkDRItv5fjaHQKwcWmQ7J21A",
            "dtype": "f8"
           },
           "yaxis": "y"
          }
         ],
         "name": "3/22/2019"
        },
        {
         "data": [
          {
           "hovertemplate": "City=%{x}<br>Date=3/10/2019<br>Total=%{y}<extra></extra>",
           "ids": [
            "A",
            "A",
            "A",
            "A",
            "A",
            "A"
           ],
           "legendgroup": "Yangon",
           "marker": {
            "color": "#636efa",
            "pattern": {
             "shape": ""
            }
           },
           "name": "Yangon",
           "orientation": "v",
           "showlegend": true,
           "textposition": "auto",
           "type": "bar",
           "x": [
            "Yangon",
            "Yangon",
            "Yangon",
            "Yangon",
            "Yangon",
            "Yangon"
           ],
           "xaxis": "x",
           "y": {
            "bdata": "gZVDi2wDZ0CuR+F6FIx0QLbz/dT4hIVA001iEFhZVED+1HjpJp1SQKwcWmQ7d15A",
            "dtype": "f8"
           },
           "yaxis": "y"
          },
          {
           "hovertemplate": "City=%{x}<br>Date=3/10/2019<br>Total=%{y}<extra></extra>",
           "ids": [
            "C",
            "C",
            "C"
           ],
           "legendgroup": "Naypyitaw",
           "marker": {
            "color": "#EF553B",
            "pattern": {
             "shape": ""
            }
           },
           "name": "Naypyitaw",
           "orientation": "v",
           "showlegend": true,
           "textposition": "auto",
           "type": "bar",
           "x": [
            "Naypyitaw",
            "Naypyitaw",
            "Naypyitaw"
           ],
           "xaxis": "x",
           "y": {
            "bdata": "O99PjZcCYkDNzMzMzOOKQJzEILByI3VA",
            "dtype": "f8"
           },
           "yaxis": "y"
          },
          {
           "hovertemplate": "City=%{x}<br>Date=3/10/2019<br>Total=%{y}<extra></extra>",
           "ids": [
            "B",
            "B",
            "B"
           ],
           "legendgroup": "Mandalay",
           "marker": {
            "color": "#00cc96",
            "pattern": {
             "shape": ""
            }
           },
           "name": "Mandalay",
           "orientation": "v",
           "showlegend": true,
           "textposition": "auto",
           "type": "bar",
           "x": [
            "Mandalay",
            "Mandalay",
            "Mandalay"
           ],
           "xaxis": "x",
           "y": {
            "bdata": "HVpkO9+TZkDTTWIQWL1gQClcj8L1uDpA",
            "dtype": "f8"
           },
           "yaxis": "y"
          }
         ],
         "name": "3/10/2019"
        },
        {
         "data": [
          {
           "hovertemplate": "City=%{x}<br>Date=1/25/2019<br>Total=%{y}<extra></extra>",
           "ids": [
            "A",
            "A",
            "A",
            "A",
            "A"
           ],
           "legendgroup": "Yangon",
           "marker": {
            "color": "#636efa",
            "pattern": {
             "shape": ""
            }
           },
           "name": "Yangon",
           "orientation": "v",
           "showlegend": true,
           "textposition": "auto",
           "type": "bar",
           "x": [
            "Yangon",
            "Yangon",
            "Yangon",
            "Yangon",
            "Yangon"
           ],
           "xaxis": "x",
           "y": {
            "bdata": "y6FFtvP7bkDTTWIQWIFvQB+F61G4BmVAcT0K16P8ZEDsUbgehXNTQA==",
            "dtype": "f8"
           },
           "yaxis": "y"
          },
          {
           "hovertemplate": "City=%{x}<br>Date=1/25/2019<br>Total=%{y}<extra></extra>",
           "ids": [
            "C",
            "C",
            "C",
            "C",
            "C"
           ],
           "legendgroup": "Naypyitaw",
           "marker": {
            "color": "#EF553B",
            "pattern": {
             "shape": ""
            }
           },
           "name": "Naypyitaw",
           "orientation": "v",
           "showlegend": true,
           "textposition": "auto",
           "type": "bar",
           "x": [
            "Naypyitaw",
            "Naypyitaw",
            "Naypyitaw",
            "Naypyitaw",
            "Naypyitaw"
           ],
           "xaxis": "x",
           "y": {
            "bdata": "3SQGgZUzMEAAAAAAALKNQCUGgZVDA3JAvp8aL126hECcxCCwcrVwQA==",
            "dtype": "f8"
           },
           "yaxis": "y"
          },
          {
           "hovertemplate": "City=%{x}<br>Date=1/25/2019<br>Total=%{y}<extra></extra>",
           "ids": [
            "B",
            "B",
            "B",
            "B",
            "B",
            "B",
            "B"
           ],
           "legendgroup": "Mandalay",
           "marker": {
            "color": "#00cc96",
            "pattern": {
             "shape": ""
            }
           },
           "name": "Mandalay",
           "orientation": "v",
           "showlegend": true,
           "textposition": "auto",
           "type": "bar",
           "x": [
            "Mandalay",
            "Mandalay",
            "Mandalay",
            "Mandalay",
            "Mandalay",
            "Mandalay",
            "Mandalay"
           ],
           "xaxis": "x",
           "y": {
            "bdata": "CtejcD3+fEBaZDvfTzNyQLKd76fGSHZAHVpkO9/XakCNl24SgwBgQC2yne+n9kZAO99PjZc6WUA=",
            "dtype": "f8"
           },
           "yaxis": "y"
          }
         ],
         "name": "1/25/2019"
        },
        {
         "data": [
          {
           "hovertemplate": "City=%{x}<br>Date=1/28/2019<br>Total=%{y}<extra></extra>",
           "ids": [
            "A",
            "A"
           ],
           "legendgroup": "Yangon",
           "marker": {
            "color": "#636efa",
            "pattern": {
             "shape": ""
            }
           },
           "name": "Yangon",
           "orientation": "v",
           "showlegend": true,
           "textposition": "auto",
           "type": "bar",
           "x": [
            "Yangon",
            "Yangon"
           ],
           "xaxis": "x",
           "y": {
            "bdata": "3SQGgZVjaUDByqFFti9VQA==",
            "dtype": "f8"
           },
           "yaxis": "y"
          },
          {
           "hovertemplate": "City=%{x}<br>Date=1/28/2019<br>Total=%{y}<extra></extra>",
           "ids": [
            "C",
            "C",
            "C",
            "C",
            "C",
            "C"
           ],
           "legendgroup": "Naypyitaw",
           "marker": {
            "color": "#EF553B",
            "pattern": {
             "shape": ""
            }
           },
           "name": "Naypyitaw",
           "orientation": "v",
           "showlegend": true,
           "textposition": "auto",
           "type": "bar",
           "x": [
            "Naypyitaw",
            "Naypyitaw",
            "Naypyitaw",
            "Naypyitaw",
            "Naypyitaw",
            "Naypyitaw"
           ],
           "xaxis": "x",
           "y": {
            "bdata": "d76fGi9BhUAfhetRuBZxQKwcWmQ7U3JA9ihcj8LZVkDsUbgehUNfQPLSTWIQkF1A",
            "dtype": "f8"
           },
           "yaxis": "y"
          },
          {
           "hovertemplate": "City=%{x}<br>Date=1/28/2019<br>Total=%{y}<extra></extra>",
           "ids": [
            "B",
            "B",
            "B",
            "B",
            "B",
            "B"
           ],
           "legendgroup": "Mandalay",
           "marker": {
            "color": "#00cc96",
            "pattern": {
             "shape": ""
            }
           },
           "name": "Mandalay",
           "orientation": "v",
           "showlegend": true,
           "textposition": "auto",
           "type": "bar",
           "x": [
            "Mandalay",
            "Mandalay",
            "Mandalay",
            "Mandalay",
            "Mandalay",
            "Mandalay"
           ],
           "xaxis": "x",
           "y": {
            "bdata": "O99PjRcOh0DsUbgehRs0QLx0kxiES4VAFK5H4XogbEBkO99PjQeKQL6fGi/dyINA",
            "dtype": "f8"
           },
           "yaxis": "y"
          }
         ],
         "name": "1/28/2019"
        },
        {
         "data": [
          {
           "hovertemplate": "City=%{x}<br>Date=1/7/2019<br>Total=%{y}<extra></extra>",
           "ids": [
            "A",
            "A",
            "A"
           ],
           "legendgroup": "Yangon",
           "marker": {
            "color": "#636efa",
            "pattern": {
             "shape": ""
            }
           },
           "name": "Yangon",
           "orientation": "v",
           "showlegend": true,
           "textposition": "auto",
           "type": "bar",
           "x": [
            "Yangon",
            "Yangon",
            "Yangon"
           ],
           "xaxis": "x",
           "y": {
            "bdata": "EFg5tMhmdEAEVg4tsnFpQLgehevR/4FA",
            "dtype": "f8"
           },
           "yaxis": "y"
          },
          {
           "hovertemplate": "City=%{x}<br>Date=1/7/2019<br>Total=%{y}<extra></extra>",
           "ids": [
            "C",
            "C",
            "C"
           ],
           "legendgroup": "Naypyitaw",
           "marker": {
            "color": "#EF553B",
            "pattern": {
             "shape": ""
            }
           },
           "name": "Naypyitaw",
           "orientation": "v",
           "showlegend": true,
           "textposition": "auto",
           "type": "bar",
           "x": [
            "Naypyitaw",
            "Naypyitaw",
            "Naypyitaw"
           ],
           "xaxis": "x",
           "y": {
            "bdata": "i2zn+6nhUUDsUbgehaNsQGQ730+Nb1VA",
            "dtype": "f8"
           },
           "yaxis": "y"
          },
          {
           "hovertemplate": "City=%{x}<br>Date=1/7/2019<br>Total=%{y}<extra></extra>",
           "ids": [
            "B",
            "B",
            "B"
           ],
           "legendgroup": "Mandalay",
           "marker": {
            "color": "#00cc96",
            "pattern": {
             "shape": ""
            }
           },
           "name": "Mandalay",
           "orientation": "v",
           "showlegend": true,
           "textposition": "auto",
           "type": "bar",
           "x": [
            "Mandalay",
            "Mandalay",
            "Mandalay"
           ],
           "xaxis": "x",
           "y": {
            "bdata": "BoGVQ4s3g0CDwMqhRQl2QJHtfD81ZndA",
            "dtype": "f8"
           },
           "yaxis": "y"
          }
         ],
         "name": "1/7/2019"
        },
        {
         "data": [
          {
           "hovertemplate": "City=%{x}<br>Date=3/23/2019<br>Total=%{y}<extra></extra>",
           "ids": [
            "A",
            "A",
            "A",
            "A",
            "A",
            "A"
           ],
           "legendgroup": "Yangon",
           "marker": {
            "color": "#636efa",
            "pattern": {
             "shape": ""
            }
           },
           "name": "Yangon",
           "orientation": "v",
           "showlegend": true,
           "textposition": "auto",
           "type": "bar",
           "x": [
            "Yangon",
            "Yangon",
            "Yangon",
            "Yangon",
            "Yangon",
            "Yangon"
           ],
           "xaxis": "x",
           "y": {
            "bdata": "MzMzMzPFZEDJdr6fGhd9QAAAAAAAWGRAy6FFtvONOkApXI/C9YBjQBSuR+F6G4hA",
            "dtype": "f8"
           },
           "yaxis": "y"
          },
          {
           "hovertemplate": "City=%{x}<br>Date=3/23/2019<br>Total=%{y}<extra></extra>",
           "ids": [
            "C",
            "C",
            "C",
            "C"
           ],
           "legendgroup": "Naypyitaw",
           "marker": {
            "color": "#EF553B",
            "pattern": {
             "shape": ""
            }
           },
           "name": "Naypyitaw",
           "orientation": "v",
           "showlegend": true,
           "textposition": "auto",
           "type": "bar",
           "x": [
            "Naypyitaw",
            "Naypyitaw",
            "Naypyitaw",
            "Naypyitaw"
           ],
           "xaxis": "x",
           "y": {
            "bdata": "aJHtfD/VfEDD9Shcj6aCQNv5fmq8i3lA8tJNYhD1fkA=",
            "dtype": "f8"
           },
           "yaxis": "y"
          },
          {
           "hovertemplate": "City=%{x}<br>Date=3/23/2019<br>Total=%{y}<extra></extra>",
           "ids": [
            "B"
           ],
           "legendgroup": "Mandalay",
           "marker": {
            "color": "#00cc96",
            "pattern": {
             "shape": ""
            }
           },
           "name": "Mandalay",
           "orientation": "v",
           "showlegend": true,
           "textposition": "auto",
           "type": "bar",
           "x": [
            "Mandalay"
           ],
           "xaxis": "x",
           "y": {
            "bdata": "c2iR7XwHeEA=",
            "dtype": "f8"
           },
           "yaxis": "y"
          }
         ],
         "name": "3/23/2019"
        },
        {
         "data": [
          {
           "hovertemplate": "City=%{x}<br>Date=1/17/2019<br>Total=%{y}<extra></extra>",
           "ids": [
            "A",
            "A",
            "A",
            "A"
           ],
           "legendgroup": "Yangon",
           "marker": {
            "color": "#636efa",
            "pattern": {
             "shape": ""
            }
           },
           "name": "Yangon",
           "orientation": "v",
           "showlegend": true,
           "textposition": "auto",
           "type": "bar",
           "x": [
            "Yangon",
            "Yangon",
            "Yangon",
            "Yangon"
           ],
           "xaxis": "x",
           "y": {
            "bdata": "30+Nl27yYEBxPQrXo6WKQIXrUbgePVRAiUFg5dAPe0A=",
            "dtype": "f8"
           },
           "yaxis": "y"
          },
          {
           "hovertemplate": "City=%{x}<br>Date=1/17/2019<br>Total=%{y}<extra></extra>",
           "ids": [
            "C",
            "C",
            "C"
           ],
           "legendgroup": "Naypyitaw",
           "marker": {
            "color": "#EF553B",
            "pattern": {
             "shape": ""
            }
           },
           "name": "Naypyitaw",
           "orientation": "v",
           "showlegend": true,
           "textposition": "auto",
           "type": "bar",
           "x": [
            "Naypyitaw",
            "Naypyitaw",
            "Naypyitaw"
           ],
           "xaxis": "x",
           "y": {
            "bdata": "4XoUrkeZd0BI4XoUrjthQC/dJAaBfWBA",
            "dtype": "f8"
           },
           "yaxis": "y"
          },
          {
           "hovertemplate": "City=%{x}<br>Date=1/17/2019<br>Total=%{y}<extra></extra>",
           "ids": [
            "B",
            "B",
            "B",
            "B"
           ],
           "legendgroup": "Mandalay",
           "marker": {
            "color": "#00cc96",
            "pattern": {
             "shape": ""
            }
           },
           "name": "Mandalay",
           "orientation": "v",
           "showlegend": true,
           "textposition": "auto",
           "type": "bar",
           "x": [
            "Mandalay",
            "Mandalay",
            "Mandalay",
            "Mandalay"
           ],
           "xaxis": "x",
           "y": {
            "bdata": "3SQGgZXDVkAj2/l+amReQAisHFrkuYVAF9nO91NTVUA=",
            "dtype": "f8"
           },
           "yaxis": "y"
          }
         ],
         "name": "1/17/2019"
        },
        {
         "data": [
          {
           "hovertemplate": "City=%{x}<br>Date=2/2/2019<br>Total=%{y}<extra></extra>",
           "ids": [
            "A",
            "A",
            "A",
            "A"
           ],
           "legendgroup": "Yangon",
           "marker": {
            "color": "#636efa",
            "pattern": {
             "shape": ""
            }
           },
           "name": "Yangon",
           "orientation": "v",
           "showlegend": true,
           "textposition": "auto",
           "type": "bar",
           "x": [
            "Yangon",
            "Yangon",
            "Yangon",
            "Yangon"
           ],
           "xaxis": "x",
           "y": {
            "bdata": "yXa+nxo/M0CF61G4HsVcQKRwPQrXTXxAPzVeukkMe0A=",
            "dtype": "f8"
           },
           "yaxis": "y"
          },
          {
           "hovertemplate": "City=%{x}<br>Date=2/2/2019<br>Total=%{y}<extra></extra>",
           "ids": [
            "C",
            "C",
            "C",
            "C",
            "C",
            "C"
           ],
           "legendgroup": "Naypyitaw",
           "marker": {
            "color": "#EF553B",
            "pattern": {
             "shape": ""
            }
           },
           "name": "Naypyitaw",
           "orientation": "v",
           "showlegend": true,
           "textposition": "auto",
           "type": "bar",
           "x": [
            "Naypyitaw",
            "Naypyitaw",
            "Naypyitaw",
            "Naypyitaw",
            "Naypyitaw",
            "Naypyitaw"
           ],
           "xaxis": "x",
           "y": {
            "bdata": "d76fGi91XUBOYhBYOQx5QHe+nxovUYFAz/dT46UrREAQWDm0yPJrQIXrUbge4WVA",
            "dtype": "f8"
           },
           "yaxis": "y"
          },
          {
           "hovertemplate": "City=%{x}<br>Date=2/2/2019<br>Total=%{y}<extra></extra>",
           "ids": [
            "B",
            "B",
            "B",
            "B"
           ],
           "legendgroup": "Mandalay",
           "marker": {
            "color": "#00cc96",
            "pattern": {
             "shape": ""
            }
           },
           "name": "Mandalay",
           "orientation": "v",
           "showlegend": true,
           "textposition": "auto",
           "type": "bar",
           "x": [
            "Mandalay",
            "Mandalay",
            "Mandalay",
            "Mandalay"
           ],
           "xaxis": "x",
           "y": {
            "bdata": "8tJNYhCkiECPwvUoXH57QDEIrBxaIGhAwcqhRbZ7Z0A=",
            "dtype": "f8"
           },
           "yaxis": "y"
          }
         ],
         "name": "2/2/2019"
        },
        {
         "data": [
          {
           "hovertemplate": "City=%{x}<br>Date=3/4/2019<br>Total=%{y}<extra></extra>",
           "ids": [
            "A",
            "A",
            "A",
            "A",
            "A",
            "A",
            "A",
            "A",
            "A"
           ],
           "legendgroup": "Yangon",
           "marker": {
            "color": "#636efa",
            "pattern": {
             "shape": ""
            }
           },
           "name": "Yangon",
           "orientation": "v",
           "showlegend": true,
           "textposition": "auto",
           "type": "bar",
           "x": [
            "Yangon",
            "Yangon",
            "Yangon",
            "Yangon",
            "Yangon",
            "Yangon",
            "Yangon",
            "Yangon",
            "Yangon"
           ],
           "xaxis": "x",
           "y": {
            "bdata": "2/l+arysVkDfT42XbqeDQBKDwMqhrW1AuB6F61EwU0CkcD0K1+l/QJhuEoPA6nxAhxbZzvcNa0ApXI/C9apzQP7UeOkmmXNA",
            "dtype": "f8"
           },
           "yaxis": "y"
          },
          {
           "hovertemplate": "City=%{x}<br>Date=3/4/2019<br>Total=%{y}<extra></extra>",
           "ids": [
            "C",
            "C"
           ],
           "legendgroup": "Naypyitaw",
           "marker": {
            "color": "#EF553B",
            "pattern": {
             "shape": ""
            }
           },
           "name": "Naypyitaw",
           "orientation": "v",
           "showlegend": true,
           "textposition": "auto",
           "type": "bar",
           "x": [
            "Naypyitaw",
            "Naypyitaw"
           ],
           "xaxis": "x",
           "y": {
            "bdata": "cT0K16PoiUCNl24Sg8A/QA==",
            "dtype": "f8"
           },
           "yaxis": "y"
          },
          {
           "hovertemplate": "City=%{x}<br>Date=3/4/2019<br>Total=%{y}<extra></extra>",
           "ids": [
            "B"
           ],
           "legendgroup": "Mandalay",
           "marker": {
            "color": "#00cc96",
            "pattern": {
             "shape": ""
            }
           },
           "name": "Mandalay",
           "orientation": "v",
           "showlegend": true,
           "textposition": "auto",
           "type": "bar",
           "x": [
            "Mandalay"
           ],
           "xaxis": "x",
           "y": {
            "bdata": "GQRWDi26ZkA=",
            "dtype": "f8"
           },
           "yaxis": "y"
          }
         ],
         "name": "3/4/2019"
        },
        {
         "data": [
          {
           "hovertemplate": "City=%{x}<br>Date=3/16/2019<br>Total=%{y}<extra></extra>",
           "ids": [
            "A",
            "A",
            "A"
           ],
           "legendgroup": "Yangon",
           "marker": {
            "color": "#636efa",
            "pattern": {
             "shape": ""
            }
           },
           "name": "Yangon",
           "orientation": "v",
           "showlegend": true,
           "textposition": "auto",
           "type": "bar",
           "x": [
            "Yangon",
            "Yangon",
            "Yangon"
           ],
           "xaxis": "x",
           "y": {
            "bdata": "AAAAAAAIg0AAAAAAAPBYQArXo3A933RA",
            "dtype": "f8"
           },
           "yaxis": "y"
          },
          {
           "hovertemplate": "City=%{x}<br>Date=3/16/2019<br>Total=%{y}<extra></extra>",
           "ids": [
            "C",
            "C",
            "C"
           ],
           "legendgroup": "Naypyitaw",
           "marker": {
            "color": "#EF553B",
            "pattern": {
             "shape": ""
            }
           },
           "name": "Naypyitaw",
           "orientation": "v",
           "showlegend": true,
           "textposition": "auto",
           "type": "bar",
           "x": [
            "Naypyitaw",
            "Naypyitaw",
            "Naypyitaw"
           ],
           "xaxis": "x",
           "y": {
            "bdata": "+n5qvHQjQEBI4XoUru2JQB1aZDvfh3lA",
            "dtype": "f8"
           },
           "yaxis": "y"
          },
          {
           "hovertemplate": "City=%{x}<br>Date=3/16/2019<br>Total=%{y}<extra></extra>",
           "ids": [
            "B",
            "B",
            "B"
           ],
           "legendgroup": "Mandalay",
           "marker": {
            "color": "#00cc96",
            "pattern": {
             "shape": ""
            }
           },
           "name": "Mandalay",
           "orientation": "v",
           "showlegend": true,
           "textposition": "auto",
           "type": "bar",
           "x": [
            "Mandalay",
            "Mandalay",
            "Mandalay"
           ],
           "xaxis": "x",
           "y": {
            "bdata": "RIts5/utU0Bcj8L1KI52QF66SQwCG3lA",
            "dtype": "f8"
           },
           "yaxis": "y"
          }
         ],
         "name": "3/16/2019"
        },
        {
         "data": [
          {
           "hovertemplate": "City=%{x}<br>Date=2/27/2019<br>Total=%{y}<extra></extra>",
           "ids": [
            "A",
            "A",
            "A",
            "A",
            "A"
           ],
           "legendgroup": "Yangon",
           "marker": {
            "color": "#636efa",
            "pattern": {
             "shape": ""
            }
           },
           "name": "Yangon",
           "orientation": "v",
           "showlegend": true,
           "textposition": "auto",
           "type": "bar",
           "x": [
            "Yangon",
            "Yangon",
            "Yangon",
            "Yangon",
            "Yangon"
           ],
           "xaxis": "x",
           "y": {
            "bdata": "XrpJDIIDh0Dn+6nx0o1GQJqZmZmZvWhAexSuR+FEhUApXI/C9WyIQA==",
            "dtype": "f8"
           },
           "yaxis": "y"
          },
          {
           "hovertemplate": "City=%{x}<br>Date=2/27/2019<br>Total=%{y}<extra></extra>",
           "ids": [
            "C",
            "C",
            "C"
           ],
           "legendgroup": "Naypyitaw",
           "marker": {
            "color": "#EF553B",
            "pattern": {
             "shape": ""
            }
           },
           "name": "Naypyitaw",
           "orientation": "v",
           "showlegend": true,
           "textposition": "auto",
           "type": "bar",
           "x": [
            "Naypyitaw",
            "Naypyitaw",
            "Naypyitaw"
           ],
           "xaxis": "x",
           "y": {
            "bdata": "qvHSTWLMiEC6SQwCKytaQC2yne8nuYNA",
            "dtype": "f8"
           },
           "yaxis": "y"
          },
          {
           "hovertemplate": "City=%{x}<br>Date=2/27/2019<br>Total=%{y}<extra></extra>",
           "ids": [
            "B",
            "B",
            "B",
            "B",
            "B",
            "B"
           ],
           "legendgroup": "Mandalay",
           "marker": {
            "color": "#00cc96",
            "pattern": {
             "shape": ""
            }
           },
           "name": "Mandalay",
           "orientation": "v",
           "showlegend": true,
           "textposition": "auto",
           "type": "bar",
           "x": [
            "Mandalay",
            "Mandalay",
            "Mandalay",
            "Mandalay",
            "Mandalay",
            "Mandalay"
           ],
           "xaxis": "x",
           "y": {
            "bdata": "JQaBlcO9gEA730+Nl1B+QAAAAAAAuGFASOF6FK4SdkAOLbKd76NkQB+F61G48mlA",
            "dtype": "f8"
           },
           "yaxis": "y"
          }
         ],
         "name": "2/27/2019"
        },
        {
         "data": [
          {
           "hovertemplate": "City=%{x}<br>Date=2/10/2019<br>Total=%{y}<extra></extra>",
           "ids": [
            "A",
            "A",
            "A",
            "A"
           ],
           "legendgroup": "Yangon",
           "marker": {
            "color": "#636efa",
            "pattern": {
             "shape": ""
            }
           },
           "name": "Yangon",
           "orientation": "v",
           "showlegend": true,
           "textposition": "auto",
           "type": "bar",
           "x": [
            "Yangon",
            "Yangon",
            "Yangon",
            "Yangon"
           ],
           "xaxis": "x",
           "y": {
            "bdata": "hetRuB5DbUDsUbgehcdzQC/dJAaBcVNACtejcD2leEA=",
            "dtype": "f8"
           },
           "yaxis": "y"
          },
          {
           "hovertemplate": "City=%{x}<br>Date=2/10/2019<br>Total=%{y}<extra></extra>",
           "ids": [
            "C",
            "C",
            "C"
           ],
           "legendgroup": "Naypyitaw",
           "marker": {
            "color": "#EF553B",
            "pattern": {
             "shape": ""
            }
           },
           "name": "Naypyitaw",
           "orientation": "v",
           "showlegend": true,
           "textposition": "auto",
           "type": "bar",
           "x": [
            "Naypyitaw",
            "Naypyitaw",
            "Naypyitaw"
           ],
           "xaxis": "x",
           "y": {
            "bdata": "7nw/NV6SUUBSuB6F66KJQDm0yHa+2oBA",
            "dtype": "f8"
           },
           "yaxis": "y"
          },
          {
           "hovertemplate": "City=%{x}<br>Date=2/10/2019<br>Total=%{y}<extra></extra>",
           "ids": [
            "B",
            "B",
            "B",
            "B"
           ],
           "legendgroup": "Mandalay",
           "marker": {
            "color": "#00cc96",
            "pattern": {
             "shape": ""
            }
           },
           "name": "Mandalay",
           "orientation": "v",
           "showlegend": true,
           "textposition": "auto",
           "type": "bar",
           "x": [
            "Mandalay",
            "Mandalay",
            "Mandalay",
            "Mandalay"
           ],
           "xaxis": "x",
           "y": {
            "bdata": "f2q8dJPQXUDRItv5fkpiQLbz/dR472JAVg4tsp30cEA=",
            "dtype": "f8"
           },
           "yaxis": "y"
          }
         ],
         "name": "2/10/2019"
        },
        {
         "data": [
          {
           "hovertemplate": "City=%{x}<br>Date=3/19/2019<br>Total=%{y}<extra></extra>",
           "ids": [
            "A",
            "A",
            "A",
            "A",
            "A",
            "A"
           ],
           "legendgroup": "Yangon",
           "marker": {
            "color": "#636efa",
            "pattern": {
             "shape": ""
            }
           },
           "name": "Yangon",
           "orientation": "v",
           "showlegend": true,
           "textposition": "auto",
           "type": "bar",
           "x": [
            "Yangon",
            "Yangon",
            "Yangon",
            "Yangon",
            "Yangon",
            "Yangon"
           ],
           "xaxis": "x",
           "y": {
            "bdata": "4XoUrkd3ZUCoxks3iSqGQKRwPQrXj4ZAMQisHFp0WECcxCCwcuBlQGZmZmZmRjBA",
            "dtype": "f8"
           },
           "yaxis": "y"
          },
          {
           "hovertemplate": "City=%{x}<br>Date=3/19/2019<br>Total=%{y}<extra></extra>",
           "ids": [
            "C",
            "C",
            "C",
            "C",
            "C",
            "C",
            "C"
           ],
           "legendgroup": "Naypyitaw",
           "marker": {
            "color": "#EF553B",
            "pattern": {
             "shape": ""
            }
           },
           "name": "Naypyitaw",
           "orientation": "v",
           "showlegend": true,
           "textposition": "auto",
           "type": "bar",
           "x": [
            "Naypyitaw",
            "Naypyitaw",
            "Naypyitaw",
            "Naypyitaw",
            "Naypyitaw",
            "Naypyitaw",
            "Naypyitaw"
           ],
           "xaxis": "x",
           "y": {
            "bdata": "Urgehesci0D4U+Olm1xxQFTjpZvE8EtABoGVQ4tOjUDhehSuR0FIQMP1KFyPPodAVg4tsp3Tc0A=",
            "dtype": "f8"
           },
           "yaxis": "y"
          },
          {
           "hovertemplate": "City=%{x}<br>Date=3/19/2019<br>Total=%{y}<extra></extra>",
           "ids": [
            "B",
            "B",
            "B"
           ],
           "legendgroup": "Mandalay",
           "marker": {
            "color": "#00cc96",
            "pattern": {
             "shape": ""
            }
           },
           "name": "Mandalay",
           "orientation": "v",
           "showlegend": true,
           "textposition": "auto",
           "type": "bar",
           "x": [
            "Mandalay",
            "Mandalay",
            "Mandalay"
           ],
           "xaxis": "x",
           "y": {
            "bdata": "uB6F61Hia0A3iUFg5bBqQPLSTWIQYGRA",
            "dtype": "f8"
           },
           "yaxis": "y"
          }
         ],
         "name": "3/19/2019"
        },
        {
         "data": [
          {
           "hovertemplate": "City=%{x}<br>Date=2/3/2019<br>Total=%{y}<extra></extra>",
           "ids": [
            "A",
            "A",
            "A",
            "A",
            "A"
           ],
           "legendgroup": "Yangon",
           "marker": {
            "color": "#636efa",
            "pattern": {
             "shape": ""
            }
           },
           "name": "Yangon",
           "orientation": "v",
           "showlegend": true,
           "textposition": "auto",
           "type": "bar",
           "x": [
            "Yangon",
            "Yangon",
            "Yangon",
            "Yangon",
            "Yangon"
           ],
           "xaxis": "x",
           "y": {
            "bdata": "bef7qfHKhUBI4XoUrkV5QM3MzMzMIYZA7FG4HoXhh0DXo3A9CudhQA==",
            "dtype": "f8"
           },
           "yaxis": "y"
          },
          {
           "hovertemplate": "City=%{x}<br>Date=2/3/2019<br>Total=%{y}<extra></extra>",
           "ids": [
            "C",
            "C",
            "C",
            "C"
           ],
           "legendgroup": "Naypyitaw",
           "marker": {
            "color": "#EF553B",
            "pattern": {
             "shape": ""
            }
           },
           "name": "Naypyitaw",
           "orientation": "v",
           "showlegend": true,
           "textposition": "auto",
           "type": "bar",
           "x": [
            "Naypyitaw",
            "Naypyitaw",
            "Naypyitaw",
            "Naypyitaw"
           ],
           "xaxis": "x",
           "y": {
            "bdata": "uB6F61H+hECPwvUoXJdqQD0K16NwaXNAH4XrUbgvgEA=",
            "dtype": "f8"
           },
           "yaxis": "y"
          },
          {
           "hovertemplate": "City=%{x}<br>Date=2/3/2019<br>Total=%{y}<extra></extra>",
           "ids": [
            "B",
            "B",
            "B",
            "B",
            "B"
           ],
           "legendgroup": "Mandalay",
           "marker": {
            "color": "#00cc96",
            "pattern": {
             "shape": ""
            }
           },
           "name": "Mandalay",
           "orientation": "v",
           "showlegend": true,
           "textposition": "auto",
           "type": "bar",
           "x": [
            "Mandalay",
            "Mandalay",
            "Mandalay",
            "Mandalay",
            "Mandalay"
           ],
           "xaxis": "x",
           "y": {
            "bdata": "bxKDwEpDgEAQWDm0yGpTQEw3iUFg62BAexSuR+HybkB56SYxCDxMQA==",
            "dtype": "f8"
           },
           "yaxis": "y"
          }
         ],
         "name": "2/3/2019"
        },
        {
         "data": [
          {
           "hovertemplate": "City=%{x}<br>Date=3/7/2019<br>Total=%{y}<extra></extra>",
           "ids": [
            "A",
            "A",
            "A"
           ],
           "legendgroup": "Yangon",
           "marker": {
            "color": "#636efa",
            "pattern": {
             "shape": ""
            }
           },
           "name": "Yangon",
           "orientation": "v",
           "showlegend": true,
           "textposition": "auto",
           "type": "bar",
           "x": [
            "Yangon",
            "Yangon",
            "Yangon"
           ],
           "xaxis": "x",
           "y": {
            "bdata": "uB6F61FeYkAhsHJokbVZQH0/NV66uV1A",
            "dtype": "f8"
           },
           "yaxis": "y"
          },
          {
           "hovertemplate": "City=%{x}<br>Date=3/7/2019<br>Total=%{y}<extra></extra>",
           "ids": [
            "C",
            "C",
            "C",
            "C"
           ],
           "legendgroup": "Naypyitaw",
           "marker": {
            "color": "#EF553B",
            "pattern": {
             "shape": ""
            }
           },
           "name": "Naypyitaw",
           "orientation": "v",
           "showlegend": true,
           "textposition": "auto",
           "type": "bar",
           "x": [
            "Naypyitaw",
            "Naypyitaw",
            "Naypyitaw",
            "Naypyitaw"
           ],
           "xaxis": "x",
           "y": {
            "bdata": "9ihcj8JFUUDZzvdT4zFqQC/dJAaBEXZAqMZLN4l9YUA=",
            "dtype": "f8"
           },
           "yaxis": "y"
          },
          {
           "hovertemplate": "City=%{x}<br>Date=3/7/2019<br>Total=%{y}<extra></extra>",
           "ids": [
            "B",
            "B"
           ],
           "legendgroup": "Mandalay",
           "marker": {
            "color": "#00cc96",
            "pattern": {
             "shape": ""
            }
           },
           "name": "Mandalay",
           "orientation": "v",
           "showlegend": true,
           "textposition": "auto",
           "type": "bar",
           "x": [
            "Mandalay",
            "Mandalay"
           ],
           "xaxis": "x",
           "y": {
            "bdata": "K4cW2c73QEDsUbgehX9wQA==",
            "dtype": "f8"
           },
           "yaxis": "y"
          }
         ],
         "name": "3/7/2019"
        },
        {
         "data": [
          {
           "hovertemplate": "City=%{x}<br>Date=2/28/2019<br>Total=%{y}<extra></extra>",
           "ids": [
            "A",
            "A"
           ],
           "legendgroup": "Yangon",
           "marker": {
            "color": "#636efa",
            "pattern": {
             "shape": ""
            }
           },
           "name": "Yangon",
           "orientation": "v",
           "showlegend": true,
           "textposition": "auto",
           "type": "bar",
           "x": [
            "Yangon",
            "Yangon"
           ],
           "xaxis": "x",
           "y": {
            "bdata": "0SLb+X6+f0DNzMzMzAxmQA==",
            "dtype": "f8"
           },
           "yaxis": "y"
          },
          {
           "hovertemplate": "City=%{x}<br>Date=2/28/2019<br>Total=%{y}<extra></extra>",
           "ids": [
            "C",
            "C"
           ],
           "legendgroup": "Naypyitaw",
           "marker": {
            "color": "#EF553B",
            "pattern": {
             "shape": ""
            }
           },
           "name": "Naypyitaw",
           "orientation": "v",
           "showlegend": true,
           "textposition": "auto",
           "type": "bar",
           "x": [
            "Naypyitaw",
            "Naypyitaw"
           ],
           "xaxis": "x",
           "y": {
            "bdata": "YOXQItuRhkDXo3A9CndoQA==",
            "dtype": "f8"
           },
           "yaxis": "y"
          },
          {
           "hovertemplate": "City=%{x}<br>Date=2/28/2019<br>Total=%{y}<extra></extra>",
           "ids": [
            "B",
            "B"
           ],
           "legendgroup": "Mandalay",
           "marker": {
            "color": "#00cc96",
            "pattern": {
             "shape": ""
            }
           },
           "name": "Mandalay",
           "orientation": "v",
           "showlegend": true,
           "textposition": "auto",
           "type": "bar",
           "x": [
            "Mandalay",
            "Mandalay"
           ],
           "xaxis": "x",
           "y": {
            "bdata": "hetRuB73ekC4HoXrUahPQA==",
            "dtype": "f8"
           },
           "yaxis": "y"
          }
         ],
         "name": "2/28/2019"
        },
        {
         "data": [
          {
           "hovertemplate": "City=%{x}<br>Date=3/27/2019<br>Total=%{y}<extra></extra>",
           "ids": [
            "A",
            "A",
            "A",
            "A",
            "A"
           ],
           "legendgroup": "Yangon",
           "marker": {
            "color": "#636efa",
            "pattern": {
             "shape": ""
            }
           },
           "name": "Yangon",
           "orientation": "v",
           "showlegend": true,
           "textposition": "auto",
           "type": "bar",
           "x": [
            "Yangon",
            "Yangon",
            "Yangon",
            "Yangon",
            "Yangon"
           ],
           "xaxis": "x",
           "y": {
            "bdata": "nu+nxktHV0AMAiuHFq92QLTIdr6fCnFAHVpkO9+bZEAMAiuHFuFkQA==",
            "dtype": "f8"
           },
           "yaxis": "y"
          },
          {
           "hovertemplate": "City=%{x}<br>Date=3/27/2019<br>Total=%{y}<extra></extra>",
           "ids": [
            "C"
           ],
           "legendgroup": "Naypyitaw",
           "marker": {
            "color": "#EF553B",
            "pattern": {
             "shape": ""
            }
           },
           "name": "Naypyitaw",
           "orientation": "v",
           "showlegend": true,
           "textposition": "auto",
           "type": "bar",
           "x": [
            "Naypyitaw"
           ],
           "xaxis": "x",
           "y": {
            "bdata": "CKwcWmR6jUA=",
            "dtype": "f8"
           },
           "yaxis": "y"
          },
          {
           "hovertemplate": "City=%{x}<br>Date=3/27/2019<br>Total=%{y}<extra></extra>",
           "ids": [
            "B",
            "B",
            "B",
            "B"
           ],
           "legendgroup": "Mandalay",
           "marker": {
            "color": "#00cc96",
            "pattern": {
             "shape": ""
            }
           },
           "name": "Mandalay",
           "orientation": "v",
           "showlegend": true,
           "textposition": "auto",
           "type": "bar",
           "x": [
            "Mandalay",
            "Mandalay",
            "Mandalay",
            "Mandalay"
           ],
           "xaxis": "x",
           "y": {
            "bdata": "YOXQIttigkA1XrpJDDpdQMHKoUW2c1lAcT0K16P0VkA=",
            "dtype": "f8"
           },
           "yaxis": "y"
          }
         ],
         "name": "3/27/2019"
        },
        {
         "data": [
          {
           "hovertemplate": "City=%{x}<br>Date=1/20/2019<br>Total=%{y}<extra></extra>",
           "ids": [
            "A",
            "A",
            "A",
            "A"
           ],
           "legendgroup": "Yangon",
           "marker": {
            "color": "#636efa",
            "pattern": {
             "shape": ""
            }
           },
           "name": "Yangon",
           "orientation": "v",
           "showlegend": true,
           "textposition": "auto",
           "type": "bar",
           "x": [
            "Yangon",
            "Yangon",
            "Yangon",
            "Yangon"
           ],
           "xaxis": "x",
           "y": {
            "bdata": "ZmZmZma9h0BeukkMAnNoQNv5fmq8xIBAMzMzMzMjbUA=",
            "dtype": "f8"
           },
           "yaxis": "y"
          },
          {
           "hovertemplate": "City=%{x}<br>Date=1/20/2019<br>Total=%{y}<extra></extra>",
           "ids": [
            "C",
            "C",
            "C",
            "C"
           ],
           "legendgroup": "Naypyitaw",
           "marker": {
            "color": "#EF553B",
            "pattern": {
             "shape": ""
            }
           },
           "name": "Naypyitaw",
           "orientation": "v",
           "showlegend": true,
           "textposition": "auto",
           "type": "bar",
           "x": [
            "Naypyitaw",
            "Naypyitaw",
            "Naypyitaw",
            "Naypyitaw"
           ],
           "xaxis": "x",
           "y": {
            "bdata": "mpmZmZlth0A3iUFg5cR1QC2yne+nZmBAK4cW2c5vfUA=",
            "dtype": "f8"
           },
           "yaxis": "y"
          },
          {
           "hovertemplate": "City=%{x}<br>Date=1/20/2019<br>Total=%{y}<extra></extra>",
           "ids": [
            "B",
            "B"
           ],
           "legendgroup": "Mandalay",
           "marker": {
            "color": "#00cc96",
            "pattern": {
             "shape": ""
            }
           },
           "name": "Mandalay",
           "orientation": "v",
           "showlegend": true,
           "textposition": "auto",
           "type": "bar",
           "x": [
            "Mandalay",
            "Mandalay"
           ],
           "xaxis": "x",
           "y": {
            "bdata": "dZMYBFYOXECHFtnO94NdQA==",
            "dtype": "f8"
           },
           "yaxis": "y"
          }
         ],
         "name": "1/20/2019"
        },
        {
         "data": [
          {
           "hovertemplate": "City=%{x}<br>Date=3/12/2019<br>Total=%{y}<extra></extra>",
           "ids": [
            "A",
            "A"
           ],
           "legendgroup": "Yangon",
           "marker": {
            "color": "#636efa",
            "pattern": {
             "shape": ""
            }
           },
           "name": "Yangon",
           "orientation": "v",
           "showlegend": true,
           "textposition": "auto",
           "type": "bar",
           "x": [
            "Yangon",
            "Yangon"
           ],
           "xaxis": "x",
           "y": {
            "bdata": "UrgeheuZhkACK4cW2QZpQA==",
            "dtype": "f8"
           },
           "yaxis": "y"
          },
          {
           "hovertemplate": "City=%{x}<br>Date=3/12/2019<br>Total=%{y}<extra></extra>",
           "ids": [
            "C",
            "C",
            "C",
            "C",
            "C"
           ],
           "legendgroup": "Naypyitaw",
           "marker": {
            "color": "#EF553B",
            "pattern": {
             "shape": ""
            }
           },
           "name": "Naypyitaw",
           "orientation": "v",
           "showlegend": true,
           "textposition": "auto",
           "type": "bar",
           "x": [
            "Naypyitaw",
            "Naypyitaw",
            "Naypyitaw",
            "Naypyitaw",
            "Naypyitaw"
           ],
           "xaxis": "x",
           "y": {
            "bdata": "5dAi2/kaaECamZmZmcllQIPAyqFFvnhAhxbZzvdDaEBiEFg5tEh5QA==",
            "dtype": "f8"
           },
           "yaxis": "y"
          },
          {
           "hovertemplate": "City=%{x}<br>Date=3/12/2019<br>Total=%{y}<extra></extra>",
           "ids": [
            "B",
            "B",
            "B",
            "B",
            "B"
           ],
           "legendgroup": "Mandalay",
           "marker": {
            "color": "#00cc96",
            "pattern": {
             "shape": ""
            }
           },
           "name": "Mandalay",
           "orientation": "v",
           "showlegend": true,
           "textposition": "auto",
           "type": "bar",
           "x": [
            "Mandalay",
            "Mandalay",
            "Mandalay",
            "Mandalay",
            "Mandalay"
           ],
           "xaxis": "x",
           "y": {
            "bdata": "Vg4tsp0Bg0DZzvdT461AQG3n+6nxekRA46WbxCCoeUACK4cW2bVyQA==",
            "dtype": "f8"
           },
           "yaxis": "y"
          }
         ],
         "name": "3/12/2019"
        },
        {
         "data": [
          {
           "hovertemplate": "City=%{x}<br>Date=2/15/2019<br>Total=%{y}<extra></extra>",
           "ids": [
            "A",
            "A",
            "A",
            "A",
            "A"
           ],
           "legendgroup": "Yangon",
           "marker": {
            "color": "#636efa",
            "pattern": {
             "shape": ""
            }
           },
           "name": "Yangon",
           "orientation": "v",
           "showlegend": true,
           "textposition": "auto",
           "type": "bar",
           "x": [
            "Yangon",
            "Yangon",
            "Yangon",
            "Yangon",
            "Yangon"
           ],
           "xaxis": "x",
           "y": {
            "bdata": "WmQ7309dgkBGtvP91AhYQPYoXI/CjWRASOF6FK5rakBkO99PjXNkQA==",
            "dtype": "f8"
           },
           "yaxis": "y"
          },
          {
           "hovertemplate": "City=%{x}<br>Date=2/15/2019<br>Total=%{y}<extra></extra>",
           "ids": [
            "C",
            "C",
            "C",
            "C",
            "C",
            "C",
            "C"
           ],
           "legendgroup": "Naypyitaw",
           "marker": {
            "color": "#EF553B",
            "pattern": {
             "shape": ""
            }
           },
           "name": "Naypyitaw",
           "orientation": "v",
           "showlegend": true,
           "textposition": "auto",
           "type": "bar",
           "x": [
            "Naypyitaw",
            "Naypyitaw",
            "Naypyitaw",
            "Naypyitaw",
            "Naypyitaw",
            "Naypyitaw",
            "Naypyitaw"
           ],
           "xaxis": "x",
           "y": {
            "bdata": "3SQGgZV7U0CamZmZmUqQQKrx0k1isG9ANV66SQzyWUBmZmZmZoZ1QPCnxks3qXFAw/UoXI/+cUA=",
            "dtype": "f8"
           },
           "yaxis": "y"
          },
          {
           "hovertemplate": "City=%{x}<br>Date=2/15/2019<br>Total=%{y}<extra></extra>",
           "ids": [
            "B",
            "B",
            "B",
            "B",
            "B",
            "B",
            "B"
           ],
           "legendgroup": "Mandalay",
           "marker": {
            "color": "#00cc96",
            "pattern": {
             "shape": ""
            }
           },
           "name": "Mandalay",
           "orientation": "v",
           "showlegend": true,
           "textposition": "auto",
           "type": "bar",
           "x": [
            "Mandalay",
            "Mandalay",
            "Mandalay",
            "Mandalay",
            "Mandalay",
            "Mandalay",
            "Mandalay"
           ],
           "xaxis": "x",
           "y": {
            "bdata": "okW28/26gEAfhetRuFJXQB+F61G4qYFAPQrXo3DbhkBQjZduEq12QN9PjZduLldAMzMzM7MPikA=",
            "dtype": "f8"
           },
           "yaxis": "y"
          }
         ],
         "name": "2/15/2019"
        },
        {
         "data": [
          {
           "hovertemplate": "City=%{x}<br>Date=3/6/2019<br>Total=%{y}<extra></extra>",
           "ids": [
            "A",
            "A",
            "A",
            "A"
           ],
           "legendgroup": "Yangon",
           "marker": {
            "color": "#636efa",
            "pattern": {
             "shape": ""
            }
           },
           "name": "Yangon",
           "orientation": "v",
           "showlegend": true,
           "textposition": "auto",
           "type": "bar",
           "x": [
            "Yangon",
            "Yangon",
            "Yangon",
            "Yangon"
           ],
           "xaxis": "x",
           "y": {
            "bdata": "XI/C9SjAZEAxCKwcWiOCQJqZmZmZZWlASgwCK4fuVEA=",
            "dtype": "f8"
           },
           "yaxis": "y"
          },
          {
           "hovertemplate": "City=%{x}<br>Date=3/6/2019<br>Total=%{y}<extra></extra>",
           "ids": [
            "C"
           ],
           "legendgroup": "Naypyitaw",
           "marker": {
            "color": "#EF553B",
            "pattern": {
             "shape": ""
            }
           },
           "name": "Naypyitaw",
           "orientation": "v",
           "showlegend": true,
           "textposition": "auto",
           "type": "bar",
           "x": [
            "Naypyitaw"
           ],
           "xaxis": "x",
           "y": {
            "bdata": "zczMzMxsQ0A=",
            "dtype": "f8"
           },
           "yaxis": "y"
          },
          {
           "hovertemplate": "City=%{x}<br>Date=3/6/2019<br>Total=%{y}<extra></extra>",
           "ids": [
            "B",
            "B",
            "B",
            "B",
            "B",
            "B"
           ],
           "legendgroup": "Mandalay",
           "marker": {
            "color": "#00cc96",
            "pattern": {
             "shape": ""
            }
           },
           "name": "Mandalay",
           "orientation": "v",
           "showlegend": true,
           "textposition": "auto",
           "type": "bar",
           "x": [
            "Mandalay",
            "Mandalay",
            "Mandalay",
            "Mandalay",
            "Mandalay",
            "Mandalay"
           ],
           "xaxis": "x",
           "y": {
            "bdata": "okW28/3cgkD4U+Olm4R8QIXrUbgeIHZAEFg5tMgKdkCkcD0K159iQGiR7Xw/NVpA",
            "dtype": "f8"
           },
           "yaxis": "y"
          }
         ],
         "name": "3/6/2019"
        },
        {
         "data": [
          {
           "hovertemplate": "City=%{x}<br>Date=2/14/2019<br>Total=%{y}<extra></extra>",
           "ids": [
            "A",
            "A",
            "A"
           ],
           "legendgroup": "Yangon",
           "marker": {
            "color": "#636efa",
            "pattern": {
             "shape": ""
            }
           },
           "name": "Yangon",
           "orientation": "v",
           "showlegend": true,
           "textposition": "auto",
           "type": "bar",
           "x": [
            "Yangon",
            "Yangon",
            "Yangon"
           ],
           "xaxis": "x",
           "y": {
            "bdata": "30+Nl24iikAfhetRuJRhQI/C9Shc91dA",
            "dtype": "f8"
           },
           "yaxis": "y"
          },
          {
           "hovertemplate": "City=%{x}<br>Date=2/14/2019<br>Total=%{y}<extra></extra>",
           "ids": [
            "C",
            "C",
            "C"
           ],
           "legendgroup": "Naypyitaw",
           "marker": {
            "color": "#EF553B",
            "pattern": {
             "shape": ""
            }
           },
           "name": "Naypyitaw",
           "orientation": "v",
           "showlegend": true,
           "textposition": "auto",
           "type": "bar",
           "x": [
            "Naypyitaw",
            "Naypyitaw",
            "Naypyitaw"
           ],
           "xaxis": "x",
           "y": {
            "bdata": "i2zn+6kVakB7FK5H4SZyQJHtfD81nl5A",
            "dtype": "f8"
           },
           "yaxis": "y"
          },
          {
           "hovertemplate": "City=%{x}<br>Date=2/14/2019<br>Total=%{y}<extra></extra>",
           "ids": [
            "B",
            "B"
           ],
           "legendgroup": "Mandalay",
           "marker": {
            "color": "#00cc96",
            "pattern": {
             "shape": ""
            }
           },
           "name": "Mandalay",
           "orientation": "v",
           "showlegend": true,
           "textposition": "auto",
           "type": "bar",
           "x": [
            "Mandalay",
            "Mandalay"
           ],
           "xaxis": "x",
           "y": {
            "bdata": "fT81Xrrhc0DFILByaJl7QA==",
            "dtype": "f8"
           },
           "yaxis": "y"
          }
         ],
         "name": "2/14/2019"
        },
        {
         "data": [
          {
           "hovertemplate": "City=%{x}<br>Date=3/13/2019<br>Total=%{y}<extra></extra>",
           "ids": [
            "A",
            "A",
            "A"
           ],
           "legendgroup": "Yangon",
           "marker": {
            "color": "#636efa",
            "pattern": {
             "shape": ""
            }
           },
           "name": "Yangon",
           "orientation": "v",
           "showlegend": true,
           "textposition": "auto",
           "type": "bar",
           "x": [
            "Yangon",
            "Yangon",
            "Yangon"
           ],
           "xaxis": "x",
           "y": {
            "bdata": "uB6F61HUZECWQ4ts5wh1QEjhehSuznFA",
            "dtype": "f8"
           },
           "yaxis": "y"
          },
          {
           "hovertemplate": "City=%{x}<br>Date=3/13/2019<br>Total=%{y}<extra></extra>",
           "ids": [
            "C",
            "C",
            "C",
            "C"
           ],
           "legendgroup": "Naypyitaw",
           "marker": {
            "color": "#EF553B",
            "pattern": {
             "shape": ""
            }
           },
           "name": "Naypyitaw",
           "orientation": "v",
           "showlegend": true,
           "textposition": "auto",
           "type": "bar",
           "x": [
            "Naypyitaw",
            "Naypyitaw",
            "Naypyitaw",
            "Naypyitaw"
           ],
           "xaxis": "x",
           "y": {
            "bdata": "mG4Sg8DGgECoxks3iSFjQJqZmZmZqU1A001iEFiZWUA=",
            "dtype": "f8"
           },
           "yaxis": "y"
          },
          {
           "hovertemplate": "City=%{x}<br>Date=3/13/2019<br>Total=%{y}<extra></extra>",
           "ids": [
            "B",
            "B",
            "B"
           ],
           "legendgroup": "Mandalay",
           "marker": {
            "color": "#00cc96",
            "pattern": {
             "shape": ""
            }
           },
           "name": "Mandalay",
           "orientation": "v",
           "showlegend": true,
           "textposition": "auto",
           "type": "bar",
           "x": [
            "Mandalay",
            "Mandalay",
            "Mandalay"
           ],
           "xaxis": "x",
           "y": {
            "bdata": "7FG4HoUbZEApXI/C9cRnQEjhehSuN1JA",
            "dtype": "f8"
           },
           "yaxis": "y"
          }
         ],
         "name": "3/13/2019"
        },
        {
         "data": [
          {
           "hovertemplate": "City=%{x}<br>Date=1/24/2019<br>Total=%{y}<extra></extra>",
           "ids": [
            "A",
            "A",
            "A",
            "A",
            "A"
           ],
           "legendgroup": "Yangon",
           "marker": {
            "color": "#636efa",
            "pattern": {
             "shape": ""
            }
           },
           "name": "Yangon",
           "orientation": "v",
           "showlegend": true,
           "textposition": "auto",
           "type": "bar",
           "x": [
            "Yangon",
            "Yangon",
            "Yangon",
            "Yangon",
            "Yangon"
           ],
           "xaxis": "x",
           "y": {
            "bdata": "SOF6FK7YiUAAAAAAAG55QDeJQWDlwIZASgwCK4eGeUCTGARWDi1WQA==",
            "dtype": "f8"
           },
           "yaxis": "y"
          },
          {
           "hovertemplate": "City=%{x}<br>Date=1/24/2019<br>Total=%{y}<extra></extra>",
           "ids": [
            "C",
            "C"
           ],
           "legendgroup": "Naypyitaw",
           "marker": {
            "color": "#EF553B",
            "pattern": {
             "shape": ""
            }
           },
           "name": "Naypyitaw",
           "orientation": "v",
           "showlegend": true,
           "textposition": "auto",
           "type": "bar",
           "x": [
            "Naypyitaw",
            "Naypyitaw"
           ],
           "xaxis": "x",
           "y": {
            "bdata": "sHJoke30T0A/NV66SeBwQA==",
            "dtype": "f8"
           },
           "yaxis": "y"
          },
          {
           "hovertemplate": "City=%{x}<br>Date=1/24/2019<br>Total=%{y}<extra></extra>",
           "ids": [
            "B",
            "B",
            "B",
            "B",
            "B",
            "B"
           ],
           "legendgroup": "Mandalay",
           "marker": {
            "color": "#00cc96",
            "pattern": {
             "shape": ""
            }
           },
           "name": "Mandalay",
           "orientation": "v",
           "showlegend": true,
           "textposition": "auto",
           "type": "bar",
           "x": [
            "Mandalay",
            "Mandalay",
            "Mandalay",
            "Mandalay",
            "Mandalay",
            "Mandalay"
           ],
           "xaxis": "x",
           "y": {
            "bdata": "ZmZmZmZyekA/NV66SVpyQLByaJHtLGJAObTIdr5tgUDsUbgehQt4QGZmZmZmIolA",
            "dtype": "f8"
           },
           "yaxis": "y"
          }
         ],
         "name": "1/24/2019"
        },
        {
         "data": [
          {
           "hovertemplate": "City=%{x}<br>Date=1/6/2019<br>Total=%{y}<extra></extra>",
           "ids": [
            "A",
            "A",
            "A",
            "A",
            "A"
           ],
           "legendgroup": "Yangon",
           "marker": {
            "color": "#636efa",
            "pattern": {
             "shape": ""
            }
           },
           "name": "Yangon",
           "orientation": "v",
           "showlegend": true,
           "textposition": "auto",
           "type": "bar",
           "x": [
            "Yangon",
            "Yangon",
            "Yangon",
            "Yangon",
            "Yangon"
           ],
           "xaxis": "x",
           "y": {
            "bdata": "XI/C9SjsfkAIrBxaZBswQFK4HoXr3WpAnMQgsHL0cECsHFpkO45zQA==",
            "dtype": "f8"
           },
           "yaxis": "y"
          },
          {
           "hovertemplate": "City=%{x}<br>Date=1/6/2019<br>Total=%{y}<extra></extra>",
           "ids": [
            "C",
            "C"
           ],
           "legendgroup": "Naypyitaw",
           "marker": {
            "color": "#EF553B",
            "pattern": {
             "shape": ""
            }
           },
           "name": "Naypyitaw",
           "orientation": "v",
           "showlegend": true,
           "textposition": "auto",
           "type": "bar",
           "x": [
            "Naypyitaw",
            "Naypyitaw"
           ],
           "xaxis": "x",
           "y": {
            "bdata": "uB6F61FcjUA3iUFg5XB1QA==",
            "dtype": "f8"
           },
           "yaxis": "y"
          },
          {
           "hovertemplate": "City=%{x}<br>Date=1/6/2019<br>Total=%{y}<extra></extra>",
           "ids": [
            "B",
            "B"
           ],
           "legendgroup": "Mandalay",
           "marker": {
            "color": "#00cc96",
            "pattern": {
             "shape": ""
            }
           },
           "name": "Mandalay",
           "orientation": "v",
           "showlegend": true,
           "textposition": "auto",
           "type": "bar",
           "x": [
            "Mandalay",
            "Mandalay"
           ],
           "xaxis": "x",
           "y": {
            "bdata": "ukkMAitTcEB56SYxiMOHQA==",
            "dtype": "f8"
           },
           "yaxis": "y"
          }
         ],
         "name": "1/6/2019"
        },
        {
         "data": [
          {
           "hovertemplate": "City=%{x}<br>Date=2/11/2019<br>Total=%{y}<extra></extra>",
           "ids": [
            "A",
            "A"
           ],
           "legendgroup": "Yangon",
           "marker": {
            "color": "#636efa",
            "pattern": {
             "shape": ""
            }
           },
           "name": "Yangon",
           "orientation": "v",
           "showlegend": true,
           "textposition": "auto",
           "type": "bar",
           "x": [
            "Yangon",
            "Yangon"
           ],
           "xaxis": "x",
           "y": {
            "bdata": "HVpkO9/feEDy0k1iEIhvQA==",
            "dtype": "f8"
           },
           "yaxis": "y"
          },
          {
           "hovertemplate": "City=%{x}<br>Date=2/11/2019<br>Total=%{y}<extra></extra>",
           "ids": [
            "C",
            "C",
            "C"
           ],
           "legendgroup": "Naypyitaw",
           "marker": {
            "color": "#EF553B",
            "pattern": {
             "shape": ""
            }
           },
           "name": "Naypyitaw",
           "orientation": "v",
           "showlegend": true,
           "textposition": "auto",
           "type": "bar",
           "x": [
            "Naypyitaw",
            "Naypyitaw",
            "Naypyitaw"
           ],
           "xaxis": "x",
           "y": {
            "bdata": "rkfhehRihEDNzMzMzESNQClcj8L1cXxA",
            "dtype": "f8"
           },
           "yaxis": "y"
          },
          {
           "hovertemplate": "City=%{x}<br>Date=2/11/2019<br>Total=%{y}<extra></extra>",
           "ids": [
            "B",
            "B",
            "B"
           ],
           "legendgroup": "Mandalay",
           "marker": {
            "color": "#00cc96",
            "pattern": {
             "shape": ""
            }
           },
           "name": "Mandalay",
           "orientation": "v",
           "showlegend": true,
           "textposition": "auto",
           "type": "bar",
           "x": [
            "Mandalay",
            "Mandalay",
            "Mandalay"
           ],
           "xaxis": "x",
           "y": {
            "bdata": "EoPAyqFVbkBiEFg5NNWIQM3MzMzMVIlA",
            "dtype": "f8"
           },
           "yaxis": "y"
          }
         ],
         "name": "2/11/2019"
        },
        {
         "data": [
          {
           "hovertemplate": "City=%{x}<br>Date=1/22/2019<br>Total=%{y}<extra></extra>",
           "ids": [
            "A",
            "A"
           ],
           "legendgroup": "Yangon",
           "marker": {
            "color": "#636efa",
            "pattern": {
             "shape": ""
            }
           },
           "name": "Yangon",
           "orientation": "v",
           "showlegend": true,
           "textposition": "auto",
           "type": "bar",
           "x": [
            "Yangon",
            "Yangon"
           ],
           "xaxis": "x",
           "y": {
            "bdata": "ZDvfTw0NhkAMAiuHFilYQA==",
            "dtype": "f8"
           },
           "yaxis": "y"
          },
          {
           "hovertemplate": "City=%{x}<br>Date=1/22/2019<br>Total=%{y}<extra></extra>",
           "ids": [
            "C",
            "C",
            "C"
           ],
           "legendgroup": "Naypyitaw",
           "marker": {
            "color": "#EF553B",
            "pattern": {
             "shape": ""
            }
           },
           "name": "Naypyitaw",
           "orientation": "v",
           "showlegend": true,
           "textposition": "auto",
           "type": "bar",
           "x": [
            "Naypyitaw",
            "Naypyitaw",
            "Naypyitaw"
           ],
           "xaxis": "x",
           "y": {
            "bdata": "SOF6FK6/WkC28/3UeGVVQOxRuB6F2WlA",
            "dtype": "f8"
           },
           "yaxis": "y"
          },
          {
           "hovertemplate": "City=%{x}<br>Date=1/22/2019<br>Total=%{y}<extra></extra>",
           "ids": [
            "B",
            "B"
           ],
           "legendgroup": "Mandalay",
           "marker": {
            "color": "#00cc96",
            "pattern": {
             "shape": ""
            }
           },
           "name": "Mandalay",
           "orientation": "v",
           "showlegend": true,
           "textposition": "auto",
           "type": "bar",
           "x": [
            "Mandalay",
            "Mandalay"
           ],
           "xaxis": "x",
           "y": {
            "bdata": "z/dT46X5dUAUrkfhevBiQA==",
            "dtype": "f8"
           },
           "yaxis": "y"
          }
         ],
         "name": "1/22/2019"
        },
        {
         "data": [
          {
           "hovertemplate": "City=%{x}<br>Date=1/13/2019<br>Total=%{y}<extra></extra>",
           "ids": [
            "A",
            "A",
            "A",
            "A"
           ],
           "legendgroup": "Yangon",
           "marker": {
            "color": "#636efa",
            "pattern": {
             "shape": ""
            }
           },
           "name": "Yangon",
           "orientation": "v",
           "showlegend": true,
           "textposition": "auto",
           "type": "bar",
           "x": [
            "Yangon",
            "Yangon",
            "Yangon",
            "Yangon"
           ],
           "xaxis": "x",
           "y": {
            "bdata": "qMZLN4l5YkCR7Xw/NfB0QAaBlUOLZndAK4cW2c7lb0A=",
            "dtype": "f8"
           },
           "yaxis": "y"
          },
          {
           "hovertemplate": "City=%{x}<br>Date=1/13/2019<br>Total=%{y}<extra></extra>",
           "ids": [
            "C",
            "C",
            "C"
           ],
           "legendgroup": "Naypyitaw",
           "marker": {
            "color": "#EF553B",
            "pattern": {
             "shape": ""
            }
           },
           "name": "Naypyitaw",
           "orientation": "v",
           "showlegend": true,
           "textposition": "auto",
           "type": "bar",
           "x": [
            "Naypyitaw",
            "Naypyitaw",
            "Naypyitaw"
           ],
           "xaxis": "x",
           "y": {
            "bdata": "MzMzMzNVe0A/NV66SYBTQGQ730+NF1ZA",
            "dtype": "f8"
           },
           "yaxis": "y"
          },
          {
           "hovertemplate": "City=%{x}<br>Date=1/13/2019<br>Total=%{y}<extra></extra>",
           "ids": [
            "B",
            "B",
            "B"
           ],
           "legendgroup": "Mandalay",
           "marker": {
            "color": "#00cc96",
            "pattern": {
             "shape": ""
            }
           },
           "name": "Mandalay",
           "orientation": "v",
           "showlegend": true,
           "textposition": "auto",
           "type": "bar",
           "x": [
            "Mandalay",
            "Mandalay",
            "Mandalay"
           ],
           "xaxis": "x",
           "y": {
            "bdata": "d76fGi9tX0D4U+OlmwBjQK5H4XoUlnxA",
            "dtype": "f8"
           },
           "yaxis": "y"
          }
         ],
         "name": "1/13/2019"
        },
        {
         "data": [
          {
           "hovertemplate": "City=%{x}<br>Date=1/9/2019<br>Total=%{y}<extra></extra>",
           "ids": [
            "A"
           ],
           "legendgroup": "Yangon",
           "marker": {
            "color": "#636efa",
            "pattern": {
             "shape": ""
            }
           },
           "name": "Yangon",
           "orientation": "v",
           "showlegend": true,
           "textposition": "auto",
           "type": "bar",
           "x": [
            "Yangon"
           ],
           "xaxis": "x",
           "y": {
            "bdata": "H4XrUbhKaUA=",
            "dtype": "f8"
           },
           "yaxis": "y"
          },
          {
           "hovertemplate": "City=%{x}<br>Date=1/9/2019<br>Total=%{y}<extra></extra>",
           "ids": [
            "C",
            "C",
            "C",
            "C",
            "C"
           ],
           "legendgroup": "Naypyitaw",
           "marker": {
            "color": "#EF553B",
            "pattern": {
             "shape": ""
            }
           },
           "name": "Naypyitaw",
           "orientation": "v",
           "showlegend": true,
           "textposition": "auto",
           "type": "bar",
           "x": [
            "Naypyitaw",
            "Naypyitaw",
            "Naypyitaw",
            "Naypyitaw",
            "Naypyitaw"
           ],
           "xaxis": "x",
           "y": {
            "bdata": "AiuHFtn2fEApXI/C9VCPQPp+arx0a3NAzczMzMy8ZECTGARWjiKGQA==",
            "dtype": "f8"
           },
           "yaxis": "y"
          },
          {
           "hovertemplate": "City=%{x}<br>Date=1/9/2019<br>Total=%{y}<extra></extra>",
           "ids": [
            "B",
            "B"
           ],
           "legendgroup": "Mandalay",
           "marker": {
            "color": "#00cc96",
            "pattern": {
             "shape": ""
            }
           },
           "name": "Mandalay",
           "orientation": "v",
           "showlegend": true,
           "textposition": "auto",
           "type": "bar",
           "x": [
            "Mandalay",
            "Mandalay"
           ],
           "xaxis": "x",
           "y": {
            "bdata": "w/UoXI/iWEDXo3A9Cj9RQA==",
            "dtype": "f8"
           },
           "yaxis": "y"
          }
         ],
         "name": "1/9/2019"
        },
        {
         "data": [
          {
           "hovertemplate": "City=%{x}<br>Date=1/12/2019<br>Total=%{y}<extra></extra>",
           "ids": [
            "A",
            "A",
            "A"
           ],
           "legendgroup": "Yangon",
           "marker": {
            "color": "#636efa",
            "pattern": {
             "shape": ""
            }
           },
           "name": "Yangon",
           "orientation": "v",
           "showlegend": true,
           "textposition": "auto",
           "type": "bar",
           "x": [
            "Yangon",
            "Yangon",
            "Yangon"
           ],
           "xaxis": "x",
           "y": {
            "bdata": "Gy/dJAajZ0DhehSuRxiNQMP1KFyPTnNA",
            "dtype": "f8"
           },
           "yaxis": "y"
          },
          {
           "hovertemplate": "City=%{x}<br>Date=1/12/2019<br>Total=%{y}<extra></extra>",
           "ids": [
            "C",
            "C"
           ],
           "legendgroup": "Naypyitaw",
           "marker": {
            "color": "#EF553B",
            "pattern": {
             "shape": ""
            }
           },
           "name": "Naypyitaw",
           "orientation": "v",
           "showlegend": true,
           "textposition": "auto",
           "type": "bar",
           "x": [
            "Naypyitaw",
            "Naypyitaw"
           ],
           "xaxis": "x",
           "y": {
            "bdata": "WmQ73089ekAAAAAAAP6PQA==",
            "dtype": "f8"
           },
           "yaxis": "y"
          },
          {
           "hovertemplate": "City=%{x}<br>Date=1/12/2019<br>Total=%{y}<extra></extra>",
           "ids": [
            "B",
            "B",
            "B",
            "B",
            "B",
            "B"
           ],
           "legendgroup": "Mandalay",
           "marker": {
            "color": "#00cc96",
            "pattern": {
             "shape": ""
            }
           },
           "name": "Mandalay",
           "orientation": "v",
           "showlegend": true,
           "textposition": "auto",
           "type": "bar",
           "x": [
            "Mandalay",
            "Mandalay",
            "Mandalay",
            "Mandalay",
            "Mandalay",
            "Mandalay"
           ],
           "xaxis": "x",
           "y": {
            "bdata": "7nw/NV4KXkAj2/l+amw8QAAAAAAAUYtARrbz/dQIiECJQWDl0B5iQEa28/3UdXdA",
            "dtype": "f8"
           },
           "yaxis": "y"
          }
         ],
         "name": "1/12/2019"
        },
        {
         "data": [
          {
           "hovertemplate": "City=%{x}<br>Date=1/26/2019<br>Total=%{y}<extra></extra>",
           "ids": [
            "A",
            "A",
            "A"
           ],
           "legendgroup": "Yangon",
           "marker": {
            "color": "#636efa",
            "pattern": {
             "shape": ""
            }
           },
           "name": "Yangon",
           "orientation": "v",
           "showlegend": true,
           "textposition": "auto",
           "type": "bar",
           "x": [
            "Yangon",
            "Yangon",
            "Yangon"
           ],
           "xaxis": "x",
           "y": {
            "bdata": "ObTIdr6+d0DdJAaBlWMpQIlBYOXQYjZA",
            "dtype": "f8"
           },
           "yaxis": "y"
          },
          {
           "hovertemplate": "City=%{x}<br>Date=1/26/2019<br>Total=%{y}<extra></extra>",
           "ids": [
            "C",
            "C",
            "C",
            "C"
           ],
           "legendgroup": "Naypyitaw",
           "marker": {
            "color": "#EF553B",
            "pattern": {
             "shape": ""
            }
           },
           "name": "Naypyitaw",
           "orientation": "v",
           "showlegend": true,
           "textposition": "auto",
           "type": "bar",
           "x": [
            "Naypyitaw",
            "Naypyitaw",
            "Naypyitaw",
            "Naypyitaw"
           ],
           "xaxis": "x",
           "y": {
            "bdata": "FK5H4XpwfUDNzMzMzC5oQBfZzvdTD1FAarx0kxigWkA=",
            "dtype": "f8"
           },
           "yaxis": "y"
          },
          {
           "hovertemplate": "City=%{x}<br>Date=1/26/2019<br>Total=%{y}<extra></extra>",
           "ids": [
            "B",
            "B",
            "B",
            "B",
            "B",
            "B",
            "B",
            "B",
            "B",
            "B"
           ],
           "legendgroup": "Mandalay",
           "marker": {
            "color": "#00cc96",
            "pattern": {
             "shape": ""
            }
           },
           "name": "Mandalay",
           "orientation": "v",
           "showlegend": true,
           "textposition": "auto",
           "type": "bar",
           "x": [
            "Mandalay",
            "Mandalay",
            "Mandalay",
            "Mandalay",
            "Mandalay",
            "Mandalay",
            "Mandalay",
            "Mandalay",
            "Mandalay",
            "Mandalay"
           ],
           "xaxis": "x",
           "y": {
            "bdata": "6SYxCKwIc0AzMzMzM0R6QKRwPQrX01pAHVpkO198hEDy0k1iEFxlQJqZmZmZ53hAj8L1KFzpcEDb+X5qvLRkQGQ730+Nf1FA/Knx0k0AhEA=",
            "dtype": "f8"
           },
           "yaxis": "y"
          }
         ],
         "name": "1/26/2019"
        },
        {
         "data": [
          {
           "hovertemplate": "City=%{x}<br>Date=1/23/2019<br>Total=%{y}<extra></extra>",
           "ids": [
            "A",
            "A",
            "A",
            "A",
            "A",
            "A",
            "A"
           ],
           "legendgroup": "Yangon",
           "marker": {
            "color": "#636efa",
            "pattern": {
             "shape": ""
            }
           },
           "name": "Yangon",
           "orientation": "v",
           "showlegend": true,
           "textposition": "auto",
           "type": "bar",
           "x": [
            "Yangon",
            "Yangon",
            "Yangon",
            "Yangon",
            "Yangon",
            "Yangon",
            "Yangon"
           ],
           "xaxis": "x",
           "y": {
            "bdata": "pHA9CteLV0ACK4cW2QJ6QESLbOf7EUBA9P3UeOllg0DNzMzMzHt/QC2yne+nIXxAj8L1KFyHbkA=",
            "dtype": "f8"
           },
           "yaxis": "y"
          },
          {
           "hovertemplate": "City=%{x}<br>Date=1/23/2019<br>Total=%{y}<extra></extra>",
           "ids": [
            "C",
            "C",
            "C",
            "C",
            "C",
            "C",
            "C",
            "C",
            "C",
            "C"
           ],
           "legendgroup": "Naypyitaw",
           "marker": {
            "color": "#EF553B",
            "pattern": {
             "shape": ""
            }
           },
           "name": "Naypyitaw",
           "orientation": "v",
           "showlegend": true,
           "textposition": "auto",
           "type": "bar",
           "x": [
            "Naypyitaw",
            "Naypyitaw",
            "Naypyitaw",
            "Naypyitaw",
            "Naypyitaw",
            "Naypyitaw",
            "Naypyitaw",
            "Naypyitaw",
            "Naypyitaw",
            "Naypyitaw"
           ],
           "xaxis": "x",
           "y": {
            "bdata": "ZmZmZmY2ZEAdWmQ7399oQDMzMzMzd41A7nw/NV4ydECF61G4HoxwQF66SQwCfoBA5dAi2/nOVUDhehSuR9lMQDm0yHa+33RAz/dT46X1hkA=",
            "dtype": "f8"
           },
           "yaxis": "y"
          }
         ],
         "name": "1/23/2019"
        },
        {
         "data": [
          {
           "hovertemplate": "City=%{x}<br>Date=2/23/2019<br>Total=%{y}<extra></extra>",
           "ids": [
            "A"
           ],
           "legendgroup": "Yangon",
           "marker": {
            "color": "#636efa",
            "pattern": {
             "shape": ""
            }
           },
           "name": "Yangon",
           "orientation": "v",
           "showlegend": true,
           "textposition": "auto",
           "type": "bar",
           "x": [
            "Yangon"
           ],
           "xaxis": "x",
           "y": {
            "bdata": "d76fGi9Jc0A=",
            "dtype": "f8"
           },
           "yaxis": "y"
          },
          {
           "hovertemplate": "City=%{x}<br>Date=2/23/2019<br>Total=%{y}<extra></extra>",
           "ids": [
            "C",
            "C",
            "C"
           ],
           "legendgroup": "Naypyitaw",
           "marker": {
            "color": "#EF553B",
            "pattern": {
             "shape": ""
            }
           },
           "name": "Naypyitaw",
           "orientation": "v",
           "showlegend": true,
           "textposition": "auto",
           "type": "bar",
           "x": [
            "Naypyitaw",
            "Naypyitaw",
            "Naypyitaw"
           ],
           "xaxis": "x",
           "y": {
            "bdata": "1XjpJjEYdUBWDi2ynddCQIts5/up0npA",
            "dtype": "f8"
           },
           "yaxis": "y"
          },
          {
           "hovertemplate": "City=%{x}<br>Date=2/23/2019<br>Total=%{y}<extra></extra>",
           "ids": [
            "B",
            "B",
            "B",
            "B"
           ],
           "legendgroup": "Mandalay",
           "marker": {
            "color": "#00cc96",
            "pattern": {
             "shape": ""
            }
           },
           "name": "Mandalay",
           "orientation": "v",
           "showlegend": true,
           "textposition": "auto",
           "type": "bar",
           "x": [
            "Mandalay",
            "Mandalay",
            "Mandalay",
            "Mandalay"
           ],
           "xaxis": "x",
           "y": {
            "bdata": "0SLb+X5qX0C8dJMYBHNzQHWTGARW3lJAyXa+n5pShkA=",
            "dtype": "f8"
           },
           "yaxis": "y"
          }
         ],
         "name": "2/23/2019"
        },
        {
         "data": [
          {
           "hovertemplate": "City=%{x}<br>Date=1/2/2019<br>Total=%{y}<extra></extra>",
           "ids": [
            "A",
            "A"
           ],
           "legendgroup": "Yangon",
           "marker": {
            "color": "#636efa",
            "pattern": {
             "shape": ""
            }
           },
           "name": "Yangon",
           "orientation": "v",
           "showlegend": true,
           "textposition": "auto",
           "type": "bar",
           "x": [
            "Yangon",
            "Yangon"
           ],
           "xaxis": "x",
           "y": {
            "bdata": "hxbZzvdLRkAX2c73U2dwQA==",
            "dtype": "f8"
           },
           "yaxis": "y"
          },
          {
           "hovertemplate": "City=%{x}<br>Date=1/2/2019<br>Total=%{y}<extra></extra>",
           "ids": [
            "C",
            "C"
           ],
           "legendgroup": "Naypyitaw",
           "marker": {
            "color": "#EF553B",
            "pattern": {
             "shape": ""
            }
           },
           "name": "Naypyitaw",
           "orientation": "v",
           "showlegend": true,
           "textposition": "auto",
           "type": "bar",
           "x": [
            "Naypyitaw",
            "Naypyitaw"
           ],
           "xaxis": "x",
           "y": {
            "bdata": "lkOLbOczakCcxCCwcqBwQA==",
            "dtype": "f8"
           },
           "yaxis": "y"
          },
          {
           "hovertemplate": "City=%{x}<br>Date=1/2/2019<br>Total=%{y}<extra></extra>",
           "ids": [
            "B",
            "B",
            "B",
            "B"
           ],
           "legendgroup": "Mandalay",
           "marker": {
            "color": "#00cc96",
            "pattern": {
             "shape": ""
            }
           },
           "name": "Mandalay",
           "orientation": "v",
           "showlegend": true,
           "textposition": "auto",
           "type": "bar",
           "x": [
            "Mandalay",
            "Mandalay",
            "Mandalay",
            "Mandalay"
           ],
           "xaxis": "x",
           "y": {
            "bdata": "4XoUrkdzdkCsHFpkO/x3QPCnxks3VWFAYhBYObSScUA=",
            "dtype": "f8"
           },
           "yaxis": "y"
          }
         ],
         "name": "1/2/2019"
        },
        {
         "data": [
          {
           "hovertemplate": "City=%{x}<br>Date=2/9/2019<br>Total=%{y}<extra></extra>",
           "ids": [
            "A",
            "A",
            "A"
           ],
           "legendgroup": "Yangon",
           "marker": {
            "color": "#636efa",
            "pattern": {
             "shape": ""
            }
           },
           "name": "Yangon",
           "orientation": "v",
           "showlegend": true,
           "textposition": "auto",
           "type": "bar",
           "x": [
            "Yangon",
            "Yangon",
            "Yangon"
           ],
           "xaxis": "x",
           "y": {
            "bdata": "cT0K16MwbUA1XrpJDLJ0QJ7vp8ZLt0BA",
            "dtype": "f8"
           },
           "yaxis": "y"
          },
          {
           "hovertemplate": "City=%{x}<br>Date=2/9/2019<br>Total=%{y}<extra></extra>",
           "ids": [
            "C",
            "C",
            "C",
            "C",
            "C",
            "C"
           ],
           "legendgroup": "Naypyitaw",
           "marker": {
            "color": "#EF553B",
            "pattern": {
             "shape": ""
            }
           },
           "name": "Naypyitaw",
           "orientation": "v",
           "showlegend": true,
           "textposition": "auto",
           "type": "bar",
           "x": [
            "Naypyitaw",
            "Naypyitaw",
            "Naypyitaw",
            "Naypyitaw",
            "Naypyitaw",
            "Naypyitaw"
           ],
           "xaxis": "x",
           "y": {
            "bdata": "pHA9CtebU0Dl0CLb+YR9QH0/NV66mVBAYhBYObSoNkDXo3A9Ch9ZQArXo3A9w4tA",
            "dtype": "f8"
           },
           "yaxis": "y"
          },
          {
           "hovertemplate": "City=%{x}<br>Date=2/9/2019<br>Total=%{y}<extra></extra>",
           "ids": [
            "B",
            "B",
            "B",
            "B"
           ],
           "legendgroup": "Mandalay",
           "marker": {
            "color": "#00cc96",
            "pattern": {
             "shape": ""
            }
           },
           "name": "Mandalay",
           "orientation": "v",
           "showlegend": true,
           "textposition": "auto",
           "type": "bar",
           "x": [
            "Mandalay",
            "Mandalay",
            "Mandalay",
            "Mandalay"
           ],
           "xaxis": "x",
           "y": {
            "bdata": "w/UoXI8GcECJQWDl0IxmQO58PzVeImhAfT81XrrzeUA=",
            "dtype": "f8"
           },
           "yaxis": "y"
          }
         ],
         "name": "2/9/2019"
        },
        {
         "data": [
          {
           "hovertemplate": "City=%{x}<br>Date=3/26/2019<br>Total=%{y}<extra></extra>",
           "ids": [
            "A",
            "A",
            "A",
            "A",
            "A",
            "A"
           ],
           "legendgroup": "Yangon",
           "marker": {
            "color": "#636efa",
            "pattern": {
             "shape": ""
            }
           },
           "name": "Yangon",
           "orientation": "v",
           "showlegend": true,
           "textposition": "auto",
           "type": "bar",
           "x": [
            "Yangon",
            "Yangon",
            "Yangon",
            "Yangon",
            "Yangon",
            "Yangon"
           ],
           "xaxis": "x",
           "y": {
            "bdata": "j8L1KFyVgEBt5/up8d5wQEjhehSuD0xAGy/dJAZBYEAdWmQ7339LQHE9CtejMmJA",
            "dtype": "f8"
           },
           "yaxis": "y"
          },
          {
           "hovertemplate": "City=%{x}<br>Date=3/26/2019<br>Total=%{y}<extra></extra>",
           "ids": [
            "C",
            "C",
            "C",
            "C"
           ],
           "legendgroup": "Naypyitaw",
           "marker": {
            "color": "#EF553B",
            "pattern": {
             "shape": ""
            }
           },
           "name": "Naypyitaw",
           "orientation": "v",
           "showlegend": true,
           "textposition": "auto",
           "type": "bar",
           "x": [
            "Naypyitaw",
            "Naypyitaw",
            "Naypyitaw",
            "Naypyitaw"
           ],
           "xaxis": "x",
           "y": {
            "bdata": "tMh2vp+SSUDhehSuR/FWQKAaL90kRGNAmpmZmZkdZkA=",
            "dtype": "f8"
           },
           "yaxis": "y"
          },
          {
           "hovertemplate": "City=%{x}<br>Date=3/26/2019<br>Total=%{y}<extra></extra>",
           "ids": [
            "B",
            "B",
            "B"
           ],
           "legendgroup": "Mandalay",
           "marker": {
            "color": "#00cc96",
            "pattern": {
             "shape": ""
            }
           },
           "name": "Mandalay",
           "orientation": "v",
           "showlegend": true,
           "textposition": "auto",
           "type": "bar",
           "x": [
            "Mandalay",
            "Mandalay",
            "Mandalay"
           ],
           "xaxis": "x",
           "y": {
            "bdata": "fT81XrqJREAhsHJokf9hQKJFtvP9CF1A",
            "dtype": "f8"
           },
           "yaxis": "y"
          }
         ],
         "name": "3/26/2019"
        },
        {
         "data": [
          {
           "hovertemplate": "City=%{x}<br>Date=3/1/2019<br>Total=%{y}<extra></extra>",
           "ids": [
            "A",
            "A",
            "A"
           ],
           "legendgroup": "Yangon",
           "marker": {
            "color": "#636efa",
            "pattern": {
             "shape": ""
            }
           },
           "name": "Yangon",
           "orientation": "v",
           "showlegend": true,
           "textposition": "auto",
           "type": "bar",
           "x": [
            "Yangon",
            "Yangon",
            "Yangon"
           ],
           "xaxis": "x",
           "y": {
            "bdata": "wcqhRbY7UkBxPQrXo9h9QFYOLbKdb1dA",
            "dtype": "f8"
           },
           "yaxis": "y"
          },
          {
           "hovertemplate": "City=%{x}<br>Date=3/1/2019<br>Total=%{y}<extra></extra>",
           "ids": [
            "C",
            "C"
           ],
           "legendgroup": "Naypyitaw",
           "marker": {
            "color": "#EF553B",
            "pattern": {
             "shape": ""
            }
           },
           "name": "Naypyitaw",
           "orientation": "v",
           "showlegend": true,
           "textposition": "auto",
           "type": "bar",
           "x": [
            "Naypyitaw",
            "Naypyitaw"
           ],
           "xaxis": "x",
           "y": {
            "bdata": "exSuR2Eyh0D4U+Olm6hzQA==",
            "dtype": "f8"
           },
           "yaxis": "y"
          },
          {
           "hovertemplate": "City=%{x}<br>Date=3/1/2019<br>Total=%{y}<extra></extra>",
           "ids": [
            "B",
            "B",
            "B",
            "B",
            "B"
           ],
           "legendgroup": "Mandalay",
           "marker": {
            "color": "#00cc96",
            "pattern": {
             "shape": ""
            }
           },
           "name": "Mandalay",
           "orientation": "v",
           "showlegend": true,
           "textposition": "auto",
           "type": "bar",
           "x": [
            "Mandalay",
            "Mandalay",
            "Mandalay",
            "Mandalay",
            "Mandalay"
           ],
           "xaxis": "x",
           "y": {
            "bdata": "AAAAAACoVUBKDAIrB62CQFCNl24SP2JAgZVDi2xXR0CHFtnO9zNMQA==",
            "dtype": "f8"
           },
           "yaxis": "y"
          }
         ],
         "name": "3/1/2019"
        },
        {
         "data": [
          {
           "hovertemplate": "City=%{x}<br>Date=2/1/2019<br>Total=%{y}<extra></extra>",
           "ids": [
            "A",
            "A",
            "A"
           ],
           "legendgroup": "Yangon",
           "marker": {
            "color": "#636efa",
            "pattern": {
             "shape": ""
            }
           },
           "name": "Yangon",
           "orientation": "v",
           "showlegend": true,
           "textposition": "auto",
           "type": "bar",
           "x": [
            "Yangon",
            "Yangon",
            "Yangon"
           ],
           "xaxis": "x",
           "y": {
            "bdata": "ZDvfT43vf0DhehSuR61SQGq8dJMYZHRA",
            "dtype": "f8"
           },
           "yaxis": "y"
          },
          {
           "hovertemplate": "City=%{x}<br>Date=2/1/2019<br>Total=%{y}<extra></extra>",
           "ids": [
            "C",
            "C",
            "C"
           ],
           "legendgroup": "Naypyitaw",
           "marker": {
            "color": "#EF553B",
            "pattern": {
             "shape": ""
            }
           },
           "name": "Naypyitaw",
           "orientation": "v",
           "showlegend": true,
           "textposition": "auto",
           "type": "bar",
           "x": [
            "Naypyitaw",
            "Naypyitaw",
            "Naypyitaw"
           ],
           "xaxis": "x",
           "y": {
            "bdata": "7nw/NV5Aa0BOYhBYuduHQKJFtvP9OIFA",
            "dtype": "f8"
           },
           "yaxis": "y"
          }
         ],
         "name": "2/1/2019"
        },
        {
         "data": [
          {
           "hovertemplate": "City=%{x}<br>Date=3/28/2019<br>Total=%{y}<extra></extra>",
           "ids": [
            "A",
            "A",
            "A",
            "A",
            "A",
            "A"
           ],
           "legendgroup": "Yangon",
           "marker": {
            "color": "#636efa",
            "pattern": {
             "shape": ""
            }
           },
           "name": "Yangon",
           "orientation": "v",
           "showlegend": true,
           "textposition": "auto",
           "type": "bar",
           "x": [
            "Yangon",
            "Yangon",
            "Yangon",
            "Yangon",
            "Yangon",
            "Yangon"
           ],
           "xaxis": "x",
           "y": {
            "bdata": "+FPjpZvwdkCWQ4ts5+dnQMP1KFyP2HBA001iEFg5bEACK4cW2WmAQBKDwMqhhVJA",
            "dtype": "f8"
           },
           "yaxis": "y"
          },
          {
           "hovertemplate": "City=%{x}<br>Date=3/28/2019<br>Total=%{y}<extra></extra>",
           "ids": [
            "C",
            "C",
            "C"
           ],
           "legendgroup": "Naypyitaw",
           "marker": {
            "color": "#EF553B",
            "pattern": {
             "shape": ""
            }
           },
           "name": "Naypyitaw",
           "orientation": "v",
           "showlegend": true,
           "textposition": "auto",
           "type": "bar",
           "x": [
            "Naypyitaw",
            "Naypyitaw",
            "Naypyitaw"
           ],
           "xaxis": "x",
           "y": {
            "bdata": "hetRuB7DYkD2KFyPwmVeQLKd76fGI2pA",
            "dtype": "f8"
           },
           "yaxis": "y"
          },
          {
           "hovertemplate": "City=%{x}<br>Date=3/28/2019<br>Total=%{y}<extra></extra>",
           "ids": [
            "B"
           ],
           "legendgroup": "Mandalay",
           "marker": {
            "color": "#00cc96",
            "pattern": {
             "shape": ""
            }
           },
           "name": "Mandalay",
           "orientation": "v",
           "showlegend": true,
           "textposition": "auto",
           "type": "bar",
           "x": [
            "Mandalay"
           ],
           "xaxis": "x",
           "y": {
            "bdata": "O99PjZfqV0A=",
            "dtype": "f8"
           },
           "yaxis": "y"
          }
         ],
         "name": "3/28/2019"
        },
        {
         "data": [
          {
           "hovertemplate": "City=%{x}<br>Date=3/24/2019<br>Total=%{y}<extra></extra>",
           "ids": [
            "A",
            "A"
           ],
           "legendgroup": "Yangon",
           "marker": {
            "color": "#636efa",
            "pattern": {
             "shape": ""
            }
           },
           "name": "Yangon",
           "orientation": "v",
           "showlegend": true,
           "textposition": "auto",
           "type": "bar",
           "x": [
            "Yangon",
            "Yangon"
           ],
           "xaxis": "x",
           "y": {
            "bdata": "ukkMAitPcUAv3SQGgXViQA==",
            "dtype": "f8"
           },
           "yaxis": "y"
          },
          {
           "hovertemplate": "City=%{x}<br>Date=3/24/2019<br>Total=%{y}<extra></extra>",
           "ids": [
            "C",
            "C",
            "C",
            "C",
            "C"
           ],
           "legendgroup": "Naypyitaw",
           "marker": {
            "color": "#EF553B",
            "pattern": {
             "shape": ""
            }
           },
           "name": "Naypyitaw",
           "orientation": "v",
           "showlegend": true,
           "textposition": "auto",
           "type": "bar",
           "x": [
            "Naypyitaw",
            "Naypyitaw",
            "Naypyitaw",
            "Naypyitaw",
            "Naypyitaw"
           ],
           "xaxis": "x",
           "y": {
            "bdata": "sp3vp8YRdEA730+Nl6ZTQDMzMzMzS1NAzczMzMxPhUBCYOXQIpN0QA==",
            "dtype": "f8"
           },
           "yaxis": "y"
          },
          {
           "hovertemplate": "City=%{x}<br>Date=3/24/2019<br>Total=%{y}<extra></extra>",
           "ids": [
            "B",
            "B",
            "B",
            "B"
           ],
           "legendgroup": "Mandalay",
           "marker": {
            "color": "#00cc96",
            "pattern": {
             "shape": ""
            }
           },
           "name": "Mandalay",
           "orientation": "v",
           "showlegend": true,
           "textposition": "auto",
           "type": "bar",
           "x": [
            "Mandalay",
            "Mandalay",
            "Mandalay",
            "Mandalay"
           ],
           "xaxis": "x",
           "y": {
            "bdata": "j8L1KFxBYEAAAAAAACJ3QFK4HoXrMXtAhxbZzverg0A=",
            "dtype": "f8"
           },
           "yaxis": "y"
          }
         ],
         "name": "3/24/2019"
        },
        {
         "data": [
          {
           "hovertemplate": "City=%{x}<br>Date=2/5/2019<br>Total=%{y}<extra></extra>",
           "ids": [
            "A",
            "A",
            "A",
            "A",
            "A"
           ],
           "legendgroup": "Yangon",
           "marker": {
            "color": "#636efa",
            "pattern": {
             "shape": ""
            }
           },
           "name": "Yangon",
           "orientation": "v",
           "showlegend": true,
           "textposition": "auto",
           "type": "bar",
           "x": [
            "Yangon",
            "Yangon",
            "Yangon",
            "Yangon",
            "Yangon"
           ],
           "xaxis": "x",
           "y": {
            "bdata": "+n5qvHRnZEBcj8L1KJxtQBfZzvdTE0BAexSuR+ESV0CsHFpkO+9FQA==",
            "dtype": "f8"
           },
           "yaxis": "y"
          },
          {
           "hovertemplate": "City=%{x}<br>Date=2/5/2019<br>Total=%{y}<extra></extra>",
           "ids": [
            "C",
            "C",
            "C",
            "C"
           ],
           "legendgroup": "Naypyitaw",
           "marker": {
            "color": "#EF553B",
            "pattern": {
             "shape": ""
            }
           },
           "name": "Naypyitaw",
           "orientation": "v",
           "showlegend": true,
           "textposition": "auto",
           "type": "bar",
           "x": [
            "Naypyitaw",
            "Naypyitaw",
            "Naypyitaw",
            "Naypyitaw"
           ],
           "xaxis": "x",
           "y": {
            "bdata": "EFg5tMhVc0BmZmZmZoKGQOXQItv5MmJAiUFg5dCcckA=",
            "dtype": "f8"
           },
           "yaxis": "y"
          },
          {
           "hovertemplate": "City=%{x}<br>Date=2/5/2019<br>Total=%{y}<extra></extra>",
           "ids": [
            "B",
            "B",
            "B"
           ],
           "legendgroup": "Mandalay",
           "marker": {
            "color": "#00cc96",
            "pattern": {
             "shape": ""
            }
           },
           "name": "Mandalay",
           "orientation": "v",
           "showlegend": true,
           "textposition": "auto",
           "type": "bar",
           "x": [
            "Mandalay",
            "Mandalay",
            "Mandalay"
           ],
           "xaxis": "x",
           "y": {
            "bdata": "jZduEoNQQUCq8dJNYkp5QG3n+6nxMoFA",
            "dtype": "f8"
           },
           "yaxis": "y"
          }
         ],
         "name": "2/5/2019"
        },
        {
         "data": [
          {
           "hovertemplate": "City=%{x}<br>Date=1/19/2019<br>Total=%{y}<extra></extra>",
           "ids": [
            "A",
            "A",
            "A",
            "A",
            "A",
            "A",
            "A",
            "A"
           ],
           "legendgroup": "Yangon",
           "marker": {
            "color": "#636efa",
            "pattern": {
             "shape": ""
            }
           },
           "name": "Yangon",
           "orientation": "v",
           "showlegend": true,
           "textposition": "auto",
           "type": "bar",
           "x": [
            "Yangon",
            "Yangon",
            "Yangon",
            "Yangon",
            "Yangon",
            "Yangon",
            "Yangon",
            "Yangon"
           ],
           "xaxis": "x",
           "y": {
            "bdata": "O99PjRcmgUAbL90kBjF0QB1aZDvfp3FAKVyPwvUPhUCR7Xw/Nc5CQLbz/dR4yXFAcT0K16OCg0AK16NwPfp9QA==",
            "dtype": "f8"
           },
           "yaxis": "y"
          },
          {
           "hovertemplate": "City=%{x}<br>Date=1/19/2019<br>Total=%{y}<extra></extra>",
           "ids": [
            "C",
            "C",
            "C",
            "C",
            "C"
           ],
           "legendgroup": "Naypyitaw",
           "marker": {
            "color": "#EF553B",
            "pattern": {
             "shape": ""
            }
           },
           "name": "Naypyitaw",
           "orientation": "v",
           "showlegend": true,
           "textposition": "auto",
           "type": "bar",
           "x": [
            "Naypyitaw",
            "Naypyitaw",
            "Naypyitaw",
            "Naypyitaw",
            "Naypyitaw"
           ],
           "xaxis": "x",
           "y": {
            "bdata": "CKwcWmSrdkA730+Nl0JXQNEi2/l+PlVAHVpkO993bUA3iUFg5UhvQA==",
            "dtype": "f8"
           },
           "yaxis": "y"
          },
          {
           "hovertemplate": "City=%{x}<br>Date=1/19/2019<br>Total=%{y}<extra></extra>",
           "ids": [
            "B",
            "B",
            "B"
           ],
           "legendgroup": "Mandalay",
           "marker": {
            "color": "#00cc96",
            "pattern": {
             "shape": ""
            }
           },
           "name": "Mandalay",
           "orientation": "v",
           "showlegend": true,
           "textposition": "auto",
           "type": "bar",
           "x": [
            "Mandalay",
            "Mandalay",
            "Mandalay"
           ],
           "xaxis": "x",
           "y": {
            "bdata": "WmQ730/TdECcxCCwctRoQClcj8L1aFlA",
            "dtype": "f8"
           },
           "yaxis": "y"
          }
         ],
         "name": "1/19/2019"
        },
        {
         "data": [
          {
           "hovertemplate": "City=%{x}<br>Date=1/16/2019<br>Total=%{y}<extra></extra>",
           "ids": [
            "A",
            "A"
           ],
           "legendgroup": "Yangon",
           "marker": {
            "color": "#636efa",
            "pattern": {
             "shape": ""
            }
           },
           "name": "Yangon",
           "orientation": "v",
           "showlegend": true,
           "textposition": "auto",
           "type": "bar",
           "x": [
            "Yangon",
            "Yangon"
           ],
           "xaxis": "x",
           "y": {
            "bdata": "16NwPQrbhEAEVg4tsnVoQA==",
            "dtype": "f8"
           },
           "yaxis": "y"
          },
          {
           "hovertemplate": "City=%{x}<br>Date=1/16/2019<br>Total=%{y}<extra></extra>",
           "ids": [
            "C",
            "C",
            "C",
            "C",
            "C"
           ],
           "legendgroup": "Naypyitaw",
           "marker": {
            "color": "#EF553B",
            "pattern": {
             "shape": ""
            }
           },
           "name": "Naypyitaw",
           "orientation": "v",
           "showlegend": true,
           "textposition": "auto",
           "type": "bar",
           "x": [
            "Naypyitaw",
            "Naypyitaw",
            "Naypyitaw",
            "Naypyitaw",
            "Naypyitaw"
           ],
           "xaxis": "x",
           "y": {
            "bdata": "H4XrUbhcj0D6fmq8dIqLQMHKoUW2Q0BALbKd76d+X0CF61G4HhF/QA==",
            "dtype": "f8"
           },
           "yaxis": "y"
          },
          {
           "hovertemplate": "City=%{x}<br>Date=1/16/2019<br>Total=%{y}<extra></extra>",
           "ids": [
            "B",
            "B",
            "B"
           ],
           "legendgroup": "Mandalay",
           "marker": {
            "color": "#00cc96",
            "pattern": {
             "shape": ""
            }
           },
           "name": "Mandalay",
           "orientation": "v",
           "showlegend": true,
           "textposition": "auto",
           "type": "bar",
           "x": [
            "Mandalay",
            "Mandalay",
            "Mandalay"
           ],
           "xaxis": "x",
           "y": {
            "bdata": "EFg5tMj2SkCNl24Sg9eEQOf7qfHSlWRA",
            "dtype": "f8"
           },
           "yaxis": "y"
          }
         ],
         "name": "1/16/2019"
        },
        {
         "data": [
          {
           "hovertemplate": "City=%{x}<br>Date=1/8/2019<br>Total=%{y}<extra></extra>",
           "ids": [
            "A",
            "A",
            "A",
            "A"
           ],
           "legendgroup": "Yangon",
           "marker": {
            "color": "#636efa",
            "pattern": {
             "shape": ""
            }
           },
           "name": "Yangon",
           "orientation": "v",
           "showlegend": true,
           "textposition": "auto",
           "type": "bar",
           "x": [
            "Yangon",
            "Yangon",
            "Yangon",
            "Yangon"
           ],
           "xaxis": "x",
           "y": {
            "bdata": "7FG4HoVfaED0/dR46V5qQLKd76fGyzpA6SYxCKxWb0A=",
            "dtype": "f8"
           },
           "yaxis": "y"
          },
          {
           "hovertemplate": "City=%{x}<br>Date=1/8/2019<br>Total=%{y}<extra></extra>",
           "ids": [
            "C",
            "C",
            "C",
            "C",
            "C",
            "C",
            "C",
            "C"
           ],
           "legendgroup": "Naypyitaw",
           "marker": {
            "color": "#EF553B",
            "pattern": {
             "shape": ""
            }
           },
           "name": "Naypyitaw",
           "orientation": "v",
           "showlegend": true,
           "textposition": "auto",
           "type": "bar",
           "x": [
            "Naypyitaw",
            "Naypyitaw",
            "Naypyitaw",
            "Naypyitaw",
            "Naypyitaw",
            "Naypyitaw",
            "Naypyitaw",
            "Naypyitaw"
           ],
           "xaxis": "x",
           "y": {
            "bdata": "f2q8dJO9ckDZzvdT4/2BQFCNl24S02dASgwCK4fWKkAlBoGVQ9Z3QPp+arx04WVAfT81XrqFhUA3iUFg5SRTQA==",
            "dtype": "f8"
           },
           "yaxis": "y"
          },
          {
           "hovertemplate": "City=%{x}<br>Date=1/8/2019<br>Total=%{y}<extra></extra>",
           "ids": [
            "B",
            "B",
            "B",
            "B",
            "B",
            "B"
           ],
           "legendgroup": "Mandalay",
           "marker": {
            "color": "#00cc96",
            "pattern": {
             "shape": ""
            }
           },
           "name": "Mandalay",
           "orientation": "v",
           "showlegend": true,
           "textposition": "auto",
           "type": "bar",
           "x": [
            "Mandalay",
            "Mandalay",
            "Mandalay",
            "Mandalay",
            "Mandalay",
            "Mandalay"
           ],
           "xaxis": "x",
           "y": {
            "bdata": "ZmZmZmZ6iEDNzMzMzBhjQNejcD0Kx1lAf2q8dJMEYUC4HoXrUWeFQOF6FK5Hy3VA",
            "dtype": "f8"
           },
           "yaxis": "y"
          }
         ],
         "name": "1/8/2019"
        },
        {
         "data": [
          {
           "hovertemplate": "City=%{x}<br>Date=2/18/2019<br>Total=%{y}<extra></extra>",
           "ids": [
            "A",
            "A",
            "A"
           ],
           "legendgroup": "Yangon",
           "marker": {
            "color": "#636efa",
            "pattern": {
             "shape": ""
            }
           },
           "name": "Yangon",
           "orientation": "v",
           "showlegend": true,
           "textposition": "auto",
           "type": "bar",
           "x": [
            "Yangon",
            "Yangon",
            "Yangon"
           ],
           "xaxis": "x",
           "y": {
            "bdata": "UI2XbhIba0Atsp3vp2ZQQAisHFpkSoRA",
            "dtype": "f8"
           },
           "yaxis": "y"
          },
          {
           "hovertemplate": "City=%{x}<br>Date=2/18/2019<br>Total=%{y}<extra></extra>",
           "ids": [
            "C",
            "C",
            "C"
           ],
           "legendgroup": "Naypyitaw",
           "marker": {
            "color": "#EF553B",
            "pattern": {
             "shape": ""
            }
           },
           "name": "Naypyitaw",
           "orientation": "v",
           "showlegend": true,
           "textposition": "auto",
           "type": "bar",
           "x": [
            "Naypyitaw",
            "Naypyitaw",
            "Naypyitaw"
           ],
           "xaxis": "x",
           "y": {
            "bdata": "DAIrhxbDcUBeukkMAiNnQEjhehSu/09A",
            "dtype": "f8"
           },
           "yaxis": "y"
          },
          {
           "hovertemplate": "City=%{x}<br>Date=2/18/2019<br>Total=%{y}<extra></extra>",
           "ids": [
            "B"
           ],
           "legendgroup": "Mandalay",
           "marker": {
            "color": "#00cc96",
            "pattern": {
             "shape": ""
            }
           },
           "name": "Mandalay",
           "orientation": "v",
           "showlegend": true,
           "textposition": "auto",
           "type": "bar",
           "x": [
            "Mandalay"
           ],
           "xaxis": "x",
           "y": {
            "bdata": "5dAi2/n+PkA=",
            "dtype": "f8"
           },
           "yaxis": "y"
          }
         ],
         "name": "2/18/2019"
        },
        {
         "data": [
          {
           "hovertemplate": "City=%{x}<br>Date=1/18/2019<br>Total=%{y}<extra></extra>",
           "ids": [
            "A",
            "A",
            "A",
            "A"
           ],
           "legendgroup": "Yangon",
           "marker": {
            "color": "#636efa",
            "pattern": {
             "shape": ""
            }
           },
           "name": "Yangon",
           "orientation": "v",
           "showlegend": true,
           "textposition": "auto",
           "type": "bar",
           "x": [
            "Yangon",
            "Yangon",
            "Yangon",
            "Yangon"
           ],
           "xaxis": "x",
           "y": {
            "bdata": "rkfhehREYUBYObTIdt5mQPYoXI/CWnFAtMh2vp+IgUA=",
            "dtype": "f8"
           },
           "yaxis": "y"
          },
          {
           "hovertemplate": "City=%{x}<br>Date=1/18/2019<br>Total=%{y}<extra></extra>",
           "ids": [
            "C",
            "C",
            "C"
           ],
           "legendgroup": "Naypyitaw",
           "marker": {
            "color": "#EF553B",
            "pattern": {
             "shape": ""
            }
           },
           "name": "Naypyitaw",
           "orientation": "v",
           "showlegend": true,
           "textposition": "auto",
           "type": "bar",
           "x": [
            "Naypyitaw",
            "Naypyitaw",
            "Naypyitaw"
           ],
           "xaxis": "x",
           "y": {
            "bdata": "NV66SQyyREDjpZvEoMOKQBsv3SQG53tA",
            "dtype": "f8"
           },
           "yaxis": "y"
          },
          {
           "hovertemplate": "City=%{x}<br>Date=1/18/2019<br>Total=%{y}<extra></extra>",
           "ids": [
            "B",
            "B"
           ],
           "legendgroup": "Mandalay",
           "marker": {
            "color": "#00cc96",
            "pattern": {
             "shape": ""
            }
           },
           "name": "Mandalay",
           "orientation": "v",
           "showlegend": true,
           "textposition": "auto",
           "type": "bar",
           "x": [
            "Mandalay",
            "Mandalay"
           ],
           "xaxis": "x",
           "y": {
            "bdata": "ZDvfT43HZEAOLbKd74dbQA==",
            "dtype": "f8"
           },
           "yaxis": "y"
          }
         ],
         "name": "1/18/2019"
        },
        {
         "data": [
          {
           "hovertemplate": "City=%{x}<br>Date=2/16/2019<br>Total=%{y}<extra></extra>",
           "ids": [
            "A"
           ],
           "legendgroup": "Yangon",
           "marker": {
            "color": "#636efa",
            "pattern": {
             "shape": ""
            }
           },
           "name": "Yangon",
           "orientation": "v",
           "showlegend": true,
           "textposition": "auto",
           "type": "bar",
           "x": [
            "Yangon"
           ],
           "xaxis": "x",
           "y": {
            "bdata": "i2zn+6nNZkA=",
            "dtype": "f8"
           },
           "yaxis": "y"
          },
          {
           "hovertemplate": "City=%{x}<br>Date=2/16/2019<br>Total=%{y}<extra></extra>",
           "ids": [
            "C",
            "C",
            "C"
           ],
           "legendgroup": "Naypyitaw",
           "marker": {
            "color": "#EF553B",
            "pattern": {
             "shape": ""
            }
           },
           "name": "Naypyitaw",
           "orientation": "v",
           "showlegend": true,
           "textposition": "auto",
           "type": "bar",
           "x": [
            "Naypyitaw",
            "Naypyitaw",
            "Naypyitaw"
           ],
           "xaxis": "x",
           "y": {
            "bdata": "ZDvfTw12hkCamZmZmaFPQLpJDAIryXJA",
            "dtype": "f8"
           },
           "yaxis": "y"
          },
          {
           "hovertemplate": "City=%{x}<br>Date=2/16/2019<br>Total=%{y}<extra></extra>",
           "ids": [
            "B",
            "B",
            "B",
            "B"
           ],
           "legendgroup": "Mandalay",
           "marker": {
            "color": "#00cc96",
            "pattern": {
             "shape": ""
            }
           },
           "name": "Mandalay",
           "orientation": "v",
           "showlegend": true,
           "textposition": "auto",
           "type": "bar",
           "x": [
            "Mandalay",
            "Mandalay",
            "Mandalay",
            "Mandalay"
           ],
           "xaxis": "x",
           "y": {
            "bdata": "PQrXo3AIgUAfhetRuPpXQNV46SYxmG9AWmQ730+QdUA=",
            "dtype": "f8"
           },
           "yaxis": "y"
          }
         ],
         "name": "2/16/2019"
        },
        {
         "data": [
          {
           "hovertemplate": "City=%{x}<br>Date=2/22/2019<br>Total=%{y}<extra></extra>",
           "ids": [
            "A",
            "A",
            "A"
           ],
           "legendgroup": "Yangon",
           "marker": {
            "color": "#636efa",
            "pattern": {
             "shape": ""
            }
           },
           "name": "Yangon",
           "orientation": "v",
           "showlegend": true,
           "textposition": "auto",
           "type": "bar",
           "x": [
            "Yangon",
            "Yangon",
            "Yangon"
           ],
           "xaxis": "x",
           "y": {
            "bdata": "hetRuB7dZkC4HoXrURJwQMl2vp8aR1FA",
            "dtype": "f8"
           },
           "yaxis": "y"
          },
          {
           "hovertemplate": "City=%{x}<br>Date=2/22/2019<br>Total=%{y}<extra></extra>",
           "ids": [
            "C",
            "C",
            "C"
           ],
           "legendgroup": "Naypyitaw",
           "marker": {
            "color": "#EF553B",
            "pattern": {
             "shape": ""
            }
           },
           "name": "Naypyitaw",
           "orientation": "v",
           "showlegend": true,
           "textposition": "auto",
           "type": "bar",
           "x": [
            "Naypyitaw",
            "Naypyitaw",
            "Naypyitaw"
           ],
           "xaxis": "x",
           "y": {
            "bdata": "ke18PzXuP0BaZDvfz+6FQM/3U+OluzpA",
            "dtype": "f8"
           },
           "yaxis": "y"
          },
          {
           "hovertemplate": "City=%{x}<br>Date=2/22/2019<br>Total=%{y}<extra></extra>",
           "ids": [
            "B",
            "B",
            "B",
            "B",
            "B"
           ],
           "legendgroup": "Mandalay",
           "marker": {
            "color": "#00cc96",
            "pattern": {
             "shape": ""
            }
           },
           "name": "Mandalay",
           "orientation": "v",
           "showlegend": true,
           "textposition": "auto",
           "type": "bar",
           "x": [
            "Mandalay",
            "Mandalay",
            "Mandalay",
            "Mandalay",
            "Mandalay"
           ],
           "xaxis": "x",
           "y": {
            "bdata": "AAAAAAAWakAOLbKd7+dIQHWTGATWCYBAGQRWDi0oa0BxPQrXo/RmQA==",
            "dtype": "f8"
           },
           "yaxis": "y"
          }
         ],
         "name": "2/22/2019"
        },
        {
         "data": [
          {
           "hovertemplate": "City=%{x}<br>Date=1/29/2019<br>Total=%{y}<extra></extra>",
           "ids": [
            "A",
            "A",
            "A",
            "A",
            "A"
           ],
           "legendgroup": "Yangon",
           "marker": {
            "color": "#636efa",
            "pattern": {
             "shape": ""
            }
           },
           "name": "Yangon",
           "orientation": "v",
           "showlegend": true,
           "textposition": "auto",
           "type": "bar",
           "x": [
            "Yangon",
            "Yangon",
            "Yangon",
            "Yangon",
            "Yangon"
           ],
           "xaxis": "x",
           "y": {
            "bdata": "bef7qfGUiECkcD0K10NEQArXo3A9VGJArkfhehSrfEA/NV66SRxXQA==",
            "dtype": "f8"
           },
           "yaxis": "y"
          },
          {
           "hovertemplate": "City=%{x}<br>Date=1/29/2019<br>Total=%{y}<extra></extra>",
           "ids": [
            "C",
            "C",
            "C",
            "C"
           ],
           "legendgroup": "Naypyitaw",
           "marker": {
            "color": "#EF553B",
            "pattern": {
             "shape": ""
            }
           },
           "name": "Naypyitaw",
           "orientation": "v",
           "showlegend": true,
           "textposition": "auto",
           "type": "bar",
           "x": [
            "Naypyitaw",
            "Naypyitaw",
            "Naypyitaw",
            "Naypyitaw"
           ],
           "xaxis": "x",
           "y": {
            "bdata": "4XoUrkcpXkCLbOf7qZFwQKRwPQrXR4NA16NwPQovRUA=",
            "dtype": "f8"
           },
           "yaxis": "y"
          },
          {
           "hovertemplate": "City=%{x}<br>Date=1/29/2019<br>Total=%{y}<extra></extra>",
           "ids": [
            "B",
            "B",
            "B"
           ],
           "legendgroup": "Mandalay",
           "marker": {
            "color": "#00cc96",
            "pattern": {
             "shape": ""
            }
           },
           "name": "Mandalay",
           "orientation": "v",
           "showlegend": true,
           "textposition": "auto",
           "type": "bar",
           "x": [
            "Mandalay",
            "Mandalay",
            "Mandalay"
           ],
           "xaxis": "x",
           "y": {
            "bdata": "46WbxCAgYUCF61G4HoyAQMP1KFyPgHFA",
            "dtype": "f8"
           },
           "yaxis": "y"
          }
         ],
         "name": "1/29/2019"
        },
        {
         "data": [
          {
           "hovertemplate": "City=%{x}<br>Date=1/4/2019<br>Total=%{y}<extra></extra>",
           "ids": [
            "A",
            "A"
           ],
           "legendgroup": "Yangon",
           "marker": {
            "color": "#636efa",
            "pattern": {
             "shape": ""
            }
           },
           "name": "Yangon",
           "orientation": "v",
           "showlegend": true,
           "textposition": "auto",
           "type": "bar",
           "x": [
            "Yangon",
            "Yangon"
           ],
           "xaxis": "x",
           "y": {
            "bdata": "H4XrUbhSd0BSuB6F64VbQA==",
            "dtype": "f8"
           },
           "yaxis": "y"
          },
          {
           "hovertemplate": "City=%{x}<br>Date=1/4/2019<br>Total=%{y}<extra></extra>",
           "ids": [
            "C"
           ],
           "legendgroup": "Naypyitaw",
           "marker": {
            "color": "#EF553B",
            "pattern": {
             "shape": ""
            }
           },
           "name": "Naypyitaw",
           "orientation": "v",
           "showlegend": true,
           "textposition": "auto",
           "type": "bar",
           "x": [
            "Naypyitaw"
           ],
           "xaxis": "x",
           "y": {
            "bdata": "CtejcL2ug0A=",
            "dtype": "f8"
           },
           "yaxis": "y"
          },
          {
           "hovertemplate": "City=%{x}<br>Date=1/4/2019<br>Total=%{y}<extra></extra>",
           "ids": [
            "B",
            "B",
            "B"
           ],
           "legendgroup": "Mandalay",
           "marker": {
            "color": "#00cc96",
            "pattern": {
             "shape": ""
            }
           },
           "name": "Mandalay",
           "orientation": "v",
           "showlegend": true,
           "textposition": "auto",
           "type": "bar",
           "x": [
            "Mandalay",
            "Mandalay",
            "Mandalay"
           ],
           "xaxis": "x",
           "y": {
            "bdata": "5/up8dLxUkBCYOXQIkdiQFpkO99PCXJA",
            "dtype": "f8"
           },
           "yaxis": "y"
          }
         ],
         "name": "1/4/2019"
        },
        {
         "data": [
          {
           "hovertemplate": "City=%{x}<br>Date=3/30/2019<br>Total=%{y}<extra></extra>",
           "ids": [
            "A",
            "A",
            "A",
            "A"
           ],
           "legendgroup": "Yangon",
           "marker": {
            "color": "#636efa",
            "pattern": {
             "shape": ""
            }
           },
           "name": "Yangon",
           "orientation": "v",
           "showlegend": true,
           "textposition": "auto",
           "type": "bar",
           "x": [
            "Yangon",
            "Yangon",
            "Yangon",
            "Yangon"
           ],
           "xaxis": "x",
           "y": {
            "bdata": "NV66SQx7ckApXI/C9SR1QFCNl24SG2tAuB6F61FcfUA=",
            "dtype": "f8"
           },
           "yaxis": "y"
          },
          {
           "hovertemplate": "City=%{x}<br>Date=3/30/2019<br>Total=%{y}<extra></extra>",
           "ids": [
            "C",
            "C",
            "C",
            "C"
           ],
           "legendgroup": "Naypyitaw",
           "marker": {
            "color": "#EF553B",
            "pattern": {
             "shape": ""
            }
           },
           "name": "Naypyitaw",
           "orientation": "v",
           "showlegend": true,
           "textposition": "auto",
           "type": "bar",
           "x": [
            "Naypyitaw",
            "Naypyitaw",
            "Naypyitaw",
            "Naypyitaw"
           ],
           "xaxis": "x",
           "y": {
            "bdata": "001iEFgJg0C6SQwCK6V7QFTjpZvEYFVAfT81XroPc0A=",
            "dtype": "f8"
           },
           "yaxis": "y"
          },
          {
           "hovertemplate": "City=%{x}<br>Date=3/30/2019<br>Total=%{y}<extra></extra>",
           "ids": [
            "B",
            "B",
            "B"
           ],
           "legendgroup": "Mandalay",
           "marker": {
            "color": "#00cc96",
            "pattern": {
             "shape": ""
            }
           },
           "name": "Mandalay",
           "orientation": "v",
           "showlegend": true,
           "textposition": "auto",
           "type": "bar",
           "x": [
            "Mandalay",
            "Mandalay",
            "Mandalay"
           ],
           "xaxis": "x",
           "y": {
            "bdata": "Rrbz/dS1jEBiEFg5tAyDQBSuR+F6hGhA",
            "dtype": "f8"
           },
           "yaxis": "y"
          }
         ],
         "name": "3/30/2019"
        },
        {
         "data": [
          {
           "hovertemplate": "City=%{x}<br>Date=1/30/2019<br>Total=%{y}<extra></extra>",
           "ids": [
            "A"
           ],
           "legendgroup": "Yangon",
           "marker": {
            "color": "#636efa",
            "pattern": {
             "shape": ""
            }
           },
           "name": "Yangon",
           "orientation": "v",
           "showlegend": true,
           "textposition": "auto",
           "type": "bar",
           "x": [
            "Yangon"
           ],
           "xaxis": "x",
           "y": {
            "bdata": "jZduEoN2ckA=",
            "dtype": "f8"
           },
           "yaxis": "y"
          },
          {
           "hovertemplate": "City=%{x}<br>Date=1/30/2019<br>Total=%{y}<extra></extra>",
           "ids": [
            "C",
            "C",
            "C",
            "C",
            "C",
            "C"
           ],
           "legendgroup": "Naypyitaw",
           "marker": {
            "color": "#EF553B",
            "pattern": {
             "shape": ""
            }
           },
           "name": "Naypyitaw",
           "orientation": "v",
           "showlegend": true,
           "textposition": "auto",
           "type": "bar",
           "x": [
            "Naypyitaw",
            "Naypyitaw",
            "Naypyitaw",
            "Naypyitaw",
            "Naypyitaw",
            "Naypyitaw"
           ],
           "xaxis": "x",
           "y": {
            "bdata": "rkfhehQOZEDsUbgehdZ/QM/3U+OlGzhApHA9CtcpkEBcj8L1KKRLQDm0yHa+fzdA",
            "dtype": "f8"
           },
           "yaxis": "y"
          },
          {
           "hovertemplate": "City=%{x}<br>Date=1/30/2019<br>Total=%{y}<extra></extra>",
           "ids": [
            "B",
            "B"
           ],
           "legendgroup": "Mandalay",
           "marker": {
            "color": "#00cc96",
            "pattern": {
             "shape": ""
            }
           },
           "name": "Mandalay",
           "orientation": "v",
           "showlegend": true,
           "textposition": "auto",
           "type": "bar",
           "x": [
            "Mandalay",
            "Mandalay"
           ],
           "xaxis": "x",
           "y": {
            "bdata": "hetRuB7VWEBoke18P0V2QA==",
            "dtype": "f8"
           },
           "yaxis": "y"
          }
         ],
         "name": "1/30/2019"
        },
        {
         "data": [
          {
           "hovertemplate": "City=%{x}<br>Date=1/3/2019<br>Total=%{y}<extra></extra>",
           "ids": [
            "A",
            "A",
            "A"
           ],
           "legendgroup": "Yangon",
           "marker": {
            "color": "#636efa",
            "pattern": {
             "shape": ""
            }
           },
           "name": "Yangon",
           "orientation": "v",
           "showlegend": true,
           "textposition": "auto",
           "type": "bar",
           "x": [
            "Yangon",
            "Yangon",
            "Yangon"
           ],
           "xaxis": "x",
           "y": {
            "bdata": "pHA9Ctf4dkCDwMqhRTRrQMP1KFyPA3ZA",
            "dtype": "f8"
           },
           "yaxis": "y"
          },
          {
           "hovertemplate": "City=%{x}<br>Date=1/3/2019<br>Total=%{y}<extra></extra>",
           "ids": [
            "C",
            "C"
           ],
           "legendgroup": "Naypyitaw",
           "marker": {
            "color": "#EF553B",
            "pattern": {
             "shape": ""
            }
           },
           "name": "Naypyitaw",
           "orientation": "v",
           "showlegend": true,
           "textposition": "auto",
           "type": "bar",
           "x": [
            "Naypyitaw",
            "Naypyitaw"
           ],
           "xaxis": "x",
           "y": {
            "bdata": "kxgEVg4tRkBCYOXQIutTQA==",
            "dtype": "f8"
           },
           "yaxis": "y"
          },
          {
           "hovertemplate": "City=%{x}<br>Date=1/3/2019<br>Total=%{y}<extra></extra>",
           "ids": [
            "B",
            "B",
            "B"
           ],
           "legendgroup": "Mandalay",
           "marker": {
            "color": "#00cc96",
            "pattern": {
             "shape": ""
            }
           },
           "name": "Mandalay",
           "orientation": "v",
           "showlegend": true,
           "textposition": "auto",
           "type": "bar",
           "x": [
            "Mandalay",
            "Mandalay",
            "Mandalay"
           ],
           "xaxis": "x",
           "y": {
            "bdata": "QmDl0CKDWEDsUbgehd14QGZmZmZmRoBA",
            "dtype": "f8"
           },
           "yaxis": "y"
          }
         ],
         "name": "1/3/2019"
        },
        {
         "data": [
          {
           "hovertemplate": "City=%{x}<br>Date=3/21/2019<br>Total=%{y}<extra></extra>",
           "ids": [
            "A",
            "A",
            "A",
            "A"
           ],
           "legendgroup": "Yangon",
           "marker": {
            "color": "#636efa",
            "pattern": {
             "shape": ""
            }
           },
           "name": "Yangon",
           "orientation": "v",
           "showlegend": true,
           "textposition": "auto",
           "type": "bar",
           "x": [
            "Yangon",
            "Yangon",
            "Yangon",
            "Yangon"
           ],
           "xaxis": "x",
           "y": {
            "bdata": "+FPjpZv8c0DufD81XtpUQJqZmZmZq2JA001iEFihh0A=",
            "dtype": "f8"
           },
           "yaxis": "y"
          },
          {
           "hovertemplate": "City=%{x}<br>Date=3/21/2019<br>Total=%{y}<extra></extra>",
           "ids": [
            "C"
           ],
           "legendgroup": "Naypyitaw",
           "marker": {
            "color": "#EF553B",
            "pattern": {
             "shape": ""
            }
           },
           "name": "Naypyitaw",
           "orientation": "v",
           "showlegend": true,
           "textposition": "auto",
           "type": "bar",
           "x": [
            "Naypyitaw"
           ],
           "xaxis": "x",
           "y": {
            "bdata": "Rrbz/dSOdkA=",
            "dtype": "f8"
           },
           "yaxis": "y"
          },
          {
           "hovertemplate": "City=%{x}<br>Date=3/21/2019<br>Total=%{y}<extra></extra>",
           "ids": [
            "B"
           ],
           "legendgroup": "Mandalay",
           "marker": {
            "color": "#00cc96",
            "pattern": {
             "shape": ""
            }
           },
           "name": "Mandalay",
           "orientation": "v",
           "showlegend": true,
           "textposition": "auto",
           "type": "bar",
           "x": [
            "Mandalay"
           ],
           "xaxis": "x",
           "y": {
            "bdata": "+n5qvHT7aUA=",
            "dtype": "f8"
           },
           "yaxis": "y"
          }
         ],
         "name": "3/21/2019"
        },
        {
         "data": [
          {
           "hovertemplate": "City=%{x}<br>Date=2/13/2019<br>Total=%{y}<extra></extra>",
           "ids": [
            "A",
            "A"
           ],
           "legendgroup": "Yangon",
           "marker": {
            "color": "#636efa",
            "pattern": {
             "shape": ""
            }
           },
           "name": "Yangon",
           "orientation": "v",
           "showlegend": true,
           "textposition": "auto",
           "type": "bar",
           "x": [
            "Yangon",
            "Yangon"
           ],
           "xaxis": "x",
           "y": {
            "bdata": "ZmZmZmbuYED8qfHSTSpUQA==",
            "dtype": "f8"
           },
           "yaxis": "y"
          },
          {
           "hovertemplate": "City=%{x}<br>Date=2/13/2019<br>Total=%{y}<extra></extra>",
           "ids": [
            "C",
            "C",
            "C"
           ],
           "legendgroup": "Naypyitaw",
           "marker": {
            "color": "#EF553B",
            "pattern": {
             "shape": ""
            }
           },
           "name": "Naypyitaw",
           "orientation": "v",
           "showlegend": true,
           "textposition": "auto",
           "type": "bar",
           "x": [
            "Naypyitaw",
            "Naypyitaw",
            "Naypyitaw"
           ],
           "xaxis": "x",
           "y": {
            "bdata": "MQisHFquZEDHSzeJQWhoQCcxCKwcOj9A",
            "dtype": "f8"
           },
           "yaxis": "y"
          },
          {
           "hovertemplate": "City=%{x}<br>Date=2/13/2019<br>Total=%{y}<extra></extra>",
           "ids": [
            "B",
            "B",
            "B"
           ],
           "legendgroup": "Mandalay",
           "marker": {
            "color": "#00cc96",
            "pattern": {
             "shape": ""
            }
           },
           "name": "Mandalay",
           "orientation": "v",
           "showlegend": true,
           "textposition": "auto",
           "type": "bar",
           "x": [
            "Mandalay",
            "Mandalay",
            "Mandalay"
           ],
           "xaxis": "x",
           "y": {
            "bdata": "rkfhehRmY0Cq8dJNYjBVQCuHFtnOj1VA",
            "dtype": "f8"
           },
           "yaxis": "y"
          }
         ],
         "name": "2/13/2019"
        },
        {
         "data": [
          {
           "hovertemplate": "City=%{x}<br>Date=1/14/2019<br>Total=%{y}<extra></extra>",
           "ids": [
            "A",
            "A"
           ],
           "legendgroup": "Yangon",
           "marker": {
            "color": "#636efa",
            "pattern": {
             "shape": ""
            }
           },
           "name": "Yangon",
           "orientation": "v",
           "showlegend": true,
           "textposition": "auto",
           "type": "bar",
           "x": [
            "Yangon",
            "Yangon"
           ],
           "xaxis": "x",
           "y": {
            "bdata": "zczMzMy6f0CPwvUoXGOCQA==",
            "dtype": "f8"
           },
           "yaxis": "y"
          },
          {
           "hovertemplate": "City=%{x}<br>Date=1/14/2019<br>Total=%{y}<extra></extra>",
           "ids": [
            "C",
            "C",
            "C",
            "C",
            "C",
            "C"
           ],
           "legendgroup": "Naypyitaw",
           "marker": {
            "color": "#EF553B",
            "pattern": {
             "shape": ""
            }
           },
           "name": "Naypyitaw",
           "orientation": "v",
           "showlegend": true,
           "textposition": "auto",
           "type": "bar",
           "x": [
            "Naypyitaw",
            "Naypyitaw",
            "Naypyitaw",
            "Naypyitaw",
            "Naypyitaw",
            "Naypyitaw"
           ],
           "xaxis": "x",
           "y": {
            "bdata": "iUFg5dA1fEDZzvdT461gQH9qvHSTRFZATDeJQWDPZ0CgGi/dJG94QCuHFtnOe3pA",
            "dtype": "f8"
           },
           "yaxis": "y"
          },
          {
           "hovertemplate": "City=%{x}<br>Date=1/14/2019<br>Total=%{y}<extra></extra>",
           "ids": [
            "B",
            "B",
            "B",
            "B",
            "B"
           ],
           "legendgroup": "Mandalay",
           "marker": {
            "color": "#00cc96",
            "pattern": {
             "shape": ""
            }
           },
           "name": "Mandalay",
           "orientation": "v",
           "showlegend": true,
           "textposition": "auto",
           "type": "bar",
           "x": [
            "Mandalay",
            "Mandalay",
            "Mandalay",
            "Mandalay",
            "Mandalay"
           ],
           "xaxis": "x",
           "y": {
            "bdata": "sHJoke3HgEAUrkfh+lqAQJZDi2zn+1JAWDm0yHZGQkAzMzMzM6MyQA==",
            "dtype": "f8"
           },
           "yaxis": "y"
          }
         ],
         "name": "1/14/2019"
        },
        {
         "data": [
          {
           "hovertemplate": "City=%{x}<br>Date=3/18/2019<br>Total=%{y}<extra></extra>",
           "ids": [
            "A",
            "A"
           ],
           "legendgroup": "Yangon",
           "marker": {
            "color": "#636efa",
            "pattern": {
             "shape": ""
            }
           },
           "name": "Yangon",
           "orientation": "v",
           "showlegend": true,
           "textposition": "auto",
           "type": "bar",
           "x": [
            "Yangon",
            "Yangon"
           ],
           "xaxis": "x",
           "y": {
            "bdata": "Di2yne/fakBI4XoUrtNlQA==",
            "dtype": "f8"
           },
           "yaxis": "y"
          },
          {
           "hovertemplate": "City=%{x}<br>Date=3/18/2019<br>Total=%{y}<extra></extra>",
           "ids": [
            "C",
            "C",
            "C"
           ],
           "legendgroup": "Naypyitaw",
           "marker": {
            "color": "#EF553B",
            "pattern": {
             "shape": ""
            }
           },
           "name": "Naypyitaw",
           "orientation": "v",
           "showlegend": true,
           "textposition": "auto",
           "type": "bar",
           "x": [
            "Naypyitaw",
            "Naypyitaw",
            "Naypyitaw"
           ],
           "xaxis": "x",
           "y": {
            "bdata": "16NwPQq5ckAhsHJokQVLQJMYBFYOJVhA",
            "dtype": "f8"
           },
           "yaxis": "y"
          },
          {
           "hovertemplate": "City=%{x}<br>Date=3/18/2019<br>Total=%{y}<extra></extra>",
           "ids": [
            "B",
            "B"
           ],
           "legendgroup": "Mandalay",
           "marker": {
            "color": "#00cc96",
            "pattern": {
             "shape": ""
            }
           },
           "name": "Mandalay",
           "orientation": "v",
           "showlegend": true,
           "textposition": "auto",
           "type": "bar",
           "x": [
            "Mandalay",
            "Mandalay"
           ],
           "xaxis": "x",
           "y": {
            "bdata": "exSuR+Ggc0Ce76fGS19hQA==",
            "dtype": "f8"
           },
           "yaxis": "y"
          }
         ],
         "name": "3/18/2019"
        },
        {
         "data": [
          {
           "hovertemplate": "City=%{x}<br>Date=3/20/2019<br>Total=%{y}<extra></extra>",
           "ids": [
            "A",
            "A",
            "A",
            "A",
            "A",
            "A"
           ],
           "legendgroup": "Yangon",
           "marker": {
            "color": "#636efa",
            "pattern": {
             "shape": ""
            }
           },
           "name": "Yangon",
           "orientation": "v",
           "showlegend": true,
           "textposition": "auto",
           "type": "bar",
           "x": [
            "Yangon",
            "Yangon",
            "Yangon",
            "Yangon",
            "Yangon",
            "Yangon"
           ],
           "xaxis": "x",
           "y": {
            "bdata": "zczMzMy0VkCPwvUoXON8QPhT46WbVn1AWDm0yHbedkDVeOkmMQxYQEw3iUFgv4tA",
            "dtype": "f8"
           },
           "yaxis": "y"
          },
          {
           "hovertemplate": "City=%{x}<br>Date=3/20/2019<br>Total=%{y}<extra></extra>",
           "ids": [
            "C",
            "C",
            "C"
           ],
           "legendgroup": "Naypyitaw",
           "marker": {
            "color": "#EF553B",
            "pattern": {
             "shape": ""
            }
           },
           "name": "Naypyitaw",
           "orientation": "v",
           "showlegend": true,
           "textposition": "auto",
           "type": "bar",
           "x": [
            "Naypyitaw",
            "Naypyitaw",
            "Naypyitaw"
           ],
           "xaxis": "x",
           "y": {
            "bdata": "XI/C9ShLh0BU46WbxF+AQAAAAAAAkmBA",
            "dtype": "f8"
           },
           "yaxis": "y"
          },
          {
           "hovertemplate": "City=%{x}<br>Date=3/20/2019<br>Total=%{y}<extra></extra>",
           "ids": [
            "B",
            "B",
            "B",
            "B",
            "B",
            "B"
           ],
           "legendgroup": "Mandalay",
           "marker": {
            "color": "#00cc96",
            "pattern": {
             "shape": ""
            }
           },
           "name": "Mandalay",
           "orientation": "v",
           "showlegend": true,
           "textposition": "auto",
           "type": "bar",
           "x": [
            "Mandalay",
            "Mandalay",
            "Mandalay",
            "Mandalay",
            "Mandalay",
            "Mandalay"
           ],
           "xaxis": "x",
           "y": {
            "bdata": "CtejcD1OfkAIrBxaZG9QQOf7qfHS7YNAmpmZmZkNakCwcmiR7XZvQB1aZDvfp0FA",
            "dtype": "f8"
           },
           "yaxis": "y"
          }
         ],
         "name": "3/20/2019"
        },
        {
         "data": [
          {
           "hovertemplate": "City=%{x}<br>Date=2/21/2019<br>Total=%{y}<extra></extra>",
           "ids": [
            "A"
           ],
           "legendgroup": "Yangon",
           "marker": {
            "color": "#636efa",
            "pattern": {
             "shape": ""
            }
           },
           "name": "Yangon",
           "orientation": "v",
           "showlegend": true,
           "textposition": "auto",
           "type": "bar",
           "x": [
            "Yangon"
           ],
           "xaxis": "x",
           "y": {
            "bdata": "YOXQItuhckA=",
            "dtype": "f8"
           },
           "yaxis": "y"
          },
          {
           "hovertemplate": "City=%{x}<br>Date=2/21/2019<br>Total=%{y}<extra></extra>",
           "ids": [
            "C",
            "C",
            "C"
           ],
           "legendgroup": "Naypyitaw",
           "marker": {
            "color": "#EF553B",
            "pattern": {
             "shape": ""
            }
           },
           "name": "Naypyitaw",
           "orientation": "v",
           "showlegend": true,
           "textposition": "auto",
           "type": "bar",
           "x": [
            "Naypyitaw",
            "Naypyitaw",
            "Naypyitaw"
           ],
           "xaxis": "x",
           "y": {
            "bdata": "L90kBoFVKkCPwvUoXO9pQD0K16Nwc3tA",
            "dtype": "f8"
           },
           "yaxis": "y"
          },
          {
           "hovertemplate": "City=%{x}<br>Date=2/21/2019<br>Total=%{y}<extra></extra>",
           "ids": [
            "B",
            "B"
           ],
           "legendgroup": "Mandalay",
           "marker": {
            "color": "#00cc96",
            "pattern": {
             "shape": ""
            }
           },
           "name": "Mandalay",
           "orientation": "v",
           "showlegend": true,
           "textposition": "auto",
           "type": "bar",
           "x": [
            "Mandalay",
            "Mandalay"
           ],
           "xaxis": "x",
           "y": {
            "bdata": "YhBYObRgc0Bg5dAi221fQA==",
            "dtype": "f8"
           },
           "yaxis": "y"
          }
         ],
         "name": "2/21/2019"
        },
        {
         "data": [
          {
           "hovertemplate": "City=%{x}<br>Date=1/31/2019<br>Total=%{y}<extra></extra>",
           "ids": [
            "A",
            "A",
            "A"
           ],
           "legendgroup": "Yangon",
           "marker": {
            "color": "#636efa",
            "pattern": {
             "shape": ""
            }
           },
           "name": "Yangon",
           "orientation": "v",
           "showlegend": true,
           "textposition": "auto",
           "type": "bar",
           "x": [
            "Yangon",
            "Yangon",
            "Yangon"
           ],
           "xaxis": "x",
           "y": {
            "bdata": "H4XrUbhqUUDl0CLb+c5VQGq8dJMY9HpA",
            "dtype": "f8"
           },
           "yaxis": "y"
          },
          {
           "hovertemplate": "City=%{x}<br>Date=1/31/2019<br>Total=%{y}<extra></extra>",
           "ids": [
            "C",
            "C",
            "C",
            "C"
           ],
           "legendgroup": "Naypyitaw",
           "marker": {
            "color": "#EF553B",
            "pattern": {
             "shape": ""
            }
           },
           "name": "Naypyitaw",
           "orientation": "v",
           "showlegend": true,
           "textposition": "auto",
           "type": "bar",
           "x": [
            "Naypyitaw",
            "Naypyitaw",
            "Naypyitaw",
            "Naypyitaw"
           ],
           "xaxis": "x",
           "y": {
            "bdata": "vp8aL910Y0AAAAAAAA5sQHE9Ctej6IlAhetRuB5nhEA=",
            "dtype": "f8"
           },
           "yaxis": "y"
          },
          {
           "hovertemplate": "City=%{x}<br>Date=1/31/2019<br>Total=%{y}<extra></extra>",
           "ids": [
            "B",
            "B",
            "B",
            "B",
            "B",
            "B",
            "B"
           ],
           "legendgroup": "Mandalay",
           "marker": {
            "color": "#00cc96",
            "pattern": {
             "shape": ""
            }
           },
           "name": "Mandalay",
           "orientation": "v",
           "showlegend": true,
           "textposition": "auto",
           "type": "bar",
           "x": [
            "Mandalay",
            "Mandalay",
            "Mandalay",
            "Mandalay",
            "Mandalay",
            "Mandalay",
            "Mandalay"
           ],
           "xaxis": "x",
           "y": {
            "bdata": "4XoUrkfbcUBt5/up8Xh/QMl2vp8a51NAGQRWDi0iYkAzMzMzM5NmQFK4HoXrqodAtvP91PjyiUA=",
            "dtype": "f8"
           },
           "yaxis": "y"
          }
         ],
         "name": "1/31/2019"
        },
        {
         "data": [
          {
           "hovertemplate": "City=%{x}<br>Date=1/11/2019<br>Total=%{y}<extra></extra>",
           "ids": [
            "A",
            "A",
            "A",
            "A",
            "A",
            "A"
           ],
           "legendgroup": "Yangon",
           "marker": {
            "color": "#636efa",
            "pattern": {
             "shape": ""
            }
           },
           "name": "Yangon",
           "orientation": "v",
           "showlegend": true,
           "textposition": "auto",
           "type": "bar",
           "x": [
            "Yangon",
            "Yangon",
            "Yangon",
            "Yangon",
            "Yangon",
            "Yangon"
           ],
           "xaxis": "x",
           "y": {
            "bdata": "ukkMAiuLV0Bg5dAi23VtQH9qvHSTnHVAPQrXo3AZUkDNzMzMzBhzQPhT46WbAINA",
            "dtype": "f8"
           },
           "yaxis": "y"
          },
          {
           "hovertemplate": "City=%{x}<br>Date=1/11/2019<br>Total=%{y}<extra></extra>",
           "ids": [
            "C",
            "C"
           ],
           "legendgroup": "Naypyitaw",
           "marker": {
            "color": "#EF553B",
            "pattern": {
             "shape": ""
            }
           },
           "name": "Naypyitaw",
           "orientation": "v",
           "showlegend": true,
           "textposition": "auto",
           "type": "bar",
           "x": [
            "Naypyitaw",
            "Naypyitaw"
           ],
           "xaxis": "x",
           "y": {
            "bdata": "/tR46SbhZkD+1HjpJuRwQA==",
            "dtype": "f8"
           },
           "yaxis": "y"
          }
         ],
         "name": "1/11/2019"
        },
        {
         "data": [
          {
           "hovertemplate": "City=%{x}<br>Date=2/26/2019<br>Total=%{y}<extra></extra>",
           "ids": [
            "A",
            "A"
           ],
           "legendgroup": "Yangon",
           "marker": {
            "color": "#636efa",
            "pattern": {
             "shape": ""
            }
           },
           "name": "Yangon",
           "orientation": "v",
           "showlegend": true,
           "textposition": "auto",
           "type": "bar",
           "x": [
            "Yangon",
            "Yangon"
           ],
           "xaxis": "x",
           "y": {
            "bdata": "FK5H4XocTUCq8dJNYnhYQA==",
            "dtype": "f8"
           },
           "yaxis": "y"
          },
          {
           "hovertemplate": "City=%{x}<br>Date=2/26/2019<br>Total=%{y}<extra></extra>",
           "ids": [
            "C"
           ],
           "legendgroup": "Naypyitaw",
           "marker": {
            "color": "#EF553B",
            "pattern": {
             "shape": ""
            }
           },
           "name": "Naypyitaw",
           "orientation": "v",
           "showlegend": true,
           "textposition": "auto",
           "type": "bar",
           "x": [
            "Naypyitaw"
           ],
           "xaxis": "x",
           "y": {
            "bdata": "eekmMQgWa0A=",
            "dtype": "f8"
           },
           "yaxis": "y"
          },
          {
           "hovertemplate": "City=%{x}<br>Date=2/26/2019<br>Total=%{y}<extra></extra>",
           "ids": [
            "B",
            "B",
            "B",
            "B",
            "B",
            "B"
           ],
           "legendgroup": "Mandalay",
           "marker": {
            "color": "#00cc96",
            "pattern": {
             "shape": ""
            }
           },
           "name": "Mandalay",
           "orientation": "v",
           "showlegend": true,
           "textposition": "auto",
           "type": "bar",
           "x": [
            "Mandalay",
            "Mandalay",
            "Mandalay",
            "Mandalay",
            "Mandalay",
            "Mandalay"
           ],
           "xaxis": "x",
           "y": {
            "bdata": "4XoUrkfbgUCuR+F6FJZMQKrx0k1ioYNA+FPjpZs4akA/NV66SRR5QMP1KFyP8mRA",
            "dtype": "f8"
           },
           "yaxis": "y"
          }
         ],
         "name": "2/26/2019"
        },
        {
         "data": [
          {
           "hovertemplate": "City=%{x}<br>Date=3/17/2019<br>Total=%{y}<extra></extra>",
           "ids": [
            "A",
            "A"
           ],
           "legendgroup": "Yangon",
           "marker": {
            "color": "#636efa",
            "pattern": {
             "shape": ""
            }
           },
           "name": "Yangon",
           "orientation": "v",
           "showlegend": true,
           "textposition": "auto",
           "type": "bar",
           "x": [
            "Yangon",
            "Yangon"
           ],
           "xaxis": "x",
           "y": {
            "bdata": "RIts5/tVdEDhehSuRz2JQA==",
            "dtype": "f8"
           },
           "yaxis": "y"
          },
          {
           "hovertemplate": "City=%{x}<br>Date=3/17/2019<br>Total=%{y}<extra></extra>",
           "ids": [
            "C",
            "C"
           ],
           "legendgroup": "Naypyitaw",
           "marker": {
            "color": "#EF553B",
            "pattern": {
             "shape": ""
            }
           },
           "name": "Naypyitaw",
           "orientation": "v",
           "showlegend": true,
           "textposition": "auto",
           "type": "bar",
           "x": [
            "Naypyitaw",
            "Naypyitaw"
           ],
           "xaxis": "x",
           "y": {
            "bdata": "UrgehesXd0DHSzeJQcA3QA==",
            "dtype": "f8"
           },
           "yaxis": "y"
          },
          {
           "hovertemplate": "City=%{x}<br>Date=3/17/2019<br>Total=%{y}<extra></extra>",
           "ids": [
            "B",
            "B"
           ],
           "legendgroup": "Mandalay",
           "marker": {
            "color": "#00cc96",
            "pattern": {
             "shape": ""
            }
           },
           "name": "Mandalay",
           "orientation": "v",
           "showlegend": true,
           "textposition": "auto",
           "type": "bar",
           "x": [
            "Mandalay",
            "Mandalay"
           ],
           "xaxis": "x",
           "y": {
            "bdata": "+FPjpZt2dUCgGi/dJKZaQA==",
            "dtype": "f8"
           },
           "yaxis": "y"
          }
         ],
         "name": "3/17/2019"
        },
        {
         "data": [
          {
           "hovertemplate": "City=%{x}<br>Date=3/14/2019<br>Total=%{y}<extra></extra>",
           "ids": [
            "A",
            "A",
            "A",
            "A"
           ],
           "legendgroup": "Yangon",
           "marker": {
            "color": "#636efa",
            "pattern": {
             "shape": ""
            }
           },
           "name": "Yangon",
           "orientation": "v",
           "showlegend": true,
           "textposition": "auto",
           "type": "bar",
           "x": [
            "Yangon",
            "Yangon",
            "Yangon",
            "Yangon"
           ],
           "xaxis": "x",
           "y": {
            "bdata": "gZVDi2ynSEDXo3A9it2GQJHtfD81tkhAc2iR7XzJjEA=",
            "dtype": "f8"
           },
           "yaxis": "y"
          },
          {
           "hovertemplate": "City=%{x}<br>Date=3/14/2019<br>Total=%{y}<extra></extra>",
           "ids": [
            "C",
            "C",
            "C",
            "C",
            "C",
            "C",
            "C",
            "C",
            "C"
           ],
           "legendgroup": "Naypyitaw",
           "marker": {
            "color": "#EF553B",
            "pattern": {
             "shape": ""
            }
           },
           "name": "Naypyitaw",
           "orientation": "v",
           "showlegend": true,
           "textposition": "auto",
           "type": "bar",
           "x": [
            "Naypyitaw",
            "Naypyitaw",
            "Naypyitaw",
            "Naypyitaw",
            "Naypyitaw",
            "Naypyitaw",
            "Naypyitaw",
            "Naypyitaw",
            "Naypyitaw"
           ],
           "xaxis": "x",
           "y": {
            "bdata": "ukkMAiufYkC4HoXrUZZpQN0kBoGVT35ADAIrhxabe0AK16NwPY+DQNejcD0Kc4lAPQrXo3DYfEDXo3A9Cn9GQDEIrBxavGtA",
            "dtype": "f8"
           },
           "yaxis": "y"
          },
          {
           "hovertemplate": "City=%{x}<br>Date=3/14/2019<br>Total=%{y}<extra></extra>",
           "ids": [
            "B",
            "B",
            "B",
            "B",
            "B"
           ],
           "legendgroup": "Mandalay",
           "marker": {
            "color": "#00cc96",
            "pattern": {
             "shape": ""
            }
           },
           "name": "Mandalay",
           "orientation": "v",
           "showlegend": true,
           "textposition": "auto",
           "type": "bar",
           "x": [
            "Mandalay",
            "Mandalay",
            "Mandalay",
            "Mandalay",
            "Mandalay"
           ],
           "xaxis": "x",
           "y": {
            "bdata": "aJHtfD8keUBvEoPAyn1pQB+F61G4GItAVg4tsp1vV0CBlUOLbO97QA==",
            "dtype": "f8"
           },
           "yaxis": "y"
          }
         ],
         "name": "3/14/2019"
        },
        {
         "data": [
          {
           "hovertemplate": "City=%{x}<br>Date=2/4/2019<br>Total=%{y}<extra></extra>",
           "ids": [
            "A",
            "A",
            "A",
            "A",
            "A"
           ],
           "legendgroup": "Yangon",
           "marker": {
            "color": "#636efa",
            "pattern": {
             "shape": ""
            }
           },
           "name": "Yangon",
           "orientation": "v",
           "showlegend": true,
           "textposition": "auto",
           "type": "bar",
           "x": [
            "Yangon",
            "Yangon",
            "Yangon",
            "Yangon",
            "Yangon"
           ],
           "xaxis": "x",
           "y": {
            "bdata": "16NwPQrjUkA5tMh2vitnQK5H4XoUQmxAHVpkO9+HaUD8qfHSTSGBQA==",
            "dtype": "f8"
           },
           "yaxis": "y"
          },
          {
           "hovertemplate": "City=%{x}<br>Date=2/4/2019<br>Total=%{y}<extra></extra>",
           "ids": [
            "C",
            "C"
           ],
           "legendgroup": "Naypyitaw",
           "marker": {
            "color": "#EF553B",
            "pattern": {
             "shape": ""
            }
           },
           "name": "Naypyitaw",
           "orientation": "v",
           "showlegend": true,
           "textposition": "auto",
           "type": "bar",
           "x": [
            "Naypyitaw",
            "Naypyitaw"
           ],
           "xaxis": "x",
           "y": {
            "bdata": "z/dT46VbLUAK16NwPVxgQA==",
            "dtype": "f8"
           },
           "yaxis": "y"
          },
          {
           "hovertemplate": "City=%{x}<br>Date=2/4/2019<br>Total=%{y}<extra></extra>",
           "ids": [
            "B",
            "B",
            "B",
            "B"
           ],
           "legendgroup": "Mandalay",
           "marker": {
            "color": "#00cc96",
            "pattern": {
             "shape": ""
            }
           },
           "name": "Mandalay",
           "orientation": "v",
           "showlegend": true,
           "textposition": "auto",
           "type": "bar",
           "x": [
            "Mandalay",
            "Mandalay",
            "Mandalay",
            "Mandalay"
           ],
           "xaxis": "x",
           "y": {
            "bdata": "+FPjpZvwhkAMAiuHFuliQG8Sg8DKgVhAoBov3STKUUA=",
            "dtype": "f8"
           },
           "yaxis": "y"
          }
         ],
         "name": "2/4/2019"
        },
        {
         "data": [
          {
           "hovertemplate": "City=%{x}<br>Date=2/19/2019<br>Total=%{y}<extra></extra>",
           "ids": [
            "A",
            "A",
            "A",
            "A"
           ],
           "legendgroup": "Yangon",
           "marker": {
            "color": "#636efa",
            "pattern": {
             "shape": ""
            }
           },
           "name": "Yangon",
           "orientation": "v",
           "showlegend": true,
           "textposition": "auto",
           "type": "bar",
           "x": [
            "Yangon",
            "Yangon",
            "Yangon",
            "Yangon"
           ],
           "xaxis": "x",
           "y": {
            "bdata": "aJHtfD+MhEBg5dAi29lpQI/C9ShcqnBABFYOLbIijUA=",
            "dtype": "f8"
           },
           "yaxis": "y"
          },
          {
           "hovertemplate": "City=%{x}<br>Date=2/19/2019<br>Total=%{y}<extra></extra>",
           "ids": [
            "C",
            "C",
            "C",
            "C"
           ],
           "legendgroup": "Naypyitaw",
           "marker": {
            "color": "#EF553B",
            "pattern": {
             "shape": ""
            }
           },
           "name": "Naypyitaw",
           "orientation": "v",
           "showlegend": true,
           "textposition": "auto",
           "type": "bar",
           "x": [
            "Naypyitaw",
            "Naypyitaw",
            "Naypyitaw",
            "Naypyitaw"
           ],
           "xaxis": "x",
           "y": {
            "bdata": "LbKd76emZUAX2c730+yGQKRwPQrX42ZAXrpJDALfgkA=",
            "dtype": "f8"
           },
           "yaxis": "y"
          },
          {
           "hovertemplate": "City=%{x}<br>Date=2/19/2019<br>Total=%{y}<extra></extra>",
           "ids": [
            "B"
           ],
           "legendgroup": "Mandalay",
           "marker": {
            "color": "#00cc96",
            "pattern": {
             "shape": ""
            }
           },
           "name": "Mandalay",
           "orientation": "v",
           "showlegend": true,
           "textposition": "auto",
           "type": "bar",
           "x": [
            "Mandalay"
           ],
           "xaxis": "x",
           "y": {
            "bdata": "K4cW2c5vfUA=",
            "dtype": "f8"
           },
           "yaxis": "y"
          }
         ],
         "name": "2/19/2019"
        }
       ],
       "layout": {
        "barmode": "relative",
        "legend": {
         "title": {
          "text": "City"
         },
         "tracegroupgap": 0
        },
        "sliders": [
         {
          "active": 0,
          "currentvalue": {
           "prefix": "Date="
          },
          "len": 0.9,
          "pad": {
           "b": 10,
           "t": 60
          },
          "steps": [
           {
            "args": [
             [
              "1/5/2019"
             ],
             {
              "frame": {
               "duration": 0,
               "redraw": true
              },
              "fromcurrent": true,
              "mode": "immediate",
              "transition": {
               "duration": 0,
               "easing": "linear"
              }
             }
            ],
            "label": "1/5/2019",
            "method": "animate"
           },
           {
            "args": [
             [
              "3/8/2019"
             ],
             {
              "frame": {
               "duration": 0,
               "redraw": true
              },
              "fromcurrent": true,
              "mode": "immediate",
              "transition": {
               "duration": 0,
               "easing": "linear"
              }
             }
            ],
            "label": "3/8/2019",
            "method": "animate"
           },
           {
            "args": [
             [
              "3/3/2019"
             ],
             {
              "frame": {
               "duration": 0,
               "redraw": true
              },
              "fromcurrent": true,
              "mode": "immediate",
              "transition": {
               "duration": 0,
               "easing": "linear"
              }
             }
            ],
            "label": "3/3/2019",
            "method": "animate"
           },
           {
            "args": [
             [
              "1/27/2019"
             ],
             {
              "frame": {
               "duration": 0,
               "redraw": true
              },
              "fromcurrent": true,
              "mode": "immediate",
              "transition": {
               "duration": 0,
               "easing": "linear"
              }
             }
            ],
            "label": "1/27/2019",
            "method": "animate"
           },
           {
            "args": [
             [
              "2/8/2019"
             ],
             {
              "frame": {
               "duration": 0,
               "redraw": true
              },
              "fromcurrent": true,
              "mode": "immediate",
              "transition": {
               "duration": 0,
               "easing": "linear"
              }
             }
            ],
            "label": "2/8/2019",
            "method": "animate"
           },
           {
            "args": [
             [
              "3/25/2019"
             ],
             {
              "frame": {
               "duration": 0,
               "redraw": true
              },
              "fromcurrent": true,
              "mode": "immediate",
              "transition": {
               "duration": 0,
               "easing": "linear"
              }
             }
            ],
            "label": "3/25/2019",
            "method": "animate"
           },
           {
            "args": [
             [
              "2/25/2019"
             ],
             {
              "frame": {
               "duration": 0,
               "redraw": true
              },
              "fromcurrent": true,
              "mode": "immediate",
              "transition": {
               "duration": 0,
               "easing": "linear"
              }
             }
            ],
            "label": "2/25/2019",
            "method": "animate"
           },
           {
            "args": [
             [
              "2/24/2019"
             ],
             {
              "frame": {
               "duration": 0,
               "redraw": true
              },
              "fromcurrent": true,
              "mode": "immediate",
              "transition": {
               "duration": 0,
               "easing": "linear"
              }
             }
            ],
            "label": "2/24/2019",
            "method": "animate"
           },
           {
            "args": [
             [
              "1/10/2019"
             ],
             {
              "frame": {
               "duration": 0,
               "redraw": true
              },
              "fromcurrent": true,
              "mode": "immediate",
              "transition": {
               "duration": 0,
               "easing": "linear"
              }
             }
            ],
            "label": "1/10/2019",
            "method": "animate"
           },
           {
            "args": [
             [
              "2/20/2019"
             ],
             {
              "frame": {
               "duration": 0,
               "redraw": true
              },
              "fromcurrent": true,
              "mode": "immediate",
              "transition": {
               "duration": 0,
               "easing": "linear"
              }
             }
            ],
            "label": "2/20/2019",
            "method": "animate"
           },
           {
            "args": [
             [
              "2/6/2019"
             ],
             {
              "frame": {
               "duration": 0,
               "redraw": true
              },
              "fromcurrent": true,
              "mode": "immediate",
              "transition": {
               "duration": 0,
               "easing": "linear"
              }
             }
            ],
            "label": "2/6/2019",
            "method": "animate"
           },
           {
            "args": [
             [
              "3/9/2019"
             ],
             {
              "frame": {
               "duration": 0,
               "redraw": true
              },
              "fromcurrent": true,
              "mode": "immediate",
              "transition": {
               "duration": 0,
               "easing": "linear"
              }
             }
            ],
            "label": "3/9/2019",
            "method": "animate"
           },
           {
            "args": [
             [
              "2/12/2019"
             ],
             {
              "frame": {
               "duration": 0,
               "redraw": true
              },
              "fromcurrent": true,
              "mode": "immediate",
              "transition": {
               "duration": 0,
               "easing": "linear"
              }
             }
            ],
            "label": "2/12/2019",
            "method": "animate"
           },
           {
            "args": [
             [
              "2/7/2019"
             ],
             {
              "frame": {
               "duration": 0,
               "redraw": true
              },
              "fromcurrent": true,
              "mode": "immediate",
              "transition": {
               "duration": 0,
               "easing": "linear"
              }
             }
            ],
            "label": "2/7/2019",
            "method": "animate"
           },
           {
            "args": [
             [
              "3/29/2019"
             ],
             {
              "frame": {
               "duration": 0,
               "redraw": true
              },
              "fromcurrent": true,
              "mode": "immediate",
              "transition": {
               "duration": 0,
               "easing": "linear"
              }
             }
            ],
            "label": "3/29/2019",
            "method": "animate"
           },
           {
            "args": [
             [
              "1/15/2019"
             ],
             {
              "frame": {
               "duration": 0,
               "redraw": true
              },
              "fromcurrent": true,
              "mode": "immediate",
              "transition": {
               "duration": 0,
               "easing": "linear"
              }
             }
            ],
            "label": "1/15/2019",
            "method": "animate"
           },
           {
            "args": [
             [
              "3/11/2019"
             ],
             {
              "frame": {
               "duration": 0,
               "redraw": true
              },
              "fromcurrent": true,
              "mode": "immediate",
              "transition": {
               "duration": 0,
               "easing": "linear"
              }
             }
            ],
            "label": "3/11/2019",
            "method": "animate"
           },
           {
            "args": [
             [
              "1/1/2019"
             ],
             {
              "frame": {
               "duration": 0,
               "redraw": true
              },
              "fromcurrent": true,
              "mode": "immediate",
              "transition": {
               "duration": 0,
               "easing": "linear"
              }
             }
            ],
            "label": "1/1/2019",
            "method": "animate"
           },
           {
            "args": [
             [
              "1/21/2019"
             ],
             {
              "frame": {
               "duration": 0,
               "redraw": true
              },
              "fromcurrent": true,
              "mode": "immediate",
              "transition": {
               "duration": 0,
               "easing": "linear"
              }
             }
            ],
            "label": "1/21/2019",
            "method": "animate"
           },
           {
            "args": [
             [
              "3/5/2019"
             ],
             {
              "frame": {
               "duration": 0,
               "redraw": true
              },
              "fromcurrent": true,
              "mode": "immediate",
              "transition": {
               "duration": 0,
               "easing": "linear"
              }
             }
            ],
            "label": "3/5/2019",
            "method": "animate"
           },
           {
            "args": [
             [
              "3/15/2019"
             ],
             {
              "frame": {
               "duration": 0,
               "redraw": true
              },
              "fromcurrent": true,
              "mode": "immediate",
              "transition": {
               "duration": 0,
               "easing": "linear"
              }
             }
            ],
            "label": "3/15/2019",
            "method": "animate"
           },
           {
            "args": [
             [
              "2/17/2019"
             ],
             {
              "frame": {
               "duration": 0,
               "redraw": true
              },
              "fromcurrent": true,
              "mode": "immediate",
              "transition": {
               "duration": 0,
               "easing": "linear"
              }
             }
            ],
            "label": "2/17/2019",
            "method": "animate"
           },
           {
            "args": [
             [
              "3/2/2019"
             ],
             {
              "frame": {
               "duration": 0,
               "redraw": true
              },
              "fromcurrent": true,
              "mode": "immediate",
              "transition": {
               "duration": 0,
               "easing": "linear"
              }
             }
            ],
            "label": "3/2/2019",
            "method": "animate"
           },
           {
            "args": [
             [
              "3/22/2019"
             ],
             {
              "frame": {
               "duration": 0,
               "redraw": true
              },
              "fromcurrent": true,
              "mode": "immediate",
              "transition": {
               "duration": 0,
               "easing": "linear"
              }
             }
            ],
            "label": "3/22/2019",
            "method": "animate"
           },
           {
            "args": [
             [
              "3/10/2019"
             ],
             {
              "frame": {
               "duration": 0,
               "redraw": true
              },
              "fromcurrent": true,
              "mode": "immediate",
              "transition": {
               "duration": 0,
               "easing": "linear"
              }
             }
            ],
            "label": "3/10/2019",
            "method": "animate"
           },
           {
            "args": [
             [
              "1/25/2019"
             ],
             {
              "frame": {
               "duration": 0,
               "redraw": true
              },
              "fromcurrent": true,
              "mode": "immediate",
              "transition": {
               "duration": 0,
               "easing": "linear"
              }
             }
            ],
            "label": "1/25/2019",
            "method": "animate"
           },
           {
            "args": [
             [
              "1/28/2019"
             ],
             {
              "frame": {
               "duration": 0,
               "redraw": true
              },
              "fromcurrent": true,
              "mode": "immediate",
              "transition": {
               "duration": 0,
               "easing": "linear"
              }
             }
            ],
            "label": "1/28/2019",
            "method": "animate"
           },
           {
            "args": [
             [
              "1/7/2019"
             ],
             {
              "frame": {
               "duration": 0,
               "redraw": true
              },
              "fromcurrent": true,
              "mode": "immediate",
              "transition": {
               "duration": 0,
               "easing": "linear"
              }
             }
            ],
            "label": "1/7/2019",
            "method": "animate"
           },
           {
            "args": [
             [
              "3/23/2019"
             ],
             {
              "frame": {
               "duration": 0,
               "redraw": true
              },
              "fromcurrent": true,
              "mode": "immediate",
              "transition": {
               "duration": 0,
               "easing": "linear"
              }
             }
            ],
            "label": "3/23/2019",
            "method": "animate"
           },
           {
            "args": [
             [
              "1/17/2019"
             ],
             {
              "frame": {
               "duration": 0,
               "redraw": true
              },
              "fromcurrent": true,
              "mode": "immediate",
              "transition": {
               "duration": 0,
               "easing": "linear"
              }
             }
            ],
            "label": "1/17/2019",
            "method": "animate"
           },
           {
            "args": [
             [
              "2/2/2019"
             ],
             {
              "frame": {
               "duration": 0,
               "redraw": true
              },
              "fromcurrent": true,
              "mode": "immediate",
              "transition": {
               "duration": 0,
               "easing": "linear"
              }
             }
            ],
            "label": "2/2/2019",
            "method": "animate"
           },
           {
            "args": [
             [
              "3/4/2019"
             ],
             {
              "frame": {
               "duration": 0,
               "redraw": true
              },
              "fromcurrent": true,
              "mode": "immediate",
              "transition": {
               "duration": 0,
               "easing": "linear"
              }
             }
            ],
            "label": "3/4/2019",
            "method": "animate"
           },
           {
            "args": [
             [
              "3/16/2019"
             ],
             {
              "frame": {
               "duration": 0,
               "redraw": true
              },
              "fromcurrent": true,
              "mode": "immediate",
              "transition": {
               "duration": 0,
               "easing": "linear"
              }
             }
            ],
            "label": "3/16/2019",
            "method": "animate"
           },
           {
            "args": [
             [
              "2/27/2019"
             ],
             {
              "frame": {
               "duration": 0,
               "redraw": true
              },
              "fromcurrent": true,
              "mode": "immediate",
              "transition": {
               "duration": 0,
               "easing": "linear"
              }
             }
            ],
            "label": "2/27/2019",
            "method": "animate"
           },
           {
            "args": [
             [
              "2/10/2019"
             ],
             {
              "frame": {
               "duration": 0,
               "redraw": true
              },
              "fromcurrent": true,
              "mode": "immediate",
              "transition": {
               "duration": 0,
               "easing": "linear"
              }
             }
            ],
            "label": "2/10/2019",
            "method": "animate"
           },
           {
            "args": [
             [
              "3/19/2019"
             ],
             {
              "frame": {
               "duration": 0,
               "redraw": true
              },
              "fromcurrent": true,
              "mode": "immediate",
              "transition": {
               "duration": 0,
               "easing": "linear"
              }
             }
            ],
            "label": "3/19/2019",
            "method": "animate"
           },
           {
            "args": [
             [
              "2/3/2019"
             ],
             {
              "frame": {
               "duration": 0,
               "redraw": true
              },
              "fromcurrent": true,
              "mode": "immediate",
              "transition": {
               "duration": 0,
               "easing": "linear"
              }
             }
            ],
            "label": "2/3/2019",
            "method": "animate"
           },
           {
            "args": [
             [
              "3/7/2019"
             ],
             {
              "frame": {
               "duration": 0,
               "redraw": true
              },
              "fromcurrent": true,
              "mode": "immediate",
              "transition": {
               "duration": 0,
               "easing": "linear"
              }
             }
            ],
            "label": "3/7/2019",
            "method": "animate"
           },
           {
            "args": [
             [
              "2/28/2019"
             ],
             {
              "frame": {
               "duration": 0,
               "redraw": true
              },
              "fromcurrent": true,
              "mode": "immediate",
              "transition": {
               "duration": 0,
               "easing": "linear"
              }
             }
            ],
            "label": "2/28/2019",
            "method": "animate"
           },
           {
            "args": [
             [
              "3/27/2019"
             ],
             {
              "frame": {
               "duration": 0,
               "redraw": true
              },
              "fromcurrent": true,
              "mode": "immediate",
              "transition": {
               "duration": 0,
               "easing": "linear"
              }
             }
            ],
            "label": "3/27/2019",
            "method": "animate"
           },
           {
            "args": [
             [
              "1/20/2019"
             ],
             {
              "frame": {
               "duration": 0,
               "redraw": true
              },
              "fromcurrent": true,
              "mode": "immediate",
              "transition": {
               "duration": 0,
               "easing": "linear"
              }
             }
            ],
            "label": "1/20/2019",
            "method": "animate"
           },
           {
            "args": [
             [
              "3/12/2019"
             ],
             {
              "frame": {
               "duration": 0,
               "redraw": true
              },
              "fromcurrent": true,
              "mode": "immediate",
              "transition": {
               "duration": 0,
               "easing": "linear"
              }
             }
            ],
            "label": "3/12/2019",
            "method": "animate"
           },
           {
            "args": [
             [
              "2/15/2019"
             ],
             {
              "frame": {
               "duration": 0,
               "redraw": true
              },
              "fromcurrent": true,
              "mode": "immediate",
              "transition": {
               "duration": 0,
               "easing": "linear"
              }
             }
            ],
            "label": "2/15/2019",
            "method": "animate"
           },
           {
            "args": [
             [
              "3/6/2019"
             ],
             {
              "frame": {
               "duration": 0,
               "redraw": true
              },
              "fromcurrent": true,
              "mode": "immediate",
              "transition": {
               "duration": 0,
               "easing": "linear"
              }
             }
            ],
            "label": "3/6/2019",
            "method": "animate"
           },
           {
            "args": [
             [
              "2/14/2019"
             ],
             {
              "frame": {
               "duration": 0,
               "redraw": true
              },
              "fromcurrent": true,
              "mode": "immediate",
              "transition": {
               "duration": 0,
               "easing": "linear"
              }
             }
            ],
            "label": "2/14/2019",
            "method": "animate"
           },
           {
            "args": [
             [
              "3/13/2019"
             ],
             {
              "frame": {
               "duration": 0,
               "redraw": true
              },
              "fromcurrent": true,
              "mode": "immediate",
              "transition": {
               "duration": 0,
               "easing": "linear"
              }
             }
            ],
            "label": "3/13/2019",
            "method": "animate"
           },
           {
            "args": [
             [
              "1/24/2019"
             ],
             {
              "frame": {
               "duration": 0,
               "redraw": true
              },
              "fromcurrent": true,
              "mode": "immediate",
              "transition": {
               "duration": 0,
               "easing": "linear"
              }
             }
            ],
            "label": "1/24/2019",
            "method": "animate"
           },
           {
            "args": [
             [
              "1/6/2019"
             ],
             {
              "frame": {
               "duration": 0,
               "redraw": true
              },
              "fromcurrent": true,
              "mode": "immediate",
              "transition": {
               "duration": 0,
               "easing": "linear"
              }
             }
            ],
            "label": "1/6/2019",
            "method": "animate"
           },
           {
            "args": [
             [
              "2/11/2019"
             ],
             {
              "frame": {
               "duration": 0,
               "redraw": true
              },
              "fromcurrent": true,
              "mode": "immediate",
              "transition": {
               "duration": 0,
               "easing": "linear"
              }
             }
            ],
            "label": "2/11/2019",
            "method": "animate"
           },
           {
            "args": [
             [
              "1/22/2019"
             ],
             {
              "frame": {
               "duration": 0,
               "redraw": true
              },
              "fromcurrent": true,
              "mode": "immediate",
              "transition": {
               "duration": 0,
               "easing": "linear"
              }
             }
            ],
            "label": "1/22/2019",
            "method": "animate"
           },
           {
            "args": [
             [
              "1/13/2019"
             ],
             {
              "frame": {
               "duration": 0,
               "redraw": true
              },
              "fromcurrent": true,
              "mode": "immediate",
              "transition": {
               "duration": 0,
               "easing": "linear"
              }
             }
            ],
            "label": "1/13/2019",
            "method": "animate"
           },
           {
            "args": [
             [
              "1/9/2019"
             ],
             {
              "frame": {
               "duration": 0,
               "redraw": true
              },
              "fromcurrent": true,
              "mode": "immediate",
              "transition": {
               "duration": 0,
               "easing": "linear"
              }
             }
            ],
            "label": "1/9/2019",
            "method": "animate"
           },
           {
            "args": [
             [
              "1/12/2019"
             ],
             {
              "frame": {
               "duration": 0,
               "redraw": true
              },
              "fromcurrent": true,
              "mode": "immediate",
              "transition": {
               "duration": 0,
               "easing": "linear"
              }
             }
            ],
            "label": "1/12/2019",
            "method": "animate"
           },
           {
            "args": [
             [
              "1/26/2019"
             ],
             {
              "frame": {
               "duration": 0,
               "redraw": true
              },
              "fromcurrent": true,
              "mode": "immediate",
              "transition": {
               "duration": 0,
               "easing": "linear"
              }
             }
            ],
            "label": "1/26/2019",
            "method": "animate"
           },
           {
            "args": [
             [
              "1/23/2019"
             ],
             {
              "frame": {
               "duration": 0,
               "redraw": true
              },
              "fromcurrent": true,
              "mode": "immediate",
              "transition": {
               "duration": 0,
               "easing": "linear"
              }
             }
            ],
            "label": "1/23/2019",
            "method": "animate"
           },
           {
            "args": [
             [
              "2/23/2019"
             ],
             {
              "frame": {
               "duration": 0,
               "redraw": true
              },
              "fromcurrent": true,
              "mode": "immediate",
              "transition": {
               "duration": 0,
               "easing": "linear"
              }
             }
            ],
            "label": "2/23/2019",
            "method": "animate"
           },
           {
            "args": [
             [
              "1/2/2019"
             ],
             {
              "frame": {
               "duration": 0,
               "redraw": true
              },
              "fromcurrent": true,
              "mode": "immediate",
              "transition": {
               "duration": 0,
               "easing": "linear"
              }
             }
            ],
            "label": "1/2/2019",
            "method": "animate"
           },
           {
            "args": [
             [
              "2/9/2019"
             ],
             {
              "frame": {
               "duration": 0,
               "redraw": true
              },
              "fromcurrent": true,
              "mode": "immediate",
              "transition": {
               "duration": 0,
               "easing": "linear"
              }
             }
            ],
            "label": "2/9/2019",
            "method": "animate"
           },
           {
            "args": [
             [
              "3/26/2019"
             ],
             {
              "frame": {
               "duration": 0,
               "redraw": true
              },
              "fromcurrent": true,
              "mode": "immediate",
              "transition": {
               "duration": 0,
               "easing": "linear"
              }
             }
            ],
            "label": "3/26/2019",
            "method": "animate"
           },
           {
            "args": [
             [
              "3/1/2019"
             ],
             {
              "frame": {
               "duration": 0,
               "redraw": true
              },
              "fromcurrent": true,
              "mode": "immediate",
              "transition": {
               "duration": 0,
               "easing": "linear"
              }
             }
            ],
            "label": "3/1/2019",
            "method": "animate"
           },
           {
            "args": [
             [
              "2/1/2019"
             ],
             {
              "frame": {
               "duration": 0,
               "redraw": true
              },
              "fromcurrent": true,
              "mode": "immediate",
              "transition": {
               "duration": 0,
               "easing": "linear"
              }
             }
            ],
            "label": "2/1/2019",
            "method": "animate"
           },
           {
            "args": [
             [
              "3/28/2019"
             ],
             {
              "frame": {
               "duration": 0,
               "redraw": true
              },
              "fromcurrent": true,
              "mode": "immediate",
              "transition": {
               "duration": 0,
               "easing": "linear"
              }
             }
            ],
            "label": "3/28/2019",
            "method": "animate"
           },
           {
            "args": [
             [
              "3/24/2019"
             ],
             {
              "frame": {
               "duration": 0,
               "redraw": true
              },
              "fromcurrent": true,
              "mode": "immediate",
              "transition": {
               "duration": 0,
               "easing": "linear"
              }
             }
            ],
            "label": "3/24/2019",
            "method": "animate"
           },
           {
            "args": [
             [
              "2/5/2019"
             ],
             {
              "frame": {
               "duration": 0,
               "redraw": true
              },
              "fromcurrent": true,
              "mode": "immediate",
              "transition": {
               "duration": 0,
               "easing": "linear"
              }
             }
            ],
            "label": "2/5/2019",
            "method": "animate"
           },
           {
            "args": [
             [
              "1/19/2019"
             ],
             {
              "frame": {
               "duration": 0,
               "redraw": true
              },
              "fromcurrent": true,
              "mode": "immediate",
              "transition": {
               "duration": 0,
               "easing": "linear"
              }
             }
            ],
            "label": "1/19/2019",
            "method": "animate"
           },
           {
            "args": [
             [
              "1/16/2019"
             ],
             {
              "frame": {
               "duration": 0,
               "redraw": true
              },
              "fromcurrent": true,
              "mode": "immediate",
              "transition": {
               "duration": 0,
               "easing": "linear"
              }
             }
            ],
            "label": "1/16/2019",
            "method": "animate"
           },
           {
            "args": [
             [
              "1/8/2019"
             ],
             {
              "frame": {
               "duration": 0,
               "redraw": true
              },
              "fromcurrent": true,
              "mode": "immediate",
              "transition": {
               "duration": 0,
               "easing": "linear"
              }
             }
            ],
            "label": "1/8/2019",
            "method": "animate"
           },
           {
            "args": [
             [
              "2/18/2019"
             ],
             {
              "frame": {
               "duration": 0,
               "redraw": true
              },
              "fromcurrent": true,
              "mode": "immediate",
              "transition": {
               "duration": 0,
               "easing": "linear"
              }
             }
            ],
            "label": "2/18/2019",
            "method": "animate"
           },
           {
            "args": [
             [
              "1/18/2019"
             ],
             {
              "frame": {
               "duration": 0,
               "redraw": true
              },
              "fromcurrent": true,
              "mode": "immediate",
              "transition": {
               "duration": 0,
               "easing": "linear"
              }
             }
            ],
            "label": "1/18/2019",
            "method": "animate"
           },
           {
            "args": [
             [
              "2/16/2019"
             ],
             {
              "frame": {
               "duration": 0,
               "redraw": true
              },
              "fromcurrent": true,
              "mode": "immediate",
              "transition": {
               "duration": 0,
               "easing": "linear"
              }
             }
            ],
            "label": "2/16/2019",
            "method": "animate"
           },
           {
            "args": [
             [
              "2/22/2019"
             ],
             {
              "frame": {
               "duration": 0,
               "redraw": true
              },
              "fromcurrent": true,
              "mode": "immediate",
              "transition": {
               "duration": 0,
               "easing": "linear"
              }
             }
            ],
            "label": "2/22/2019",
            "method": "animate"
           },
           {
            "args": [
             [
              "1/29/2019"
             ],
             {
              "frame": {
               "duration": 0,
               "redraw": true
              },
              "fromcurrent": true,
              "mode": "immediate",
              "transition": {
               "duration": 0,
               "easing": "linear"
              }
             }
            ],
            "label": "1/29/2019",
            "method": "animate"
           },
           {
            "args": [
             [
              "1/4/2019"
             ],
             {
              "frame": {
               "duration": 0,
               "redraw": true
              },
              "fromcurrent": true,
              "mode": "immediate",
              "transition": {
               "duration": 0,
               "easing": "linear"
              }
             }
            ],
            "label": "1/4/2019",
            "method": "animate"
           },
           {
            "args": [
             [
              "3/30/2019"
             ],
             {
              "frame": {
               "duration": 0,
               "redraw": true
              },
              "fromcurrent": true,
              "mode": "immediate",
              "transition": {
               "duration": 0,
               "easing": "linear"
              }
             }
            ],
            "label": "3/30/2019",
            "method": "animate"
           },
           {
            "args": [
             [
              "1/30/2019"
             ],
             {
              "frame": {
               "duration": 0,
               "redraw": true
              },
              "fromcurrent": true,
              "mode": "immediate",
              "transition": {
               "duration": 0,
               "easing": "linear"
              }
             }
            ],
            "label": "1/30/2019",
            "method": "animate"
           },
           {
            "args": [
             [
              "1/3/2019"
             ],
             {
              "frame": {
               "duration": 0,
               "redraw": true
              },
              "fromcurrent": true,
              "mode": "immediate",
              "transition": {
               "duration": 0,
               "easing": "linear"
              }
             }
            ],
            "label": "1/3/2019",
            "method": "animate"
           },
           {
            "args": [
             [
              "3/21/2019"
             ],
             {
              "frame": {
               "duration": 0,
               "redraw": true
              },
              "fromcurrent": true,
              "mode": "immediate",
              "transition": {
               "duration": 0,
               "easing": "linear"
              }
             }
            ],
            "label": "3/21/2019",
            "method": "animate"
           },
           {
            "args": [
             [
              "2/13/2019"
             ],
             {
              "frame": {
               "duration": 0,
               "redraw": true
              },
              "fromcurrent": true,
              "mode": "immediate",
              "transition": {
               "duration": 0,
               "easing": "linear"
              }
             }
            ],
            "label": "2/13/2019",
            "method": "animate"
           },
           {
            "args": [
             [
              "1/14/2019"
             ],
             {
              "frame": {
               "duration": 0,
               "redraw": true
              },
              "fromcurrent": true,
              "mode": "immediate",
              "transition": {
               "duration": 0,
               "easing": "linear"
              }
             }
            ],
            "label": "1/14/2019",
            "method": "animate"
           },
           {
            "args": [
             [
              "3/18/2019"
             ],
             {
              "frame": {
               "duration": 0,
               "redraw": true
              },
              "fromcurrent": true,
              "mode": "immediate",
              "transition": {
               "duration": 0,
               "easing": "linear"
              }
             }
            ],
            "label": "3/18/2019",
            "method": "animate"
           },
           {
            "args": [
             [
              "3/20/2019"
             ],
             {
              "frame": {
               "duration": 0,
               "redraw": true
              },
              "fromcurrent": true,
              "mode": "immediate",
              "transition": {
               "duration": 0,
               "easing": "linear"
              }
             }
            ],
            "label": "3/20/2019",
            "method": "animate"
           },
           {
            "args": [
             [
              "2/21/2019"
             ],
             {
              "frame": {
               "duration": 0,
               "redraw": true
              },
              "fromcurrent": true,
              "mode": "immediate",
              "transition": {
               "duration": 0,
               "easing": "linear"
              }
             }
            ],
            "label": "2/21/2019",
            "method": "animate"
           },
           {
            "args": [
             [
              "1/31/2019"
             ],
             {
              "frame": {
               "duration": 0,
               "redraw": true
              },
              "fromcurrent": true,
              "mode": "immediate",
              "transition": {
               "duration": 0,
               "easing": "linear"
              }
             }
            ],
            "label": "1/31/2019",
            "method": "animate"
           },
           {
            "args": [
             [
              "1/11/2019"
             ],
             {
              "frame": {
               "duration": 0,
               "redraw": true
              },
              "fromcurrent": true,
              "mode": "immediate",
              "transition": {
               "duration": 0,
               "easing": "linear"
              }
             }
            ],
            "label": "1/11/2019",
            "method": "animate"
           },
           {
            "args": [
             [
              "2/26/2019"
             ],
             {
              "frame": {
               "duration": 0,
               "redraw": true
              },
              "fromcurrent": true,
              "mode": "immediate",
              "transition": {
               "duration": 0,
               "easing": "linear"
              }
             }
            ],
            "label": "2/26/2019",
            "method": "animate"
           },
           {
            "args": [
             [
              "3/17/2019"
             ],
             {
              "frame": {
               "duration": 0,
               "redraw": true
              },
              "fromcurrent": true,
              "mode": "immediate",
              "transition": {
               "duration": 0,
               "easing": "linear"
              }
             }
            ],
            "label": "3/17/2019",
            "method": "animate"
           },
           {
            "args": [
             [
              "3/14/2019"
             ],
             {
              "frame": {
               "duration": 0,
               "redraw": true
              },
              "fromcurrent": true,
              "mode": "immediate",
              "transition": {
               "duration": 0,
               "easing": "linear"
              }
             }
            ],
            "label": "3/14/2019",
            "method": "animate"
           },
           {
            "args": [
             [
              "2/4/2019"
             ],
             {
              "frame": {
               "duration": 0,
               "redraw": true
              },
              "fromcurrent": true,
              "mode": "immediate",
              "transition": {
               "duration": 0,
               "easing": "linear"
              }
             }
            ],
            "label": "2/4/2019",
            "method": "animate"
           },
           {
            "args": [
             [
              "2/19/2019"
             ],
             {
              "frame": {
               "duration": 0,
               "redraw": true
              },
              "fromcurrent": true,
              "mode": "immediate",
              "transition": {
               "duration": 0,
               "easing": "linear"
              }
             }
            ],
            "label": "2/19/2019",
            "method": "animate"
           }
          ],
          "x": 0.1,
          "xanchor": "left",
          "y": 0,
          "yanchor": "top"
         }
        ],
        "template": {
         "data": {
          "bar": [
           {
            "error_x": {
             "color": "#2a3f5f"
            },
            "error_y": {
             "color": "#2a3f5f"
            },
            "marker": {
             "line": {
              "color": "#E5ECF6",
              "width": 0.5
             },
             "pattern": {
              "fillmode": "overlay",
              "size": 10,
              "solidity": 0.2
             }
            },
            "type": "bar"
           }
          ],
          "barpolar": [
           {
            "marker": {
             "line": {
              "color": "#E5ECF6",
              "width": 0.5
             },
             "pattern": {
              "fillmode": "overlay",
              "size": 10,
              "solidity": 0.2
             }
            },
            "type": "barpolar"
           }
          ],
          "carpet": [
           {
            "aaxis": {
             "endlinecolor": "#2a3f5f",
             "gridcolor": "white",
             "linecolor": "white",
             "minorgridcolor": "white",
             "startlinecolor": "#2a3f5f"
            },
            "baxis": {
             "endlinecolor": "#2a3f5f",
             "gridcolor": "white",
             "linecolor": "white",
             "minorgridcolor": "white",
             "startlinecolor": "#2a3f5f"
            },
            "type": "carpet"
           }
          ],
          "choropleth": [
           {
            "colorbar": {
             "outlinewidth": 0,
             "ticks": ""
            },
            "type": "choropleth"
           }
          ],
          "contour": [
           {
            "colorbar": {
             "outlinewidth": 0,
             "ticks": ""
            },
            "colorscale": [
             [
              0,
              "#0d0887"
             ],
             [
              0.1111111111111111,
              "#46039f"
             ],
             [
              0.2222222222222222,
              "#7201a8"
             ],
             [
              0.3333333333333333,
              "#9c179e"
             ],
             [
              0.4444444444444444,
              "#bd3786"
             ],
             [
              0.5555555555555556,
              "#d8576b"
             ],
             [
              0.6666666666666666,
              "#ed7953"
             ],
             [
              0.7777777777777778,
              "#fb9f3a"
             ],
             [
              0.8888888888888888,
              "#fdca26"
             ],
             [
              1,
              "#f0f921"
             ]
            ],
            "type": "contour"
           }
          ],
          "contourcarpet": [
           {
            "colorbar": {
             "outlinewidth": 0,
             "ticks": ""
            },
            "type": "contourcarpet"
           }
          ],
          "heatmap": [
           {
            "colorbar": {
             "outlinewidth": 0,
             "ticks": ""
            },
            "colorscale": [
             [
              0,
              "#0d0887"
             ],
             [
              0.1111111111111111,
              "#46039f"
             ],
             [
              0.2222222222222222,
              "#7201a8"
             ],
             [
              0.3333333333333333,
              "#9c179e"
             ],
             [
              0.4444444444444444,
              "#bd3786"
             ],
             [
              0.5555555555555556,
              "#d8576b"
             ],
             [
              0.6666666666666666,
              "#ed7953"
             ],
             [
              0.7777777777777778,
              "#fb9f3a"
             ],
             [
              0.8888888888888888,
              "#fdca26"
             ],
             [
              1,
              "#f0f921"
             ]
            ],
            "type": "heatmap"
           }
          ],
          "histogram": [
           {
            "marker": {
             "pattern": {
              "fillmode": "overlay",
              "size": 10,
              "solidity": 0.2
             }
            },
            "type": "histogram"
           }
          ],
          "histogram2d": [
           {
            "colorbar": {
             "outlinewidth": 0,
             "ticks": ""
            },
            "colorscale": [
             [
              0,
              "#0d0887"
             ],
             [
              0.1111111111111111,
              "#46039f"
             ],
             [
              0.2222222222222222,
              "#7201a8"
             ],
             [
              0.3333333333333333,
              "#9c179e"
             ],
             [
              0.4444444444444444,
              "#bd3786"
             ],
             [
              0.5555555555555556,
              "#d8576b"
             ],
             [
              0.6666666666666666,
              "#ed7953"
             ],
             [
              0.7777777777777778,
              "#fb9f3a"
             ],
             [
              0.8888888888888888,
              "#fdca26"
             ],
             [
              1,
              "#f0f921"
             ]
            ],
            "type": "histogram2d"
           }
          ],
          "histogram2dcontour": [
           {
            "colorbar": {
             "outlinewidth": 0,
             "ticks": ""
            },
            "colorscale": [
             [
              0,
              "#0d0887"
             ],
             [
              0.1111111111111111,
              "#46039f"
             ],
             [
              0.2222222222222222,
              "#7201a8"
             ],
             [
              0.3333333333333333,
              "#9c179e"
             ],
             [
              0.4444444444444444,
              "#bd3786"
             ],
             [
              0.5555555555555556,
              "#d8576b"
             ],
             [
              0.6666666666666666,
              "#ed7953"
             ],
             [
              0.7777777777777778,
              "#fb9f3a"
             ],
             [
              0.8888888888888888,
              "#fdca26"
             ],
             [
              1,
              "#f0f921"
             ]
            ],
            "type": "histogram2dcontour"
           }
          ],
          "mesh3d": [
           {
            "colorbar": {
             "outlinewidth": 0,
             "ticks": ""
            },
            "type": "mesh3d"
           }
          ],
          "parcoords": [
           {
            "line": {
             "colorbar": {
              "outlinewidth": 0,
              "ticks": ""
             }
            },
            "type": "parcoords"
           }
          ],
          "pie": [
           {
            "automargin": true,
            "type": "pie"
           }
          ],
          "scatter": [
           {
            "fillpattern": {
             "fillmode": "overlay",
             "size": 10,
             "solidity": 0.2
            },
            "type": "scatter"
           }
          ],
          "scatter3d": [
           {
            "line": {
             "colorbar": {
              "outlinewidth": 0,
              "ticks": ""
             }
            },
            "marker": {
             "colorbar": {
              "outlinewidth": 0,
              "ticks": ""
             }
            },
            "type": "scatter3d"
           }
          ],
          "scattercarpet": [
           {
            "marker": {
             "colorbar": {
              "outlinewidth": 0,
              "ticks": ""
             }
            },
            "type": "scattercarpet"
           }
          ],
          "scattergeo": [
           {
            "marker": {
             "colorbar": {
              "outlinewidth": 0,
              "ticks": ""
             }
            },
            "type": "scattergeo"
           }
          ],
          "scattergl": [
           {
            "marker": {
             "colorbar": {
              "outlinewidth": 0,
              "ticks": ""
             }
            },
            "type": "scattergl"
           }
          ],
          "scattermap": [
           {
            "marker": {
             "colorbar": {
              "outlinewidth": 0,
              "ticks": ""
             }
            },
            "type": "scattermap"
           }
          ],
          "scattermapbox": [
           {
            "marker": {
             "colorbar": {
              "outlinewidth": 0,
              "ticks": ""
             }
            },
            "type": "scattermapbox"
           }
          ],
          "scatterpolar": [
           {
            "marker": {
             "colorbar": {
              "outlinewidth": 0,
              "ticks": ""
             }
            },
            "type": "scatterpolar"
           }
          ],
          "scatterpolargl": [
           {
            "marker": {
             "colorbar": {
              "outlinewidth": 0,
              "ticks": ""
             }
            },
            "type": "scatterpolargl"
           }
          ],
          "scatterternary": [
           {
            "marker": {
             "colorbar": {
              "outlinewidth": 0,
              "ticks": ""
             }
            },
            "type": "scatterternary"
           }
          ],
          "surface": [
           {
            "colorbar": {
             "outlinewidth": 0,
             "ticks": ""
            },
            "colorscale": [
             [
              0,
              "#0d0887"
             ],
             [
              0.1111111111111111,
              "#46039f"
             ],
             [
              0.2222222222222222,
              "#7201a8"
             ],
             [
              0.3333333333333333,
              "#9c179e"
             ],
             [
              0.4444444444444444,
              "#bd3786"
             ],
             [
              0.5555555555555556,
              "#d8576b"
             ],
             [
              0.6666666666666666,
              "#ed7953"
             ],
             [
              0.7777777777777778,
              "#fb9f3a"
             ],
             [
              0.8888888888888888,
              "#fdca26"
             ],
             [
              1,
              "#f0f921"
             ]
            ],
            "type": "surface"
           }
          ],
          "table": [
           {
            "cells": {
             "fill": {
              "color": "#EBF0F8"
             },
             "line": {
              "color": "white"
             }
            },
            "header": {
             "fill": {
              "color": "#C8D4E3"
             },
             "line": {
              "color": "white"
             }
            },
            "type": "table"
           }
          ]
         },
         "layout": {
          "annotationdefaults": {
           "arrowcolor": "#2a3f5f",
           "arrowhead": 0,
           "arrowwidth": 1
          },
          "autotypenumbers": "strict",
          "coloraxis": {
           "colorbar": {
            "outlinewidth": 0,
            "ticks": ""
           }
          },
          "colorscale": {
           "diverging": [
            [
             0,
             "#8e0152"
            ],
            [
             0.1,
             "#c51b7d"
            ],
            [
             0.2,
             "#de77ae"
            ],
            [
             0.3,
             "#f1b6da"
            ],
            [
             0.4,
             "#fde0ef"
            ],
            [
             0.5,
             "#f7f7f7"
            ],
            [
             0.6,
             "#e6f5d0"
            ],
            [
             0.7,
             "#b8e186"
            ],
            [
             0.8,
             "#7fbc41"
            ],
            [
             0.9,
             "#4d9221"
            ],
            [
             1,
             "#276419"
            ]
           ],
           "sequential": [
            [
             0,
             "#0d0887"
            ],
            [
             0.1111111111111111,
             "#46039f"
            ],
            [
             0.2222222222222222,
             "#7201a8"
            ],
            [
             0.3333333333333333,
             "#9c179e"
            ],
            [
             0.4444444444444444,
             "#bd3786"
            ],
            [
             0.5555555555555556,
             "#d8576b"
            ],
            [
             0.6666666666666666,
             "#ed7953"
            ],
            [
             0.7777777777777778,
             "#fb9f3a"
            ],
            [
             0.8888888888888888,
             "#fdca26"
            ],
            [
             1,
             "#f0f921"
            ]
           ],
           "sequentialminus": [
            [
             0,
             "#0d0887"
            ],
            [
             0.1111111111111111,
             "#46039f"
            ],
            [
             0.2222222222222222,
             "#7201a8"
            ],
            [
             0.3333333333333333,
             "#9c179e"
            ],
            [
             0.4444444444444444,
             "#bd3786"
            ],
            [
             0.5555555555555556,
             "#d8576b"
            ],
            [
             0.6666666666666666,
             "#ed7953"
            ],
            [
             0.7777777777777778,
             "#fb9f3a"
            ],
            [
             0.8888888888888888,
             "#fdca26"
            ],
            [
             1,
             "#f0f921"
            ]
           ]
          },
          "colorway": [
           "#636efa",
           "#EF553B",
           "#00cc96",
           "#ab63fa",
           "#FFA15A",
           "#19d3f3",
           "#FF6692",
           "#B6E880",
           "#FF97FF",
           "#FECB52"
          ],
          "font": {
           "color": "#2a3f5f"
          },
          "geo": {
           "bgcolor": "white",
           "lakecolor": "white",
           "landcolor": "#E5ECF6",
           "showlakes": true,
           "showland": true,
           "subunitcolor": "white"
          },
          "hoverlabel": {
           "align": "left"
          },
          "hovermode": "closest",
          "mapbox": {
           "style": "light"
          },
          "paper_bgcolor": "white",
          "plot_bgcolor": "#E5ECF6",
          "polar": {
           "angularaxis": {
            "gridcolor": "white",
            "linecolor": "white",
            "ticks": ""
           },
           "bgcolor": "#E5ECF6",
           "radialaxis": {
            "gridcolor": "white",
            "linecolor": "white",
            "ticks": ""
           }
          },
          "scene": {
           "xaxis": {
            "backgroundcolor": "#E5ECF6",
            "gridcolor": "white",
            "gridwidth": 2,
            "linecolor": "white",
            "showbackground": true,
            "ticks": "",
            "zerolinecolor": "white"
           },
           "yaxis": {
            "backgroundcolor": "#E5ECF6",
            "gridcolor": "white",
            "gridwidth": 2,
            "linecolor": "white",
            "showbackground": true,
            "ticks": "",
            "zerolinecolor": "white"
           },
           "zaxis": {
            "backgroundcolor": "#E5ECF6",
            "gridcolor": "white",
            "gridwidth": 2,
            "linecolor": "white",
            "showbackground": true,
            "ticks": "",
            "zerolinecolor": "white"
           }
          },
          "shapedefaults": {
           "line": {
            "color": "#2a3f5f"
           }
          },
          "ternary": {
           "aaxis": {
            "gridcolor": "white",
            "linecolor": "white",
            "ticks": ""
           },
           "baxis": {
            "gridcolor": "white",
            "linecolor": "white",
            "ticks": ""
           },
           "bgcolor": "#E5ECF6",
           "caxis": {
            "gridcolor": "white",
            "linecolor": "white",
            "ticks": ""
           }
          },
          "title": {
           "x": 0.05
          },
          "xaxis": {
           "automargin": true,
           "gridcolor": "white",
           "linecolor": "white",
           "ticks": "",
           "title": {
            "standoff": 15
           },
           "zerolinecolor": "white",
           "zerolinewidth": 2
          },
          "yaxis": {
           "automargin": true,
           "gridcolor": "white",
           "linecolor": "white",
           "ticks": "",
           "title": {
            "standoff": 15
           },
           "zerolinecolor": "white",
           "zerolinewidth": 2
          }
         }
        },
        "title": {
         "text": "Relación total por ciudad y fecha"
        },
        "updatemenus": [
         {
          "buttons": [
           {
            "args": [
             null,
             {
              "frame": {
               "duration": 500,
               "redraw": true
              },
              "fromcurrent": true,
              "mode": "immediate",
              "transition": {
               "duration": 500,
               "easing": "linear"
              }
             }
            ],
            "label": "&#9654;",
            "method": "animate"
           },
           {
            "args": [
             [
              null
             ],
             {
              "frame": {
               "duration": 0,
               "redraw": true
              },
              "fromcurrent": true,
              "mode": "immediate",
              "transition": {
               "duration": 0,
               "easing": "linear"
              }
             }
            ],
            "label": "&#9724;",
            "method": "animate"
           }
          ],
          "direction": "left",
          "pad": {
           "r": 10,
           "t": 70
          },
          "showactive": false,
          "type": "buttons",
          "x": 0.1,
          "xanchor": "right",
          "y": 0,
          "yanchor": "top"
         }
        ],
        "xaxis": {
         "anchor": "y",
         "categoryarray": [
          "Yangon",
          "Naypyitaw",
          "Mandalay"
         ],
         "categoryorder": "array",
         "domain": [
          0,
          1
         ],
         "title": {
          "text": "City"
         }
        },
        "yaxis": {
         "anchor": "x",
         "domain": [
          0,
          1
         ],
         "range": [
          0,
          1000
         ],
         "title": {
          "text": "Total"
         }
        }
       }
      }
     },
     "metadata": {},
     "output_type": "display_data"
    }
   ],
   "source": [
    "px.bar(df,x='City',y='Total',\n",
    "       color='City',animation_frame='Date',\n",
    "       title='Relación total por ciudad y fecha',animation_group='Branch', \n",
    "       range_y=[0,1000]) \n"
   ]
  },
  {
   "cell_type": "markdown",
   "id": "8caa0157",
   "metadata": {},
   "source": [
    "Relación custormer type y gender con seaborn"
   ]
  },
  {
   "cell_type": "code",
   "execution_count": 116,
   "id": "10e46a91",
   "metadata": {},
   "outputs": [
    {
     "data": {
      "text/plain": [
       "<Axes: xlabel='Customer type', ylabel='count'>"
      ]
     },
     "execution_count": 116,
     "metadata": {},
     "output_type": "execute_result"
    },
    {
     "data": {
      "image/png": "[encoded data removed]",
      "text/plain": [
       "<Figure size 640x480 with 1 Axes>"
      ]
     },
     "metadata": {},
     "output_type": "display_data"
    }
   ],
   "source": [
    "sns.countplot(data=df, x ='Customer type', hue='Gender',palette='Set2')"
   ]
  },
  {
   "cell_type": "code",
   "execution_count": 117,
   "id": "92366e8d",
   "metadata": {},
   "outputs": [
    {
     "data": {
      "text/plain": [
       "<Axes: xlabel='Gender', ylabel='count'>"
      ]
     },
     "execution_count": 117,
     "metadata": {},
     "output_type": "execute_result"
    },
    {
     "data": {
      "image/png": "[encoded data removed]",
      "text/plain": [
       "<Figure size 640x480 with 1 Axes>"
      ]
     },
     "metadata": {},
     "output_type": "display_data"
    }
   ],
   "source": [
    "sns.countplot(data=df, x ='Gender', hue='Customer type',palette='Set2')"
   ]
  },
  {
   "cell_type": "markdown",
   "id": "9f7e1410",
   "metadata": {},
   "source": [
    "Obtener la suma de la variable total por city y por branch"
   ]
  },
  {
   "cell_type": "code",
   "execution_count": 119,
   "id": "bc10f373",
   "metadata": {},
   "outputs": [
    {
     "data": {
      "text/html": [
       "<div>\n",
       "<style scoped>\n",
       "    .dataframe tbody tr th:only-of-type {\n",
       "        vertical-align: middle;\n",
       "    }\n",
       "\n",
       "    .dataframe tbody tr th {\n",
       "        vertical-align: top;\n",
       "    }\n",
       "\n",
       "    .dataframe thead th {\n",
       "        text-align: right;\n",
       "    }\n",
       "</style>\n",
       "<table border=\"1\" class=\"dataframe\">\n",
       "  <thead>\n",
       "    <tr style=\"text-align: right;\">\n",
       "      <th></th>\n",
       "      <th>City</th>\n",
       "      <th>Branch</th>\n",
       "      <th>total</th>\n",
       "    </tr>\n",
       "  </thead>\n",
       "  <tbody>\n",
       "    <tr>\n",
       "      <th>0</th>\n",
       "      <td>Mandalay</td>\n",
       "      <td>B</td>\n",
       "      <td>106197.6720</td>\n",
       "    </tr>\n",
       "    <tr>\n",
       "      <th>1</th>\n",
       "      <td>Naypyitaw</td>\n",
       "      <td>C</td>\n",
       "      <td>110568.7065</td>\n",
       "    </tr>\n",
       "    <tr>\n",
       "      <th>2</th>\n",
       "      <td>Yangon</td>\n",
       "      <td>A</td>\n",
       "      <td>106200.3705</td>\n",
       "    </tr>\n",
       "  </tbody>\n",
       "</table>\n",
       "</div>"
      ],
      "text/plain": [
       "        City Branch        total\n",
       "0   Mandalay      B  106197.6720\n",
       "1  Naypyitaw      C  110568.7065\n",
       "2     Yangon      A  106200.3705"
      ]
     },
     "execution_count": 119,
     "metadata": {},
     "output_type": "execute_result"
    }
   ],
   "source": [
    "df[['City','Total','Branch']].groupby(['City','Branch'], as_index=False).agg(total=('Total','sum'))"
   ]
  }
 ],
 "metadata": {
  "kernelspec": {
   "display_name": "Python 3",
   "language": "python",
   "name": "python3"
  },
  "language_info": {
   "codemirror_mode": {
    "name": "ipython",
    "version": 3
   },
   "file_extension": ".py",
   "mimetype": "text/x-python",
   "name": "python",
   "nbconvert_exporter": "python",
   "pygments_lexer": "ipython3",
   "version": "3.13.2"
  }
 },
 "nbformat": 4,
 "nbformat_minor": 5
}
