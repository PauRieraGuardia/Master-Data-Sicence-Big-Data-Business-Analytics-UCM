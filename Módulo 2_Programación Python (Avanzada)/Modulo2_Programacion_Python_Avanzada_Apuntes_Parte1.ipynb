{
  "nbformat": 4,
  "nbformat_minor": 0,
  "metadata": {
    "colab": {
      "provenance": []
    },
    "kernelspec": {
      "name": "python3",
      "display_name": "Python 3"
    },
    "language_info": {
      "name": "python"
    }
  },
  "cells": [
    {
      "cell_type": "markdown",
      "source": [
        "##Métodos de las colecciones\n",
        "En este punto revisaremos algunos de los métodos más utilizados en los tipos de datos y colecciones que se vieron en el módulo de Fundamentos de Python. Existen muchos más métodos de los que se tratarán en este punto, pero se tratarán aquellos que son más relevantes o más usados por la mayoria de los usuarios.*texto en cursiva*"
      ],
      "metadata": {
        "id": "mlV_pDf9NFhY"
      }
    },
    {
      "cell_type": "markdown",
      "source": [
        "### Métodos en cadenas de texto"
      ],
      "metadata": {
        "id": "ykdMb7k5sVHa"
      }
    },
    {
      "cell_type": "code",
      "execution_count": null,
      "metadata": {
        "colab": {
          "base_uri": "https://localhost:8080/",
          "height": 36
        },
        "id": "ZMvcyTuRJFUF",
        "outputId": "4b987151-4cf6-457c-a631-b2fc5ef621d6"
      },
      "outputs": [
        {
          "output_type": "execute_result",
          "data": {
            "text/plain": [
              "'HOLA MUNDO'"
            ],
            "application/vnd.google.colaboratory.intrinsic+json": {
              "type": "string"
            }
          },
          "metadata": {},
          "execution_count": 16
        }
      ],
      "source": [
        "# Todos los caracteres alfabéticos en mayúsculas\n",
        "'Hola mundo'.upper()"
      ]
    },
    {
      "cell_type": "code",
      "source": [
        "# Primera letra del texto en mayúsculas\n",
        "'HOLA MUNDO'.capitalize()"
      ],
      "metadata": {
        "colab": {
          "base_uri": "https://localhost:8080/",
          "height": 36
        },
        "id": "0T6CIVsVPxmC",
        "outputId": "57803157-8672-4866-e2e0-ada75ff823d4"
      },
      "execution_count": null,
      "outputs": [
        {
          "output_type": "execute_result",
          "data": {
            "text/plain": [
              "'Hola mundo'"
            ],
            "application/vnd.google.colaboratory.intrinsic+json": {
              "type": "string"
            }
          },
          "metadata": {},
          "execution_count": 17
        }
      ]
    },
    {
      "cell_type": "code",
      "source": [
        "# Contabilizar el número de veces que aparece una subcadena o carácter detrno de una cadena\n",
        "'Hola mundo mundo mundo mundo mundo'.count('mundo')"
      ],
      "metadata": {
        "colab": {
          "base_uri": "https://localhost:8080/"
        },
        "id": "g7EWkA7lRScw",
        "outputId": "a3063d29-c6ad-4144-dcb7-3b45e8a9cf82"
      },
      "execution_count": null,
      "outputs": [
        {
          "output_type": "execute_result",
          "data": {
            "text/plain": [
              "5"
            ]
          },
          "metadata": {},
          "execution_count": 18
        }
      ]
    },
    {
      "cell_type": "code",
      "source": [
        "# Buscar los índices de aparición de una subcadena, es decir, el lugar en el que aparecen\n",
        "'Hola mundo'.find('mundo')"
      ],
      "metadata": {
        "colab": {
          "base_uri": "https://localhost:8080/"
        },
        "id": "C62VE5Q2RpS8",
        "outputId": "18c2ba66-59a0-4f47-a309-e55c59872e50"
      },
      "execution_count": null,
      "outputs": [
        {
          "output_type": "execute_result",
          "data": {
            "text/plain": [
              "5"
            ]
          },
          "metadata": {},
          "execution_count": 19
        }
      ]
    },
    {
      "cell_type": "code",
      "source": [
        "# Buscar el índice de la última aparición de una subcadena:\n",
        "'Hola mundo mundo mundo mundo'.rfind('mundo')"
      ],
      "metadata": {
        "colab": {
          "base_uri": "https://localhost:8080/"
        },
        "id": "4NoV1Fr-S8t9",
        "outputId": "89aebdef-52a1-446e-e736-0e49f93c5179"
      },
      "execution_count": null,
      "outputs": [
        {
          "output_type": "execute_result",
          "data": {
            "text/plain": [
              "23"
            ]
          },
          "metadata": {},
          "execution_count": 20
        }
      ]
    },
    {
      "cell_type": "code",
      "source": [
        "# Comprobar si una cadea de texto esta compuesta únicmante por números:\n",
        "c = '100'\n",
        "c.isdigit()"
      ],
      "metadata": {
        "id": "UVVZDNR8T_Ha",
        "colab": {
          "base_uri": "https://localhost:8080/"
        },
        "outputId": "0c4225aa-109b-4821-f3cb-b1d35cba2f17"
      },
      "execution_count": null,
      "outputs": [
        {
          "output_type": "execute_result",
          "data": {
            "text/plain": [
              "True"
            ]
          },
          "metadata": {},
          "execution_count": 21
        }
      ]
    },
    {
      "cell_type": "code",
      "source": [
        "'abcd'.isdigit()"
      ],
      "metadata": {
        "colab": {
          "base_uri": "https://localhost:8080/"
        },
        "id": "wSJ486GCVFw6",
        "outputId": "a8b1558c-2996-44a0-8e57-83bfec5a39fd"
      },
      "execution_count": null,
      "outputs": [
        {
          "output_type": "execute_result",
          "data": {
            "text/plain": [
              "False"
            ]
          },
          "metadata": {},
          "execution_count": 22
        }
      ]
    },
    {
      "cell_type": "code",
      "source": [
        "'abcd1234'.isdigit()"
      ],
      "metadata": {
        "colab": {
          "base_uri": "https://localhost:8080/"
        },
        "id": "ISuNDUyAVKNi",
        "outputId": "3098fe17-5c14-4939-b137-39f561a3b4fb"
      },
      "execution_count": null,
      "outputs": [
        {
          "output_type": "execute_result",
          "data": {
            "text/plain": [
              "False"
            ]
          },
          "metadata": {},
          "execution_count": 23
        }
      ]
    },
    {
      "cell_type": "code",
      "source": [
        "# Comprobar si una cadena de texto está compuesta por carácteres alfanuméricos\n",
        "'abcd1234'.isalnum()"
      ],
      "metadata": {
        "colab": {
          "base_uri": "https://localhost:8080/"
        },
        "id": "uZwhHVM1VR7p",
        "outputId": "bd727e95-7e5c-4701-a036-cad0d93ed980"
      },
      "execution_count": null,
      "outputs": [
        {
          "output_type": "execute_result",
          "data": {
            "text/plain": [
              "True"
            ]
          },
          "metadata": {},
          "execution_count": 24
        }
      ]
    },
    {
      "cell_type": "code",
      "source": [
        "'abcd1234#'.isalnum()"
      ],
      "metadata": {
        "colab": {
          "base_uri": "https://localhost:8080/"
        },
        "id": "AGkvt5StVruo",
        "outputId": "a89b65c5-2fed-4d83-bc50-22bd4b3a486b"
      },
      "execution_count": null,
      "outputs": [
        {
          "output_type": "execute_result",
          "data": {
            "text/plain": [
              "False"
            ]
          },
          "metadata": {},
          "execution_count": 25
        }
      ]
    },
    {
      "cell_type": "code",
      "source": [
        "# Comprobar si una cadena está compuesta por espacios o tabulaciones:\n",
        "a = '        '\n",
        "a.isspace()"
      ],
      "metadata": {
        "id": "MUQMNZigXiEf",
        "colab": {
          "base_uri": "https://localhost:8080/"
        },
        "outputId": "e8b77faa-1d1b-4e37-d132-35d92e619ced"
      },
      "execution_count": null,
      "outputs": [
        {
          "output_type": "execute_result",
          "data": {
            "text/plain": [
              "True"
            ]
          },
          "metadata": {},
          "execution_count": 26
        }
      ]
    },
    {
      "cell_type": "code",
      "source": [
        "# Comprobar si una cadena comienza por un carácter o subcadena concreta:\n",
        "c = 'Hola mundo'\n",
        "c.startswith(\"H\")"
      ],
      "metadata": {
        "id": "cFBICbZwYelj",
        "colab": {
          "base_uri": "https://localhost:8080/"
        },
        "outputId": "102e8520-b0a7-4f35-c726-b6031c750c81"
      },
      "execution_count": null,
      "outputs": [
        {
          "output_type": "execute_result",
          "data": {
            "text/plain": [
              "True"
            ]
          },
          "metadata": {},
          "execution_count": 27
        }
      ]
    },
    {
      "cell_type": "code",
      "source": [
        "# Separar una cadena en una lista de subcadenas a partir de un caracter que haga de delimitador, por ejemplo el espacio:\n",
        "frase = 'Hola mundo mundo mundo mundo'\n",
        "frase.split()"
      ],
      "metadata": {
        "id": "_WrW7QcTZLGq",
        "colab": {
          "base_uri": "https://localhost:8080/"
        },
        "outputId": "7db52af8-2353-49cd-b3ec-087a1b435a66"
      },
      "execution_count": null,
      "outputs": [
        {
          "output_type": "execute_result",
          "data": {
            "text/plain": [
              "['Hola', 'mundo', 'mundo', 'mundo', 'mundo']"
            ]
          },
          "metadata": {},
          "execution_count": 28
        }
      ]
    },
    {
      "cell_type": "code",
      "source": [
        "frase.split('mundo')"
      ],
      "metadata": {
        "colab": {
          "base_uri": "https://localhost:8080/"
        },
        "id": "Nbh40REPZV7F",
        "outputId": "891c16db-773e-4f0e-9182-1bceba32650c"
      },
      "execution_count": null,
      "outputs": [
        {
          "output_type": "execute_result",
          "data": {
            "text/plain": [
              "['Hola ', ' ', ' ', ' ', '']"
            ]
          },
          "metadata": {},
          "execution_count": 29
        }
      ]
    },
    {
      "cell_type": "code",
      "source": [
        "cadena = 'aaa;bbb;ccc'"
      ],
      "metadata": {
        "id": "uWdyV2zTZ9az"
      },
      "execution_count": null,
      "outputs": []
    },
    {
      "cell_type": "code",
      "source": [
        "cadena.split(';')"
      ],
      "metadata": {
        "colab": {
          "base_uri": "https://localhost:8080/"
        },
        "id": "XFDzrtJhaitd",
        "outputId": "ed3f5ddf-b70e-408b-e862-ea0b53b3c388"
      },
      "execution_count": null,
      "outputs": [
        {
          "output_type": "execute_result",
          "data": {
            "text/plain": [
              "['aaa', 'bbb', 'ccc']"
            ]
          },
          "metadata": {},
          "execution_count": 31
        }
      ]
    },
    {
      "cell_type": "code",
      "source": [
        "# Reemplazar un carácter o una subcadena de una cadena\n",
        "c = 'Hola Mundo'\n",
        "c.replace('Hola','Adíos').replace('Mundo','Perros')"
      ],
      "metadata": {
        "id": "g27T6vv_gabs",
        "colab": {
          "base_uri": "https://localhost:8080/",
          "height": 36
        },
        "outputId": "f672a46e-d5cd-4ea3-a5ef-f7b495f5cf3f"
      },
      "execution_count": null,
      "outputs": [
        {
          "output_type": "execute_result",
          "data": {
            "text/plain": [
              "'Adíos Perros'"
            ],
            "application/vnd.google.colaboratory.intrinsic+json": {
              "type": "string"
            }
          },
          "metadata": {},
          "execution_count": 32
        }
      ]
    },
    {
      "cell_type": "markdown",
      "source": [
        "###Métodos en listas"
      ],
      "metadata": {
        "id": "PCzNY0z9nMo8"
      }
    },
    {
      "cell_type": "code",
      "source": [
        "l1 = [1,2,3]\n",
        "l2 = [4,5,6]"
      ],
      "metadata": {
        "id": "N-haZJuxnSzR"
      },
      "execution_count": null,
      "outputs": []
    },
    {
      "cell_type": "code",
      "source": [
        "# Unir los elementos de dos listas en una\n",
        "l1.extend(l2)"
      ],
      "metadata": {
        "id": "oaIIk86Jnkf_"
      },
      "execution_count": null,
      "outputs": []
    },
    {
      "cell_type": "code",
      "source": [
        "l1"
      ],
      "metadata": {
        "colab": {
          "base_uri": "https://localhost:8080/"
        },
        "id": "nYkQOp2pnpQX",
        "outputId": "1ccba190-71bd-4e4d-8146-cbf45cc13eca"
      },
      "execution_count": null,
      "outputs": [
        {
          "output_type": "execute_result",
          "data": {
            "text/plain": [
              "[1, 2, 3, 4, 5, 6]"
            ]
          },
          "metadata": {},
          "execution_count": 35
        }
      ]
    },
    {
      "cell_type": "code",
      "source": [
        "l = ['Hola','mundo','mundo']"
      ],
      "metadata": {
        "id": "xYLNCl6Rnr4H"
      },
      "execution_count": null,
      "outputs": []
    },
    {
      "cell_type": "code",
      "source": [
        "# Mostrar la posición del índice en la que aparece por primeza vez un elemento en una lista\n",
        "l.index('mundo')"
      ],
      "metadata": {
        "colab": {
          "base_uri": "https://localhost:8080/"
        },
        "id": "Cag3hnzsn8qa",
        "outputId": "b88f5f38-9ea0-4f93-f307-ac538a770d65"
      },
      "execution_count": null,
      "outputs": [
        {
          "output_type": "execute_result",
          "data": {
            "text/plain": [
              "1"
            ]
          },
          "metadata": {},
          "execution_count": 37
        }
      ]
    },
    {
      "cell_type": "code",
      "source": [
        "# Contar cuántas veces aparece un elemento en una lista\n",
        "l.count('mundo')"
      ],
      "metadata": {
        "colab": {
          "base_uri": "https://localhost:8080/"
        },
        "id": "0M-TTtMHoJQ_",
        "outputId": "f0fd0fef-caa2-4b99-a09b-c2a4aad00ef1"
      },
      "execution_count": null,
      "outputs": [
        {
          "output_type": "execute_result",
          "data": {
            "text/plain": [
              "2"
            ]
          },
          "metadata": {},
          "execution_count": 38
        }
      ]
    },
    {
      "cell_type": "code",
      "source": [
        "# Invertir el orden de los elementos de una lista\n",
        "l1.reverse()"
      ],
      "metadata": {
        "id": "3wPtmyaOoSAO"
      },
      "execution_count": null,
      "outputs": []
    },
    {
      "cell_type": "code",
      "source": [
        "l1"
      ],
      "metadata": {
        "colab": {
          "base_uri": "https://localhost:8080/"
        },
        "id": "SmstWfKpofTr",
        "outputId": "0584d5e5-1f11-4e1d-b281-1f4f7c1e96ef"
      },
      "execution_count": null,
      "outputs": [
        {
          "output_type": "execute_result",
          "data": {
            "text/plain": [
              "[6, 5, 4, 3, 2, 1]"
            ]
          },
          "metadata": {},
          "execution_count": 40
        }
      ]
    },
    {
      "cell_type": "code",
      "source": [
        "l3 = [3,2,-8,10,9]"
      ],
      "metadata": {
        "id": "xJ8cQ0SZo5pz"
      },
      "execution_count": null,
      "outputs": []
    },
    {
      "cell_type": "code",
      "source": [
        "# Ordenar elementos de una lista\n",
        "l3.sort()"
      ],
      "metadata": {
        "id": "MzeSjIV4o959"
      },
      "execution_count": null,
      "outputs": []
    },
    {
      "cell_type": "code",
      "source": [
        "l3"
      ],
      "metadata": {
        "colab": {
          "base_uri": "https://localhost:8080/"
        },
        "id": "Oa_26mR1o_OD",
        "outputId": "83deb7a5-ba63-4e3f-e2ab-3e832faf4ec5"
      },
      "execution_count": null,
      "outputs": [
        {
          "output_type": "execute_result",
          "data": {
            "text/plain": [
              "[-8, 2, 3, 9, 10]"
            ]
          },
          "metadata": {},
          "execution_count": 43
        }
      ]
    },
    {
      "cell_type": "markdown",
      "source": [
        "### Métodos en diccionarios"
      ],
      "metadata": {
        "id": "yiSYXxcmsFxb"
      }
    },
    {
      "cell_type": "code",
      "source": [
        "colores = {'amarillo': 'yellow', 'azul': 'blue', 'verde': 'green'}"
      ],
      "metadata": {
        "id": "YGu3J6JasJRX"
      },
      "execution_count": null,
      "outputs": []
    },
    {
      "cell_type": "code",
      "source": [
        "colores['amarillo']"
      ],
      "metadata": {
        "colab": {
          "base_uri": "https://localhost:8080/",
          "height": 36
        },
        "id": "xDeSeCeSsv3U",
        "outputId": "cae8f8ac-7233-45a4-ec05-92a662a2c86d"
      },
      "execution_count": null,
      "outputs": [
        {
          "output_type": "execute_result",
          "data": {
            "text/plain": [
              "'yellow'"
            ],
            "application/vnd.google.colaboratory.intrinsic+json": {
              "type": "string"
            }
          },
          "metadata": {},
          "execution_count": 45
        }
      ]
    },
    {
      "cell_type": "code",
      "source": [
        "#  Obtener un valor por defecto cuando queremos acceder a una clave que no existe en un diccionario\n",
        "colores.get('negro','No se encuentra')"
      ],
      "metadata": {
        "colab": {
          "base_uri": "https://localhost:8080/",
          "height": 36
        },
        "id": "ByfYSl3jtXeM",
        "outputId": "af2e49aa-ab2e-4cbe-8969-b67199b06634"
      },
      "execution_count": null,
      "outputs": [
        {
          "output_type": "execute_result",
          "data": {
            "text/plain": [
              "'No se encuentra'"
            ],
            "application/vnd.google.colaboratory.intrinsic+json": {
              "type": "string"
            }
          },
          "metadata": {},
          "execution_count": 46
        }
      ]
    },
    {
      "cell_type": "code",
      "source": [
        "colores.get('amarillo','No se encuentra')"
      ],
      "metadata": {
        "colab": {
          "base_uri": "https://localhost:8080/",
          "height": 36
        },
        "id": "aIAz409RttwH",
        "outputId": "016af527-fbb4-4989-88fc-afd16f0fd649"
      },
      "execution_count": null,
      "outputs": [
        {
          "output_type": "execute_result",
          "data": {
            "text/plain": [
              "'yellow'"
            ],
            "application/vnd.google.colaboratory.intrinsic+json": {
              "type": "string"
            }
          },
          "metadata": {},
          "execution_count": 47
        }
      ]
    },
    {
      "cell_type": "code",
      "source": [
        "# Ibtener una lista con las claves de un diccionario\n",
        "colores.keys()"
      ],
      "metadata": {
        "colab": {
          "base_uri": "https://localhost:8080/"
        },
        "id": "0T3j7LPsuVMV",
        "outputId": "fc568734-7451-4672-b478-7893d983bbb7"
      },
      "execution_count": null,
      "outputs": [
        {
          "output_type": "execute_result",
          "data": {
            "text/plain": [
              "dict_keys(['amarillo', 'azul', 'verde'])"
            ]
          },
          "metadata": {},
          "execution_count": 48
        }
      ]
    },
    {
      "cell_type": "code",
      "source": [
        "# Obtener una lista con los valores de las claves de un diccionario\n",
        "colores.values()"
      ],
      "metadata": {
        "colab": {
          "base_uri": "https://localhost:8080/"
        },
        "id": "ooUNMqLIuZkR",
        "outputId": "83e154c9-0227-4bfd-bd36-2701d35fd77d"
      },
      "execution_count": null,
      "outputs": [
        {
          "output_type": "execute_result",
          "data": {
            "text/plain": [
              "dict_values(['yellow', 'blue', 'green'])"
            ]
          },
          "metadata": {},
          "execution_count": 49
        }
      ]
    },
    {
      "cell_type": "code",
      "source": [
        "#obtener una lista de tuplas con la clave y el valor de cada elementos de un diccionario\n",
        "colores.items()"
      ],
      "metadata": {
        "colab": {
          "base_uri": "https://localhost:8080/"
        },
        "id": "uTXu6x08ugDD",
        "outputId": "f9d887f0-8312-467c-b417-ed33058c2d90"
      },
      "execution_count": null,
      "outputs": [
        {
          "output_type": "execute_result",
          "data": {
            "text/plain": [
              "dict_items([('amarillo', 'yellow'), ('azul', 'blue'), ('verde', 'green')])"
            ]
          },
          "metadata": {},
          "execution_count": 50
        }
      ]
    },
    {
      "cell_type": "markdown",
      "source": [
        "## Módulos\n",
        "\n",
        "Los módulos son archivos que contienen definiciones y declaraciones en lenguaje Python. De esta manera es posible importarlos en otros scripts o programas y reutilizar estas funcionalidades"
      ],
      "metadata": {
        "id": "davSCcO-v2WN"
      }
    },
    {
      "cell_type": "markdown",
      "source": [
        "### Collections\n",
        "\n",
        "El módulo integrado collections de una serie de colecciones muy interesantes que podremos utilizar para multitud de acciones bastante recurrentes."
      ],
      "metadata": {
        "id": "UsXshjocXYn9"
      }
    },
    {
      "cell_type": "code",
      "source": [
        "# Importación delm módulo\n",
        "from collections import Counter"
      ],
      "metadata": {
        "id": "T9XcoYFpv6-y"
      },
      "execution_count": null,
      "outputs": []
    },
    {
      "cell_type": "code",
      "source": [
        "lista = [1,2,4,3,3,5,1,3,1,1,6]"
      ],
      "metadata": {
        "id": "MG4yMHn4xuVg"
      },
      "execution_count": null,
      "outputs": []
    },
    {
      "cell_type": "code",
      "source": [
        "# Nos devolverá un diccionario con el número de veces que se repite cada uno de los elementos de una lista\n",
        "Counter(lista)"
      ],
      "metadata": {
        "colab": {
          "base_uri": "https://localhost:8080/"
        },
        "id": "66JqWXfrx1gD",
        "outputId": "f466b5a9-3749-4418-a2a6-82c0fe649b42"
      },
      "execution_count": null,
      "outputs": [
        {
          "output_type": "execute_result",
          "data": {
            "text/plain": [
              "Counter({1: 4, 2: 1, 4: 1, 3: 3, 5: 1, 6: 1})"
            ]
          },
          "metadata": {},
          "execution_count": 53
        }
      ]
    },
    {
      "cell_type": "code",
      "source": [
        "cadena = 'Hola mundo'\n",
        "Counter(cadena)"
      ],
      "metadata": {
        "colab": {
          "base_uri": "https://localhost:8080/"
        },
        "id": "lvPnXrnnyWtZ",
        "outputId": "03345b8d-5c23-407b-abb8-02313481fbc4"
      },
      "execution_count": null,
      "outputs": [
        {
          "output_type": "execute_result",
          "data": {
            "text/plain": [
              "Counter({'H': 1,\n",
              "         'o': 2,\n",
              "         'l': 1,\n",
              "         'a': 1,\n",
              "         ' ': 1,\n",
              "         'm': 1,\n",
              "         'u': 1,\n",
              "         'n': 1,\n",
              "         'd': 1})"
            ]
          },
          "metadata": {},
          "execution_count": 54
        }
      ]
    },
    {
      "cell_type": "code",
      "source": [
        "# En este caso queremos saber cuantas veces se repite una palabra, para ello hay que primero crear una lista de palabras split() y luego contarlas Counter()\n",
        "cadena = 'Hola mundo mundo mundo Hola mundo Hola mundo'\n",
        "Counter(cadena.split())"
      ],
      "metadata": {
        "colab": {
          "base_uri": "https://localhost:8080/"
        },
        "id": "frkeooRfyyvJ",
        "outputId": "e63aa077-7be7-4c05-9176-8af0dfe25bcc"
      },
      "execution_count": null,
      "outputs": [
        {
          "output_type": "execute_result",
          "data": {
            "text/plain": [
              "Counter({'Hola': 3, 'mundo': 5})"
            ]
          },
          "metadata": {},
          "execution_count": 55
        }
      ]
    },
    {
      "cell_type": "markdown",
      "source": [
        "Ejercicio clase. Dada la siguiente cadena de texto: 'rojo verde azul rojo morado rojo blanco blanco' devuelveme una lista de palabras sin repetir."
      ],
      "metadata": {
        "id": "n8NrFZLm2ZXn"
      }
    },
    {
      "cell_type": "code",
      "source": [
        "# Conjunto (set), cuando van entre {}. Un set no permite valores duplicados.\n",
        "{1,2,3}"
      ],
      "metadata": {
        "colab": {
          "base_uri": "https://localhost:8080/"
        },
        "id": "2CfePOjU23fa",
        "outputId": "c7e004f7-84b0-4f5f-de03-f60b8e6965b1"
      },
      "execution_count": null,
      "outputs": [
        {
          "output_type": "execute_result",
          "data": {
            "text/plain": [
              "{1, 2, 3}"
            ]
          },
          "metadata": {},
          "execution_count": 56
        }
      ]
    },
    {
      "cell_type": "code",
      "source": [
        "{1,2,3,2,1,3,4,1,2,3,}"
      ],
      "metadata": {
        "colab": {
          "base_uri": "https://localhost:8080/"
        },
        "id": "O59FCAmy3OWS",
        "outputId": "8c0316ad-7329-436b-cc78-40d0381741a7"
      },
      "execution_count": null,
      "outputs": [
        {
          "output_type": "execute_result",
          "data": {
            "text/plain": [
              "{1, 2, 3, 4}"
            ]
          },
          "metadata": {},
          "execution_count": 57
        }
      ]
    },
    {
      "cell_type": "code",
      "source": [
        "palabras = 'ojo verde azul rojo morado rojo blanco blanco'"
      ],
      "metadata": {
        "id": "6rlzTlcMzZM-"
      },
      "execution_count": null,
      "outputs": []
    },
    {
      "cell_type": "code",
      "source": [
        "list(set(palabras.split()))"
      ],
      "metadata": {
        "colab": {
          "base_uri": "https://localhost:8080/"
        },
        "id": "_qq3DUwy3pKw",
        "outputId": "b95e76e0-9317-4cb7-bc2b-7164f4dab7f2"
      },
      "execution_count": null,
      "outputs": [
        {
          "output_type": "execute_result",
          "data": {
            "text/plain": [
              "['blanco', 'rojo', 'ojo', 'verde', 'morado', 'azul']"
            ]
          },
          "metadata": {},
          "execution_count": 59
        }
      ]
    },
    {
      "cell_type": "code",
      "source": [
        "lista = [10,20,30,40,10,20,30,10,20,10]\n",
        "\n",
        "c = Counter(lista)\n",
        "\n",
        "c.most_common(1)[0][1]"
      ],
      "metadata": {
        "colab": {
          "base_uri": "https://localhost:8080/"
        },
        "id": "xfGCjihd7aXH",
        "outputId": "48b4b626-3c11-41d1-de08-1f2665cce6e6"
      },
      "execution_count": null,
      "outputs": [
        {
          "output_type": "execute_result",
          "data": {
            "text/plain": [
              "4"
            ]
          },
          "metadata": {},
          "execution_count": 60
        }
      ]
    },
    {
      "cell_type": "markdown",
      "source": [
        "### Datetime\n",
        "\n",
        "Nos servirá para manejar y trabajar con información relacionada con las fechas."
      ],
      "metadata": {
        "id": "8iSqpeaz9T4W"
      }
    },
    {
      "cell_type": "code",
      "source": [
        "import datetime"
      ],
      "metadata": {
        "id": "R1xr3cG19ch2"
      },
      "execution_count": null,
      "outputs": []
    },
    {
      "cell_type": "code",
      "source": [
        " # De esta manera la variable dt nos muestra la fecha y hora actual\n",
        "dt = datetime.datetime.now()\n",
        "print(dt)"
      ],
      "metadata": {
        "colab": {
          "base_uri": "https://localhost:8080/"
        },
        "id": "GWS7JfVR-JcN",
        "outputId": "fc288417-6de9-4a38-c925-50a57051c920"
      },
      "execution_count": null,
      "outputs": [
        {
          "output_type": "stream",
          "name": "stdout",
          "text": [
            "2025-03-02 15:17:53.726219\n"
          ]
        }
      ]
    },
    {
      "cell_type": "code",
      "source": [
        "# Estamos haciendo una foto en el tiempo com la funcion datetime() y el método now() y la estamos guardando en la variable dt\n",
        "print(dt)"
      ],
      "metadata": {
        "colab": {
          "base_uri": "https://localhost:8080/"
        },
        "id": "IyFRkhNt_P6e",
        "outputId": "308f934e-a640-4c1d-df6d-aac1c10ca4ae"
      },
      "execution_count": null,
      "outputs": [
        {
          "output_type": "stream",
          "name": "stdout",
          "text": [
            "2025-03-02 15:17:53.726219\n"
          ]
        }
      ]
    },
    {
      "cell_type": "code",
      "source": [
        "# Atributos\n",
        "print(dt.year)\n",
        "print(dt.month)\n",
        "print(dt.day)\n",
        "print(dt.hour)\n",
        "print(dt.minute)\n",
        "print(dt.second)\n",
        "print(dt.microsecond)"
      ],
      "metadata": {
        "colab": {
          "base_uri": "https://localhost:8080/"
        },
        "id": "q-RMnrRs_lVy",
        "outputId": "7bd68c8c-bef8-4ed8-c45b-b5ba9d9a52b9"
      },
      "execution_count": null,
      "outputs": [
        {
          "output_type": "stream",
          "name": "stdout",
          "text": [
            "2025\n",
            "3\n",
            "2\n",
            "15\n",
            "17\n",
            "53\n",
            "726219\n"
          ]
        }
      ]
    },
    {
      "cell_type": "code",
      "source": [
        "dt = dt.replace(year=3000)"
      ],
      "metadata": {
        "id": "pgwVzrvGBjtW"
      },
      "execution_count": null,
      "outputs": []
    },
    {
      "cell_type": "code",
      "source": [
        "print(dt)"
      ],
      "metadata": {
        "colab": {
          "base_uri": "https://localhost:8080/"
        },
        "id": "4IyOR1EsBrRD",
        "outputId": "393907b2-0cbf-4cc8-ac43-ae898ba7b363"
      },
      "execution_count": null,
      "outputs": [
        {
          "output_type": "stream",
          "name": "stdout",
          "text": [
            "3000-03-02 15:17:53.726219\n"
          ]
        }
      ]
    },
    {
      "cell_type": "code",
      "source": [
        "dt = datetime.datetime(2000,1,1)\n",
        "print(dt)"
      ],
      "metadata": {
        "colab": {
          "base_uri": "https://localhost:8080/"
        },
        "id": "446nJ0KACHk7",
        "outputId": "bbf52c4a-268f-4455-942e-088597fbbdb0"
      },
      "execution_count": null,
      "outputs": [
        {
          "output_type": "stream",
          "name": "stdout",
          "text": [
            "2000-01-01 00:00:00\n"
          ]
        }
      ]
    },
    {
      "cell_type": "markdown",
      "source": [
        "##Manejo de ficheros\n",
        "\n",
        "Hemos llegado a un punto en el que probablemente nos interese almacenar algunos de los datos con los que hemos aprendido a trabajar en algún fichero, de modo que al cerrar o apagar el programa estos queden persistentemente en un archivo que luego podría volver a cargarse al ejecutar el programa de nuevo, de ese modo no se perdería la información."
      ],
      "metadata": {
        "id": "bG53ZFCUvhYr"
      }
    },
    {
      "cell_type": "markdown",
      "source": [
        "### Creación:\n",
        "\n",
        "Creamos un fragmento de código que escribe una línea de texto en un archivo, de modo que si el archivo no existe lo cree.\n"
      ],
      "metadata": {
        "id": "GYNkS8elywix"
      }
    },
    {
      "cell_type": "code",
      "source": [
        "texto = 'Esta es una línea de texto.\\nY esta es otra línea de texto.\\n'\n",
        "\n",
        "with open('fichero.txt', 'w', encoding='utf-8') as fichero: # No hay ruta al crear el archivo fichero.txt, por lo tanto por defecto me lo pondra en My Drive (lo hemos especificado en e siguiente código)\n",
        "  fichero.write(texto)"
      ],
      "metadata": {
        "id": "iLYQBlBivkAi"
      },
      "execution_count": null,
      "outputs": []
    },
    {
      "cell_type": "markdown",
      "source": [
        "IMPORTANTE: Los arhivos se almacenarán de forma temporal mientas que corra el Colab. En el momento que nos desconectemos se pierde el fichero.\n",
        "\n",
        "Si quisieramos que el archivo generado se almacene permanente debemos realziar lo siguiente:"
      ],
      "metadata": {
        "id": "I5qGpLc51d-3"
      }
    },
    {
      "cell_type": "code",
      "source": [
        "# Esto es necesario para escribir y editar en nuestro google drive\n",
        "from google.colab import drive\n",
        "import os\n",
        "\n",
        "drive.mount('/content/drive') # Le estamos diciendo a Colab que se monte en mi Drive\n",
        "\n",
        "mi_directorio = '/content/drive/My Drive' # Es el directorio de mi unidad\n",
        "os.chdir(mi_directorio)\n"
      ],
      "metadata": {
        "colab": {
          "base_uri": "https://localhost:8080/"
        },
        "id": "JB7aI1ED1PxP",
        "outputId": "b0e93828-7eaf-425d-b29b-26c8bb612749"
      },
      "execution_count": null,
      "outputs": [
        {
          "output_type": "stream",
          "name": "stdout",
          "text": [
            "Mounted at /content/drive\n"
          ]
        }
      ]
    },
    {
      "cell_type": "markdown",
      "source": [
        "### Apertura o lectura\n",
        "\n",
        "Para abrir un fichero ya existente y leer su contenido se puede hacer de la siguiente manera:"
      ],
      "metadata": {
        "id": "ma2ZNpAz0Uft"
      }
    },
    {
      "cell_type": "code",
      "source": [
        "with open('fichero.txt','r',encoding='utf-8') as fichero: # El primer bloque es que quiero abrir, el segundo que quier hacer r(read), y el tercero espara eliminar acentos etc.\n",
        "  texto=fichero.read() # a fichero, le aplicamos el módulo read()\n",
        "print(texto) # printeamos la variable texto que es ficher.read()"
      ],
      "metadata": {
        "colab": {
          "base_uri": "https://localhost:8080/"
        },
        "id": "7qPlF-A10cna",
        "outputId": "6a2e348d-9768-48d3-deff-1aa7ef4abd50"
      },
      "execution_count": null,
      "outputs": [
        {
          "output_type": "stream",
          "name": "stdout",
          "text": [
            "Esta es una línea de texto.\n",
            "Y esta es otra línea de texto.\n",
            "Esta es una nueva línea de texto. \n",
            "Esta es una nueva línea de texto. \n",
            "\n"
          ]
        }
      ]
    },
    {
      "cell_type": "code",
      "source": [
        "with open('fichero.txt','r',encoding='utf-8') as fichero:\n",
        "  lineas=fichero.readlines() # El módulo readlines lee linea a linea el texto y lo convierte en lista con strings\n",
        "print(lineas) # El resultado de readlines es una lista de elementos, y estos elementos son textos"
      ],
      "metadata": {
        "colab": {
          "base_uri": "https://localhost:8080/"
        },
        "id": "DSLq2K2kA-WX",
        "outputId": "6cbf090b-8ce8-4531-b6b6-c0a88e3ff8f8"
      },
      "execution_count": null,
      "outputs": [
        {
          "output_type": "stream",
          "name": "stdout",
          "text": [
            "['Esta es una línea de texto.\\n', 'Y esta es otra línea de texto.\\n', 'Esta es una nueva línea de texto. \\n', 'Esta es una nueva línea de texto. \\n']\n"
          ]
        }
      ]
    },
    {
      "cell_type": "code",
      "source": [
        "for linea in lineas: # estamos printeando cada uno de los elementos (strings) de la lista anteriormente creada\n",
        "  print(linea)"
      ],
      "metadata": {
        "colab": {
          "base_uri": "https://localhost:8080/"
        },
        "id": "vm37eyKJB08_",
        "outputId": "7a21c407-3f29-45e9-9178-0608de74d7d3"
      },
      "execution_count": null,
      "outputs": [
        {
          "output_type": "stream",
          "name": "stdout",
          "text": [
            "Esta es una línea de texto.\n",
            "\n",
            "Y esta es otra línea de texto.\n",
            "\n",
            "Esta es una nueva línea de texto. \n",
            "\n",
            "Esta es una nueva línea de texto. \n",
            "\n"
          ]
        }
      ]
    },
    {
      "cell_type": "code",
      "source": [
        "for linea in lineas:\n",
        "  if linea.startswith('Y'):\n",
        "    print(linea)"
      ],
      "metadata": {
        "colab": {
          "base_uri": "https://localhost:8080/"
        },
        "id": "tyOZ2ak1CFDb",
        "outputId": "ef1cda74-fe50-4565-9895-3223d84b88bd"
      },
      "execution_count": null,
      "outputs": [
        {
          "output_type": "stream",
          "name": "stdout",
          "text": [
            "Y esta es otra línea de texto.\n",
            "\n"
          ]
        }
      ]
    },
    {
      "cell_type": "code",
      "source": [
        "with open('fichero.txt', 'a',encoding='utf-8') as fichero: # La modalidad a es para realziar un append, si el archivo no existe se crea un nuevo archivo\n",
        "  fichero.write(\"Esta es una nueva línea de texto. \\n\")"
      ],
      "metadata": {
        "id": "bEx3pn2UCvm1"
      },
      "execution_count": null,
      "outputs": []
    }
  ]
}