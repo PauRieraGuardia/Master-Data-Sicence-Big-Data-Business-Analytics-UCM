{
  "nbformat": 4,
  "nbformat_minor": 0,
  "metadata": {
    "colab": {
      "provenance": []
    },
    "kernelspec": {
      "name": "python3",
      "display_name": "Python 3"
    },
    "language_info": {
      "name": "python"
    }
  },
  "cells": [
    {
      "cell_type": "markdown",
      "source": [
        "## Numpy\n",
        "\n",
        "Numpy es una librería de python enfocada en el cálculo numérico que nos permite realizar operaciones de una manera sencilla y rápida. Su objeto base es un vector de números denominado Array. Es una alternativa a las listas que hemos visto hasta ahora y nos va a permitir realizar una serie de funciones muy potentes. A diferencia de las listas, donde se opera de forma independiente en cada uno de los elementos, en los Arrays las operaciones se van a realizar sobre todo el Array simultáneamente."
      ],
      "metadata": {
        "id": "oheK7ZPhqyKb"
      }
    },
    {
      "cell_type": "markdown",
      "source": [
        "### Importación de NumPy"
      ],
      "metadata": {
        "id": "yoqmizedrXOa"
      }
    },
    {
      "cell_type": "code",
      "source": [
        "import numpy as np"
      ],
      "metadata": {
        "id": "x1WFc5wLraM-"
      },
      "execution_count": 1,
      "outputs": []
    },
    {
      "cell_type": "markdown",
      "source": [
        "### Arrays de NumPy vs Listas tradicionales"
      ],
      "metadata": {
        "id": "xRIT81-7ro6P"
      }
    },
    {
      "cell_type": "code",
      "source": [
        "# Creación de dos listas tradicionales\n",
        "a = [1,2,3]\n",
        "b = [4,5,6]"
      ],
      "metadata": {
        "id": "OBbiEEofrspo"
      },
      "execution_count": 2,
      "outputs": []
    },
    {
      "cell_type": "code",
      "source": [
        "# Suma de dos listas tradicionales\n",
        "a + b\n",
        "# Vemos que el resultado es una nueva lista de 6 elementos"
      ],
      "metadata": {
        "colab": {
          "base_uri": "https://localhost:8080/"
        },
        "id": "5cxldaIyrxBc",
        "outputId": "f95f9724-9456-4488-d2e1-54d421a33b3f"
      },
      "execution_count": 3,
      "outputs": [
        {
          "output_type": "execute_result",
          "data": {
            "text/plain": [
              "[1, 2, 3, 4, 5, 6]"
            ]
          },
          "metadata": {},
          "execution_count": 3
        }
      ]
    },
    {
      "cell_type": "code",
      "source": [
        "# Creación de arrays de NumPy\n",
        "a = np.array([1,2,3])\n",
        "b = np.array([4,5,6,])"
      ],
      "metadata": {
        "id": "rzCiOU0ur77c"
      },
      "execution_count": 5,
      "outputs": []
    },
    {
      "cell_type": "code",
      "source": [
        "# Al realizar la suma, realziara una operación de matrices\n",
        "a + b"
      ],
      "metadata": {
        "colab": {
          "base_uri": "https://localhost:8080/"
        },
        "id": "RI826vWCtCWR",
        "outputId": "0a2918db-761b-4165-c5ca-c98dc8599b71"
      },
      "execution_count": 6,
      "outputs": [
        {
          "output_type": "execute_result",
          "data": {
            "text/plain": [
              "array([5, 7, 9])"
            ]
          },
          "metadata": {},
          "execution_count": 6
        }
      ]
    },
    {
      "cell_type": "markdown",
      "source": [
        "### Ejemplo Índice de Masa Corporal (IMC)\n",
        "\n",
        "Vamos a calcular el índice de masa corporal sobre los valores peso y altura de tres personas."
      ],
      "metadata": {
        "id": "gdrJKEWvtNpO"
      }
    },
    {
      "cell_type": "code",
      "source": [
        "# Creamos dos listas con el peso y la altura de tres personas\n",
        "altura = [1.7,1.65,1.82]\n",
        "peso = [67,55,72]"
      ],
      "metadata": {
        "id": "y9txelXotZUT"
      },
      "execution_count": 7,
      "outputs": []
    },
    {
      "cell_type": "markdown",
      "source": [
        "El cálculo que hay que hacer para obtener el IMC es dividir el peso entre el cuadrado de la altura."
      ],
      "metadata": {
        "id": "B2mcT_ratkQC"
      }
    },
    {
      "cell_type": "code",
      "source": [
        "# peso/altura **2"
      ],
      "metadata": {
        "id": "MosTpH1Rto2n"
      },
      "execution_count": null,
      "outputs": []
    },
    {
      "cell_type": "markdown",
      "source": [
        "Si quisiéramos calcular el IMC mediante listas tradicionales podríamos hacerlo fácilmente usando la función zip(), iterar a través de un bucle for e ir añadiendo los resultados mediante comrpensión de listas del siguiente modo:"
      ],
      "metadata": {
        "id": "Ki6zdpFmtygF"
      }
    },
    {
      "cell_type": "code",
      "source": [
        "[p / a**2 for p, a in zip(peso, altura)]"
      ],
      "metadata": {
        "colab": {
          "base_uri": "https://localhost:8080/"
        },
        "id": "ikUsJbL1w68Z",
        "outputId": "27b258cd-a010-43ce-e1c0-e4a5164a2095"
      },
      "execution_count": 8,
      "outputs": [
        {
          "output_type": "execute_result",
          "data": {
            "text/plain": [
              "[23.18339100346021, 20.202020202020204, 21.736505252988767]"
            ]
          },
          "metadata": {},
          "execution_count": 8
        }
      ]
    },
    {
      "cell_type": "markdown",
      "source": [
        "El cálculo está bien hecho, pero de este modo es más complicado, entre otras\n",
        "cosas porque el cálculo se va haciendo secuencialmente elemento a elemento\n",
        "entre las listas, y en este caso no es mucho problema ya que son listas de solo\n",
        "3 elementos, pero podría ser un problema al trabajar con listas de miles de\n",
        "elementos. Se realizar el mismo cálculo de una manera mucho más eficiente\n",
        "usando los Arrays de NumPy, veamos el ejemplo:"
      ],
      "metadata": {
        "id": "LYxt-swYxEgJ"
      }
    },
    {
      "cell_type": "code",
      "source": [
        "# Creación de arrays con numPy\n",
        "np_altura = np.array([1.7,1.65,1.82])\n",
        "np_peso = np.array([67,55,72])"
      ],
      "metadata": {
        "id": "_t-cox8txFRp"
      },
      "execution_count": 9,
      "outputs": []
    },
    {
      "cell_type": "code",
      "source": [
        "# Aplicación fórmula\n",
        "imc = np_peso / np_altura **2\n",
        "imc"
      ],
      "metadata": {
        "colab": {
          "base_uri": "https://localhost:8080/"
        },
        "id": "audHwr2xxQAR",
        "outputId": "ccc9a210-8968-44cd-a67a-7d32e6815614"
      },
      "execution_count": 10,
      "outputs": [
        {
          "output_type": "execute_result",
          "data": {
            "text/plain": [
              "array([23.183391  , 20.2020202 , 21.73650525])"
            ]
          },
          "metadata": {},
          "execution_count": 10
        }
      ]
    },
    {
      "cell_type": "markdown",
      "source": [
        "Otro uso interesante de los Arrays es que podemos evaluar todos los elemnentos del Array con una simple operación, como por ejemplo saber qué valores son mayores que 21:"
      ],
      "metadata": {
        "id": "QTU3xxvRyBsf"
      }
    },
    {
      "cell_type": "code",
      "source": [
        "# Se nos muestra el True o False en función de si se cumple\n",
        "imc > 21"
      ],
      "metadata": {
        "colab": {
          "base_uri": "https://localhost:8080/"
        },
        "id": "dOkbV3KKyNSC",
        "outputId": "761cbf90-5bc1-46b6-8ad4-4db3433b1956"
      },
      "execution_count": 11,
      "outputs": [
        {
          "output_type": "execute_result",
          "data": {
            "text/plain": [
              "array([ True, False,  True])"
            ]
          },
          "metadata": {},
          "execution_count": 11
        }
      ]
    },
    {
      "cell_type": "markdown",
      "source": [
        "Si quisieramos obtener sólo los elementos del array que cumplen la condición anterior podemos hacerlo de la siguiente manera:"
      ],
      "metadata": {
        "id": "nkU4J_eZyf9w"
      }
    },
    {
      "cell_type": "code",
      "source": [
        "imc[imc>21]"
      ],
      "metadata": {
        "colab": {
          "base_uri": "https://localhost:8080/"
        },
        "id": "vAEbmPJOymsb",
        "outputId": "7e53cfb3-397f-4b3a-a510-716a8737014e"
      },
      "execution_count": 12,
      "outputs": [
        {
          "output_type": "execute_result",
          "data": {
            "text/plain": [
              "array([23.183391  , 21.73650525])"
            ]
          },
          "metadata": {},
          "execution_count": 12
        }
      ]
    },
    {
      "cell_type": "markdown",
      "source": [
        "### Arrays de dos dimensiones\n",
        "\n",
        "Con NumPy también podremos crear un Array de dos dimensiones. En realidad es una matriz de m filas por n columnas."
      ],
      "metadata": {
        "id": "sSbkXx27yrqv"
      }
    },
    {
      "cell_type": "code",
      "source": [
        "# Vamos a crear un array bidimensional\n",
        "\n",
        "a = np.array([[2,7,8],[4,8,10 ]])\n",
        "a"
      ],
      "metadata": {
        "colab": {
          "base_uri": "https://localhost:8080/"
        },
        "id": "GF0vx5HMy0Rk",
        "outputId": "e35d8c20-f593-4dfa-d803-c900bc5fa708"
      },
      "execution_count": 15,
      "outputs": [
        {
          "output_type": "execute_result",
          "data": {
            "text/plain": [
              "array([[ 2,  7,  8],\n",
              "       [ 4,  8, 10]])"
            ]
          },
          "metadata": {},
          "execution_count": 15
        }
      ]
    },
    {
      "cell_type": "markdown",
      "source": [
        "Si quisieramos obtener el valor 10 de nuestro array de dos dimensiones tendríamos que especificar el índice de la fila seguido del índice de la columna."
      ],
      "metadata": {
        "id": "sU-3CfRRzQfK"
      }
    },
    {
      "cell_type": "code",
      "source": [
        "a[1,2] #la fila 1 con la colúmna 2, teniendo en cuenta que todo empieza por 0"
      ],
      "metadata": {
        "colab": {
          "base_uri": "https://localhost:8080/"
        },
        "id": "fCaqWfnnzYpe",
        "outputId": "f07d2221-e6a2-49aa-c47f-09bc47edc930"
      },
      "execution_count": 16,
      "outputs": [
        {
          "output_type": "execute_result",
          "data": {
            "text/plain": [
              "10"
            ]
          },
          "metadata": {},
          "execution_count": 16
        }
      ]
    },
    {
      "cell_type": "markdown",
      "source": [
        "Ahora supongamos que queremoss obtener todas las filas pero solo los valores de las columans primera y segunda. Deberemos hacerlo realizando un slicing"
      ],
      "metadata": {
        "id": "igGkytedzlJj"
      }
    },
    {
      "cell_type": "code",
      "source": [
        "a[:,0:2] # En el primer elemento estamos realizando un primer slice para seleccionar todas las filas\n",
        "         # El segundo slice estamos seleccionando las columnas, teniendo e cuenta que la última no se añade"
      ],
      "metadata": {
        "colab": {
          "base_uri": "https://localhost:8080/"
        },
        "id": "mvQmJ_JPzqAT",
        "outputId": "a862f6a1-4043-4656-cbd5-3127d1f75539"
      },
      "execution_count": 17,
      "outputs": [
        {
          "output_type": "execute_result",
          "data": {
            "text/plain": [
              "array([[2, 7],\n",
              "       [4, 8]])"
            ]
          },
          "metadata": {},
          "execution_count": 17
        }
      ]
    },
    {
      "cell_type": "markdown",
      "source": [
        "### Cálculo estadístico con NumPy\n",
        "\n",
        "En esta sección veremos algunas de las funciones que nos pueden servir para solucionar algunos cálculos estadísticos de una manera mucho más sencilla y rápida."
      ],
      "metadata": {
        "id": "3rX4tIoG0Jq5"
      }
    },
    {
      "cell_type": "code",
      "source": [
        "# Creamos un Array\n",
        "temperaturas = np.array([12, 13.5, 13, 14, 13.2, 14.8, 15, 15.16, 16, 16.2,\n",
        "15.7, 17, 17.2, 16.8, 14, 14.2, 14.7, 16, 17.5])"
      ],
      "metadata": {
        "id": "31b3smLV0Y7Q"
      },
      "execution_count": 18,
      "outputs": []
    },
    {
      "cell_type": "code",
      "source": [
        "# Podemos calcular la media o promedio usando mean(array)\n",
        "np.mean(temperaturas)"
      ],
      "metadata": {
        "colab": {
          "base_uri": "https://localhost:8080/"
        },
        "id": "Q5MPU4G90hYp",
        "outputId": "e45e9d63-25b0-46ef-eb48-7e21642cf8da"
      },
      "execution_count": 19,
      "outputs": [
        {
          "output_type": "execute_result",
          "data": {
            "text/plain": [
              "15.050526315789472"
            ]
          },
          "metadata": {},
          "execution_count": 19
        }
      ]
    },
    {
      "cell_type": "code",
      "source": [
        "# La mediana usando la funcion median(array)\n",
        "np.median(temperaturas)"
      ],
      "metadata": {
        "colab": {
          "base_uri": "https://localhost:8080/"
        },
        "id": "5PXgi0hI0pNp",
        "outputId": "a50cebe1-6687-46ab-ea2d-1e2ab6cba676"
      },
      "execution_count": 20,
      "outputs": [
        {
          "output_type": "execute_result",
          "data": {
            "text/plain": [
              "15.0"
            ]
          },
          "metadata": {},
          "execution_count": 20
        }
      ]
    },
    {
      "cell_type": "code",
      "source": [
        "# También podemos obtener el valor mínimo con la función min(array)\n",
        "np.min(temperaturas)"
      ],
      "metadata": {
        "colab": {
          "base_uri": "https://localhost:8080/"
        },
        "id": "VPRous_90uxx",
        "outputId": "415e71b4-d2fd-41e9-fe48-790fb38a07af"
      },
      "execution_count": 21,
      "outputs": [
        {
          "output_type": "execute_result",
          "data": {
            "text/plain": [
              "12.0"
            ]
          },
          "metadata": {},
          "execution_count": 21
        }
      ]
    },
    {
      "cell_type": "code",
      "source": [
        "# Tambíen podemos obtener el valor máximo con la función max(array)\n",
        "np.max(temperaturas)"
      ],
      "metadata": {
        "colab": {
          "base_uri": "https://localhost:8080/"
        },
        "id": "aUkBNC2B02Dl",
        "outputId": "a115a352-a0e9-4afb-c56d-07ff54850419"
      },
      "execution_count": 22,
      "outputs": [
        {
          "output_type": "execute_result",
          "data": {
            "text/plain": [
              "17.5"
            ]
          },
          "metadata": {},
          "execution_count": 22
        }
      ]
    },
    {
      "cell_type": "code",
      "source": [
        "# Para calcular la varianza podremos usar la función var(array) de la siguiente manera:\n",
        "np.var(temperaturas)"
      ],
      "metadata": {
        "colab": {
          "base_uri": "https://localhost:8080/"
        },
        "id": "AhD6oetJ1Ii7",
        "outputId": "a3759de9-2453-4611-d172-234aa90dc4ce"
      },
      "execution_count": 24,
      "outputs": [
        {
          "output_type": "execute_result",
          "data": {
            "text/plain": [
              "2.2893207756232683"
            ]
          },
          "metadata": {},
          "execution_count": 24
        }
      ]
    },
    {
      "cell_type": "code",
      "source": [
        "# La desviación estándard podremos obtenerla usando la función std(array)\n",
        "np.std(temperaturas)"
      ],
      "metadata": {
        "colab": {
          "base_uri": "https://localhost:8080/"
        },
        "id": "K6zAPv2K1cLd",
        "outputId": "1eee0f07-69f4-4990-a523-2869b6786330"
      },
      "execution_count": 26,
      "outputs": [
        {
          "output_type": "execute_result",
          "data": {
            "text/plain": [
              "1.5130501563475245"
            ]
          },
          "metadata": {},
          "execution_count": 26
        }
      ]
    },
    {
      "cell_type": "code",
      "source": [
        "# También tenemos la función percentil(array,y) a la que tendremos que pasarle como argumentos el array y también el percentil que queremos obtener\n",
        "np.percentile(temperaturas,90)"
      ],
      "metadata": {
        "colab": {
          "base_uri": "https://localhost:8080/"
        },
        "id": "KQhGI2181lca",
        "outputId": "c513e054-d5f9-4f1b-88da-76d1e33c6fd5"
      },
      "execution_count": 27,
      "outputs": [
        {
          "output_type": "execute_result",
          "data": {
            "text/plain": [
              "17.04"
            ]
          },
          "metadata": {},
          "execution_count": 27
        }
      ]
    }
  ]
}