{
 "cells": [
  {
   "cell_type": "markdown",
   "id": "a01778a0-464e-4a10-b9ba-7e88eb685925",
   "metadata": {},
   "source": [
    "### Programación Python (Básica) CLASE III "
   ]
  },
  {
   "cell_type": "markdown",
   "id": "e0fc7dca-eb72-45fc-9a3c-5559591007a3",
   "metadata": {
    "tags": []
   },
   "source": [
    "### Listas y Diccionarios"
   ]
  },
  {
   "cell_type": "markdown",
   "id": "40867880-2ce1-4369-bbd5-3e246ca3cfdd",
   "metadata": {},
   "source": [
    "Ejercicio 1: Programa que pide un numero de palabras a insertar (mínimo 7), se introduce esas palabras creando con ellas una\n",
    "lista que después se muestra."
   ]
  },
  {
   "cell_type": "code",
   "execution_count": 83,
   "id": "b29328f3-4ce4-4fb1-9065-88c66fbdb883",
   "metadata": {
    "tags": []
   },
   "outputs": [
    {
     "name": "stdin",
     "output_type": "stream",
     "text": [
      " 1\n",
      " 2\n",
      " 3\n",
      " 4\n",
      " 5\n",
      " 6\n",
      " 7\n",
      " 8\n"
     ]
    },
    {
     "name": "stdout",
     "output_type": "stream",
     "text": [
      "['1', '2', '3', '4', '5', '6', '7', '8']\n"
     ]
    }
   ],
   "source": [
    "lista = []\n",
    "\n",
    "while len(lista)<8:\n",
    "    lista.append(input())\n",
    "else:\n",
    "    print(lista)"
   ]
  },
  {
   "cell_type": "markdown",
   "id": "dddea58a-fb63-4b17-86c8-90448b9de6d3",
   "metadata": {},
   "source": [
    "Ejercicio 2: Se pide un numero entre 1 y 7, más una palabra. El numero introducido indica la posición en la lista anterior cuyo valor\n",
    "será sustituido por la palabra introducida."
   ]
  },
  {
   "cell_type": "code",
   "execution_count": 85,
   "id": "85469a63-dabf-4f5f-913f-b3773b353243",
   "metadata": {
    "tags": []
   },
   "outputs": [
    {
     "name": "stdin",
     "output_type": "stream",
     "text": [
      "Introduce una posicion de la lista 5\n",
      "Introduce una palabra 4\n"
     ]
    },
    {
     "name": "stdout",
     "output_type": "stream",
     "text": [
      "['1', '2', '3', '4', '4', '6', '7', '8']\n"
     ]
    }
   ],
   "source": [
    "numero = int(input(\"Introduce una posicion de la lista\",))\n",
    "palabra = input(\"Introduce una palabra\",)\n",
    "lista[numero-1] = palabra\n",
    "print(lista)\n"
   ]
  },
  {
   "cell_type": "markdown",
   "id": "9f215597-911b-4af4-a976-dadca60d409c",
   "metadata": {},
   "source": [
    "Ejercicio 3: Se pide la posición de un elemento en la lista y una vez introducida se elimina dicha palabra."
   ]
  },
  {
   "cell_type": "code",
   "execution_count": 87,
   "id": "ae79aa85-3d11-4a10-a032-b7b915034333",
   "metadata": {
    "tags": []
   },
   "outputs": [
    {
     "name": "stdin",
     "output_type": "stream",
     "text": [
      "Introduce una posicion de la lista 5\n"
     ]
    },
    {
     "name": "stdout",
     "output_type": "stream",
     "text": [
      "['1', '2', '3', '4', '6', '7', '8']\n"
     ]
    }
   ],
   "source": [
    "numero = int(input(\"Introduce una posicion de la lista\",))\n",
    "del lista[numero-1]\n",
    "\n",
    "print(lista)"
   ]
  },
  {
   "cell_type": "markdown",
   "id": "08fc44b2-ecd8-46c5-acf1-b5a7547c5f14",
   "metadata": {},
   "source": [
    "Ejercicio 4: Crea un diccionario de 10 palabras ingles-español y realiza 3 consultas a este diccionario"
   ]
  },
  {
   "cell_type": "code",
   "execution_count": 89,
   "id": "3848d0d3-7f9a-44c8-ac6f-73a4cb72f32f",
   "metadata": {
    "tags": []
   },
   "outputs": [
    {
     "data": {
      "text/plain": [
       "'Casa'"
      ]
     },
     "execution_count": 89,
     "metadata": {},
     "output_type": "execute_result"
    }
   ],
   "source": [
    "diccionario = {\"House\":\"Casa\", \"Tree\" : \"Árbol\",\"Water\" : \"Agua\",\"Sun\" : \"Sol\",\"Book\" : \"Libro\",\"Dog\" : \"Perro\",\"Friend\" : \"Amigo\",\"Love\" : \"Amor\",\"Food\" :\"Comida\",\"Work\" : \"Trabajo\"}\n",
    "diccionario[\"House\"]"
   ]
  },
  {
   "cell_type": "code",
   "execution_count": 90,
   "id": "a7cfca3a-083a-470d-ae4e-0dd6d12a7b77",
   "metadata": {
    "tags": []
   },
   "outputs": [
    {
     "data": {
      "text/plain": [
       "'Árbol'"
      ]
     },
     "execution_count": 90,
     "metadata": {},
     "output_type": "execute_result"
    }
   ],
   "source": [
    "diccionario[\"Tree\"]"
   ]
  },
  {
   "cell_type": "code",
   "execution_count": 91,
   "id": "0e592f50-31de-4249-b54d-fecbcc769b11",
   "metadata": {
    "tags": []
   },
   "outputs": [
    {
     "data": {
      "text/plain": [
       "'Sol'"
      ]
     },
     "execution_count": 91,
     "metadata": {},
     "output_type": "execute_result"
    }
   ],
   "source": [
    "diccionario[\"Sun\"]"
   ]
  },
  {
   "cell_type": "markdown",
   "id": "9b2f36c1-eeb9-4bb4-ba16-055b195fdc1c",
   "metadata": {},
   "source": [
    "Ejercicio 5: Añade 4 palabras mas al diccionario"
   ]
  },
  {
   "cell_type": "code",
   "execution_count": 93,
   "id": "30a5ac20-862d-4c8e-aeb7-a75123a74222",
   "metadata": {
    "tags": []
   },
   "outputs": [],
   "source": [
    "diccionario.update({\"Car\":\"Coche\",\"Sky\":\"Cielo\",\"Family\":\"Familia\"})"
   ]
  },
  {
   "cell_type": "code",
   "execution_count": 94,
   "id": "5abbc510-ab52-4e0e-b61a-842f977f92ac",
   "metadata": {
    "tags": []
   },
   "outputs": [
    {
     "data": {
      "text/plain": [
       "{'House': 'Casa',\n",
       " 'Tree': 'Árbol',\n",
       " 'Water': 'Agua',\n",
       " 'Sun': 'Sol',\n",
       " 'Book': 'Libro',\n",
       " 'Dog': 'Perro',\n",
       " 'Friend': 'Amigo',\n",
       " 'Love': 'Amor',\n",
       " 'Food': 'Comida',\n",
       " 'Work': 'Trabajo',\n",
       " 'Car': 'Coche',\n",
       " 'Sky': 'Cielo',\n",
       " 'Family': 'Familia'}"
      ]
     },
     "execution_count": 94,
     "metadata": {},
     "output_type": "execute_result"
    }
   ],
   "source": [
    "diccionario"
   ]
  },
  {
   "cell_type": "markdown",
   "id": "dc8a444c-8333-4fa7-b20c-48aa58ec9ce2",
   "metadata": {},
   "source": [
    "#### For, funciones"
   ]
  },
  {
   "cell_type": "markdown",
   "id": "4f94eeda-43e4-4ad5-b61a-653b9b753274",
   "metadata": {},
   "source": [
    "Ejercicio 1: Introduce una lista de 10 palabras y muéstralas de la ultima a la primera."
   ]
  },
  {
   "cell_type": "code",
   "execution_count": 123,
   "id": "8ed4f8c5-b00b-4d44-8d02-e746ec7d6d1f",
   "metadata": {
    "tags": []
   },
   "outputs": [
    {
     "name": "stdout",
     "output_type": "stream",
     "text": [
      "['Trabajo', 'Comida', 'Amor', 'Amigo', 'Perro', 'Libro', 'Sol', 'Agua', 'Árbol', 'Casa']\n"
     ]
    }
   ],
   "source": [
    "lista2 = [\"Casa\", \"Árbol\",\"Agua\",\"Sol\",\"Libro\",\"Perro\",\"Amigo\",\"Amor\",\"Comida\",\"Trabajo\"]\n",
    "\n",
    "print(lista[::-1])"
   ]
  },
  {
   "cell_type": "markdown",
   "id": "738d63cc-0d15-4846-8856-26c116f5eac2",
   "metadata": {},
   "source": [
    "Ejercicio 2: Mediante funciones realiza un programa que simule una calculadora\n",
    "1. Sumar\n",
    "2. Restar\n",
    "3. Multiplicar\n",
    "4. Dividir"
   ]
  },
  {
   "cell_type": "code",
   "execution_count": 214,
   "id": "f5c3b17d-2763-436a-9cf2-97c1e03ad811",
   "metadata": {
    "tags": []
   },
   "outputs": [
    {
     "name": "stdin",
     "output_type": "stream",
     "text": [
      "Introduce el numero1 1\n",
      "Introduce el numero2 5\n",
      "Introduce una operación 3\n"
     ]
    },
    {
     "name": "stdout",
     "output_type": "stream",
     "text": [
      "0.2\n"
     ]
    }
   ],
   "source": [
    "def Sumar(numero1,numero2):\n",
    "    return(numero1+numero2)\n",
    "def Restar(numero1,numero2):\n",
    "    return(numero1-numero2)\n",
    "def Dividir(numero1,numero2):\n",
    "    return(numero1/numero2)\n",
    "def Multiplicar(numero1,numero2):\n",
    "    return(numero1*numero2)\n",
    "\n",
    "numero1 = int(input(\"Introduce el numero1\",))\n",
    "numero2 = int(input(\"Introduce el numero2\",))\n",
    "\n",
    "operacion = int(input(\"Introduce una operación\",))\n",
    "\n",
    "if operacion == 1:\n",
    "    resultado = Sumar(numero1, numero2)\n",
    "elif  operacion == 2:\n",
    "    resultado = Restar(numero1, numero2)\n",
    "elif  operacion == 3:\n",
    "    resultado = Dividir(numero1, numero2)\n",
    "elif  operacion == 4:\n",
    "    resultado = Multiplicar(numero1, numero2)\n",
    "else:\n",
    "    print(\"Operación no válida\")\n",
    "\n",
    "print(resultado)\n"
   ]
  },
  {
   "cell_type": "markdown",
   "id": "24a4b422-b098-4e19-8c05-612abef2c710",
   "metadata": {},
   "source": [
    "Ejercicio 3: Introduce 10 números y guardaros en una lista, muéstralos mediante for."
   ]
  },
  {
   "cell_type": "code",
   "execution_count": 221,
   "id": "8fac1368-1896-4d61-916f-95a57c4ba043",
   "metadata": {
    "tags": []
   },
   "outputs": [
    {
     "name": "stdin",
     "output_type": "stream",
     "text": [
      " 7\n",
      " 0\n",
      " 2\n",
      " 3\n",
      " 78\n",
      " 4\n",
      " 56\n",
      " 8\n",
      " 0\n",
      " 89\n"
     ]
    },
    {
     "name": "stdout",
     "output_type": "stream",
     "text": [
      "[7, 0, 2, 3, 78, 4, 56, 8, 0, 89]\n"
     ]
    }
   ],
   "source": [
    "lista = []\n",
    "\n",
    "for x in range(10):\n",
    "    numero =int(input())\n",
    "    lista.append(numero)\n",
    "    \n",
    "print(lista)"
   ]
  },
  {
   "cell_type": "markdown",
   "id": "e4088c0f-0af4-44a7-9387-085183b7b418",
   "metadata": {},
   "source": [
    "Ejercicio 4: Ordena la lista anterior y muéstrala"
   ]
  },
  {
   "cell_type": "code",
   "execution_count": 228,
   "id": "23ca8312-8489-4e35-81c7-210918182f20",
   "metadata": {
    "tags": []
   },
   "outputs": [
    {
     "name": "stdout",
     "output_type": "stream",
     "text": [
      "[0, 0, 2, 3, 4, 7, 8, 56, 78, 89]\n"
     ]
    }
   ],
   "source": [
    "print(sorted(lista))"
   ]
  }
 ],
 "metadata": {
  "kernelspec": {
   "display_name": "Python 3 (ipykernel)",
   "language": "python",
   "name": "python3"
  },
  "language_info": {
   "codemirror_mode": {
    "name": "ipython",
    "version": 3
   },
   "file_extension": ".py",
   "mimetype": "text/x-python",
   "name": "python",
   "nbconvert_exporter": "python",
   "pygments_lexer": "ipython3",
   "version": "3.11.7"
  }
 },
 "nbformat": 4,
 "nbformat_minor": 5
}
