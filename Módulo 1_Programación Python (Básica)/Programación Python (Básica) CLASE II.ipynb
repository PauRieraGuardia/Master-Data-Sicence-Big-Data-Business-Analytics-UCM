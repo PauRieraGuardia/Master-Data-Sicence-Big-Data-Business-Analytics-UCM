{
 "cells": [
  {
   "cell_type": "markdown",
   "id": "77d432c5-2c15-4c88-81c1-70a6272d6110",
   "metadata": {},
   "source": [
    "### Programación Python (Básica) CLASE II"
   ]
  },
  {
   "cell_type": "markdown",
   "id": "deb09640-85be-4e6f-b599-3ea201521ad6",
   "metadata": {},
   "source": [
    "#### Ejercicio 1"
   ]
  },
  {
   "cell_type": "code",
   "execution_count": 3,
   "id": "35387cc0-0d68-44ea-915f-2cd483e0829f",
   "metadata": {
    "tags": []
   },
   "outputs": [],
   "source": [
    "Valor1 = 5\n",
    "Valor2 = \"Comiendo a programar\""
   ]
  },
  {
   "cell_type": "markdown",
   "id": "4aa81a32-8f18-40b2-ac59-f925bc0822b4",
   "metadata": {},
   "source": [
    "#### Ejercicio 2"
   ]
  },
  {
   "cell_type": "code",
   "execution_count": 5,
   "id": "804d1a57-401c-4760-af96-adf7341fbd8b",
   "metadata": {
    "tags": []
   },
   "outputs": [
    {
     "name": "stdout",
     "output_type": "stream",
     "text": [
      "Como te llamas?\n"
     ]
    },
    {
     "name": "stdin",
     "output_type": "stream",
     "text": [
      " Pau\n"
     ]
    },
    {
     "name": "stdout",
     "output_type": "stream",
     "text": [
      "Buenos días, Pau\n"
     ]
    }
   ],
   "source": [
    "print(\"Como te llamas?\")\n",
    "Nombre = input()\n",
    "print(\"Buenos días, \" + Nombre)"
   ]
  },
  {
   "cell_type": "markdown",
   "id": "b388bfce-2053-47be-9bfd-10c80ef01bde",
   "metadata": {},
   "source": [
    "#### Ejercicio 3"
   ]
  },
  {
   "cell_type": "code",
   "execution_count": 7,
   "id": "1ec9a71e-949a-432d-8612-cfe0722567c1",
   "metadata": {
    "tags": []
   },
   "outputs": [
    {
     "name": "stdin",
     "output_type": "stream",
     "text": [
      " -6\n"
     ]
    },
    {
     "name": "stdout",
     "output_type": "stream",
     "text": [
      "Menor que 0\n"
     ]
    }
   ],
   "source": [
    "numero = int(input())\n",
    "if numero > 0:\n",
    "    print(\"Mayor que 0\")\n",
    "else:\n",
    "    print(\"Menor que 0\")"
   ]
  },
  {
   "cell_type": "markdown",
   "id": "2a2a2c6c-7513-41c2-931c-c4898fe477c3",
   "metadata": {},
   "source": [
    "#### Ejercicio 4"
   ]
  },
  {
   "cell_type": "code",
   "execution_count": 9,
   "id": "45132efe-7de4-410f-902f-54099b56f3a0",
   "metadata": {
    "tags": []
   },
   "outputs": [
    {
     "name": "stdin",
     "output_type": "stream",
     "text": [
      " 1\n",
      " 1\n",
      " 1\n"
     ]
    },
    {
     "name": "stdout",
     "output_type": "stream",
     "text": [
      "Son iguales\n"
     ]
    }
   ],
   "source": [
    "numero1 = int(input())\n",
    "numero2 = int(input())\n",
    "numero3 = int(input())\n",
    "\n",
    "if numero1 != numero2 or numero1 != numero3:\n",
    "    if numero1 > numero2 and numero1 > numero3:\n",
    "        print (\"Numero 1 mayor\")\n",
    "    if numero2 > numero1 and numero2 > numero3:\n",
    "        print(\"Numero 2 mayor\")\n",
    "    if numero3 > numero1 and numero3 > numero2:\n",
    "        print(\"Numero 3 mayor\")     \n",
    "else: \n",
    "    print(\"Son iguales\")"
   ]
  },
  {
   "cell_type": "markdown",
   "id": "c1ffe8d6-58e3-4844-ac62-6693c1b6590e",
   "metadata": {},
   "source": [
    "#### Ejercicio 5"
   ]
  },
  {
   "cell_type": "code",
   "execution_count": 11,
   "id": "4cdfee74-3eb3-4f7e-b781-af705221c929",
   "metadata": {
    "tags": []
   },
   "outputs": [
    {
     "name": "stdin",
     "output_type": "stream",
     "text": [
      " 1400\n"
     ]
    },
    {
     "name": "stdout",
     "output_type": "stream",
     "text": [
      "Valor  1400 entre 1000 y 1500\n"
     ]
    }
   ],
   "source": [
    "numero = int(input())\n",
    "while numero < 1000 or numero > 1500:\n",
    "    print(\"Dame otro numero\")\n",
    "    numero = int(input())\n",
    "else: \n",
    "    print(\"Valor \",numero, \"entre 1000 y 1500\")"
   ]
  },
  {
   "cell_type": "markdown",
   "id": "5078d27f-901b-42bc-acd5-b3d7deb69fc2",
   "metadata": {},
   "source": [
    "#### Ejercicio 6"
   ]
  },
  {
   "cell_type": "code",
   "execution_count": 13,
   "id": "e6336041-d96c-4c8a-9b9f-711522af3206",
   "metadata": {
    "tags": []
   },
   "outputs": [
    {
     "name": "stdin",
     "output_type": "stream",
     "text": [
      " 2\n"
     ]
    },
    {
     "name": "stdout",
     "output_type": "stream",
     "text": [
      "0\n",
      "2\n",
      "4\n",
      "6\n",
      "8\n",
      "10\n",
      "12\n",
      "14\n",
      "16\n",
      "18\n",
      "20\n"
     ]
    }
   ],
   "source": [
    "numero = int(input())\n",
    "\n",
    "for elemento in range(11):\n",
    "    resultado = numero * elemento\n",
    "    print(resultado)"
   ]
  },
  {
   "cell_type": "markdown",
   "id": "4f67828b-97ca-4cb5-99e1-ca8fbeb486c1",
   "metadata": {},
   "source": [
    "#### Ejercicio 7"
   ]
  },
  {
   "cell_type": "code",
   "execution_count": 15,
   "id": "2a41c321-a1bb-4e65-bd8f-9a4451b52b13",
   "metadata": {
    "tags": []
   },
   "outputs": [
    {
     "name": "stdout",
     "output_type": "stream",
     "text": [
      "Dame un numero\n"
     ]
    },
    {
     "name": "stdin",
     "output_type": "stream",
     "text": [
      " 1\n"
     ]
    },
    {
     "name": "stdout",
     "output_type": "stream",
     "text": [
      "Dame otro numero\n"
     ]
    },
    {
     "name": "stdin",
     "output_type": "stream",
     "text": [
      " 3\n"
     ]
    },
    {
     "name": "stdout",
     "output_type": "stream",
     "text": [
      "Dame una operacion\n"
     ]
    },
    {
     "name": "stdin",
     "output_type": "stream",
     "text": [
      " 1\n"
     ]
    },
    {
     "name": "stdout",
     "output_type": "stream",
     "text": [
      "4\n"
     ]
    }
   ],
   "source": [
    "print(\"Dame un numero\") \n",
    "numero1 = int(input())\n",
    "print(\"Dame otro numero\")\n",
    "numero2 = int(input())\n",
    "print(\"Dame una operacion\")\n",
    "operacion = int(input())\n",
    "\n",
    "if operacion in range(1,5):\n",
    "    if operacion == 1:\n",
    "        resultado = numero1 + numero2\n",
    "        print(resultado)\n",
    "    if operacion == 2:\n",
    "        resultado = numero1 - numero2\n",
    "        print(resultado)\n",
    "    if operacion == 3:\n",
    "        resultado = numero1 * numero2\n",
    "        print(resultado)\n",
    "    if operacion == 4:\n",
    "        resultado = numero1 / numero2\n",
    "        print(resultado)\n",
    "else: \n",
    "    print(\"Operacion no valida\")"
   ]
  },
  {
   "cell_type": "markdown",
   "id": "5c886df6-cc48-46ed-a642-35e70524fe5e",
   "metadata": {},
   "source": [
    "#### Ejercicio 8"
   ]
  },
  {
   "cell_type": "code",
   "execution_count": 17,
   "id": "2690a3d9-ddf9-4bce-a53e-398f6063747e",
   "metadata": {
    "tags": []
   },
   "outputs": [
    {
     "name": "stdout",
     "output_type": "stream",
     "text": [
      "Introduce una nota\n"
     ]
    },
    {
     "name": "stdin",
     "output_type": "stream",
     "text": [
      " 8\n"
     ]
    },
    {
     "name": "stdout",
     "output_type": "stream",
     "text": [
      "Notable\n"
     ]
    }
   ],
   "source": [
    "print(\"Introduce una nota\")\n",
    "nota = int(input())\n",
    "\n",
    "if nota in range(1,5):\n",
    "    print (\"Suspenso\")\n",
    "if nota in range(5,7):\n",
    "    print (\"Bien\")\n",
    "if nota in range(7,9):\n",
    "    print (\"Notable\")\n",
    "if nota in range(9,11):\n",
    "    print (\"Sobresaliente\")\n"
   ]
  },
  {
   "cell_type": "markdown",
   "id": "d8684b64-6cf9-4c47-9006-9c37ecbbad89",
   "metadata": {},
   "source": [
    "#### Ejercicio 9"
   ]
  },
  {
   "cell_type": "code",
   "execution_count": 19,
   "id": "47e927c3-2e35-41c5-81bc-7d60bb421262",
   "metadata": {
    "tags": []
   },
   "outputs": [
    {
     "name": "stdin",
     "output_type": "stream",
     "text": [
      " e\n"
     ]
    },
    {
     "name": "stdout",
     "output_type": "stream",
     "text": [
      "Otra letra\n"
     ]
    },
    {
     "name": "stdin",
     "output_type": "stream",
     "text": [
      " r\n"
     ]
    },
    {
     "name": "stdout",
     "output_type": "stream",
     "text": [
      "Otra letra\n"
     ]
    },
    {
     "name": "stdin",
     "output_type": "stream",
     "text": [
      " E\n"
     ]
    },
    {
     "name": "stdout",
     "output_type": "stream",
     "text": [
      "E\n",
      "Otra letra\n"
     ]
    },
    {
     "name": "stdin",
     "output_type": "stream",
     "text": [
      " R\n"
     ]
    },
    {
     "name": "stdout",
     "output_type": "stream",
     "text": [
      "ER\n",
      "ERR\n",
      "Otra letra\n"
     ]
    },
    {
     "name": "stdin",
     "output_type": "stream",
     "text": [
      " R\n"
     ]
    },
    {
     "name": "stdout",
     "output_type": "stream",
     "text": [
      "Otra letra\n"
     ]
    },
    {
     "name": "stdin",
     "output_type": "stream",
     "text": [
      " O\n"
     ]
    },
    {
     "name": "stdout",
     "output_type": "stream",
     "text": [
      "ERRO\n",
      "Otra letra\n"
     ]
    },
    {
     "name": "stdin",
     "output_type": "stream",
     "text": [
      " R\n"
     ]
    },
    {
     "name": "stdout",
     "output_type": "stream",
     "text": [
      "ERROR\n"
     ]
    }
   ],
   "source": [
    "letra = input()\n",
    "\n",
    "while letra != \"E\":\n",
    "    print(\"Otra letra\")\n",
    "    letra = input()\n",
    "else: \n",
    "    print(\"E\")\n",
    "        \n",
    "    while letra != \"R\":\n",
    "        print(\"Otra letra\")\n",
    "        letra = input()\n",
    "    else: \n",
    "        print(\"ER\")\n",
    "        \n",
    "        while letra != \"R\":\n",
    "            print(\"Otra letra\")\n",
    "            letra = input()\n",
    "        else: \n",
    "            print(\"ERR\")\n",
    "            \n",
    "            while letra != \"O\":\n",
    "                print(\"Otra letra\")\n",
    "                letra = input()\n",
    "            else: \n",
    "                print(\"ERRO\")\n",
    "                while letra != \"R\":\n",
    "                    print(\"Otra letra\")\n",
    "                    letra = input()\n",
    "                else: \n",
    "                    print(\"ERROR\")"
   ]
  },
  {
   "cell_type": "markdown",
   "id": "69b91eec-030f-4f41-9e4b-d0479c6e93b8",
   "metadata": {},
   "source": [
    "#### Ejercicio 10"
   ]
  },
  {
   "cell_type": "code",
   "execution_count": 21,
   "id": "91ea0698-cb31-47b1-af21-4cd7f2881ea9",
   "metadata": {
    "tags": []
   },
   "outputs": [
    {
     "name": "stdout",
     "output_type": "stream",
     "text": [
      "Piensa un número del 1 al 1000\n"
     ]
    },
    {
     "name": "stdin",
     "output_type": "stream",
     "text": [
      " 5\n"
     ]
    },
    {
     "name": "stdout",
     "output_type": "stream",
     "text": [
      "Di un número del 1 al 1000\n"
     ]
    },
    {
     "name": "stdin",
     "output_type": "stream",
     "text": [
      " 1\n"
     ]
    },
    {
     "name": "stdout",
     "output_type": "stream",
     "text": [
      "Prueba con otro numero\n"
     ]
    },
    {
     "name": "stdin",
     "output_type": "stream",
     "text": [
      " 2\n"
     ]
    },
    {
     "name": "stdout",
     "output_type": "stream",
     "text": [
      "Prueba con otro numero\n"
     ]
    },
    {
     "name": "stdin",
     "output_type": "stream",
     "text": [
      " 3\n"
     ]
    },
    {
     "name": "stdout",
     "output_type": "stream",
     "text": [
      "Prueba con otro numero\n"
     ]
    },
    {
     "name": "stdin",
     "output_type": "stream",
     "text": [
      " 4\n"
     ]
    },
    {
     "name": "stdout",
     "output_type": "stream",
     "text": [
      "Prueba con otro numero\n"
     ]
    },
    {
     "name": "stdin",
     "output_type": "stream",
     "text": [
      " 6\n"
     ]
    },
    {
     "name": "stdout",
     "output_type": "stream",
     "text": [
      "Prueba con otro numero\n"
     ]
    },
    {
     "name": "stdin",
     "output_type": "stream",
     "text": [
      " 7\n"
     ]
    },
    {
     "name": "stdout",
     "output_type": "stream",
     "text": [
      "Prueba con otro numero\n"
     ]
    },
    {
     "name": "stdin",
     "output_type": "stream",
     "text": [
      " 8\n"
     ]
    },
    {
     "name": "stdout",
     "output_type": "stream",
     "text": [
      "Prueba con otro numero\n"
     ]
    },
    {
     "name": "stdin",
     "output_type": "stream",
     "text": [
      " 9\n"
     ]
    },
    {
     "name": "stdout",
     "output_type": "stream",
     "text": [
      "Prueba con otro numero\n"
     ]
    },
    {
     "name": "stdin",
     "output_type": "stream",
     "text": [
      " 10\n"
     ]
    },
    {
     "name": "stdout",
     "output_type": "stream",
     "text": [
      "Prueba con otro numero\n"
     ]
    },
    {
     "name": "stdin",
     "output_type": "stream",
     "text": [
      " 11\n"
     ]
    },
    {
     "name": "stdout",
     "output_type": "stream",
     "text": [
      "Has perdido\n"
     ]
    }
   ],
   "source": [
    "print(\"Piensa un número del 1 al 1000\")\n",
    "numero_jugador_1 = int(input())\n",
    "print(\"Di un número del 1 al 1000\")\n",
    "numero_adivino = int(input())\n",
    "intento = 1\n",
    "\n",
    "while numero_jugador_1 != numero_adivino:\n",
    "    print(\"Prueba con otro numero\")\n",
    "    numero_adivino = int(input())\n",
    "    intento = intento + 1 \n",
    "    if  intento not in range(1,10):\n",
    "        print(\"Has perdido\")\n",
    "        break\n",
    "        \n",
    "else:\n",
    "    print(\"numero acertado\")\n",
    "    \n"
   ]
  },
  {
   "cell_type": "markdown",
   "id": "b4a1f591-cf0a-44cd-a173-c1e019491dd3",
   "metadata": {},
   "source": [
    "#### Ejercicios extra Variables, Operadores, IF"
   ]
  },
  {
   "cell_type": "markdown",
   "id": "9a20f2e5-befe-4d40-a5f6-5daf72afdae1",
   "metadata": {},
   "source": [
    "#### Ejercicio 1"
   ]
  },
  {
   "cell_type": "code",
   "execution_count": 24,
   "id": "8f04bb6e-45f2-4eb3-8303-0531c7e01bb7",
   "metadata": {
    "tags": []
   },
   "outputs": [
    {
     "name": "stdout",
     "output_type": "stream",
     "text": [
      "Introduce el año actual\n"
     ]
    },
    {
     "name": "stdin",
     "output_type": "stream",
     "text": [
      " 2025\n"
     ]
    },
    {
     "name": "stdout",
     "output_type": "stream",
     "text": [
      "Introduce el año nacimiento\n"
     ]
    },
    {
     "name": "stdin",
     "output_type": "stream",
     "text": [
      " 2000\n"
     ]
    },
    {
     "name": "stdout",
     "output_type": "stream",
     "text": [
      "25 años\n"
     ]
    }
   ],
   "source": [
    "print(\"Introduce el año actual\")\n",
    "año_actual = int(input())\n",
    "print(\"Introduce el año nacimiento\")\n",
    "año_nacimiento = int(input())\n",
    "edad = año_actual - año_nacimiento\n",
    "\n",
    "print(edad, \"años\")"
   ]
  },
  {
   "cell_type": "markdown",
   "id": "e0ec8cd1-fa8e-4841-8b9d-f03f30850c51",
   "metadata": {},
   "source": [
    "#### Ejercicio 2"
   ]
  },
  {
   "cell_type": "code",
   "execution_count": 26,
   "id": "a098d2f1-9d99-4512-8a5b-b8c30668b26f",
   "metadata": {
    "tags": []
   },
   "outputs": [
    {
     "name": "stdout",
     "output_type": "stream",
     "text": [
      "Inserta un numero\n"
     ]
    },
    {
     "name": "stdin",
     "output_type": "stream",
     "text": [
      " 4\n"
     ]
    },
    {
     "name": "stdout",
     "output_type": "stream",
     "text": [
      "Se cumple una de las condiciones\n"
     ]
    }
   ],
   "source": [
    "print(\"Inserta un numero\")\n",
    "numero = int(input())\n",
    "\n",
    "if numero > 0 or numero < -100 and numero > -200:\n",
    "    print(\"Se cumple una de las condiciones\")\n",
    "else:\n",
    "    print(\"No se cumple ninguna de las condiciones\")"
   ]
  },
  {
   "cell_type": "markdown",
   "id": "2903959d-3f4b-468a-90ef-9630cef59d46",
   "metadata": {},
   "source": [
    "#### Ejercicio 3"
   ]
  },
  {
   "cell_type": "code",
   "execution_count": 28,
   "id": "3dfd1f7f-97c4-4c9f-8384-2b7058773dd4",
   "metadata": {
    "tags": []
   },
   "outputs": [
    {
     "name": "stdout",
     "output_type": "stream",
     "text": [
      "Introduce un numero\n"
     ]
    },
    {
     "name": "stdin",
     "output_type": "stream",
     "text": [
      " -4\n"
     ]
    },
    {
     "name": "stdout",
     "output_type": "stream",
     "text": [
      "valor NO entre -5 y -10\n"
     ]
    }
   ],
   "source": [
    "print(\"Introduce un numero\")\n",
    "numero = int(input())\n",
    "\n",
    "if numero >= -10 and numero <= -5:\n",
    "    numero_nuevo = numero*(-1)\n",
    "    print(numero_nuevo)\n",
    "else:\n",
    "    print(\"valor NO entre -5 y -10\")"
   ]
  },
  {
   "cell_type": "markdown",
   "id": "61b39bd8-499d-48d1-b4ce-7b14dd0b4804",
   "metadata": {},
   "source": [
    "#### Ejercicio 4"
   ]
  },
  {
   "cell_type": "code",
   "execution_count": 30,
   "id": "c10fcb57-3d50-4e56-8da5-a0fdad5b3070",
   "metadata": {
    "tags": []
   },
   "outputs": [
    {
     "name": "stdout",
     "output_type": "stream",
     "text": [
      "Introduce un año\n"
     ]
    },
    {
     "name": "stdin",
     "output_type": "stream",
     "text": [
      " 2000\n"
     ]
    },
    {
     "name": "stdout",
     "output_type": "stream",
     "text": [
      "año bisesto\n"
     ]
    }
   ],
   "source": [
    "print(\"Introduce un año\")\n",
    "año = int(input())\n",
    "\n",
    "if año % 4 == int() and not año % 100 == int() or año % 400 == int():\n",
    "    print(\"año bisesto\")\n",
    "else: \n",
    "    print(\"Año NO bisiesto\")"
   ]
  },
  {
   "cell_type": "markdown",
   "id": "5cce2bbe-b215-4662-b952-400eccfb7c11",
   "metadata": {},
   "source": [
    "#### Ejercicios extra while"
   ]
  },
  {
   "cell_type": "markdown",
   "id": "99f68665-b3a5-45a2-9edd-c01244907b66",
   "metadata": {},
   "source": [
    "#### Ejercicio 1"
   ]
  },
  {
   "cell_type": "code",
   "execution_count": null,
   "id": "2e81d76f-4969-4f00-855f-a241f2071ec6",
   "metadata": {
    "tags": []
   },
   "outputs": [],
   "source": [
    "numero = int(input())\n",
    "\n",
    "if numero >= 10 and numero <= 100:\n",
    "    while numero > 0: \n",
    "        numero = numero-1\n",
    "        print(numero)\n",
    "else:\n",
    "    print(\"Numero incorrecto\")"
   ]
  },
  {
   "cell_type": "markdown",
   "id": "cdcd2b03-8d30-434c-8563-a12b5332af7c",
   "metadata": {},
   "source": [
    "#### Ejercicio 2"
   ]
  },
  {
   "cell_type": "code",
   "execution_count": null,
   "id": "8c5b473c-07eb-4db8-9155-d9223d4deaea",
   "metadata": {
    "tags": []
   },
   "outputs": [],
   "source": [
    "numero = int(input())\n",
    "contador = 1\n",
    "\n",
    "while contador <= numero: \n",
    "    print(contador * \"#\")\n",
    "    contador = contador + 1"
   ]
  },
  {
   "cell_type": "markdown",
   "id": "ef0a0d86-45bd-4466-b0b5-9cd717bba655",
   "metadata": {},
   "source": [
    "#### Ejercicio 3"
   ]
  },
  {
   "cell_type": "code",
   "execution_count": null,
   "id": "efe0ef06-ba82-4694-b902-dc2e40c5c6c9",
   "metadata": {
    "tags": []
   },
   "outputs": [],
   "source": [
    "numero = int(input())\n",
    "\n",
    "if numero < 2:\n",
    "    print(\"No es primo\")\n",
    "else:\n",
    "    divisor = 2\n",
    "    es_primo = True\n",
    "    \n",
    "    while divisior <= numero // 2:\n",
    "        if numero % divisor == 0:\n",
    "            es_primo= False \n",
    "            break\n",
    "        divisor = divisor + 1\n",
    "    \n",
    "    if es_primo:\n",
    "        print(\"Es primo\")\n",
    "    else:\n",
    "        print(\"No es primo\")\n",
    "\n"
   ]
  },
  {
   "cell_type": "markdown",
   "id": "589d84aa-85c7-4b6b-aac3-8bdbaeb031f8",
   "metadata": {},
   "source": [
    "#### Ejercicios Extra For"
   ]
  },
  {
   "cell_type": "markdown",
   "id": "b70214c4-95d2-4224-bc2d-f8d25891ed49",
   "metadata": {},
   "source": [
    "#### Ejercicio 1"
   ]
  },
  {
   "cell_type": "code",
   "execution_count": null,
   "id": "3e55657c-65ef-497d-8909-013444b03dfd",
   "metadata": {
    "tags": []
   },
   "outputs": [],
   "source": [
    "Texto = \"Hola que tal estas\"\n",
    "busqueda = input()\n",
    "contador = 0\n",
    "\n",
    "for letra in Texto:\n",
    "    if letra == busqueda:\n",
    "        contador = contador + 1\n",
    "\n",
    "if contador > 0:\n",
    "    print(\"Letra\",busqueda,\"encontrada\", contador ,\"veces\")\n",
    "\n",
    "else: \n",
    "    print(\"Letra no encontrada\")"
   ]
  }
 ],
 "metadata": {
  "kernelspec": {
   "display_name": "Python 3 (ipykernel)",
   "language": "python",
   "name": "python3"
  },
  "language_info": {
   "codemirror_mode": {
    "name": "ipython",
    "version": 3
   },
   "file_extension": ".py",
   "mimetype": "text/x-python",
   "name": "python",
   "nbconvert_exporter": "python",
   "pygments_lexer": "ipython3",
   "version": "3.11.7"
  }
 },
 "nbformat": 4,
 "nbformat_minor": 5
}
