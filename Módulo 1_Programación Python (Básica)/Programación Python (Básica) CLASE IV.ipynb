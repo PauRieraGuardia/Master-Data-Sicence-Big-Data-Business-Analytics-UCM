{
 "cells": [
  {
   "cell_type": "markdown",
   "id": "72db403f-1dbc-44c5-b40e-87109b6bf4ed",
   "metadata": {},
   "source": [
    "### Programación Python (Básica) CLASE IV"
   ]
  },
  {
   "cell_type": "code",
   "execution_count": 25,
   "id": "e0879735-0ef2-4540-8b5d-47c1d96aac69",
   "metadata": {
    "tags": []
   },
   "outputs": [
    {
     "name": "stdout",
     "output_type": "stream",
     "text": [
      "Requirement already satisfied: OPENPYXL in c:\\users\\pauri\\anaconda3\\lib\\site-packages (3.0.10)\n",
      "Requirement already satisfied: et_xmlfile in c:\\users\\pauri\\anaconda3\\lib\\site-packages (from OPENPYXL) (1.1.0)\n",
      "Note: you may need to restart the kernel to use updated packages.\n"
     ]
    }
   ],
   "source": [
    "pip install OPENPYXL"
   ]
  },
  {
   "cell_type": "markdown",
   "id": "d1ddc02f-df7c-435a-9490-0dff37ba9c5f",
   "metadata": {},
   "source": [
    "Ejercicio 1: Crea un modulo que podamos usar para obtener aleatoriamente notas entre 1 y 10 "
   ]
  },
  {
   "cell_type": "code",
   "execution_count": 27,
   "id": "32ba5928-e458-43bd-8cd6-d2d6e8e863d4",
   "metadata": {
    "tags": []
   },
   "outputs": [],
   "source": [
    "import NumeroRandom as R"
   ]
  },
  {
   "cell_type": "code",
   "execution_count": 28,
   "id": "5e6b1390-aaae-4e85-a772-143d6521e46f",
   "metadata": {
    "tags": []
   },
   "outputs": [
    {
     "data": {
      "text/plain": [
       "7"
      ]
     },
     "execution_count": 28,
     "metadata": {},
     "output_type": "execute_result"
    }
   ],
   "source": [
    "R.numero_random()"
   ]
  },
  {
   "cell_type": "markdown",
   "id": "05742722-218f-45ee-bdf4-70d1fc3cb032",
   "metadata": {},
   "source": [
    "Ejercicio 2: Utilizando el modulo anterior obtén 30 notas aleatorias y guardaras en Excel"
   ]
  },
  {
   "cell_type": "code",
   "execution_count": 30,
   "id": "2f59a7a8-caaf-41ab-8ade-1f7219cbecac",
   "metadata": {
    "tags": []
   },
   "outputs": [
    {
     "name": "stdout",
     "output_type": "stream",
     "text": [
      "[9, 9, 8, 10, 6, 1, 3, 8, 4, 10, 3, 5, 2, 9, 3, 5, 9, 2, 3, 10, 5, 2, 7, 3, 5, 7, 2, 10, 7, 7]\n"
     ]
    }
   ],
   "source": [
    "lista = []\n",
    "\n",
    "for x in range(30):\n",
    "    numero = R.numero_random()\n",
    "    lista.append(numero)\n",
    "print(lista)"
   ]
  },
  {
   "cell_type": "code",
   "execution_count": 31,
   "id": "9332e081-b530-452c-8992-dbea1088c000",
   "metadata": {
    "tags": []
   },
   "outputs": [],
   "source": [
    "import openpyxl"
   ]
  },
  {
   "cell_type": "code",
   "execution_count": 32,
   "id": "3496450b-8073-4925-9291-05dcdf6bd93f",
   "metadata": {
    "tags": []
   },
   "outputs": [],
   "source": [
    "excel_document = openpyxl.load_workbook(\"C:/Users/pauri/OneDrive/Escritorio/Programación Python Básica.xlsx\")\n",
    "hoja = excel_document[\"Sheet1\"]\n",
    "\n",
    "hoja.append(lista)\n",
    "\n",
    "excel_document.save(\"C:/Users/pauri/OneDrive/Escritorio/Programación Python Básica.xlsx\")"
   ]
  },
  {
   "cell_type": "markdown",
   "id": "949addb3-0947-411d-8767-10cfcfa82709",
   "metadata": {},
   "source": [
    "Ejercicio 3: Crea un grafico que muestre si hay mas aprobados o suspensos"
   ]
  },
  {
   "cell_type": "code",
   "execution_count": 34,
   "id": "4ae9ac28-aa3b-4ed7-8d61-72f2e7d836e5",
   "metadata": {
    "tags": []
   },
   "outputs": [],
   "source": [
    "import matplotlib.pyplot as plt"
   ]
  },
  {
   "cell_type": "code",
   "execution_count": 53,
   "id": "41856f18-79c6-4e79-b933-a568bae7932c",
   "metadata": {
    "tags": []
   },
   "outputs": [
    {
     "data": {
      "text/plain": [
       "<BarContainer object of 2 artists>"
      ]
     },
     "execution_count": 53,
     "metadata": {},
     "output_type": "execute_result"
    },
    {
     "data": {
      "image/png": "[encoded data removed]",
      "text/plain": [
       "<Figure size 640x480 with 1 Axes>"
      ]
     },
     "metadata": {},
     "output_type": "display_data"
    }
   ],
   "source": [
    "aprobados = 0\n",
    "suspensos = 0\n",
    "\n",
    "for x in lista:\n",
    "    if x<5:\n",
    "        suspensos = suspensos +1\n",
    "    else:\n",
    "        aprobados = aprobados + 1\n",
    "\n",
    "x = [\"Aprobados\",\"Suspensos\"]\n",
    "y = [aprobados,suspensos]\n",
    "plt.bar(x,y)"
   ]
  },
  {
   "cell_type": "markdown",
   "id": "4f503957-9d56-4536-beb0-004ca0743406",
   "metadata": {},
   "source": [
    "Ejercicio 4: Avanzado. Investiga la librería PANDAS, instalará y utilizara con Excel."
   ]
  },
  {
   "cell_type": "code",
   "execution_count": 55,
   "id": "c6f16eab-4b53-4cb5-ad23-993ff1a42a45",
   "metadata": {
    "tags": []
   },
   "outputs": [],
   "source": [
    "import pandas as pd"
   ]
  }
 ],
 "metadata": {
  "kernelspec": {
   "display_name": "Python 3 (ipykernel)",
   "language": "python",
   "name": "python3"
  },
  "language_info": {
   "codemirror_mode": {
    "name": "ipython",
    "version": 3
   },
   "file_extension": ".py",
   "mimetype": "text/x-python",
   "name": "python",
   "nbconvert_exporter": "python",
   "pygments_lexer": "ipython3",
   "version": "3.11.7"
  }
 },
 "nbformat": 4,
 "nbformat_minor": 5
}
